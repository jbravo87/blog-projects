{
 "cells": [
  {
   "cell_type": "markdown",
   "id": "8fd7e8af",
   "metadata": {},
   "source": [
    "# Planetary Data Analysis Notebook"
   ]
  },
  {
   "cell_type": "markdown",
   "id": "80d1d1e9",
   "metadata": {},
   "source": [
    "For the first part of this script, I will solely focus on the kNN supervised learning technique applied to the data pertaining to exoplanets from NASA."
   ]
  },
  {
   "cell_type": "code",
   "execution_count": 1,
   "id": "68493711",
   "metadata": {},
   "outputs": [],
   "source": [
    "# Import necessary libraries\n",
    "from random import seed\n",
    "from random import randrange\n",
    "import pandas as pd\n",
    "import matplotlib.pyplot as plt\n",
    "import numpy as np\n",
    "import statistics\n",
    "import seaborn as sns\n",
    "from sklearn.preprocessing import RobustScaler\n",
    "from sklearn.neighbors import KNeighborsRegressor\n",
    "from  sklearn.metrics import mean_squared_error, r2_score\n",
    "from scipy import stats\n",
    "#import plotly.express as px"
   ]
  },
  {
   "cell_type": "markdown",
   "id": "ebb5cbc8",
   "metadata": {},
   "source": [
    "As a resampling method, will use the train-test-split (tts) method. Will bundle the logic of tts into a function."
   ]
  },
  {
   "cell_type": "code",
   "execution_count": 2,
   "id": "d245cf60",
   "metadata": {},
   "outputs": [],
   "source": [
    "seed(1235)\n",
    "def tts(data, split = 0.80):\n",
    "    train = list()\n",
    "    train_size = split*len(data)\n",
    "    data_copy = list(data)\n",
    "    while len(train) < train_size :\n",
    "        index = randrange(len(data_copy))\n",
    "        train.append(data_copy.pop(index))\n",
    "    return np.array(train), np.array(data_copy)"
   ]
  },
  {
   "cell_type": "code",
   "execution_count": 3,
   "id": "002eed27",
   "metadata": {
    "scrolled": true
   },
   "outputs": [],
   "source": [
    "# Assign path of data to a variable.\n",
    "# Initiatiate first data frame with raw data.\n",
    "path1 = 'J:\\\\datasets\\\\PS_2022.02.27_18.46.12.csv'\n",
    "path2 = 'D:\\\\PS_2022.04.09_12.16.22.csv'\n",
    "raw_data = pd.read_csv(path2, skiprows = 20)"
   ]
  },
  {
   "cell_type": "markdown",
   "id": "7259c599",
   "metadata": {},
   "source": [
    "Need to remove the first thirteen rows. These rows contain copious notes/remarks."
   ]
  },
  {
   "cell_type": "code",
   "execution_count": 4,
   "id": "ed0c3507",
   "metadata": {},
   "outputs": [],
   "source": [
    "#raw_data = raw_data.drop(raw_data.index[range(14)])"
   ]
  },
  {
   "cell_type": "code",
   "execution_count": 5,
   "id": "05d451ea",
   "metadata": {},
   "outputs": [
    {
     "data": {
      "text/html": [
       "<div>\n",
       "<style scoped>\n",
       "    .dataframe tbody tr th:only-of-type {\n",
       "        vertical-align: middle;\n",
       "    }\n",
       "\n",
       "    .dataframe tbody tr th {\n",
       "        vertical-align: top;\n",
       "    }\n",
       "\n",
       "    .dataframe thead th {\n",
       "        text-align: right;\n",
       "    }\n",
       "</style>\n",
       "<table border=\"1\" class=\"dataframe\">\n",
       "  <thead>\n",
       "    <tr style=\"text-align: right;\">\n",
       "      <th></th>\n",
       "      <th>pl_name</th>\n",
       "      <th>hostname</th>\n",
       "      <th>default_flag</th>\n",
       "      <th>soltype</th>\n",
       "      <th>pl_orbper</th>\n",
       "      <th>pl_orbpererr1</th>\n",
       "      <th>pl_orbpererr2</th>\n",
       "      <th>pl_orbperlim</th>\n",
       "      <th>pl_orbeccen</th>\n",
       "      <th>pl_orbeccenerr1</th>\n",
       "      <th>pl_orbeccenerr2</th>\n",
       "      <th>pl_orbeccenlim</th>\n",
       "    </tr>\n",
       "  </thead>\n",
       "  <tbody>\n",
       "    <tr>\n",
       "      <th>0</th>\n",
       "      <td>11 Com b</td>\n",
       "      <td>11 Com</td>\n",
       "      <td>1</td>\n",
       "      <td>Published Confirmed</td>\n",
       "      <td>326.030000</td>\n",
       "      <td>0.320000</td>\n",
       "      <td>-0.320000</td>\n",
       "      <td>0.0</td>\n",
       "      <td>0.2310</td>\n",
       "      <td>0.0050</td>\n",
       "      <td>-0.0050</td>\n",
       "      <td>0.0</td>\n",
       "    </tr>\n",
       "    <tr>\n",
       "      <th>1</th>\n",
       "      <td>11 UMi b</td>\n",
       "      <td>11 UMi</td>\n",
       "      <td>1</td>\n",
       "      <td>Published Confirmed</td>\n",
       "      <td>516.219970</td>\n",
       "      <td>3.200000</td>\n",
       "      <td>-3.200000</td>\n",
       "      <td>0.0</td>\n",
       "      <td>0.0800</td>\n",
       "      <td>0.0300</td>\n",
       "      <td>-0.0300</td>\n",
       "      <td>0.0</td>\n",
       "    </tr>\n",
       "    <tr>\n",
       "      <th>2</th>\n",
       "      <td>14 And b</td>\n",
       "      <td>14 And</td>\n",
       "      <td>1</td>\n",
       "      <td>Published Confirmed</td>\n",
       "      <td>185.840000</td>\n",
       "      <td>0.230000</td>\n",
       "      <td>-0.230000</td>\n",
       "      <td>0.0</td>\n",
       "      <td>0.0000</td>\n",
       "      <td>NaN</td>\n",
       "      <td>NaN</td>\n",
       "      <td>0.0</td>\n",
       "    </tr>\n",
       "    <tr>\n",
       "      <th>3</th>\n",
       "      <td>14 Her b</td>\n",
       "      <td>14 Her</td>\n",
       "      <td>1</td>\n",
       "      <td>Published Confirmed</td>\n",
       "      <td>1773.400020</td>\n",
       "      <td>2.500000</td>\n",
       "      <td>-2.500000</td>\n",
       "      <td>0.0</td>\n",
       "      <td>0.3700</td>\n",
       "      <td>0.0000</td>\n",
       "      <td>0.0000</td>\n",
       "      <td>0.0</td>\n",
       "    </tr>\n",
       "    <tr>\n",
       "      <th>4</th>\n",
       "      <td>16 Cyg B b</td>\n",
       "      <td>16 Cyg B</td>\n",
       "      <td>1</td>\n",
       "      <td>Published Confirmed</td>\n",
       "      <td>798.500000</td>\n",
       "      <td>1.000000</td>\n",
       "      <td>-1.000000</td>\n",
       "      <td>0.0</td>\n",
       "      <td>0.6800</td>\n",
       "      <td>0.0200</td>\n",
       "      <td>-0.0200</td>\n",
       "      <td>0.0</td>\n",
       "    </tr>\n",
       "    <tr>\n",
       "      <th>...</th>\n",
       "      <td>...</td>\n",
       "      <td>...</td>\n",
       "      <td>...</td>\n",
       "      <td>...</td>\n",
       "      <td>...</td>\n",
       "      <td>...</td>\n",
       "      <td>...</td>\n",
       "      <td>...</td>\n",
       "      <td>...</td>\n",
       "      <td>...</td>\n",
       "      <td>...</td>\n",
       "      <td>...</td>\n",
       "    </tr>\n",
       "    <tr>\n",
       "      <th>5004</th>\n",
       "      <td>ups And b</td>\n",
       "      <td>ups And</td>\n",
       "      <td>1</td>\n",
       "      <td>Published Confirmed</td>\n",
       "      <td>4.617033</td>\n",
       "      <td>0.000023</td>\n",
       "      <td>-0.000023</td>\n",
       "      <td>0.0</td>\n",
       "      <td>0.0215</td>\n",
       "      <td>0.0007</td>\n",
       "      <td>-0.0007</td>\n",
       "      <td>0.0</td>\n",
       "    </tr>\n",
       "    <tr>\n",
       "      <th>5005</th>\n",
       "      <td>ups And c</td>\n",
       "      <td>ups And</td>\n",
       "      <td>1</td>\n",
       "      <td>Published Confirmed</td>\n",
       "      <td>241.258000</td>\n",
       "      <td>0.064000</td>\n",
       "      <td>-0.064000</td>\n",
       "      <td>0.0</td>\n",
       "      <td>0.2596</td>\n",
       "      <td>0.0079</td>\n",
       "      <td>-0.0079</td>\n",
       "      <td>0.0</td>\n",
       "    </tr>\n",
       "    <tr>\n",
       "      <th>5006</th>\n",
       "      <td>ups And d</td>\n",
       "      <td>ups And</td>\n",
       "      <td>1</td>\n",
       "      <td>Published Confirmed</td>\n",
       "      <td>1276.460000</td>\n",
       "      <td>0.570000</td>\n",
       "      <td>-0.570000</td>\n",
       "      <td>0.0</td>\n",
       "      <td>0.2987</td>\n",
       "      <td>0.0072</td>\n",
       "      <td>-0.0072</td>\n",
       "      <td>0.0</td>\n",
       "    </tr>\n",
       "    <tr>\n",
       "      <th>5007</th>\n",
       "      <td>ups Leo b</td>\n",
       "      <td>ups Leo</td>\n",
       "      <td>1</td>\n",
       "      <td>Published Confirmed</td>\n",
       "      <td>385.200000</td>\n",
       "      <td>2.800000</td>\n",
       "      <td>-1.300000</td>\n",
       "      <td>0.0</td>\n",
       "      <td>0.3200</td>\n",
       "      <td>0.1340</td>\n",
       "      <td>-0.2180</td>\n",
       "      <td>0.0</td>\n",
       "    </tr>\n",
       "    <tr>\n",
       "      <th>5008</th>\n",
       "      <td>xi Aql b</td>\n",
       "      <td>xi Aql</td>\n",
       "      <td>1</td>\n",
       "      <td>Published Confirmed</td>\n",
       "      <td>136.750000</td>\n",
       "      <td>0.250000</td>\n",
       "      <td>-0.250000</td>\n",
       "      <td>0.0</td>\n",
       "      <td>0.0000</td>\n",
       "      <td>NaN</td>\n",
       "      <td>NaN</td>\n",
       "      <td>0.0</td>\n",
       "    </tr>\n",
       "  </tbody>\n",
       "</table>\n",
       "<p>5009 rows × 12 columns</p>\n",
       "</div>"
      ],
      "text/plain": [
       "         pl_name  hostname  default_flag              soltype    pl_orbper  \\\n",
       "0       11 Com b    11 Com             1  Published Confirmed   326.030000   \n",
       "1       11 UMi b    11 UMi             1  Published Confirmed   516.219970   \n",
       "2       14 And b    14 And             1  Published Confirmed   185.840000   \n",
       "3       14 Her b    14 Her             1  Published Confirmed  1773.400020   \n",
       "4     16 Cyg B b  16 Cyg B             1  Published Confirmed   798.500000   \n",
       "...          ...       ...           ...                  ...          ...   \n",
       "5004   ups And b   ups And             1  Published Confirmed     4.617033   \n",
       "5005   ups And c   ups And             1  Published Confirmed   241.258000   \n",
       "5006   ups And d   ups And             1  Published Confirmed  1276.460000   \n",
       "5007   ups Leo b   ups Leo             1  Published Confirmed   385.200000   \n",
       "5008    xi Aql b    xi Aql             1  Published Confirmed   136.750000   \n",
       "\n",
       "      pl_orbpererr1  pl_orbpererr2  pl_orbperlim  pl_orbeccen  \\\n",
       "0          0.320000      -0.320000           0.0       0.2310   \n",
       "1          3.200000      -3.200000           0.0       0.0800   \n",
       "2          0.230000      -0.230000           0.0       0.0000   \n",
       "3          2.500000      -2.500000           0.0       0.3700   \n",
       "4          1.000000      -1.000000           0.0       0.6800   \n",
       "...             ...            ...           ...          ...   \n",
       "5004       0.000023      -0.000023           0.0       0.0215   \n",
       "5005       0.064000      -0.064000           0.0       0.2596   \n",
       "5006       0.570000      -0.570000           0.0       0.2987   \n",
       "5007       2.800000      -1.300000           0.0       0.3200   \n",
       "5008       0.250000      -0.250000           0.0       0.0000   \n",
       "\n",
       "      pl_orbeccenerr1  pl_orbeccenerr2  pl_orbeccenlim  \n",
       "0              0.0050          -0.0050             0.0  \n",
       "1              0.0300          -0.0300             0.0  \n",
       "2                 NaN              NaN             0.0  \n",
       "3              0.0000           0.0000             0.0  \n",
       "4              0.0200          -0.0200             0.0  \n",
       "...               ...              ...             ...  \n",
       "5004           0.0007          -0.0007             0.0  \n",
       "5005           0.0079          -0.0079             0.0  \n",
       "5006           0.0072          -0.0072             0.0  \n",
       "5007           0.1340          -0.2180             0.0  \n",
       "5008              NaN              NaN             0.0  \n",
       "\n",
       "[5009 rows x 12 columns]"
      ]
     },
     "execution_count": 5,
     "metadata": {},
     "output_type": "execute_result"
    }
   ],
   "source": [
    "raw_data"
   ]
  },
  {
   "cell_type": "code",
   "execution_count": 6,
   "id": "f87da373",
   "metadata": {},
   "outputs": [
    {
     "data": {
      "text/plain": [
       "Index(['pl_name', 'hostname', 'default_flag', 'soltype', 'pl_orbper',\n",
       "       'pl_orbpererr1', 'pl_orbpererr2', 'pl_orbperlim', 'pl_orbeccen',\n",
       "       'pl_orbeccenerr1', 'pl_orbeccenerr2', 'pl_orbeccenlim'],\n",
       "      dtype='object')"
      ]
     },
     "execution_count": 6,
     "metadata": {},
     "output_type": "execute_result"
    }
   ],
   "source": [
    "raw_data.columns"
   ]
  },
  {
   "cell_type": "markdown",
   "id": "4bc841bd",
   "metadata": {},
   "source": [
    "Notice that the columns are not properly named. Now want to create first data frame with columns of interest."
   ]
  },
  {
   "cell_type": "code",
   "execution_count": 7,
   "id": "2d985355",
   "metadata": {},
   "outputs": [],
   "source": [
    "#df1 = raw_data.iloc[:, [0, 1, 5]]\n",
    "df1 = raw_data.loc[:, ['pl_name','pl_orbper','pl_orbeccen']]\n",
    "df1.reset_index(drop=True, inplace=True)"
   ]
  },
  {
   "cell_type": "code",
   "execution_count": 8,
   "id": "08fdea39",
   "metadata": {},
   "outputs": [
    {
     "data": {
      "text/html": [
       "<div>\n",
       "<style scoped>\n",
       "    .dataframe tbody tr th:only-of-type {\n",
       "        vertical-align: middle;\n",
       "    }\n",
       "\n",
       "    .dataframe tbody tr th {\n",
       "        vertical-align: top;\n",
       "    }\n",
       "\n",
       "    .dataframe thead th {\n",
       "        text-align: right;\n",
       "    }\n",
       "</style>\n",
       "<table border=\"1\" class=\"dataframe\">\n",
       "  <thead>\n",
       "    <tr style=\"text-align: right;\">\n",
       "      <th></th>\n",
       "      <th>pl_name</th>\n",
       "      <th>pl_orbper</th>\n",
       "      <th>pl_orbeccen</th>\n",
       "    </tr>\n",
       "  </thead>\n",
       "  <tbody>\n",
       "    <tr>\n",
       "      <th>0</th>\n",
       "      <td>11 Com b</td>\n",
       "      <td>326.030000</td>\n",
       "      <td>0.2310</td>\n",
       "    </tr>\n",
       "    <tr>\n",
       "      <th>1</th>\n",
       "      <td>11 UMi b</td>\n",
       "      <td>516.219970</td>\n",
       "      <td>0.0800</td>\n",
       "    </tr>\n",
       "    <tr>\n",
       "      <th>2</th>\n",
       "      <td>14 And b</td>\n",
       "      <td>185.840000</td>\n",
       "      <td>0.0000</td>\n",
       "    </tr>\n",
       "    <tr>\n",
       "      <th>3</th>\n",
       "      <td>14 Her b</td>\n",
       "      <td>1773.400020</td>\n",
       "      <td>0.3700</td>\n",
       "    </tr>\n",
       "    <tr>\n",
       "      <th>4</th>\n",
       "      <td>16 Cyg B b</td>\n",
       "      <td>798.500000</td>\n",
       "      <td>0.6800</td>\n",
       "    </tr>\n",
       "    <tr>\n",
       "      <th>...</th>\n",
       "      <td>...</td>\n",
       "      <td>...</td>\n",
       "      <td>...</td>\n",
       "    </tr>\n",
       "    <tr>\n",
       "      <th>5004</th>\n",
       "      <td>ups And b</td>\n",
       "      <td>4.617033</td>\n",
       "      <td>0.0215</td>\n",
       "    </tr>\n",
       "    <tr>\n",
       "      <th>5005</th>\n",
       "      <td>ups And c</td>\n",
       "      <td>241.258000</td>\n",
       "      <td>0.2596</td>\n",
       "    </tr>\n",
       "    <tr>\n",
       "      <th>5006</th>\n",
       "      <td>ups And d</td>\n",
       "      <td>1276.460000</td>\n",
       "      <td>0.2987</td>\n",
       "    </tr>\n",
       "    <tr>\n",
       "      <th>5007</th>\n",
       "      <td>ups Leo b</td>\n",
       "      <td>385.200000</td>\n",
       "      <td>0.3200</td>\n",
       "    </tr>\n",
       "    <tr>\n",
       "      <th>5008</th>\n",
       "      <td>xi Aql b</td>\n",
       "      <td>136.750000</td>\n",
       "      <td>0.0000</td>\n",
       "    </tr>\n",
       "  </tbody>\n",
       "</table>\n",
       "<p>5009 rows × 3 columns</p>\n",
       "</div>"
      ],
      "text/plain": [
       "         pl_name    pl_orbper  pl_orbeccen\n",
       "0       11 Com b   326.030000       0.2310\n",
       "1       11 UMi b   516.219970       0.0800\n",
       "2       14 And b   185.840000       0.0000\n",
       "3       14 Her b  1773.400020       0.3700\n",
       "4     16 Cyg B b   798.500000       0.6800\n",
       "...          ...          ...          ...\n",
       "5004   ups And b     4.617033       0.0215\n",
       "5005   ups And c   241.258000       0.2596\n",
       "5006   ups And d  1276.460000       0.2987\n",
       "5007   ups Leo b   385.200000       0.3200\n",
       "5008    xi Aql b   136.750000       0.0000\n",
       "\n",
       "[5009 rows x 3 columns]"
      ]
     },
     "execution_count": 8,
     "metadata": {},
     "output_type": "execute_result"
    }
   ],
   "source": [
    "df1"
   ]
  },
  {
   "cell_type": "markdown",
   "id": "d0afc98d",
   "metadata": {},
   "source": [
    "Need to rename the columns of interest to make analysis clearer and remove unnecessary rows."
   ]
  },
  {
   "cell_type": "code",
   "execution_count": 9,
   "id": "53ea18c9",
   "metadata": {},
   "outputs": [],
   "source": [
    "df1 = df1.rename(columns={'pl_name':'planetname', 'pl_orbper':'orbitperiod', 'pl_orbeccen':'eccentricity'})\n",
    "#df1 = df1.drop([0])"
   ]
  },
  {
   "cell_type": "code",
   "execution_count": 10,
   "id": "72ba1c14",
   "metadata": {},
   "outputs": [
    {
     "data": {
      "text/html": [
       "<div>\n",
       "<style scoped>\n",
       "    .dataframe tbody tr th:only-of-type {\n",
       "        vertical-align: middle;\n",
       "    }\n",
       "\n",
       "    .dataframe tbody tr th {\n",
       "        vertical-align: top;\n",
       "    }\n",
       "\n",
       "    .dataframe thead th {\n",
       "        text-align: right;\n",
       "    }\n",
       "</style>\n",
       "<table border=\"1\" class=\"dataframe\">\n",
       "  <thead>\n",
       "    <tr style=\"text-align: right;\">\n",
       "      <th></th>\n",
       "      <th>planetname</th>\n",
       "      <th>orbitperiod</th>\n",
       "      <th>eccentricity</th>\n",
       "    </tr>\n",
       "  </thead>\n",
       "  <tbody>\n",
       "    <tr>\n",
       "      <th>0</th>\n",
       "      <td>11 Com b</td>\n",
       "      <td>326.030000</td>\n",
       "      <td>0.2310</td>\n",
       "    </tr>\n",
       "    <tr>\n",
       "      <th>1</th>\n",
       "      <td>11 UMi b</td>\n",
       "      <td>516.219970</td>\n",
       "      <td>0.0800</td>\n",
       "    </tr>\n",
       "    <tr>\n",
       "      <th>2</th>\n",
       "      <td>14 And b</td>\n",
       "      <td>185.840000</td>\n",
       "      <td>0.0000</td>\n",
       "    </tr>\n",
       "    <tr>\n",
       "      <th>3</th>\n",
       "      <td>14 Her b</td>\n",
       "      <td>1773.400020</td>\n",
       "      <td>0.3700</td>\n",
       "    </tr>\n",
       "    <tr>\n",
       "      <th>4</th>\n",
       "      <td>16 Cyg B b</td>\n",
       "      <td>798.500000</td>\n",
       "      <td>0.6800</td>\n",
       "    </tr>\n",
       "    <tr>\n",
       "      <th>...</th>\n",
       "      <td>...</td>\n",
       "      <td>...</td>\n",
       "      <td>...</td>\n",
       "    </tr>\n",
       "    <tr>\n",
       "      <th>5004</th>\n",
       "      <td>ups And b</td>\n",
       "      <td>4.617033</td>\n",
       "      <td>0.0215</td>\n",
       "    </tr>\n",
       "    <tr>\n",
       "      <th>5005</th>\n",
       "      <td>ups And c</td>\n",
       "      <td>241.258000</td>\n",
       "      <td>0.2596</td>\n",
       "    </tr>\n",
       "    <tr>\n",
       "      <th>5006</th>\n",
       "      <td>ups And d</td>\n",
       "      <td>1276.460000</td>\n",
       "      <td>0.2987</td>\n",
       "    </tr>\n",
       "    <tr>\n",
       "      <th>5007</th>\n",
       "      <td>ups Leo b</td>\n",
       "      <td>385.200000</td>\n",
       "      <td>0.3200</td>\n",
       "    </tr>\n",
       "    <tr>\n",
       "      <th>5008</th>\n",
       "      <td>xi Aql b</td>\n",
       "      <td>136.750000</td>\n",
       "      <td>0.0000</td>\n",
       "    </tr>\n",
       "  </tbody>\n",
       "</table>\n",
       "<p>5009 rows × 3 columns</p>\n",
       "</div>"
      ],
      "text/plain": [
       "      planetname  orbitperiod  eccentricity\n",
       "0       11 Com b   326.030000        0.2310\n",
       "1       11 UMi b   516.219970        0.0800\n",
       "2       14 And b   185.840000        0.0000\n",
       "3       14 Her b  1773.400020        0.3700\n",
       "4     16 Cyg B b   798.500000        0.6800\n",
       "...          ...          ...           ...\n",
       "5004   ups And b     4.617033        0.0215\n",
       "5005   ups And c   241.258000        0.2596\n",
       "5006   ups And d  1276.460000        0.2987\n",
       "5007   ups Leo b   385.200000        0.3200\n",
       "5008    xi Aql b   136.750000        0.0000\n",
       "\n",
       "[5009 rows x 3 columns]"
      ]
     },
     "execution_count": 10,
     "metadata": {},
     "output_type": "execute_result"
    }
   ],
   "source": [
    "df1"
   ]
  },
  {
   "cell_type": "markdown",
   "id": "37474da3",
   "metadata": {},
   "source": [
    "Data frame 2 will remove all the NA values from original data frame."
   ]
  },
  {
   "cell_type": "code",
   "execution_count": 11,
   "id": "1291d0d6",
   "metadata": {},
   "outputs": [],
   "source": [
    "df2 = df1.dropna()"
   ]
  },
  {
   "cell_type": "code",
   "execution_count": 12,
   "id": "b17d4e43",
   "metadata": {},
   "outputs": [
    {
     "data": {
      "text/html": [
       "<div>\n",
       "<style scoped>\n",
       "    .dataframe tbody tr th:only-of-type {\n",
       "        vertical-align: middle;\n",
       "    }\n",
       "\n",
       "    .dataframe tbody tr th {\n",
       "        vertical-align: top;\n",
       "    }\n",
       "\n",
       "    .dataframe thead th {\n",
       "        text-align: right;\n",
       "    }\n",
       "</style>\n",
       "<table border=\"1\" class=\"dataframe\">\n",
       "  <thead>\n",
       "    <tr style=\"text-align: right;\">\n",
       "      <th></th>\n",
       "      <th>planetname</th>\n",
       "      <th>orbitperiod</th>\n",
       "      <th>eccentricity</th>\n",
       "    </tr>\n",
       "  </thead>\n",
       "  <tbody>\n",
       "    <tr>\n",
       "      <th>0</th>\n",
       "      <td>11 Com b</td>\n",
       "      <td>326.030000</td>\n",
       "      <td>0.2310</td>\n",
       "    </tr>\n",
       "    <tr>\n",
       "      <th>1</th>\n",
       "      <td>11 UMi b</td>\n",
       "      <td>516.219970</td>\n",
       "      <td>0.0800</td>\n",
       "    </tr>\n",
       "    <tr>\n",
       "      <th>2</th>\n",
       "      <td>14 And b</td>\n",
       "      <td>185.840000</td>\n",
       "      <td>0.0000</td>\n",
       "    </tr>\n",
       "    <tr>\n",
       "      <th>3</th>\n",
       "      <td>14 Her b</td>\n",
       "      <td>1773.400020</td>\n",
       "      <td>0.3700</td>\n",
       "    </tr>\n",
       "    <tr>\n",
       "      <th>4</th>\n",
       "      <td>16 Cyg B b</td>\n",
       "      <td>798.500000</td>\n",
       "      <td>0.6800</td>\n",
       "    </tr>\n",
       "    <tr>\n",
       "      <th>...</th>\n",
       "      <td>...</td>\n",
       "      <td>...</td>\n",
       "      <td>...</td>\n",
       "    </tr>\n",
       "    <tr>\n",
       "      <th>5004</th>\n",
       "      <td>ups And b</td>\n",
       "      <td>4.617033</td>\n",
       "      <td>0.0215</td>\n",
       "    </tr>\n",
       "    <tr>\n",
       "      <th>5005</th>\n",
       "      <td>ups And c</td>\n",
       "      <td>241.258000</td>\n",
       "      <td>0.2596</td>\n",
       "    </tr>\n",
       "    <tr>\n",
       "      <th>5006</th>\n",
       "      <td>ups And d</td>\n",
       "      <td>1276.460000</td>\n",
       "      <td>0.2987</td>\n",
       "    </tr>\n",
       "    <tr>\n",
       "      <th>5007</th>\n",
       "      <td>ups Leo b</td>\n",
       "      <td>385.200000</td>\n",
       "      <td>0.3200</td>\n",
       "    </tr>\n",
       "    <tr>\n",
       "      <th>5008</th>\n",
       "      <td>xi Aql b</td>\n",
       "      <td>136.750000</td>\n",
       "      <td>0.0000</td>\n",
       "    </tr>\n",
       "  </tbody>\n",
       "</table>\n",
       "<p>1758 rows × 3 columns</p>\n",
       "</div>"
      ],
      "text/plain": [
       "      planetname  orbitperiod  eccentricity\n",
       "0       11 Com b   326.030000        0.2310\n",
       "1       11 UMi b   516.219970        0.0800\n",
       "2       14 And b   185.840000        0.0000\n",
       "3       14 Her b  1773.400020        0.3700\n",
       "4     16 Cyg B b   798.500000        0.6800\n",
       "...          ...          ...           ...\n",
       "5004   ups And b     4.617033        0.0215\n",
       "5005   ups And c   241.258000        0.2596\n",
       "5006   ups And d  1276.460000        0.2987\n",
       "5007   ups Leo b   385.200000        0.3200\n",
       "5008    xi Aql b   136.750000        0.0000\n",
       "\n",
       "[1758 rows x 3 columns]"
      ]
     },
     "execution_count": 12,
     "metadata": {},
     "output_type": "execute_result"
    }
   ],
   "source": [
    "df2"
   ]
  },
  {
   "cell_type": "markdown",
   "id": "b4ff9a39",
   "metadata": {},
   "source": [
    "The following logic is to determine the data types of the column entries in the latest data."
   ]
  },
  {
   "cell_type": "code",
   "execution_count": 13,
   "id": "686fada4",
   "metadata": {},
   "outputs": [
    {
     "name": "stdout",
     "output_type": "stream",
     "text": [
      "<class 'numpy.float64'>\n",
      "<class 'numpy.float64'>\n"
     ]
    }
   ],
   "source": [
    "print(type(df2.iloc[0][1])) # <- Notice the columns are strings and not numeric.\n",
    "print(type(df2.iloc[0][2]))"
   ]
  },
  {
   "cell_type": "markdown",
   "id": "e5bdf2e7",
   "metadata": {},
   "source": [
    "Now to convert just columns \"a\" and \"b\". That is, convert the 'orbitperiod' and 'eccentricity' columns into numerics from string data types."
   ]
  },
  {
   "cell_type": "code",
   "execution_count": 14,
   "id": "1ca32d7e",
   "metadata": {},
   "outputs": [],
   "source": [
    "#df2.loc[:, 'orbitperiod'] = df2.loc[:, 'orbitperiod'].apply(pd.to_numeric)\n",
    "#df2.loc[:, 'eccentricity'] = df2.loc[:, 'eccentricity'].apply(pd.to_numeric)"
   ]
  },
  {
   "cell_type": "code",
   "execution_count": 15,
   "id": "ea8033e1",
   "metadata": {},
   "outputs": [],
   "source": [
    "#x1 = df2.iloc[:, 1].apply(pd.to_numeric)\n",
    "#x2 = df2.iloc[:, 2].apply(pd.to_numeric)\n",
    "#x3 = df2.iloc[:,0] #<- this is the column with the column names"
   ]
  },
  {
   "cell_type": "code",
   "execution_count": 16,
   "id": "d22ef78e",
   "metadata": {},
   "outputs": [],
   "source": [
    "#df2_1 = pd.concat([x3,x1,x2], axis = 1)"
   ]
  },
  {
   "cell_type": "code",
   "execution_count": 17,
   "id": "2a8084cc",
   "metadata": {},
   "outputs": [
    {
     "data": {
      "text/html": [
       "<div>\n",
       "<style scoped>\n",
       "    .dataframe tbody tr th:only-of-type {\n",
       "        vertical-align: middle;\n",
       "    }\n",
       "\n",
       "    .dataframe tbody tr th {\n",
       "        vertical-align: top;\n",
       "    }\n",
       "\n",
       "    .dataframe thead th {\n",
       "        text-align: right;\n",
       "    }\n",
       "</style>\n",
       "<table border=\"1\" class=\"dataframe\">\n",
       "  <thead>\n",
       "    <tr style=\"text-align: right;\">\n",
       "      <th></th>\n",
       "      <th>planetname</th>\n",
       "      <th>orbitperiod</th>\n",
       "      <th>eccentricity</th>\n",
       "    </tr>\n",
       "  </thead>\n",
       "  <tbody>\n",
       "    <tr>\n",
       "      <th>0</th>\n",
       "      <td>11 Com b</td>\n",
       "      <td>326.030000</td>\n",
       "      <td>0.2310</td>\n",
       "    </tr>\n",
       "    <tr>\n",
       "      <th>1</th>\n",
       "      <td>11 UMi b</td>\n",
       "      <td>516.219970</td>\n",
       "      <td>0.0800</td>\n",
       "    </tr>\n",
       "    <tr>\n",
       "      <th>2</th>\n",
       "      <td>14 And b</td>\n",
       "      <td>185.840000</td>\n",
       "      <td>0.0000</td>\n",
       "    </tr>\n",
       "    <tr>\n",
       "      <th>3</th>\n",
       "      <td>14 Her b</td>\n",
       "      <td>1773.400020</td>\n",
       "      <td>0.3700</td>\n",
       "    </tr>\n",
       "    <tr>\n",
       "      <th>4</th>\n",
       "      <td>16 Cyg B b</td>\n",
       "      <td>798.500000</td>\n",
       "      <td>0.6800</td>\n",
       "    </tr>\n",
       "    <tr>\n",
       "      <th>...</th>\n",
       "      <td>...</td>\n",
       "      <td>...</td>\n",
       "      <td>...</td>\n",
       "    </tr>\n",
       "    <tr>\n",
       "      <th>5004</th>\n",
       "      <td>ups And b</td>\n",
       "      <td>4.617033</td>\n",
       "      <td>0.0215</td>\n",
       "    </tr>\n",
       "    <tr>\n",
       "      <th>5005</th>\n",
       "      <td>ups And c</td>\n",
       "      <td>241.258000</td>\n",
       "      <td>0.2596</td>\n",
       "    </tr>\n",
       "    <tr>\n",
       "      <th>5006</th>\n",
       "      <td>ups And d</td>\n",
       "      <td>1276.460000</td>\n",
       "      <td>0.2987</td>\n",
       "    </tr>\n",
       "    <tr>\n",
       "      <th>5007</th>\n",
       "      <td>ups Leo b</td>\n",
       "      <td>385.200000</td>\n",
       "      <td>0.3200</td>\n",
       "    </tr>\n",
       "    <tr>\n",
       "      <th>5008</th>\n",
       "      <td>xi Aql b</td>\n",
       "      <td>136.750000</td>\n",
       "      <td>0.0000</td>\n",
       "    </tr>\n",
       "  </tbody>\n",
       "</table>\n",
       "<p>1758 rows × 3 columns</p>\n",
       "</div>"
      ],
      "text/plain": [
       "      planetname  orbitperiod  eccentricity\n",
       "0       11 Com b   326.030000        0.2310\n",
       "1       11 UMi b   516.219970        0.0800\n",
       "2       14 And b   185.840000        0.0000\n",
       "3       14 Her b  1773.400020        0.3700\n",
       "4     16 Cyg B b   798.500000        0.6800\n",
       "...          ...          ...           ...\n",
       "5004   ups And b     4.617033        0.0215\n",
       "5005   ups And c   241.258000        0.2596\n",
       "5006   ups And d  1276.460000        0.2987\n",
       "5007   ups Leo b   385.200000        0.3200\n",
       "5008    xi Aql b   136.750000        0.0000\n",
       "\n",
       "[1758 rows x 3 columns]"
      ]
     },
     "execution_count": 17,
     "metadata": {},
     "output_type": "execute_result"
    }
   ],
   "source": [
    "df2"
   ]
  },
  {
   "cell_type": "code",
   "execution_count": 18,
   "id": "16541287",
   "metadata": {},
   "outputs": [
    {
     "name": "stdout",
     "output_type": "stream",
     "text": [
      "float64\n"
     ]
    }
   ],
   "source": [
    "print(df2.dtypes['eccentricity'])"
   ]
  },
  {
   "cell_type": "code",
   "execution_count": 19,
   "id": "2dec16b2",
   "metadata": {},
   "outputs": [
    {
     "name": "stdout",
     "output_type": "stream",
     "text": [
      "<class 'pandas.core.frame.DataFrame'>\n"
     ]
    }
   ],
   "source": [
    "print(type(df2))"
   ]
  },
  {
   "cell_type": "markdown",
   "id": "fb39f52c",
   "metadata": {},
   "source": [
    "Dataframe 3 will take the averages of multiple planet entries. Following lines will take arithmetic mean of the two columns of interest and concate the two columns into the third dataframe."
   ]
  },
  {
   "cell_type": "markdown",
   "id": "6ff240e5",
   "metadata": {},
   "source": [
    "First will create intermediate variables to store the resulting averages."
   ]
  },
  {
   "cell_type": "code",
   "execution_count": 20,
   "id": "46517e73",
   "metadata": {},
   "outputs": [],
   "source": [
    "x4 = df2.groupby('planetname')['eccentricity'].mean()\n",
    "x5 = df2.groupby('planetname')['orbitperiod'].mean()"
   ]
  },
  {
   "cell_type": "code",
   "execution_count": 21,
   "id": "a0dc6484",
   "metadata": {},
   "outputs": [
    {
     "data": {
      "text/plain": [
       "planetname\n",
       "11 Com b       326.030000\n",
       "11 UMi b       516.219970\n",
       "14 And b       185.840000\n",
       "14 Her b      1773.400020\n",
       "16 Cyg B b     798.500000\n",
       "                 ...     \n",
       "ups And b        4.617033\n",
       "ups And c      241.258000\n",
       "ups And d     1276.460000\n",
       "ups Leo b      385.200000\n",
       "xi Aql b       136.750000\n",
       "Name: orbitperiod, Length: 1758, dtype: float64"
      ]
     },
     "execution_count": 21,
     "metadata": {},
     "output_type": "execute_result"
    }
   ],
   "source": [
    "x4\n",
    "x5"
   ]
  },
  {
   "cell_type": "code",
   "execution_count": 22,
   "id": "87df5b37",
   "metadata": {},
   "outputs": [
    {
     "data": {
      "text/plain": [
       "pandas.core.series.Series"
      ]
     },
     "execution_count": 22,
     "metadata": {},
     "output_type": "execute_result"
    }
   ],
   "source": [
    "type(x4)"
   ]
  },
  {
   "cell_type": "code",
   "execution_count": 23,
   "id": "c9789fec",
   "metadata": {},
   "outputs": [
    {
     "data": {
      "text/plain": [
       "pandas.core.series.Series"
      ]
     },
     "execution_count": 23,
     "metadata": {},
     "output_type": "execute_result"
    }
   ],
   "source": [
    "type(x5)"
   ]
  },
  {
   "cell_type": "code",
   "execution_count": 24,
   "id": "b3ae8e52",
   "metadata": {},
   "outputs": [
    {
     "data": {
      "text/html": [
       "<div>\n",
       "<style scoped>\n",
       "    .dataframe tbody tr th:only-of-type {\n",
       "        vertical-align: middle;\n",
       "    }\n",
       "\n",
       "    .dataframe tbody tr th {\n",
       "        vertical-align: top;\n",
       "    }\n",
       "\n",
       "    .dataframe thead th {\n",
       "        text-align: right;\n",
       "    }\n",
       "</style>\n",
       "<table border=\"1\" class=\"dataframe\">\n",
       "  <thead>\n",
       "    <tr style=\"text-align: right;\">\n",
       "      <th></th>\n",
       "      <th>eccentricity</th>\n",
       "      <th>orbitperiod</th>\n",
       "    </tr>\n",
       "    <tr>\n",
       "      <th>planetname</th>\n",
       "      <th></th>\n",
       "      <th></th>\n",
       "    </tr>\n",
       "  </thead>\n",
       "  <tbody>\n",
       "    <tr>\n",
       "      <th>11 Com b</th>\n",
       "      <td>0.2310</td>\n",
       "      <td>326.030000</td>\n",
       "    </tr>\n",
       "    <tr>\n",
       "      <th>11 UMi b</th>\n",
       "      <td>0.0800</td>\n",
       "      <td>516.219970</td>\n",
       "    </tr>\n",
       "    <tr>\n",
       "      <th>14 And b</th>\n",
       "      <td>0.0000</td>\n",
       "      <td>185.840000</td>\n",
       "    </tr>\n",
       "    <tr>\n",
       "      <th>14 Her b</th>\n",
       "      <td>0.3700</td>\n",
       "      <td>1773.400020</td>\n",
       "    </tr>\n",
       "    <tr>\n",
       "      <th>16 Cyg B b</th>\n",
       "      <td>0.6800</td>\n",
       "      <td>798.500000</td>\n",
       "    </tr>\n",
       "    <tr>\n",
       "      <th>...</th>\n",
       "      <td>...</td>\n",
       "      <td>...</td>\n",
       "    </tr>\n",
       "    <tr>\n",
       "      <th>ups And b</th>\n",
       "      <td>0.0215</td>\n",
       "      <td>4.617033</td>\n",
       "    </tr>\n",
       "    <tr>\n",
       "      <th>ups And c</th>\n",
       "      <td>0.2596</td>\n",
       "      <td>241.258000</td>\n",
       "    </tr>\n",
       "    <tr>\n",
       "      <th>ups And d</th>\n",
       "      <td>0.2987</td>\n",
       "      <td>1276.460000</td>\n",
       "    </tr>\n",
       "    <tr>\n",
       "      <th>ups Leo b</th>\n",
       "      <td>0.3200</td>\n",
       "      <td>385.200000</td>\n",
       "    </tr>\n",
       "    <tr>\n",
       "      <th>xi Aql b</th>\n",
       "      <td>0.0000</td>\n",
       "      <td>136.750000</td>\n",
       "    </tr>\n",
       "  </tbody>\n",
       "</table>\n",
       "<p>1758 rows × 2 columns</p>\n",
       "</div>"
      ],
      "text/plain": [
       "            eccentricity  orbitperiod\n",
       "planetname                           \n",
       "11 Com b          0.2310   326.030000\n",
       "11 UMi b          0.0800   516.219970\n",
       "14 And b          0.0000   185.840000\n",
       "14 Her b          0.3700  1773.400020\n",
       "16 Cyg B b        0.6800   798.500000\n",
       "...                  ...          ...\n",
       "ups And b         0.0215     4.617033\n",
       "ups And c         0.2596   241.258000\n",
       "ups And d         0.2987  1276.460000\n",
       "ups Leo b         0.3200   385.200000\n",
       "xi Aql b          0.0000   136.750000\n",
       "\n",
       "[1758 rows x 2 columns]"
      ]
     },
     "execution_count": 24,
     "metadata": {},
     "output_type": "execute_result"
    }
   ],
   "source": [
    "df3 = pd.concat([x4, x5], axis = 1)\n",
    "df3"
   ]
  },
  {
   "cell_type": "code",
   "execution_count": 25,
   "id": "f57cae73",
   "metadata": {},
   "outputs": [
    {
     "data": {
      "text/html": [
       "<div>\n",
       "<style scoped>\n",
       "    .dataframe tbody tr th:only-of-type {\n",
       "        vertical-align: middle;\n",
       "    }\n",
       "\n",
       "    .dataframe tbody tr th {\n",
       "        vertical-align: top;\n",
       "    }\n",
       "\n",
       "    .dataframe thead th {\n",
       "        text-align: right;\n",
       "    }\n",
       "</style>\n",
       "<table border=\"1\" class=\"dataframe\">\n",
       "  <thead>\n",
       "    <tr style=\"text-align: right;\">\n",
       "      <th></th>\n",
       "      <th>eccentricity</th>\n",
       "      <th>orbitperiod</th>\n",
       "      <th>planetname</th>\n",
       "    </tr>\n",
       "    <tr>\n",
       "      <th>planetname</th>\n",
       "      <th></th>\n",
       "      <th></th>\n",
       "      <th></th>\n",
       "    </tr>\n",
       "  </thead>\n",
       "  <tbody>\n",
       "    <tr>\n",
       "      <th>11 Com b</th>\n",
       "      <td>0.2310</td>\n",
       "      <td>326.030000</td>\n",
       "      <td>11 Com b</td>\n",
       "    </tr>\n",
       "    <tr>\n",
       "      <th>11 UMi b</th>\n",
       "      <td>0.0800</td>\n",
       "      <td>516.219970</td>\n",
       "      <td>11 UMi b</td>\n",
       "    </tr>\n",
       "    <tr>\n",
       "      <th>14 And b</th>\n",
       "      <td>0.0000</td>\n",
       "      <td>185.840000</td>\n",
       "      <td>14 And b</td>\n",
       "    </tr>\n",
       "    <tr>\n",
       "      <th>14 Her b</th>\n",
       "      <td>0.3700</td>\n",
       "      <td>1773.400020</td>\n",
       "      <td>14 Her b</td>\n",
       "    </tr>\n",
       "    <tr>\n",
       "      <th>16 Cyg B b</th>\n",
       "      <td>0.6800</td>\n",
       "      <td>798.500000</td>\n",
       "      <td>16 Cyg B b</td>\n",
       "    </tr>\n",
       "    <tr>\n",
       "      <th>...</th>\n",
       "      <td>...</td>\n",
       "      <td>...</td>\n",
       "      <td>...</td>\n",
       "    </tr>\n",
       "    <tr>\n",
       "      <th>ups And b</th>\n",
       "      <td>0.0215</td>\n",
       "      <td>4.617033</td>\n",
       "      <td>ups And b</td>\n",
       "    </tr>\n",
       "    <tr>\n",
       "      <th>ups And c</th>\n",
       "      <td>0.2596</td>\n",
       "      <td>241.258000</td>\n",
       "      <td>ups And c</td>\n",
       "    </tr>\n",
       "    <tr>\n",
       "      <th>ups And d</th>\n",
       "      <td>0.2987</td>\n",
       "      <td>1276.460000</td>\n",
       "      <td>ups And d</td>\n",
       "    </tr>\n",
       "    <tr>\n",
       "      <th>ups Leo b</th>\n",
       "      <td>0.3200</td>\n",
       "      <td>385.200000</td>\n",
       "      <td>ups Leo b</td>\n",
       "    </tr>\n",
       "    <tr>\n",
       "      <th>xi Aql b</th>\n",
       "      <td>0.0000</td>\n",
       "      <td>136.750000</td>\n",
       "      <td>xi Aql b</td>\n",
       "    </tr>\n",
       "  </tbody>\n",
       "</table>\n",
       "<p>1758 rows × 3 columns</p>\n",
       "</div>"
      ],
      "text/plain": [
       "            eccentricity  orbitperiod  planetname\n",
       "planetname                                       \n",
       "11 Com b          0.2310   326.030000    11 Com b\n",
       "11 UMi b          0.0800   516.219970    11 UMi b\n",
       "14 And b          0.0000   185.840000    14 And b\n",
       "14 Her b          0.3700  1773.400020    14 Her b\n",
       "16 Cyg B b        0.6800   798.500000  16 Cyg B b\n",
       "...                  ...          ...         ...\n",
       "ups And b         0.0215     4.617033   ups And b\n",
       "ups And c         0.2596   241.258000   ups And c\n",
       "ups And d         0.2987  1276.460000   ups And d\n",
       "ups Leo b         0.3200   385.200000   ups Leo b\n",
       "xi Aql b          0.0000   136.750000    xi Aql b\n",
       "\n",
       "[1758 rows x 3 columns]"
      ]
     },
     "execution_count": 25,
     "metadata": {},
     "output_type": "execute_result"
    }
   ],
   "source": [
    "df3['planetname'] = df3.index\n",
    "df3"
   ]
  },
  {
   "cell_type": "markdown",
   "id": "7123b4fd",
   "metadata": {},
   "source": [
    "df3 has the final version of the 'raw' data frame. Notice that at this time, dataframe 3 (df3) is not necessary. All the filtering and cleaning was handled by df2."
   ]
  },
  {
   "cell_type": "code",
   "execution_count": 26,
   "id": "ae3dde1a",
   "metadata": {},
   "outputs": [
    {
     "data": {
      "text/plain": [
       "Index(['eccentricity', 'orbitperiod', 'planetname'], dtype='object')"
      ]
     },
     "execution_count": 26,
     "metadata": {},
     "output_type": "execute_result"
    }
   ],
   "source": [
    "df3.columns"
   ]
  },
  {
   "cell_type": "markdown",
   "id": "aa3a47fc",
   "metadata": {},
   "source": [
    "    In this part want to explicitly declare the median and IQR of the two columns which are the variables."
   ]
  },
  {
   "cell_type": "code",
   "execution_count": 27,
   "id": "b57a3999",
   "metadata": {},
   "outputs": [
    {
     "name": "stdout",
     "output_type": "stream",
     "text": [
      "\n",
      "The median of the orbital period: 18.18\n",
      "\n",
      "The median of the eccentricity: 0.09\n",
      "\n",
      "The interquartile range of the eccentricity: 0.21\n",
      "\n",
      "The interquartile range of the orbital period: 399.10\n"
     ]
    }
   ],
   "source": [
    "ecce = df2['eccentricity']\n",
    "orbper = df2['orbitperiod']\n",
    "eccen_med = statistics.median(list(ecce))\n",
    "orbper_med = statistics.median(list(orbper))\n",
    "print('\\nThe median of the orbital period: %.2f' % orbper_med)\n",
    "print('\\nThe median of the eccentricity: %.2f' % eccen_med)\n",
    "iqr_ecce = stats.iqr(ecce, interpolation = 'midpoint')\n",
    "iqr_op = stats.iqr(orbper, interpolation = 'midpoint')\n",
    "print('\\nThe interquartile range of the eccentricity: %.2f' % iqr_ecce)\n",
    "print('\\nThe interquartile range of the orbital period: %.2f' % iqr_op)"
   ]
  },
  {
   "cell_type": "code",
   "execution_count": 28,
   "id": "b97484d1",
   "metadata": {},
   "outputs": [
    {
     "name": "stdout",
     "output_type": "stream",
     "text": [
      "The mode of the eccentricity: \n",
      "0.00\n"
     ]
    }
   ],
   "source": [
    "ecce_mode = statistics.mode(list(ecce))\n",
    "print('The mode of the eccentricity: \\n%.2f' %ecce_mode)"
   ]
  },
  {
   "cell_type": "code",
   "execution_count": 29,
   "id": "33aa564c",
   "metadata": {},
   "outputs": [
    {
     "data": {
      "text/plain": [
       "0.15419357224118316"
      ]
     },
     "execution_count": 29,
     "metadata": {},
     "output_type": "execute_result"
    }
   ],
   "source": [
    "ecce_avg = statistics.mean(list(ecce))\n",
    "ecce_avg"
   ]
  },
  {
   "cell_type": "code",
   "execution_count": 30,
   "id": "6f880e74",
   "metadata": {},
   "outputs": [],
   "source": [
    "#import plotly.figure_factory as ff\n",
    "#hist_data = [df2.eccentricity]\n",
    "#group_labels = ['distirbution']\n",
    "#fig1 = ff.create_distplot(hist_data, group_labels)\n",
    "#fig1.show()"
   ]
  },
  {
   "cell_type": "code",
   "execution_count": 31,
   "id": "afee9a60",
   "metadata": {},
   "outputs": [
    {
     "data": {
      "text/plain": [
       "(array([894., 335., 209., 114.,  72.,  55.,  29.,  22.,  19.,   9.]),\n",
       " array([0.   , 0.095, 0.19 , 0.285, 0.38 , 0.475, 0.57 , 0.665, 0.76 ,\n",
       "        0.855, 0.95 ]),\n",
       " <BarContainer object of 10 artists>)"
      ]
     },
     "execution_count": 31,
     "metadata": {},
     "output_type": "execute_result"
    },
    {
     "data": {
      "image/png": "[encoded data removed]",
      "text/plain": [
       "<Figure size 432x288 with 1 Axes>"
      ]
     },
     "metadata": {
      "needs_background": "light"
     },
     "output_type": "display_data"
    }
   ],
   "source": [
    "plt.hist(df3.eccentricity, color = \"darkgreen\")"
   ]
  },
  {
   "cell_type": "markdown",
   "id": "0570cfd7",
   "metadata": {},
   "source": [
    "The next section of code will use Robust Scaling to properly scale the dataframe. I want to use the kNN supervised learning model, but it is distance based and thus sensitive to scale of the data points."
   ]
  },
  {
   "cell_type": "code",
   "execution_count": 32,
   "id": "6183ba57",
   "metadata": {},
   "outputs": [
    {
     "data": {
      "text/html": [
       "<div>\n",
       "<style scoped>\n",
       "    .dataframe tbody tr th:only-of-type {\n",
       "        vertical-align: middle;\n",
       "    }\n",
       "\n",
       "    .dataframe tbody tr th {\n",
       "        vertical-align: top;\n",
       "    }\n",
       "\n",
       "    .dataframe thead th {\n",
       "        text-align: right;\n",
       "    }\n",
       "</style>\n",
       "<table border=\"1\" class=\"dataframe\">\n",
       "  <thead>\n",
       "    <tr style=\"text-align: right;\">\n",
       "      <th></th>\n",
       "      <th>orbitperiod</th>\n",
       "      <th>eccentricity</th>\n",
       "    </tr>\n",
       "    <tr>\n",
       "      <th>planetname</th>\n",
       "      <th></th>\n",
       "      <th></th>\n",
       "    </tr>\n",
       "  </thead>\n",
       "  <tbody>\n",
       "    <tr>\n",
       "      <th>11 Com b</th>\n",
       "      <td>326.030000</td>\n",
       "      <td>0.2310</td>\n",
       "    </tr>\n",
       "    <tr>\n",
       "      <th>11 UMi b</th>\n",
       "      <td>516.219970</td>\n",
       "      <td>0.0800</td>\n",
       "    </tr>\n",
       "    <tr>\n",
       "      <th>14 And b</th>\n",
       "      <td>185.840000</td>\n",
       "      <td>0.0000</td>\n",
       "    </tr>\n",
       "    <tr>\n",
       "      <th>14 Her b</th>\n",
       "      <td>1773.400020</td>\n",
       "      <td>0.3700</td>\n",
       "    </tr>\n",
       "    <tr>\n",
       "      <th>16 Cyg B b</th>\n",
       "      <td>798.500000</td>\n",
       "      <td>0.6800</td>\n",
       "    </tr>\n",
       "    <tr>\n",
       "      <th>...</th>\n",
       "      <td>...</td>\n",
       "      <td>...</td>\n",
       "    </tr>\n",
       "    <tr>\n",
       "      <th>ups And b</th>\n",
       "      <td>4.617033</td>\n",
       "      <td>0.0215</td>\n",
       "    </tr>\n",
       "    <tr>\n",
       "      <th>ups And c</th>\n",
       "      <td>241.258000</td>\n",
       "      <td>0.2596</td>\n",
       "    </tr>\n",
       "    <tr>\n",
       "      <th>ups And d</th>\n",
       "      <td>1276.460000</td>\n",
       "      <td>0.2987</td>\n",
       "    </tr>\n",
       "    <tr>\n",
       "      <th>ups Leo b</th>\n",
       "      <td>385.200000</td>\n",
       "      <td>0.3200</td>\n",
       "    </tr>\n",
       "    <tr>\n",
       "      <th>xi Aql b</th>\n",
       "      <td>136.750000</td>\n",
       "      <td>0.0000</td>\n",
       "    </tr>\n",
       "  </tbody>\n",
       "</table>\n",
       "<p>1758 rows × 2 columns</p>\n",
       "</div>"
      ],
      "text/plain": [
       "            orbitperiod  eccentricity\n",
       "planetname                           \n",
       "11 Com b     326.030000        0.2310\n",
       "11 UMi b     516.219970        0.0800\n",
       "14 And b     185.840000        0.0000\n",
       "14 Her b    1773.400020        0.3700\n",
       "16 Cyg B b   798.500000        0.6800\n",
       "...                 ...           ...\n",
       "ups And b      4.617033        0.0215\n",
       "ups And c    241.258000        0.2596\n",
       "ups And d   1276.460000        0.2987\n",
       "ups Leo b    385.200000        0.3200\n",
       "xi Aql b     136.750000        0.0000\n",
       "\n",
       "[1758 rows x 2 columns]"
      ]
     },
     "execution_count": 32,
     "metadata": {},
     "output_type": "execute_result"
    }
   ],
   "source": [
    "x6 = df3[['orbitperiod', 'eccentricity']]\n",
    "x6"
   ]
  },
  {
   "cell_type": "code",
   "execution_count": 33,
   "id": "442b7031",
   "metadata": {},
   "outputs": [],
   "source": [
    "rs = RobustScaler().fit(x6)\n",
    "transformer = rs.transform(x6)"
   ]
  },
  {
   "cell_type": "code",
   "execution_count": 34,
   "id": "88bbb66c",
   "metadata": {},
   "outputs": [
    {
     "data": {
      "text/plain": [
       "numpy.ndarray"
      ]
     },
     "execution_count": 34,
     "metadata": {},
     "output_type": "execute_result"
    }
   ],
   "source": [
    "type(transformer)"
   ]
  },
  {
   "cell_type": "code",
   "execution_count": 35,
   "id": "d5f324ad",
   "metadata": {},
   "outputs": [
    {
     "data": {
      "text/plain": [
       "1758"
      ]
     },
     "execution_count": 35,
     "metadata": {},
     "output_type": "execute_result"
    }
   ],
   "source": [
    "len(transformer)"
   ]
  },
  {
   "cell_type": "code",
   "execution_count": 36,
   "id": "8c00d36f",
   "metadata": {},
   "outputs": [
    {
     "data": {
      "text/plain": [
       "array([[ 0.76860204,  0.68780488],\n",
       "       [ 1.24344198, -0.04878049],\n",
       "       [ 0.4185951 , -0.43902439],\n",
       "       ...,\n",
       "       [ 3.14150382,  1.01804878],\n",
       "       [ 0.91632949,  1.12195122],\n",
       "       [ 0.296034  , -0.43902439]])"
      ]
     },
     "execution_count": 36,
     "metadata": {},
     "output_type": "execute_result"
    }
   ],
   "source": [
    "transformer"
   ]
  },
  {
   "cell_type": "code",
   "execution_count": 37,
   "id": "afd2e523",
   "metadata": {},
   "outputs": [
    {
     "data": {
      "text/plain": [
       "(1758, 2)"
      ]
     },
     "execution_count": 37,
     "metadata": {},
     "output_type": "execute_result"
    }
   ],
   "source": [
    "transformer.shape"
   ]
  },
  {
   "cell_type": "code",
   "execution_count": 38,
   "id": "6fa1c827",
   "metadata": {},
   "outputs": [],
   "source": [
    "X = transformer[:, 0]\n",
    "y = transformer[:, 1]"
   ]
  },
  {
   "cell_type": "markdown",
   "id": "329f6cca",
   "metadata": {},
   "source": [
    "Now to split the data into training and testing using the test-train-split function defined earlier in the script."
   ]
  },
  {
   "cell_type": "code",
   "execution_count": 39,
   "id": "7a08ec7b",
   "metadata": {},
   "outputs": [],
   "source": [
    "x_train, x_test = tts(X)\n",
    "y_train, y_test = tts(y)"
   ]
  },
  {
   "cell_type": "code",
   "execution_count": 40,
   "id": "99cd1dd9",
   "metadata": {},
   "outputs": [
    {
     "name": "stdout",
     "output_type": "stream",
     "text": [
      "\n",
      "Training x shape:  (1407,)\n",
      "Training y shape:  (1407,)\n",
      "Test x shape:  (351,)\n",
      "Test y shape:  (351,)\n"
     ]
    }
   ],
   "source": [
    "x1_train, y1_train = pd.DataFrame(x_train), pd.DataFrame(y_train)\n",
    "x1_test, y1_test = pd.DataFrame(x_test), pd.DataFrame(y_test)\n",
    "print('\\nTraining x shape: ', x_train.shape)\n",
    "print('Training y shape: ', y_train.shape)\n",
    "print('Test x shape: ', x_test.shape)\n",
    "print('Test y shape: ', y_test.shape)"
   ]
  },
  {
   "cell_type": "markdown",
   "id": "80f64008",
   "metadata": {},
   "source": [
    "Want to establish a baseline to compare to the ML model against. Will create a funciton using the Random Prediction Algorithm."
   ]
  },
  {
   "cell_type": "code",
   "execution_count": 41,
   "id": "a70463cc",
   "metadata": {},
   "outputs": [],
   "source": [
    "# Generate random predictions.\n",
    "def random_algorithm(train, test):\n",
    "    output_values = [row[-1] for row in train]\n",
    "    unique = list(set(output_values))\n",
    "    predicted = list()\n",
    "    for row in test:\n",
    "        index = randrange(len(unique))\n",
    "        predicted.append(unique[index])\n",
    "    return predicted"
   ]
  },
  {
   "cell_type": "code",
   "execution_count": 42,
   "id": "bbf6a4f9",
   "metadata": {},
   "outputs": [
    {
     "name": "stdout",
     "output_type": "stream",
     "text": [
      "[-0.017098509590587247]\n"
     ]
    }
   ],
   "source": [
    "# Test the function above against the previous data.\n",
    "predictions = random_algorithm([x_train], [x_test])\n",
    "print(predictions)"
   ]
  },
  {
   "cell_type": "code",
   "execution_count": null,
   "id": "4f1cecc9",
   "metadata": {},
   "outputs": [],
   "source": []
  },
  {
   "cell_type": "markdown",
   "id": "cb1e63a1",
   "metadata": {},
   "source": [
    "Will run kNN for various values of n_neighbors and store results."
   ]
  },
  {
   "cell_type": "code",
   "execution_count": 43,
   "id": "ddda0533",
   "metadata": {},
   "outputs": [
    {
     "ename": "ValueError",
     "evalue": "Expected 2D array, got 1D array instead:\narray=[ 1.20634228e+01  4.58691478e-01  4.28729171e-03 ...  2.36039837e+00\n  5.19486554e-02 -1.70985096e-02].\nReshape your data either using array.reshape(-1, 1) if your data has a single feature or array.reshape(1, -1) if it contains a single sample.",
     "output_type": "error",
     "traceback": [
      "\u001b[1;31m---------------------------------------------------------------------------\u001b[0m",
      "\u001b[1;31mValueError\u001b[0m                                Traceback (most recent call last)",
      "Input \u001b[1;32mIn [43]\u001b[0m, in \u001b[0;36m<cell line: 2>\u001b[1;34m()\u001b[0m\n\u001b[0;32m      2\u001b[0m \u001b[38;5;28;01mfor\u001b[39;00m j \u001b[38;5;129;01min\u001b[39;00m \u001b[38;5;28mrange\u001b[39m(\u001b[38;5;241m1\u001b[39m, \u001b[38;5;241m45\u001b[39m, \u001b[38;5;241m1\u001b[39m):\n\u001b[0;32m      3\u001b[0m     knn \u001b[38;5;241m=\u001b[39m KNeighborsRegressor(n_neighbors \u001b[38;5;241m=\u001b[39m j)\n\u001b[1;32m----> 4\u001b[0m     \u001b[43mknn\u001b[49m\u001b[38;5;241;43m.\u001b[39;49m\u001b[43mfit\u001b[49m\u001b[43m(\u001b[49m\u001b[43mx_train\u001b[49m\u001b[43m,\u001b[49m\u001b[43m \u001b[49m\u001b[43my_train\u001b[49m\u001b[43m)\u001b[49m\n\u001b[0;32m      6\u001b[0m     test_score \u001b[38;5;241m=\u001b[39m knn\u001b[38;5;241m.\u001b[39mscore(x_test, y_test)\n\u001b[0;32m      7\u001b[0m     train_score \u001b[38;5;241m=\u001b[39m knn\u001b[38;5;241m.\u001b[39mscore(x_train, y_train)\n",
      "File \u001b[1;32mc:\\users\\joepb\\miniconda3\\lib\\site-packages\\sklearn\\neighbors\\_regression.py:213\u001b[0m, in \u001b[0;36mKNeighborsRegressor.fit\u001b[1;34m(self, X, y)\u001b[0m\n\u001b[0;32m    194\u001b[0m \u001b[38;5;124;03m\"\"\"Fit the k-nearest neighbors regressor from the training dataset.\u001b[39;00m\n\u001b[0;32m    195\u001b[0m \n\u001b[0;32m    196\u001b[0m \u001b[38;5;124;03mParameters\u001b[39;00m\n\u001b[1;32m   (...)\u001b[0m\n\u001b[0;32m    209\u001b[0m \u001b[38;5;124;03m    The fitted k-nearest neighbors regressor.\u001b[39;00m\n\u001b[0;32m    210\u001b[0m \u001b[38;5;124;03m\"\"\"\u001b[39;00m\n\u001b[0;32m    211\u001b[0m \u001b[38;5;28mself\u001b[39m\u001b[38;5;241m.\u001b[39mweights \u001b[38;5;241m=\u001b[39m _check_weights(\u001b[38;5;28mself\u001b[39m\u001b[38;5;241m.\u001b[39mweights)\n\u001b[1;32m--> 213\u001b[0m \u001b[38;5;28;01mreturn\u001b[39;00m \u001b[38;5;28;43mself\u001b[39;49m\u001b[38;5;241;43m.\u001b[39;49m\u001b[43m_fit\u001b[49m\u001b[43m(\u001b[49m\u001b[43mX\u001b[49m\u001b[43m,\u001b[49m\u001b[43m \u001b[49m\u001b[43my\u001b[49m\u001b[43m)\u001b[49m\n",
      "File \u001b[1;32mc:\\users\\joepb\\miniconda3\\lib\\site-packages\\sklearn\\neighbors\\_base.py:400\u001b[0m, in \u001b[0;36mNeighborsBase._fit\u001b[1;34m(self, X, y)\u001b[0m\n\u001b[0;32m    398\u001b[0m \u001b[38;5;28;01mif\u001b[39;00m \u001b[38;5;28mself\u001b[39m\u001b[38;5;241m.\u001b[39m_get_tags()[\u001b[38;5;124m\"\u001b[39m\u001b[38;5;124mrequires_y\u001b[39m\u001b[38;5;124m\"\u001b[39m]:\n\u001b[0;32m    399\u001b[0m     \u001b[38;5;28;01mif\u001b[39;00m \u001b[38;5;129;01mnot\u001b[39;00m \u001b[38;5;28misinstance\u001b[39m(X, (KDTree, BallTree, NeighborsBase)):\n\u001b[1;32m--> 400\u001b[0m         X, y \u001b[38;5;241m=\u001b[39m \u001b[38;5;28;43mself\u001b[39;49m\u001b[38;5;241;43m.\u001b[39;49m\u001b[43m_validate_data\u001b[49m\u001b[43m(\u001b[49m\u001b[43mX\u001b[49m\u001b[43m,\u001b[49m\u001b[43m \u001b[49m\u001b[43my\u001b[49m\u001b[43m,\u001b[49m\u001b[43m \u001b[49m\u001b[43maccept_sparse\u001b[49m\u001b[38;5;241;43m=\u001b[39;49m\u001b[38;5;124;43m\"\u001b[39;49m\u001b[38;5;124;43mcsr\u001b[39;49m\u001b[38;5;124;43m\"\u001b[39;49m\u001b[43m,\u001b[49m\u001b[43m \u001b[49m\u001b[43mmulti_output\u001b[49m\u001b[38;5;241;43m=\u001b[39;49m\u001b[38;5;28;43;01mTrue\u001b[39;49;00m\u001b[43m)\u001b[49m\n\u001b[0;32m    402\u001b[0m     \u001b[38;5;28;01mif\u001b[39;00m is_classifier(\u001b[38;5;28mself\u001b[39m):\n\u001b[0;32m    403\u001b[0m         \u001b[38;5;66;03m# Classification targets require a specific format\u001b[39;00m\n\u001b[0;32m    404\u001b[0m         \u001b[38;5;28;01mif\u001b[39;00m y\u001b[38;5;241m.\u001b[39mndim \u001b[38;5;241m==\u001b[39m \u001b[38;5;241m1\u001b[39m \u001b[38;5;129;01mor\u001b[39;00m y\u001b[38;5;241m.\u001b[39mndim \u001b[38;5;241m==\u001b[39m \u001b[38;5;241m2\u001b[39m \u001b[38;5;129;01mand\u001b[39;00m y\u001b[38;5;241m.\u001b[39mshape[\u001b[38;5;241m1\u001b[39m] \u001b[38;5;241m==\u001b[39m \u001b[38;5;241m1\u001b[39m:\n",
      "File \u001b[1;32mc:\\users\\joepb\\miniconda3\\lib\\site-packages\\sklearn\\base.py:581\u001b[0m, in \u001b[0;36mBaseEstimator._validate_data\u001b[1;34m(self, X, y, reset, validate_separately, **check_params)\u001b[0m\n\u001b[0;32m    579\u001b[0m         y \u001b[38;5;241m=\u001b[39m check_array(y, \u001b[38;5;241m*\u001b[39m\u001b[38;5;241m*\u001b[39mcheck_y_params)\n\u001b[0;32m    580\u001b[0m     \u001b[38;5;28;01melse\u001b[39;00m:\n\u001b[1;32m--> 581\u001b[0m         X, y \u001b[38;5;241m=\u001b[39m check_X_y(X, y, \u001b[38;5;241m*\u001b[39m\u001b[38;5;241m*\u001b[39mcheck_params)\n\u001b[0;32m    582\u001b[0m     out \u001b[38;5;241m=\u001b[39m X, y\n\u001b[0;32m    584\u001b[0m \u001b[38;5;28;01mif\u001b[39;00m \u001b[38;5;129;01mnot\u001b[39;00m no_val_X \u001b[38;5;129;01mand\u001b[39;00m check_params\u001b[38;5;241m.\u001b[39mget(\u001b[38;5;124m\"\u001b[39m\u001b[38;5;124mensure_2d\u001b[39m\u001b[38;5;124m\"\u001b[39m, \u001b[38;5;28;01mTrue\u001b[39;00m):\n",
      "File \u001b[1;32mc:\\users\\joepb\\miniconda3\\lib\\site-packages\\sklearn\\utils\\validation.py:964\u001b[0m, in \u001b[0;36mcheck_X_y\u001b[1;34m(X, y, accept_sparse, accept_large_sparse, dtype, order, copy, force_all_finite, ensure_2d, allow_nd, multi_output, ensure_min_samples, ensure_min_features, y_numeric, estimator)\u001b[0m\n\u001b[0;32m    961\u001b[0m \u001b[38;5;28;01mif\u001b[39;00m y \u001b[38;5;129;01mis\u001b[39;00m \u001b[38;5;28;01mNone\u001b[39;00m:\n\u001b[0;32m    962\u001b[0m     \u001b[38;5;28;01mraise\u001b[39;00m \u001b[38;5;167;01mValueError\u001b[39;00m(\u001b[38;5;124m\"\u001b[39m\u001b[38;5;124my cannot be None\u001b[39m\u001b[38;5;124m\"\u001b[39m)\n\u001b[1;32m--> 964\u001b[0m X \u001b[38;5;241m=\u001b[39m \u001b[43mcheck_array\u001b[49m\u001b[43m(\u001b[49m\n\u001b[0;32m    965\u001b[0m \u001b[43m    \u001b[49m\u001b[43mX\u001b[49m\u001b[43m,\u001b[49m\n\u001b[0;32m    966\u001b[0m \u001b[43m    \u001b[49m\u001b[43maccept_sparse\u001b[49m\u001b[38;5;241;43m=\u001b[39;49m\u001b[43maccept_sparse\u001b[49m\u001b[43m,\u001b[49m\n\u001b[0;32m    967\u001b[0m \u001b[43m    \u001b[49m\u001b[43maccept_large_sparse\u001b[49m\u001b[38;5;241;43m=\u001b[39;49m\u001b[43maccept_large_sparse\u001b[49m\u001b[43m,\u001b[49m\n\u001b[0;32m    968\u001b[0m \u001b[43m    \u001b[49m\u001b[43mdtype\u001b[49m\u001b[38;5;241;43m=\u001b[39;49m\u001b[43mdtype\u001b[49m\u001b[43m,\u001b[49m\n\u001b[0;32m    969\u001b[0m \u001b[43m    \u001b[49m\u001b[43morder\u001b[49m\u001b[38;5;241;43m=\u001b[39;49m\u001b[43morder\u001b[49m\u001b[43m,\u001b[49m\n\u001b[0;32m    970\u001b[0m \u001b[43m    \u001b[49m\u001b[43mcopy\u001b[49m\u001b[38;5;241;43m=\u001b[39;49m\u001b[43mcopy\u001b[49m\u001b[43m,\u001b[49m\n\u001b[0;32m    971\u001b[0m \u001b[43m    \u001b[49m\u001b[43mforce_all_finite\u001b[49m\u001b[38;5;241;43m=\u001b[39;49m\u001b[43mforce_all_finite\u001b[49m\u001b[43m,\u001b[49m\n\u001b[0;32m    972\u001b[0m \u001b[43m    \u001b[49m\u001b[43mensure_2d\u001b[49m\u001b[38;5;241;43m=\u001b[39;49m\u001b[43mensure_2d\u001b[49m\u001b[43m,\u001b[49m\n\u001b[0;32m    973\u001b[0m \u001b[43m    \u001b[49m\u001b[43mallow_nd\u001b[49m\u001b[38;5;241;43m=\u001b[39;49m\u001b[43mallow_nd\u001b[49m\u001b[43m,\u001b[49m\n\u001b[0;32m    974\u001b[0m \u001b[43m    \u001b[49m\u001b[43mensure_min_samples\u001b[49m\u001b[38;5;241;43m=\u001b[39;49m\u001b[43mensure_min_samples\u001b[49m\u001b[43m,\u001b[49m\n\u001b[0;32m    975\u001b[0m \u001b[43m    \u001b[49m\u001b[43mensure_min_features\u001b[49m\u001b[38;5;241;43m=\u001b[39;49m\u001b[43mensure_min_features\u001b[49m\u001b[43m,\u001b[49m\n\u001b[0;32m    976\u001b[0m \u001b[43m    \u001b[49m\u001b[43mestimator\u001b[49m\u001b[38;5;241;43m=\u001b[39;49m\u001b[43mestimator\u001b[49m\u001b[43m,\u001b[49m\n\u001b[0;32m    977\u001b[0m \u001b[43m\u001b[49m\u001b[43m)\u001b[49m\n\u001b[0;32m    979\u001b[0m y \u001b[38;5;241m=\u001b[39m _check_y(y, multi_output\u001b[38;5;241m=\u001b[39mmulti_output, y_numeric\u001b[38;5;241m=\u001b[39my_numeric)\n\u001b[0;32m    981\u001b[0m check_consistent_length(X, y)\n",
      "File \u001b[1;32mc:\\users\\joepb\\miniconda3\\lib\\site-packages\\sklearn\\utils\\validation.py:769\u001b[0m, in \u001b[0;36mcheck_array\u001b[1;34m(array, accept_sparse, accept_large_sparse, dtype, order, copy, force_all_finite, ensure_2d, allow_nd, ensure_min_samples, ensure_min_features, estimator)\u001b[0m\n\u001b[0;32m    767\u001b[0m     \u001b[38;5;66;03m# If input is 1D raise error\u001b[39;00m\n\u001b[0;32m    768\u001b[0m     \u001b[38;5;28;01mif\u001b[39;00m array\u001b[38;5;241m.\u001b[39mndim \u001b[38;5;241m==\u001b[39m \u001b[38;5;241m1\u001b[39m:\n\u001b[1;32m--> 769\u001b[0m         \u001b[38;5;28;01mraise\u001b[39;00m \u001b[38;5;167;01mValueError\u001b[39;00m(\n\u001b[0;32m    770\u001b[0m             \u001b[38;5;124m\"\u001b[39m\u001b[38;5;124mExpected 2D array, got 1D array instead:\u001b[39m\u001b[38;5;130;01m\\n\u001b[39;00m\u001b[38;5;124marray=\u001b[39m\u001b[38;5;132;01m{}\u001b[39;00m\u001b[38;5;124m.\u001b[39m\u001b[38;5;130;01m\\n\u001b[39;00m\u001b[38;5;124m\"\u001b[39m\n\u001b[0;32m    771\u001b[0m             \u001b[38;5;124m\"\u001b[39m\u001b[38;5;124mReshape your data either using array.reshape(-1, 1) if \u001b[39m\u001b[38;5;124m\"\u001b[39m\n\u001b[0;32m    772\u001b[0m             \u001b[38;5;124m\"\u001b[39m\u001b[38;5;124myour data has a single feature or array.reshape(1, -1) \u001b[39m\u001b[38;5;124m\"\u001b[39m\n\u001b[0;32m    773\u001b[0m             \u001b[38;5;124m\"\u001b[39m\u001b[38;5;124mif it contains a single sample.\u001b[39m\u001b[38;5;124m\"\u001b[39m\u001b[38;5;241m.\u001b[39mformat(array)\n\u001b[0;32m    774\u001b[0m         )\n\u001b[0;32m    776\u001b[0m \u001b[38;5;66;03m# make sure we actually converted to numeric:\u001b[39;00m\n\u001b[0;32m    777\u001b[0m \u001b[38;5;28;01mif\u001b[39;00m dtype_numeric \u001b[38;5;129;01mand\u001b[39;00m array\u001b[38;5;241m.\u001b[39mdtype\u001b[38;5;241m.\u001b[39mkind \u001b[38;5;129;01min\u001b[39;00m \u001b[38;5;124m\"\u001b[39m\u001b[38;5;124mOUSV\u001b[39m\u001b[38;5;124m\"\u001b[39m:\n",
      "\u001b[1;31mValueError\u001b[0m: Expected 2D array, got 1D array instead:\narray=[ 1.20634228e+01  4.58691478e-01  4.28729171e-03 ...  2.36039837e+00\n  5.19486554e-02 -1.70985096e-02].\nReshape your data either using array.reshape(-1, 1) if your data has a single feature or array.reshape(1, -1) if it contains a single sample."
     ]
    }
   ],
   "source": [
    "knn_r_acc = []\n",
    "for j in range(1, 45, 1):\n",
    "    knn = KNeighborsRegressor(n_neighbors = j)\n",
    "    knn.fit(x_train, y_train)\n",
    "    \n",
    "    test_score = knn.score(x_test, y_test)\n",
    "    train_score = knn.score(x_train, y_train)\n",
    "    \n",
    "    knn_r_acc.append((j, test_score, train_score))\n",
    "   \n",
    "results = pd.DataFrame(knn_r_acc, columns = ['k', 'Test Score', 'Train Score'])\n",
    "print(results)\n",
    "print(results.iloc[:,1].max())"
   ]
  },
  {
   "cell_type": "markdown",
   "id": "af54bcfc",
   "metadata": {},
   "source": [
    "According to the results above, k = 29 seems to be the best k. What is concerning is that I feel if I extended the 'for' loop to a higher value, perhaps I would see a better performing k value."
   ]
  },
  {
   "cell_type": "markdown",
   "id": "30b1ae64",
   "metadata": {},
   "source": [
    "Now, by adjusting the range of for loop to 45, found the optimal k to be k = 40."
   ]
  },
  {
   "cell_type": "markdown",
   "id": "6a9606ee",
   "metadata": {},
   "source": [
    "Will now create the kNN model."
   ]
  },
  {
   "cell_type": "code",
   "execution_count": null,
   "id": "6ef505f1",
   "metadata": {},
   "outputs": [],
   "source": [
    "model_knn = KNeighborsRegressor(n_neighbors = 40)\n",
    "model_knn.fit(x_train, y_train)\n",
    "y_knn_train_pred = model_knn.predict(x_train)\n",
    "y_knn_test_pred = model_knn.predict(x_test)"
   ]
  },
  {
   "cell_type": "markdown",
   "id": "ab296595",
   "metadata": {},
   "source": [
    "For model performace, first the training mean square error and R2 score."
   ]
  },
  {
   "cell_type": "code",
   "execution_count": null,
   "id": "427381bd",
   "metadata": {},
   "outputs": [],
   "source": [
    "knn_train_mse = mean_squared_error(y_train, y_knn_train_pred)\n",
    "knn_train_r2 = r2_score(y_train, y_knn_train_pred)\n",
    "# Now, test mean square and r2 score.\n",
    "knn_test_mse = mean_squared_error(y_test, y_knn_test_pred)\n",
    "knn_test_r2 = r2_score(y_test, y_knn_test_pred)\n",
    "# Consolidate the results.\n",
    "knn_results = pd.DataFrame(['k Nearest Neighbor', knn_train_mse, knn_train_r2, knn_test_mse, knn_test_r2]).transpose()\n",
    "#results1 = pd.DataFrame(columns = ['Method', 'Training MSE', 'Training R2', 'Test MSE', 'Test R2'])\n",
    "results1 = pd.DataFrame()\n",
    "results1 = pd.concat([results1, knn_results])\n",
    "print(results1)\n",
    "#knn_results.columns = ['Method', 'Training MSE', 'Training R2', 'Test MSE', 'Test R2']\n",
    "#print(knn_results)"
   ]
  },
  {
   "cell_type": "code",
   "execution_count": null,
   "id": "9ef745b2",
   "metadata": {},
   "outputs": [],
   "source": [
    "len(y_knn_test_pred)"
   ]
  },
  {
   "cell_type": "code",
   "execution_count": null,
   "id": "ca43258f",
   "metadata": {},
   "outputs": [],
   "source": [
    "len(y_test)"
   ]
  },
  {
   "cell_type": "code",
   "execution_count": null,
   "id": "e98f4c73",
   "metadata": {},
   "outputs": [],
   "source": [
    "true_values = y_test\n",
    "predicted_values = y_knn_test_pred\n",
    "plt.figure(figsize = (9,9))\n",
    "plt.scatter(true_values, predicted_values, c = 'crimson')\n",
    "plt.yscale('log')\n",
    "plt.xscale('log')\n",
    "\n",
    "p1 = max(max(predicted_values), max(true_values))\n",
    "p2 = min(min(predicted_values), min(true_values))\n",
    "#plt.plot([p1, p2], [p1, p2], 'b-')\n",
    "\n",
    "plt.xlabel('True Values', fontsize = 10)\n",
    "plt.ylabel('Predictions', fontsize = 10)\n",
    "plt.axis('equal')\n",
    "plt.show()"
   ]
  },
  {
   "cell_type": "code",
   "execution_count": null,
   "id": "f4d1c35e",
   "metadata": {},
   "outputs": [],
   "source": [
    "g = plt.plot(true_values - predicted_values, marker = 'o', linestyle = '')"
   ]
  },
  {
   "cell_type": "code",
   "execution_count": null,
   "id": "cb169550",
   "metadata": {},
   "outputs": [],
   "source": [
    "#from yellowbrick.regressor import prediction_error\n",
    "#model = Lasso()\n",
    "#visualizer = prediciton_error(model, x_train, y_train, x_test, y_test)"
   ]
  },
  {
   "cell_type": "code",
   "execution_count": null,
   "id": "873cf214",
   "metadata": {},
   "outputs": [],
   "source": [
    "#Set plot size\n",
    "#plt.subplots(figsize=(10,5))\n",
    "#Set X-Axis range\n",
    "#plt.xlim(min(true_values), max(true_values))\n",
    "#plt.title('Model Error Distribution')\n",
    "#plt.ylabel('No. of Predictions')\n",
    "#plt.xlabel('Error')\n",
    "#plt.hist(predictions['error'], bins=np.linspace(min(test_values), max(test_values), num=41, dtype=int));\n",
    "#plt.show()"
   ]
  },
  {
   "cell_type": "code",
   "execution_count": null,
   "id": "f799f9ac",
   "metadata": {},
   "outputs": [],
   "source": [
    "residuals = true_values - predicted_values\n",
    "plt.scatter(true_values, residuals)\n"
   ]
  },
  {
   "cell_type": "markdown",
   "id": "a89d6f4e",
   "metadata": {},
   "source": [
    "There is an obvious positive linear relationship which indicates that the kNN model is not best supervised learning model for this data."
   ]
  },
  {
   "cell_type": "code",
   "execution_count": null,
   "id": "2d54bfbe",
   "metadata": {},
   "outputs": [],
   "source": [
    "w1 = x6.iloc[:, 0:1].values\n",
    "w2 = x6.iloc[:, 1:2].values\n",
    "from sklearn.preprocessing import StandardScaler\n",
    "sc_X = StandardScaler()\n",
    "sc_y = StandardScaler()\n",
    "w3 = sc_X.fit_transform(w1)\n",
    "w4 = sc_y.fit_transform(w2)\n",
    "w1_train, w1_test = tts(w3)\n",
    "w2_train, w2_test = tts(w4)"
   ]
  },
  {
   "cell_type": "code",
   "execution_count": null,
   "id": "6acc22bc",
   "metadata": {},
   "outputs": [],
   "source": [
    "from sklearn.svm import SVR\n",
    "regressor = SVR(kernel = 'rbf')\n",
    "regressor.fit(w1_train, w2_train)\n",
    "y_svr_train_pred = regressor.predict(w1_train)\n",
    "y_svr_test_pred = regressor.predict(w1_test)\n",
    "# Model performance\n",
    "svr_train_mse = mean_squared_error(w2_train, y_svr_train_pred)\n",
    "svr_train_r2 = r2_score(w2_train, y_svr_train_pred)\n",
    "# Test results\n",
    "svr_test_mse = mean_squared_error(w2_test, y_svr_test_pred)\n",
    "svr_test_r2 = r2_score(w2_test, y_svr_test_pred)\n",
    "# Consolidate the results.\n",
    "#svr_results = pd.DataFrame(['SVR', svr_train_mse, svr_train_r2, svr_test_mse, svr_test_r2]).T\n",
    "svr_results = pd.DataFrame(['SVR', svr_train_mse, svr_train_r2, svr_test_mse, svr_test_r2])\n",
    "#results2 = pd.concat([knn_results, svr_results.T], ignore_index = False)\n",
    "#print(results2)"
   ]
  },
  {
   "cell_type": "code",
   "execution_count": null,
   "id": "f1f3b89c",
   "metadata": {},
   "outputs": [],
   "source": [
    "results2 = pd.concat([knn_results,svr_results.T], ignore_index = True)\n",
    "results2.columns = ['Method', 'Training MSE', 'Training R2', 'Test MSE', 'Test R2']\n",
    "results2"
   ]
  },
  {
   "cell_type": "markdown",
   "id": "f1bff539",
   "metadata": {},
   "source": [
    "Now want to model using Random Forest."
   ]
  },
  {
   "cell_type": "code",
   "execution_count": null,
   "id": "230464bc",
   "metadata": {},
   "outputs": [],
   "source": [
    "from sklearn.ensemble import RandomForestRegressor\n",
    "from sklearn import preprocessing\n",
    "from sklearn import utils"
   ]
  },
  {
   "cell_type": "code",
   "execution_count": null,
   "id": "9bdede90",
   "metadata": {},
   "outputs": [],
   "source": [
    "a = ['eccentricity']\n",
    "b = ['orbitperiod']\n",
    "predictor = x6[a]\n",
    "response = x6[b]\n",
    "le = preprocessing.LabelEncoder()\n",
    "encoded = le.fit_transform(response)"
   ]
  },
  {
   "cell_type": "code",
   "execution_count": null,
   "id": "66fb5fd0",
   "metadata": {},
   "outputs": [],
   "source": [
    "rf = RandomForestClassifier(n_estimators = 500, random_state = 1, oob_score = True)\n",
    "rf.fit(predictor, encoded.ravel())\n",
    "print(rf.oob_decision_function_)"
   ]
  }
 ],
 "metadata": {
  "kernelspec": {
   "display_name": "Python 3 (ipykernel)",
   "language": "python",
   "name": "python3"
  },
  "language_info": {
   "codemirror_mode": {
    "name": "ipython",
    "version": 3
   },
   "file_extension": ".py",
   "mimetype": "text/x-python",
   "name": "python",
   "nbconvert_exporter": "python",
   "pygments_lexer": "ipython3",
   "version": "3.9.5"
  }
 },
 "nbformat": 4,
 "nbformat_minor": 5
}
