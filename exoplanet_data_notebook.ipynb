{
 "cells": [
  {
   "cell_type": "markdown",
   "id": "6d64e564",
   "metadata": {},
   "source": [
    "# Planetary Data Analysis Notebook"
   ]
  },
  {
   "cell_type": "markdown",
   "id": "5c8adbfc",
   "metadata": {},
   "source": [
    "For the first part of this script, I will solely focus on the kNN supervised learning technique applied to the data pertaining to exoplanets from NASA."
   ]
  },
  {
   "cell_type": "code",
   "execution_count": 1,
   "id": "a3520729",
   "metadata": {},
   "outputs": [],
   "source": [
    "# Import necessary libraries\n",
    "from random import seed\n",
    "from random import randrange\n",
    "from numpy.random import rand\n",
    "from numpy.random import randint\n",
    "import pandas as pd\n",
    "import matplotlib.pyplot as plt\n",
    "import numpy as np\n",
    "import statistics\n",
    "import seaborn as sns\n",
    "from sklearn.neighbors import KNeighborsRegressor\n",
    "from sklearn.svm import SVR, LinearSVR\n",
    "from sklearn.ensemble import RandomForestRegressor\n",
    "from sklearn.metrics import mean_squared_error, r2_score\n",
    "from sklearn.metrics import mean_absolute_error, mean_squared_error\n",
    "from sklearn.model_selection import train_test_split\n",
    "from sklearn.utils import resample\n",
    "from scipy import stats\n",
    "from math import sqrt"
   ]
  },
  {
   "cell_type": "code",
   "execution_count": 2,
   "id": "faaf1b66",
   "metadata": {
    "scrolled": true
   },
   "outputs": [],
   "source": [
    "# Assign path of data to a variable.\n",
    "# Initiate first data frame with raw data.\n",
    "seed(11)\n",
    "path = 'https://raw.githubusercontent.com/jbravo87/blog-projects/main/data/PS_2022.05.10_21.48.38.csv'\n",
    "raw_data = pd.read_csv(path, skiprows = 12)"
   ]
  },
  {
   "cell_type": "markdown",
   "id": "5a5ba78c",
   "metadata": {},
   "source": [
    "Need to remove the first twelve rows. These rows contain copious notes/remarks. Want to see the head and tail of the data as well as the column names."
   ]
  },
  {
   "cell_type": "code",
   "execution_count": 3,
   "id": "f4490111",
   "metadata": {},
   "outputs": [
    {
     "data": {
      "text/html": [
       "<div>\n",
       "<style scoped>\n",
       "    .dataframe tbody tr th:only-of-type {\n",
       "        vertical-align: middle;\n",
       "    }\n",
       "\n",
       "    .dataframe tbody tr th {\n",
       "        vertical-align: top;\n",
       "    }\n",
       "\n",
       "    .dataframe thead th {\n",
       "        text-align: right;\n",
       "    }\n",
       "</style>\n",
       "<table border=\"1\" class=\"dataframe\">\n",
       "  <thead>\n",
       "    <tr style=\"text-align: right;\">\n",
       "      <th></th>\n",
       "      <th>pl_name</th>\n",
       "      <th>hostname</th>\n",
       "      <th>pl_orbper</th>\n",
       "      <th>pl_bmassj</th>\n",
       "      <th>pl_orbeccen</th>\n",
       "      <th>pl_eqt</th>\n",
       "    </tr>\n",
       "  </thead>\n",
       "  <tbody>\n",
       "    <tr>\n",
       "      <th>0</th>\n",
       "      <td>11 Com b</td>\n",
       "      <td>11 Com</td>\n",
       "      <td>326.03000</td>\n",
       "      <td>19.40</td>\n",
       "      <td>0.231</td>\n",
       "      <td>NaN</td>\n",
       "    </tr>\n",
       "    <tr>\n",
       "      <th>1</th>\n",
       "      <td>11 Com b</td>\n",
       "      <td>11 Com</td>\n",
       "      <td>NaN</td>\n",
       "      <td>17.10</td>\n",
       "      <td>NaN</td>\n",
       "      <td>NaN</td>\n",
       "    </tr>\n",
       "    <tr>\n",
       "      <th>2</th>\n",
       "      <td>11 UMi b</td>\n",
       "      <td>11 UMi</td>\n",
       "      <td>NaN</td>\n",
       "      <td>10.80</td>\n",
       "      <td>NaN</td>\n",
       "      <td>NaN</td>\n",
       "    </tr>\n",
       "    <tr>\n",
       "      <th>3</th>\n",
       "      <td>11 UMi b</td>\n",
       "      <td>11 UMi</td>\n",
       "      <td>516.21997</td>\n",
       "      <td>14.74</td>\n",
       "      <td>0.080</td>\n",
       "      <td>NaN</td>\n",
       "    </tr>\n",
       "    <tr>\n",
       "      <th>4</th>\n",
       "      <td>11 UMi b</td>\n",
       "      <td>11 UMi</td>\n",
       "      <td>516.22000</td>\n",
       "      <td>10.50</td>\n",
       "      <td>0.080</td>\n",
       "      <td>NaN</td>\n",
       "    </tr>\n",
       "    <tr>\n",
       "      <th>...</th>\n",
       "      <td>...</td>\n",
       "      <td>...</td>\n",
       "      <td>...</td>\n",
       "      <td>...</td>\n",
       "      <td>...</td>\n",
       "      <td>...</td>\n",
       "    </tr>\n",
       "    <tr>\n",
       "      <th>32511</th>\n",
       "      <td>ups And d</td>\n",
       "      <td>ups And</td>\n",
       "      <td>1282.41000</td>\n",
       "      <td>4.10</td>\n",
       "      <td>0.294</td>\n",
       "      <td>NaN</td>\n",
       "    </tr>\n",
       "    <tr>\n",
       "      <th>32512</th>\n",
       "      <td>ups And d</td>\n",
       "      <td>ups And</td>\n",
       "      <td>1281.50700</td>\n",
       "      <td>10.25</td>\n",
       "      <td>0.316</td>\n",
       "      <td>NaN</td>\n",
       "    </tr>\n",
       "    <tr>\n",
       "      <th>32513</th>\n",
       "      <td>ups Leo b</td>\n",
       "      <td>ups Leo</td>\n",
       "      <td>385.20000</td>\n",
       "      <td>0.51</td>\n",
       "      <td>0.320</td>\n",
       "      <td>NaN</td>\n",
       "    </tr>\n",
       "    <tr>\n",
       "      <th>32514</th>\n",
       "      <td>xi Aql b</td>\n",
       "      <td>xi Aql</td>\n",
       "      <td>NaN</td>\n",
       "      <td>2.02</td>\n",
       "      <td>NaN</td>\n",
       "      <td>NaN</td>\n",
       "    </tr>\n",
       "    <tr>\n",
       "      <th>32515</th>\n",
       "      <td>xi Aql b</td>\n",
       "      <td>xi Aql</td>\n",
       "      <td>136.75000</td>\n",
       "      <td>2.80</td>\n",
       "      <td>0.000</td>\n",
       "      <td>NaN</td>\n",
       "    </tr>\n",
       "  </tbody>\n",
       "</table>\n",
       "<p>32516 rows × 6 columns</p>\n",
       "</div>"
      ],
      "text/plain": [
       "         pl_name hostname   pl_orbper  pl_bmassj  pl_orbeccen  pl_eqt\n",
       "0       11 Com b   11 Com   326.03000      19.40        0.231     NaN\n",
       "1       11 Com b   11 Com         NaN      17.10          NaN     NaN\n",
       "2       11 UMi b   11 UMi         NaN      10.80          NaN     NaN\n",
       "3       11 UMi b   11 UMi   516.21997      14.74        0.080     NaN\n",
       "4       11 UMi b   11 UMi   516.22000      10.50        0.080     NaN\n",
       "...          ...      ...         ...        ...          ...     ...\n",
       "32511  ups And d  ups And  1282.41000       4.10        0.294     NaN\n",
       "32512  ups And d  ups And  1281.50700      10.25        0.316     NaN\n",
       "32513  ups Leo b  ups Leo   385.20000       0.51        0.320     NaN\n",
       "32514   xi Aql b   xi Aql         NaN       2.02          NaN     NaN\n",
       "32515   xi Aql b   xi Aql   136.75000       2.80        0.000     NaN\n",
       "\n",
       "[32516 rows x 6 columns]"
      ]
     },
     "execution_count": 3,
     "metadata": {},
     "output_type": "execute_result"
    }
   ],
   "source": [
    "raw_data"
   ]
  },
  {
   "cell_type": "code",
   "execution_count": 4,
   "id": "2d8005c6",
   "metadata": {},
   "outputs": [
    {
     "data": {
      "text/plain": [
       "Index(['pl_name', 'hostname', 'pl_orbper', 'pl_bmassj', 'pl_orbeccen',\n",
       "       'pl_eqt'],\n",
       "      dtype='object')"
      ]
     },
     "execution_count": 4,
     "metadata": {},
     "output_type": "execute_result"
    }
   ],
   "source": [
    "raw_data.columns"
   ]
  },
  {
   "cell_type": "markdown",
   "id": "da81a2b2",
   "metadata": {},
   "source": [
    "Now want to create first data frame with columns of interest. In this first case/scenario want to study planet eccentricity (dependent/response variable) as a function of orbital period of planet (independent/predictor variable)."
   ]
  },
  {
   "cell_type": "markdown",
   "id": "07739b1f",
   "metadata": {},
   "source": [
    "### Scenario 1 - eccentricity as function of orbital period"
   ]
  },
  {
   "cell_type": "code",
   "execution_count": 5,
   "id": "3e548064",
   "metadata": {},
   "outputs": [
    {
     "data": {
      "text/html": [
       "<div>\n",
       "<style scoped>\n",
       "    .dataframe tbody tr th:only-of-type {\n",
       "        vertical-align: middle;\n",
       "    }\n",
       "\n",
       "    .dataframe tbody tr th {\n",
       "        vertical-align: top;\n",
       "    }\n",
       "\n",
       "    .dataframe thead th {\n",
       "        text-align: right;\n",
       "    }\n",
       "</style>\n",
       "<table border=\"1\" class=\"dataframe\">\n",
       "  <thead>\n",
       "    <tr style=\"text-align: right;\">\n",
       "      <th></th>\n",
       "      <th>pl_name</th>\n",
       "      <th>pl_orbper</th>\n",
       "      <th>pl_orbeccen</th>\n",
       "    </tr>\n",
       "  </thead>\n",
       "  <tbody>\n",
       "    <tr>\n",
       "      <th>0</th>\n",
       "      <td>11 Com b</td>\n",
       "      <td>326.03000</td>\n",
       "      <td>0.231</td>\n",
       "    </tr>\n",
       "    <tr>\n",
       "      <th>1</th>\n",
       "      <td>11 Com b</td>\n",
       "      <td>NaN</td>\n",
       "      <td>NaN</td>\n",
       "    </tr>\n",
       "    <tr>\n",
       "      <th>2</th>\n",
       "      <td>11 UMi b</td>\n",
       "      <td>NaN</td>\n",
       "      <td>NaN</td>\n",
       "    </tr>\n",
       "    <tr>\n",
       "      <th>3</th>\n",
       "      <td>11 UMi b</td>\n",
       "      <td>516.21997</td>\n",
       "      <td>0.080</td>\n",
       "    </tr>\n",
       "    <tr>\n",
       "      <th>4</th>\n",
       "      <td>11 UMi b</td>\n",
       "      <td>516.22000</td>\n",
       "      <td>0.080</td>\n",
       "    </tr>\n",
       "    <tr>\n",
       "      <th>...</th>\n",
       "      <td>...</td>\n",
       "      <td>...</td>\n",
       "      <td>...</td>\n",
       "    </tr>\n",
       "    <tr>\n",
       "      <th>32511</th>\n",
       "      <td>ups And d</td>\n",
       "      <td>1282.41000</td>\n",
       "      <td>0.294</td>\n",
       "    </tr>\n",
       "    <tr>\n",
       "      <th>32512</th>\n",
       "      <td>ups And d</td>\n",
       "      <td>1281.50700</td>\n",
       "      <td>0.316</td>\n",
       "    </tr>\n",
       "    <tr>\n",
       "      <th>32513</th>\n",
       "      <td>ups Leo b</td>\n",
       "      <td>385.20000</td>\n",
       "      <td>0.320</td>\n",
       "    </tr>\n",
       "    <tr>\n",
       "      <th>32514</th>\n",
       "      <td>xi Aql b</td>\n",
       "      <td>NaN</td>\n",
       "      <td>NaN</td>\n",
       "    </tr>\n",
       "    <tr>\n",
       "      <th>32515</th>\n",
       "      <td>xi Aql b</td>\n",
       "      <td>136.75000</td>\n",
       "      <td>0.000</td>\n",
       "    </tr>\n",
       "  </tbody>\n",
       "</table>\n",
       "<p>32516 rows × 3 columns</p>\n",
       "</div>"
      ],
      "text/plain": [
       "         pl_name   pl_orbper  pl_orbeccen\n",
       "0       11 Com b   326.03000        0.231\n",
       "1       11 Com b         NaN          NaN\n",
       "2       11 UMi b         NaN          NaN\n",
       "3       11 UMi b   516.21997        0.080\n",
       "4       11 UMi b   516.22000        0.080\n",
       "...          ...         ...          ...\n",
       "32511  ups And d  1282.41000        0.294\n",
       "32512  ups And d  1281.50700        0.316\n",
       "32513  ups Leo b   385.20000        0.320\n",
       "32514   xi Aql b         NaN          NaN\n",
       "32515   xi Aql b   136.75000        0.000\n",
       "\n",
       "[32516 rows x 3 columns]"
      ]
     },
     "execution_count": 5,
     "metadata": {},
     "output_type": "execute_result"
    }
   ],
   "source": [
    "df1 = raw_data.loc[:, ['pl_name','pl_orbper','pl_orbeccen']]\n",
    "#df1.reset_index(drop=True, inplace=True) # <- Perhaps use this logic in a couple of lines.\n",
    "df1"
   ]
  },
  {
   "cell_type": "markdown",
   "id": "9db533a9",
   "metadata": {},
   "source": [
    "Will rename the columns of interest for ease, i.e. make analysis clearer, and remove unnecessary rows by removing all the NA values from the original data frame."
   ]
  },
  {
   "cell_type": "code",
   "execution_count": 6,
   "id": "d84e1334",
   "metadata": {},
   "outputs": [
    {
     "data": {
      "text/html": [
       "<div>\n",
       "<style scoped>\n",
       "    .dataframe tbody tr th:only-of-type {\n",
       "        vertical-align: middle;\n",
       "    }\n",
       "\n",
       "    .dataframe tbody tr th {\n",
       "        vertical-align: top;\n",
       "    }\n",
       "\n",
       "    .dataframe thead th {\n",
       "        text-align: right;\n",
       "    }\n",
       "</style>\n",
       "<table border=\"1\" class=\"dataframe\">\n",
       "  <thead>\n",
       "    <tr style=\"text-align: right;\">\n",
       "      <th></th>\n",
       "      <th>planetname</th>\n",
       "      <th>orbitperiod</th>\n",
       "      <th>eccentricity</th>\n",
       "    </tr>\n",
       "  </thead>\n",
       "  <tbody>\n",
       "    <tr>\n",
       "      <th>0</th>\n",
       "      <td>11 Com b</td>\n",
       "      <td>326.03000</td>\n",
       "      <td>0.2310</td>\n",
       "    </tr>\n",
       "    <tr>\n",
       "      <th>3</th>\n",
       "      <td>11 UMi b</td>\n",
       "      <td>516.21997</td>\n",
       "      <td>0.0800</td>\n",
       "    </tr>\n",
       "    <tr>\n",
       "      <th>4</th>\n",
       "      <td>11 UMi b</td>\n",
       "      <td>516.22000</td>\n",
       "      <td>0.0800</td>\n",
       "    </tr>\n",
       "    <tr>\n",
       "      <th>6</th>\n",
       "      <td>14 And b</td>\n",
       "      <td>185.84000</td>\n",
       "      <td>0.0000</td>\n",
       "    </tr>\n",
       "    <tr>\n",
       "      <th>7</th>\n",
       "      <td>14 Her b</td>\n",
       "      <td>1766.41000</td>\n",
       "      <td>0.3674</td>\n",
       "    </tr>\n",
       "    <tr>\n",
       "      <th>...</th>\n",
       "      <td>...</td>\n",
       "      <td>...</td>\n",
       "      <td>...</td>\n",
       "    </tr>\n",
       "    <tr>\n",
       "      <th>32510</th>\n",
       "      <td>ups And d</td>\n",
       "      <td>1274.60000</td>\n",
       "      <td>0.2420</td>\n",
       "    </tr>\n",
       "    <tr>\n",
       "      <th>32511</th>\n",
       "      <td>ups And d</td>\n",
       "      <td>1282.41000</td>\n",
       "      <td>0.2940</td>\n",
       "    </tr>\n",
       "    <tr>\n",
       "      <th>32512</th>\n",
       "      <td>ups And d</td>\n",
       "      <td>1281.50700</td>\n",
       "      <td>0.3160</td>\n",
       "    </tr>\n",
       "    <tr>\n",
       "      <th>32513</th>\n",
       "      <td>ups Leo b</td>\n",
       "      <td>385.20000</td>\n",
       "      <td>0.3200</td>\n",
       "    </tr>\n",
       "    <tr>\n",
       "      <th>32515</th>\n",
       "      <td>xi Aql b</td>\n",
       "      <td>136.75000</td>\n",
       "      <td>0.0000</td>\n",
       "    </tr>\n",
       "  </tbody>\n",
       "</table>\n",
       "<p>16542 rows × 3 columns</p>\n",
       "</div>"
      ],
      "text/plain": [
       "      planetname  orbitperiod  eccentricity\n",
       "0       11 Com b    326.03000        0.2310\n",
       "3       11 UMi b    516.21997        0.0800\n",
       "4       11 UMi b    516.22000        0.0800\n",
       "6       14 And b    185.84000        0.0000\n",
       "7       14 Her b   1766.41000        0.3674\n",
       "...          ...          ...           ...\n",
       "32510  ups And d   1274.60000        0.2420\n",
       "32511  ups And d   1282.41000        0.2940\n",
       "32512  ups And d   1281.50700        0.3160\n",
       "32513  ups Leo b    385.20000        0.3200\n",
       "32515   xi Aql b    136.75000        0.0000\n",
       "\n",
       "[16542 rows x 3 columns]"
      ]
     },
     "execution_count": 6,
     "metadata": {},
     "output_type": "execute_result"
    }
   ],
   "source": [
    "df1 = df1.rename(columns={'pl_name':'planetname', 'pl_orbper':'orbitperiod', 'pl_orbeccen':'eccentricity'})\n",
    "df1 = df1.dropna()\n",
    "df1"
   ]
  },
  {
   "cell_type": "markdown",
   "id": "b47f86f4",
   "metadata": {},
   "source": [
    "The following logic is to determine the data types of the column entries in the latest data frame. Again, this is the data type (dtype) for individual entries within the data frame."
   ]
  },
  {
   "cell_type": "code",
   "execution_count": 7,
   "id": "79785911",
   "metadata": {},
   "outputs": [
    {
     "name": "stdout",
     "output_type": "stream",
     "text": [
      "<class 'numpy.float64'>\n",
      "<class 'numpy.float64'>\n"
     ]
    }
   ],
   "source": [
    "print(type(df1.iloc[0][1]))\n",
    "print(type(df1.iloc[0][2]))"
   ]
  },
  {
   "cell_type": "code",
   "execution_count": 8,
   "id": "7a7b29c5",
   "metadata": {},
   "outputs": [
    {
     "data": {
      "text/plain": [
       "pandas.core.frame.DataFrame"
      ]
     },
     "execution_count": 8,
     "metadata": {},
     "output_type": "execute_result"
    }
   ],
   "source": [
    "type(df1)"
   ]
  },
  {
   "cell_type": "code",
   "execution_count": 9,
   "id": "c1a12823",
   "metadata": {},
   "outputs": [
    {
     "name": "stdout",
     "output_type": "stream",
     "text": [
      "The data type of the eccentricity column is: float64\n"
     ]
    }
   ],
   "source": [
    "print(\"The data type of the eccentricity column is:\", df1.dtypes['eccentricity'])"
   ]
  },
  {
   "cell_type": "markdown",
   "id": "865c46da",
   "metadata": {},
   "source": [
    "Notice df1 is indeed a data frame, and the entries within are numpy float number type.\n",
    "\n",
    "Want to limit each scenario to two dataframes. Once cleaned, need another to take arithmetic mean of multiple entries. For example, Dataframe 2 will take the averages of multiple planet entries. Following lines will take arithmetic mean of the two columns of interest and concate the two columns into the third dataframe.\n",
    "\n",
    "First will create intermediate variables to store the resulting averages."
   ]
  },
  {
   "cell_type": "code",
   "execution_count": 10,
   "id": "46cb57ad",
   "metadata": {},
   "outputs": [],
   "source": [
    "#x4 = df2.groupby('planetname')['eccentricity'].mean()\n",
    "eccen = df1.groupby('planetname')['eccentricity'].mean()\n",
    "#x5 = df2.groupby('planetname')['orbitperiod'].mean()\n",
    "orbper = df1.groupby('planetname')['orbitperiod'].mean()"
   ]
  },
  {
   "cell_type": "code",
   "execution_count": 11,
   "id": "4f1f730d",
   "metadata": {},
   "outputs": [
    {
     "name": "stdout",
     "output_type": "stream",
     "text": [
      "planetname\n",
      "11 Com b      0.231000\n",
      "11 UMi b      0.080000\n",
      "14 And b      0.000000\n",
      "14 Her b      0.362233\n",
      "16 Cyg B b    0.676033\n",
      "                ...   \n",
      "ups And b     0.030200\n",
      "ups And c     0.238933\n",
      "ups And d     0.281117\n",
      "ups Leo b     0.320000\n",
      "xi Aql b      0.000000\n",
      "Name: eccentricity, Length: 4371, dtype: float64\n",
      "planetname\n",
      "11 Com b       326.030000\n",
      "11 UMi b       516.219985\n",
      "14 And b       185.840000\n",
      "14 Her b      1766.601670\n",
      "16 Cyg B b     799.375000\n",
      "                 ...     \n",
      "ups And b        4.616229\n",
      "ups And c      240.728533\n",
      "ups And d     1285.346167\n",
      "ups Leo b      385.200000\n",
      "xi Aql b       136.750000\n",
      "Name: orbitperiod, Length: 4371, dtype: float64\n"
     ]
    }
   ],
   "source": [
    "print(eccen)\n",
    "print(orbper)"
   ]
  },
  {
   "cell_type": "code",
   "execution_count": 12,
   "id": "d2f121f8",
   "metadata": {},
   "outputs": [
    {
     "data": {
      "text/plain": [
       "pandas.core.series.Series"
      ]
     },
     "execution_count": 12,
     "metadata": {},
     "output_type": "execute_result"
    }
   ],
   "source": [
    "type(eccen)"
   ]
  },
  {
   "cell_type": "code",
   "execution_count": 13,
   "id": "ce55eefb",
   "metadata": {},
   "outputs": [
    {
     "data": {
      "text/plain": [
       "pandas.core.series.Series"
      ]
     },
     "execution_count": 13,
     "metadata": {},
     "output_type": "execute_result"
    }
   ],
   "source": [
    "type(orbper)"
   ]
  },
  {
   "cell_type": "markdown",
   "id": "2a32b54d",
   "metadata": {},
   "source": [
    "In this part want to explicitly declare the median and IQR of the two columns which are the variables. But the summary statistics part of the analysis can be done with variables declared earlier."
   ]
  },
  {
   "cell_type": "code",
   "execution_count": 14,
   "id": "df76bf51",
   "metadata": {},
   "outputs": [
    {
     "name": "stdout",
     "output_type": "stream",
     "text": [
      "\n",
      "The median of the orbital period: 12.2538\n",
      "\n",
      "The median of the eccentricity: 0.00\n",
      "\n",
      "The interquartile range of the eccentricity: 0.07\n",
      "\n",
      "The interquartile range of the orbital period: 39.93\n",
      "\n",
      "The mode for the eccentricity: 0.00\n",
      "\n",
      "The mode for the orbital period: 691.90\n",
      "\n",
      "The mean for the eccentricity: 0.06\n",
      "\n",
      "The mean for the orbital period: 709.51\n"
     ]
    }
   ],
   "source": [
    "eccen_med = statistics.median(list(eccen))\n",
    "orbper_med = statistics.median(list(orbper))\n",
    "print('\\nThe median of the orbital period: %.4f' % orbper_med)\n",
    "print('\\nThe median of the eccentricity: %.2f' % eccen_med)\n",
    "iqr_eccen = stats.iqr(eccen, interpolation = 'midpoint')\n",
    "iqr_orbper = stats.iqr(orbper, interpolation = 'midpoint')\n",
    "print('\\nThe interquartile range of the eccentricity: %.2f' % iqr_eccen)\n",
    "print('\\nThe interquartile range of the orbital period: %.2f' % iqr_orbper)\n",
    "eccen_mode = statistics.mode(list(eccen))\n",
    "print('\\nThe mode for the eccentricity: %.2f' % eccen_mode)\n",
    "orbper_mode = statistics.mode(list(orbper))\n",
    "print('\\nThe mode for the orbital period: %.2f' % orbper_mode)\n",
    "eccen_avg = statistics.mean(list(eccen))\n",
    "print('\\nThe mean for the eccentricity: %.2f' % eccen_avg)\n",
    "orbper_avg = statistics.mean(list(orbper))\n",
    "print('\\nThe mean for the orbital period: %.2f' % orbper_avg)"
   ]
  },
  {
   "cell_type": "code",
   "execution_count": 15,
   "id": "73530cf2",
   "metadata": {},
   "outputs": [
    {
     "data": {
      "text/html": [
       "<div>\n",
       "<style scoped>\n",
       "    .dataframe tbody tr th:only-of-type {\n",
       "        vertical-align: middle;\n",
       "    }\n",
       "\n",
       "    .dataframe tbody tr th {\n",
       "        vertical-align: top;\n",
       "    }\n",
       "\n",
       "    .dataframe thead th {\n",
       "        text-align: right;\n",
       "    }\n",
       "</style>\n",
       "<table border=\"1\" class=\"dataframe\">\n",
       "  <thead>\n",
       "    <tr style=\"text-align: right;\">\n",
       "      <th></th>\n",
       "      <th>orbitperiod</th>\n",
       "      <th>eccentricity</th>\n",
       "    </tr>\n",
       "    <tr>\n",
       "      <th>planetname</th>\n",
       "      <th></th>\n",
       "      <th></th>\n",
       "    </tr>\n",
       "  </thead>\n",
       "  <tbody>\n",
       "    <tr>\n",
       "      <th>11 Com b</th>\n",
       "      <td>326.030000</td>\n",
       "      <td>0.231000</td>\n",
       "    </tr>\n",
       "    <tr>\n",
       "      <th>11 UMi b</th>\n",
       "      <td>516.219985</td>\n",
       "      <td>0.080000</td>\n",
       "    </tr>\n",
       "    <tr>\n",
       "      <th>14 And b</th>\n",
       "      <td>185.840000</td>\n",
       "      <td>0.000000</td>\n",
       "    </tr>\n",
       "    <tr>\n",
       "      <th>14 Her b</th>\n",
       "      <td>1766.601670</td>\n",
       "      <td>0.362233</td>\n",
       "    </tr>\n",
       "    <tr>\n",
       "      <th>16 Cyg B b</th>\n",
       "      <td>799.375000</td>\n",
       "      <td>0.676033</td>\n",
       "    </tr>\n",
       "    <tr>\n",
       "      <th>...</th>\n",
       "      <td>...</td>\n",
       "      <td>...</td>\n",
       "    </tr>\n",
       "    <tr>\n",
       "      <th>ups And b</th>\n",
       "      <td>4.616229</td>\n",
       "      <td>0.030200</td>\n",
       "    </tr>\n",
       "    <tr>\n",
       "      <th>ups And c</th>\n",
       "      <td>240.728533</td>\n",
       "      <td>0.238933</td>\n",
       "    </tr>\n",
       "    <tr>\n",
       "      <th>ups And d</th>\n",
       "      <td>1285.346167</td>\n",
       "      <td>0.281117</td>\n",
       "    </tr>\n",
       "    <tr>\n",
       "      <th>ups Leo b</th>\n",
       "      <td>385.200000</td>\n",
       "      <td>0.320000</td>\n",
       "    </tr>\n",
       "    <tr>\n",
       "      <th>xi Aql b</th>\n",
       "      <td>136.750000</td>\n",
       "      <td>0.000000</td>\n",
       "    </tr>\n",
       "  </tbody>\n",
       "</table>\n",
       "<p>4371 rows × 2 columns</p>\n",
       "</div>"
      ],
      "text/plain": [
       "            orbitperiod  eccentricity\n",
       "planetname                           \n",
       "11 Com b     326.030000      0.231000\n",
       "11 UMi b     516.219985      0.080000\n",
       "14 And b     185.840000      0.000000\n",
       "14 Her b    1766.601670      0.362233\n",
       "16 Cyg B b   799.375000      0.676033\n",
       "...                 ...           ...\n",
       "ups And b      4.616229      0.030200\n",
       "ups And c    240.728533      0.238933\n",
       "ups And d   1285.346167      0.281117\n",
       "ups Leo b    385.200000      0.320000\n",
       "xi Aql b     136.750000      0.000000\n",
       "\n",
       "[4371 rows x 2 columns]"
      ]
     },
     "execution_count": 15,
     "metadata": {},
     "output_type": "execute_result"
    }
   ],
   "source": [
    "df2 = pd.concat([orbper, eccen], axis = 1)\n",
    "df2"
   ]
  },
  {
   "cell_type": "markdown",
   "id": "e02c422b",
   "metadata": {},
   "source": [
    "All the filtering and cleaning was handled by df2."
   ]
  },
  {
   "cell_type": "code",
   "execution_count": 16,
   "id": "423aa033",
   "metadata": {},
   "outputs": [
    {
     "data": {
      "text/plain": [
       "Index(['orbitperiod', 'eccentricity'], dtype='object')"
      ]
     },
     "execution_count": 16,
     "metadata": {},
     "output_type": "execute_result"
    }
   ],
   "source": [
    "df2.columns"
   ]
  },
  {
   "cell_type": "markdown",
   "id": "a14bc0b1",
   "metadata": {},
   "source": [
    "The orbital period is skewed right, but after applying a log transform, the distribution more closely resembles a Gaussian distribution."
   ]
  },
  {
   "cell_type": "code",
   "execution_count": 17,
   "id": "6c7ed972",
   "metadata": {},
   "outputs": [
    {
     "data": {
      "image/png": "[encoded data removed]",
      "text/plain": [
       "<Figure size 864x864 with 4 Axes>"
      ]
     },
     "metadata": {
      "needs_background": "light"
     },
     "output_type": "display_data"
    }
   ],
   "source": [
    "# First, perform log base 10 transform\n",
    "orbper_log = np.log10(orbper)\n",
    "eccen_log = np.log10(eccen + 10)\n",
    "# Plotting Logic\n",
    "fig1, ax1 = plt.subplots(2, 2,figsize = (12, 12))\n",
    "fig1.suptitle('Histograms - Case 1')\n",
    "ax1[0, 0].hist(orbper, color = 'darkgreen', edgecolor = 'white')\n",
    "#ax1[0, 0].set_title('') #<- use this logic to give each plot its own title.\n",
    "ax1[0, 0].set(xlabel = 'orbital period')\n",
    "ax1[0, 1].hist(orbper_log, color = \"darkgreen\", edgecolor = 'red')\n",
    "ax1[0, 1].set(xlabel = 'log10(orbital period)')\n",
    "ax1[1, 0].hist(eccen, color = \"maroon\", edgecolor = 'green')\n",
    "ax1[1, 0].set(xlabel = 'eccentricity')\n",
    "ax1[1, 1].hist(eccen_log, color = \"maroon\", edgecolor = 'green')\n",
    "ax1[1, 1].set(xlabel = 'log10(eccentricity)')\n",
    "\n",
    "for ax in ax1.flat:\n",
    "    ax.set(ylabel = 'Frequency')\n",
    "plt.savefig('histograms_1.png')\n",
    "fig1.tight_layout()"
   ]
  },
  {
   "cell_type": "markdown",
   "id": "0feb6006",
   "metadata": {},
   "source": [
    "The distribution is still skewed right after applying the transform."
   ]
  },
  {
   "cell_type": "markdown",
   "id": "ef279f1a",
   "metadata": {},
   "source": [
    "#### Model Building"
   ]
  },
  {
   "cell_type": "markdown",
   "id": "072cee69",
   "metadata": {},
   "source": [
    "As a resampling method, will use the train-test-split (tts) method."
   ]
  },
  {
   "cell_type": "code",
   "execution_count": 18,
   "id": "211783bd",
   "metadata": {},
   "outputs": [],
   "source": [
    "X1_train, X1_test, y1_train, y1_test = train_test_split(np.array(orbper), np.array(eccen), train_size = 0.80, random_state = 25)"
   ]
  },
  {
   "cell_type": "markdown",
   "id": "33fbe135",
   "metadata": {},
   "source": [
    "Will change the central tendency metric from median to mean to get a better R-squared metric."
   ]
  },
  {
   "cell_type": "code",
   "execution_count": 19,
   "id": "ac5eb163",
   "metadata": {},
   "outputs": [
    {
     "data": {
      "text/plain": [
       "0.0637315305801972"
      ]
     },
     "execution_count": 19,
     "metadata": {},
     "output_type": "execute_result"
    }
   ],
   "source": [
    "y_baseline = y1_train.mean()\n",
    "#y_baseline = statistics.median(y1_train)\n",
    "y_baseline"
   ]
  },
  {
   "cell_type": "code",
   "execution_count": 20,
   "id": "4912b499",
   "metadata": {},
   "outputs": [],
   "source": [
    "y_pred_train = [y_baseline] * len(y1_train)"
   ]
  },
  {
   "cell_type": "code",
   "execution_count": 21,
   "id": "2641219b",
   "metadata": {},
   "outputs": [
    {
     "name": "stdout",
     "output_type": "stream",
     "text": [
      "Traing Set Mean Absolute Error: 0.08752901986553943\n",
      "Traing Set Mean Squared Error: 0.01788375152612843\n",
      "Traing Set Root Mean Square Error: 0.13373014441825906\n",
      "Traing Set R2: 0.0\n"
     ]
    }
   ],
   "source": [
    "# Following is for the Training Dataset.\n",
    "# Error for training data baseline guess.\n",
    "mae_train_1 = mean_absolute_error(y1_train, y_pred_train)\n",
    "print(f'Traing Set Mean Absolute Error: {mae_train_1}')\n",
    "# Mean squared error for training data baseline guess.\n",
    "mse_train_1 = mean_squared_error(y1_train, y_pred_train)\n",
    "print(f'Traing Set Mean Squared Error: {mse_train_1}')\n",
    "rmse_train_1 = sqrt(mse_train_1) # <- will compute the root mean square error\n",
    "print(f'Traing Set Root Mean Square Error: {rmse_train_1}')\n",
    "# R-squared for training data baseline guess.\n",
    "y1_train_r2 = r2_score(y1_train, y_pred_train)\n",
    "print(f'Traing Set R2: {y1_train_r2}')"
   ]
  },
  {
   "cell_type": "code",
   "execution_count": 22,
   "id": "88730864",
   "metadata": {},
   "outputs": [],
   "source": [
    "y_pred_test = [y_baseline] * len(y1_test)"
   ]
  },
  {
   "cell_type": "code",
   "execution_count": 23,
   "id": "2a95db0a",
   "metadata": {},
   "outputs": [
    {
     "name": "stdout",
     "output_type": "stream",
     "text": [
      "Test Set Mean Absolute Error: 0.09067568318514926\n",
      "Test Set Mean Squared Error: 0.019771780663498325\n",
      "Test Set Root Mean Square Error: 0.14061216399550333\n",
      "Test Set R2: -9.981601752739877e-05\n"
     ]
    }
   ],
   "source": [
    "# Error for test data baseline guess.\n",
    "mae_test_1 = mean_absolute_error(y1_test, y_pred_test)\n",
    "print(f'Test Set Mean Absolute Error: {mae_test_1}')\n",
    "# Mean squared error for test data baseline guess.\n",
    "mse_test_1 = mean_squared_error(y1_test, y_pred_test)\n",
    "print(f'Test Set Mean Squared Error: {mse_test_1}')\n",
    "rmse_test_1 = sqrt(mse_test_1) # <- will compute the root mean square error\n",
    "print(f'Test Set Root Mean Square Error: {rmse_test_1}')\n",
    "# R-squared for test data baseline guess.\n",
    "y1_test_r2 = r2_score(y1_test, y_pred_test)\n",
    "print(f'Test Set R2: {y1_test_r2}')"
   ]
  },
  {
   "cell_type": "code",
   "execution_count": 24,
   "id": "ac86c794",
   "metadata": {},
   "outputs": [
    {
     "data": {
      "text/html": [
       "<div>\n",
       "<style scoped>\n",
       "    .dataframe tbody tr th:only-of-type {\n",
       "        vertical-align: middle;\n",
       "    }\n",
       "\n",
       "    .dataframe tbody tr th {\n",
       "        vertical-align: top;\n",
       "    }\n",
       "\n",
       "    .dataframe thead th {\n",
       "        text-align: right;\n",
       "    }\n",
       "</style>\n",
       "<table border=\"1\" class=\"dataframe\">\n",
       "  <thead>\n",
       "    <tr style=\"text-align: right;\">\n",
       "      <th></th>\n",
       "      <th>Method</th>\n",
       "      <th>Train MAE</th>\n",
       "      <th>Train MSE</th>\n",
       "      <th>Train RMSE</th>\n",
       "      <th>Train R2</th>\n",
       "      <th>Test MAE</th>\n",
       "      <th>Test MSE</th>\n",
       "      <th>Test RMSE</th>\n",
       "      <th>Test R2</th>\n",
       "    </tr>\n",
       "  </thead>\n",
       "  <tbody>\n",
       "    <tr>\n",
       "      <th>0</th>\n",
       "      <td>Baseline</td>\n",
       "      <td>0.087529</td>\n",
       "      <td>0.017884</td>\n",
       "      <td>0.13373</td>\n",
       "      <td>0.0</td>\n",
       "      <td>0.090676</td>\n",
       "      <td>0.019772</td>\n",
       "      <td>0.140612</td>\n",
       "      <td>-0.0001</td>\n",
       "    </tr>\n",
       "  </tbody>\n",
       "</table>\n",
       "</div>"
      ],
      "text/plain": [
       "     Method Train MAE Train MSE Train RMSE Train R2  Test MAE  Test MSE  \\\n",
       "0  Baseline  0.087529  0.017884    0.13373      0.0  0.090676  0.019772   \n",
       "\n",
       "  Test RMSE Test R2  \n",
       "0  0.140612 -0.0001  "
      ]
     },
     "execution_count": 24,
     "metadata": {},
     "output_type": "execute_result"
    }
   ],
   "source": [
    "prediction_1 = pd.DataFrame(['Baseline', mae_train_1, mse_train_1, rmse_train_1, y1_train_r2, mae_test_1, mse_test_1, rmse_test_1, y1_test_r2]).T\n",
    "metric_col_names = ['Method', 'Train MAE', 'Train MSE', 'Train RMSE', 'Train R2', 'Test MAE', 'Test MSE','Test RMSE', 'Test R2'] # <- This list will be used over so easier to store in variable.\n",
    "prediction_1.columns = metric_col_names\n",
    "prediction_1"
   ]
  },
  {
   "cell_type": "markdown",
   "id": "ce0ddb50",
   "metadata": {},
   "source": [
    "Now to apply the logarithmic and exponential transformations to the variables I chose."
   ]
  },
  {
   "cell_type": "code",
   "execution_count": 25,
   "id": "33edf59b",
   "metadata": {},
   "outputs": [],
   "source": [
    "X1_train_log = np.log10(X1_train)\n",
    "X1_test_log = np.log10(X1_test)\n",
    "#y1_train_log = np.log(y1_train + 10) # <- Remember to add 10 units to be able apply log transform\n",
    "y1_train_exp = np.exp(y1_train)\n",
    "y1_test_exp = np.exp(y1_test)"
   ]
  },
  {
   "cell_type": "markdown",
   "id": "16fe574c",
   "metadata": {},
   "source": [
    "With the data scaled using aforementioned trasnformations, will now test various k's for best fit. Will run kNN for various values of n_neighbors and store results. This will help me determine optimal 'k'."
   ]
  },
  {
   "cell_type": "code",
   "execution_count": 26,
   "id": "754bf339",
   "metadata": {},
   "outputs": [
    {
     "name": "stdout",
     "output_type": "stream",
     "text": [
      "     k  Test Score  Train Score\n",
      "0    1   -0.376242     0.999928\n",
      "1    2   -0.008741     0.670980\n",
      "2    3    0.094896     0.545762\n",
      "3    4    0.148759     0.490142\n",
      "4    5    0.189452     0.456295\n",
      "..  ..         ...          ...\n",
      "69  70    0.352576     0.321298\n",
      "70  71    0.351332     0.320772\n",
      "71  72    0.350412     0.320366\n",
      "72  73    0.350777     0.319908\n",
      "73  74    0.350296     0.320097\n",
      "\n",
      "[74 rows x 3 columns]\n",
      "The highest Test R-squared value occurs at : 0.3530\n",
      "Within given range, optimal k is:  64\n"
     ]
    }
   ],
   "source": [
    "# kNN R-squared accuracy for 1st kNN model\n",
    "knn_r_acc_1 = []\n",
    "for i1 in range(1, 75, 1):\n",
    "    knn = KNeighborsRegressor(n_neighbors = i1)\n",
    "    knn.fit(X1_train_log.reshape(-1, 1), y1_train.reshape(-1, 1))\n",
    "    test_score_1 = knn.score(X1_test_log.reshape(-1, 1), y1_test.reshape(-1, 1))\n",
    "    train_score_1 = knn.score(X1_train_log.reshape(-1, 1), y1_train.reshape(-1, 1))\n",
    "    knn_r_acc_1.append((i1, test_score_1, train_score_1))\n",
    "outcomes_1 = pd.DataFrame(knn_r_acc_1, columns = ['k', 'Test Score', 'Train Score'])\n",
    "print(outcomes_1)\n",
    "print('The highest Test R-squared value occurs at : %.4f' % outcomes_1.iloc[:,1].max())\n",
    "print('Within given range, optimal k is: ', outcomes_1.loc[outcomes_1['Test Score'] == outcomes_1.iloc[:,1].max(), 'k'].iloc[0])"
   ]
  },
  {
   "cell_type": "code",
   "execution_count": 27,
   "id": "2b3a7979",
   "metadata": {},
   "outputs": [],
   "source": [
    "model_knn_1 = KNeighborsRegressor(n_neighbors = 64)\n",
    "model_knn_1.fit(X1_train_log.reshape(-1, 1), y1_train.reshape(-1, 1))\n",
    "y_knn_train_pred_log_1 = model_knn_1.predict(X1_train_log.reshape(-1, 1))\n",
    "y_knn_test_pred_log_1 = model_knn_1.predict(X1_test_log.reshape(-1, 1))"
   ]
  },
  {
   "cell_type": "code",
   "execution_count": 28,
   "id": "60fe53d2",
   "metadata": {},
   "outputs": [
    {
     "data": {
      "text/plain": [
       "-2.890471762896498"
      ]
     },
     "execution_count": 28,
     "metadata": {},
     "output_type": "execute_result"
    }
   ],
   "source": [
    "# Following line to remind myself that values between 0 - 1 will produce negative value in log.\n",
    "np.log(0.055550)"
   ]
  },
  {
   "cell_type": "code",
   "execution_count": 29,
   "id": "734a9715",
   "metadata": {},
   "outputs": [],
   "source": [
    "# Following logic \n",
    "#y_knn_train_pred_1 = np.exp(y_knn_train_pred_log_1)\n",
    "#y_knn_train_pred_1 = np.power(y_knn_train_pred_log_1, 10)\n",
    "y_knn_train_pred_1 = y_knn_train_pred_log_1\n",
    "#y_knn_test_pred_1 = np.log(y_knn_test_pred_log_1) \n",
    "#y_knn_test_pred_1 = np.power(y_knn_test_pred_log_1, 10)\n",
    "y_knn_test_pred_1 = y_knn_test_pred_log_1\n",
    "#y_knn_test_pred_1 = np.exp(y_knn_test_pred_log_1) "
   ]
  },
  {
   "cell_type": "markdown",
   "id": "b0d0cd33",
   "metadata": {},
   "source": [
    "Trying to avoid data leakage when going from transform to inverse."
   ]
  },
  {
   "cell_type": "code",
   "execution_count": 30,
   "id": "7d52abde",
   "metadata": {},
   "outputs": [
    {
     "data": {
      "text/html": [
       "<div>\n",
       "<style scoped>\n",
       "    .dataframe tbody tr th:only-of-type {\n",
       "        vertical-align: middle;\n",
       "    }\n",
       "\n",
       "    .dataframe tbody tr th {\n",
       "        vertical-align: top;\n",
       "    }\n",
       "\n",
       "    .dataframe thead th {\n",
       "        text-align: right;\n",
       "    }\n",
       "</style>\n",
       "<table border=\"1\" class=\"dataframe\">\n",
       "  <thead>\n",
       "    <tr style=\"text-align: right;\">\n",
       "      <th></th>\n",
       "      <th>Method</th>\n",
       "      <th>Train MAE</th>\n",
       "      <th>Train MSE</th>\n",
       "      <th>Train RMSE</th>\n",
       "      <th>Train R2</th>\n",
       "      <th>Test MAE</th>\n",
       "      <th>Test MSE</th>\n",
       "      <th>Test RMSE</th>\n",
       "      <th>Test R2</th>\n",
       "    </tr>\n",
       "  </thead>\n",
       "  <tbody>\n",
       "    <tr>\n",
       "      <th>0</th>\n",
       "      <td>k Nearest Neighbor</td>\n",
       "      <td>0.066004</td>\n",
       "      <td>0.01209</td>\n",
       "      <td>0.109954</td>\n",
       "      <td>0.32398</td>\n",
       "      <td>0.067364</td>\n",
       "      <td>0.012791</td>\n",
       "      <td>0.113099</td>\n",
       "      <td>0.352987</td>\n",
       "    </tr>\n",
       "  </tbody>\n",
       "</table>\n",
       "</div>"
      ],
      "text/plain": [
       "               Method Train MAE Train MSE Train RMSE Train R2  Test MAE  \\\n",
       "0  k Nearest Neighbor  0.066004   0.01209   0.109954  0.32398  0.067364   \n",
       "\n",
       "   Test MSE Test RMSE   Test R2  \n",
       "0  0.012791  0.113099  0.352987  "
      ]
     },
     "execution_count": 30,
     "metadata": {},
     "output_type": "execute_result"
    }
   ],
   "source": [
    "# First the training metrics.\n",
    "knn1_train_mae = mean_absolute_error(y1_train, y_knn_train_pred_1)\n",
    "knn1_train_mse = mean_squared_error(y1_train, y_knn_train_pred_1)\n",
    "knn1_train_rmse = sqrt(knn1_train_mse) # <- will compute the root mean square error\n",
    "knn1_train_r2 = r2_score(y1_train, y_knn_train_pred_1)\n",
    "# Now, test set metrics.\n",
    "knn1_test_mae = mean_absolute_error(y1_test, y_knn_test_pred_1)\n",
    "knn1_test_mse = mean_squared_error(y1_test, y_knn_test_pred_1)\n",
    "knn1_test_rmse = sqrt(knn1_test_mse)\n",
    "knn1_test_r2 = r2_score(y1_test, y_knn_test_pred_1)\n",
    "# Consolidate the results.\n",
    "knn_results_1 = pd.DataFrame(['k Nearest Neighbor', knn1_train_mae, knn1_train_mse, knn1_train_rmse, knn1_train_r2, knn1_test_mae, knn1_test_mse, knn1_test_rmse, knn1_test_r2]).transpose()\n",
    "knn_results_1.columns = metric_col_names\n",
    "knn_results_1"
   ]
  },
  {
   "cell_type": "markdown",
   "id": "aa26d1ae",
   "metadata": {},
   "source": [
    "#### SVR regressor model."
   ]
  },
  {
   "cell_type": "code",
   "execution_count": 31,
   "id": "d6efdc91",
   "metadata": {},
   "outputs": [
    {
     "name": "stderr",
     "output_type": "stream",
     "text": [
      "c:\\users\\joepb\\miniconda3\\lib\\site-packages\\sklearn\\utils\\validation.py:993: DataConversionWarning: A column-vector y was passed when a 1d array was expected. Please change the shape of y to (n_samples, ), for example using ravel().\n",
      "  y = column_or_1d(y, warn=True)\n"
     ]
    },
    {
     "data": {
      "text/html": [
       "<div>\n",
       "<style scoped>\n",
       "    .dataframe tbody tr th:only-of-type {\n",
       "        vertical-align: middle;\n",
       "    }\n",
       "\n",
       "    .dataframe tbody tr th {\n",
       "        vertical-align: top;\n",
       "    }\n",
       "\n",
       "    .dataframe thead th {\n",
       "        text-align: right;\n",
       "    }\n",
       "</style>\n",
       "<table border=\"1\" class=\"dataframe\">\n",
       "  <thead>\n",
       "    <tr style=\"text-align: right;\">\n",
       "      <th></th>\n",
       "      <th>Method</th>\n",
       "      <th>Train MAE</th>\n",
       "      <th>Train MSE</th>\n",
       "      <th>Train RMSE</th>\n",
       "      <th>Train R2</th>\n",
       "      <th>Test MAE</th>\n",
       "      <th>Test MSE</th>\n",
       "      <th>Test RMSE</th>\n",
       "      <th>Test R2</th>\n",
       "    </tr>\n",
       "  </thead>\n",
       "  <tbody>\n",
       "    <tr>\n",
       "      <th>0</th>\n",
       "      <td>SVR</td>\n",
       "      <td>0.104178</td>\n",
       "      <td>0.016254</td>\n",
       "      <td>0.127492</td>\n",
       "      <td>0.091116</td>\n",
       "      <td>0.10604</td>\n",
       "      <td>0.016782</td>\n",
       "      <td>0.129544</td>\n",
       "      <td>-0.025504</td>\n",
       "    </tr>\n",
       "  </tbody>\n",
       "</table>\n",
       "</div>"
      ],
      "text/plain": [
       "  Method Train MAE Train MSE Train RMSE  Train R2 Test MAE  Test MSE  \\\n",
       "0    SVR  0.104178  0.016254   0.127492  0.091116  0.10604  0.016782   \n",
       "\n",
       "  Test RMSE   Test R2  \n",
       "0  0.129544 -0.025504  "
      ]
     },
     "execution_count": 31,
     "metadata": {},
     "output_type": "execute_result"
    }
   ],
   "source": [
    "svr_regressor_1 = SVR(kernel = 'rbf')\n",
    "svr_regressor_1.fit(X1_train_log.reshape(-1, 1), y1_train.reshape(-1, 1))\n",
    "y_svr_train_pred_1 = svr_regressor_1.predict(X1_train_log.reshape(-1, 1))\n",
    "y_svr_test_pred_1 = svr_regressor_1.predict(X1_test_log.reshape(-1, 1))\n",
    "# Model performance - training set\n",
    "svr1_train_mae = mean_absolute_error(y1_train, y_svr_train_pred_1)\n",
    "svr1_train_mse = mean_squared_error(y1_train, y_svr_train_pred_1)\n",
    "svr1_train_rmse = sqrt(svr1_train_mse)\n",
    "svr1_train_r2 = r2_score(y1_train, y_svr_train_pred_1)\n",
    "# Test results\n",
    "svr1_test_mae = mean_absolute_error(y1_test, y_svr_test_pred_1)\n",
    "svr1_test_mse = mean_squared_error(y1_test, y_svr_test_pred_1)\n",
    "svr1_test_rmse = sqrt(svr1_test_mse)\n",
    "svr1_test_r2 = r2_score(X1_test, y_svr_test_pred_1)\n",
    "# Consolidate the results.\n",
    "#svr_results = pd.DataFrame(['SVR', svr_train_mse, svr_train_r2, svr_test_mse, svr_test_r2]).T\n",
    "svr_results_1 = pd.DataFrame(['SVR', svr1_train_mae, svr1_train_mse, svr1_train_rmse, svr1_train_r2, svr1_test_mae, svr1_test_mse, svr1_test_rmse, svr1_test_r2]).T\n",
    "svr_results_1.columns = metric_col_names\n",
    "#results2 = pd.concat([knn_results, svr_results.T], ignore_index = False)\n",
    "#print(results2)\n",
    "#print(svr_results_1)\n",
    "svr_results_1"
   ]
  },
  {
   "cell_type": "markdown",
   "id": "4394ef33",
   "metadata": {},
   "source": [
    "Now want to model using the Random Forest Regressor."
   ]
  },
  {
   "cell_type": "code",
   "execution_count": 32,
   "id": "ffc305d3",
   "metadata": {},
   "outputs": [
    {
     "name": "stderr",
     "output_type": "stream",
     "text": [
      "C:\\Users\\joepb\\AppData\\Local\\Temp\\ipykernel_17980\\4240487719.py:2: DataConversionWarning: A column-vector y was passed when a 1d array was expected. Please change the shape of y to (n_samples,), for example using ravel().\n",
      "  rf_1.fit(X1_train_log.reshape(-1, 1), y1_train.reshape(-1, 1))\n"
     ]
    },
    {
     "data": {
      "text/plain": [
       "RandomForestRegressor(max_depth=2)"
      ]
     },
     "execution_count": 32,
     "metadata": {},
     "output_type": "execute_result"
    }
   ],
   "source": [
    "rf_1 = RandomForestRegressor(max_depth=2)\n",
    "rf_1.fit(X1_train_log.reshape(-1, 1), y1_train.reshape(-1, 1))\n",
    "y_rf_train_pred_1 = rf_1.predict(X1_train_log.reshape(-1, 1))\n",
    "y_rf_test_pred_1 = rf_1.predict(X1_test_log.reshape(-1, 1))\n",
    "rf_1"
   ]
  },
  {
   "cell_type": "code",
   "execution_count": 33,
   "id": "71fe8faa",
   "metadata": {},
   "outputs": [],
   "source": [
    "# Model performance metrics for random forest model.\n",
    "rf1_train_mae = mean_absolute_error(y1_train, y_rf_train_pred_1)\n",
    "rf1_train_mse = mean_squared_error(y1_train, y_rf_train_pred_1)\n",
    "rf1_train_rmse = sqrt(rf1_train_mse)\n",
    "rf1_train_r2 = r2_score(y1_train, y_rf_train_pred_1)\n",
    "# The following are the test metrics.\n",
    "rf1_test_mae = mean_absolute_error(y1_test, y_rf_test_pred_1)\n",
    "rf1_test_mse = mean_squared_error(y1_test, y_rf_test_pred_1)\n",
    "rf1_test_rmse = sqrt(rf1_test_mse)\n",
    "rf1_test_r2 = r2_score(y1_test, y_rf_test_pred_1)"
   ]
  },
  {
   "cell_type": "code",
   "execution_count": 34,
   "id": "6d8f7d78",
   "metadata": {},
   "outputs": [
    {
     "data": {
      "text/html": [
       "<div>\n",
       "<style scoped>\n",
       "    .dataframe tbody tr th:only-of-type {\n",
       "        vertical-align: middle;\n",
       "    }\n",
       "\n",
       "    .dataframe tbody tr th {\n",
       "        vertical-align: top;\n",
       "    }\n",
       "\n",
       "    .dataframe thead th {\n",
       "        text-align: right;\n",
       "    }\n",
       "</style>\n",
       "<table border=\"1\" class=\"dataframe\">\n",
       "  <thead>\n",
       "    <tr style=\"text-align: right;\">\n",
       "      <th></th>\n",
       "      <th>Method</th>\n",
       "      <th>Train MAE</th>\n",
       "      <th>Train MSE</th>\n",
       "      <th>Train RMSE</th>\n",
       "      <th>Train R2</th>\n",
       "      <th>Test MAE</th>\n",
       "      <th>Test MSE</th>\n",
       "      <th>Test RMSE</th>\n",
       "      <th>Test R2</th>\n",
       "    </tr>\n",
       "  </thead>\n",
       "  <tbody>\n",
       "    <tr>\n",
       "      <th>0</th>\n",
       "      <td>Random Forest</td>\n",
       "      <td>0.066381</td>\n",
       "      <td>0.012159</td>\n",
       "      <td>0.11027</td>\n",
       "      <td>0.320081</td>\n",
       "      <td>0.066753</td>\n",
       "      <td>0.012505</td>\n",
       "      <td>0.111825</td>\n",
       "      <td>0.367474</td>\n",
       "    </tr>\n",
       "  </tbody>\n",
       "</table>\n",
       "</div>"
      ],
      "text/plain": [
       "          Method Train MAE Train MSE Train RMSE  Train R2  Test MAE  Test MSE  \\\n",
       "0  Random Forest  0.066381  0.012159    0.11027  0.320081  0.066753  0.012505   \n",
       "\n",
       "  Test RMSE   Test R2  \n",
       "0  0.111825  0.367474  "
      ]
     },
     "execution_count": 34,
     "metadata": {},
     "output_type": "execute_result"
    }
   ],
   "source": [
    "rf1_results = pd.DataFrame(['Random Forest', rf1_train_mae, rf1_train_mse, rf1_train_rmse, rf1_train_r2, rf1_test_mae, rf1_test_mse, rf1_test_rmse, rf1_test_r2]).transpose()\n",
    "rf1_results.columns = metric_col_names\n",
    "rf1_results"
   ]
  },
  {
   "cell_type": "markdown",
   "id": "4fd6cbfa",
   "metadata": {},
   "source": [
    "Want to add all the results to a single table."
   ]
  },
  {
   "cell_type": "code",
   "execution_count": 35,
   "id": "8380dbd1",
   "metadata": {},
   "outputs": [
    {
     "data": {
      "text/html": [
       "<div>\n",
       "<style scoped>\n",
       "    .dataframe tbody tr th:only-of-type {\n",
       "        vertical-align: middle;\n",
       "    }\n",
       "\n",
       "    .dataframe tbody tr th {\n",
       "        vertical-align: top;\n",
       "    }\n",
       "\n",
       "    .dataframe thead th {\n",
       "        text-align: right;\n",
       "    }\n",
       "</style>\n",
       "<table border=\"1\" class=\"dataframe\">\n",
       "  <thead>\n",
       "    <tr style=\"text-align: right;\">\n",
       "      <th></th>\n",
       "      <th>Method</th>\n",
       "      <th>Train MAE</th>\n",
       "      <th>Train MSE</th>\n",
       "      <th>Train RMSE</th>\n",
       "      <th>Train R2</th>\n",
       "      <th>Test MAE</th>\n",
       "      <th>Test MSE</th>\n",
       "      <th>Test RMSE</th>\n",
       "      <th>Test R2</th>\n",
       "    </tr>\n",
       "  </thead>\n",
       "  <tbody>\n",
       "    <tr>\n",
       "      <th>0</th>\n",
       "      <td>Baseline</td>\n",
       "      <td>0.087529</td>\n",
       "      <td>0.017884</td>\n",
       "      <td>0.13373</td>\n",
       "      <td>0.0</td>\n",
       "      <td>0.090676</td>\n",
       "      <td>0.019772</td>\n",
       "      <td>0.140612</td>\n",
       "      <td>-0.0001</td>\n",
       "    </tr>\n",
       "    <tr>\n",
       "      <th>1</th>\n",
       "      <td>k Nearest Neighbor</td>\n",
       "      <td>0.066004</td>\n",
       "      <td>0.01209</td>\n",
       "      <td>0.109954</td>\n",
       "      <td>0.32398</td>\n",
       "      <td>0.067364</td>\n",
       "      <td>0.012791</td>\n",
       "      <td>0.113099</td>\n",
       "      <td>0.352987</td>\n",
       "    </tr>\n",
       "    <tr>\n",
       "      <th>2</th>\n",
       "      <td>SVR</td>\n",
       "      <td>0.104178</td>\n",
       "      <td>0.016254</td>\n",
       "      <td>0.127492</td>\n",
       "      <td>0.091116</td>\n",
       "      <td>0.10604</td>\n",
       "      <td>0.016782</td>\n",
       "      <td>0.129544</td>\n",
       "      <td>-0.025504</td>\n",
       "    </tr>\n",
       "    <tr>\n",
       "      <th>3</th>\n",
       "      <td>Random Forest</td>\n",
       "      <td>0.066381</td>\n",
       "      <td>0.012159</td>\n",
       "      <td>0.11027</td>\n",
       "      <td>0.320081</td>\n",
       "      <td>0.066753</td>\n",
       "      <td>0.012505</td>\n",
       "      <td>0.111825</td>\n",
       "      <td>0.367474</td>\n",
       "    </tr>\n",
       "  </tbody>\n",
       "</table>\n",
       "</div>"
      ],
      "text/plain": [
       "               Method Train MAE Train MSE Train RMSE  Train R2  Test MAE  \\\n",
       "0            Baseline  0.087529  0.017884    0.13373       0.0  0.090676   \n",
       "1  k Nearest Neighbor  0.066004   0.01209   0.109954   0.32398  0.067364   \n",
       "2                 SVR  0.104178  0.016254   0.127492  0.091116   0.10604   \n",
       "3       Random Forest  0.066381  0.012159    0.11027  0.320081  0.066753   \n",
       "\n",
       "   Test MSE Test RMSE   Test R2  \n",
       "0  0.019772  0.140612   -0.0001  \n",
       "1  0.012791  0.113099  0.352987  \n",
       "2  0.016782  0.129544 -0.025504  \n",
       "3  0.012505  0.111825  0.367474  "
      ]
     },
     "execution_count": 35,
     "metadata": {},
     "output_type": "execute_result"
    }
   ],
   "source": [
    "results_1 = pd.concat([prediction_1, knn_results_1, svr_results_1, rf1_results], axis = 0, ignore_index = True)\n",
    "results_1 "
   ]
  },
  {
   "cell_type": "markdown",
   "id": "4c3b814a",
   "metadata": {},
   "source": [
    "#### Bootstrap Confidence Intervals"
   ]
  },
  {
   "cell_type": "markdown",
   "id": "ccbefade",
   "metadata": {},
   "source": [
    "For this section, want to develop logic to use bootstrap method to configure confidence interval."
   ]
  },
  {
   "cell_type": "code",
   "execution_count": 36,
   "id": "d3cbf6a6",
   "metadata": {},
   "outputs": [
    {
     "data": {
      "text/html": [
       "<div>\n",
       "<style scoped>\n",
       "    .dataframe tbody tr th:only-of-type {\n",
       "        vertical-align: middle;\n",
       "    }\n",
       "\n",
       "    .dataframe tbody tr th {\n",
       "        vertical-align: top;\n",
       "    }\n",
       "\n",
       "    .dataframe thead th {\n",
       "        text-align: right;\n",
       "    }\n",
       "</style>\n",
       "<table border=\"1\" class=\"dataframe\">\n",
       "  <thead>\n",
       "    <tr style=\"text-align: right;\">\n",
       "      <th></th>\n",
       "      <th>orbitperiod</th>\n",
       "      <th>eccentricity</th>\n",
       "    </tr>\n",
       "    <tr>\n",
       "      <th>planetname</th>\n",
       "      <th></th>\n",
       "      <th></th>\n",
       "    </tr>\n",
       "  </thead>\n",
       "  <tbody>\n",
       "    <tr>\n",
       "      <th>11 Com b</th>\n",
       "      <td>2.513258</td>\n",
       "      <td>0.231000</td>\n",
       "    </tr>\n",
       "    <tr>\n",
       "      <th>11 UMi b</th>\n",
       "      <td>2.712835</td>\n",
       "      <td>0.080000</td>\n",
       "    </tr>\n",
       "    <tr>\n",
       "      <th>14 And b</th>\n",
       "      <td>2.269139</td>\n",
       "      <td>0.000000</td>\n",
       "    </tr>\n",
       "    <tr>\n",
       "      <th>14 Her b</th>\n",
       "      <td>3.247139</td>\n",
       "      <td>0.362233</td>\n",
       "    </tr>\n",
       "    <tr>\n",
       "      <th>16 Cyg B b</th>\n",
       "      <td>2.902751</td>\n",
       "      <td>0.676033</td>\n",
       "    </tr>\n",
       "    <tr>\n",
       "      <th>...</th>\n",
       "      <td>...</td>\n",
       "      <td>...</td>\n",
       "    </tr>\n",
       "    <tr>\n",
       "      <th>ups And b</th>\n",
       "      <td>0.664287</td>\n",
       "      <td>0.030200</td>\n",
       "    </tr>\n",
       "    <tr>\n",
       "      <th>ups And c</th>\n",
       "      <td>2.381528</td>\n",
       "      <td>0.238933</td>\n",
       "    </tr>\n",
       "    <tr>\n",
       "      <th>ups And d</th>\n",
       "      <td>3.109020</td>\n",
       "      <td>0.281117</td>\n",
       "    </tr>\n",
       "    <tr>\n",
       "      <th>ups Leo b</th>\n",
       "      <td>2.585686</td>\n",
       "      <td>0.320000</td>\n",
       "    </tr>\n",
       "    <tr>\n",
       "      <th>xi Aql b</th>\n",
       "      <td>2.135927</td>\n",
       "      <td>0.000000</td>\n",
       "    </tr>\n",
       "  </tbody>\n",
       "</table>\n",
       "<p>4371 rows × 2 columns</p>\n",
       "</div>"
      ],
      "text/plain": [
       "            orbitperiod  eccentricity\n",
       "planetname                           \n",
       "11 Com b       2.513258      0.231000\n",
       "11 UMi b       2.712835      0.080000\n",
       "14 And b       2.269139      0.000000\n",
       "14 Her b       3.247139      0.362233\n",
       "16 Cyg B b     2.902751      0.676033\n",
       "...                 ...           ...\n",
       "ups And b      0.664287      0.030200\n",
       "ups And c      2.381528      0.238933\n",
       "ups And d      3.109020      0.281117\n",
       "ups Leo b      2.585686      0.320000\n",
       "xi Aql b       2.135927      0.000000\n",
       "\n",
       "[4371 rows x 2 columns]"
      ]
     },
     "execution_count": 36,
     "metadata": {},
     "output_type": "execute_result"
    }
   ],
   "source": [
    "df2_log = pd.concat([np.log10(orbper), eccen], axis = 1)\n",
    "df2_log"
   ]
  },
  {
   "cell_type": "code",
   "execution_count": 37,
   "id": "e78dca34",
   "metadata": {},
   "outputs": [
    {
     "data": {
      "text/plain": [
       "array([[2.51325756, 0.231     ],\n",
       "       [2.71283481, 0.08      ],\n",
       "       [2.2691392 , 0.        ],\n",
       "       ...,\n",
       "       [3.10902011, 0.28111667],\n",
       "       [2.58568628, 0.32      ],\n",
       "       [2.13592734, 0.        ]])"
      ]
     },
     "execution_count": 37,
     "metadata": {},
     "output_type": "execute_result"
    }
   ],
   "source": [
    "df2_log.values"
   ]
  },
  {
   "cell_type": "code",
   "execution_count": 38,
   "id": "9bcd8dc2",
   "metadata": {},
   "outputs": [
    {
     "data": {
      "text/plain": [
       "pandas.core.frame.DataFrame"
      ]
     },
     "execution_count": 38,
     "metadata": {},
     "output_type": "execute_result"
    }
   ],
   "source": [
    "type(df2_log)"
   ]
  },
  {
   "cell_type": "code",
   "execution_count": 39,
   "id": "49f16e30",
   "metadata": {},
   "outputs": [],
   "source": [
    "def bootstrap_95ci_mae(data): # <- Mean Absolute Error\n",
    "    # Load and transform data\n",
    "    #values = data.values\n",
    "    #values = data.ravel()\n",
    "    values = data\n",
    "    # Set up bootstrap\n",
    "    bootstrap_iter = 5000\n",
    "    #sample_size = int(len(data) * 0.50)\n",
    "    sample_size = len(data)\n",
    "    #sample_size = bootstrap_iter\n",
    "    # Confidence Interval\n",
    "    confidence = 0.95\n",
    "    alpha_level = 0.95 * 100\n",
    "    lower = ((1.0 - confidence)/2.0) * 100 # Should be 2.5 as the lower bound.\n",
    "    upper = alpha_level + (((1.0 - confidence)/2.0) * 100) # Should be 97.5 as the upper bound\n",
    "    # Run bootstrap\n",
    "    mae_metrics = []\n",
    "    #stats = list()\n",
    "    for index in range(bootstrap_iter):\n",
    "        #sample = resample(values, n_samples = sample_size)\n",
    "        sample = resample(values, n_samples = sample_size)\n",
    "        #test = np.array([x for x in values if x.tolist() not in train.tolist()])\n",
    "        #r2 = r2_score(test_data, predictions)\n",
    "        #r2 = r2_score(test_data, sample)\n",
    "        #bootstrap_knn =  KNeighborsRegressor(n_neighbors = 64)\n",
    "        #bootstrap_knn.fit(train[:, :-1], train[:, -1])\n",
    "        #predictions = bootstrap_knn.predict(test[:, :-1])\n",
    "        #score = mean_absolute_error(test[:, -1], predictions)\n",
    "        score = mean_absolute_error(data, sample)\n",
    "        mae_metrics.append(score)\n",
    "        #r2_metrics.append(r2)\n",
    "        #stats.append(score)\n",
    "    confidence_interval = np.percentile(mae_metrics, [lower, upper])\n",
    "    #plt.hist(stats)\n",
    "    #plt.hist(mae_metrics)\n",
    "    #plt.show()\n",
    "    return plt.hist(mae_metrics, color = '#2eb3b0', edgecolor = 'black'), confidence_interval"
   ]
  },
  {
   "cell_type": "code",
   "execution_count": 40,
   "id": "2462e624",
   "metadata": {},
   "outputs": [
    {
     "data": {
      "text/plain": [
       "((array([1.000e+00, 3.200e+01, 1.600e+02, 6.200e+02, 1.254e+03, 1.420e+03,\n",
       "         9.760e+02, 4.040e+02, 1.080e+02, 2.500e+01]),\n",
       "  array([0.05276385, 0.05444877, 0.05613368, 0.0578186 , 0.05950351,\n",
       "         0.06118843, 0.06287334, 0.06455826, 0.06624317, 0.06792809,\n",
       "         0.06961301]),\n",
       "  <BarContainer object of 10 artists>),\n",
       " array([0.05733228, 0.06631255]))"
      ]
     },
     "execution_count": 40,
     "metadata": {},
     "output_type": "execute_result"
    },
    {
     "data": {
      "image/png": "[encoded data removed]",
      "text/plain": [
       "<Figure size 432x288 with 1 Axes>"
      ]
     },
     "metadata": {
      "needs_background": "light"
     },
     "output_type": "display_data"
    }
   ],
   "source": [
    "bootstrap_95ci_mae(y_knn_test_pred_1)"
   ]
  },
  {
   "cell_type": "code",
   "execution_count": 41,
   "id": "8c3d9f4b",
   "metadata": {},
   "outputs": [],
   "source": [
    "def ci_95_mae(test_data): # The function will be set up for a 95% confidence interval.\n",
    "    bootstrap_iter = 5000\n",
    "    sample_size = len(test_data)\n",
    "    #sample_size = bootstrap_iter\n",
    "    mae_metrics = []\n",
    "    confidence = 0.95\n",
    "    alpha_level = 0.95 * 100\n",
    "    lower = ((1.0 - confidence)/2.0) * 100 # Should be 2.5 as the lower bound.\n",
    "    upper = alpha_level + (((1.0 - confidence)/2.0) * 100) # Should be 97.5 as the upper bound\n",
    "    for i in range(bootstrap_iter):\n",
    "        #sample = resample(predictions, n_samples = sample_size)\n",
    "        sample = resample(test_data, n_samples = sample_size)\n",
    "        #r2 = r2_score(test_data, predictions)\n",
    "        mae = mean_absolute_error(test_data, sample)\n",
    "        mae_metrics.append(mae)\n",
    "    confidence_interval = np.percentile(mae_metrics, [lower, upper])\n",
    "    return mae_metrics, confidence_interval"
   ]
  },
  {
   "cell_type": "code",
   "execution_count": 42,
   "id": "8dd904f1",
   "metadata": {},
   "outputs": [],
   "source": [
    "a1, b1 = ci_95_mae(y_knn_test_pred_1)"
   ]
  },
  {
   "cell_type": "code",
   "execution_count": 43,
   "id": "623c76fd",
   "metadata": {},
   "outputs": [
    {
     "data": {
      "text/plain": [
       "array([0.05741689, 0.0662978 ])"
      ]
     },
     "execution_count": 43,
     "metadata": {},
     "output_type": "execute_result"
    }
   ],
   "source": [
    "b1"
   ]
  },
  {
   "cell_type": "code",
   "execution_count": 44,
   "id": "2f2a43c0",
   "metadata": {},
   "outputs": [
    {
     "data": {
      "text/plain": [
       "(array([   2.,   18.,  137.,  573., 1251., 1513.,  981.,  408.,  107.,\n",
       "          10.]),\n",
       " array([0.05239667, 0.0541419 , 0.05588713, 0.05763236, 0.05937759,\n",
       "        0.06112282, 0.06286805, 0.06461328, 0.06635851, 0.06810375,\n",
       "        0.06984898]),\n",
       " <BarContainer object of 10 artists>)"
      ]
     },
     "execution_count": 44,
     "metadata": {},
     "output_type": "execute_result"
    },
    {
     "data": {
      "image/png": "[encoded data removed]",
      "text/plain": [
       "<Figure size 432x288 with 1 Axes>"
      ]
     },
     "metadata": {
      "needs_background": "light"
     },
     "output_type": "display_data"
    }
   ],
   "source": [
    "plt.hist(a1, color = '#4db32e', edgecolor = 'red')"
   ]
  },
  {
   "cell_type": "code",
   "execution_count": 45,
   "id": "eddb4458",
   "metadata": {},
   "outputs": [],
   "source": [
    "a2, b2 = ci_95_mae(y_rf_test_pred_1)"
   ]
  },
  {
   "cell_type": "code",
   "execution_count": 46,
   "id": "423893fe",
   "metadata": {},
   "outputs": [
    {
     "data": {
      "text/plain": [
       "array([0.04906495, 0.0584568 ])"
      ]
     },
     "execution_count": 46,
     "metadata": {},
     "output_type": "execute_result"
    }
   ],
   "source": [
    "b2"
   ]
  },
  {
   "cell_type": "code",
   "execution_count": 47,
   "id": "b26fc86d",
   "metadata": {},
   "outputs": [
    {
     "data": {
      "text/plain": [
       "(array([   2.,   35.,  193.,  586., 1153., 1340., 1036.,  480.,  141.,\n",
       "          34.]),\n",
       " array([0.04458478, 0.04627767, 0.04797055, 0.04966344, 0.05135633,\n",
       "        0.05304922, 0.0547421 , 0.05643499, 0.05812788, 0.05982077,\n",
       "        0.06151365]),\n",
       " <BarContainer object of 10 artists>)"
      ]
     },
     "execution_count": 47,
     "metadata": {},
     "output_type": "execute_result"
    },
    {
     "data": {
      "image/png": "[encoded data removed]",
      "text/plain": [
       "<Figure size 432x288 with 1 Axes>"
      ]
     },
     "metadata": {
      "needs_background": "light"
     },
     "output_type": "display_data"
    }
   ],
   "source": [
    "plt.hist(a2, color = '#ad6dcf', edgecolor = 'white')"
   ]
  },
  {
   "cell_type": "code",
   "execution_count": 48,
   "id": "5579ab3f",
   "metadata": {},
   "outputs": [],
   "source": [
    "a3, b3 = ci_95_mae(y1_test)"
   ]
  },
  {
   "cell_type": "code",
   "execution_count": 49,
   "id": "8c494b3a",
   "metadata": {},
   "outputs": [
    {
     "data": {
      "text/plain": [
       "array([0.09912745, 0.11567964])"
      ]
     },
     "execution_count": 49,
     "metadata": {},
     "output_type": "execute_result"
    }
   ],
   "source": [
    "b3"
   ]
  },
  {
   "cell_type": "code",
   "execution_count": 50,
   "id": "fcdad333",
   "metadata": {},
   "outputs": [
    {
     "data": {
      "text/plain": [
       "(array([  25.,  169.,  670., 1207., 1467.,  956.,  412.,   75.,   14.,\n",
       "           5.]),\n",
       " array([0.09341992, 0.09666755, 0.09991519, 0.10316283, 0.10641046,\n",
       "        0.1096581 , 0.11290573, 0.11615337, 0.11940101, 0.12264864,\n",
       "        0.12589628]),\n",
       " <BarContainer object of 10 artists>)"
      ]
     },
     "execution_count": 50,
     "metadata": {},
     "output_type": "execute_result"
    },
    {
     "data": {
      "image/png": "[encoded data removed]",
      "text/plain": [
       "<Figure size 432x288 with 1 Axes>"
      ]
     },
     "metadata": {
      "needs_background": "light"
     },
     "output_type": "display_data"
    }
   ],
   "source": [
    "plt.hist(a3)"
   ]
  },
  {
   "cell_type": "markdown",
   "id": "3b1674f3",
   "metadata": {},
   "source": [
    "#### Hypothesis Testing- Case 1"
   ]
  },
  {
   "cell_type": "markdown",
   "id": "24b7e8e6",
   "metadata": {},
   "source": [
    "#### Correlation Tests - Case 1"
   ]
  },
  {
   "cell_type": "code",
   "execution_count": 51,
   "id": "a3ae401b",
   "metadata": {},
   "outputs": [
    {
     "name": "stdout",
     "output_type": "stream",
     "text": [
      "stat = 0.303, p = 0.000\n",
      "Probably Dependent\n"
     ]
    }
   ],
   "source": [
    "# Spearman's Rank Correlation Test\n",
    "from scipy.stats import spearmanr\n",
    "stat_1, p_1 = spearmanr(orbper_log, eccen)\n",
    "print('stat = %.3f, p = %.3f' % (stat_1, p_1))\n",
    "if p_1 > 0.05:\n",
    "    print('Probably Independent')\n",
    "else :\n",
    "    print('Probably Dependent')"
   ]
  },
  {
   "cell_type": "markdown",
   "id": "2d6f7bc0",
   "metadata": {},
   "source": [
    "#### Nonparametric Statistical Hypothesis Tests - Case 1"
   ]
  },
  {
   "cell_type": "code",
   "execution_count": 52,
   "id": "616c8fcf",
   "metadata": {},
   "outputs": [
    {
     "name": "stdout",
     "output_type": "stream",
     "text": [
      "stat = 20848.000, p = 0.000\n",
      "Probably Dependent\n"
     ]
    }
   ],
   "source": [
    "# Wilcoxon Signed-Rank Test\n",
    "from scipy.stats import wilcoxon\n",
    "stat_2, p_2 = wilcoxon(orbper_log, eccen)\n",
    "print('stat = %.3f, p = %.3f' % (stat_2, p_2))\n",
    "if p_2 > 0.05:\n",
    "    print('Probably Independent')\n",
    "else :\n",
    "    print('Probably Dependent')"
   ]
  },
  {
   "cell_type": "markdown",
   "id": "60a5048d",
   "metadata": {},
   "source": [
    "Want to make a quick calculation of the residuals in this prediction and actual values evaluation."
   ]
  },
  {
   "cell_type": "code",
   "execution_count": 53,
   "id": "6208827c",
   "metadata": {
    "scrolled": true
   },
   "outputs": [
    {
     "data": {
      "image/png": "[encoded data removed]",
      "text/plain": [
       "<Figure size 720x720 with 1 Axes>"
      ]
     },
     "metadata": {
      "needs_background": "light"
     },
     "output_type": "display_data"
    }
   ],
   "source": [
    "true_values_1 = y1_test\n",
    "predicted_values1_1 = y_knn_test_pred_1\n",
    "predicted_values1_2 = y_svr_test_pred_1\n",
    "predicted_values1_3 = y_rf_test_pred_1\n",
    "\n",
    "plt.figure(figsize = (10, 10))\n",
    "# kNN model\n",
    "knn_1 = plt.scatter(x = true_values_1, y = predicted_values1_1, c = '#d68431')\n",
    "# SVR model\n",
    "svr_1 = plt.scatter(x = true_values_1, y = predicted_values1_2, c = 'lime', marker = 'x')\n",
    "# Random Forest model\n",
    "rf_1 = plt.scatter(x = true_values_1, y = predicted_values1_3, c = '#b337cc', marker = 'd')\n",
    "p1 = max(max(predicted_values1_1), max(predicted_values1_2), max(predicted_values1_3), max(true_values_1))\n",
    "p2 = min(min(predicted_values1_1), min(predicted_values1_2), min(predicted_values1_3), min(true_values_1))\n",
    "plt.plot([p1, p2], [p1, p2], 'b-')\n",
    "plt.title('Prediction and Actual Values')\n",
    "plt.xlabel('Actual Eccentricity Values')\n",
    "plt.ylabel('Predicted Eccentricity Values')\n",
    "plt.legend([knn_1, svr_1, rf_1], ['kNN', 'SVR', 'RF'], loc = 'upper left')\n",
    "plt.savefig('pred_vs_actual_1.png')\n",
    "plt.show()"
   ]
  },
  {
   "cell_type": "markdown",
   "id": "393499f4",
   "metadata": {},
   "source": [
    "Want to plot the residuals and see if there are any obvious patterns. Another name is the Versus Fit."
   ]
  },
  {
   "cell_type": "code",
   "execution_count": 54,
   "id": "2b382e89",
   "metadata": {},
   "outputs": [
    {
     "data": {
      "image/png": "[encoded data removed]",
      "text/plain": [
       "<Figure size 648x648 with 1 Axes>"
      ]
     },
     "metadata": {
      "needs_background": "light"
     },
     "output_type": "display_data"
    }
   ],
   "source": [
    "# Will invoke for loop to calculate residulas for the three different models.\n",
    "residuals1_1 = list()\n",
    "for item1, item2 in zip(true_values_1, predicted_values1_1):\n",
    "    residuals1_1.append(item1 - item2)\n",
    "residuals1_2 = list()\n",
    "for item3, item4 in zip(true_values_1, predicted_values1_2):\n",
    "    residuals1_2.append(item3 - item4)\n",
    "residuals1_3 = list()\n",
    "for item5, item6 in zip(true_values_1, predicted_values1_3):\n",
    "    residuals1_3.append(item5 - item6)\n",
    "\n",
    "plt.figure(figsize = (9, 9))\n",
    "# kNN model\n",
    "knn_resid_1 = plt.scatter(x = predicted_values1_1, y = residuals1_1, c = '#d68431')\n",
    "# SVR model\n",
    "svr_resid_1 = plt.scatter(x = predicted_values1_2, y = residuals1_2, c = 'lime', marker = 'x')\n",
    "# Random Forest model\n",
    "rf_resid_1 = plt.scatter(x = predicted_values1_3, y = residuals1_3, c = '#b337cc', marker = 'd')\n",
    "\n",
    "plt.title('Residuals versus Fitted values')\n",
    "plt.xlabel('Fitted Values') # <- Predicted Values\n",
    "plt.ylabel('Residuals')\n",
    "plt.legend([knn_resid_1, svr_resid_1, rf_resid_1], ['kNN', 'SVR', 'RF'], loc = 'upper right')\n",
    "plt.axhline(y = 0.0, color = '#034b8a', linestyle = '--')\n",
    "plt.savefig('output_2.png')\n",
    "plt.show()"
   ]
  },
  {
   "cell_type": "markdown",
   "id": "5f0dddd1",
   "metadata": {},
   "source": [
    "There is an obvious pattern in the residuals plot."
   ]
  },
  {
   "cell_type": "markdown",
   "id": "efea0c06",
   "metadata": {},
   "source": [
    "### Scenario 2 - temperature as function of planet mass"
   ]
  },
  {
   "cell_type": "markdown",
   "id": "ee69b2ec",
   "metadata": {},
   "source": [
    "Now want to begin analysis of equilibrium temperature as a function of planet size."
   ]
  },
  {
   "cell_type": "code",
   "execution_count": 55,
   "id": "a3d1e67b",
   "metadata": {},
   "outputs": [
    {
     "data": {
      "text/html": [
       "<div>\n",
       "<style scoped>\n",
       "    .dataframe tbody tr th:only-of-type {\n",
       "        vertical-align: middle;\n",
       "    }\n",
       "\n",
       "    .dataframe tbody tr th {\n",
       "        vertical-align: top;\n",
       "    }\n",
       "\n",
       "    .dataframe thead th {\n",
       "        text-align: right;\n",
       "    }\n",
       "</style>\n",
       "<table border=\"1\" class=\"dataframe\">\n",
       "  <thead>\n",
       "    <tr style=\"text-align: right;\">\n",
       "      <th></th>\n",
       "      <th>pl_name</th>\n",
       "      <th>pl_bmassj</th>\n",
       "      <th>pl_eqt</th>\n",
       "    </tr>\n",
       "  </thead>\n",
       "  <tbody>\n",
       "    <tr>\n",
       "      <th>0</th>\n",
       "      <td>11 Com b</td>\n",
       "      <td>19.40</td>\n",
       "      <td>NaN</td>\n",
       "    </tr>\n",
       "    <tr>\n",
       "      <th>1</th>\n",
       "      <td>11 Com b</td>\n",
       "      <td>17.10</td>\n",
       "      <td>NaN</td>\n",
       "    </tr>\n",
       "    <tr>\n",
       "      <th>2</th>\n",
       "      <td>11 UMi b</td>\n",
       "      <td>10.80</td>\n",
       "      <td>NaN</td>\n",
       "    </tr>\n",
       "    <tr>\n",
       "      <th>3</th>\n",
       "      <td>11 UMi b</td>\n",
       "      <td>14.74</td>\n",
       "      <td>NaN</td>\n",
       "    </tr>\n",
       "    <tr>\n",
       "      <th>4</th>\n",
       "      <td>11 UMi b</td>\n",
       "      <td>10.50</td>\n",
       "      <td>NaN</td>\n",
       "    </tr>\n",
       "    <tr>\n",
       "      <th>...</th>\n",
       "      <td>...</td>\n",
       "      <td>...</td>\n",
       "      <td>...</td>\n",
       "    </tr>\n",
       "    <tr>\n",
       "      <th>32511</th>\n",
       "      <td>ups And d</td>\n",
       "      <td>4.10</td>\n",
       "      <td>NaN</td>\n",
       "    </tr>\n",
       "    <tr>\n",
       "      <th>32512</th>\n",
       "      <td>ups And d</td>\n",
       "      <td>10.25</td>\n",
       "      <td>NaN</td>\n",
       "    </tr>\n",
       "    <tr>\n",
       "      <th>32513</th>\n",
       "      <td>ups Leo b</td>\n",
       "      <td>0.51</td>\n",
       "      <td>NaN</td>\n",
       "    </tr>\n",
       "    <tr>\n",
       "      <th>32514</th>\n",
       "      <td>xi Aql b</td>\n",
       "      <td>2.02</td>\n",
       "      <td>NaN</td>\n",
       "    </tr>\n",
       "    <tr>\n",
       "      <th>32515</th>\n",
       "      <td>xi Aql b</td>\n",
       "      <td>2.80</td>\n",
       "      <td>NaN</td>\n",
       "    </tr>\n",
       "  </tbody>\n",
       "</table>\n",
       "<p>32516 rows × 3 columns</p>\n",
       "</div>"
      ],
      "text/plain": [
       "         pl_name  pl_bmassj  pl_eqt\n",
       "0       11 Com b      19.40     NaN\n",
       "1       11 Com b      17.10     NaN\n",
       "2       11 UMi b      10.80     NaN\n",
       "3       11 UMi b      14.74     NaN\n",
       "4       11 UMi b      10.50     NaN\n",
       "...          ...        ...     ...\n",
       "32511  ups And d       4.10     NaN\n",
       "32512  ups And d      10.25     NaN\n",
       "32513  ups Leo b       0.51     NaN\n",
       "32514   xi Aql b       2.02     NaN\n",
       "32515   xi Aql b       2.80     NaN\n",
       "\n",
       "[32516 rows x 3 columns]"
      ]
     },
     "execution_count": 55,
     "metadata": {},
     "output_type": "execute_result"
    }
   ],
   "source": [
    "df3 = raw_data.loc[:, ['pl_name','pl_bmassj','pl_eqt']]\n",
    "df3"
   ]
  },
  {
   "cell_type": "code",
   "execution_count": 56,
   "id": "b51d578f",
   "metadata": {},
   "outputs": [
    {
     "data": {
      "text/html": [
       "<div>\n",
       "<style scoped>\n",
       "    .dataframe tbody tr th:only-of-type {\n",
       "        vertical-align: middle;\n",
       "    }\n",
       "\n",
       "    .dataframe tbody tr th {\n",
       "        vertical-align: top;\n",
       "    }\n",
       "\n",
       "    .dataframe thead th {\n",
       "        text-align: right;\n",
       "    }\n",
       "</style>\n",
       "<table border=\"1\" class=\"dataframe\">\n",
       "  <thead>\n",
       "    <tr style=\"text-align: right;\">\n",
       "      <th></th>\n",
       "      <th>planetname</th>\n",
       "      <th>mass</th>\n",
       "      <th>temperature</th>\n",
       "    </tr>\n",
       "  </thead>\n",
       "  <tbody>\n",
       "    <tr>\n",
       "      <th>23</th>\n",
       "      <td>1RXS J160929.1-210524 b</td>\n",
       "      <td>12.00000</td>\n",
       "      <td>1700.0</td>\n",
       "    </tr>\n",
       "    <tr>\n",
       "      <th>24</th>\n",
       "      <td>1RXS J160929.1-210524 b</td>\n",
       "      <td>8.00000</td>\n",
       "      <td>1700.0</td>\n",
       "    </tr>\n",
       "    <tr>\n",
       "      <th>25</th>\n",
       "      <td>1RXS J160929.1-210524 b</td>\n",
       "      <td>8.00000</td>\n",
       "      <td>1800.0</td>\n",
       "    </tr>\n",
       "    <tr>\n",
       "      <th>26</th>\n",
       "      <td>1RXS J160929.1-210524 b</td>\n",
       "      <td>8.00000</td>\n",
       "      <td>1800.0</td>\n",
       "    </tr>\n",
       "    <tr>\n",
       "      <th>30</th>\n",
       "      <td>2M0437 b</td>\n",
       "      <td>4.00000</td>\n",
       "      <td>1450.0</td>\n",
       "    </tr>\n",
       "    <tr>\n",
       "      <th>...</th>\n",
       "      <td>...</td>\n",
       "      <td>...</td>\n",
       "      <td>...</td>\n",
       "    </tr>\n",
       "    <tr>\n",
       "      <th>32454</th>\n",
       "      <td>kap And b</td>\n",
       "      <td>13.61600</td>\n",
       "      <td>1900.0</td>\n",
       "    </tr>\n",
       "    <tr>\n",
       "      <th>32473</th>\n",
       "      <td>pi Men c</td>\n",
       "      <td>0.01422</td>\n",
       "      <td>1147.0</td>\n",
       "    </tr>\n",
       "    <tr>\n",
       "      <th>32474</th>\n",
       "      <td>pi Men c</td>\n",
       "      <td>0.01517</td>\n",
       "      <td>1170.0</td>\n",
       "    </tr>\n",
       "    <tr>\n",
       "      <th>32480</th>\n",
       "      <td>rho CrB b</td>\n",
       "      <td>1.04490</td>\n",
       "      <td>614.0</td>\n",
       "    </tr>\n",
       "    <tr>\n",
       "      <th>32482</th>\n",
       "      <td>rho CrB c</td>\n",
       "      <td>0.07866</td>\n",
       "      <td>448.0</td>\n",
       "    </tr>\n",
       "  </tbody>\n",
       "</table>\n",
       "<p>1155 rows × 3 columns</p>\n",
       "</div>"
      ],
      "text/plain": [
       "                    planetname      mass  temperature\n",
       "23     1RXS J160929.1-210524 b  12.00000       1700.0\n",
       "24     1RXS J160929.1-210524 b   8.00000       1700.0\n",
       "25     1RXS J160929.1-210524 b   8.00000       1800.0\n",
       "26     1RXS J160929.1-210524 b   8.00000       1800.0\n",
       "30                    2M0437 b   4.00000       1450.0\n",
       "...                        ...       ...          ...\n",
       "32454                kap And b  13.61600       1900.0\n",
       "32473                 pi Men c   0.01422       1147.0\n",
       "32474                 pi Men c   0.01517       1170.0\n",
       "32480                rho CrB b   1.04490        614.0\n",
       "32482                rho CrB c   0.07866        448.0\n",
       "\n",
       "[1155 rows x 3 columns]"
      ]
     },
     "execution_count": 56,
     "metadata": {},
     "output_type": "execute_result"
    }
   ],
   "source": [
    "df3 = df3.rename(columns={'pl_name':'planetname', 'pl_bmassj':'mass', 'pl_eqt':'temperature'})\n",
    "df3 = df3.dropna()\n",
    "df3"
   ]
  },
  {
   "cell_type": "code",
   "execution_count": 57,
   "id": "d9d147b8",
   "metadata": {},
   "outputs": [],
   "source": [
    "mass = df3.groupby('planetname')['mass'].mean()\n",
    "temp = df3.groupby('planetname')['temperature'].mean()"
   ]
  },
  {
   "cell_type": "code",
   "execution_count": 58,
   "id": "d2159858",
   "metadata": {},
   "outputs": [
    {
     "name": "stdout",
     "output_type": "stream",
     "text": [
      "planetname\n",
      "1RXS J160929.1-210524 b         9.000000\n",
      "2M0437 b                        4.000000\n",
      "2MASS J12073346-3932539 b       4.500000\n",
      "2MASS J21402931+1625183 A b    20.950000\n",
      "51 Eri b                        2.000000\n",
      "                                 ...    \n",
      "bet Pic b                      13.500000\n",
      "kap And b                      13.208000\n",
      "pi Men c                        0.014695\n",
      "rho CrB b                       1.044900\n",
      "rho CrB c                       0.078660\n",
      "Name: mass, Length: 860, dtype: float64\n",
      "planetname\n",
      "1RXS J160929.1-210524 b        1750.0\n",
      "2M0437 b                       1450.0\n",
      "2MASS J12073346-3932539 b      1200.0\n",
      "2MASS J21402931+1625183 A b    2075.0\n",
      "51 Eri b                        700.0\n",
      "                                ...  \n",
      "bet Pic b                      1631.0\n",
      "kap And b                      1790.0\n",
      "pi Men c                       1158.5\n",
      "rho CrB b                       614.0\n",
      "rho CrB c                       448.0\n",
      "Name: temperature, Length: 860, dtype: float64\n"
     ]
    }
   ],
   "source": [
    "print(mass)\n",
    "print(temp)"
   ]
  },
  {
   "cell_type": "markdown",
   "id": "34d9054f",
   "metadata": {},
   "source": [
    "Preliminary plot."
   ]
  },
  {
   "cell_type": "code",
   "execution_count": 59,
   "id": "c021cc80",
   "metadata": {},
   "outputs": [
    {
     "data": {
      "text/plain": [
       "<matplotlib.collections.PathCollection at 0x1c9700ad8b0>"
      ]
     },
     "execution_count": 59,
     "metadata": {},
     "output_type": "execute_result"
    },
    {
     "data": {
      "image/png": "[encoded data removed]",
      "text/plain": [
       "<Figure size 432x288 with 1 Axes>"
      ]
     },
     "metadata": {
      "needs_background": "light"
     },
     "output_type": "display_data"
    }
   ],
   "source": [
    "plt.scatter(mass, np.log(temp))"
   ]
  },
  {
   "cell_type": "markdown",
   "id": "0aa32116",
   "metadata": {},
   "source": [
    "Want some summary statistics for the new two variables."
   ]
  },
  {
   "cell_type": "code",
   "execution_count": 60,
   "id": "1ffe6287",
   "metadata": {},
   "outputs": [
    {
     "name": "stdout",
     "output_type": "stream",
     "text": [
      "\n",
      "The median mass: 0.5755\n",
      "\n",
      "The median temperature: 1185.00\n",
      "\n",
      "The interquartile range of the mass: 1.34\n",
      "\n",
      "The interquartile range of the temperature: 917.50\n",
      "\n",
      "The mode for the mass: 0.84\n",
      "\n",
      "The mode for the temperature: 1480.00\n",
      "\n",
      "The mean for the mass: 1.67\n",
      "\n",
      "The mean for the planetary temperature: 1192.26\n"
     ]
    }
   ],
   "source": [
    "mass_med = statistics.median(list(mass))\n",
    "temp_med = statistics.median(list(temp))\n",
    "print('\\nThe median mass: %.4f' % mass_med)\n",
    "print('\\nThe median temperature: %.2f' % temp_med)\n",
    "iqr_mass = stats.iqr(mass, interpolation = 'midpoint')\n",
    "iqr_temp = stats.iqr(temp, interpolation = 'midpoint')\n",
    "print('\\nThe interquartile range of the mass: %.2f' % iqr_mass)\n",
    "print('\\nThe interquartile range of the temperature: %.2f' % iqr_temp)\n",
    "mass_mode = statistics.mode(list(mass))\n",
    "print('\\nThe mode for the mass: %.2f' % mass_mode)\n",
    "temp_mode = statistics.mode(list(temp))\n",
    "print('\\nThe mode for the temperature: %.2f' % temp_mode)\n",
    "mass_avg = statistics.mean(list(mass))\n",
    "print('\\nThe mean for the mass: %.2f' % mass_avg)\n",
    "temp_avg = statistics.mean(list(temp))\n",
    "print('\\nThe mean for the planetary temperature: %.2f' % temp_avg)"
   ]
  },
  {
   "cell_type": "code",
   "execution_count": 61,
   "id": "7dd3dde0",
   "metadata": {},
   "outputs": [
    {
     "data": {
      "image/png": "[encoded data removed]",
      "text/plain": [
       "<Figure size 864x864 with 4 Axes>"
      ]
     },
     "metadata": {
      "needs_background": "light"
     },
     "output_type": "display_data"
    }
   ],
   "source": [
    "# First, perform log base 10 transform\n",
    "mass_log = np.log10(mass)\n",
    "temp_log = np.log10(temp)\n",
    "# Plotting Logic\n",
    "fig2, ax2 = plt.subplots(2, 2,figsize = (12, 12))\n",
    "fig2.suptitle('Histograms - Case 2')\n",
    "ax2[0, 0].hist(mass, color = 'blueviolet', edgecolor = 'white')\n",
    "#ax2[0, 0].set_title('') #<- use this logic to give each plot its own title.\n",
    "ax2[0, 0].set(xlabel = 'planet mass (Jupiter mass)')\n",
    "ax2[0, 1].hist(mass_log, color = 'blueviolet', edgecolor = 'red')\n",
    "ax2[0, 1].set(xlabel = 'log10(planet mass)')\n",
    "ax2[1, 0].hist(temp, color = 'teal', edgecolor = 'white')\n",
    "ax2[1, 0].set(xlabel = 'equilibrium temperature')\n",
    "ax2[1, 1].hist(temp_log, color = 'teal', edgecolor = 'red')\n",
    "ax2[1, 1].set(xlabel = 'log10(equilibrium temperature)')\n",
    "\n",
    "for ax in ax1.flat:\n",
    "    ax.set(ylabel = 'Frequency')\n",
    "plt.savefig('histograms_2.png')\n",
    "fig1.tight_layout()"
   ]
  },
  {
   "cell_type": "markdown",
   "id": "fae0873a",
   "metadata": {},
   "source": [
    "The distribution became more normally distributed when applying the log base 10 transformation on the dataset."
   ]
  },
  {
   "cell_type": "markdown",
   "id": "190e16f1",
   "metadata": {},
   "source": [
    "In this case, the dataset became skew left when the logarithmic transformation was applied."
   ]
  },
  {
   "cell_type": "markdown",
   "id": "dc8496aa",
   "metadata": {},
   "source": [
    "Will now split the data into their respective sets."
   ]
  },
  {
   "cell_type": "code",
   "execution_count": 62,
   "id": "cda51b75",
   "metadata": {},
   "outputs": [],
   "source": [
    "X2 = np.array(mass).reshape(-1,1)\n",
    "y2 = np.array(temp).reshape(-1, 1)\n",
    "X2_train, X2_test, y2_train, y2_test = train_test_split(X2, y2, train_size = 0.80, random_state = 25)\n",
    "y2_train = y2_train.reshape(len(y2_train), )\n",
    "y2_test = y2_test.reshape(len(y2_test), )"
   ]
  },
  {
   "cell_type": "code",
   "execution_count": 63,
   "id": "5cfc4f47",
   "metadata": {},
   "outputs": [],
   "source": [
    "# Establishing baselines for predictions according to the y-variable or response variable.\n",
    "y_baseline_2= y2_train.mean()\n",
    "#y_baseline_2= statistics.median(y2_train)\n",
    "y_pred_train_2 = [y_baseline_2]*len(y2_train) #<- Training Baseline\n",
    "y_pred_test_2 = [y_baseline_2]*len(y2_test)"
   ]
  },
  {
   "cell_type": "code",
   "execution_count": 64,
   "id": "0b741f53",
   "metadata": {},
   "outputs": [],
   "source": [
    "# Following is for the Training Dataset.\n",
    "# Error for training data baseline guess.\n",
    "mae_train_2 = mean_absolute_error(y2_train, y_pred_train_2)\n",
    "# Mean squared error for training data baseline guess.\n",
    "mse_train_2 = mean_squared_error(y2_train, y_pred_train_2)\n",
    "rmse_train_2 = sqrt(mse_train_2) # <- will compute the root mean square error\n",
    "# R-squared for training data baseline guess.\n",
    "y2_train_r2 = r2_score(y2_train, y_pred_train_2)"
   ]
  },
  {
   "cell_type": "code",
   "execution_count": 65,
   "id": "2514668c",
   "metadata": {},
   "outputs": [],
   "source": [
    "# Error for test data baseline guess.\n",
    "mae_test_2 = mean_absolute_error(y2_test, y_pred_test_2)\n",
    "# Mean squared error for test data baseline guess.\n",
    "mse_test_2 = mean_squared_error(y2_test, y_pred_test_2)\n",
    "# Test Root Mean Square Error\n",
    "rmse_test_2 = sqrt(mse_test_2)\n",
    "# R-squared for test data baseline guess.\n",
    "y2_test_r2 = r2_score(y2_test, y_pred_test_2)"
   ]
  },
  {
   "cell_type": "code",
   "execution_count": 66,
   "id": "2e29cf4f",
   "metadata": {},
   "outputs": [
    {
     "data": {
      "text/html": [
       "<div>\n",
       "<style scoped>\n",
       "    .dataframe tbody tr th:only-of-type {\n",
       "        vertical-align: middle;\n",
       "    }\n",
       "\n",
       "    .dataframe tbody tr th {\n",
       "        vertical-align: top;\n",
       "    }\n",
       "\n",
       "    .dataframe thead th {\n",
       "        text-align: right;\n",
       "    }\n",
       "</style>\n",
       "<table border=\"1\" class=\"dataframe\">\n",
       "  <thead>\n",
       "    <tr style=\"text-align: right;\">\n",
       "      <th></th>\n",
       "      <th>Method</th>\n",
       "      <th>Train MAE</th>\n",
       "      <th>Train MSE</th>\n",
       "      <th>Train RMSE</th>\n",
       "      <th>Train R2</th>\n",
       "      <th>Test MAE</th>\n",
       "      <th>Test MSE</th>\n",
       "      <th>Test RMSE</th>\n",
       "      <th>Test R2</th>\n",
       "    </tr>\n",
       "  </thead>\n",
       "  <tbody>\n",
       "    <tr>\n",
       "      <th>0</th>\n",
       "      <td>Baseline</td>\n",
       "      <td>499.285981</td>\n",
       "      <td>369158.844853</td>\n",
       "      <td>607.584434</td>\n",
       "      <td>0.0</td>\n",
       "      <td>452.721233</td>\n",
       "      <td>282866.309612</td>\n",
       "      <td>531.851774</td>\n",
       "      <td>-0.007957</td>\n",
       "    </tr>\n",
       "  </tbody>\n",
       "</table>\n",
       "</div>"
      ],
      "text/plain": [
       "     Method   Train MAE      Train MSE  Train RMSE Train R2    Test MAE  \\\n",
       "0  Baseline  499.285981  369158.844853  607.584434      0.0  452.721233   \n",
       "\n",
       "        Test MSE   Test RMSE   Test R2  \n",
       "0  282866.309612  531.851774 -0.007957  "
      ]
     },
     "execution_count": 66,
     "metadata": {},
     "output_type": "execute_result"
    }
   ],
   "source": [
    "baseline_2 = pd.DataFrame(['Baseline', mae_train_2, mse_train_2, rmse_train_2, y2_train_r2, mae_test_2, mse_test_2, rmse_test_2, y2_test_r2]).T\n",
    "baseline_2.columns = metric_col_names\n",
    "baseline_2"
   ]
  },
  {
   "cell_type": "markdown",
   "id": "b219dc7e",
   "metadata": {},
   "source": [
    "Recall that the response variable (y) in this case is the mass of the planet (in Jupiter masses) which needs the log base 10 transform."
   ]
  },
  {
   "cell_type": "code",
   "execution_count": 67,
   "id": "cabe1a16",
   "metadata": {},
   "outputs": [],
   "source": [
    "X2_train_log, X2_test_log = np.log10(X2_train), np.log10(X2_test)\n",
    "y2_train_log = np.log10(y2_train)"
   ]
  },
  {
   "cell_type": "code",
   "execution_count": 68,
   "id": "d24006c2",
   "metadata": {
    "scrolled": true
   },
   "outputs": [
    {
     "name": "stdout",
     "output_type": "stream",
     "text": [
      "     k  Test Score  Train Score\n",
      "0    1   -0.836310     0.882175\n",
      "1    2   -0.041881     0.598381\n",
      "2    3    0.055052     0.482562\n",
      "3    4    0.117461     0.427514\n",
      "4    5    0.120823     0.380144\n",
      "..  ..         ...          ...\n",
      "69  70    0.203371     0.243813\n",
      "70  71    0.203670     0.242172\n",
      "71  72    0.204122     0.242603\n",
      "72  73    0.206701     0.241634\n",
      "73  74    0.207193     0.241222\n",
      "\n",
      "[74 rows x 3 columns]\n",
      "The highest Test R-squared value occurs at : 0.2164\n",
      "Within given range, optimal k is:  40\n"
     ]
    }
   ],
   "source": [
    "# kNN R-squared accuracy\n",
    "knn_r_acc_2 = []\n",
    "for j in range(1, 75, 1):\n",
    "    knn_2 = KNeighborsRegressor(n_neighbors = j)\n",
    "    knn_2.fit(X2_train_log.reshape(-1, 1), y2_train_log.reshape(-1, 1))\n",
    "    test_score_2 = knn_2.score(X2_test_log.reshape(-1, 1), np.log10(y2_test))\n",
    "    train_score_2 = knn_2.score(X2_train_log.reshape(-1, 1), y2_train_log.reshape(-1, 1))\n",
    "    knn_r_acc_2.append((j, test_score_2, train_score_2))\n",
    "outcomes_2 = pd.DataFrame(knn_r_acc_2, columns = ['k', 'Test Score', 'Train Score'])\n",
    "print(outcomes_2)\n",
    "print('The highest Test R-squared value occurs at : %.4f' % outcomes_2.iloc[:,1].max())\n",
    "print('Within given range, optimal k is: ', outcomes_2.loc[outcomes_2['Test Score'] == outcomes_2.iloc[:,1].max(), 'k'].iloc[0])"
   ]
  },
  {
   "cell_type": "code",
   "execution_count": 69,
   "id": "044f5593",
   "metadata": {},
   "outputs": [],
   "source": [
    "model_knn_2 = KNeighborsRegressor(n_neighbors = 40)\n",
    "model_knn_2.fit(X2_train_log.reshape(-1, 1), y2_train_log.reshape(-1, 1))\n",
    "y_knn_train_pred_2_log = model_knn_2.predict(X2_train_log.reshape(-1, 1))\n",
    "y_knn_test_pred_2_log = model_knn_2.predict(X2_test_log.reshape(-1, 1))"
   ]
  },
  {
   "cell_type": "code",
   "execution_count": 70,
   "id": "441396e5",
   "metadata": {},
   "outputs": [],
   "source": [
    "y_knn_train_pred_2 = pow(10, y_knn_train_pred_2_log)\n",
    "#y_knn_train_pred_2 = y_knn_train_pred_2_log\n",
    "y_knn_test_pred_2 = pow(10, y_knn_test_pred_2_log)\n",
    "#y_knn_test_pred_2 = y_knn_test_pred_2_log\n",
    "#X2_inverse = pow(10, y_knn_test_pred_2_log) #<- Will cause runtime error that is overflow in power function."
   ]
  },
  {
   "cell_type": "code",
   "execution_count": 71,
   "id": "4eafa626",
   "metadata": {},
   "outputs": [
    {
     "data": {
      "text/html": [
       "<div>\n",
       "<style scoped>\n",
       "    .dataframe tbody tr th:only-of-type {\n",
       "        vertical-align: middle;\n",
       "    }\n",
       "\n",
       "    .dataframe tbody tr th {\n",
       "        vertical-align: top;\n",
       "    }\n",
       "\n",
       "    .dataframe thead th {\n",
       "        text-align: right;\n",
       "    }\n",
       "</style>\n",
       "<table border=\"1\" class=\"dataframe\">\n",
       "  <thead>\n",
       "    <tr style=\"text-align: right;\">\n",
       "      <th></th>\n",
       "      <th>Method</th>\n",
       "      <th>Train MAE</th>\n",
       "      <th>Train MSE</th>\n",
       "      <th>Train RMSE</th>\n",
       "      <th>Train R2</th>\n",
       "      <th>Test MAE</th>\n",
       "      <th>Test MSE</th>\n",
       "      <th>Test RMSE</th>\n",
       "      <th>Test R2</th>\n",
       "    </tr>\n",
       "  </thead>\n",
       "  <tbody>\n",
       "    <tr>\n",
       "      <th>0</th>\n",
       "      <td>k Nearest Neighbor</td>\n",
       "      <td>386.712371</td>\n",
       "      <td>271264.060603</td>\n",
       "      <td>520.830165</td>\n",
       "      <td>0.265183</td>\n",
       "      <td>371.570213</td>\n",
       "      <td>220367.820956</td>\n",
       "      <td>469.433511</td>\n",
       "      <td>0.214748</td>\n",
       "    </tr>\n",
       "  </tbody>\n",
       "</table>\n",
       "</div>"
      ],
      "text/plain": [
       "               Method   Train MAE      Train MSE  Train RMSE  Train R2  \\\n",
       "0  k Nearest Neighbor  386.712371  271264.060603  520.830165  0.265183   \n",
       "\n",
       "     Test MAE       Test MSE   Test RMSE   Test R2  \n",
       "0  371.570213  220367.820956  469.433511  0.214748  "
      ]
     },
     "execution_count": 71,
     "metadata": {},
     "output_type": "execute_result"
    }
   ],
   "source": [
    "# First the training metrics.\n",
    "knn2_train_mae = mean_absolute_error(y2_train, y_knn_train_pred_2)\n",
    "knn2_train_mse = mean_squared_error(y2_train, y_knn_train_pred_2)\n",
    "knn2_train_rmse = sqrt(knn2_train_mse) # <- will compute the root mean square error\n",
    "knn2_train_r2 = r2_score(y2_train, y_knn_train_pred_2)\n",
    "# Now, test set metrics.\n",
    "knn2_test_mae = mean_absolute_error(y2_test, y_knn_test_pred_2)\n",
    "knn2_test_mse = mean_squared_error(y2_test, y_knn_test_pred_2)\n",
    "knn2_test_rmse = sqrt(knn2_test_mse)\n",
    "knn2_test_r2 = r2_score(y2_test, y_knn_test_pred_2)\n",
    "# Consolidate the results.\n",
    "knn_results_2 = pd.DataFrame(['k Nearest Neighbor', knn2_train_mae, knn2_train_mse, knn2_train_rmse, knn2_train_r2, knn2_test_mae, knn2_test_mse, knn2_test_rmse, knn2_test_r2]).transpose()\n",
    "knn_results_2.columns = metric_col_names\n",
    "knn_results_2"
   ]
  },
  {
   "cell_type": "code",
   "execution_count": 72,
   "id": "b2b16b7a",
   "metadata": {},
   "outputs": [
    {
     "data": {
      "text/plain": [
       "(array([25., 19., 17., 17., 19., 15., 18., 23.,  9., 10.]),\n",
       " array([ 581.79188192,  684.21552483,  786.63916775,  889.06281066,\n",
       "         991.48645358, 1093.91009649, 1196.3337394 , 1298.75738232,\n",
       "        1401.18102523, 1503.60466815, 1606.02831106]),\n",
       " <BarContainer object of 10 artists>)"
      ]
     },
     "execution_count": 72,
     "metadata": {},
     "output_type": "execute_result"
    },
    {
     "data": {
      "image/png": "[encoded data removed]",
      "text/plain": [
       "<Figure size 432x288 with 1 Axes>"
      ]
     },
     "metadata": {
      "needs_background": "light"
     },
     "output_type": "display_data"
    }
   ],
   "source": [
    "plt.hist(y_knn_test_pred_2, color = \"teal\", edgecolor = 'white')"
   ]
  },
  {
   "cell_type": "markdown",
   "id": "bccdcb67",
   "metadata": {},
   "source": [
    "Now, want the true versus the predicted values."
   ]
  },
  {
   "cell_type": "code",
   "execution_count": 73,
   "id": "a5b5be7b",
   "metadata": {},
   "outputs": [
    {
     "data": {
      "text/plain": [
       "<matplotlib.collections.PathCollection at 0x1c9705c5670>"
      ]
     },
     "execution_count": 73,
     "metadata": {},
     "output_type": "execute_result"
    },
    {
     "data": {
      "image/png": "[encoded data removed]",
      "text/plain": [
       "<Figure size 432x288 with 1 Axes>"
      ]
     },
     "metadata": {
      "needs_background": "light"
     },
     "output_type": "display_data"
    }
   ],
   "source": [
    "# basic scatterplot to visualize the data.\n",
    "# Remember to only use training data since will use to train model.\n",
    "#plt.scatter(np.log10(X2_train), np.log10(y2_train))\n",
    "plt.scatter(y2_train, X2_train)"
   ]
  },
  {
   "cell_type": "markdown",
   "id": "24f15371",
   "metadata": {},
   "source": [
    "Now to build Support Vector Regressor model."
   ]
  },
  {
   "cell_type": "code",
   "execution_count": 74,
   "id": "6a8f36b0",
   "metadata": {},
   "outputs": [],
   "source": [
    "#X2_train_log = X2_train_log.reshape(-1,1)\n",
    "#X2_test_log = X2_test_log.reshape(-1,1)\n",
    "#y2_train_log = y2_train_log.reshape(-1,1)\n",
    "\n",
    "eps = 8\n",
    "svr_2 = SVR(kernel = 'rbf', C = 1000, epsilon = eps)\n",
    "svr_2.fit(X2_train_log, y2_train_log)\n",
    "\n",
    "#y_svr_train_pred_2 = svr_regressor_2.predict(X2_train)\n",
    "y_svr_train_pred_2_log = svr_2.predict(X2_train_log)\n",
    "#y_svr_test_pred_2 = svr_regressor_2.predict(X2_test)\n",
    "y_svr_test_pred_2_log = svr_2.predict(X2_test_log)\n",
    "y_svr_train_pred_2 = pow(10, y_svr_train_pred_2_log)\n",
    "y_svr_test_pred_2 = pow(10, y_svr_test_pred_2_log)"
   ]
  },
  {
   "cell_type": "code",
   "execution_count": 75,
   "id": "39278f03",
   "metadata": {},
   "outputs": [
    {
     "data": {
      "text/html": [
       "<div>\n",
       "<style scoped>\n",
       "    .dataframe tbody tr th:only-of-type {\n",
       "        vertical-align: middle;\n",
       "    }\n",
       "\n",
       "    .dataframe tbody tr th {\n",
       "        vertical-align: top;\n",
       "    }\n",
       "\n",
       "    .dataframe thead th {\n",
       "        text-align: right;\n",
       "    }\n",
       "</style>\n",
       "<table border=\"1\" class=\"dataframe\">\n",
       "  <thead>\n",
       "    <tr style=\"text-align: right;\">\n",
       "      <th></th>\n",
       "      <th>Method</th>\n",
       "      <th>Train MAE</th>\n",
       "      <th>Train MSE</th>\n",
       "      <th>Train RMSE</th>\n",
       "      <th>Train R2</th>\n",
       "      <th>Test MAE</th>\n",
       "      <th>Test MSE</th>\n",
       "      <th>Test RMSE</th>\n",
       "      <th>Test R2</th>\n",
       "    </tr>\n",
       "  </thead>\n",
       "  <tbody>\n",
       "    <tr>\n",
       "      <th>0</th>\n",
       "      <td>SVR</td>\n",
       "      <td>1199.017726</td>\n",
       "      <td>1806802.352901</td>\n",
       "      <td>1344.173483</td>\n",
       "      <td>-3.894376</td>\n",
       "      <td>1151.7623</td>\n",
       "      <td>1607189.629926</td>\n",
       "      <td>1267.749829</td>\n",
       "      <td>-0.31663</td>\n",
       "    </tr>\n",
       "  </tbody>\n",
       "</table>\n",
       "</div>"
      ],
      "text/plain": [
       "  Method    Train MAE       Train MSE   Train RMSE  Train R2   Test MAE  \\\n",
       "0    SVR  1199.017726  1806802.352901  1344.173483 -3.894376  1151.7623   \n",
       "\n",
       "         Test MSE    Test RMSE  Test R2  \n",
       "0  1607189.629926  1267.749829 -0.31663  "
      ]
     },
     "execution_count": 75,
     "metadata": {},
     "output_type": "execute_result"
    }
   ],
   "source": [
    "# Model performance - training set\n",
    "svr2_train_mae = mean_absolute_error(y2_train, y_svr_train_pred_2_log)\n",
    "svr2_train_mse = mean_squared_error(y2_train, y_svr_train_pred_2_log)\n",
    "svr2_train_rmse = sqrt(svr2_train_mse)\n",
    "svr2_train_r2 = r2_score(y2_train, y_svr_train_pred_2_log)\n",
    "# Test results\n",
    "svr2_test_mae = mean_absolute_error(y2_test, y_svr_test_pred_2_log)\n",
    "svr2_test_mse = mean_squared_error(y2_test, y_svr_test_pred_2_log)\n",
    "svr2_test_rmse = sqrt(svr2_test_mse)\n",
    "svr2_test_r2 = r2_score(X2_test, y_svr_test_pred_2_log)\n",
    "# Consolidate the results.\n",
    "#svr_results = pd.DataFrame(['SVR', svr_train_mse, svr_train_r2, svr_test_mse, svr_test_r2]).T\n",
    "svr_results_2 = pd.DataFrame(['SVR', svr2_train_mae, svr2_train_mse, svr2_train_rmse, svr2_train_r2, svr2_test_mae, svr2_test_mse, svr2_test_rmse, svr2_test_r2]).T\n",
    "svr_results_2.columns = metric_col_names\n",
    "#results2 = pd.concat([knn_results, svr_results.T], ignore_index = False)\n",
    "#print(results2)\n",
    "#print(svr_results_1)\n",
    "svr_results_2"
   ]
  },
  {
   "cell_type": "code",
   "execution_count": 76,
   "id": "579b330e",
   "metadata": {},
   "outputs": [
    {
     "data": {
      "text/plain": [
       "RandomForestRegressor(max_depth=2)"
      ]
     },
     "execution_count": 76,
     "metadata": {},
     "output_type": "execute_result"
    }
   ],
   "source": [
    "rf_2 = RandomForestRegressor(max_depth = 2)\n",
    "rf_2.fit(X2_train_log, y2_train_log)\n",
    "y_rf_train_pred_2_log = rf_2.predict(X2_train_log)\n",
    "y_rf_test_pred_2_log = rf_2.predict(X2_test_log)\n",
    "rf_2"
   ]
  },
  {
   "cell_type": "code",
   "execution_count": 77,
   "id": "add146dc",
   "metadata": {},
   "outputs": [],
   "source": [
    "y_rf_train_pred_2 = pow(10, y_rf_train_pred_2_log)\n",
    "y_rf_test_pred_2 = pow(10, y_rf_test_pred_2_log)\n",
    "# Model performance metrics for random forest model.\n",
    "rf2_train_mae = mean_absolute_error(y2_train, y_rf_train_pred_2)\n",
    "rf2_train_mse = mean_squared_error(y2_train, y_rf_train_pred_2)\n",
    "rf2_train_rmse = sqrt(rf2_train_mse)\n",
    "rf2_train_r2 = r2_score(y2_train, y_rf_train_pred_2)\n",
    "# The following are the test metrics.\n",
    "rf2_test_mae = mean_absolute_error(y2_test, y_rf_test_pred_2)\n",
    "rf2_test_mse = mean_squared_error(y2_test, y_rf_test_pred_2)\n",
    "rf2_test_rmse = sqrt(rf2_test_mse)\n",
    "rf2_test_r2 = r2_score(y2_test, y_rf_test_pred_2)"
   ]
  },
  {
   "cell_type": "code",
   "execution_count": 78,
   "id": "a4c37fba",
   "metadata": {},
   "outputs": [
    {
     "data": {
      "text/html": [
       "<div>\n",
       "<style scoped>\n",
       "    .dataframe tbody tr th:only-of-type {\n",
       "        vertical-align: middle;\n",
       "    }\n",
       "\n",
       "    .dataframe tbody tr th {\n",
       "        vertical-align: top;\n",
       "    }\n",
       "\n",
       "    .dataframe thead th {\n",
       "        text-align: right;\n",
       "    }\n",
       "</style>\n",
       "<table border=\"1\" class=\"dataframe\">\n",
       "  <thead>\n",
       "    <tr style=\"text-align: right;\">\n",
       "      <th></th>\n",
       "      <th>Method</th>\n",
       "      <th>Train MAE</th>\n",
       "      <th>Train MSE</th>\n",
       "      <th>Train RMSE</th>\n",
       "      <th>Train R2</th>\n",
       "      <th>Test MAE</th>\n",
       "      <th>Test MSE</th>\n",
       "      <th>Test RMSE</th>\n",
       "      <th>Test R2</th>\n",
       "    </tr>\n",
       "  </thead>\n",
       "  <tbody>\n",
       "    <tr>\n",
       "      <th>0</th>\n",
       "      <td>Random Forest</td>\n",
       "      <td>390.625664</td>\n",
       "      <td>276875.428556</td>\n",
       "      <td>526.189537</td>\n",
       "      <td>0.249983</td>\n",
       "      <td>373.483158</td>\n",
       "      <td>221218.697584</td>\n",
       "      <td>470.338918</td>\n",
       "      <td>0.211716</td>\n",
       "    </tr>\n",
       "  </tbody>\n",
       "</table>\n",
       "</div>"
      ],
      "text/plain": [
       "          Method   Train MAE      Train MSE  Train RMSE  Train R2    Test MAE  \\\n",
       "0  Random Forest  390.625664  276875.428556  526.189537  0.249983  373.483158   \n",
       "\n",
       "        Test MSE   Test RMSE   Test R2  \n",
       "0  221218.697584  470.338918  0.211716  "
      ]
     },
     "execution_count": 78,
     "metadata": {},
     "output_type": "execute_result"
    }
   ],
   "source": [
    "rf2_results = pd.DataFrame(['Random Forest', rf2_train_mae, rf2_train_mse, rf2_train_rmse, rf2_train_r2, rf2_test_mae, rf2_test_mse, rf2_test_rmse, rf2_test_r2]).transpose()\n",
    "rf2_results.columns = metric_col_names\n",
    "rf2_results"
   ]
  },
  {
   "cell_type": "code",
   "execution_count": 79,
   "id": "1172e7df",
   "metadata": {},
   "outputs": [
    {
     "data": {
      "text/html": [
       "<div>\n",
       "<style scoped>\n",
       "    .dataframe tbody tr th:only-of-type {\n",
       "        vertical-align: middle;\n",
       "    }\n",
       "\n",
       "    .dataframe tbody tr th {\n",
       "        vertical-align: top;\n",
       "    }\n",
       "\n",
       "    .dataframe thead th {\n",
       "        text-align: right;\n",
       "    }\n",
       "</style>\n",
       "<table border=\"1\" class=\"dataframe\">\n",
       "  <thead>\n",
       "    <tr style=\"text-align: right;\">\n",
       "      <th></th>\n",
       "      <th>Method</th>\n",
       "      <th>Train MAE</th>\n",
       "      <th>Train MSE</th>\n",
       "      <th>Train RMSE</th>\n",
       "      <th>Train R2</th>\n",
       "      <th>Test MAE</th>\n",
       "      <th>Test MSE</th>\n",
       "      <th>Test RMSE</th>\n",
       "      <th>Test R2</th>\n",
       "    </tr>\n",
       "  </thead>\n",
       "  <tbody>\n",
       "    <tr>\n",
       "      <th>0</th>\n",
       "      <td>Baseline</td>\n",
       "      <td>499.285981</td>\n",
       "      <td>369158.844853</td>\n",
       "      <td>607.584434</td>\n",
       "      <td>0.0</td>\n",
       "      <td>452.721233</td>\n",
       "      <td>282866.309612</td>\n",
       "      <td>531.851774</td>\n",
       "      <td>-0.007957</td>\n",
       "    </tr>\n",
       "    <tr>\n",
       "      <th>1</th>\n",
       "      <td>k Nearest Neighbor</td>\n",
       "      <td>386.712371</td>\n",
       "      <td>271264.060603</td>\n",
       "      <td>520.830165</td>\n",
       "      <td>0.265183</td>\n",
       "      <td>371.570213</td>\n",
       "      <td>220367.820956</td>\n",
       "      <td>469.433511</td>\n",
       "      <td>0.214748</td>\n",
       "    </tr>\n",
       "    <tr>\n",
       "      <th>2</th>\n",
       "      <td>SVR</td>\n",
       "      <td>1199.017726</td>\n",
       "      <td>1806802.352901</td>\n",
       "      <td>1344.173483</td>\n",
       "      <td>-3.894376</td>\n",
       "      <td>1151.7623</td>\n",
       "      <td>1607189.629926</td>\n",
       "      <td>1267.749829</td>\n",
       "      <td>-0.31663</td>\n",
       "    </tr>\n",
       "    <tr>\n",
       "      <th>3</th>\n",
       "      <td>Random Forest</td>\n",
       "      <td>390.625664</td>\n",
       "      <td>276875.428556</td>\n",
       "      <td>526.189537</td>\n",
       "      <td>0.249983</td>\n",
       "      <td>373.483158</td>\n",
       "      <td>221218.697584</td>\n",
       "      <td>470.338918</td>\n",
       "      <td>0.211716</td>\n",
       "    </tr>\n",
       "  </tbody>\n",
       "</table>\n",
       "</div>"
      ],
      "text/plain": [
       "               Method    Train MAE       Train MSE   Train RMSE  Train R2  \\\n",
       "0            Baseline   499.285981   369158.844853   607.584434       0.0   \n",
       "1  k Nearest Neighbor   386.712371   271264.060603   520.830165  0.265183   \n",
       "2                 SVR  1199.017726  1806802.352901  1344.173483 -3.894376   \n",
       "3       Random Forest   390.625664   276875.428556   526.189537  0.249983   \n",
       "\n",
       "     Test MAE        Test MSE    Test RMSE   Test R2  \n",
       "0  452.721233   282866.309612   531.851774 -0.007957  \n",
       "1  371.570213   220367.820956   469.433511  0.214748  \n",
       "2   1151.7623  1607189.629926  1267.749829  -0.31663  \n",
       "3  373.483158   221218.697584   470.338918  0.211716  "
      ]
     },
     "execution_count": 79,
     "metadata": {},
     "output_type": "execute_result"
    }
   ],
   "source": [
    "results_2 = pd.concat([baseline_2, knn_results_2, svr_results_2, rf2_results], axis = 0, ignore_index = True)\n",
    "results_2 "
   ]
  },
  {
   "cell_type": "markdown",
   "id": "11a70ba8",
   "metadata": {},
   "source": [
    "#### Hypothesis Testing- Case 2"
   ]
  },
  {
   "cell_type": "markdown",
   "id": "ad2e025d",
   "metadata": {},
   "source": [
    "#### Correlation Tests - Case 2"
   ]
  },
  {
   "cell_type": "code",
   "execution_count": 80,
   "id": "fe18c8a2",
   "metadata": {},
   "outputs": [
    {
     "name": "stdout",
     "output_type": "stream",
     "text": [
      "stat = 0.496, p = 0.000\n",
      "Probably Dependent\n"
     ]
    }
   ],
   "source": [
    "# Spearman's Rank Correlation Test\n",
    "stat_3, p_3 = spearmanr(mass_log, temp_log)\n",
    "print('stat = %.3f, p = %.3f' % (stat_3, p_3))\n",
    "if p_3 > 0.05:\n",
    "    print('Probably Independent')\n",
    "else :\n",
    "    print('Probably Dependent')"
   ]
  },
  {
   "cell_type": "markdown",
   "id": "4d04bec3",
   "metadata": {},
   "source": [
    "#### Nonparametric Statistical Hypothesis Tests - Case 2"
   ]
  },
  {
   "cell_type": "code",
   "execution_count": 81,
   "id": "9587d399",
   "metadata": {},
   "outputs": [
    {
     "name": "stdout",
     "output_type": "stream",
     "text": [
      "stat = 0.000, p = 0.000\n",
      "Probably Dependent\n"
     ]
    }
   ],
   "source": [
    "# Wilcoxon Signed-Rank Test\n",
    "from scipy.stats import wilcoxon\n",
    "stat_4, p_4 = wilcoxon(mass_log, temp_log)\n",
    "print('stat = %.3f, p = %.3f' % (stat_4, p_4))\n",
    "if p_4 > 0.05:\n",
    "    print('Probably Independent')\n",
    "else :\n",
    "    print('Probably Dependent')\n",
    "    "
   ]
  },
  {
   "cell_type": "markdown",
   "id": "04fc02d3",
   "metadata": {},
   "source": [
    "The following will be the predicted versus actual plot for Case 2."
   ]
  },
  {
   "cell_type": "code",
   "execution_count": 82,
   "id": "ebdd2079",
   "metadata": {},
   "outputs": [
    {
     "data": {
      "image/png": "[encoded data removed]",
      "text/plain": [
       "<Figure size 720x720 with 1 Axes>"
      ]
     },
     "metadata": {
      "needs_background": "light"
     },
     "output_type": "display_data"
    }
   ],
   "source": [
    "true_values_2 = y2_test\n",
    "predicted_values2_1 = y_knn_test_pred_2\n",
    "predicted_values2_2 = y_svr_test_pred_2\n",
    "predicted_values2_3 = y_rf_test_pred_2\n",
    "plt.figure(figsize = (10, 10))\n",
    "# kNN model\n",
    "knn_2 = plt.scatter(x = true_values_2, y = predicted_values2_1, c = '#cd30f0')\n",
    "# SVR model\n",
    "svr_2 = plt.scatter(x = true_values_2, y = predicted_values2_2, c = '#b391ba', marker = 'x')\n",
    "# Random Forest model\n",
    "rf_2 = plt.scatter(x = true_values_2, y = predicted_values2_3, c = '#e2c8e8', marker = 's')\n",
    "p3 = max(max(predicted_values2_1), max(predicted_values2_2), max(predicted_values2_3), max(true_values_2))\n",
    "p4 = min(min(predicted_values2_1), min(predicted_values2_2), min(predicted_values2_3), min(true_values_2))\n",
    "\n",
    "plt.plot([p3, p4], [p3, p4], 'b-')\n",
    "plt.title('Prediction and Actual Values')\n",
    "plt.xlabel('Actual Temperature Values')\n",
    "plt.ylabel('Predicted Temperature Values')\n",
    "plt.legend([knn_2, svr_2, rf_2], ['kNN', 'SVR', 'RF'], loc = 'upper left')\n",
    "plt.savefig('pred_vs_actual_2.png')\n",
    "plt.show()"
   ]
  },
  {
   "cell_type": "markdown",
   "id": "7849578b",
   "metadata": {},
   "source": [
    "The following will be the residuals plot for Case 2."
   ]
  },
  {
   "cell_type": "code",
   "execution_count": 83,
   "id": "e5624ea3",
   "metadata": {},
   "outputs": [
    {
     "data": {
      "image/png": "[encoded data removed]",
      "text/plain": [
       "<Figure size 648x648 with 1 Axes>"
      ]
     },
     "metadata": {
      "needs_background": "light"
     },
     "output_type": "display_data"
    }
   ],
   "source": [
    "# Will invoke for loop to calculate residulas for the three different models.\n",
    "residuals2_1 = list()\n",
    "for item7, item8 in zip(true_values_2, predicted_values2_1):\n",
    "    residuals2_1.append(item7 - item8)\n",
    "residuals2_2 = list()\n",
    "for item9, item10 in zip(true_values_2, predicted_values2_2):\n",
    "    residuals2_2.append(item9 - item10)\n",
    "residuals2_3 = list()\n",
    "for item11, item12 in zip(true_values_2, predicted_values2_3):\n",
    "    residuals2_3.append(item11 - item12)\n",
    "\n",
    "plt.figure(figsize = (9, 9))\n",
    "# kNN model\n",
    "knn_resid_2 = plt.scatter(x = predicted_values2_1, y = residuals2_1, c = '#cd30f0')\n",
    "# SVR model\n",
    "svr_resid_2 = plt.scatter(x = predicted_values2_2, y = residuals2_2, c = '#b391ba', marker = 'x')\n",
    "# Random Forest model\n",
    "rf_resid_2 = plt.scatter(x = predicted_values2_3, y = residuals2_3, c = '#e2c8e8', marker = 's')\n",
    "\n",
    "plt.title('Residuals versus Fitted values')\n",
    "plt.xlabel('Fitted Values') # <- Predicted Values\n",
    "plt.ylabel('Residuals')\n",
    "plt.legend([knn_resid_2, svr_resid_2, rf_resid_2], ['kNN', 'SVR', 'RF'], loc = 'upper right')\n",
    "plt.axhline(y = 0.0, color = '#034b8a', linestyle = '--')\n",
    "plt.savefig('resid_2.png')\n",
    "plt.show()"
   ]
  },
  {
   "cell_type": "code",
   "execution_count": 84,
   "id": "150f40ea",
   "metadata": {},
   "outputs": [
    {
     "data": {
      "text/plain": [
       "(array([ 7.,  4., 13., 34., 32., 46., 24.,  7.,  1.,  4.]),\n",
       " array([-1110.22444829,  -852.61298666,  -595.00152503,  -337.3900634 ,\n",
       "          -79.77860177,   177.83285986,   435.44432149,   693.05578313,\n",
       "          950.66724476,  1208.27870639,  1465.89016802]),\n",
       " <BarContainer object of 10 artists>)"
      ]
     },
     "execution_count": 84,
     "metadata": {},
     "output_type": "execute_result"
    },
    {
     "data": {
      "image/png": "[encoded data removed]",
      "text/plain": [
       "<Figure size 432x288 with 1 Axes>"
      ]
     },
     "metadata": {
      "needs_background": "light"
     },
     "output_type": "display_data"
    }
   ],
   "source": [
    "plt.hist(residuals2_3, color = \"teal\", edgecolor = 'white')"
   ]
  },
  {
   "cell_type": "code",
   "execution_count": 85,
   "id": "f44a7460",
   "metadata": {},
   "outputs": [
    {
     "data": {
      "text/plain": [
       "(array([11., 21., 20., 33., 16., 40., 19., 10.,  1.,  1.]),\n",
       " array([-438.8251221, -170.8251221,   97.1748779,  365.1748779,\n",
       "         633.1748779,  901.1748779, 1169.1748779, 1437.1748779,\n",
       "        1705.1748779, 1973.1748779, 2241.1748779]),\n",
       " <BarContainer object of 10 artists>)"
      ]
     },
     "execution_count": 85,
     "metadata": {},
     "output_type": "execute_result"
    },
    {
     "data": {
      "image/png": "[encoded data removed]",
      "text/plain": [
       "<Figure size 432x288 with 1 Axes>"
      ]
     },
     "metadata": {
      "needs_background": "light"
     },
     "output_type": "display_data"
    }
   ],
   "source": [
    "plt.hist(residuals2_2, color = 'powderblue', edgecolor = 'black')"
   ]
  },
  {
   "cell_type": "markdown",
   "id": "9056a5fb",
   "metadata": {},
   "source": [
    "### Scenario 3 - orbital period as function of planetary mass"
   ]
  },
  {
   "cell_type": "code",
   "execution_count": 86,
   "id": "7fa18ee6",
   "metadata": {},
   "outputs": [
    {
     "data": {
      "text/html": [
       "<div>\n",
       "<style scoped>\n",
       "    .dataframe tbody tr th:only-of-type {\n",
       "        vertical-align: middle;\n",
       "    }\n",
       "\n",
       "    .dataframe tbody tr th {\n",
       "        vertical-align: top;\n",
       "    }\n",
       "\n",
       "    .dataframe thead th {\n",
       "        text-align: right;\n",
       "    }\n",
       "</style>\n",
       "<table border=\"1\" class=\"dataframe\">\n",
       "  <thead>\n",
       "    <tr style=\"text-align: right;\">\n",
       "      <th></th>\n",
       "      <th>pl_name</th>\n",
       "      <th>pl_bmassj</th>\n",
       "      <th>pl_orbper</th>\n",
       "    </tr>\n",
       "  </thead>\n",
       "  <tbody>\n",
       "    <tr>\n",
       "      <th>0</th>\n",
       "      <td>11 Com b</td>\n",
       "      <td>19.40</td>\n",
       "      <td>326.03000</td>\n",
       "    </tr>\n",
       "    <tr>\n",
       "      <th>1</th>\n",
       "      <td>11 Com b</td>\n",
       "      <td>17.10</td>\n",
       "      <td>NaN</td>\n",
       "    </tr>\n",
       "    <tr>\n",
       "      <th>2</th>\n",
       "      <td>11 UMi b</td>\n",
       "      <td>10.80</td>\n",
       "      <td>NaN</td>\n",
       "    </tr>\n",
       "    <tr>\n",
       "      <th>3</th>\n",
       "      <td>11 UMi b</td>\n",
       "      <td>14.74</td>\n",
       "      <td>516.21997</td>\n",
       "    </tr>\n",
       "    <tr>\n",
       "      <th>4</th>\n",
       "      <td>11 UMi b</td>\n",
       "      <td>10.50</td>\n",
       "      <td>516.22000</td>\n",
       "    </tr>\n",
       "    <tr>\n",
       "      <th>...</th>\n",
       "      <td>...</td>\n",
       "      <td>...</td>\n",
       "      <td>...</td>\n",
       "    </tr>\n",
       "    <tr>\n",
       "      <th>32511</th>\n",
       "      <td>ups And d</td>\n",
       "      <td>4.10</td>\n",
       "      <td>1282.41000</td>\n",
       "    </tr>\n",
       "    <tr>\n",
       "      <th>32512</th>\n",
       "      <td>ups And d</td>\n",
       "      <td>10.25</td>\n",
       "      <td>1281.50700</td>\n",
       "    </tr>\n",
       "    <tr>\n",
       "      <th>32513</th>\n",
       "      <td>ups Leo b</td>\n",
       "      <td>0.51</td>\n",
       "      <td>385.20000</td>\n",
       "    </tr>\n",
       "    <tr>\n",
       "      <th>32514</th>\n",
       "      <td>xi Aql b</td>\n",
       "      <td>2.02</td>\n",
       "      <td>NaN</td>\n",
       "    </tr>\n",
       "    <tr>\n",
       "      <th>32515</th>\n",
       "      <td>xi Aql b</td>\n",
       "      <td>2.80</td>\n",
       "      <td>136.75000</td>\n",
       "    </tr>\n",
       "  </tbody>\n",
       "</table>\n",
       "<p>32516 rows × 3 columns</p>\n",
       "</div>"
      ],
      "text/plain": [
       "         pl_name  pl_bmassj   pl_orbper\n",
       "0       11 Com b      19.40   326.03000\n",
       "1       11 Com b      17.10         NaN\n",
       "2       11 UMi b      10.80         NaN\n",
       "3       11 UMi b      14.74   516.21997\n",
       "4       11 UMi b      10.50   516.22000\n",
       "...          ...        ...         ...\n",
       "32511  ups And d       4.10  1282.41000\n",
       "32512  ups And d      10.25  1281.50700\n",
       "32513  ups Leo b       0.51   385.20000\n",
       "32514   xi Aql b       2.02         NaN\n",
       "32515   xi Aql b       2.80   136.75000\n",
       "\n",
       "[32516 rows x 3 columns]"
      ]
     },
     "execution_count": 86,
     "metadata": {},
     "output_type": "execute_result"
    }
   ],
   "source": [
    "df4 = raw_data.loc[:, ['pl_name','pl_bmassj','pl_orbper']]\n",
    "df4"
   ]
  },
  {
   "cell_type": "code",
   "execution_count": 87,
   "id": "af39e457",
   "metadata": {},
   "outputs": [
    {
     "data": {
      "text/html": [
       "<div>\n",
       "<style scoped>\n",
       "    .dataframe tbody tr th:only-of-type {\n",
       "        vertical-align: middle;\n",
       "    }\n",
       "\n",
       "    .dataframe tbody tr th {\n",
       "        vertical-align: top;\n",
       "    }\n",
       "\n",
       "    .dataframe thead th {\n",
       "        text-align: right;\n",
       "    }\n",
       "</style>\n",
       "<table border=\"1\" class=\"dataframe\">\n",
       "  <thead>\n",
       "    <tr style=\"text-align: right;\">\n",
       "      <th></th>\n",
       "      <th>planetname</th>\n",
       "      <th>mass</th>\n",
       "      <th>orbit period</th>\n",
       "    </tr>\n",
       "  </thead>\n",
       "  <tbody>\n",
       "    <tr>\n",
       "      <th>0</th>\n",
       "      <td>11 Com b</td>\n",
       "      <td>19.40</td>\n",
       "      <td>326.03000</td>\n",
       "    </tr>\n",
       "    <tr>\n",
       "      <th>3</th>\n",
       "      <td>11 UMi b</td>\n",
       "      <td>14.74</td>\n",
       "      <td>516.21997</td>\n",
       "    </tr>\n",
       "    <tr>\n",
       "      <th>4</th>\n",
       "      <td>11 UMi b</td>\n",
       "      <td>10.50</td>\n",
       "      <td>516.22000</td>\n",
       "    </tr>\n",
       "    <tr>\n",
       "      <th>6</th>\n",
       "      <td>14 And b</td>\n",
       "      <td>4.80</td>\n",
       "      <td>185.84000</td>\n",
       "    </tr>\n",
       "    <tr>\n",
       "      <th>7</th>\n",
       "      <td>14 Her b</td>\n",
       "      <td>4.85</td>\n",
       "      <td>1766.41000</td>\n",
       "    </tr>\n",
       "    <tr>\n",
       "      <th>...</th>\n",
       "      <td>...</td>\n",
       "      <td>...</td>\n",
       "      <td>...</td>\n",
       "    </tr>\n",
       "    <tr>\n",
       "      <th>32510</th>\n",
       "      <td>ups And d</td>\n",
       "      <td>3.95</td>\n",
       "      <td>1274.60000</td>\n",
       "    </tr>\n",
       "    <tr>\n",
       "      <th>32511</th>\n",
       "      <td>ups And d</td>\n",
       "      <td>4.10</td>\n",
       "      <td>1282.41000</td>\n",
       "    </tr>\n",
       "    <tr>\n",
       "      <th>32512</th>\n",
       "      <td>ups And d</td>\n",
       "      <td>10.25</td>\n",
       "      <td>1281.50700</td>\n",
       "    </tr>\n",
       "    <tr>\n",
       "      <th>32513</th>\n",
       "      <td>ups Leo b</td>\n",
       "      <td>0.51</td>\n",
       "      <td>385.20000</td>\n",
       "    </tr>\n",
       "    <tr>\n",
       "      <th>32515</th>\n",
       "      <td>xi Aql b</td>\n",
       "      <td>2.80</td>\n",
       "      <td>136.75000</td>\n",
       "    </tr>\n",
       "  </tbody>\n",
       "</table>\n",
       "<p>4172 rows × 3 columns</p>\n",
       "</div>"
      ],
      "text/plain": [
       "      planetname   mass  orbit period\n",
       "0       11 Com b  19.40     326.03000\n",
       "3       11 UMi b  14.74     516.21997\n",
       "4       11 UMi b  10.50     516.22000\n",
       "6       14 And b   4.80     185.84000\n",
       "7       14 Her b   4.85    1766.41000\n",
       "...          ...    ...           ...\n",
       "32510  ups And d   3.95    1274.60000\n",
       "32511  ups And d   4.10    1282.41000\n",
       "32512  ups And d  10.25    1281.50700\n",
       "32513  ups Leo b   0.51     385.20000\n",
       "32515   xi Aql b   2.80     136.75000\n",
       "\n",
       "[4172 rows x 3 columns]"
      ]
     },
     "execution_count": 87,
     "metadata": {},
     "output_type": "execute_result"
    }
   ],
   "source": [
    "df4 = df4.rename(columns={'pl_name':'planetname', 'pl_bmassj':'mass', 'pl_orbper':'orbit period'})\n",
    "df4 = df4.dropna()\n",
    "df4"
   ]
  },
  {
   "cell_type": "code",
   "execution_count": 88,
   "id": "cdb1c472",
   "metadata": {},
   "outputs": [],
   "source": [
    "mass_2 = df4.groupby('planetname')['mass'].mean()\n",
    "orbper_2 = df4.groupby('planetname')['orbit period'].mean()"
   ]
  },
  {
   "cell_type": "markdown",
   "id": "1cc7f985",
   "metadata": {},
   "source": [
    "Now some summary statistics for this scenario."
   ]
  },
  {
   "cell_type": "code",
   "execution_count": 89,
   "id": "df70cd7c",
   "metadata": {},
   "outputs": [
    {
     "name": "stdout",
     "output_type": "stream",
     "text": [
      "\n",
      "The median of the orbital period: 12.2538\n",
      "\n",
      "The median of the mass: 0.58\n",
      "\n",
      "The interquartile range of the mass: 1.92\n",
      "\n",
      "The interquartile range of the orbital period: 319.63\n",
      "\n",
      "The mode for the mass: 0.84\n",
      "\n",
      "The mode for the orbital period: 691.90\n",
      "\n",
      "The mean for the mass: 0.06\n",
      "\n",
      "The mean for the orbital period: 205801.12\n"
     ]
    }
   ],
   "source": [
    "mass2_med = statistics.median(list(mass_2))\n",
    "orbper2_med = statistics.median(list(orbper_2))\n",
    "print('\\nThe median of the orbital period: %.4f' % orbper_med)\n",
    "print('\\nThe median of the mass: %.2f' % mass2_med)\n",
    "iqr_mass2 = stats.iqr(mass_2, interpolation = 'midpoint')\n",
    "iqr_orbper2 = stats.iqr(orbper_2, interpolation = 'midpoint')\n",
    "print('\\nThe interquartile range of the mass: %.2f' % iqr_mass2)\n",
    "print('\\nThe interquartile range of the orbital period: %.2f' % iqr_orbper2)\n",
    "mass2_mode = statistics.mode(list(mass_2))\n",
    "print('\\nThe mode for the mass: %.2f' % mass2_mode)\n",
    "orbper2_mode = statistics.mode(list(orbper_2))\n",
    "print('\\nThe mode for the orbital period: %.2f' % orbper2_mode)\n",
    "mass2_avg = statistics.mean(list(mass_2))\n",
    "print('\\nThe mean for the mass: %.2f' % eccen_avg)\n",
    "orbper2_avg = statistics.mean(list(orbper_2))\n",
    "print('\\nThe mean for the orbital period: %.2f' % orbper2_avg)"
   ]
  },
  {
   "cell_type": "code",
   "execution_count": 90,
   "id": "1eb6c65d",
   "metadata": {},
   "outputs": [
    {
     "data": {
      "image/png": "[encoded data removed]",
      "text/plain": [
       "<Figure size 864x864 with 4 Axes>"
      ]
     },
     "metadata": {
      "needs_background": "light"
     },
     "output_type": "display_data"
    }
   ],
   "source": [
    "# Case 3\n",
    "# First, perform log base 10 transform\n",
    "mass2_log = np.log10(mass_2)\n",
    "orbper2_log = np.log10(orbper_2)\n",
    "# Plotting Logic\n",
    "fig3, ax3 = plt.subplots(2, 2,figsize = (12, 12))\n",
    "fig3.suptitle('Histograms - Case 3')\n",
    "ax3[0, 0].hist(mass_2, color = 'darkslategray', edgecolor = 'red')\n",
    "#ax3[0, 0].set_title('') #<- use this logic to give each plot its own title.\n",
    "ax3[0, 0].set(xlabel = 'planet mass (Jupiter mass)')\n",
    "ax3[0, 1].hist(mass2_log, color = 'darkslategray', edgecolor = 'red')\n",
    "ax3[0, 1].set(xlabel = 'log10(planet mass)')\n",
    "ax3[1, 0].hist(orbper_2, color = 'salmon', edgecolor = 'yellowgreen')\n",
    "ax3[1, 0].set(xlabel = 'orbital period')\n",
    "ax3[1, 1].hist(orbper2_log, color = 'salmon', edgecolor = 'yellowgreen')\n",
    "ax3[1, 1].set(xlabel = 'log10(orbital period)')\n",
    "\n",
    "for ax in ax1.flat:\n",
    "    ax.set(ylabel = 'Frequency')\n",
    "plt.savefig('histograms_3.png')\n",
    "fig1.tight_layout()"
   ]
  },
  {
   "cell_type": "code",
   "execution_count": 91,
   "id": "d4058dbd",
   "metadata": {},
   "outputs": [],
   "source": [
    "y3 = np.array(mass_2).reshape(-1, 1)\n",
    "X3 = np.array(orbper_2).reshape(-1, 1)\n",
    "X3_train, X3_test, y3_train, y3_test = train_test_split(X3, y3, train_size = 0.80, random_state = 25)\n",
    "y3_train = y3_train.reshape(len(y3_train), )\n",
    "y3_test = y3_test.reshape(len(y3_test), )"
   ]
  },
  {
   "cell_type": "markdown",
   "id": "afbefeef",
   "metadata": {},
   "source": [
    "Establishing baselines for predictions according to the y-variable or response variable."
   ]
  },
  {
   "cell_type": "code",
   "execution_count": 92,
   "id": "09c5416a",
   "metadata": {},
   "outputs": [],
   "source": [
    "y_baseline_3= y3_train.mean()\n",
    "#y_baseline_2= statistics.median(y2_train)\n",
    "y_pred_train_3 = [y_baseline_3]*len(y3_train) # <- Training Baseline\n",
    "y_pred_test_3 = [y_baseline_3]*len(y3_test)"
   ]
  },
  {
   "cell_type": "code",
   "execution_count": 93,
   "id": "d64c5923",
   "metadata": {},
   "outputs": [],
   "source": [
    "# Following is for the Training Dataset.\n",
    "# Error for training data baseline guess.\n",
    "mae_train_3 = mean_absolute_error(y3_train, y_pred_train_3)\n",
    "# Mean squared error for training data baseline guess.\n",
    "mse_train_3 = mean_squared_error(y3_train, y_pred_train_3)\n",
    "rmse_train_3 = sqrt(mse_train_3) # <- will compute the root mean square error\n",
    "# R-squared for training data baseline guess.\n",
    "y3_train_r2 = r2_score(y3_train, y_pred_train_3)"
   ]
  },
  {
   "cell_type": "code",
   "execution_count": 94,
   "id": "0621fdb6",
   "metadata": {},
   "outputs": [],
   "source": [
    "# Error for test data baseline guess.\n",
    "mae_test_3 = mean_absolute_error(y3_test, y_pred_test_3)\n",
    "# Mean squared error for test data baseline guess.\n",
    "mse_test_3 = mean_squared_error(y3_test, y_pred_test_3)\n",
    "# Test Root Mean Square Error\n",
    "rmse_test_3 = sqrt(mse_test_3)\n",
    "# R-squared for test data baseline guess.\n",
    "y3_test_r2 = r2_score(y3_test, y_pred_test_3)"
   ]
  },
  {
   "cell_type": "code",
   "execution_count": 95,
   "id": "d3d30b42",
   "metadata": {},
   "outputs": [
    {
     "data": {
      "text/html": [
       "<div>\n",
       "<style scoped>\n",
       "    .dataframe tbody tr th:only-of-type {\n",
       "        vertical-align: middle;\n",
       "    }\n",
       "\n",
       "    .dataframe tbody tr th {\n",
       "        vertical-align: top;\n",
       "    }\n",
       "\n",
       "    .dataframe thead th {\n",
       "        text-align: right;\n",
       "    }\n",
       "</style>\n",
       "<table border=\"1\" class=\"dataframe\">\n",
       "  <thead>\n",
       "    <tr style=\"text-align: right;\">\n",
       "      <th></th>\n",
       "      <th>Method</th>\n",
       "      <th>Train MAE</th>\n",
       "      <th>Train MSE</th>\n",
       "      <th>Train RMSE</th>\n",
       "      <th>Train R2</th>\n",
       "      <th>Test MAE</th>\n",
       "      <th>Test MSE</th>\n",
       "      <th>Test RMSE</th>\n",
       "      <th>Test R2</th>\n",
       "    </tr>\n",
       "  </thead>\n",
       "  <tbody>\n",
       "    <tr>\n",
       "      <th>0</th>\n",
       "      <td>Baseline</td>\n",
       "      <td>2.26785</td>\n",
       "      <td>17.259215</td>\n",
       "      <td>4.154421</td>\n",
       "      <td>0.0</td>\n",
       "      <td>2.25424</td>\n",
       "      <td>12.166825</td>\n",
       "      <td>3.488098</td>\n",
       "      <td>-0.005808</td>\n",
       "    </tr>\n",
       "  </tbody>\n",
       "</table>\n",
       "</div>"
      ],
      "text/plain": [
       "     Method Train MAE  Train MSE Train RMSE Train R2 Test MAE   Test MSE  \\\n",
       "0  Baseline   2.26785  17.259215   4.154421      0.0  2.25424  12.166825   \n",
       "\n",
       "  Test RMSE   Test R2  \n",
       "0  3.488098 -0.005808  "
      ]
     },
     "execution_count": 95,
     "metadata": {},
     "output_type": "execute_result"
    }
   ],
   "source": [
    "baseline_3 = pd.DataFrame(['Baseline', mae_train_3, mse_train_3, rmse_train_3, y3_train_r2, mae_test_3, mse_test_3, rmse_test_3, y3_test_r2]).T\n",
    "baseline_3.columns = metric_col_names\n",
    "baseline_3"
   ]
  },
  {
   "cell_type": "code",
   "execution_count": 96,
   "id": "1fe99a07",
   "metadata": {},
   "outputs": [],
   "source": [
    "X3_train_log, X3_test_log = np.log10(X3_train), np.log10(X3_test)\n",
    "y3_train_log = np.log10(y3_train)"
   ]
  },
  {
   "cell_type": "markdown",
   "id": "17d2403f",
   "metadata": {},
   "source": [
    "Some logic to determine the shape of the training and test sets of the data."
   ]
  },
  {
   "cell_type": "code",
   "execution_count": 97,
   "id": "c0f8142d",
   "metadata": {},
   "outputs": [
    {
     "name": "stdout",
     "output_type": "stream",
     "text": [
      "\n",
      "Training log(X3) shape:  (1635, 1)\n",
      "Training Log(y3) shape:  (1635,)\n",
      "Test Log(X3) shape:  (409, 1)\n",
      "Test y3 shape:  (409,)\n"
     ]
    }
   ],
   "source": [
    "print('\\nTraining log(X3) shape: ', X3_train_log.shape)\n",
    "print('Training Log(y3) shape: ', y3_train_log.shape)\n",
    "print('Test Log(X3) shape: ', X3_test_log.shape)\n",
    "print('Test y3 shape: ', y3_test.shape)"
   ]
  },
  {
   "cell_type": "code",
   "execution_count": 98,
   "id": "98323dbf",
   "metadata": {},
   "outputs": [
    {
     "name": "stdout",
     "output_type": "stream",
     "text": [
      "     k  Test Score  Train Score\n",
      "0    1   -0.200677     0.999522\n",
      "1    2    0.063345     0.678895\n",
      "2    3    0.123395     0.575838\n",
      "3    4    0.177577     0.537327\n",
      "4    5    0.207457     0.501711\n",
      "..  ..         ...          ...\n",
      "69  70    0.304612     0.377802\n",
      "70  71    0.304966     0.377162\n",
      "71  72    0.306017     0.377437\n",
      "72  73    0.305889     0.377628\n",
      "73  74    0.306079     0.377228\n",
      "\n",
      "[74 rows x 3 columns]\n",
      "The highest Test R-squared value occurs at : 0.3092\n",
      "Within given range, optimal k is:  32\n"
     ]
    }
   ],
   "source": [
    "# kNN R-squared accuracy\n",
    "knn_r_acc_3 = []\n",
    "for k in range(1, 75, 1):\n",
    "    knn_3 = KNeighborsRegressor(n_neighbors = k)\n",
    "    knn_3.fit(X3_train_log.reshape(-1, 1), y3_train_log.reshape(-1, 1))\n",
    "    test_score_3 = knn_3.score(X3_test_log.reshape(-1, 1), np.log10(y3_test))\n",
    "    train_score_3 = knn_3.score(X3_train_log.reshape(-1, 1), y3_train_log.reshape(-1, 1))\n",
    "    knn_r_acc_3.append((k, test_score_3, train_score_3))\n",
    "outcomes_3 = pd.DataFrame(knn_r_acc_3, columns = ['k', 'Test Score', 'Train Score'])\n",
    "print(outcomes_3)\n",
    "print('The highest Test R-squared value occurs at : %.4f' % outcomes_3.iloc[:,1].max())\n",
    "print('Within given range, optimal k is: ', outcomes_3.loc[outcomes_3['Test Score'] == outcomes_3.iloc[:,1].max(), 'k'].iloc[0])"
   ]
  },
  {
   "cell_type": "code",
   "execution_count": 99,
   "id": "5b91543d",
   "metadata": {},
   "outputs": [],
   "source": [
    "model_knn_3 = KNeighborsRegressor(n_neighbors = 32)\n",
    "model_knn_3.fit(X3_train_log.reshape(-1, 1), y3_train_log.reshape(-1, 1))\n",
    "y_knn_train_pred_3_log = model_knn_3.predict(X3_train_log.reshape(-1, 1))\n",
    "y_knn_test_pred_3_log = model_knn_3.predict(X3_test_log.reshape(-1, 1))"
   ]
  },
  {
   "cell_type": "code",
   "execution_count": 100,
   "id": "d456ce39",
   "metadata": {},
   "outputs": [],
   "source": [
    "y_knn_train_pred_3 = pow(10, y_knn_train_pred_3_log)\n",
    "y_knn_test_pred_3 = pow(10, y_knn_test_pred_3_log)"
   ]
  },
  {
   "cell_type": "code",
   "execution_count": 101,
   "id": "2ae188df",
   "metadata": {},
   "outputs": [
    {
     "data": {
      "text/html": [
       "<div>\n",
       "<style scoped>\n",
       "    .dataframe tbody tr th:only-of-type {\n",
       "        vertical-align: middle;\n",
       "    }\n",
       "\n",
       "    .dataframe tbody tr th {\n",
       "        vertical-align: top;\n",
       "    }\n",
       "\n",
       "    .dataframe thead th {\n",
       "        text-align: right;\n",
       "    }\n",
       "</style>\n",
       "<table border=\"1\" class=\"dataframe\">\n",
       "  <thead>\n",
       "    <tr style=\"text-align: right;\">\n",
       "      <th></th>\n",
       "      <th>Method</th>\n",
       "      <th>Train MAE</th>\n",
       "      <th>Train MSE</th>\n",
       "      <th>Train RMSE</th>\n",
       "      <th>Train R2</th>\n",
       "      <th>Test MAE</th>\n",
       "      <th>Test MSE</th>\n",
       "      <th>Test RMSE</th>\n",
       "      <th>Test R2</th>\n",
       "    </tr>\n",
       "  </thead>\n",
       "  <tbody>\n",
       "    <tr>\n",
       "      <th>0</th>\n",
       "      <td>k Nearest Neighbor</td>\n",
       "      <td>1.562636</td>\n",
       "      <td>16.173305</td>\n",
       "      <td>4.021605</td>\n",
       "      <td>0.062918</td>\n",
       "      <td>1.395098</td>\n",
       "      <td>10.427076</td>\n",
       "      <td>3.229098</td>\n",
       "      <td>0.138014</td>\n",
       "    </tr>\n",
       "  </tbody>\n",
       "</table>\n",
       "</div>"
      ],
      "text/plain": [
       "               Method Train MAE  Train MSE Train RMSE  Train R2  Test MAE  \\\n",
       "0  k Nearest Neighbor  1.562636  16.173305   4.021605  0.062918  1.395098   \n",
       "\n",
       "    Test MSE Test RMSE   Test R2  \n",
       "0  10.427076  3.229098  0.138014  "
      ]
     },
     "execution_count": 101,
     "metadata": {},
     "output_type": "execute_result"
    }
   ],
   "source": [
    "# First the training metrics.\n",
    "knn3_train_mae = mean_absolute_error(y3_train, y_knn_train_pred_3)\n",
    "knn3_train_mse = mean_squared_error(y3_train, y_knn_train_pred_3)\n",
    "knn3_train_rmse = sqrt(knn3_train_mse) # <- will compute the root mean square error\n",
    "knn3_train_r2 = r2_score(y3_train, y_knn_train_pred_3)\n",
    "# Now, test set metrics.\n",
    "knn3_test_mae = mean_absolute_error(y3_test, y_knn_test_pred_3)\n",
    "knn3_test_mse = mean_squared_error(y3_test, y_knn_test_pred_3)\n",
    "knn3_test_rmse = sqrt(knn3_test_mse)\n",
    "knn3_test_r2 = r2_score(y3_test, y_knn_test_pred_3)\n",
    "# Consolidate the results.\n",
    "knn_results_3 = pd.DataFrame(['k Nearest Neighbor', knn3_train_mae, knn3_train_mse, knn3_train_rmse, knn3_train_r2, knn3_test_mae, knn3_test_mse, knn3_test_rmse, knn3_test_r2]).transpose()\n",
    "knn_results_3.columns = metric_col_names\n",
    "knn_results_3"
   ]
  },
  {
   "cell_type": "markdown",
   "id": "a6a4baf3",
   "metadata": {},
   "source": [
    "Now to create the SVR model 3."
   ]
  },
  {
   "cell_type": "code",
   "execution_count": 102,
   "id": "247bde72",
   "metadata": {},
   "outputs": [],
   "source": [
    "eps_3 = 6\n",
    "svr_3 = SVR(kernel = 'rbf', C = 100, epsilon = eps_3)\n",
    "svr_3.fit(X3_train_log, y3_train_log)\n",
    "\n",
    "y_svr_train_pred_3_log = svr_3.predict(X3_train_log)\n",
    "y_svr_test_pred_3_log = svr_3.predict(X3_test_log)\n",
    "y_svr_train_pred_3 = pow(10, y_svr_train_pred_3_log)\n",
    "y_svr_test_pred_3 = pow(10, y_svr_test_pred_3_log)"
   ]
  },
  {
   "cell_type": "code",
   "execution_count": 103,
   "id": "5ec85ade",
   "metadata": {},
   "outputs": [
    {
     "data": {
      "text/html": [
       "<div>\n",
       "<style scoped>\n",
       "    .dataframe tbody tr th:only-of-type {\n",
       "        vertical-align: middle;\n",
       "    }\n",
       "\n",
       "    .dataframe tbody tr th {\n",
       "        vertical-align: top;\n",
       "    }\n",
       "\n",
       "    .dataframe thead th {\n",
       "        text-align: right;\n",
       "    }\n",
       "</style>\n",
       "<table border=\"1\" class=\"dataframe\">\n",
       "  <thead>\n",
       "    <tr style=\"text-align: right;\">\n",
       "      <th></th>\n",
       "      <th>Method</th>\n",
       "      <th>Train MAE</th>\n",
       "      <th>Train MSE</th>\n",
       "      <th>Train RMSE</th>\n",
       "      <th>Train R2</th>\n",
       "      <th>Test MAE</th>\n",
       "      <th>Test MSE</th>\n",
       "      <th>Test RMSE</th>\n",
       "      <th>Test R2</th>\n",
       "    </tr>\n",
       "  </thead>\n",
       "  <tbody>\n",
       "    <tr>\n",
       "      <th>0</th>\n",
       "      <td>SVR</td>\n",
       "      <td>1.969233</td>\n",
       "      <td>21.048826</td>\n",
       "      <td>4.5879</td>\n",
       "      <td>-0.21957</td>\n",
       "      <td>1.709498</td>\n",
       "      <td>14.924438</td>\n",
       "      <td>3.863216</td>\n",
       "      <td>-0.045966</td>\n",
       "    </tr>\n",
       "  </tbody>\n",
       "</table>\n",
       "</div>"
      ],
      "text/plain": [
       "  Method Train MAE  Train MSE Train RMSE Train R2  Test MAE   Test MSE  \\\n",
       "0    SVR  1.969233  21.048826     4.5879 -0.21957  1.709498  14.924438   \n",
       "\n",
       "  Test RMSE   Test R2  \n",
       "0  3.863216 -0.045966  "
      ]
     },
     "execution_count": 103,
     "metadata": {},
     "output_type": "execute_result"
    }
   ],
   "source": [
    "# Model performance - training set\n",
    "svr3_train_mae = mean_absolute_error(y3_train, y_svr_train_pred_3)\n",
    "svr3_train_mse = mean_squared_error(y3_train, y_svr_train_pred_3)\n",
    "svr3_train_rmse = sqrt(svr3_train_mse)\n",
    "svr3_train_r2 = r2_score(y3_train, y_svr_train_pred_3)\n",
    "# Model performance - test results\n",
    "svr3_test_mae = mean_absolute_error(y3_test, y_svr_test_pred_3)\n",
    "svr3_test_mse = mean_squared_error(y3_test, y_svr_test_pred_3)\n",
    "svr3_test_rmse = sqrt(svr3_test_mse)\n",
    "svr3_test_r2 = r2_score(X3_test, y_svr_test_pred_3)\n",
    "# Consolidate the results.\n",
    "svr_results_3 = pd.DataFrame(['SVR', svr3_train_mae, svr3_train_mse, svr3_train_rmse, svr3_train_r2, svr3_test_mae, svr3_test_mse, svr3_test_rmse, svr3_test_r2]).T\n",
    "svr_results_3.columns = metric_col_names\n",
    "svr_results_3"
   ]
  },
  {
   "cell_type": "code",
   "execution_count": 104,
   "id": "1f5ef478",
   "metadata": {},
   "outputs": [
    {
     "data": {
      "text/plain": [
       "RandomForestRegressor(max_depth=2)"
      ]
     },
     "execution_count": 104,
     "metadata": {},
     "output_type": "execute_result"
    }
   ],
   "source": [
    "rf_3 = RandomForestRegressor(max_depth = 2)\n",
    "rf_3.fit(X3_train_log, y3_train_log)\n",
    "y_rf_train_pred_3_log = rf_3.predict(X3_train_log)\n",
    "y_rf_test_pred_3_log = rf_3.predict(X3_test_log)\n",
    "rf_3"
   ]
  },
  {
   "cell_type": "code",
   "execution_count": 105,
   "id": "f37cd0bd",
   "metadata": {},
   "outputs": [],
   "source": [
    "y_rf_train_pred_3 = pow(10, y_rf_train_pred_3_log)\n",
    "y_rf_test_pred_3 = pow(10, y_rf_test_pred_3_log)\n",
    "# Model performance metrics for random forest model.\n",
    "rf3_train_mae = mean_absolute_error(y3_train, y_rf_train_pred_3)\n",
    "rf3_train_mse = mean_squared_error(y3_train, y_rf_train_pred_3)\n",
    "rf3_train_rmse = sqrt(rf3_train_mse)\n",
    "rf3_train_r2 = r2_score(y3_train, y_rf_train_pred_3)\n",
    "# The following are the test metrics.\n",
    "rf3_test_mae = mean_absolute_error(y3_test, y_rf_test_pred_3)\n",
    "rf3_test_mse = mean_squared_error(y3_test, y_rf_test_pred_3)\n",
    "rf3_test_rmse = sqrt(rf3_test_mse)\n",
    "rf3_test_r2 = r2_score(y3_test, y_rf_test_pred_3)"
   ]
  },
  {
   "cell_type": "code",
   "execution_count": 106,
   "id": "e014353d",
   "metadata": {},
   "outputs": [
    {
     "data": {
      "text/html": [
       "<div>\n",
       "<style scoped>\n",
       "    .dataframe tbody tr th:only-of-type {\n",
       "        vertical-align: middle;\n",
       "    }\n",
       "\n",
       "    .dataframe tbody tr th {\n",
       "        vertical-align: top;\n",
       "    }\n",
       "\n",
       "    .dataframe thead th {\n",
       "        text-align: right;\n",
       "    }\n",
       "</style>\n",
       "<table border=\"1\" class=\"dataframe\">\n",
       "  <thead>\n",
       "    <tr style=\"text-align: right;\">\n",
       "      <th></th>\n",
       "      <th>Method</th>\n",
       "      <th>Train MAE</th>\n",
       "      <th>Train MSE</th>\n",
       "      <th>Train RMSE</th>\n",
       "      <th>Train R2</th>\n",
       "      <th>Test MAE</th>\n",
       "      <th>Test MSE</th>\n",
       "      <th>Test RMSE</th>\n",
       "      <th>Test R2</th>\n",
       "    </tr>\n",
       "  </thead>\n",
       "  <tbody>\n",
       "    <tr>\n",
       "      <th>0</th>\n",
       "      <td>Random Forest</td>\n",
       "      <td>1.587286</td>\n",
       "      <td>16.305608</td>\n",
       "      <td>4.03802</td>\n",
       "      <td>0.055252</td>\n",
       "      <td>1.416615</td>\n",
       "      <td>10.638129</td>\n",
       "      <td>3.261614</td>\n",
       "      <td>0.120566</td>\n",
       "    </tr>\n",
       "  </tbody>\n",
       "</table>\n",
       "</div>"
      ],
      "text/plain": [
       "          Method Train MAE  Train MSE Train RMSE  Train R2  Test MAE  \\\n",
       "0  Random Forest  1.587286  16.305608    4.03802  0.055252  1.416615   \n",
       "\n",
       "    Test MSE Test RMSE   Test R2  \n",
       "0  10.638129  3.261614  0.120566  "
      ]
     },
     "execution_count": 106,
     "metadata": {},
     "output_type": "execute_result"
    }
   ],
   "source": [
    "rf3_results = pd.DataFrame(['Random Forest', rf3_train_mae, rf3_train_mse, rf3_train_rmse, rf3_train_r2, rf3_test_mae, rf3_test_mse, rf3_test_rmse, rf3_test_r2]).transpose()\n",
    "rf3_results.columns = metric_col_names\n",
    "rf3_results"
   ]
  },
  {
   "cell_type": "code",
   "execution_count": 107,
   "id": "fb66cea3",
   "metadata": {},
   "outputs": [
    {
     "data": {
      "text/html": [
       "<div>\n",
       "<style scoped>\n",
       "    .dataframe tbody tr th:only-of-type {\n",
       "        vertical-align: middle;\n",
       "    }\n",
       "\n",
       "    .dataframe tbody tr th {\n",
       "        vertical-align: top;\n",
       "    }\n",
       "\n",
       "    .dataframe thead th {\n",
       "        text-align: right;\n",
       "    }\n",
       "</style>\n",
       "<table border=\"1\" class=\"dataframe\">\n",
       "  <thead>\n",
       "    <tr style=\"text-align: right;\">\n",
       "      <th></th>\n",
       "      <th>Method</th>\n",
       "      <th>Train MAE</th>\n",
       "      <th>Train MSE</th>\n",
       "      <th>Train RMSE</th>\n",
       "      <th>Train R2</th>\n",
       "      <th>Test MAE</th>\n",
       "      <th>Test MSE</th>\n",
       "      <th>Test RMSE</th>\n",
       "      <th>Test R2</th>\n",
       "    </tr>\n",
       "  </thead>\n",
       "  <tbody>\n",
       "    <tr>\n",
       "      <th>0</th>\n",
       "      <td>Baseline</td>\n",
       "      <td>2.26785</td>\n",
       "      <td>17.259215</td>\n",
       "      <td>4.154421</td>\n",
       "      <td>0.0</td>\n",
       "      <td>2.25424</td>\n",
       "      <td>12.166825</td>\n",
       "      <td>3.488098</td>\n",
       "      <td>-0.005808</td>\n",
       "    </tr>\n",
       "    <tr>\n",
       "      <th>1</th>\n",
       "      <td>k Nearest Neighbor</td>\n",
       "      <td>1.562636</td>\n",
       "      <td>16.173305</td>\n",
       "      <td>4.021605</td>\n",
       "      <td>0.062918</td>\n",
       "      <td>1.395098</td>\n",
       "      <td>10.427076</td>\n",
       "      <td>3.229098</td>\n",
       "      <td>0.138014</td>\n",
       "    </tr>\n",
       "    <tr>\n",
       "      <th>2</th>\n",
       "      <td>SVR</td>\n",
       "      <td>1.969233</td>\n",
       "      <td>21.048826</td>\n",
       "      <td>4.5879</td>\n",
       "      <td>-0.21957</td>\n",
       "      <td>1.709498</td>\n",
       "      <td>14.924438</td>\n",
       "      <td>3.863216</td>\n",
       "      <td>-0.045966</td>\n",
       "    </tr>\n",
       "    <tr>\n",
       "      <th>3</th>\n",
       "      <td>Random Forest</td>\n",
       "      <td>1.587286</td>\n",
       "      <td>16.305608</td>\n",
       "      <td>4.03802</td>\n",
       "      <td>0.055252</td>\n",
       "      <td>1.416615</td>\n",
       "      <td>10.638129</td>\n",
       "      <td>3.261614</td>\n",
       "      <td>0.120566</td>\n",
       "    </tr>\n",
       "  </tbody>\n",
       "</table>\n",
       "</div>"
      ],
      "text/plain": [
       "               Method Train MAE  Train MSE Train RMSE  Train R2  Test MAE  \\\n",
       "0            Baseline   2.26785  17.259215   4.154421       0.0   2.25424   \n",
       "1  k Nearest Neighbor  1.562636  16.173305   4.021605  0.062918  1.395098   \n",
       "2                 SVR  1.969233  21.048826     4.5879  -0.21957  1.709498   \n",
       "3       Random Forest  1.587286  16.305608    4.03802  0.055252  1.416615   \n",
       "\n",
       "    Test MSE Test RMSE   Test R2  \n",
       "0  12.166825  3.488098 -0.005808  \n",
       "1  10.427076  3.229098  0.138014  \n",
       "2  14.924438  3.863216 -0.045966  \n",
       "3  10.638129  3.261614  0.120566  "
      ]
     },
     "execution_count": 107,
     "metadata": {},
     "output_type": "execute_result"
    }
   ],
   "source": [
    "results_3 = pd.concat([baseline_3, knn_results_3, svr_results_3, rf3_results], axis = 0, ignore_index = True)\n",
    "results_3 "
   ]
  },
  {
   "cell_type": "code",
   "execution_count": 108,
   "id": "21fcb3bb",
   "metadata": {},
   "outputs": [
    {
     "data": {
      "text/plain": [
       "[<matplotlib.lines.Line2D at 0x1c9712ccc10>]"
      ]
     },
     "execution_count": 108,
     "metadata": {},
     "output_type": "execute_result"
    },
    {
     "data": {
      "image/png": "[encoded data removed]",
      "text/plain": [
       "<Figure size 432x288 with 1 Axes>"
      ]
     },
     "metadata": {
      "needs_background": "light"
     },
     "output_type": "display_data"
    }
   ],
   "source": [
    "plt.plot(y3_test, marker = 'd', linestyle = '')"
   ]
  },
  {
   "cell_type": "markdown",
   "id": "29b6ee57",
   "metadata": {},
   "source": [
    "Want to establish a baseline to compare to the ML model against. Will create a funciton using the Random Prediction Algorithm."
   ]
  },
  {
   "cell_type": "code",
   "execution_count": null,
   "id": "22da7d2b",
   "metadata": {},
   "outputs": [],
   "source": [
    "#from yellowbrick.regressor import prediction_error\n",
    "#model = Lasso()\n",
    "#visualizer = prediciton_error(model, x_train, y_train, x_test, y_test)"
   ]
  },
  {
   "cell_type": "code",
   "execution_count": null,
   "id": "a1303211",
   "metadata": {},
   "outputs": [],
   "source": [
    "#Set plot size\n",
    "#plt.subplots(figsize=(10,5))\n",
    "#Set X-Axis range\n",
    "#plt.xlim(min(true_values), max(true_values))\n",
    "#plt.title('Model Error Distribution')\n",
    "#plt.ylabel('No. of Predictions')\n",
    "#plt.xlabel('Error')\n",
    "#plt.hist(predictions['error'], bins=np.linspace(min(test_values), max(test_values), num=41, dtype=int));\n",
    "#plt.show()"
   ]
  },
  {
   "cell_type": "code",
   "execution_count": null,
   "id": "f9d0a029",
   "metadata": {},
   "outputs": [],
   "source": [
    "residuals = true_values - predicted_values\n",
    "plt.scatter(true_values, residuals)\n"
   ]
  },
  {
   "cell_type": "markdown",
   "id": "c97c4536",
   "metadata": {},
   "source": [
    "There is an obvious positive linear relationship which indicates that the kNN model is not best supervised learning model for this data."
   ]
  },
  {
   "cell_type": "code",
   "execution_count": null,
   "id": "e2f1d4df",
   "metadata": {},
   "outputs": [],
   "source": [
    "w1 = x6.iloc[:, 0:1].values\n",
    "w2 = x6.iloc[:, 1:2].values\n",
    "from sklearn.preprocessing import StandardScaler\n",
    "sc_X = StandardScaler()\n",
    "sc_y = StandardScaler()\n",
    "w3 = sc_X.fit_transform(w1)\n",
    "w4 = sc_y.fit_transform(w2)\n",
    "w1_train, w1_test = tts(w3)\n",
    "w2_train, w2_test = tts(w4)"
   ]
  },
  {
   "cell_type": "code",
   "execution_count": null,
   "id": "26bace87",
   "metadata": {},
   "outputs": [],
   "source": [
    "print(len(w1_train))\n",
    "print(len(w1))\n",
    "print(len(w1_test))"
   ]
  },
  {
   "cell_type": "markdown",
   "id": "51bee14d",
   "metadata": {},
   "source": [
    "Now want to compute confidence intervals as a standard practice while computing metrics."
   ]
  },
  {
   "cell_type": "markdown",
   "id": "1b2ae3f3",
   "metadata": {},
   "source": [
    "Will compare the R-squared value for kNN and Random Forest models."
   ]
  },
  {
   "cell_type": "code",
   "execution_count": null,
   "id": "c19abefe",
   "metadata": {},
   "outputs": [],
   "source": [
    "95 + (((1.0 - 0.95)/2.0) * 100)"
   ]
  },
  {
   "cell_type": "code",
   "execution_count": null,
   "id": "abfbf3b5",
   "metadata": {},
   "outputs": [],
   "source": [
    "#r2_ci(y_test, y_knn_test_pred)"
   ]
  },
  {
   "cell_type": "code",
   "execution_count": null,
   "id": "d40a8b83",
   "metadata": {},
   "outputs": [],
   "source": [
    "(0.95*100)+((1.0-.95)/2.0)*100"
   ]
  },
  {
   "cell_type": "markdown",
   "id": "8be78a90",
   "metadata": {},
   "source": [
    "Will now study the relationship between planet mass and temperature."
   ]
  },
  {
   "cell_type": "code",
   "execution_count": null,
   "id": "d1affec5",
   "metadata": {},
   "outputs": [],
   "source": [
    "df4 = raw_data2.loc[:, ['pl_name','pl_bmassj','pl_eqt']]\n",
    "df4.reset_index(drop=True, inplace=True)"
   ]
  },
  {
   "cell_type": "code",
   "execution_count": null,
   "id": "614781e2",
   "metadata": {},
   "outputs": [],
   "source": [
    "df4"
   ]
  },
  {
   "cell_type": "code",
   "execution_count": null,
   "id": "ca58ddef",
   "metadata": {},
   "outputs": [],
   "source": [
    "df4 = df4.rename(columns={'pl_name':'planetname','pl_bmassj':'planetmass', 'pl_eqt':'temperature'})\n",
    "df4 = df4.dropna()"
   ]
  },
  {
   "cell_type": "code",
   "execution_count": null,
   "id": "6ec5eca3",
   "metadata": {},
   "outputs": [],
   "source": [
    "df4"
   ]
  },
  {
   "cell_type": "code",
   "execution_count": null,
   "id": "aa44eced",
   "metadata": {},
   "outputs": [],
   "source": [
    "print(type(df4.iloc[0][1]))\n",
    "print(type(df4.iloc[0][2]))"
   ]
  },
  {
   "cell_type": "markdown",
   "id": "7d59b695",
   "metadata": {},
   "source": [
    "Notice both of the above are float data type which will make computation easier."
   ]
  },
  {
   "cell_type": "code",
   "execution_count": null,
   "id": "6c38df7e",
   "metadata": {},
   "outputs": [],
   "source": [
    "df4.reset_index(drop=True, inplace=True)"
   ]
  },
  {
   "cell_type": "code",
   "execution_count": null,
   "id": "60a7486b",
   "metadata": {},
   "outputs": [],
   "source": [
    "df4"
   ]
  },
  {
   "cell_type": "code",
   "execution_count": null,
   "id": "ac68cb06",
   "metadata": {},
   "outputs": [],
   "source": [
    "x7 = df4.groupby('planetname')['planetmass'].mean()\n",
    "x8 = df4.groupby('planetname')['temperature'].mean()\n",
    "x8"
   ]
  },
  {
   "cell_type": "code",
   "execution_count": null,
   "id": "359243e2",
   "metadata": {},
   "outputs": [],
   "source": [
    "df5 = pd.concat([x7, x8], axis = 1)\n",
    "df5"
   ]
  },
  {
   "cell_type": "code",
   "execution_count": null,
   "id": "852d6fb6",
   "metadata": {},
   "outputs": [],
   "source": [
    "plt.hist(df5.planetmass, density = True, color = \"darkorange\")"
   ]
  },
  {
   "cell_type": "code",
   "execution_count": null,
   "id": "8589b246",
   "metadata": {},
   "outputs": [],
   "source": [
    "plt.hist(df5.temperature, color = \"navy\")"
   ]
  },
  {
   "cell_type": "code",
   "execution_count": null,
   "id": "218c19df",
   "metadata": {},
   "outputs": [],
   "source": [
    "#predictions2 = random_algorithm([x_train2], [x_test2])\n",
    "predictions2 = the_real_random_algo(y_train2, y_test2)\n",
    "#predictions2 = random_algorithm([x_train2, y_train2], [x_test2, y_test2])\n",
    "print(predictions2)"
   ]
  },
  {
   "cell_type": "code",
   "execution_count": null,
   "id": "831cf247",
   "metadata": {},
   "outputs": [],
   "source": [
    "true_values2 = y_test2\n",
    "predicted_values2 = y_knn_test_pred2\n",
    "plot2 = plt.figure(figsize=(8,8))\n",
    "plot2 =plt.scatter(true_values2, predicted_values2, c = 'lime')\n",
    "\n",
    "residuals2 = true_values2 - predicted_values2\n",
    "plot2 = plt.scatter(true_values2, residuals2)\n",
    "\n",
    "plt.axis('equal')\n",
    "plt.show(plot2)"
   ]
  },
  {
   "cell_type": "code",
   "execution_count": null,
   "id": "ed84178c",
   "metadata": {},
   "outputs": [],
   "source": [
    "residuals2.shape"
   ]
  },
  {
   "cell_type": "markdown",
   "id": "4039a232",
   "metadata": {},
   "source": [
    "Notice no pattern so model does describe the data."
   ]
  }
 ],
 "metadata": {
  "kernelspec": {
   "display_name": "Python 3 (ipykernel)",
   "language": "python",
   "name": "python3"
  },
  "language_info": {
   "codemirror_mode": {
    "name": "ipython",
    "version": 3
   },
   "file_extension": ".py",
   "mimetype": "text/x-python",
   "name": "python",
   "nbconvert_exporter": "python",
   "pygments_lexer": "ipython3",
   "version": "3.9.5"
  }
 },
 "nbformat": 4,
 "nbformat_minor": 5
}
