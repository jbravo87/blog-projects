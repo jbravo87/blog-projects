{
 "cells": [
  {
   "cell_type": "markdown",
   "id": "f66f6c89",
   "metadata": {},
   "source": [
    "# Planetary Data Analysis Notebook"
   ]
  },
  {
   "cell_type": "markdown",
   "id": "fe8a0cd9",
   "metadata": {},
   "source": [
    "For the first part of this script, I will solely focus on the kNN supervised learning technique applied to the data pertaining to exoplanets from NASA."
   ]
  },
  {
   "cell_type": "code",
   "execution_count": 1,
   "id": "a0dd70c8",
   "metadata": {},
   "outputs": [],
   "source": [
    "import time\n",
    "start_time_0 = time.time()"
   ]
  },
  {
   "cell_type": "code",
   "execution_count": 2,
   "id": "48f65770",
   "metadata": {},
   "outputs": [],
   "source": [
    "# Import necessary libraries\n",
    "from random import seed\n",
    "from random import randrange\n",
    "from numpy.random import rand\n",
    "from numpy.random import randint\n",
    "import pandas as pd\n",
    "import matplotlib.pyplot as plt\n",
    "import numpy as np\n",
    "import statistics\n",
    "import seaborn as sns\n",
    "from sklearn.neighbors import KNeighborsRegressor\n",
    "from sklearn.svm import SVR, LinearSVR\n",
    "from sklearn.ensemble import RandomForestRegressor\n",
    "from sklearn.metrics import mean_squared_error, r2_score\n",
    "from sklearn.metrics import mean_absolute_error, mean_squared_error\n",
    "from sklearn.model_selection import train_test_split\n",
    "from sklearn.utils import resample\n",
    "from scipy import stats\n",
    "from math import sqrt\n",
    "from scipy.stats import wilcoxon\n",
    "from scipy.stats import spearmanr"
   ]
  },
  {
   "cell_type": "code",
   "execution_count": 3,
   "id": "069814a9",
   "metadata": {
    "scrolled": true
   },
   "outputs": [],
   "source": [
    "# Assign path of data to a variable.\n",
    "# Initiate first data frame with raw data.\n",
    "seed(11)\n",
    "path = 'https://raw.githubusercontent.com/jbravo87/blog-projects/main/data/PS_2022.05.10_21.48.38.csv'\n",
    "raw_data = pd.read_csv(path, skiprows = 12)"
   ]
  },
  {
   "cell_type": "markdown",
   "id": "c14e1e69",
   "metadata": {},
   "source": [
    "Need to remove the first twelve rows. These rows contain copious notes/remarks. Want to see the head and tail of the data as well as the column names."
   ]
  },
  {
   "cell_type": "code",
   "execution_count": 4,
   "id": "ede37fa3",
   "metadata": {},
   "outputs": [
    {
     "data": {
      "text/html": [
       "<div>\n",
       "<style scoped>\n",
       "    .dataframe tbody tr th:only-of-type {\n",
       "        vertical-align: middle;\n",
       "    }\n",
       "\n",
       "    .dataframe tbody tr th {\n",
       "        vertical-align: top;\n",
       "    }\n",
       "\n",
       "    .dataframe thead th {\n",
       "        text-align: right;\n",
       "    }\n",
       "</style>\n",
       "<table border=\"1\" class=\"dataframe\">\n",
       "  <thead>\n",
       "    <tr style=\"text-align: right;\">\n",
       "      <th></th>\n",
       "      <th>pl_name</th>\n",
       "      <th>hostname</th>\n",
       "      <th>pl_orbper</th>\n",
       "      <th>pl_bmassj</th>\n",
       "      <th>pl_orbeccen</th>\n",
       "      <th>pl_eqt</th>\n",
       "    </tr>\n",
       "  </thead>\n",
       "  <tbody>\n",
       "    <tr>\n",
       "      <th>0</th>\n",
       "      <td>11 Com b</td>\n",
       "      <td>11 Com</td>\n",
       "      <td>326.03000</td>\n",
       "      <td>19.40</td>\n",
       "      <td>0.231</td>\n",
       "      <td>NaN</td>\n",
       "    </tr>\n",
       "    <tr>\n",
       "      <th>1</th>\n",
       "      <td>11 Com b</td>\n",
       "      <td>11 Com</td>\n",
       "      <td>NaN</td>\n",
       "      <td>17.10</td>\n",
       "      <td>NaN</td>\n",
       "      <td>NaN</td>\n",
       "    </tr>\n",
       "    <tr>\n",
       "      <th>2</th>\n",
       "      <td>11 UMi b</td>\n",
       "      <td>11 UMi</td>\n",
       "      <td>NaN</td>\n",
       "      <td>10.80</td>\n",
       "      <td>NaN</td>\n",
       "      <td>NaN</td>\n",
       "    </tr>\n",
       "    <tr>\n",
       "      <th>3</th>\n",
       "      <td>11 UMi b</td>\n",
       "      <td>11 UMi</td>\n",
       "      <td>516.21997</td>\n",
       "      <td>14.74</td>\n",
       "      <td>0.080</td>\n",
       "      <td>NaN</td>\n",
       "    </tr>\n",
       "    <tr>\n",
       "      <th>4</th>\n",
       "      <td>11 UMi b</td>\n",
       "      <td>11 UMi</td>\n",
       "      <td>516.22000</td>\n",
       "      <td>10.50</td>\n",
       "      <td>0.080</td>\n",
       "      <td>NaN</td>\n",
       "    </tr>\n",
       "    <tr>\n",
       "      <th>...</th>\n",
       "      <td>...</td>\n",
       "      <td>...</td>\n",
       "      <td>...</td>\n",
       "      <td>...</td>\n",
       "      <td>...</td>\n",
       "      <td>...</td>\n",
       "    </tr>\n",
       "    <tr>\n",
       "      <th>32511</th>\n",
       "      <td>ups And d</td>\n",
       "      <td>ups And</td>\n",
       "      <td>1282.41000</td>\n",
       "      <td>4.10</td>\n",
       "      <td>0.294</td>\n",
       "      <td>NaN</td>\n",
       "    </tr>\n",
       "    <tr>\n",
       "      <th>32512</th>\n",
       "      <td>ups And d</td>\n",
       "      <td>ups And</td>\n",
       "      <td>1281.50700</td>\n",
       "      <td>10.25</td>\n",
       "      <td>0.316</td>\n",
       "      <td>NaN</td>\n",
       "    </tr>\n",
       "    <tr>\n",
       "      <th>32513</th>\n",
       "      <td>ups Leo b</td>\n",
       "      <td>ups Leo</td>\n",
       "      <td>385.20000</td>\n",
       "      <td>0.51</td>\n",
       "      <td>0.320</td>\n",
       "      <td>NaN</td>\n",
       "    </tr>\n",
       "    <tr>\n",
       "      <th>32514</th>\n",
       "      <td>xi Aql b</td>\n",
       "      <td>xi Aql</td>\n",
       "      <td>NaN</td>\n",
       "      <td>2.02</td>\n",
       "      <td>NaN</td>\n",
       "      <td>NaN</td>\n",
       "    </tr>\n",
       "    <tr>\n",
       "      <th>32515</th>\n",
       "      <td>xi Aql b</td>\n",
       "      <td>xi Aql</td>\n",
       "      <td>136.75000</td>\n",
       "      <td>2.80</td>\n",
       "      <td>0.000</td>\n",
       "      <td>NaN</td>\n",
       "    </tr>\n",
       "  </tbody>\n",
       "</table>\n",
       "<p>32516 rows × 6 columns</p>\n",
       "</div>"
      ],
      "text/plain": [
       "         pl_name hostname   pl_orbper  pl_bmassj  pl_orbeccen  pl_eqt\n",
       "0       11 Com b   11 Com   326.03000      19.40        0.231     NaN\n",
       "1       11 Com b   11 Com         NaN      17.10          NaN     NaN\n",
       "2       11 UMi b   11 UMi         NaN      10.80          NaN     NaN\n",
       "3       11 UMi b   11 UMi   516.21997      14.74        0.080     NaN\n",
       "4       11 UMi b   11 UMi   516.22000      10.50        0.080     NaN\n",
       "...          ...      ...         ...        ...          ...     ...\n",
       "32511  ups And d  ups And  1282.41000       4.10        0.294     NaN\n",
       "32512  ups And d  ups And  1281.50700      10.25        0.316     NaN\n",
       "32513  ups Leo b  ups Leo   385.20000       0.51        0.320     NaN\n",
       "32514   xi Aql b   xi Aql         NaN       2.02          NaN     NaN\n",
       "32515   xi Aql b   xi Aql   136.75000       2.80        0.000     NaN\n",
       "\n",
       "[32516 rows x 6 columns]"
      ]
     },
     "execution_count": 4,
     "metadata": {},
     "output_type": "execute_result"
    }
   ],
   "source": [
    "raw_data"
   ]
  },
  {
   "cell_type": "code",
   "execution_count": 5,
   "id": "3f1757c2",
   "metadata": {},
   "outputs": [
    {
     "data": {
      "text/plain": [
       "Index(['pl_name', 'hostname', 'pl_orbper', 'pl_bmassj', 'pl_orbeccen',\n",
       "       'pl_eqt'],\n",
       "      dtype='object')"
      ]
     },
     "execution_count": 5,
     "metadata": {},
     "output_type": "execute_result"
    }
   ],
   "source": [
    "raw_data.columns"
   ]
  },
  {
   "cell_type": "markdown",
   "id": "5a7d0436",
   "metadata": {},
   "source": [
    "Now want to create first data frame with columns of interest. In this first case/scenario want to study planet eccentricity (dependent/response variable) as a function of orbital period of planet (independent/predictor variable)."
   ]
  },
  {
   "cell_type": "markdown",
   "id": "a8f9a7cf",
   "metadata": {},
   "source": [
    "## Case 1 - Eccentricity as function of Orbital Period"
   ]
  },
  {
   "cell_type": "code",
   "execution_count": 6,
   "id": "9399812e",
   "metadata": {},
   "outputs": [
    {
     "data": {
      "text/html": [
       "<div>\n",
       "<style scoped>\n",
       "    .dataframe tbody tr th:only-of-type {\n",
       "        vertical-align: middle;\n",
       "    }\n",
       "\n",
       "    .dataframe tbody tr th {\n",
       "        vertical-align: top;\n",
       "    }\n",
       "\n",
       "    .dataframe thead th {\n",
       "        text-align: right;\n",
       "    }\n",
       "</style>\n",
       "<table border=\"1\" class=\"dataframe\">\n",
       "  <thead>\n",
       "    <tr style=\"text-align: right;\">\n",
       "      <th></th>\n",
       "      <th>pl_name</th>\n",
       "      <th>pl_orbper</th>\n",
       "      <th>pl_orbeccen</th>\n",
       "    </tr>\n",
       "  </thead>\n",
       "  <tbody>\n",
       "    <tr>\n",
       "      <th>0</th>\n",
       "      <td>11 Com b</td>\n",
       "      <td>326.03000</td>\n",
       "      <td>0.231</td>\n",
       "    </tr>\n",
       "    <tr>\n",
       "      <th>1</th>\n",
       "      <td>11 Com b</td>\n",
       "      <td>NaN</td>\n",
       "      <td>NaN</td>\n",
       "    </tr>\n",
       "    <tr>\n",
       "      <th>2</th>\n",
       "      <td>11 UMi b</td>\n",
       "      <td>NaN</td>\n",
       "      <td>NaN</td>\n",
       "    </tr>\n",
       "    <tr>\n",
       "      <th>3</th>\n",
       "      <td>11 UMi b</td>\n",
       "      <td>516.21997</td>\n",
       "      <td>0.080</td>\n",
       "    </tr>\n",
       "    <tr>\n",
       "      <th>4</th>\n",
       "      <td>11 UMi b</td>\n",
       "      <td>516.22000</td>\n",
       "      <td>0.080</td>\n",
       "    </tr>\n",
       "    <tr>\n",
       "      <th>...</th>\n",
       "      <td>...</td>\n",
       "      <td>...</td>\n",
       "      <td>...</td>\n",
       "    </tr>\n",
       "    <tr>\n",
       "      <th>32511</th>\n",
       "      <td>ups And d</td>\n",
       "      <td>1282.41000</td>\n",
       "      <td>0.294</td>\n",
       "    </tr>\n",
       "    <tr>\n",
       "      <th>32512</th>\n",
       "      <td>ups And d</td>\n",
       "      <td>1281.50700</td>\n",
       "      <td>0.316</td>\n",
       "    </tr>\n",
       "    <tr>\n",
       "      <th>32513</th>\n",
       "      <td>ups Leo b</td>\n",
       "      <td>385.20000</td>\n",
       "      <td>0.320</td>\n",
       "    </tr>\n",
       "    <tr>\n",
       "      <th>32514</th>\n",
       "      <td>xi Aql b</td>\n",
       "      <td>NaN</td>\n",
       "      <td>NaN</td>\n",
       "    </tr>\n",
       "    <tr>\n",
       "      <th>32515</th>\n",
       "      <td>xi Aql b</td>\n",
       "      <td>136.75000</td>\n",
       "      <td>0.000</td>\n",
       "    </tr>\n",
       "  </tbody>\n",
       "</table>\n",
       "<p>32516 rows × 3 columns</p>\n",
       "</div>"
      ],
      "text/plain": [
       "         pl_name   pl_orbper  pl_orbeccen\n",
       "0       11 Com b   326.03000        0.231\n",
       "1       11 Com b         NaN          NaN\n",
       "2       11 UMi b         NaN          NaN\n",
       "3       11 UMi b   516.21997        0.080\n",
       "4       11 UMi b   516.22000        0.080\n",
       "...          ...         ...          ...\n",
       "32511  ups And d  1282.41000        0.294\n",
       "32512  ups And d  1281.50700        0.316\n",
       "32513  ups Leo b   385.20000        0.320\n",
       "32514   xi Aql b         NaN          NaN\n",
       "32515   xi Aql b   136.75000        0.000\n",
       "\n",
       "[32516 rows x 3 columns]"
      ]
     },
     "execution_count": 6,
     "metadata": {},
     "output_type": "execute_result"
    }
   ],
   "source": [
    "df1 = raw_data.loc[:, ['pl_name','pl_orbper','pl_orbeccen']]\n",
    "#df1.reset_index(drop=True, inplace=True) # <- Perhaps use this logic in a couple of lines.\n",
    "df1"
   ]
  },
  {
   "cell_type": "markdown",
   "id": "fa25fdc8",
   "metadata": {},
   "source": [
    "Will rename the columns of interest for ease, i.e. make analysis clearer, and remove unnecessary rows by removing all the NA values from the original data frame."
   ]
  },
  {
   "cell_type": "code",
   "execution_count": 7,
   "id": "adcb16ad",
   "metadata": {},
   "outputs": [
    {
     "data": {
      "text/html": [
       "<div>\n",
       "<style scoped>\n",
       "    .dataframe tbody tr th:only-of-type {\n",
       "        vertical-align: middle;\n",
       "    }\n",
       "\n",
       "    .dataframe tbody tr th {\n",
       "        vertical-align: top;\n",
       "    }\n",
       "\n",
       "    .dataframe thead th {\n",
       "        text-align: right;\n",
       "    }\n",
       "</style>\n",
       "<table border=\"1\" class=\"dataframe\">\n",
       "  <thead>\n",
       "    <tr style=\"text-align: right;\">\n",
       "      <th></th>\n",
       "      <th>planetname</th>\n",
       "      <th>orbitperiod</th>\n",
       "      <th>eccentricity</th>\n",
       "    </tr>\n",
       "  </thead>\n",
       "  <tbody>\n",
       "    <tr>\n",
       "      <th>0</th>\n",
       "      <td>11 Com b</td>\n",
       "      <td>326.030000</td>\n",
       "      <td>0.231</td>\n",
       "    </tr>\n",
       "    <tr>\n",
       "      <th>1</th>\n",
       "      <td>11 Com b</td>\n",
       "      <td>10.994704</td>\n",
       "      <td>0.000</td>\n",
       "    </tr>\n",
       "    <tr>\n",
       "      <th>2</th>\n",
       "      <td>11 UMi b</td>\n",
       "      <td>10.994704</td>\n",
       "      <td>0.000</td>\n",
       "    </tr>\n",
       "    <tr>\n",
       "      <th>3</th>\n",
       "      <td>11 UMi b</td>\n",
       "      <td>516.219970</td>\n",
       "      <td>0.080</td>\n",
       "    </tr>\n",
       "    <tr>\n",
       "      <th>4</th>\n",
       "      <td>11 UMi b</td>\n",
       "      <td>516.220000</td>\n",
       "      <td>0.080</td>\n",
       "    </tr>\n",
       "    <tr>\n",
       "      <th>...</th>\n",
       "      <td>...</td>\n",
       "      <td>...</td>\n",
       "      <td>...</td>\n",
       "    </tr>\n",
       "    <tr>\n",
       "      <th>32511</th>\n",
       "      <td>ups And d</td>\n",
       "      <td>1282.410000</td>\n",
       "      <td>0.294</td>\n",
       "    </tr>\n",
       "    <tr>\n",
       "      <th>32512</th>\n",
       "      <td>ups And d</td>\n",
       "      <td>1281.507000</td>\n",
       "      <td>0.316</td>\n",
       "    </tr>\n",
       "    <tr>\n",
       "      <th>32513</th>\n",
       "      <td>ups Leo b</td>\n",
       "      <td>385.200000</td>\n",
       "      <td>0.320</td>\n",
       "    </tr>\n",
       "    <tr>\n",
       "      <th>32514</th>\n",
       "      <td>xi Aql b</td>\n",
       "      <td>10.994704</td>\n",
       "      <td>0.000</td>\n",
       "    </tr>\n",
       "    <tr>\n",
       "      <th>32515</th>\n",
       "      <td>xi Aql b</td>\n",
       "      <td>136.750000</td>\n",
       "      <td>0.000</td>\n",
       "    </tr>\n",
       "  </tbody>\n",
       "</table>\n",
       "<p>32516 rows × 3 columns</p>\n",
       "</div>"
      ],
      "text/plain": [
       "      planetname  orbitperiod  eccentricity\n",
       "0       11 Com b   326.030000         0.231\n",
       "1       11 Com b    10.994704         0.000\n",
       "2       11 UMi b    10.994704         0.000\n",
       "3       11 UMi b   516.219970         0.080\n",
       "4       11 UMi b   516.220000         0.080\n",
       "...          ...          ...           ...\n",
       "32511  ups And d  1282.410000         0.294\n",
       "32512  ups And d  1281.507000         0.316\n",
       "32513  ups Leo b   385.200000         0.320\n",
       "32514   xi Aql b    10.994704         0.000\n",
       "32515   xi Aql b   136.750000         0.000\n",
       "\n",
       "[32516 rows x 3 columns]"
      ]
     },
     "execution_count": 7,
     "metadata": {},
     "output_type": "execute_result"
    }
   ],
   "source": [
    "df1 = df1.rename(columns={'pl_name':'planetname', 'pl_orbper':'orbitperiod', 'pl_orbeccen':'eccentricity'})\n",
    "#df1 = df1.dropna()\n",
    "df1 = df1.fillna(df1.median(numeric_only=True))\n",
    "df1"
   ]
  },
  {
   "cell_type": "markdown",
   "id": "88c5a86d",
   "metadata": {},
   "source": [
    "The following logic is to determine the data types of the column entries in the latest data frame. Again, this is the data type (dtype) for individual entries within the data frame."
   ]
  },
  {
   "cell_type": "code",
   "execution_count": 8,
   "id": "9f8424f2",
   "metadata": {},
   "outputs": [
    {
     "name": "stdout",
     "output_type": "stream",
     "text": [
      "<class 'numpy.float64'>\n",
      "<class 'numpy.float64'>\n"
     ]
    }
   ],
   "source": [
    "print(type(df1.iloc[0][1]))\n",
    "print(type(df1.iloc[0][2]))"
   ]
  },
  {
   "cell_type": "code",
   "execution_count": 9,
   "id": "b9304a7d",
   "metadata": {},
   "outputs": [
    {
     "data": {
      "text/plain": [
       "pandas.core.frame.DataFrame"
      ]
     },
     "execution_count": 9,
     "metadata": {},
     "output_type": "execute_result"
    }
   ],
   "source": [
    "type(df1)"
   ]
  },
  {
   "cell_type": "code",
   "execution_count": 10,
   "id": "5aff5b56",
   "metadata": {},
   "outputs": [
    {
     "name": "stdout",
     "output_type": "stream",
     "text": [
      "The data type of the eccentricity column is: float64\n"
     ]
    }
   ],
   "source": [
    "print(\"The data type of the eccentricity column is:\", df1.dtypes['eccentricity'])"
   ]
  },
  {
   "cell_type": "markdown",
   "id": "985e8908",
   "metadata": {},
   "source": [
    "Notice df1 is indeed a data frame, and the entries within are numpy float number type.\n",
    "\n",
    "Want to limit each scenario to two dataframes. Once cleaned, need another to take arithmetic mean of multiple entries. For example, Dataframe 2 will take the averages of multiple planet entries. Following lines will take arithmetic mean of the two columns of interest and concate the two columns into the third dataframe.\n",
    "\n",
    "First will create intermediate variables to store the resulting averages."
   ]
  },
  {
   "cell_type": "code",
   "execution_count": 11,
   "id": "4264900b",
   "metadata": {},
   "outputs": [],
   "source": [
    "eccen = df1.groupby('planetname')['eccentricity'].mean()\n",
    "orbper = df1.groupby('planetname')['orbitperiod'].mean()"
   ]
  },
  {
   "cell_type": "code",
   "execution_count": 12,
   "id": "b08df90a",
   "metadata": {},
   "outputs": [
    {
     "name": "stdout",
     "output_type": "stream",
     "text": [
      "planetname\n",
      "11 Com b      0.115500\n",
      "11 UMi b      0.053333\n",
      "14 And b      0.000000\n",
      "14 Her b      0.361486\n",
      "16 Cyg B b    0.676033\n",
      "                ...   \n",
      "ups And b     0.030200\n",
      "ups And c     0.238933\n",
      "ups And d     0.281117\n",
      "ups Leo b     0.320000\n",
      "xi Aql b      0.000000\n",
      "Name: eccentricity, Length: 5021, dtype: float64\n",
      "planetname\n",
      "11 Com b       168.512352\n",
      "11 UMi b       347.811558\n",
      "14 And b        98.417352\n",
      "14 Her b      1515.800675\n",
      "16 Cyg B b     799.375000\n",
      "                 ...     \n",
      "ups And b        4.616229\n",
      "ups And c      240.728533\n",
      "ups And d     1285.346167\n",
      "ups Leo b      385.200000\n",
      "xi Aql b        73.872352\n",
      "Name: orbitperiod, Length: 5021, dtype: float64\n"
     ]
    }
   ],
   "source": [
    "print(eccen)\n",
    "print(orbper)"
   ]
  },
  {
   "cell_type": "code",
   "execution_count": 13,
   "id": "66772b1f",
   "metadata": {},
   "outputs": [
    {
     "data": {
      "text/plain": [
       "pandas.core.series.Series"
      ]
     },
     "execution_count": 13,
     "metadata": {},
     "output_type": "execute_result"
    }
   ],
   "source": [
    "type(eccen)"
   ]
  },
  {
   "cell_type": "code",
   "execution_count": 14,
   "id": "9ef0823f",
   "metadata": {},
   "outputs": [
    {
     "data": {
      "text/plain": [
       "pandas.core.series.Series"
      ]
     },
     "execution_count": 14,
     "metadata": {},
     "output_type": "execute_result"
    }
   ],
   "source": [
    "type(orbper)"
   ]
  },
  {
   "cell_type": "markdown",
   "id": "2a1bdff0",
   "metadata": {},
   "source": [
    "In this part want to explicitly declare the median and IQR of the two columns which are the variables. But the summary statistics part of the analysis can be done with variables declared earlier."
   ]
  },
  {
   "cell_type": "code",
   "execution_count": 15,
   "id": "6db8e9a2",
   "metadata": {},
   "outputs": [
    {
     "name": "stdout",
     "output_type": "stream",
     "text": [
      "\n",
      "The median of the orbital period: 10.9947\n",
      "\n",
      "The median of the eccentricity: 0.00\n",
      "\n",
      "The interquartile range of the eccentricity: 0.03\n",
      "\n",
      "The interquartile range of the orbital period: 30.39\n",
      "\n",
      "The mean for the eccentricity: 0.05\n",
      "\n",
      "The mean for the orbital period: 83045.30\n"
     ]
    }
   ],
   "source": [
    "eccen_med = statistics.median(list(eccen))\n",
    "orbper_med = statistics.median(list(orbper))\n",
    "print('\\nThe median of the orbital period: %.4f' % orbper_med)\n",
    "print('\\nThe median of the eccentricity: %.2f' % eccen_med)\n",
    "iqr_eccen = stats.iqr(eccen, interpolation = 'midpoint')\n",
    "iqr_orbper = stats.iqr(orbper, interpolation = 'midpoint')\n",
    "print('\\nThe interquartile range of the eccentricity: %.2f' % iqr_eccen)\n",
    "print('\\nThe interquartile range of the orbital period: %.2f' % iqr_orbper)\n",
    "eccen_avg = statistics.mean(list(eccen))\n",
    "print('\\nThe mean for the eccentricity: %.2f' % eccen_avg)\n",
    "orbper_avg = statistics.mean(list(orbper))\n",
    "print('\\nThe mean for the orbital period: %.2f' % orbper_avg)"
   ]
  },
  {
   "cell_type": "markdown",
   "id": "fd3f5770",
   "metadata": {},
   "source": [
    "Five number summary including the central tendencies above."
   ]
  },
  {
   "cell_type": "code",
   "execution_count": 16,
   "id": "1bcd5424",
   "metadata": {},
   "outputs": [],
   "source": [
    "def fivenum(data):\n",
    "    \"\"\"Five-number summary.\"\"\"\n",
    "    return np.percentile(data, [0, 25, 50, 75, 100], method = 'midpoint')"
   ]
  },
  {
   "cell_type": "code",
   "execution_count": 17,
   "id": "6969632c",
   "metadata": {},
   "outputs": [
    {
     "data": {
      "text/plain": [
       "array([0.   , 0.   , 0.   , 0.027, 0.903])"
      ]
     },
     "execution_count": 17,
     "metadata": {},
     "output_type": "execute_result"
    }
   ],
   "source": [
    "# Min, 1st quantile, median, 3rd quantile, max\n",
    "fivenum(eccen)"
   ]
  },
  {
   "cell_type": "code",
   "execution_count": 18,
   "id": "9b1c7fb6",
   "metadata": {},
   "outputs": [
    {
     "data": {
      "text/plain": [
       "array([9.07062900e-02, 5.03733431e+00, 1.09947037e+01, 3.54249749e+01,\n",
       "       4.02000000e+08])"
      ]
     },
     "execution_count": 18,
     "metadata": {},
     "output_type": "execute_result"
    }
   ],
   "source": [
    "# Min, 1st quantile, median, 3rd quantile, max\n",
    "fivenum(orbper)"
   ]
  },
  {
   "cell_type": "code",
   "execution_count": 19,
   "id": "fd0e157d",
   "metadata": {},
   "outputs": [
    {
     "data": {
      "text/html": [
       "<div>\n",
       "<style scoped>\n",
       "    .dataframe tbody tr th:only-of-type {\n",
       "        vertical-align: middle;\n",
       "    }\n",
       "\n",
       "    .dataframe tbody tr th {\n",
       "        vertical-align: top;\n",
       "    }\n",
       "\n",
       "    .dataframe thead th {\n",
       "        text-align: right;\n",
       "    }\n",
       "</style>\n",
       "<table border=\"1\" class=\"dataframe\">\n",
       "  <thead>\n",
       "    <tr style=\"text-align: right;\">\n",
       "      <th></th>\n",
       "      <th>orbitperiod</th>\n",
       "      <th>eccentricity</th>\n",
       "    </tr>\n",
       "    <tr>\n",
       "      <th>planetname</th>\n",
       "      <th></th>\n",
       "      <th></th>\n",
       "    </tr>\n",
       "  </thead>\n",
       "  <tbody>\n",
       "    <tr>\n",
       "      <th>11 Com b</th>\n",
       "      <td>168.512352</td>\n",
       "      <td>0.115500</td>\n",
       "    </tr>\n",
       "    <tr>\n",
       "      <th>11 UMi b</th>\n",
       "      <td>347.811558</td>\n",
       "      <td>0.053333</td>\n",
       "    </tr>\n",
       "    <tr>\n",
       "      <th>14 And b</th>\n",
       "      <td>98.417352</td>\n",
       "      <td>0.000000</td>\n",
       "    </tr>\n",
       "    <tr>\n",
       "      <th>14 Her b</th>\n",
       "      <td>1515.800675</td>\n",
       "      <td>0.361486</td>\n",
       "    </tr>\n",
       "    <tr>\n",
       "      <th>16 Cyg B b</th>\n",
       "      <td>799.375000</td>\n",
       "      <td>0.676033</td>\n",
       "    </tr>\n",
       "    <tr>\n",
       "      <th>...</th>\n",
       "      <td>...</td>\n",
       "      <td>...</td>\n",
       "    </tr>\n",
       "    <tr>\n",
       "      <th>ups And b</th>\n",
       "      <td>4.616229</td>\n",
       "      <td>0.030200</td>\n",
       "    </tr>\n",
       "    <tr>\n",
       "      <th>ups And c</th>\n",
       "      <td>240.728533</td>\n",
       "      <td>0.238933</td>\n",
       "    </tr>\n",
       "    <tr>\n",
       "      <th>ups And d</th>\n",
       "      <td>1285.346167</td>\n",
       "      <td>0.281117</td>\n",
       "    </tr>\n",
       "    <tr>\n",
       "      <th>ups Leo b</th>\n",
       "      <td>385.200000</td>\n",
       "      <td>0.320000</td>\n",
       "    </tr>\n",
       "    <tr>\n",
       "      <th>xi Aql b</th>\n",
       "      <td>73.872352</td>\n",
       "      <td>0.000000</td>\n",
       "    </tr>\n",
       "  </tbody>\n",
       "</table>\n",
       "<p>5021 rows × 2 columns</p>\n",
       "</div>"
      ],
      "text/plain": [
       "            orbitperiod  eccentricity\n",
       "planetname                           \n",
       "11 Com b     168.512352      0.115500\n",
       "11 UMi b     347.811558      0.053333\n",
       "14 And b      98.417352      0.000000\n",
       "14 Her b    1515.800675      0.361486\n",
       "16 Cyg B b   799.375000      0.676033\n",
       "...                 ...           ...\n",
       "ups And b      4.616229      0.030200\n",
       "ups And c    240.728533      0.238933\n",
       "ups And d   1285.346167      0.281117\n",
       "ups Leo b    385.200000      0.320000\n",
       "xi Aql b      73.872352      0.000000\n",
       "\n",
       "[5021 rows x 2 columns]"
      ]
     },
     "execution_count": 19,
     "metadata": {},
     "output_type": "execute_result"
    }
   ],
   "source": [
    "df1 = pd.concat([orbper, eccen], axis = 1)\n",
    "df1"
   ]
  },
  {
   "cell_type": "markdown",
   "id": "65355e32",
   "metadata": {},
   "source": [
    "All the filtering and cleaning was handled by end of df1."
   ]
  },
  {
   "cell_type": "code",
   "execution_count": 20,
   "id": "9c27669b",
   "metadata": {},
   "outputs": [
    {
     "data": {
      "text/plain": [
       "Index(['orbitperiod', 'eccentricity'], dtype='object')"
      ]
     },
     "execution_count": 20,
     "metadata": {},
     "output_type": "execute_result"
    }
   ],
   "source": [
    "df1.columns"
   ]
  },
  {
   "cell_type": "markdown",
   "id": "e9abdc01",
   "metadata": {},
   "source": [
    "The orbital period is skewed right, but after applying a log transform, the distribution more closely resembles a Gaussian distribution."
   ]
  },
  {
   "cell_type": "code",
   "execution_count": 21,
   "id": "a5cce4cc",
   "metadata": {},
   "outputs": [
    {
     "data": {
      "image/png": "[encoded data removed]",
      "text/plain": [
       "<Figure size 864x864 with 4 Axes>"
      ]
     },
     "metadata": {
      "needs_background": "light"
     },
     "output_type": "display_data"
    }
   ],
   "source": [
    "# First, perform log base 10 transform\n",
    "orbper_log = np.log10(orbper)\n",
    "eccen_log = np.log10(eccen + 10)\n",
    "# Plotting Logic\n",
    "fig1, ax1 = plt.subplots(2, 2,figsize = (12, 12))\n",
    "fig1.suptitle('Histograms - Case 1')\n",
    "ax1[0, 0].hist(orbper, color = 'darkgreen', edgecolor = 'white')\n",
    "#ax1[0, 0].set_title('') #<- use this logic to give each plot its own title.\n",
    "ax1[0, 0].set(xlabel = 'orbital period')\n",
    "ax1[0, 1].hist(orbper_log, color = \"darkgreen\", edgecolor = 'red')\n",
    "ax1[0, 1].set(xlabel = 'log10(orbital period)')\n",
    "ax1[1, 0].hist(eccen, color = \"maroon\", edgecolor = 'green')\n",
    "ax1[1, 0].set(xlabel = 'eccentricity')\n",
    "ax1[1, 1].hist(eccen_log, color = \"maroon\", edgecolor = 'green')\n",
    "ax1[1, 1].set(xlabel = 'log10(eccentricity)')\n",
    "\n",
    "for ax in ax1.flat:\n",
    "    ax.set(ylabel = 'Frequency')\n",
    "plt.savefig('histograms_1.png')\n",
    "fig1.tight_layout()"
   ]
  },
  {
   "cell_type": "markdown",
   "id": "9897521b",
   "metadata": {},
   "source": [
    "The distribution is still skewed right after applying the transform."
   ]
  },
  {
   "cell_type": "markdown",
   "id": "710809a7",
   "metadata": {},
   "source": [
    "#### Model Building"
   ]
  },
  {
   "cell_type": "markdown",
   "id": "47e515d9",
   "metadata": {},
   "source": [
    "As a resampling method, will use the train-test-split (tts) method."
   ]
  },
  {
   "cell_type": "code",
   "execution_count": 22,
   "id": "c123100d",
   "metadata": {},
   "outputs": [],
   "source": [
    "X1 = np.array(orbper).reshape(-1,1)\n",
    "y1 = np.array(eccen).reshape(-1, 1)\n",
    "X1_train, X1_test, y1_train, y1_test = train_test_split(X1, y1, train_size = 0.80, random_state = 25)\n",
    "y1_train = y1_train.reshape(len(y1_train), )\n",
    "y1_test = y1_test.reshape(len(y1_test), )"
   ]
  },
  {
   "cell_type": "markdown",
   "id": "ff68d835",
   "metadata": {},
   "source": [
    "Will change the central tendency metric from median to mean to get a better R-squared metric."
   ]
  },
  {
   "cell_type": "code",
   "execution_count": 23,
   "id": "d693892d",
   "metadata": {},
   "outputs": [
    {
     "data": {
      "text/plain": [
       "0.05028121441467783"
      ]
     },
     "execution_count": 23,
     "metadata": {},
     "output_type": "execute_result"
    }
   ],
   "source": [
    "# For central tendency can use either median or mean.\n",
    "y_baseline = y1_train.mean()\n",
    "#y_baseline = statistics.median(y1_train)\n",
    "y_baseline"
   ]
  },
  {
   "cell_type": "code",
   "execution_count": 24,
   "id": "8b05d462",
   "metadata": {},
   "outputs": [],
   "source": [
    "y_pred_train = [y_baseline] * len(y1_train)"
   ]
  },
  {
   "cell_type": "code",
   "execution_count": 25,
   "id": "24f3c083",
   "metadata": {},
   "outputs": [
    {
     "name": "stdout",
     "output_type": "stream",
     "text": [
      "Traing Set Mean Absolute Error: 0.07466837870957137\n",
      "Traing Set Mean Squared Error: 0.01516014279820919\n",
      "Traing Set Root Mean Square Error: 0.12312653165832776\n",
      "Traing Set R2: 0.0\n"
     ]
    }
   ],
   "source": [
    "# Following is for the Training Dataset.\n",
    "# Error for training data baseline guess.\n",
    "mae_train_1 = mean_absolute_error(y1_train, y_pred_train)\n",
    "print(f'Traing Set Mean Absolute Error: {mae_train_1}')\n",
    "# Mean squared error for training data baseline guess.\n",
    "mse_train_1 = mean_squared_error(y1_train, y_pred_train)\n",
    "print(f'Traing Set Mean Squared Error: {mse_train_1}')\n",
    "rmse_train_1 = sqrt(mse_train_1) # <- will compute the root mean square error\n",
    "print(f'Traing Set Root Mean Square Error: {rmse_train_1}')\n",
    "# R-squared for training data baseline guess.\n",
    "r2_train_1 = r2_score(y1_train, y_pred_train)\n",
    "print(f'Traing Set R2: {r2_train_1}')"
   ]
  },
  {
   "cell_type": "code",
   "execution_count": 26,
   "id": "87173148",
   "metadata": {},
   "outputs": [],
   "source": [
    "y_pred_test = [y_baseline] * len(y1_test)"
   ]
  },
  {
   "cell_type": "code",
   "execution_count": 27,
   "id": "c2d1cb92",
   "metadata": {},
   "outputs": [
    {
     "name": "stdout",
     "output_type": "stream",
     "text": [
      "Test Set Mean Absolute Error: 0.07029296571521206\n",
      "Test Set Mean Squared Error: 0.013719175190703455\n",
      "Test Set Root Mean Square Error: 0.11712888282017998\n",
      "Test Set R2: -0.0011016846678497672\n"
     ]
    }
   ],
   "source": [
    "# Error for test data baseline guess.\n",
    "mae_test_1 = mean_absolute_error(y1_test, y_pred_test)\n",
    "print(f'Test Set Mean Absolute Error: {mae_test_1}')\n",
    "# Mean squared error for test data baseline guess.\n",
    "mse_test_1 = mean_squared_error(y1_test, y_pred_test)\n",
    "print(f'Test Set Mean Squared Error: {mse_test_1}')\n",
    "rmse_test_1 = sqrt(mse_test_1) # <- will compute the root mean square error\n",
    "print(f'Test Set Root Mean Square Error: {rmse_test_1}')\n",
    "# R-squared for test data baseline guess.\n",
    "r2_test_1 = r2_score(y1_test, y_pred_test)\n",
    "print(f'Test Set R2: {r2_test_1}')"
   ]
  },
  {
   "cell_type": "code",
   "execution_count": 28,
   "id": "a27c3f92",
   "metadata": {},
   "outputs": [
    {
     "data": {
      "text/html": [
       "<div>\n",
       "<style scoped>\n",
       "    .dataframe tbody tr th:only-of-type {\n",
       "        vertical-align: middle;\n",
       "    }\n",
       "\n",
       "    .dataframe tbody tr th {\n",
       "        vertical-align: top;\n",
       "    }\n",
       "\n",
       "    .dataframe thead th {\n",
       "        text-align: right;\n",
       "    }\n",
       "</style>\n",
       "<table border=\"1\" class=\"dataframe\">\n",
       "  <thead>\n",
       "    <tr style=\"text-align: right;\">\n",
       "      <th></th>\n",
       "      <th>Method</th>\n",
       "      <th>Train MAE</th>\n",
       "      <th>Train MSE</th>\n",
       "      <th>Train RMSE</th>\n",
       "      <th>Train R2</th>\n",
       "      <th>Test MAE</th>\n",
       "      <th>Test MSE</th>\n",
       "      <th>Test RMSE</th>\n",
       "      <th>Test R2</th>\n",
       "    </tr>\n",
       "  </thead>\n",
       "  <tbody>\n",
       "    <tr>\n",
       "      <th>0</th>\n",
       "      <td>Baseline</td>\n",
       "      <td>0.074668</td>\n",
       "      <td>0.01516</td>\n",
       "      <td>0.123127</td>\n",
       "      <td>0.0</td>\n",
       "      <td>0.070293</td>\n",
       "      <td>0.013719</td>\n",
       "      <td>0.117129</td>\n",
       "      <td>-0.001102</td>\n",
       "    </tr>\n",
       "  </tbody>\n",
       "</table>\n",
       "</div>"
      ],
      "text/plain": [
       "     Method Train MAE Train MSE Train RMSE Train R2  Test MAE  Test MSE  \\\n",
       "0  Baseline  0.074668   0.01516   0.123127      0.0  0.070293  0.013719   \n",
       "\n",
       "  Test RMSE   Test R2  \n",
       "0  0.117129 -0.001102  "
      ]
     },
     "execution_count": 28,
     "metadata": {},
     "output_type": "execute_result"
    }
   ],
   "source": [
    "prediction_1 = pd.DataFrame(['Baseline', mae_train_1, mse_train_1, rmse_train_1, r2_train_1, mae_test_1, mse_test_1, rmse_test_1, r2_test_1]).T\n",
    "metric_col_names = ['Method', 'Train MAE', 'Train MSE', 'Train RMSE', 'Train R2', 'Test MAE', 'Test MSE','Test RMSE', 'Test R2'] # <- This list will be used over so easier to store in variable.\n",
    "prediction_1.columns = metric_col_names\n",
    "prediction_1"
   ]
  },
  {
   "cell_type": "markdown",
   "id": "8d04ed28",
   "metadata": {},
   "source": [
    "Now to apply the logarithmic and exponential transformations to the variables I chose."
   ]
  },
  {
   "cell_type": "code",
   "execution_count": 29,
   "id": "08951609",
   "metadata": {},
   "outputs": [],
   "source": [
    "X1_train_log = np.log10(X1_train)\n",
    "X1_test_log = np.log10(X1_test)\n",
    "#y1_train_log = np.log(y1_train + 10) # <- Remember to add 10 units to be able apply log transform\n",
    "y1_train_exp = np.exp(y1_train)\n",
    "y1_test_exp = np.exp(y1_test)"
   ]
  },
  {
   "cell_type": "markdown",
   "id": "676a51d2",
   "metadata": {},
   "source": [
    "With the data scaled using aforementioned trasnformations, will now test various k's for best fit. Will run kNN for various values of n_neighbors and store results. This will help me determine optimal 'k'."
   ]
  },
  {
   "cell_type": "code",
   "execution_count": 30,
   "id": "0295f14f",
   "metadata": {},
   "outputs": [
    {
     "name": "stdout",
     "output_type": "stream",
     "text": [
      "     k  Test Score  Train Score\n",
      "0    1   -0.556021     0.994919\n",
      "1    2   -0.029554     0.663853\n",
      "2    3    0.074503     0.539224\n",
      "3    4    0.181977     0.482552\n",
      "4    5    0.204171     0.458069\n",
      "..  ..         ...          ...\n",
      "69  70    0.302505     0.337417\n",
      "70  71    0.303147     0.336881\n",
      "71  72    0.302139     0.336016\n",
      "72  73    0.302179     0.335508\n",
      "73  74    0.304685     0.334581\n",
      "\n",
      "[74 rows x 3 columns]\n",
      "The highest Test R-squared value occurs at : 0.3047\n",
      "Within given range, optimal k is:  74\n"
     ]
    }
   ],
   "source": [
    "# kNN R-squared accuracy for 1st kNN model\n",
    "knn_r_acc_1 = []\n",
    "for i1 in range(1, 75, 1):\n",
    "    knn = KNeighborsRegressor(n_neighbors = i1)\n",
    "    knn.fit(X1_train_log.reshape(-1, 1), y1_train_exp.reshape(-1, 1))\n",
    "    test_score_1 = knn.score(X1_test_log.reshape(-1, 1), y1_test_exp.reshape(-1, 1))\n",
    "    train_score_1 = knn.score(X1_train_log.reshape(-1, 1), y1_train_exp.reshape(-1, 1))\n",
    "    knn_r_acc_1.append((i1, test_score_1, train_score_1))\n",
    "outcomes_1 = pd.DataFrame(knn_r_acc_1, columns = ['k', 'Test Score', 'Train Score'])\n",
    "print(outcomes_1)\n",
    "print('The highest Test R-squared value occurs at : %.4f' % outcomes_1.iloc[:,1].max())\n",
    "print('Within given range, optimal k is: ', outcomes_1.loc[outcomes_1['Test Score'] == outcomes_1.iloc[:,1].max(), 'k'].iloc[0])"
   ]
  },
  {
   "cell_type": "markdown",
   "id": "8417e4f7",
   "metadata": {},
   "source": [
    "Bootstrap confidence interval to get estimate on RMSE for various models."
   ]
  },
  {
   "cell_type": "code",
   "execution_count": 31,
   "id": "46f86b5e",
   "metadata": {},
   "outputs": [],
   "source": [
    "def ci_bootstrap(df, model):\n",
    "    # set up data\n",
    "    values = df.values\n",
    "    # configure bootstrap\n",
    "    n_iters = 1000\n",
    "    n_size = 500\n",
    "    metrics = []\n",
    "    # for loop\n",
    "    for index in range(n_iters):\n",
    "        # prep training and testing sets\n",
    "        train = resample(values, n_samples = n_size)\n",
    "        test = np.array([i for i in values if i.tolist() not in train.tolist()])\n",
    "        # Fit model\n",
    "        model.fit(train[:,:-1], train[:,-1])\n",
    "        # Evaluate model\n",
    "        predictions = model.predict(test[:,:-1])\n",
    "        score = np.sqrt(mean_squared_error(test[:,-1], predictions))\n",
    "        #print(score)\n",
    "        metrics.append(score)\n",
    "    metrics = pd.Series(metrics)\n",
    "    return metrics"
   ]
  },
  {
   "cell_type": "code",
   "execution_count": null,
   "id": "fb417b45",
   "metadata": {},
   "outputs": [],
   "source": [
    "# Save this spot for the bootstrap confidence interval\n",
    "start_time_1 = time.time()\n",
    "\n",
    "df2 = pd.concat([np.log10(orbper), eccen], axis=1)\n",
    "metrics1_1 = ci_bootstrap(df2, KNeighborsRegressor(n_neighbors = 64))\n",
    "\n",
    "# Plotting Logic\n",
    "fig1_2, ax1_2 = plt.subplots(3,1,figsize = (11, 12))\n",
    "#fig1_2.suptitle('Bootstrap Performance Metrics - Case 1')\n",
    "\n",
    "# Confidence Interval\n",
    "confidence_interval1_1 = list(metrics1_1.quantile([0.025, 0.975]))\n",
    "\n",
    "ax1_2[0].hist(metrics1_1, color='#4db32e', edgecolor = \"red\")\n",
    "ax1_2[0].plot(confidence_interval1_1, [190, 190], color='black')\n",
    "for x1 in confidence_interval1_1:\n",
    "    ax1_2[0].plot([x1, x1], [0, 200], color='black')\n",
    "    ax1_2[0].text(x1, 210, f'{x1:.4f}', \n",
    "            horizontalalignment='center', verticalalignment='center')\n",
    "ax1_2[0].text(sum(confidence_interval1_1) / 2, 60, '95% interval',\n",
    "        horizontalalignment='center', verticalalignment='center')\n",
    "\n",
    "mean_knn_model_1 = metrics1_1.mean()\n",
    "ax1_2[0].plot([mean_knn_model_1, mean_knn_model_1], [0, 195], color='black', linestyle='--')\n",
    "ax1_2[0].text(mean_knn_model_1, 225, f'Mean: {mean_knn_model_1:.4f}',\n",
    "        bbox=dict(facecolor='white', edgecolor='white', alpha=0.5),\n",
    "        horizontalalignment='center', verticalalignment='center')\n",
    "ax1_2[0].set_title('kNN Model 1')\n",
    "\n",
    "# Now for the SVR model\n",
    "eps_1 = 8 #<- hyperparameters used throughout the script\n",
    "hyperparam1 = 1000 #<- hyperparameters used throughout the script\n",
    "metrics1_2 = ci_bootstrap(df2, SVR(kernel = 'rbf', C = hyperparam1, epsilon = eps_1))\n",
    "confidence_interval1_2 = list(metrics1_2.quantile([0.025, 0.975]))\n",
    "\n",
    "ax1_2[1].hist(metrics1_2, color='#7961c9', edgecolor = \"white\")\n",
    "ax1_2[1].plot(confidence_interval1_2, [190, 190], color='black')\n",
    "for x1 in confidence_interval1_2:\n",
    "    ax1_2[1].plot([x1, x1], [0, 200], color='black')\n",
    "    ax1_2[1].text(x1, 210, f'{x1:.4f}', \n",
    "            horizontalalignment='center', verticalalignment='center')\n",
    "ax1_2[1].text(sum(confidence_interval1_2) / 2, 60, '95% interval',\n",
    "        horizontalalignment='center', verticalalignment='center')\n",
    "\n",
    "mean_svr_model_1 = metrics1_2.mean()\n",
    "ax1_2[1].plot([mean_svr_model_1, mean_svr_model_1], [0, 195], color='black', linestyle='--')\n",
    "ax1_2[1].text(mean_svr_model_1, 225, f'Mean: {mean_svr_model_1:.4f}',\n",
    "        bbox=dict(facecolor='white', edgecolor='white', alpha=0.5),\n",
    "        horizontalalignment='center', verticalalignment='center')\n",
    "ax1_2[1].set_title('SVR Model 1')\n",
    "\n",
    "# Now for the Random Forest model\n",
    "metrics1_3 = ci_bootstrap(df2, RandomForestRegressor(max_depth=2))\n",
    "confidence_interval1_3 = list(metrics1_3.quantile([0.025, 0.975]))\n",
    "\n",
    "ax1_2[2].hist(metrics1_3, color='#03dffc', edgecolor = \"black\")\n",
    "ax1_2[2].plot(confidence_interval1_3, [190, 190], color='black')\n",
    "for x1 in confidence_interval1_3:\n",
    "    ax1_2[2].plot([x1, x1], [0, 200], color='black')\n",
    "    ax1_2[2].text(x1, 210, f'{x1:.4f}', \n",
    "            horizontalalignment='center', verticalalignment='center')\n",
    "ax1_2[2].text(sum(confidence_interval1_3) / 2, 60, '95% interval',\n",
    "        horizontalalignment='center', verticalalignment='center')\n",
    "\n",
    "mean_rf_model_1 = metrics1_3.mean()\n",
    "ax1_2[2].plot([mean_rf_model_1, mean_rf_model_1], [0, 195], color='black', linestyle='--')\n",
    "ax1_2[2].text(mean_rf_model_1, 225, f'Mean: {mean_rf_model_1:.4f}',\n",
    "      bbox=dict(facecolor='white', edgecolor='white', alpha=0.5),\n",
    "       horizontalalignment='center', verticalalignment='center')\n",
    "ax1_2[2].set_title('RF Model 1')\n",
    "\n",
    "for ax in ax1_2.flat:\n",
    "    ax.set(ylabel = 'Counts')\n",
    "    #ax.set(xlabel = 'RMSE eccentricity (unitless)')\n",
    "    \n",
    "plt.savefig('bootstrap_rmse_1.png')\n",
    "\n",
    "execution_time_1 = (time.time() - start_time_1)\n",
    "print('Execution time in minutes: ' + str(execution_time_1/60))"
   ]
  },
  {
   "cell_type": "code",
   "execution_count": null,
   "id": "38d2b935",
   "metadata": {},
   "outputs": [],
   "source": [
    "metrics1_1.mean()\n",
    "len(metrics1_1)"
   ]
  },
  {
   "cell_type": "code",
   "execution_count": null,
   "id": "3ced09d5",
   "metadata": {},
   "outputs": [],
   "source": [
    "knn_model_1 = KNeighborsRegressor(n_neighbors = 74)\n",
    "knn_model_1.fit(X1_train_log, y1_train)\n",
    "y_knn_train_pred_log_1 = knn_model_1.predict(X1_train_log)\n",
    "y_knn_test_pred_log_1 = knn_model_1.predict(X1_test_log)"
   ]
  },
  {
   "cell_type": "code",
   "execution_count": null,
   "id": "1afdfe92",
   "metadata": {},
   "outputs": [],
   "source": [
    "# Following line to remind myself that values between 0 - 1 will produce negative value in log.\n",
    "np.log(0.055550)"
   ]
  },
  {
   "cell_type": "code",
   "execution_count": null,
   "id": "2e9c3b8c",
   "metadata": {},
   "outputs": [],
   "source": [
    "# Following logic \n",
    "#y_knn_train_pred_1 = np.exp(y_knn_train_pred_log_1)\n",
    "#y_knn_train_pred_1 = np.power(y_knn_train_pred_log_1, 10)\n",
    "y_knn_train_pred_1 = y_knn_train_pred_log_1\n",
    "#y_knn_test_pred_1 = np.log(y_knn_test_pred_log_1) \n",
    "#y_knn_test_pred_1 = np.power(y_knn_test_pred_log_1, 10)\n",
    "y_knn_test_pred_1 = y_knn_test_pred_log_1\n",
    "#y_knn_test_pred_1 = np.exp(y_knn_test_pred_log_1) "
   ]
  },
  {
   "cell_type": "markdown",
   "id": "1c5152da",
   "metadata": {},
   "source": [
    "Trying to avoid data leakage when going from transform to inverse."
   ]
  },
  {
   "cell_type": "code",
   "execution_count": null,
   "id": "5c79b44f",
   "metadata": {},
   "outputs": [],
   "source": [
    "# First the training metrics.\n",
    "knn1_train_mae = mean_absolute_error(y1_train, y_knn_train_pred_1)\n",
    "knn1_train_mse = mean_squared_error(y1_train, y_knn_train_pred_1)\n",
    "knn1_train_rmse = sqrt(knn1_train_mse) # <- will compute the root mean square error\n",
    "knn1_train_r2 = r2_score(y1_train, y_knn_train_pred_1)\n",
    "# Now, test set metrics.\n",
    "knn1_test_mae = mean_absolute_error(y1_test, y_knn_test_pred_1)\n",
    "knn1_test_mse = mean_squared_error(y1_test, y_knn_test_pred_1)\n",
    "knn1_test_rmse = sqrt(knn1_test_mse)\n",
    "knn1_test_r2 = r2_score(y1_test, y_knn_test_pred_1)\n",
    "# Consolidate the results.\n",
    "knn_results_1 = pd.DataFrame(['k Nearest Neighbor', knn1_train_mae, knn1_train_mse, knn1_train_rmse, knn1_train_r2, knn1_test_mae, knn1_test_mse, knn1_test_rmse, knn1_test_r2]).transpose()\n",
    "knn_results_1.columns = metric_col_names\n",
    "knn_results_1"
   ]
  },
  {
   "cell_type": "markdown",
   "id": "c3b240ba",
   "metadata": {},
   "source": [
    "#### SVR regressor model."
   ]
  },
  {
   "cell_type": "code",
   "execution_count": null,
   "id": "dc9b9436",
   "metadata": {},
   "outputs": [],
   "source": [
    "eps_1 = 8\n",
    "hyperparam1 = 1000\n",
    "svr_model_1 = SVR(kernel = 'rbf', C = hyperparam1, epsilon = eps_1)\n",
    "svr_model_1.fit(X1_train_log, y1_train)\n",
    "y_svr_train_pred_1 = svr_model_1.predict(X1_train_log)\n",
    "y_svr_test_pred_1 = svr_model_1.predict(X1_test_log)\n",
    "# Model performance - training set\n",
    "svr1_train_mae = mean_absolute_error(y1_train, y_svr_train_pred_1)\n",
    "svr1_train_mse = mean_squared_error(y1_train, y_svr_train_pred_1)\n",
    "svr1_train_rmse = sqrt(svr1_train_mse)\n",
    "svr1_train_r2 = r2_score(y1_train, y_svr_train_pred_1)\n",
    "# Test results\n",
    "svr1_test_mae = mean_absolute_error(y1_test, y_svr_test_pred_1)\n",
    "svr1_test_mse = mean_squared_error(y1_test, y_svr_test_pred_1)\n",
    "svr1_test_rmse = sqrt(svr1_test_mse)\n",
    "svr1_test_r2 = r2_score(X1_test, y_svr_test_pred_1)\n",
    "# Consolidate the results.\n",
    "svr_results_1 = pd.DataFrame(['SVR', svr1_train_mae, svr1_train_mse, svr1_train_rmse, svr1_train_r2, svr1_test_mae, svr1_test_mse, svr1_test_rmse, svr1_test_r2]).T\n",
    "svr_results_1.columns = metric_col_names\n",
    "svr_results_1"
   ]
  },
  {
   "cell_type": "markdown",
   "id": "5a8fbaad",
   "metadata": {},
   "source": [
    "Now want to model using the Random Forest Regressor."
   ]
  },
  {
   "cell_type": "code",
   "execution_count": null,
   "id": "a3b55bd0",
   "metadata": {},
   "outputs": [],
   "source": [
    "rf_1 = RandomForestRegressor(max_depth=2)\n",
    "#rf_1.fit(X1_train_log.reshape(-1, 1), y1_train.reshape(-1, 1))\n",
    "rf_1.fit(X1_train_log, y1_train)\n",
    "#y_rf_train_pred_1 = rf_1.predict(X1_train_log.reshape(-1, 1))\n",
    "y_rf_train_pred_1 = rf_1.predict(X1_train_log)\n",
    "#y_rf_test_pred_1 = rf_1.predict(X1_test_log.reshape(-1, 1))\n",
    "y_rf_test_pred_1 = rf_1.predict(X1_test_log)\n",
    "rf_1"
   ]
  },
  {
   "cell_type": "code",
   "execution_count": null,
   "id": "8e8f650d",
   "metadata": {},
   "outputs": [],
   "source": [
    "# Model performance metrics for random forest model.\n",
    "rf1_train_mae = mean_absolute_error(y1_train, y_rf_train_pred_1)\n",
    "rf1_train_mse = mean_squared_error(y1_train, y_rf_train_pred_1)\n",
    "rf1_train_rmse = sqrt(rf1_train_mse)\n",
    "rf1_train_r2 = r2_score(y1_train, y_rf_train_pred_1)\n",
    "# The following are the test metrics.\n",
    "rf1_test_mae = mean_absolute_error(y1_test, y_rf_test_pred_1)\n",
    "rf1_test_mse = mean_squared_error(y1_test, y_rf_test_pred_1)\n",
    "rf1_test_rmse = sqrt(rf1_test_mse)\n",
    "rf1_test_r2 = r2_score(y1_test, y_rf_test_pred_1)"
   ]
  },
  {
   "cell_type": "code",
   "execution_count": null,
   "id": "b568ecc0",
   "metadata": {},
   "outputs": [],
   "source": [
    "rf1_results = pd.DataFrame(['Random Forest', rf1_train_mae, rf1_train_mse, rf1_train_rmse, rf1_train_r2, rf1_test_mae, rf1_test_mse, rf1_test_rmse, rf1_test_r2]).transpose()\n",
    "rf1_results.columns = metric_col_names\n",
    "rf1_results"
   ]
  },
  {
   "cell_type": "markdown",
   "id": "b420ee69",
   "metadata": {},
   "source": [
    "Want to add all the results to a single table."
   ]
  },
  {
   "cell_type": "code",
   "execution_count": null,
   "id": "ecb00187",
   "metadata": {},
   "outputs": [],
   "source": [
    "results_1 = pd.concat([prediction_1, knn_results_1, svr_results_1, rf1_results], axis = 0, ignore_index = True)\n",
    "results_1 "
   ]
  },
  {
   "cell_type": "markdown",
   "id": "772737cc",
   "metadata": {},
   "source": [
    "### Bootstrap Confidence Intervals"
   ]
  },
  {
   "cell_type": "markdown",
   "id": "7abb9fe0",
   "metadata": {},
   "source": [
    "For this section, want to develop logic to use bootstrap method to configure confidence interval."
   ]
  },
  {
   "cell_type": "code",
   "execution_count": null,
   "id": "039178fc",
   "metadata": {},
   "outputs": [],
   "source": [
    "df2_log = pd.concat([np.log10(orbper), eccen], axis = 1)\n",
    "df2_log"
   ]
  },
  {
   "cell_type": "code",
   "execution_count": null,
   "id": "b14a7c47",
   "metadata": {},
   "outputs": [],
   "source": [
    "df2_log.values"
   ]
  },
  {
   "cell_type": "code",
   "execution_count": null,
   "id": "c7c4937a",
   "metadata": {},
   "outputs": [],
   "source": [
    "type(df2_log)"
   ]
  },
  {
   "cell_type": "code",
   "execution_count": null,
   "id": "ff5bbc31",
   "metadata": {},
   "outputs": [],
   "source": [
    "#plt.hist(a1, color = '#4db32e', edgecolor = 'red') #<- Good color scheme\n",
    "#plt.hist(a2, color = '#ad6dcf', edgecolor = 'white')"
   ]
  },
  {
   "cell_type": "markdown",
   "id": "cd9db801",
   "metadata": {},
   "source": [
    "### Plotting Case 1"
   ]
  },
  {
   "cell_type": "markdown",
   "id": "e0c5fbaa",
   "metadata": {},
   "source": [
    "Want to make a quick calculation of the residuals in this prediction and actual values evaluation."
   ]
  },
  {
   "cell_type": "code",
   "execution_count": null,
   "id": "c77bd18f",
   "metadata": {
    "scrolled": true
   },
   "outputs": [],
   "source": [
    "true_values_1 = y1_test\n",
    "predicted_values1_1 = y_knn_test_pred_1\n",
    "predicted_values1_2 = y_svr_test_pred_1\n",
    "predicted_values1_3 = y_rf_test_pred_1\n",
    "plt.figure(figsize = (10, 10))\n",
    "# kNN model\n",
    "knn_1 = plt.scatter(x = true_values_1, y = predicted_values1_1, c = '#68d631')\n",
    "# SVR model\n",
    "svr_1 = plt.scatter(x = true_values_1, y = predicted_values1_2, c = '#2a7505', marker = 's')\n",
    "# Random Forest model\n",
    "rf_1 = plt.scatter(x = true_values_1, y = predicted_values1_3, c = '#addb95', marker = 'x')\n",
    "p1 = max(max(predicted_values1_1), max(predicted_values1_2), max(predicted_values1_3), max(true_values_1))\n",
    "p2 = min(min(predicted_values1_1), min(predicted_values1_2), min(predicted_values1_3), min(true_values_1))\n",
    "plt.plot([p1, p2], [p1, p2], 'b-')\n",
    "plt.title('Prediction and Actual Values')\n",
    "plt.xlabel('Actual Eccentricity Values')\n",
    "plt.ylabel('Predicted Eccentricity Values')\n",
    "plt.legend([knn_1, svr_1, rf_1], ['kNN', 'SVR', 'RF'], loc = 'upper left')\n",
    "plt.savefig('pred_vs_actual_1.png')\n",
    "plt.show()"
   ]
  },
  {
   "cell_type": "markdown",
   "id": "88d1100d",
   "metadata": {},
   "source": [
    "Want to plot the residuals and see if there are any obvious patterns. Another name is the Versus Fit."
   ]
  },
  {
   "cell_type": "code",
   "execution_count": null,
   "id": "3e2e861b",
   "metadata": {},
   "outputs": [],
   "source": [
    "import time\n",
    "start_time_0 = time.time()"
   ]
  },
  {
   "cell_type": "code",
   "execution_count": null,
   "id": "bead98c7",
   "metadata": {},
   "outputs": [],
   "source": [
    "# Will invoke for loop to calculate residulas for the three different models.\n",
    "residuals1_1 = list()\n",
    "for item1, item2 in zip(true_values_1, predicted_values1_1):\n",
    "    residuals1_1.append(item1 - item2)\n",
    "residuals1_2 = list()\n",
    "for item3, item4 in zip(true_values_1, predicted_values1_2):\n",
    "    residuals1_2.append(item3 - item4)\n",
    "residuals1_3 = list()\n",
    "for item5, item6 in zip(true_values_1, predicted_values1_3):\n",
    "    residuals1_3.append(item5 - item6)\n",
    "\n",
    "plt.figure(figsize = (9, 9))\n",
    "# kNN model\n",
    "knn_resid_1 = plt.scatter(x = predicted_values1_1, y = residuals1_1, c = '#cd30f0')\n",
    "# SVR model\n",
    "svr_resid_1 = plt.scatter(x = predicted_values1_2, y = residuals1_2, c = '#b391ba', marker = 's')\n",
    "# Random Forest model\n",
    "rf_resid_1 = plt.scatter(x = predicted_values1_3, y = residuals1_3, c = '#e2c8e8', marker = 'x')\n",
    "\n",
    "plt.title('Residuals versus Fitted values')\n",
    "plt.xlabel('Fitted Values') # <- Predicted Values\n",
    "plt.ylabel('Residuals')\n",
    "plt.legend([knn_resid_1, svr_resid_1, rf_resid_1], ['kNN', 'SVR', 'RF'], loc = 'upper right')\n",
    "plt.axhline(y = 0.0, color = '#034b8a', linestyle = '--')\n",
    "plt.savefig('resid_1.png')\n",
    "plt.show()"
   ]
  },
  {
   "cell_type": "markdown",
   "id": "545cec03",
   "metadata": {},
   "source": [
    "There is an obvious pattern in the residuals plot."
   ]
  },
  {
   "cell_type": "code",
   "execution_count": null,
   "id": "8e764694",
   "metadata": {},
   "outputs": [],
   "source": [
    "plt.hist(residuals1_2, color = \"teal\", edgecolor = 'white')"
   ]
  },
  {
   "cell_type": "markdown",
   "id": "0e1229bb",
   "metadata": {},
   "source": [
    "### Scenario 2 - temperature as function of planet mass"
   ]
  },
  {
   "cell_type": "markdown",
   "id": "b0cab8bf",
   "metadata": {},
   "source": [
    "Now want to begin analysis of equilibrium temperature as a function of planet size."
   ]
  },
  {
   "cell_type": "code",
   "execution_count": null,
   "id": "bce53db2",
   "metadata": {},
   "outputs": [],
   "source": [
    "df3 = raw_data.loc[:, ['pl_name','pl_bmassj','pl_eqt']]\n",
    "df3"
   ]
  },
  {
   "cell_type": "code",
   "execution_count": null,
   "id": "62731378",
   "metadata": {},
   "outputs": [],
   "source": [
    "df3 = df3.rename(columns={'pl_name':'planetname', 'pl_bmassj':'mass', 'pl_eqt':'temperature'})\n",
    "#df3 = df3.dropna()\n",
    "df3 = df3.fillna(df3.median(numeric_only=True))\n",
    "df3"
   ]
  },
  {
   "cell_type": "code",
   "execution_count": null,
   "id": "ee846bfa",
   "metadata": {},
   "outputs": [],
   "source": [
    "mass = df3.groupby('planetname')['mass'].mean()\n",
    "temp = df3.groupby('planetname')['temperature'].mean()"
   ]
  },
  {
   "cell_type": "code",
   "execution_count": null,
   "id": "0b93c66a",
   "metadata": {},
   "outputs": [],
   "source": [
    "print(mass)\n",
    "print(temp)"
   ]
  },
  {
   "cell_type": "markdown",
   "id": "711a7b7c",
   "metadata": {},
   "source": [
    "Want some summary statistics for the new two variables."
   ]
  },
  {
   "cell_type": "code",
   "execution_count": null,
   "id": "74ac9137",
   "metadata": {},
   "outputs": [],
   "source": [
    "mass_med = statistics.median(list(mass))\n",
    "temp_med = statistics.median(list(temp))\n",
    "print('\\nThe median mass: %.4f' % mass_med)\n",
    "print('\\nThe median temperature: %.2f' % temp_med)\n",
    "iqr_mass = stats.iqr(mass, interpolation = 'midpoint')\n",
    "iqr_temp = stats.iqr(temp, interpolation = 'midpoint')\n",
    "print('\\nThe interquartile range of the mass: %.2f' % iqr_mass)\n",
    "print('\\nThe interquartile range of the temperature: %.2f' % iqr_temp)\n",
    "mass_mode = statistics.mode(list(mass))\n",
    "print('\\nThe mode for the mass: %.2f' % mass_mode)\n",
    "temp_mode = statistics.mode(list(temp))\n",
    "print('\\nThe mode for the temperature: %.2f' % temp_mode)\n",
    "mass_avg = statistics.mean(list(mass))\n",
    "print('\\nThe mean for the mass: %.2f' % mass_avg)\n",
    "temp_avg = statistics.mean(list(temp))\n",
    "print('\\nThe mean for the planetary temperature: %.2f' % temp_avg)"
   ]
  },
  {
   "cell_type": "code",
   "execution_count": null,
   "id": "c94e288e",
   "metadata": {},
   "outputs": [],
   "source": [
    "# First, perform log base 10 transform\n",
    "mass_log = np.log10(mass)\n",
    "temp_log = np.log10(temp)\n",
    "# Plotting Logic\n",
    "fig2, ax2 = plt.subplots(2, 2,figsize = (12, 12))\n",
    "fig2.suptitle('Histograms - Case 2')\n",
    "ax2[0, 0].hist(mass, color = 'blueviolet', edgecolor = 'white')\n",
    "#ax2[0, 0].set_title('') #<- use this logic to give each plot its own title.\n",
    "ax2[0, 0].set(xlabel = 'planet mass (Jupiter mass)')\n",
    "ax2[0, 1].hist(mass_log, color = 'blueviolet', edgecolor = 'red')\n",
    "ax2[0, 1].set(xlabel = 'log10(planet mass)')\n",
    "ax2[1, 0].hist(temp, color = 'teal', edgecolor = 'white')\n",
    "ax2[1, 0].set(xlabel = 'equilibrium temperature')\n",
    "ax2[1, 1].hist(temp_log, color = 'teal', edgecolor = 'red')\n",
    "ax2[1, 1].set(xlabel = 'log10(equilibrium temperature)')\n",
    "\n",
    "for ax in ax1.flat:\n",
    "    ax.set(ylabel = 'Frequency')\n",
    "plt.savefig('histograms_2.png')\n",
    "fig1.tight_layout()"
   ]
  },
  {
   "cell_type": "markdown",
   "id": "a333a3b2",
   "metadata": {},
   "source": [
    "The distribution became more normally distributed when applying the log base 10 transformation on the dataset."
   ]
  },
  {
   "cell_type": "markdown",
   "id": "5d8a8e61",
   "metadata": {},
   "source": [
    "In this case, the dataset became skew left when the logarithmic transformation was applied."
   ]
  },
  {
   "cell_type": "markdown",
   "id": "4b11675d",
   "metadata": {},
   "source": [
    "Will now split the data into their respective sets."
   ]
  },
  {
   "cell_type": "code",
   "execution_count": null,
   "id": "80bd8c4a",
   "metadata": {},
   "outputs": [],
   "source": [
    "X2 = np.array(mass_log).reshape(-1,1)\n",
    "y2 = np.array(temp_log).reshape(-1, 1)\n",
    "X2_train, X2_test, y2_train, y2_test = train_test_split(X2, y2, train_size = 0.80, random_state = 25)\n",
    "y2_train = y2_train.reshape(len(y2_train), )\n",
    "y2_test = y2_test.reshape(len(y2_test), )"
   ]
  },
  {
   "cell_type": "code",
   "execution_count": null,
   "id": "52676ed3",
   "metadata": {},
   "outputs": [],
   "source": [
    "# Sample timing logic to track seconds to complete the script.\n",
    "#execution_time_0 = (time.time() - start_time_0)\n",
    "#print('Execution time in seconds: ' + str(execution_time_0))"
   ]
  },
  {
   "cell_type": "code",
   "execution_count": null,
   "id": "e696a204",
   "metadata": {},
   "outputs": [],
   "source": [
    "# Establishing baselines for predictions according to the y-variable or response variable.\n",
    "y_baseline_2= y2_train.mean()\n",
    "#y_baseline_2= statistics.median(y2_train)\n",
    "y_pred_train_2 = [y_baseline_2]*len(y2_train) #<- Training Baseline\n",
    "y_pred_test_2 = [y_baseline_2]*len(y2_test)"
   ]
  },
  {
   "cell_type": "code",
   "execution_count": null,
   "id": "0ba770a9",
   "metadata": {},
   "outputs": [],
   "source": [
    "# Following is for the Training Dataset.\n",
    "# Error for training data baseline guess.\n",
    "mae_train_2 = mean_absolute_error(y2_train, y_pred_train_2)\n",
    "# Mean squared error for training data baseline guess.\n",
    "mse_train_2 = mean_squared_error(y2_train, y_pred_train_2)\n",
    "rmse_train_2 = sqrt(mse_train_2) # <- will compute the root mean square error\n",
    "# R-squared for training data baseline guess.\n",
    "y2_train_r2 = r2_score(y2_train, y_pred_train_2)"
   ]
  },
  {
   "cell_type": "code",
   "execution_count": null,
   "id": "ea7d0ccf",
   "metadata": {},
   "outputs": [],
   "source": [
    "# Error for test data baseline guess.\n",
    "mae_test_2 = mean_absolute_error(y2_test, y_pred_test_2)\n",
    "# Mean squared error for test data baseline guess.\n",
    "mse_test_2 = mean_squared_error(y2_test, y_pred_test_2)\n",
    "# Test Root Mean Square Error\n",
    "rmse_test_2 = sqrt(mse_test_2)\n",
    "# R-squared for test data baseline guess.\n",
    "y2_test_r2 = r2_score(y2_test, y_pred_test_2)"
   ]
  },
  {
   "cell_type": "code",
   "execution_count": null,
   "id": "4e246f28",
   "metadata": {},
   "outputs": [],
   "source": [
    "baseline_2 = pd.DataFrame(['Baseline', mae_train_2, mse_train_2, rmse_train_2, y2_train_r2, mae_test_2, mse_test_2, rmse_test_2, y2_test_r2]).T\n",
    "baseline_2.columns = metric_col_names\n",
    "baseline_2"
   ]
  },
  {
   "cell_type": "markdown",
   "id": "ebcbbf0b",
   "metadata": {},
   "source": [
    "Recall that the response variable (y) in this case is the mass of the planet (in Jupiter masses) which needs the log base 10 transform."
   ]
  },
  {
   "cell_type": "code",
   "execution_count": null,
   "id": "4d5b87c5",
   "metadata": {},
   "outputs": [],
   "source": [
    "X2_train_log, X2_test_log = np.log10(X2_train), np.log10(X2_test)\n",
    "y2_train_log = np.log10(y2_train)"
   ]
  },
  {
   "cell_type": "code",
   "execution_count": null,
   "id": "74a97ace",
   "metadata": {
    "scrolled": true
   },
   "outputs": [],
   "source": [
    "# kNN R-squared accuracy\n",
    "knn_r_acc_2 = []\n",
    "for j in range(1, 75, 1):\n",
    "    knn_2 = KNeighborsRegressor(n_neighbors = j)\n",
    "    knn_2.fit(X2_train_log.reshape(-1, 1), y2_train_log.reshape(-1, 1))\n",
    "    test_score_2 = knn_2.score(X2_test_log.reshape(-1, 1), np.log10(y2_test))\n",
    "    train_score_2 = knn_2.score(X2_train_log.reshape(-1, 1), y2_train_log.reshape(-1, 1))\n",
    "    knn_r_acc_2.append((j, test_score_2, train_score_2))\n",
    "outcomes_2 = pd.DataFrame(knn_r_acc_2, columns = ['k', 'Test Score', 'Train Score'])\n",
    "print(outcomes_2)\n",
    "print('The highest Test R-squared value occurs at : %.4f' % outcomes_2.iloc[:,1].max())\n",
    "print('Within given range, optimal k is: ', outcomes_2.loc[outcomes_2['Test Score'] == outcomes_2.iloc[:,1].max(), 'k'].iloc[0])"
   ]
  },
  {
   "cell_type": "code",
   "execution_count": null,
   "id": "66794354",
   "metadata": {},
   "outputs": [],
   "source": [
    "start_time_2 = time.time()\n",
    "\n",
    "df3 = pd.concat([mass_log, temp_log], axis=1)\n",
    "metrics2_1 = ci_bootstrap(df3, KNeighborsRegressor(n_neighbors = 35))\n",
    "\n",
    "# Plotting Logic\n",
    "fig2_2, ax2_2 = plt.subplots(3,1,figsize = (11, 12))\n",
    "#fig1_2.suptitle('Bootstrap Performance Metrics - Case 1')\n",
    "\n",
    "# Confidence Interval\n",
    "confidence_interval2_1 = list(metrics2_1.quantile([0.025, 0.975]))\n",
    "\n",
    "ax2_2[0].hist(metrics2_1, color='#4db32e', edgecolor = \"red\")\n",
    "ax2_2[0].plot(confidence_interval2_1, [190, 190], color='black')\n",
    "for x2 in confidence_interval2_1:\n",
    "    ax2_2[0].plot([x2, x2], [0, 200], color='black')\n",
    "    ax2_2[0].text(x2, 210, f'{x2:.4f}', \n",
    "            horizontalalignment='center', verticalalignment='center')\n",
    "ax2_2[0].text(sum(confidence_interval2_1) / 2, 60, '95% interval',\n",
    "        horizontalalignment='center', verticalalignment='center')\n",
    "\n",
    "mean_knn_model_2 = metrics2_1.mean()\n",
    "ax2_2[0].plot([mean_knn_model_2, mean_knn_model_2], [0, 195], color='black', linestyle='--')\n",
    "ax2_2[0].text(mean_knn_model_2, 225, f'Mean: {mean_knn_model_2:.4f}',\n",
    "        bbox=dict(facecolor='white', edgecolor='white', alpha=0.5),\n",
    "        horizontalalignment='center', verticalalignment='center')\n",
    "ax2_2[0].set_title('kNN Model 2')\n",
    "\n",
    "# Now for the SVR model\n",
    "eps_2 = 8 #<- hyperparameters used throughout the script\n",
    "hyperparam2 = 1000 #<- hyperparameters used throughout the script\n",
    "metrics2_2 = ci_bootstrap(df3, SVR(kernel = 'rbf', C = hyperparam2, epsilon = eps_2))\n",
    "confidence_interval2_2 = list(metrics2_2.quantile([0.025, 0.975]))\n",
    "\n",
    "ax2_2[1].hist(metrics2_2, color='#7961c9', edgecolor = \"white\")\n",
    "ax2_2[1].plot(confidence_interval2_2, [190, 190], color='black')\n",
    "for x2 in confidence_interval2_2:\n",
    "    ax2_2[1].plot([x2, x2], [0, 200], color='black')\n",
    "    ax2_2[1].text(x2, 210, f'{x2:.4f}', \n",
    "            horizontalalignment='center', verticalalignment='center')\n",
    "ax2_2[1].text(sum(confidence_interval2_2) / 2, 60, '95% interval',\n",
    "        horizontalalignment='center', verticalalignment='center')\n",
    "\n",
    "mean_svr_model_2 = metrics2_2.mean()\n",
    "ax2_2[1].plot([mean_svr_model_2, mean_svr_model_2], [0, 195], color='black', linestyle='--')\n",
    "ax2_2[1].text(mean_svr_model_2, 225, f'Mean: {mean_svr_model_2:.4f}',\n",
    "        bbox=dict(facecolor='white', edgecolor='white', alpha=0.5),\n",
    "        horizontalalignment='center', verticalalignment='center')\n",
    "ax2_2[1].set_title('SVR Model 2')\n",
    "\n",
    "# Now for the Random Forest model\n",
    "metrics2_3 = ci_bootstrap(df3, RandomForestRegressor(max_depth=2))\n",
    "confidence_interval2_3 = list(metrics2_3.quantile([0.025, 0.975]))\n",
    "\n",
    "ax2_2[2].hist(metrics2_3, color='#03dffc', edgecolor = \"black\")\n",
    "ax2_2[2].plot(confidence_interval2_3, [190, 190], color='black')\n",
    "for x2 in confidence_interval2_3:\n",
    "    ax2_2[2].plot([x2, x2], [0, 200], color='black')\n",
    "    ax2_2[2].text(x2, 210, f'{x2:.4f}', \n",
    "            horizontalalignment='center', verticalalignment='center')\n",
    "ax2_2[2].text(sum(confidence_interval2_3) / 2, 60, '95% interval',\n",
    "        horizontalalignment='center', verticalalignment='center')\n",
    "\n",
    "mean_rf_model_2 = metrics2_3.mean()\n",
    "ax2_2[2].plot([mean_rf_model_2, mean_rf_model_2], [0, 195], color='black', linestyle='--')\n",
    "ax2_2[2].text(mean_rf_model_2, 225, f'Mean: {mean_rf_model_2:.4f}',\n",
    "      bbox=dict(facecolor='white', edgecolor='white', alpha=0.5),\n",
    "       horizontalalignment='center', verticalalignment='center')\n",
    "ax2_2[2].set_title('RF Model 2')\n",
    "\n",
    "for ax in ax2_2.flat:\n",
    "    ax.set(ylabel = 'Counts')\n",
    "    #ax.set(xlabel = 'RMSE eccentricity (unitless)')\n",
    "\n",
    "plt.savefig('bootstrap_rmse_2.png')\n",
    "execution_time_2 = (time.time() - start_time_2)\n",
    "print('Execution time in minutes: ' + str(execution_time_2/60))"
   ]
  },
  {
   "cell_type": "code",
   "execution_count": null,
   "id": "da868971",
   "metadata": {},
   "outputs": [],
   "source": [
    "model_knn_2 = KNeighborsRegressor(n_neighbors = 35)\n",
    "model_knn_2.fit(X2_train_log.reshape(-1, 1), y2_train_log.reshape(-1, 1))\n",
    "y_knn_train_pred_2_log = model_knn_2.predict(X2_train_log.reshape(-1, 1))\n",
    "y_knn_test_pred_2_log = model_knn_2.predict(X2_test_log.reshape(-1, 1))"
   ]
  },
  {
   "cell_type": "code",
   "execution_count": null,
   "id": "59f9823e",
   "metadata": {},
   "outputs": [],
   "source": [
    "y_knn_train_pred_2 = pow(10, y_knn_train_pred_2_log)\n",
    "#y_knn_train_pred_2 = y_knn_train_pred_2_log\n",
    "y_knn_test_pred_2 = pow(10, y_knn_test_pred_2_log)\n",
    "#y_knn_test_pred_2 = y_knn_test_pred_2_log\n",
    "#X2_inverse = pow(10, y_knn_test_pred_2_log) #<- Will cause runtime error that is overflow in power function."
   ]
  },
  {
   "cell_type": "code",
   "execution_count": null,
   "id": "d2891d6a",
   "metadata": {},
   "outputs": [],
   "source": [
    "# First the training metrics.\n",
    "knn2_train_mae = mean_absolute_error(y2_train, y_knn_train_pred_2)\n",
    "knn2_train_mse = mean_squared_error(y2_train, y_knn_train_pred_2)\n",
    "knn2_train_rmse = sqrt(knn2_train_mse) # <- will compute the root mean square error\n",
    "knn2_train_r2 = r2_score(y2_train, y_knn_train_pred_2)\n",
    "# Now, test set metrics.\n",
    "knn2_test_mae = mean_absolute_error(y2_test, y_knn_test_pred_2)\n",
    "knn2_test_mse = mean_squared_error(y2_test, y_knn_test_pred_2)\n",
    "knn2_test_rmse = sqrt(knn2_test_mse)\n",
    "knn2_test_r2 = r2_score(y2_test, y_knn_test_pred_2)\n",
    "# Consolidate the results.\n",
    "knn_results_2 = pd.DataFrame(['k Nearest Neighbor', knn2_train_mae, knn2_train_mse, knn2_train_rmse, knn2_train_r2, knn2_test_mae, knn2_test_mse, knn2_test_rmse, knn2_test_r2]).transpose()\n",
    "knn_results_2.columns = metric_col_names\n",
    "knn_results_2"
   ]
  },
  {
   "cell_type": "markdown",
   "id": "8e204d0f",
   "metadata": {},
   "source": [
    "Now to build Support Vector Regressor model."
   ]
  },
  {
   "cell_type": "code",
   "execution_count": null,
   "id": "dd0bf8dc",
   "metadata": {},
   "outputs": [],
   "source": [
    "# Setting the hyperparameter\n",
    "eps_2 = 8\n",
    "hyperparam1 = 1000\n",
    "svr_2 = SVR(kernel = 'rbf', C = hyperparam1, epsilon = eps_2)\n",
    "svr_2.fit(X2_train_log, y2_train_log)\n",
    "\n",
    "#y_svr_train_pred_2 = svr_regressor_2.predict(X2_train)\n",
    "y_svr_train_pred_2_log = svr_2.predict(X2_train_log)\n",
    "#y_svr_test_pred_2 = svr_regressor_2.predict(X2_test)\n",
    "y_svr_test_pred_2_log = svr_2.predict(X2_test_log)\n",
    "y_svr_train_pred_2 = pow(10, y_svr_train_pred_2_log)\n",
    "y_svr_test_pred_2 = pow(10, y_svr_test_pred_2_log)"
   ]
  },
  {
   "cell_type": "code",
   "execution_count": null,
   "id": "3dcfafef",
   "metadata": {},
   "outputs": [],
   "source": [
    "# Model performance - training set\n",
    "svr2_train_mae = mean_absolute_error(y2_train, y_svr_train_pred_2_log)\n",
    "svr2_train_mse = mean_squared_error(y2_train, y_svr_train_pred_2_log)\n",
    "svr2_train_rmse = sqrt(svr2_train_mse)\n",
    "svr2_train_r2 = r2_score(y2_train, y_svr_train_pred_2_log)\n",
    "# Model performance - test set\n",
    "svr2_test_mae = mean_absolute_error(y2_test, y_svr_test_pred_2_log)\n",
    "svr2_test_mse = mean_squared_error(y2_test, y_svr_test_pred_2_log)\n",
    "svr2_test_rmse = sqrt(svr2_test_mse)\n",
    "svr2_test_r2 = r2_score(X2_test, y_svr_test_pred_2_log)\n",
    "# Consolidate the results.\n",
    "# Notice use of the transpose here.\n",
    "svr_results_2 = pd.DataFrame(['SVR', svr2_train_mae, svr2_train_mse, svr2_train_rmse, svr2_train_r2, svr2_test_mae, svr2_test_mse, svr2_test_rmse, svr2_test_r2]).T\n",
    "svr_results_2.columns = metric_col_names\n",
    "svr_results_2"
   ]
  },
  {
   "cell_type": "code",
   "execution_count": null,
   "id": "385c54a1",
   "metadata": {},
   "outputs": [],
   "source": [
    "rf_2 = RandomForestRegressor(max_depth = 2)\n",
    "rf_2.fit(X2_train_log, y2_train_log)\n",
    "y_rf_train_pred_2_log = rf_2.predict(X2_train_log)\n",
    "y_rf_test_pred_2_log = rf_2.predict(X2_test_log)\n",
    "rf_2"
   ]
  },
  {
   "cell_type": "code",
   "execution_count": null,
   "id": "ce3f31f2",
   "metadata": {},
   "outputs": [],
   "source": [
    "y_rf_train_pred_2 = pow(10, y_rf_train_pred_2_log)\n",
    "y_rf_test_pred_2 = pow(10, y_rf_test_pred_2_log)\n",
    "# Model performance metrics for random forest model.\n",
    "rf2_train_mae = mean_absolute_error(y2_train, y_rf_train_pred_2)\n",
    "rf2_train_mse = mean_squared_error(y2_train, y_rf_train_pred_2)\n",
    "rf2_train_rmse = sqrt(rf2_train_mse)\n",
    "rf2_train_r2 = r2_score(y2_train, y_rf_train_pred_2)\n",
    "# The following are the test metrics.\n",
    "rf2_test_mae = mean_absolute_error(y2_test, y_rf_test_pred_2)\n",
    "rf2_test_mse = mean_squared_error(y2_test, y_rf_test_pred_2)\n",
    "rf2_test_rmse = sqrt(rf2_test_mse)\n",
    "rf2_test_r2 = r2_score(y2_test, y_rf_test_pred_2)"
   ]
  },
  {
   "cell_type": "code",
   "execution_count": null,
   "id": "ad4320a8",
   "metadata": {},
   "outputs": [],
   "source": [
    "rf2_results = pd.DataFrame(['Random Forest', rf2_train_mae, rf2_train_mse, rf2_train_rmse, rf2_train_r2, rf2_test_mae, rf2_test_mse, rf2_test_rmse, rf2_test_r2]).transpose()\n",
    "rf2_results.columns = metric_col_names\n",
    "rf2_results"
   ]
  },
  {
   "cell_type": "code",
   "execution_count": null,
   "id": "d7a4f3de",
   "metadata": {},
   "outputs": [],
   "source": [
    "results_2 = pd.concat([baseline_2, knn_results_2, svr_results_2, rf2_results], axis = 0, ignore_index = True)\n",
    "results_2 "
   ]
  },
  {
   "cell_type": "markdown",
   "id": "251848ba",
   "metadata": {},
   "source": [
    "#### Hypothesis Testing- Case 2"
   ]
  },
  {
   "cell_type": "markdown",
   "id": "86d15ce0",
   "metadata": {},
   "source": [
    "#### Correlation Tests - Case 2"
   ]
  },
  {
   "cell_type": "code",
   "execution_count": null,
   "id": "99c80177",
   "metadata": {},
   "outputs": [],
   "source": [
    "# Spearman's Rank Correlation Test\n",
    "stat_3, p_3 = spearmanr(mass_log, temp_log)\n",
    "print('stat = %.3f, p = %.3f' % (stat_3, p_3))\n",
    "if p_3 > 0.05:\n",
    "    print('Probably Independent')\n",
    "else :\n",
    "    print('Probably Dependent')"
   ]
  },
  {
   "cell_type": "code",
   "execution_count": null,
   "id": "b449b68d",
   "metadata": {},
   "outputs": [],
   "source": [
    "execution_time_1 = (time.time() - start_time_1)\n",
    "print('Execution time in seconds: ' + str(execution_time_1))"
   ]
  },
  {
   "cell_type": "markdown",
   "id": "9c30b9fa",
   "metadata": {},
   "source": [
    "#### Nonparametric Statistical Hypothesis Tests - Case 2"
   ]
  },
  {
   "cell_type": "code",
   "execution_count": null,
   "id": "459df013",
   "metadata": {},
   "outputs": [],
   "source": [
    "# Wilcoxon Signed-Rank Test\n",
    "from scipy.stats import wilcoxon\n",
    "stat_4, p_4 = wilcoxon(mass_log, temp_log)\n",
    "print('stat = %.3f, p = %.3f' % (stat_4, p_4))\n",
    "if p_4 > 0.05:\n",
    "    print('Probably Independent')\n",
    "else :\n",
    "    print('Probably Dependent')\n",
    "    "
   ]
  },
  {
   "cell_type": "markdown",
   "id": "357d8702",
   "metadata": {},
   "source": [
    "The following will be the predicted versus actual plot for Case 2.\n",
    "Now, want the true versus the predicted values."
   ]
  },
  {
   "cell_type": "code",
   "execution_count": null,
   "id": "8573efba",
   "metadata": {},
   "outputs": [],
   "source": [
    "true_values_2 = y2_test\n",
    "predicted_values2_1 = y_knn_test_pred_2\n",
    "predicted_values2_2 = y_svr_test_pred_2\n",
    "predicted_values2_3 = y_rf_test_pred_2\n",
    "plt.figure(figsize = (10, 10))\n",
    "# kNN model\n",
    "knn_2 = plt.scatter(x = true_values_2, y = predicted_values2_1, c = '#68d631')\n",
    "# SVR model\n",
    "svr_2 = plt.scatter(x = true_values_2, y = predicted_values2_2, c = '#2a7505', marker = 's')\n",
    "# Random Forest model\n",
    "rf_2 = plt.scatter(x = true_values_2, y = predicted_values2_3, c = '#addb95', marker = 'x')\n",
    "p3 = max(max(predicted_values2_1), max(predicted_values2_2), max(predicted_values2_3), max(true_values_2))\n",
    "p4 = min(min(predicted_values2_1), min(predicted_values2_2), min(predicted_values2_3), min(true_values_2))\n",
    "\n",
    "plt.plot([p3, p4], [p3, p4], 'b-')\n",
    "plt.title('Prediction and Actual Values')\n",
    "plt.xlabel('Actual Temperature Values')\n",
    "plt.ylabel('Predicted Temperature Values')\n",
    "plt.legend([knn_2, svr_2, rf_2], ['kNN', 'SVR', 'RF'], loc = 'upper left')\n",
    "plt.savefig('pred_vs_actual_2.png')\n",
    "plt.show()"
   ]
  },
  {
   "cell_type": "markdown",
   "id": "bde306e9",
   "metadata": {},
   "source": [
    "The following will be the residuals plot for Case 2."
   ]
  },
  {
   "cell_type": "code",
   "execution_count": null,
   "id": "a99c06e8",
   "metadata": {},
   "outputs": [],
   "source": [
    "# Will invoke for loop to calculate residulas for the three different models.\n",
    "residuals2_1 = list()\n",
    "for item7, item8 in zip(true_values_2, predicted_values2_1):\n",
    "    residuals2_1.append(item7 - item8)\n",
    "residuals2_2 = list()\n",
    "for item9, item10 in zip(true_values_2, predicted_values2_2):\n",
    "    residuals2_2.append(item9 - item10)\n",
    "residuals2_3 = list()\n",
    "for item11, item12 in zip(true_values_2, predicted_values2_3):\n",
    "    residuals2_3.append(item11 - item12)\n",
    "\n",
    "plt.figure(figsize = (9, 9))\n",
    "# kNN model\n",
    "knn_resid_2 = plt.scatter(x = predicted_values2_1, y = residuals2_1, c = '#cd30f0')\n",
    "# SVR model\n",
    "svr_resid_2 = plt.scatter(x = predicted_values2_2, y = residuals2_2, c = '#b391ba', marker = 'x')\n",
    "# Random Forest model\n",
    "rf_resid_2 = plt.scatter(x = predicted_values2_3, y = residuals2_3, c = '#e2c8e8', marker = 's')\n",
    "\n",
    "plt.title('Residuals versus Fitted values')\n",
    "plt.xlabel('Fitted Values') # <- Predicted Values\n",
    "plt.ylabel('Residuals')\n",
    "plt.legend([knn_resid_2, svr_resid_2, rf_resid_2], ['kNN', 'SVR', 'RF'], loc = 'upper right')\n",
    "plt.axhline(y = 0.0, color = '#034b8a', linestyle = '--')\n",
    "plt.savefig('resid_2.png')\n",
    "plt.show()"
   ]
  },
  {
   "cell_type": "code",
   "execution_count": null,
   "id": "3c0f962a",
   "metadata": {},
   "outputs": [],
   "source": [
    "plt.hist(residuals2_3, color = \"teal\", edgecolor = 'white')"
   ]
  },
  {
   "cell_type": "code",
   "execution_count": null,
   "id": "16fb62da",
   "metadata": {},
   "outputs": [],
   "source": [
    "plt.hist(residuals2_2, color = 'powderblue', edgecolor = 'black')"
   ]
  },
  {
   "cell_type": "markdown",
   "id": "205bcc0e",
   "metadata": {},
   "source": [
    "### Scenario 3 - orbital period as function of planetary mass"
   ]
  },
  {
   "cell_type": "code",
   "execution_count": null,
   "id": "887c59d5",
   "metadata": {},
   "outputs": [],
   "source": [
    "df4 = raw_data.loc[:, ['pl_name','pl_bmassj','pl_orbper']]\n",
    "df4"
   ]
  },
  {
   "cell_type": "code",
   "execution_count": null,
   "id": "60af1702",
   "metadata": {},
   "outputs": [],
   "source": [
    "df4 = df4.rename(columns={'pl_name':'planetname', 'pl_bmassj':'mass', 'pl_orbper':'orbit period'})\n",
    "#df4 = df4.dropna()\n",
    "df4 = df4.fillna(df4.median(numeric_only=True))\n",
    "df4"
   ]
  },
  {
   "cell_type": "code",
   "execution_count": null,
   "id": "c3d67583",
   "metadata": {},
   "outputs": [],
   "source": [
    "mass_2 = df4.groupby('planetname')['mass'].mean()\n",
    "orbper_2 = df4.groupby('planetname')['orbit period'].mean()"
   ]
  },
  {
   "cell_type": "markdown",
   "id": "96ae1439",
   "metadata": {},
   "source": [
    "Now some summary statistics for this scenario."
   ]
  },
  {
   "cell_type": "code",
   "execution_count": null,
   "id": "af77e46a",
   "metadata": {},
   "outputs": [],
   "source": [
    "mass2_med = statistics.median(list(mass_2))\n",
    "orbper2_med = statistics.median(list(orbper_2))\n",
    "print('\\nThe median of the orbital period: %.4f' % orbper_med)\n",
    "print('\\nThe median of the mass: %.2f' % mass2_med)\n",
    "iqr_mass2 = stats.iqr(mass_2, interpolation = 'midpoint')\n",
    "iqr_orbper2 = stats.iqr(orbper_2, interpolation = 'midpoint')\n",
    "print('\\nThe interquartile range of the mass: %.2f' % iqr_mass2)\n",
    "print('\\nThe interquartile range of the orbital period: %.2f' % iqr_orbper2)\n",
    "mass2_mode = statistics.mode(list(mass_2))\n",
    "print('\\nThe mode for the mass: %.2f' % mass2_mode)\n",
    "orbper2_mode = statistics.mode(list(orbper_2))\n",
    "print('\\nThe mode for the orbital period: %.2f' % orbper2_mode)\n",
    "mass2_avg = statistics.mean(list(mass_2))\n",
    "print('\\nThe mean for the mass: %.2f' % eccen_avg)\n",
    "orbper2_avg = statistics.mean(list(orbper_2))\n",
    "print('\\nThe mean for the orbital period: %.2f' % orbper2_avg)"
   ]
  },
  {
   "cell_type": "code",
   "execution_count": null,
   "id": "062ed0ae",
   "metadata": {},
   "outputs": [],
   "source": [
    "# Min, 1st quantile, median, 3rd quantile, max\n",
    "fivenum(mass_2)"
   ]
  },
  {
   "cell_type": "code",
   "execution_count": null,
   "id": "bf05b356",
   "metadata": {},
   "outputs": [],
   "source": [
    "# Min, 1st quantile, median, 3rd quantile, max\n",
    "fivenum(orbper_2)"
   ]
  },
  {
   "cell_type": "code",
   "execution_count": null,
   "id": "2bc0c26e",
   "metadata": {},
   "outputs": [],
   "source": [
    "# Case 3\n",
    "# First, perform log base 10 transform\n",
    "mass2_log = np.log10(mass_2)\n",
    "orbper2_log = np.log10(orbper_2)\n",
    "# Plotting Logic\n",
    "fig3, ax3 = plt.subplots(2, 2,figsize = (12, 12))\n",
    "fig3.suptitle('Histograms - Case 3')\n",
    "ax3[0, 0].hist(mass_2, color = 'darkslategray', edgecolor = 'red')\n",
    "#ax3[0, 0].set_title('') #<- use this logic to give each plot its own title.\n",
    "ax3[0, 0].set(xlabel = 'planet mass (Jupiter mass)')\n",
    "ax3[0, 1].hist(mass2_log, color = 'darkslategray', edgecolor = 'red')\n",
    "ax3[0, 1].set(xlabel = 'log10(planet mass)')\n",
    "ax3[1, 0].hist(orbper_2, color = 'salmon', edgecolor = 'yellowgreen')\n",
    "ax3[1, 0].set(xlabel = 'orbital period')\n",
    "ax3[1, 1].hist(orbper2_log, color = 'salmon', edgecolor = 'yellowgreen')\n",
    "ax3[1, 1].set(xlabel = 'log10(orbital period)')\n",
    "\n",
    "for ax in ax1.flat:\n",
    "    ax.set(ylabel = 'Frequency')\n",
    "plt.savefig('histograms_3.png')\n",
    "fig1.tight_layout()"
   ]
  },
  {
   "cell_type": "code",
   "execution_count": null,
   "id": "28558ada",
   "metadata": {},
   "outputs": [],
   "source": [
    "y3 = np.array(mass_2).reshape(-1, 1)\n",
    "X3 = np.array(orbper_2).reshape(-1, 1)\n",
    "X3_train, X3_test, y3_train, y3_test = train_test_split(X3, y3, train_size = 0.80, random_state = 25)\n",
    "y3_train = y3_train.reshape(len(y3_train), )\n",
    "y3_test = y3_test.reshape(len(y3_test), )"
   ]
  },
  {
   "cell_type": "markdown",
   "id": "dab7b0cc",
   "metadata": {},
   "source": [
    "Establishing baselines for predictions according to the y-variable or response variable."
   ]
  },
  {
   "cell_type": "code",
   "execution_count": null,
   "id": "016a548f",
   "metadata": {},
   "outputs": [],
   "source": [
    "y_baseline_3= y3_train.mean()\n",
    "#y_baseline_2= statistics.median(y2_train)\n",
    "y_pred_train_3 = [y_baseline_3]*len(y3_train) # <- Training Baseline\n",
    "y_pred_test_3 = [y_baseline_3]*len(y3_test)"
   ]
  },
  {
   "cell_type": "code",
   "execution_count": null,
   "id": "eb267876",
   "metadata": {},
   "outputs": [],
   "source": [
    "# Following is for the Training Dataset.\n",
    "# Error for training data baseline guess.\n",
    "mae_train_3 = mean_absolute_error(y3_train, y_pred_train_3)\n",
    "# Mean squared error for training data baseline guess.\n",
    "mse_train_3 = mean_squared_error(y3_train, y_pred_train_3)\n",
    "rmse_train_3 = sqrt(mse_train_3) # <- will compute the root mean square error\n",
    "# R-squared for training data baseline guess.\n",
    "y3_train_r2 = r2_score(y3_train, y_pred_train_3)"
   ]
  },
  {
   "cell_type": "code",
   "execution_count": null,
   "id": "78823d92",
   "metadata": {},
   "outputs": [],
   "source": [
    "# Error for test data baseline guess.\n",
    "mae_test_3 = mean_absolute_error(y3_test, y_pred_test_3)\n",
    "# Mean squared error for test data baseline guess.\n",
    "mse_test_3 = mean_squared_error(y3_test, y_pred_test_3)\n",
    "# Test Root Mean Square Error\n",
    "rmse_test_3 = sqrt(mse_test_3)\n",
    "# R-squared for test data baseline guess.\n",
    "y3_test_r2 = r2_score(y3_test, y_pred_test_3)"
   ]
  },
  {
   "cell_type": "code",
   "execution_count": null,
   "id": "0e8f4fa4",
   "metadata": {},
   "outputs": [],
   "source": [
    "baseline_3 = pd.DataFrame(['Baseline', mae_train_3, mse_train_3, rmse_train_3, y3_train_r2, mae_test_3, mse_test_3, rmse_test_3, y3_test_r2]).T\n",
    "baseline_3.columns = metric_col_names\n",
    "baseline_3"
   ]
  },
  {
   "cell_type": "code",
   "execution_count": null,
   "id": "e1f9a27f",
   "metadata": {},
   "outputs": [],
   "source": [
    "X3_train_log, X3_test_log = np.log10(X3_train), np.log10(X3_test)\n",
    "y3_train_log = np.log10(y3_train)"
   ]
  },
  {
   "cell_type": "markdown",
   "id": "684b6b42",
   "metadata": {},
   "source": [
    "Some logic to determine the shape of the training and test sets of the data."
   ]
  },
  {
   "cell_type": "code",
   "execution_count": null,
   "id": "400c2ec7",
   "metadata": {},
   "outputs": [],
   "source": [
    "print('\\nTraining log(X3) shape: ', X3_train_log.shape)\n",
    "print('Training Log(y3) shape: ', y3_train_log.shape)\n",
    "print('Test Log(X3) shape: ', X3_test_log.shape)\n",
    "print('Test y3 shape: ', y3_test.shape)"
   ]
  },
  {
   "cell_type": "code",
   "execution_count": null,
   "id": "5d07ad3f",
   "metadata": {},
   "outputs": [],
   "source": [
    "# kNN R-squared accuracy\n",
    "knn_r_acc_3 = []\n",
    "for k in range(1, 75, 1):\n",
    "    knn_3 = KNeighborsRegressor(n_neighbors = k)\n",
    "    knn_3.fit(X3_train_log.reshape(-1, 1), y3_train_log.reshape(-1, 1))\n",
    "    test_score_3 = knn_3.score(X3_test_log.reshape(-1, 1), np.log10(y3_test))\n",
    "    train_score_3 = knn_3.score(X3_train_log.reshape(-1, 1), y3_train_log.reshape(-1, 1))\n",
    "    knn_r_acc_3.append((k, test_score_3, train_score_3))\n",
    "outcomes_3 = pd.DataFrame(knn_r_acc_3, columns = ['k', 'Test Score', 'Train Score'])\n",
    "print(outcomes_3)\n",
    "print('The highest Test R-squared value occurs at : %.4f' % outcomes_3.iloc[:,1].max())\n",
    "print('Within given range, optimal k is: ', outcomes_3.loc[outcomes_3['Test Score'] == outcomes_3.iloc[:,1].max(), 'k'].iloc[0])"
   ]
  },
  {
   "cell_type": "markdown",
   "id": "ec4868e7",
   "metadata": {},
   "source": [
    "#### Bootstrap Confidence Interval for RMSE values"
   ]
  },
  {
   "cell_type": "code",
   "execution_count": null,
   "id": "4b0adebc",
   "metadata": {},
   "outputs": [],
   "source": [
    "start_time_3 = time.time()\n",
    "\n",
    "df4 = pd.concat([mass2_log, orbper2_log], axis=1)\n",
    "metrics3_1 = ci_bootstrap(df4, KNeighborsRegressor(n_neighbors = 65))\n",
    "\n",
    "# Plotting Logic\n",
    "fig3_2, ax3_2 = plt.subplots(3,1,figsize = (11, 12))\n",
    "#fig1_2.suptitle('Bootstrap Performance Metrics - Case 1')\n",
    "\n",
    "# Confidence Interval\n",
    "confidence_interval3_1 = list(metrics3_1.quantile([0.025, 0.975]))\n",
    "\n",
    "ax3_2[0].hist(metrics3_1, color='#4db32e', edgecolor = \"red\")\n",
    "ax3_2[0].plot(confidence_interval3_1, [190, 190], color='black')\n",
    "for x3 in confidence_interval3_1:\n",
    "    ax3_2[0].plot([x3, x3], [0, 200], color='black')\n",
    "    ax3_2[0].text(x3, 210, f'{x3:.4f}', \n",
    "            horizontalalignment='center', verticalalignment='center')\n",
    "ax3_2[0].text(sum(confidence_interval3_1) / 2, 60, '95% interval',\n",
    "        horizontalalignment='center', verticalalignment='center')\n",
    "\n",
    "mean_knn_model_3 = metrics3_1.mean()\n",
    "ax3_2[0].plot([mean_knn_model_3, mean_knn_model_3], [0, 195], color='black', linestyle='--')\n",
    "ax3_2[0].text(mean_knn_model_3, 225, f'Mean: {mean_knn_model_3:.4f}',\n",
    "        bbox=dict(facecolor='white', edgecolor='white', alpha=0.5),\n",
    "        horizontalalignment='center', verticalalignment='center')\n",
    "ax3_2[0].set_title('kNN Model 3')\n",
    "\n",
    "# Now for the SVR model\n",
    "eps_3 = 8 #<- hyperparameters used throughout the script\n",
    "hyperparam3 = 1000 #<- hyperparameters used throughout the script\n",
    "metrics3_2 = ci_bootstrap(df4, SVR(kernel = 'rbf', C = hyperparam3, epsilon = eps_3))\n",
    "confidence_interval3_2 = list(metrics3_2.quantile([0.025, 0.975]))\n",
    "\n",
    "ax3_2[1].hist(metrics3_2, color='#7961c9', edgecolor = \"white\")\n",
    "ax3_2[1].plot(confidence_interval3_2, [190, 190], color='black')\n",
    "for x3 in confidence_interval3_2:\n",
    "    ax3_2[1].plot([x3, x3], [0, 200], color='black')\n",
    "    ax3_2[1].text(x3, 210, f'{x3:.4f}', \n",
    "            horizontalalignment='center', verticalalignment='center')\n",
    "ax3_2[1].text(sum(confidence_interval3_2) / 2, 60, '95% interval',\n",
    "        horizontalalignment='center', verticalalignment='center')\n",
    "\n",
    "mean_svr_model_3 = metrics3_2.mean()\n",
    "ax3_2[1].plot([mean_svr_model_3, mean_svr_model_3], [0, 195], color='black', linestyle='--')\n",
    "ax3_2[1].text(mean_svr_model_3, 225, f'Mean: {mean_svr_model_3:.4f}',\n",
    "        bbox=dict(facecolor='white', edgecolor='white', alpha=0.5),\n",
    "        horizontalalignment='center', verticalalignment='center')\n",
    "ax3_2[1].set_title('SVR Model 3')\n",
    "\n",
    "# Now for the Random Forest model\n",
    "metrics3_3 = ci_bootstrap(df4, RandomForestRegressor(max_depth=2))\n",
    "confidence_interval3_3 = list(metrics3_3.quantile([0.025, 0.975]))\n",
    "\n",
    "ax3_2[2].hist(metrics3_3, color='#03dffc', edgecolor = \"black\")\n",
    "ax3_2[2].plot(confidence_interval3_3, [190, 190], color='black')\n",
    "for x3 in confidence_interval3_3:\n",
    "    ax3_2[2].plot([x3, x3], [0, 200], color='black')\n",
    "    ax3_2[2].text(x3, 210, f'{x3:.4f}', \n",
    "            horizontalalignment='center', verticalalignment='center')\n",
    "ax3_2[2].text(sum(confidence_interval3_3) / 2, 60, '95% interval',\n",
    "        horizontalalignment='center', verticalalignment='center')\n",
    "\n",
    "mean_rf_model_3 = metrics3_3.mean()\n",
    "ax3_2[2].plot([mean_rf_model_3, mean_rf_model_3], [0, 195], color='black', linestyle='--')\n",
    "ax3_2[2].text(mean_rf_model_3, 225, f'Mean: {mean_rf_model_3:.4f}',\n",
    "      bbox=dict(facecolor='white', edgecolor='white', alpha=0.5),\n",
    "       horizontalalignment='center', verticalalignment='center')\n",
    "ax3_2[2].set_title('RF Model 3')\n",
    "\n",
    "for ax in ax3_2.flat:\n",
    "    ax.set(ylabel = 'Counts')\n",
    "    #ax.set(xlabel = 'RMSE eccentricity (unitless)')\n",
    "\n",
    "plt.savefig('bootstrap_rmse_3.png')\n",
    "execution_time_3 = (time.time() - start_time_3)\n",
    "print('Execution time in minutes: ' + str(execution_time_3/60))"
   ]
  },
  {
   "cell_type": "code",
   "execution_count": null,
   "id": "71f0f9db",
   "metadata": {},
   "outputs": [],
   "source": [
    "model_knn_3 = KNeighborsRegressor(n_neighbors = 65)\n",
    "model_knn_3.fit(X3_train_log.reshape(-1, 1), y3_train_log.reshape(-1, 1))\n",
    "y_knn_train_pred_3_log = model_knn_3.predict(X3_train_log.reshape(-1, 1))\n",
    "y_knn_test_pred_3_log = model_knn_3.predict(X3_test_log.reshape(-1, 1))"
   ]
  },
  {
   "cell_type": "code",
   "execution_count": null,
   "id": "5b149cc1",
   "metadata": {},
   "outputs": [],
   "source": [
    "y_knn_train_pred_3 = pow(10, y_knn_train_pred_3_log)\n",
    "y_knn_test_pred_3 = pow(10, y_knn_test_pred_3_log)"
   ]
  },
  {
   "cell_type": "code",
   "execution_count": null,
   "id": "98dc8ce0",
   "metadata": {},
   "outputs": [],
   "source": [
    "# First the training metrics.\n",
    "knn3_train_mae = mean_absolute_error(y3_train, y_knn_train_pred_3)\n",
    "knn3_train_mse = mean_squared_error(y3_train, y_knn_train_pred_3)\n",
    "knn3_train_rmse = sqrt(knn3_train_mse) # <- will compute the root mean square error\n",
    "knn3_train_r2 = r2_score(y3_train, y_knn_train_pred_3)\n",
    "# Now, test set metrics.\n",
    "knn3_test_mae = mean_absolute_error(y3_test, y_knn_test_pred_3)\n",
    "knn3_test_mse = mean_squared_error(y3_test, y_knn_test_pred_3)\n",
    "knn3_test_rmse = sqrt(knn3_test_mse)\n",
    "knn3_test_r2 = r2_score(y3_test, y_knn_test_pred_3)\n",
    "# Consolidate the results.\n",
    "knn_results_3 = pd.DataFrame(['k Nearest Neighbor', knn3_train_mae, knn3_train_mse, knn3_train_rmse, knn3_train_r2, knn3_test_mae, knn3_test_mse, knn3_test_rmse, knn3_test_r2]).transpose()\n",
    "knn_results_3.columns = metric_col_names\n",
    "knn_results_3"
   ]
  },
  {
   "cell_type": "markdown",
   "id": "6044aa57",
   "metadata": {},
   "source": [
    "Now to create the SVR model 3."
   ]
  },
  {
   "cell_type": "code",
   "execution_count": null,
   "id": "f387c853",
   "metadata": {},
   "outputs": [],
   "source": [
    "eps_3 = 6\n",
    "svr_3 = SVR(kernel = 'rbf', C = 100, epsilon = eps_3)\n",
    "svr_3.fit(X3_train_log, y3_train_log)\n",
    "\n",
    "y_svr_train_pred_3_log = svr_3.predict(X3_train_log)\n",
    "y_svr_test_pred_3_log = svr_3.predict(X3_test_log)\n",
    "y_svr_train_pred_3 = pow(10, y_svr_train_pred_3_log)\n",
    "y_svr_test_pred_3 = pow(10, y_svr_test_pred_3_log)"
   ]
  },
  {
   "cell_type": "code",
   "execution_count": null,
   "id": "61671e30",
   "metadata": {},
   "outputs": [],
   "source": [
    "# Model performance - training set\n",
    "svr3_train_mae = mean_absolute_error(y3_train, y_svr_train_pred_3)\n",
    "svr3_train_mse = mean_squared_error(y3_train, y_svr_train_pred_3)\n",
    "svr3_train_rmse = sqrt(svr3_train_mse)\n",
    "svr3_train_r2 = r2_score(y3_train, y_svr_train_pred_3)\n",
    "# Model performance - test results\n",
    "svr3_test_mae = mean_absolute_error(y3_test, y_svr_test_pred_3)\n",
    "svr3_test_mse = mean_squared_error(y3_test, y_svr_test_pred_3)\n",
    "svr3_test_rmse = sqrt(svr3_test_mse)\n",
    "svr3_test_r2 = r2_score(X3_test, y_svr_test_pred_3)\n",
    "# Consolidate the results.\n",
    "svr_results_3 = pd.DataFrame(['SVR', svr3_train_mae, svr3_train_mse, svr3_train_rmse, svr3_train_r2, svr3_test_mae, svr3_test_mse, svr3_test_rmse, svr3_test_r2]).T\n",
    "svr_results_3.columns = metric_col_names\n",
    "svr_results_3"
   ]
  },
  {
   "cell_type": "code",
   "execution_count": null,
   "id": "8aeffd97",
   "metadata": {},
   "outputs": [],
   "source": [
    "rf_3 = RandomForestRegressor(max_depth = 2)\n",
    "rf_3.fit(X3_train_log, y3_train_log)\n",
    "y_rf_train_pred_3_log = rf_3.predict(X3_train_log)\n",
    "y_rf_test_pred_3_log = rf_3.predict(X3_test_log)\n",
    "rf_3"
   ]
  },
  {
   "cell_type": "code",
   "execution_count": null,
   "id": "3c98462c",
   "metadata": {},
   "outputs": [],
   "source": [
    "y_rf_train_pred_3 = pow(10, y_rf_train_pred_3_log)\n",
    "y_rf_test_pred_3 = pow(10, y_rf_test_pred_3_log)\n",
    "# Model performance metrics for random forest model.\n",
    "rf3_train_mae = mean_absolute_error(y3_train, y_rf_train_pred_3)\n",
    "rf3_train_mse = mean_squared_error(y3_train, y_rf_train_pred_3)\n",
    "rf3_train_rmse = sqrt(rf3_train_mse)\n",
    "rf3_train_r2 = r2_score(y3_train, y_rf_train_pred_3)\n",
    "# The following are the test metrics.\n",
    "rf3_test_mae = mean_absolute_error(y3_test, y_rf_test_pred_3)\n",
    "rf3_test_mse = mean_squared_error(y3_test, y_rf_test_pred_3)\n",
    "rf3_test_rmse = sqrt(rf3_test_mse)\n",
    "rf3_test_r2 = r2_score(y3_test, y_rf_test_pred_3)"
   ]
  },
  {
   "cell_type": "code",
   "execution_count": null,
   "id": "f3737953",
   "metadata": {},
   "outputs": [],
   "source": [
    "rf3_results = pd.DataFrame(['Random Forest', rf3_train_mae, rf3_train_mse, rf3_train_rmse, rf3_train_r2, rf3_test_mae, rf3_test_mse, rf3_test_rmse, rf3_test_r2]).transpose()\n",
    "rf3_results.columns = metric_col_names\n",
    "rf3_results"
   ]
  },
  {
   "cell_type": "code",
   "execution_count": null,
   "id": "84c36c66",
   "metadata": {
    "scrolled": true
   },
   "outputs": [],
   "source": [
    "results_3 = pd.concat([baseline_3, knn_results_3, svr_results_3, rf3_results], axis = 0, ignore_index = True)\n",
    "results_3 "
   ]
  },
  {
   "cell_type": "markdown",
   "id": "071d0930",
   "metadata": {},
   "source": [
    "### Bootstrap Confidence Intervals"
   ]
  },
  {
   "cell_type": "markdown",
   "id": "e7f4a91a",
   "metadata": {},
   "source": [
    "#### Hypothesis Testing- Case 3"
   ]
  },
  {
   "cell_type": "markdown",
   "id": "99ef7672",
   "metadata": {},
   "source": [
    "#### Correlation Tests - Case 3"
   ]
  },
  {
   "cell_type": "code",
   "execution_count": null,
   "id": "43766ccc",
   "metadata": {},
   "outputs": [],
   "source": [
    "# Spearman's Rank Correlation Test\n",
    "stat_7, p_7 = spearmanr(np.log10(X3), np.log10(y3))\n",
    "print('stat = %.3f, p = %.3f' % (stat_7, p_7))\n",
    "if p_7 > 0.05:\n",
    "    print('Probably Independent')\n",
    "else :\n",
    "    print('Probably Dependent')"
   ]
  },
  {
   "cell_type": "markdown",
   "id": "aa858e09",
   "metadata": {},
   "source": [
    "#### Nonparametric Statistical Hypothesis Tests - Case 3"
   ]
  },
  {
   "cell_type": "code",
   "execution_count": null,
   "id": "604fe1c8",
   "metadata": {},
   "outputs": [],
   "source": [
    "stat_8, p_8 = wilcoxon(np.log10(mass_2), np.log10(orbper_2))\n",
    "print('stat = %.3f, p = %.3f' % (stat_8, p_8))\n",
    "if p_8 > 0.05:\n",
    "    print('Probably Independent')\n",
    "else :\n",
    "    print('Probably Dependent')"
   ]
  },
  {
   "cell_type": "code",
   "execution_count": null,
   "id": "6e37ba55",
   "metadata": {},
   "outputs": [],
   "source": [
    "true_values_3 = y3_test\n",
    "predicted_values3_1 = y_knn_test_pred_3\n",
    "predicted_values3_2 = y_svr_test_pred_3\n",
    "predicted_values3_3 = y_rf_test_pred_3\n",
    "plt.figure(figsize = (10, 10))\n",
    "# kNN model\n",
    "knn_3 = plt.scatter(x = true_values_3, y = predicted_values3_1, c = '#68d631')\n",
    "# SVR model\n",
    "svr_3 = plt.scatter(x = true_values_3, y = predicted_values3_2, c = '#2a7505', marker = 's')\n",
    "# Random Forest model\n",
    "rf_3 = plt.scatter(x = true_values_3, y = predicted_values3_3, c = '#addb95', marker = 'x')\n",
    "p5 = max(max(predicted_values3_1), max(predicted_values3_2), max(predicted_values3_3), max(true_values_3))\n",
    "p6 = min(min(predicted_values3_1), min(predicted_values3_2), min(predicted_values3_3), min(true_values_3))\n",
    "\n",
    "plt.plot([p5, p6], [p5, p6], 'b-')\n",
    "plt.title('Prediction and Actual Values')\n",
    "plt.xlabel('Actual Values')\n",
    "plt.ylabel('Predicted Values')\n",
    "plt.legend([knn_3, svr_3, rf_3], ['kNN', 'SVR', 'RF'], loc = 'upper left')\n",
    "plt.savefig('pred_vs_actual_3.png')\n",
    "plt.show()"
   ]
  },
  {
   "cell_type": "code",
   "execution_count": null,
   "id": "7ff1a883",
   "metadata": {},
   "outputs": [],
   "source": [
    "# Will invoke for loop to calculate residulas for the three different models.\n",
    "residuals3_1 = list()\n",
    "for item13, item14 in zip(true_values_3, predicted_values3_1):\n",
    "    residuals3_1.append(item13 - item14)\n",
    "residuals3_2 = list()\n",
    "for item15, item16 in zip(true_values_3, predicted_values3_2):\n",
    "    residuals3_2.append(item15 - item16)\n",
    "residuals3_3 = list()\n",
    "for item17, item18 in zip(true_values_3, predicted_values3_3):\n",
    "    residuals3_3.append(item17 - item18)\n",
    "\n",
    "plt.figure(figsize = (9, 9))\n",
    "# kNN model\n",
    "knn_resid_3 = plt.scatter(x = predicted_values3_1, y = residuals3_1, c = '#cd30f0')\n",
    "# SVR model\n",
    "svr_resid_3 = plt.scatter(x = predicted_values3_2, y = residuals3_2, c = '#b391ba', marker = 's')\n",
    "# Random Forest model\n",
    "rf_resid_3 = plt.scatter(x = predicted_values3_3, y = residuals3_3, c = '#e2c8e8', marker = 'x')\n",
    "\n",
    "plt.title('Residuals versus Fitted values')\n",
    "plt.xlabel('Fitted Values') # <- Predicted Values\n",
    "plt.ylabel('Residuals')\n",
    "plt.legend([knn_resid_3, svr_resid_3, rf_resid_3], ['kNN', 'SVR', 'RF'], loc = 'upper right')\n",
    "plt.axhline(y = 0.0, color = '#034b8a', linestyle = '--')\n",
    "plt.savefig('resid_3.png')\n",
    "plt.show()"
   ]
  },
  {
   "cell_type": "code",
   "execution_count": null,
   "id": "e535003b",
   "metadata": {},
   "outputs": [],
   "source": [
    "execution_time_0 = (time.time() - start_time_0)\n",
    "print('Execution time in minutes: ' + str(execution_time_0/60))"
   ]
  },
  {
   "cell_type": "markdown",
   "id": "97a303f3",
   "metadata": {},
   "source": [
    "Want to establish a baseline to compare to the ML model against. Will create a funciton using the Random Prediction Algorithm."
   ]
  },
  {
   "cell_type": "markdown",
   "id": "794ab164",
   "metadata": {},
   "source": [
    "Now want to compute confidence intervals as a standard practice while computing metrics."
   ]
  },
  {
   "cell_type": "markdown",
   "id": "1d669c2c",
   "metadata": {},
   "source": [
    "Will compare the R-squared value for kNN and Random Forest models."
   ]
  },
  {
   "cell_type": "markdown",
   "id": "065941a5",
   "metadata": {},
   "source": [
    "Will now study the relationship between planet mass and temperature."
   ]
  },
  {
   "cell_type": "markdown",
   "id": "16eb4916",
   "metadata": {},
   "source": [
    "Notice both of the above are float data type which will make computation easier."
   ]
  },
  {
   "cell_type": "markdown",
   "id": "d54beb79",
   "metadata": {},
   "source": [
    "Notice no pattern so model does describe the data."
   ]
  }
 ],
 "metadata": {
  "kernelspec": {
   "display_name": "Python 3 (ipykernel)",
   "language": "python",
   "name": "python3"
  },
  "language_info": {
   "codemirror_mode": {
    "name": "ipython",
    "version": 3
   },
   "file_extension": ".py",
   "mimetype": "text/x-python",
   "name": "python",
   "nbconvert_exporter": "python",
   "pygments_lexer": "ipython3",
   "version": "3.9.5"
  }
 },
 "nbformat": 4,
 "nbformat_minor": 5
}
