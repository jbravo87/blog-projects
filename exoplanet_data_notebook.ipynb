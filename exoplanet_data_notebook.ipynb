{
 "cells": [
  {
   "cell_type": "markdown",
   "id": "8fd7e8af",
   "metadata": {},
   "source": [
    "# Planetary Data Analysis Notebook"
   ]
  },
  {
   "cell_type": "markdown",
   "id": "80d1d1e9",
   "metadata": {},
   "source": [
    "For the first part of this script, I will solely focus on the kNN supervised learning technique applied to the data pertaining to exoplanets from NASA."
   ]
  },
  {
   "cell_type": "code",
   "execution_count": 1,
   "id": "68493711",
   "metadata": {},
   "outputs": [],
   "source": [
    "# Import necessary libraries\n",
    "from random import seed\n",
    "from random import randrange\n",
    "import pandas as pd\n",
    "import matplotlib.pyplot as plt\n",
    "import numpy as np\n",
    "import statistics\n",
    "import seaborn as sns\n",
    "from sklearn.preprocessing import RobustScaler\n",
    "from sklearn.neighbors import KNeighborsRegressor\n",
    "from  sklearn.metrics import mean_squared_error, r2_score\n",
    "from scipy import stats\n",
    "from math import sqrt\n",
    "#import plotly.express as px"
   ]
  },
  {
   "cell_type": "markdown",
   "id": "ebb5cbc8",
   "metadata": {},
   "source": [
    "As a resampling method, will use the train-test-split (tts) method. Will bundle the logic of tts into a function."
   ]
  },
  {
   "cell_type": "code",
   "execution_count": 2,
   "id": "d245cf60",
   "metadata": {},
   "outputs": [],
   "source": [
    "seed(1235)\n",
    "def tts(data, split = 0.80):\n",
    "    train = list()\n",
    "    train_size = split*len(data)\n",
    "    data_copy = list(data)\n",
    "    while len(train) < train_size :\n",
    "        index = randrange(len(data_copy))\n",
    "        train.append(data_copy.pop(index))\n",
    "    return np.array(train), np.array(data_copy)"
   ]
  },
  {
   "cell_type": "code",
   "execution_count": 3,
   "id": "002eed27",
   "metadata": {
    "scrolled": true
   },
   "outputs": [],
   "source": [
    "# Assign path of data to a variable.\n",
    "# Initiatiate first data frame with raw data.\n",
    "path1 = 'J:\\\\datasets\\\\PS_2022.02.27_18.46.12.csv'\n",
    "path2 = 'D:\\\\PS_2022.04.09_12.16.22.csv'\n",
    "raw_data = pd.read_csv(path2, skiprows = 20)"
   ]
  },
  {
   "cell_type": "markdown",
   "id": "7259c599",
   "metadata": {},
   "source": [
    "Need to remove the first thirteen rows. These rows contain copious notes/remarks."
   ]
  },
  {
   "cell_type": "code",
   "execution_count": 4,
   "id": "ed0c3507",
   "metadata": {},
   "outputs": [],
   "source": [
    "#raw_data = raw_data.drop(raw_data.index[range(14)])"
   ]
  },
  {
   "cell_type": "code",
   "execution_count": 5,
   "id": "05d451ea",
   "metadata": {},
   "outputs": [
    {
     "data": {
      "text/html": [
       "<div>\n",
       "<style scoped>\n",
       "    .dataframe tbody tr th:only-of-type {\n",
       "        vertical-align: middle;\n",
       "    }\n",
       "\n",
       "    .dataframe tbody tr th {\n",
       "        vertical-align: top;\n",
       "    }\n",
       "\n",
       "    .dataframe thead th {\n",
       "        text-align: right;\n",
       "    }\n",
       "</style>\n",
       "<table border=\"1\" class=\"dataframe\">\n",
       "  <thead>\n",
       "    <tr style=\"text-align: right;\">\n",
       "      <th></th>\n",
       "      <th>pl_name</th>\n",
       "      <th>hostname</th>\n",
       "      <th>default_flag</th>\n",
       "      <th>soltype</th>\n",
       "      <th>pl_orbper</th>\n",
       "      <th>pl_orbpererr1</th>\n",
       "      <th>pl_orbpererr2</th>\n",
       "      <th>pl_orbperlim</th>\n",
       "      <th>pl_orbeccen</th>\n",
       "      <th>pl_orbeccenerr1</th>\n",
       "      <th>pl_orbeccenerr2</th>\n",
       "      <th>pl_orbeccenlim</th>\n",
       "    </tr>\n",
       "  </thead>\n",
       "  <tbody>\n",
       "    <tr>\n",
       "      <th>0</th>\n",
       "      <td>11 Com b</td>\n",
       "      <td>11 Com</td>\n",
       "      <td>1</td>\n",
       "      <td>Published Confirmed</td>\n",
       "      <td>326.030000</td>\n",
       "      <td>0.320000</td>\n",
       "      <td>-0.320000</td>\n",
       "      <td>0.0</td>\n",
       "      <td>0.2310</td>\n",
       "      <td>0.0050</td>\n",
       "      <td>-0.0050</td>\n",
       "      <td>0.0</td>\n",
       "    </tr>\n",
       "    <tr>\n",
       "      <th>1</th>\n",
       "      <td>11 UMi b</td>\n",
       "      <td>11 UMi</td>\n",
       "      <td>1</td>\n",
       "      <td>Published Confirmed</td>\n",
       "      <td>516.219970</td>\n",
       "      <td>3.200000</td>\n",
       "      <td>-3.200000</td>\n",
       "      <td>0.0</td>\n",
       "      <td>0.0800</td>\n",
       "      <td>0.0300</td>\n",
       "      <td>-0.0300</td>\n",
       "      <td>0.0</td>\n",
       "    </tr>\n",
       "    <tr>\n",
       "      <th>2</th>\n",
       "      <td>14 And b</td>\n",
       "      <td>14 And</td>\n",
       "      <td>1</td>\n",
       "      <td>Published Confirmed</td>\n",
       "      <td>185.840000</td>\n",
       "      <td>0.230000</td>\n",
       "      <td>-0.230000</td>\n",
       "      <td>0.0</td>\n",
       "      <td>0.0000</td>\n",
       "      <td>NaN</td>\n",
       "      <td>NaN</td>\n",
       "      <td>0.0</td>\n",
       "    </tr>\n",
       "    <tr>\n",
       "      <th>3</th>\n",
       "      <td>14 Her b</td>\n",
       "      <td>14 Her</td>\n",
       "      <td>1</td>\n",
       "      <td>Published Confirmed</td>\n",
       "      <td>1773.400020</td>\n",
       "      <td>2.500000</td>\n",
       "      <td>-2.500000</td>\n",
       "      <td>0.0</td>\n",
       "      <td>0.3700</td>\n",
       "      <td>0.0000</td>\n",
       "      <td>0.0000</td>\n",
       "      <td>0.0</td>\n",
       "    </tr>\n",
       "    <tr>\n",
       "      <th>4</th>\n",
       "      <td>16 Cyg B b</td>\n",
       "      <td>16 Cyg B</td>\n",
       "      <td>1</td>\n",
       "      <td>Published Confirmed</td>\n",
       "      <td>798.500000</td>\n",
       "      <td>1.000000</td>\n",
       "      <td>-1.000000</td>\n",
       "      <td>0.0</td>\n",
       "      <td>0.6800</td>\n",
       "      <td>0.0200</td>\n",
       "      <td>-0.0200</td>\n",
       "      <td>0.0</td>\n",
       "    </tr>\n",
       "    <tr>\n",
       "      <th>...</th>\n",
       "      <td>...</td>\n",
       "      <td>...</td>\n",
       "      <td>...</td>\n",
       "      <td>...</td>\n",
       "      <td>...</td>\n",
       "      <td>...</td>\n",
       "      <td>...</td>\n",
       "      <td>...</td>\n",
       "      <td>...</td>\n",
       "      <td>...</td>\n",
       "      <td>...</td>\n",
       "      <td>...</td>\n",
       "    </tr>\n",
       "    <tr>\n",
       "      <th>5004</th>\n",
       "      <td>ups And b</td>\n",
       "      <td>ups And</td>\n",
       "      <td>1</td>\n",
       "      <td>Published Confirmed</td>\n",
       "      <td>4.617033</td>\n",
       "      <td>0.000023</td>\n",
       "      <td>-0.000023</td>\n",
       "      <td>0.0</td>\n",
       "      <td>0.0215</td>\n",
       "      <td>0.0007</td>\n",
       "      <td>-0.0007</td>\n",
       "      <td>0.0</td>\n",
       "    </tr>\n",
       "    <tr>\n",
       "      <th>5005</th>\n",
       "      <td>ups And c</td>\n",
       "      <td>ups And</td>\n",
       "      <td>1</td>\n",
       "      <td>Published Confirmed</td>\n",
       "      <td>241.258000</td>\n",
       "      <td>0.064000</td>\n",
       "      <td>-0.064000</td>\n",
       "      <td>0.0</td>\n",
       "      <td>0.2596</td>\n",
       "      <td>0.0079</td>\n",
       "      <td>-0.0079</td>\n",
       "      <td>0.0</td>\n",
       "    </tr>\n",
       "    <tr>\n",
       "      <th>5006</th>\n",
       "      <td>ups And d</td>\n",
       "      <td>ups And</td>\n",
       "      <td>1</td>\n",
       "      <td>Published Confirmed</td>\n",
       "      <td>1276.460000</td>\n",
       "      <td>0.570000</td>\n",
       "      <td>-0.570000</td>\n",
       "      <td>0.0</td>\n",
       "      <td>0.2987</td>\n",
       "      <td>0.0072</td>\n",
       "      <td>-0.0072</td>\n",
       "      <td>0.0</td>\n",
       "    </tr>\n",
       "    <tr>\n",
       "      <th>5007</th>\n",
       "      <td>ups Leo b</td>\n",
       "      <td>ups Leo</td>\n",
       "      <td>1</td>\n",
       "      <td>Published Confirmed</td>\n",
       "      <td>385.200000</td>\n",
       "      <td>2.800000</td>\n",
       "      <td>-1.300000</td>\n",
       "      <td>0.0</td>\n",
       "      <td>0.3200</td>\n",
       "      <td>0.1340</td>\n",
       "      <td>-0.2180</td>\n",
       "      <td>0.0</td>\n",
       "    </tr>\n",
       "    <tr>\n",
       "      <th>5008</th>\n",
       "      <td>xi Aql b</td>\n",
       "      <td>xi Aql</td>\n",
       "      <td>1</td>\n",
       "      <td>Published Confirmed</td>\n",
       "      <td>136.750000</td>\n",
       "      <td>0.250000</td>\n",
       "      <td>-0.250000</td>\n",
       "      <td>0.0</td>\n",
       "      <td>0.0000</td>\n",
       "      <td>NaN</td>\n",
       "      <td>NaN</td>\n",
       "      <td>0.0</td>\n",
       "    </tr>\n",
       "  </tbody>\n",
       "</table>\n",
       "<p>5009 rows × 12 columns</p>\n",
       "</div>"
      ],
      "text/plain": [
       "         pl_name  hostname  default_flag              soltype    pl_orbper  \\\n",
       "0       11 Com b    11 Com             1  Published Confirmed   326.030000   \n",
       "1       11 UMi b    11 UMi             1  Published Confirmed   516.219970   \n",
       "2       14 And b    14 And             1  Published Confirmed   185.840000   \n",
       "3       14 Her b    14 Her             1  Published Confirmed  1773.400020   \n",
       "4     16 Cyg B b  16 Cyg B             1  Published Confirmed   798.500000   \n",
       "...          ...       ...           ...                  ...          ...   \n",
       "5004   ups And b   ups And             1  Published Confirmed     4.617033   \n",
       "5005   ups And c   ups And             1  Published Confirmed   241.258000   \n",
       "5006   ups And d   ups And             1  Published Confirmed  1276.460000   \n",
       "5007   ups Leo b   ups Leo             1  Published Confirmed   385.200000   \n",
       "5008    xi Aql b    xi Aql             1  Published Confirmed   136.750000   \n",
       "\n",
       "      pl_orbpererr1  pl_orbpererr2  pl_orbperlim  pl_orbeccen  \\\n",
       "0          0.320000      -0.320000           0.0       0.2310   \n",
       "1          3.200000      -3.200000           0.0       0.0800   \n",
       "2          0.230000      -0.230000           0.0       0.0000   \n",
       "3          2.500000      -2.500000           0.0       0.3700   \n",
       "4          1.000000      -1.000000           0.0       0.6800   \n",
       "...             ...            ...           ...          ...   \n",
       "5004       0.000023      -0.000023           0.0       0.0215   \n",
       "5005       0.064000      -0.064000           0.0       0.2596   \n",
       "5006       0.570000      -0.570000           0.0       0.2987   \n",
       "5007       2.800000      -1.300000           0.0       0.3200   \n",
       "5008       0.250000      -0.250000           0.0       0.0000   \n",
       "\n",
       "      pl_orbeccenerr1  pl_orbeccenerr2  pl_orbeccenlim  \n",
       "0              0.0050          -0.0050             0.0  \n",
       "1              0.0300          -0.0300             0.0  \n",
       "2                 NaN              NaN             0.0  \n",
       "3              0.0000           0.0000             0.0  \n",
       "4              0.0200          -0.0200             0.0  \n",
       "...               ...              ...             ...  \n",
       "5004           0.0007          -0.0007             0.0  \n",
       "5005           0.0079          -0.0079             0.0  \n",
       "5006           0.0072          -0.0072             0.0  \n",
       "5007           0.1340          -0.2180             0.0  \n",
       "5008              NaN              NaN             0.0  \n",
       "\n",
       "[5009 rows x 12 columns]"
      ]
     },
     "execution_count": 5,
     "metadata": {},
     "output_type": "execute_result"
    }
   ],
   "source": [
    "raw_data"
   ]
  },
  {
   "cell_type": "code",
   "execution_count": 6,
   "id": "f87da373",
   "metadata": {},
   "outputs": [
    {
     "data": {
      "text/plain": [
       "Index(['pl_name', 'hostname', 'default_flag', 'soltype', 'pl_orbper',\n",
       "       'pl_orbpererr1', 'pl_orbpererr2', 'pl_orbperlim', 'pl_orbeccen',\n",
       "       'pl_orbeccenerr1', 'pl_orbeccenerr2', 'pl_orbeccenlim'],\n",
       "      dtype='object')"
      ]
     },
     "execution_count": 6,
     "metadata": {},
     "output_type": "execute_result"
    }
   ],
   "source": [
    "raw_data.columns"
   ]
  },
  {
   "cell_type": "markdown",
   "id": "4bc841bd",
   "metadata": {},
   "source": [
    "Notice that the columns are not properly named. Now want to create first data frame with columns of interest."
   ]
  },
  {
   "cell_type": "code",
   "execution_count": 7,
   "id": "2d985355",
   "metadata": {},
   "outputs": [],
   "source": [
    "#df1 = raw_data.iloc[:, [0, 1, 5]]\n",
    "df1 = raw_data.loc[:, ['pl_name','pl_orbper','pl_orbeccen']]\n",
    "df1.reset_index(drop=True, inplace=True)"
   ]
  },
  {
   "cell_type": "code",
   "execution_count": 8,
   "id": "08fdea39",
   "metadata": {},
   "outputs": [
    {
     "data": {
      "text/html": [
       "<div>\n",
       "<style scoped>\n",
       "    .dataframe tbody tr th:only-of-type {\n",
       "        vertical-align: middle;\n",
       "    }\n",
       "\n",
       "    .dataframe tbody tr th {\n",
       "        vertical-align: top;\n",
       "    }\n",
       "\n",
       "    .dataframe thead th {\n",
       "        text-align: right;\n",
       "    }\n",
       "</style>\n",
       "<table border=\"1\" class=\"dataframe\">\n",
       "  <thead>\n",
       "    <tr style=\"text-align: right;\">\n",
       "      <th></th>\n",
       "      <th>pl_name</th>\n",
       "      <th>pl_orbper</th>\n",
       "      <th>pl_orbeccen</th>\n",
       "    </tr>\n",
       "  </thead>\n",
       "  <tbody>\n",
       "    <tr>\n",
       "      <th>0</th>\n",
       "      <td>11 Com b</td>\n",
       "      <td>326.030000</td>\n",
       "      <td>0.2310</td>\n",
       "    </tr>\n",
       "    <tr>\n",
       "      <th>1</th>\n",
       "      <td>11 UMi b</td>\n",
       "      <td>516.219970</td>\n",
       "      <td>0.0800</td>\n",
       "    </tr>\n",
       "    <tr>\n",
       "      <th>2</th>\n",
       "      <td>14 And b</td>\n",
       "      <td>185.840000</td>\n",
       "      <td>0.0000</td>\n",
       "    </tr>\n",
       "    <tr>\n",
       "      <th>3</th>\n",
       "      <td>14 Her b</td>\n",
       "      <td>1773.400020</td>\n",
       "      <td>0.3700</td>\n",
       "    </tr>\n",
       "    <tr>\n",
       "      <th>4</th>\n",
       "      <td>16 Cyg B b</td>\n",
       "      <td>798.500000</td>\n",
       "      <td>0.6800</td>\n",
       "    </tr>\n",
       "    <tr>\n",
       "      <th>...</th>\n",
       "      <td>...</td>\n",
       "      <td>...</td>\n",
       "      <td>...</td>\n",
       "    </tr>\n",
       "    <tr>\n",
       "      <th>5004</th>\n",
       "      <td>ups And b</td>\n",
       "      <td>4.617033</td>\n",
       "      <td>0.0215</td>\n",
       "    </tr>\n",
       "    <tr>\n",
       "      <th>5005</th>\n",
       "      <td>ups And c</td>\n",
       "      <td>241.258000</td>\n",
       "      <td>0.2596</td>\n",
       "    </tr>\n",
       "    <tr>\n",
       "      <th>5006</th>\n",
       "      <td>ups And d</td>\n",
       "      <td>1276.460000</td>\n",
       "      <td>0.2987</td>\n",
       "    </tr>\n",
       "    <tr>\n",
       "      <th>5007</th>\n",
       "      <td>ups Leo b</td>\n",
       "      <td>385.200000</td>\n",
       "      <td>0.3200</td>\n",
       "    </tr>\n",
       "    <tr>\n",
       "      <th>5008</th>\n",
       "      <td>xi Aql b</td>\n",
       "      <td>136.750000</td>\n",
       "      <td>0.0000</td>\n",
       "    </tr>\n",
       "  </tbody>\n",
       "</table>\n",
       "<p>5009 rows × 3 columns</p>\n",
       "</div>"
      ],
      "text/plain": [
       "         pl_name    pl_orbper  pl_orbeccen\n",
       "0       11 Com b   326.030000       0.2310\n",
       "1       11 UMi b   516.219970       0.0800\n",
       "2       14 And b   185.840000       0.0000\n",
       "3       14 Her b  1773.400020       0.3700\n",
       "4     16 Cyg B b   798.500000       0.6800\n",
       "...          ...          ...          ...\n",
       "5004   ups And b     4.617033       0.0215\n",
       "5005   ups And c   241.258000       0.2596\n",
       "5006   ups And d  1276.460000       0.2987\n",
       "5007   ups Leo b   385.200000       0.3200\n",
       "5008    xi Aql b   136.750000       0.0000\n",
       "\n",
       "[5009 rows x 3 columns]"
      ]
     },
     "execution_count": 8,
     "metadata": {},
     "output_type": "execute_result"
    }
   ],
   "source": [
    "df1"
   ]
  },
  {
   "cell_type": "markdown",
   "id": "d0afc98d",
   "metadata": {},
   "source": [
    "Need to rename the columns of interest to make analysis clearer and remove unnecessary rows."
   ]
  },
  {
   "cell_type": "code",
   "execution_count": 9,
   "id": "53ea18c9",
   "metadata": {},
   "outputs": [],
   "source": [
    "df1 = df1.rename(columns={'pl_name':'planetname', 'pl_orbper':'orbitperiod', 'pl_orbeccen':'eccentricity'})\n",
    "#df1 = df1.drop([0])"
   ]
  },
  {
   "cell_type": "code",
   "execution_count": 10,
   "id": "72ba1c14",
   "metadata": {},
   "outputs": [
    {
     "data": {
      "text/html": [
       "<div>\n",
       "<style scoped>\n",
       "    .dataframe tbody tr th:only-of-type {\n",
       "        vertical-align: middle;\n",
       "    }\n",
       "\n",
       "    .dataframe tbody tr th {\n",
       "        vertical-align: top;\n",
       "    }\n",
       "\n",
       "    .dataframe thead th {\n",
       "        text-align: right;\n",
       "    }\n",
       "</style>\n",
       "<table border=\"1\" class=\"dataframe\">\n",
       "  <thead>\n",
       "    <tr style=\"text-align: right;\">\n",
       "      <th></th>\n",
       "      <th>planetname</th>\n",
       "      <th>orbitperiod</th>\n",
       "      <th>eccentricity</th>\n",
       "    </tr>\n",
       "  </thead>\n",
       "  <tbody>\n",
       "    <tr>\n",
       "      <th>0</th>\n",
       "      <td>11 Com b</td>\n",
       "      <td>326.030000</td>\n",
       "      <td>0.2310</td>\n",
       "    </tr>\n",
       "    <tr>\n",
       "      <th>1</th>\n",
       "      <td>11 UMi b</td>\n",
       "      <td>516.219970</td>\n",
       "      <td>0.0800</td>\n",
       "    </tr>\n",
       "    <tr>\n",
       "      <th>2</th>\n",
       "      <td>14 And b</td>\n",
       "      <td>185.840000</td>\n",
       "      <td>0.0000</td>\n",
       "    </tr>\n",
       "    <tr>\n",
       "      <th>3</th>\n",
       "      <td>14 Her b</td>\n",
       "      <td>1773.400020</td>\n",
       "      <td>0.3700</td>\n",
       "    </tr>\n",
       "    <tr>\n",
       "      <th>4</th>\n",
       "      <td>16 Cyg B b</td>\n",
       "      <td>798.500000</td>\n",
       "      <td>0.6800</td>\n",
       "    </tr>\n",
       "    <tr>\n",
       "      <th>...</th>\n",
       "      <td>...</td>\n",
       "      <td>...</td>\n",
       "      <td>...</td>\n",
       "    </tr>\n",
       "    <tr>\n",
       "      <th>5004</th>\n",
       "      <td>ups And b</td>\n",
       "      <td>4.617033</td>\n",
       "      <td>0.0215</td>\n",
       "    </tr>\n",
       "    <tr>\n",
       "      <th>5005</th>\n",
       "      <td>ups And c</td>\n",
       "      <td>241.258000</td>\n",
       "      <td>0.2596</td>\n",
       "    </tr>\n",
       "    <tr>\n",
       "      <th>5006</th>\n",
       "      <td>ups And d</td>\n",
       "      <td>1276.460000</td>\n",
       "      <td>0.2987</td>\n",
       "    </tr>\n",
       "    <tr>\n",
       "      <th>5007</th>\n",
       "      <td>ups Leo b</td>\n",
       "      <td>385.200000</td>\n",
       "      <td>0.3200</td>\n",
       "    </tr>\n",
       "    <tr>\n",
       "      <th>5008</th>\n",
       "      <td>xi Aql b</td>\n",
       "      <td>136.750000</td>\n",
       "      <td>0.0000</td>\n",
       "    </tr>\n",
       "  </tbody>\n",
       "</table>\n",
       "<p>5009 rows × 3 columns</p>\n",
       "</div>"
      ],
      "text/plain": [
       "      planetname  orbitperiod  eccentricity\n",
       "0       11 Com b   326.030000        0.2310\n",
       "1       11 UMi b   516.219970        0.0800\n",
       "2       14 And b   185.840000        0.0000\n",
       "3       14 Her b  1773.400020        0.3700\n",
       "4     16 Cyg B b   798.500000        0.6800\n",
       "...          ...          ...           ...\n",
       "5004   ups And b     4.617033        0.0215\n",
       "5005   ups And c   241.258000        0.2596\n",
       "5006   ups And d  1276.460000        0.2987\n",
       "5007   ups Leo b   385.200000        0.3200\n",
       "5008    xi Aql b   136.750000        0.0000\n",
       "\n",
       "[5009 rows x 3 columns]"
      ]
     },
     "execution_count": 10,
     "metadata": {},
     "output_type": "execute_result"
    }
   ],
   "source": [
    "df1"
   ]
  },
  {
   "cell_type": "markdown",
   "id": "37474da3",
   "metadata": {},
   "source": [
    "Data frame 2 will remove all the NA values from original data frame."
   ]
  },
  {
   "cell_type": "code",
   "execution_count": 11,
   "id": "1291d0d6",
   "metadata": {},
   "outputs": [],
   "source": [
    "df2 = df1.dropna()"
   ]
  },
  {
   "cell_type": "code",
   "execution_count": 12,
   "id": "b17d4e43",
   "metadata": {},
   "outputs": [
    {
     "data": {
      "text/html": [
       "<div>\n",
       "<style scoped>\n",
       "    .dataframe tbody tr th:only-of-type {\n",
       "        vertical-align: middle;\n",
       "    }\n",
       "\n",
       "    .dataframe tbody tr th {\n",
       "        vertical-align: top;\n",
       "    }\n",
       "\n",
       "    .dataframe thead th {\n",
       "        text-align: right;\n",
       "    }\n",
       "</style>\n",
       "<table border=\"1\" class=\"dataframe\">\n",
       "  <thead>\n",
       "    <tr style=\"text-align: right;\">\n",
       "      <th></th>\n",
       "      <th>planetname</th>\n",
       "      <th>orbitperiod</th>\n",
       "      <th>eccentricity</th>\n",
       "    </tr>\n",
       "  </thead>\n",
       "  <tbody>\n",
       "    <tr>\n",
       "      <th>0</th>\n",
       "      <td>11 Com b</td>\n",
       "      <td>326.030000</td>\n",
       "      <td>0.2310</td>\n",
       "    </tr>\n",
       "    <tr>\n",
       "      <th>1</th>\n",
       "      <td>11 UMi b</td>\n",
       "      <td>516.219970</td>\n",
       "      <td>0.0800</td>\n",
       "    </tr>\n",
       "    <tr>\n",
       "      <th>2</th>\n",
       "      <td>14 And b</td>\n",
       "      <td>185.840000</td>\n",
       "      <td>0.0000</td>\n",
       "    </tr>\n",
       "    <tr>\n",
       "      <th>3</th>\n",
       "      <td>14 Her b</td>\n",
       "      <td>1773.400020</td>\n",
       "      <td>0.3700</td>\n",
       "    </tr>\n",
       "    <tr>\n",
       "      <th>4</th>\n",
       "      <td>16 Cyg B b</td>\n",
       "      <td>798.500000</td>\n",
       "      <td>0.6800</td>\n",
       "    </tr>\n",
       "    <tr>\n",
       "      <th>...</th>\n",
       "      <td>...</td>\n",
       "      <td>...</td>\n",
       "      <td>...</td>\n",
       "    </tr>\n",
       "    <tr>\n",
       "      <th>5004</th>\n",
       "      <td>ups And b</td>\n",
       "      <td>4.617033</td>\n",
       "      <td>0.0215</td>\n",
       "    </tr>\n",
       "    <tr>\n",
       "      <th>5005</th>\n",
       "      <td>ups And c</td>\n",
       "      <td>241.258000</td>\n",
       "      <td>0.2596</td>\n",
       "    </tr>\n",
       "    <tr>\n",
       "      <th>5006</th>\n",
       "      <td>ups And d</td>\n",
       "      <td>1276.460000</td>\n",
       "      <td>0.2987</td>\n",
       "    </tr>\n",
       "    <tr>\n",
       "      <th>5007</th>\n",
       "      <td>ups Leo b</td>\n",
       "      <td>385.200000</td>\n",
       "      <td>0.3200</td>\n",
       "    </tr>\n",
       "    <tr>\n",
       "      <th>5008</th>\n",
       "      <td>xi Aql b</td>\n",
       "      <td>136.750000</td>\n",
       "      <td>0.0000</td>\n",
       "    </tr>\n",
       "  </tbody>\n",
       "</table>\n",
       "<p>1758 rows × 3 columns</p>\n",
       "</div>"
      ],
      "text/plain": [
       "      planetname  orbitperiod  eccentricity\n",
       "0       11 Com b   326.030000        0.2310\n",
       "1       11 UMi b   516.219970        0.0800\n",
       "2       14 And b   185.840000        0.0000\n",
       "3       14 Her b  1773.400020        0.3700\n",
       "4     16 Cyg B b   798.500000        0.6800\n",
       "...          ...          ...           ...\n",
       "5004   ups And b     4.617033        0.0215\n",
       "5005   ups And c   241.258000        0.2596\n",
       "5006   ups And d  1276.460000        0.2987\n",
       "5007   ups Leo b   385.200000        0.3200\n",
       "5008    xi Aql b   136.750000        0.0000\n",
       "\n",
       "[1758 rows x 3 columns]"
      ]
     },
     "execution_count": 12,
     "metadata": {},
     "output_type": "execute_result"
    }
   ],
   "source": [
    "df2"
   ]
  },
  {
   "cell_type": "markdown",
   "id": "b4ff9a39",
   "metadata": {},
   "source": [
    "The following logic is to determine the data types of the column entries in the latest data."
   ]
  },
  {
   "cell_type": "code",
   "execution_count": 13,
   "id": "686fada4",
   "metadata": {},
   "outputs": [
    {
     "name": "stdout",
     "output_type": "stream",
     "text": [
      "<class 'numpy.float64'>\n",
      "<class 'numpy.float64'>\n"
     ]
    }
   ],
   "source": [
    "print(type(df2.iloc[0][1])) # <- Notice the columns are strings and not numeric.\n",
    "print(type(df2.iloc[0][2]))"
   ]
  },
  {
   "cell_type": "markdown",
   "id": "e5bdf2e7",
   "metadata": {},
   "source": [
    "Now to convert just columns \"a\" and \"b\". That is, convert the 'orbitperiod' and 'eccentricity' columns into numerics from string data types."
   ]
  },
  {
   "cell_type": "code",
   "execution_count": 14,
   "id": "1ca32d7e",
   "metadata": {},
   "outputs": [],
   "source": [
    "#df2.loc[:, 'orbitperiod'] = df2.loc[:, 'orbitperiod'].apply(pd.to_numeric)\n",
    "#df2.loc[:, 'eccentricity'] = df2.loc[:, 'eccentricity'].apply(pd.to_numeric)"
   ]
  },
  {
   "cell_type": "code",
   "execution_count": 15,
   "id": "ea8033e1",
   "metadata": {},
   "outputs": [],
   "source": [
    "#x1 = df2.iloc[:, 1].apply(pd.to_numeric)\n",
    "#x2 = df2.iloc[:, 2].apply(pd.to_numeric)\n",
    "#x3 = df2.iloc[:,0] #<- this is the column with the column names"
   ]
  },
  {
   "cell_type": "code",
   "execution_count": 16,
   "id": "d22ef78e",
   "metadata": {},
   "outputs": [],
   "source": [
    "#df2_1 = pd.concat([x3,x1,x2], axis = 1)"
   ]
  },
  {
   "cell_type": "code",
   "execution_count": 17,
   "id": "2a8084cc",
   "metadata": {},
   "outputs": [
    {
     "data": {
      "text/html": [
       "<div>\n",
       "<style scoped>\n",
       "    .dataframe tbody tr th:only-of-type {\n",
       "        vertical-align: middle;\n",
       "    }\n",
       "\n",
       "    .dataframe tbody tr th {\n",
       "        vertical-align: top;\n",
       "    }\n",
       "\n",
       "    .dataframe thead th {\n",
       "        text-align: right;\n",
       "    }\n",
       "</style>\n",
       "<table border=\"1\" class=\"dataframe\">\n",
       "  <thead>\n",
       "    <tr style=\"text-align: right;\">\n",
       "      <th></th>\n",
       "      <th>planetname</th>\n",
       "      <th>orbitperiod</th>\n",
       "      <th>eccentricity</th>\n",
       "    </tr>\n",
       "  </thead>\n",
       "  <tbody>\n",
       "    <tr>\n",
       "      <th>0</th>\n",
       "      <td>11 Com b</td>\n",
       "      <td>326.030000</td>\n",
       "      <td>0.2310</td>\n",
       "    </tr>\n",
       "    <tr>\n",
       "      <th>1</th>\n",
       "      <td>11 UMi b</td>\n",
       "      <td>516.219970</td>\n",
       "      <td>0.0800</td>\n",
       "    </tr>\n",
       "    <tr>\n",
       "      <th>2</th>\n",
       "      <td>14 And b</td>\n",
       "      <td>185.840000</td>\n",
       "      <td>0.0000</td>\n",
       "    </tr>\n",
       "    <tr>\n",
       "      <th>3</th>\n",
       "      <td>14 Her b</td>\n",
       "      <td>1773.400020</td>\n",
       "      <td>0.3700</td>\n",
       "    </tr>\n",
       "    <tr>\n",
       "      <th>4</th>\n",
       "      <td>16 Cyg B b</td>\n",
       "      <td>798.500000</td>\n",
       "      <td>0.6800</td>\n",
       "    </tr>\n",
       "    <tr>\n",
       "      <th>...</th>\n",
       "      <td>...</td>\n",
       "      <td>...</td>\n",
       "      <td>...</td>\n",
       "    </tr>\n",
       "    <tr>\n",
       "      <th>5004</th>\n",
       "      <td>ups And b</td>\n",
       "      <td>4.617033</td>\n",
       "      <td>0.0215</td>\n",
       "    </tr>\n",
       "    <tr>\n",
       "      <th>5005</th>\n",
       "      <td>ups And c</td>\n",
       "      <td>241.258000</td>\n",
       "      <td>0.2596</td>\n",
       "    </tr>\n",
       "    <tr>\n",
       "      <th>5006</th>\n",
       "      <td>ups And d</td>\n",
       "      <td>1276.460000</td>\n",
       "      <td>0.2987</td>\n",
       "    </tr>\n",
       "    <tr>\n",
       "      <th>5007</th>\n",
       "      <td>ups Leo b</td>\n",
       "      <td>385.200000</td>\n",
       "      <td>0.3200</td>\n",
       "    </tr>\n",
       "    <tr>\n",
       "      <th>5008</th>\n",
       "      <td>xi Aql b</td>\n",
       "      <td>136.750000</td>\n",
       "      <td>0.0000</td>\n",
       "    </tr>\n",
       "  </tbody>\n",
       "</table>\n",
       "<p>1758 rows × 3 columns</p>\n",
       "</div>"
      ],
      "text/plain": [
       "      planetname  orbitperiod  eccentricity\n",
       "0       11 Com b   326.030000        0.2310\n",
       "1       11 UMi b   516.219970        0.0800\n",
       "2       14 And b   185.840000        0.0000\n",
       "3       14 Her b  1773.400020        0.3700\n",
       "4     16 Cyg B b   798.500000        0.6800\n",
       "...          ...          ...           ...\n",
       "5004   ups And b     4.617033        0.0215\n",
       "5005   ups And c   241.258000        0.2596\n",
       "5006   ups And d  1276.460000        0.2987\n",
       "5007   ups Leo b   385.200000        0.3200\n",
       "5008    xi Aql b   136.750000        0.0000\n",
       "\n",
       "[1758 rows x 3 columns]"
      ]
     },
     "execution_count": 17,
     "metadata": {},
     "output_type": "execute_result"
    }
   ],
   "source": [
    "df2"
   ]
  },
  {
   "cell_type": "code",
   "execution_count": 18,
   "id": "16541287",
   "metadata": {},
   "outputs": [
    {
     "name": "stdout",
     "output_type": "stream",
     "text": [
      "float64\n"
     ]
    }
   ],
   "source": [
    "print(df2.dtypes['eccentricity'])"
   ]
  },
  {
   "cell_type": "code",
   "execution_count": 19,
   "id": "2dec16b2",
   "metadata": {},
   "outputs": [
    {
     "name": "stdout",
     "output_type": "stream",
     "text": [
      "<class 'pandas.core.frame.DataFrame'>\n"
     ]
    }
   ],
   "source": [
    "print(type(df2))"
   ]
  },
  {
   "cell_type": "markdown",
   "id": "fb39f52c",
   "metadata": {},
   "source": [
    "Dataframe 3 will take the averages of multiple planet entries. Following lines will take arithmetic mean of the two columns of interest and concate the two columns into the third dataframe."
   ]
  },
  {
   "cell_type": "markdown",
   "id": "6ff240e5",
   "metadata": {},
   "source": [
    "First will create intermediate variables to store the resulting averages."
   ]
  },
  {
   "cell_type": "code",
   "execution_count": 20,
   "id": "46517e73",
   "metadata": {},
   "outputs": [],
   "source": [
    "x4 = df2.groupby('planetname')['eccentricity'].mean()\n",
    "x5 = df2.groupby('planetname')['orbitperiod'].mean()"
   ]
  },
  {
   "cell_type": "code",
   "execution_count": 21,
   "id": "a0dc6484",
   "metadata": {},
   "outputs": [
    {
     "data": {
      "text/plain": [
       "planetname\n",
       "11 Com b       326.030000\n",
       "11 UMi b       516.219970\n",
       "14 And b       185.840000\n",
       "14 Her b      1773.400020\n",
       "16 Cyg B b     798.500000\n",
       "                 ...     \n",
       "ups And b        4.617033\n",
       "ups And c      241.258000\n",
       "ups And d     1276.460000\n",
       "ups Leo b      385.200000\n",
       "xi Aql b       136.750000\n",
       "Name: orbitperiod, Length: 1758, dtype: float64"
      ]
     },
     "execution_count": 21,
     "metadata": {},
     "output_type": "execute_result"
    }
   ],
   "source": [
    "x4\n",
    "x5"
   ]
  },
  {
   "cell_type": "code",
   "execution_count": 22,
   "id": "87df5b37",
   "metadata": {},
   "outputs": [
    {
     "data": {
      "text/plain": [
       "pandas.core.series.Series"
      ]
     },
     "execution_count": 22,
     "metadata": {},
     "output_type": "execute_result"
    }
   ],
   "source": [
    "type(x4)"
   ]
  },
  {
   "cell_type": "code",
   "execution_count": 23,
   "id": "c9789fec",
   "metadata": {},
   "outputs": [
    {
     "data": {
      "text/plain": [
       "pandas.core.series.Series"
      ]
     },
     "execution_count": 23,
     "metadata": {},
     "output_type": "execute_result"
    }
   ],
   "source": [
    "type(x5)"
   ]
  },
  {
   "cell_type": "code",
   "execution_count": 24,
   "id": "b3ae8e52",
   "metadata": {},
   "outputs": [
    {
     "data": {
      "text/html": [
       "<div>\n",
       "<style scoped>\n",
       "    .dataframe tbody tr th:only-of-type {\n",
       "        vertical-align: middle;\n",
       "    }\n",
       "\n",
       "    .dataframe tbody tr th {\n",
       "        vertical-align: top;\n",
       "    }\n",
       "\n",
       "    .dataframe thead th {\n",
       "        text-align: right;\n",
       "    }\n",
       "</style>\n",
       "<table border=\"1\" class=\"dataframe\">\n",
       "  <thead>\n",
       "    <tr style=\"text-align: right;\">\n",
       "      <th></th>\n",
       "      <th>eccentricity</th>\n",
       "      <th>orbitperiod</th>\n",
       "    </tr>\n",
       "    <tr>\n",
       "      <th>planetname</th>\n",
       "      <th></th>\n",
       "      <th></th>\n",
       "    </tr>\n",
       "  </thead>\n",
       "  <tbody>\n",
       "    <tr>\n",
       "      <th>11 Com b</th>\n",
       "      <td>0.2310</td>\n",
       "      <td>326.030000</td>\n",
       "    </tr>\n",
       "    <tr>\n",
       "      <th>11 UMi b</th>\n",
       "      <td>0.0800</td>\n",
       "      <td>516.219970</td>\n",
       "    </tr>\n",
       "    <tr>\n",
       "      <th>14 And b</th>\n",
       "      <td>0.0000</td>\n",
       "      <td>185.840000</td>\n",
       "    </tr>\n",
       "    <tr>\n",
       "      <th>14 Her b</th>\n",
       "      <td>0.3700</td>\n",
       "      <td>1773.400020</td>\n",
       "    </tr>\n",
       "    <tr>\n",
       "      <th>16 Cyg B b</th>\n",
       "      <td>0.6800</td>\n",
       "      <td>798.500000</td>\n",
       "    </tr>\n",
       "    <tr>\n",
       "      <th>...</th>\n",
       "      <td>...</td>\n",
       "      <td>...</td>\n",
       "    </tr>\n",
       "    <tr>\n",
       "      <th>ups And b</th>\n",
       "      <td>0.0215</td>\n",
       "      <td>4.617033</td>\n",
       "    </tr>\n",
       "    <tr>\n",
       "      <th>ups And c</th>\n",
       "      <td>0.2596</td>\n",
       "      <td>241.258000</td>\n",
       "    </tr>\n",
       "    <tr>\n",
       "      <th>ups And d</th>\n",
       "      <td>0.2987</td>\n",
       "      <td>1276.460000</td>\n",
       "    </tr>\n",
       "    <tr>\n",
       "      <th>ups Leo b</th>\n",
       "      <td>0.3200</td>\n",
       "      <td>385.200000</td>\n",
       "    </tr>\n",
       "    <tr>\n",
       "      <th>xi Aql b</th>\n",
       "      <td>0.0000</td>\n",
       "      <td>136.750000</td>\n",
       "    </tr>\n",
       "  </tbody>\n",
       "</table>\n",
       "<p>1758 rows × 2 columns</p>\n",
       "</div>"
      ],
      "text/plain": [
       "            eccentricity  orbitperiod\n",
       "planetname                           \n",
       "11 Com b          0.2310   326.030000\n",
       "11 UMi b          0.0800   516.219970\n",
       "14 And b          0.0000   185.840000\n",
       "14 Her b          0.3700  1773.400020\n",
       "16 Cyg B b        0.6800   798.500000\n",
       "...                  ...          ...\n",
       "ups And b         0.0215     4.617033\n",
       "ups And c         0.2596   241.258000\n",
       "ups And d         0.2987  1276.460000\n",
       "ups Leo b         0.3200   385.200000\n",
       "xi Aql b          0.0000   136.750000\n",
       "\n",
       "[1758 rows x 2 columns]"
      ]
     },
     "execution_count": 24,
     "metadata": {},
     "output_type": "execute_result"
    }
   ],
   "source": [
    "df3 = pd.concat([x4, x5], axis = 1)\n",
    "df3"
   ]
  },
  {
   "cell_type": "code",
   "execution_count": 25,
   "id": "f57cae73",
   "metadata": {},
   "outputs": [
    {
     "data": {
      "text/html": [
       "<div>\n",
       "<style scoped>\n",
       "    .dataframe tbody tr th:only-of-type {\n",
       "        vertical-align: middle;\n",
       "    }\n",
       "\n",
       "    .dataframe tbody tr th {\n",
       "        vertical-align: top;\n",
       "    }\n",
       "\n",
       "    .dataframe thead th {\n",
       "        text-align: right;\n",
       "    }\n",
       "</style>\n",
       "<table border=\"1\" class=\"dataframe\">\n",
       "  <thead>\n",
       "    <tr style=\"text-align: right;\">\n",
       "      <th></th>\n",
       "      <th>eccentricity</th>\n",
       "      <th>orbitperiod</th>\n",
       "      <th>planetname</th>\n",
       "    </tr>\n",
       "    <tr>\n",
       "      <th>planetname</th>\n",
       "      <th></th>\n",
       "      <th></th>\n",
       "      <th></th>\n",
       "    </tr>\n",
       "  </thead>\n",
       "  <tbody>\n",
       "    <tr>\n",
       "      <th>11 Com b</th>\n",
       "      <td>0.2310</td>\n",
       "      <td>326.030000</td>\n",
       "      <td>11 Com b</td>\n",
       "    </tr>\n",
       "    <tr>\n",
       "      <th>11 UMi b</th>\n",
       "      <td>0.0800</td>\n",
       "      <td>516.219970</td>\n",
       "      <td>11 UMi b</td>\n",
       "    </tr>\n",
       "    <tr>\n",
       "      <th>14 And b</th>\n",
       "      <td>0.0000</td>\n",
       "      <td>185.840000</td>\n",
       "      <td>14 And b</td>\n",
       "    </tr>\n",
       "    <tr>\n",
       "      <th>14 Her b</th>\n",
       "      <td>0.3700</td>\n",
       "      <td>1773.400020</td>\n",
       "      <td>14 Her b</td>\n",
       "    </tr>\n",
       "    <tr>\n",
       "      <th>16 Cyg B b</th>\n",
       "      <td>0.6800</td>\n",
       "      <td>798.500000</td>\n",
       "      <td>16 Cyg B b</td>\n",
       "    </tr>\n",
       "    <tr>\n",
       "      <th>...</th>\n",
       "      <td>...</td>\n",
       "      <td>...</td>\n",
       "      <td>...</td>\n",
       "    </tr>\n",
       "    <tr>\n",
       "      <th>ups And b</th>\n",
       "      <td>0.0215</td>\n",
       "      <td>4.617033</td>\n",
       "      <td>ups And b</td>\n",
       "    </tr>\n",
       "    <tr>\n",
       "      <th>ups And c</th>\n",
       "      <td>0.2596</td>\n",
       "      <td>241.258000</td>\n",
       "      <td>ups And c</td>\n",
       "    </tr>\n",
       "    <tr>\n",
       "      <th>ups And d</th>\n",
       "      <td>0.2987</td>\n",
       "      <td>1276.460000</td>\n",
       "      <td>ups And d</td>\n",
       "    </tr>\n",
       "    <tr>\n",
       "      <th>ups Leo b</th>\n",
       "      <td>0.3200</td>\n",
       "      <td>385.200000</td>\n",
       "      <td>ups Leo b</td>\n",
       "    </tr>\n",
       "    <tr>\n",
       "      <th>xi Aql b</th>\n",
       "      <td>0.0000</td>\n",
       "      <td>136.750000</td>\n",
       "      <td>xi Aql b</td>\n",
       "    </tr>\n",
       "  </tbody>\n",
       "</table>\n",
       "<p>1758 rows × 3 columns</p>\n",
       "</div>"
      ],
      "text/plain": [
       "            eccentricity  orbitperiod  planetname\n",
       "planetname                                       \n",
       "11 Com b          0.2310   326.030000    11 Com b\n",
       "11 UMi b          0.0800   516.219970    11 UMi b\n",
       "14 And b          0.0000   185.840000    14 And b\n",
       "14 Her b          0.3700  1773.400020    14 Her b\n",
       "16 Cyg B b        0.6800   798.500000  16 Cyg B b\n",
       "...                  ...          ...         ...\n",
       "ups And b         0.0215     4.617033   ups And b\n",
       "ups And c         0.2596   241.258000   ups And c\n",
       "ups And d         0.2987  1276.460000   ups And d\n",
       "ups Leo b         0.3200   385.200000   ups Leo b\n",
       "xi Aql b          0.0000   136.750000    xi Aql b\n",
       "\n",
       "[1758 rows x 3 columns]"
      ]
     },
     "execution_count": 25,
     "metadata": {},
     "output_type": "execute_result"
    }
   ],
   "source": [
    "df3['planetname'] = df3.index\n",
    "df3"
   ]
  },
  {
   "cell_type": "markdown",
   "id": "7123b4fd",
   "metadata": {},
   "source": [
    "df3 has the final version of the 'raw' data frame. Notice that at this time, dataframe 3 (df3) is not necessary. All the filtering and cleaning was handled by df2."
   ]
  },
  {
   "cell_type": "code",
   "execution_count": 26,
   "id": "ae3dde1a",
   "metadata": {},
   "outputs": [
    {
     "data": {
      "text/plain": [
       "Index(['eccentricity', 'orbitperiod', 'planetname'], dtype='object')"
      ]
     },
     "execution_count": 26,
     "metadata": {},
     "output_type": "execute_result"
    }
   ],
   "source": [
    "df3.columns"
   ]
  },
  {
   "cell_type": "markdown",
   "id": "aa3a47fc",
   "metadata": {},
   "source": [
    "    In this part want to explicitly declare the median and IQR of the two columns which are the variables."
   ]
  },
  {
   "cell_type": "code",
   "execution_count": 27,
   "id": "b57a3999",
   "metadata": {},
   "outputs": [
    {
     "name": "stdout",
     "output_type": "stream",
     "text": [
      "\n",
      "The median of the orbital period: 18.18\n",
      "\n",
      "The median of the eccentricity: 0.09\n",
      "\n",
      "The interquartile range of the eccentricity: 0.21\n",
      "\n",
      "The interquartile range of the orbital period: 399.10\n"
     ]
    }
   ],
   "source": [
    "ecce = df2['eccentricity']\n",
    "orbper = df2['orbitperiod']\n",
    "eccen_med = statistics.median(list(ecce))\n",
    "orbper_med = statistics.median(list(orbper))\n",
    "print('\\nThe median of the orbital period: %.2f' % orbper_med)\n",
    "print('\\nThe median of the eccentricity: %.2f' % eccen_med)\n",
    "iqr_ecce = stats.iqr(ecce, interpolation = 'midpoint')\n",
    "iqr_op = stats.iqr(orbper, interpolation = 'midpoint')\n",
    "print('\\nThe interquartile range of the eccentricity: %.2f' % iqr_ecce)\n",
    "print('\\nThe interquartile range of the orbital period: %.2f' % iqr_op)"
   ]
  },
  {
   "cell_type": "code",
   "execution_count": 28,
   "id": "b97484d1",
   "metadata": {},
   "outputs": [
    {
     "name": "stdout",
     "output_type": "stream",
     "text": [
      "The mode of the eccentricity: \n",
      "0.00\n"
     ]
    }
   ],
   "source": [
    "ecce_mode = statistics.mode(list(ecce))\n",
    "print('The mode of the eccentricity: \\n%.2f' %ecce_mode)"
   ]
  },
  {
   "cell_type": "code",
   "execution_count": 29,
   "id": "33aa564c",
   "metadata": {},
   "outputs": [
    {
     "data": {
      "text/plain": [
       "0.15419357224118316"
      ]
     },
     "execution_count": 29,
     "metadata": {},
     "output_type": "execute_result"
    }
   ],
   "source": [
    "ecce_avg = statistics.mean(list(ecce))\n",
    "ecce_avg"
   ]
  },
  {
   "cell_type": "code",
   "execution_count": 30,
   "id": "6f880e74",
   "metadata": {},
   "outputs": [],
   "source": [
    "#import plotly.figure_factory as ff\n",
    "#hist_data = [df2.eccentricity]\n",
    "#group_labels = ['distirbution']\n",
    "#fig1 = ff.create_distplot(hist_data, group_labels)\n",
    "#fig1.show()"
   ]
  },
  {
   "cell_type": "code",
   "execution_count": 31,
   "id": "afee9a60",
   "metadata": {},
   "outputs": [
    {
     "data": {
      "text/plain": [
       "(array([894., 335., 209., 114.,  72.,  55.,  29.,  22.,  19.,   9.]),\n",
       " array([0.   , 0.095, 0.19 , 0.285, 0.38 , 0.475, 0.57 , 0.665, 0.76 ,\n",
       "        0.855, 0.95 ]),\n",
       " <BarContainer object of 10 artists>)"
      ]
     },
     "execution_count": 31,
     "metadata": {},
     "output_type": "execute_result"
    },
    {
     "data": {
      "image/png": "[encoded data removed]",
      "text/plain": [
       "<Figure size 432x288 with 1 Axes>"
      ]
     },
     "metadata": {
      "needs_background": "light"
     },
     "output_type": "display_data"
    }
   ],
   "source": [
    "plt.hist(df3.eccentricity, color = \"darkgreen\")"
   ]
  },
  {
   "cell_type": "markdown",
   "id": "0570cfd7",
   "metadata": {},
   "source": [
    "The next section of code will use Robust Scaling to properly scale the dataframe. I want to use the kNN supervised learning model, but it is distance based and thus sensitive to scale of the data points."
   ]
  },
  {
   "cell_type": "code",
   "execution_count": 32,
   "id": "6183ba57",
   "metadata": {},
   "outputs": [
    {
     "data": {
      "text/html": [
       "<div>\n",
       "<style scoped>\n",
       "    .dataframe tbody tr th:only-of-type {\n",
       "        vertical-align: middle;\n",
       "    }\n",
       "\n",
       "    .dataframe tbody tr th {\n",
       "        vertical-align: top;\n",
       "    }\n",
       "\n",
       "    .dataframe thead th {\n",
       "        text-align: right;\n",
       "    }\n",
       "</style>\n",
       "<table border=\"1\" class=\"dataframe\">\n",
       "  <thead>\n",
       "    <tr style=\"text-align: right;\">\n",
       "      <th></th>\n",
       "      <th>orbitperiod</th>\n",
       "      <th>eccentricity</th>\n",
       "    </tr>\n",
       "    <tr>\n",
       "      <th>planetname</th>\n",
       "      <th></th>\n",
       "      <th></th>\n",
       "    </tr>\n",
       "  </thead>\n",
       "  <tbody>\n",
       "    <tr>\n",
       "      <th>11 Com b</th>\n",
       "      <td>326.030000</td>\n",
       "      <td>0.2310</td>\n",
       "    </tr>\n",
       "    <tr>\n",
       "      <th>11 UMi b</th>\n",
       "      <td>516.219970</td>\n",
       "      <td>0.0800</td>\n",
       "    </tr>\n",
       "    <tr>\n",
       "      <th>14 And b</th>\n",
       "      <td>185.840000</td>\n",
       "      <td>0.0000</td>\n",
       "    </tr>\n",
       "    <tr>\n",
       "      <th>14 Her b</th>\n",
       "      <td>1773.400020</td>\n",
       "      <td>0.3700</td>\n",
       "    </tr>\n",
       "    <tr>\n",
       "      <th>16 Cyg B b</th>\n",
       "      <td>798.500000</td>\n",
       "      <td>0.6800</td>\n",
       "    </tr>\n",
       "    <tr>\n",
       "      <th>...</th>\n",
       "      <td>...</td>\n",
       "      <td>...</td>\n",
       "    </tr>\n",
       "    <tr>\n",
       "      <th>ups And b</th>\n",
       "      <td>4.617033</td>\n",
       "      <td>0.0215</td>\n",
       "    </tr>\n",
       "    <tr>\n",
       "      <th>ups And c</th>\n",
       "      <td>241.258000</td>\n",
       "      <td>0.2596</td>\n",
       "    </tr>\n",
       "    <tr>\n",
       "      <th>ups And d</th>\n",
       "      <td>1276.460000</td>\n",
       "      <td>0.2987</td>\n",
       "    </tr>\n",
       "    <tr>\n",
       "      <th>ups Leo b</th>\n",
       "      <td>385.200000</td>\n",
       "      <td>0.3200</td>\n",
       "    </tr>\n",
       "    <tr>\n",
       "      <th>xi Aql b</th>\n",
       "      <td>136.750000</td>\n",
       "      <td>0.0000</td>\n",
       "    </tr>\n",
       "  </tbody>\n",
       "</table>\n",
       "<p>1758 rows × 2 columns</p>\n",
       "</div>"
      ],
      "text/plain": [
       "            orbitperiod  eccentricity\n",
       "planetname                           \n",
       "11 Com b     326.030000        0.2310\n",
       "11 UMi b     516.219970        0.0800\n",
       "14 And b     185.840000        0.0000\n",
       "14 Her b    1773.400020        0.3700\n",
       "16 Cyg B b   798.500000        0.6800\n",
       "...                 ...           ...\n",
       "ups And b      4.617033        0.0215\n",
       "ups And c    241.258000        0.2596\n",
       "ups And d   1276.460000        0.2987\n",
       "ups Leo b    385.200000        0.3200\n",
       "xi Aql b     136.750000        0.0000\n",
       "\n",
       "[1758 rows x 2 columns]"
      ]
     },
     "execution_count": 32,
     "metadata": {},
     "output_type": "execute_result"
    }
   ],
   "source": [
    "x6 = df3[['orbitperiod', 'eccentricity']]\n",
    "x6"
   ]
  },
  {
   "cell_type": "code",
   "execution_count": 33,
   "id": "442b7031",
   "metadata": {},
   "outputs": [],
   "source": [
    "rs = RobustScaler().fit(x6)\n",
    "transformer = rs.transform(x6)"
   ]
  },
  {
   "cell_type": "code",
   "execution_count": 34,
   "id": "88bbb66c",
   "metadata": {},
   "outputs": [
    {
     "data": {
      "text/plain": [
       "numpy.ndarray"
      ]
     },
     "execution_count": 34,
     "metadata": {},
     "output_type": "execute_result"
    }
   ],
   "source": [
    "type(transformer)"
   ]
  },
  {
   "cell_type": "code",
   "execution_count": 35,
   "id": "d5f324ad",
   "metadata": {},
   "outputs": [
    {
     "data": {
      "text/plain": [
       "1758"
      ]
     },
     "execution_count": 35,
     "metadata": {},
     "output_type": "execute_result"
    }
   ],
   "source": [
    "len(transformer)"
   ]
  },
  {
   "cell_type": "code",
   "execution_count": 36,
   "id": "8c00d36f",
   "metadata": {},
   "outputs": [
    {
     "data": {
      "text/plain": [
       "array([[ 0.76860204,  0.68780488],\n",
       "       [ 1.24344198, -0.04878049],\n",
       "       [ 0.4185951 , -0.43902439],\n",
       "       ...,\n",
       "       [ 3.14150382,  1.01804878],\n",
       "       [ 0.91632949,  1.12195122],\n",
       "       [ 0.296034  , -0.43902439]])"
      ]
     },
     "execution_count": 36,
     "metadata": {},
     "output_type": "execute_result"
    }
   ],
   "source": [
    "transformer"
   ]
  },
  {
   "cell_type": "code",
   "execution_count": 37,
   "id": "afd2e523",
   "metadata": {},
   "outputs": [
    {
     "data": {
      "text/plain": [
       "(1758, 2)"
      ]
     },
     "execution_count": 37,
     "metadata": {},
     "output_type": "execute_result"
    }
   ],
   "source": [
    "transformer.shape"
   ]
  },
  {
   "cell_type": "code",
   "execution_count": 38,
   "id": "6fa1c827",
   "metadata": {},
   "outputs": [],
   "source": [
    "X = transformer[:, 0]\n",
    "y = transformer[:, 1]"
   ]
  },
  {
   "cell_type": "markdown",
   "id": "329f6cca",
   "metadata": {},
   "source": [
    "Now to split the data into training and testing using the test-train-split function defined earlier in the script."
   ]
  },
  {
   "cell_type": "code",
   "execution_count": 39,
   "id": "7a08ec7b",
   "metadata": {},
   "outputs": [],
   "source": [
    "x_train, x_test = tts(X)\n",
    "y_train, y_test = tts(y)"
   ]
  },
  {
   "cell_type": "code",
   "execution_count": 40,
   "id": "e535d645",
   "metadata": {},
   "outputs": [],
   "source": [
    "# Generate random predictions.\n",
    "def random_algorithm(train, test):\n",
    "    output_values = [row[-1] for row in train]\n",
    "    unique = list(set(output_values))\n",
    "    predicted = list()\n",
    "    for row in test:\n",
    "        index = randrange(len(unique))\n",
    "        predicted.append(unique[index])\n",
    "    return predicted"
   ]
  },
  {
   "cell_type": "code",
   "execution_count": 41,
   "id": "919ffcf4",
   "metadata": {},
   "outputs": [
    {
     "name": "stdout",
     "output_type": "stream",
     "text": [
      "[-0.017098509590587247]\n"
     ]
    }
   ],
   "source": [
    "# Test the function above against the previous data.\n",
    "predictions = random_algorithm([x_train], [x_test])\n",
    "print(predictions)"
   ]
  },
  {
   "cell_type": "markdown",
   "id": "21d9767c",
   "metadata": {},
   "source": [
    "Did calculations on the training and testing lists before converting them to a dataframe."
   ]
  },
  {
   "cell_type": "code",
   "execution_count": 42,
   "id": "99cd1dd9",
   "metadata": {},
   "outputs": [
    {
     "name": "stdout",
     "output_type": "stream",
     "text": [
      "\n",
      "Training x shape:  (1407, 1)\n",
      "Training y shape:  (1407, 1)\n",
      "Test x shape:  (351, 1)\n",
      "Test y shape:  (351, 1)\n"
     ]
    }
   ],
   "source": [
    "x_train, y_train = pd.DataFrame(x_train), pd.DataFrame(y_train)\n",
    "x_test, y_test = pd.DataFrame(x_test), pd.DataFrame(y_test)\n",
    "print('\\nTraining x shape: ', x_train.shape)\n",
    "print('Training y shape: ', y_train.shape)\n",
    "print('Test x shape: ', x_test.shape)\n",
    "print('Test y shape: ', y_test.shape)"
   ]
  },
  {
   "cell_type": "markdown",
   "id": "80f64008",
   "metadata": {},
   "source": [
    "Want to establish a baseline to compare to the ML model against. Will create a funciton using the Random Prediction Algorithm."
   ]
  },
  {
   "cell_type": "markdown",
   "id": "cb1e63a1",
   "metadata": {},
   "source": [
    "Will run kNN for various values of n_neighbors and store results."
   ]
  },
  {
   "cell_type": "code",
   "execution_count": 43,
   "id": "ddda0533",
   "metadata": {},
   "outputs": [
    {
     "name": "stdout",
     "output_type": "stream",
     "text": [
      "     k  Test Score  Train Score\n",
      "0    1   -0.926860     0.999431\n",
      "1    2   -0.428475     0.480608\n",
      "2    3   -0.292011     0.336036\n",
      "3    4   -0.209237     0.242283\n",
      "4    5   -0.157565     0.181419\n",
      "5    6   -0.148529     0.161187\n",
      "6    7   -0.118019     0.150278\n",
      "7    8   -0.111232     0.125731\n",
      "8    9   -0.089768     0.115433\n",
      "9   10   -0.066460     0.104463\n",
      "10  11   -0.057524     0.095573\n",
      "11  12   -0.051533     0.085906\n",
      "12  13   -0.043524     0.082446\n",
      "13  14   -0.036081     0.074144\n",
      "14  15   -0.030885     0.063194\n",
      "15  16   -0.030759     0.059944\n",
      "16  17   -0.029731     0.056076\n",
      "17  18   -0.031453     0.051288\n",
      "18  19   -0.023640     0.047732\n",
      "19  20   -0.019260     0.047964\n",
      "20  21   -0.027832     0.044949\n",
      "21  22   -0.027022     0.041537\n",
      "22  23   -0.025512     0.037039\n",
      "23  24   -0.023365     0.035168\n",
      "24  25   -0.021822     0.039223\n",
      "25  26   -0.022636     0.037545\n",
      "26  27   -0.029547     0.034664\n",
      "27  28   -0.023659     0.034018\n",
      "28  29   -0.026907     0.036836\n",
      "29  30   -0.029091     0.034691\n",
      "30  31   -0.028677     0.037066\n",
      "31  32   -0.029234     0.034840\n",
      "32  33   -0.031089     0.034441\n",
      "33  34   -0.027786     0.031748\n",
      "34  35   -0.022132     0.030953\n",
      "35  36   -0.019042     0.031921\n",
      "36  37   -0.017877     0.030498\n",
      "37  38   -0.018179     0.029435\n",
      "38  39   -0.017591     0.031287\n",
      "39  40   -0.013573     0.031253\n",
      "40  41   -0.012306     0.029816\n",
      "41  42   -0.012624     0.028652\n",
      "42  43   -0.010748     0.026910\n",
      "43  44   -0.013574     0.025992\n",
      "44  45   -0.015542     0.024754\n",
      "45  46   -0.015613     0.022823\n",
      "46  47   -0.014941     0.021952\n",
      "47  48   -0.017107     0.021654\n",
      "48  49   -0.015971     0.021367\n",
      "49  50   -0.013255     0.020433\n",
      "50  51   -0.011676     0.019304\n",
      "51  52   -0.011117     0.018637\n",
      "52  53   -0.011305     0.017951\n",
      "53  54   -0.011479     0.017335\n",
      "54  55   -0.010099     0.015472\n",
      "55  56   -0.009928     0.014235\n",
      "56  57   -0.009295     0.015557\n",
      "57  58   -0.009577     0.015539\n",
      "58  59   -0.012614     0.013856\n",
      "-0.009295288062104445\n"
     ]
    }
   ],
   "source": [
    "knn_r_acc = []\n",
    "for j in range(1, 60, 1):\n",
    "    knn = KNeighborsRegressor(n_neighbors = j)\n",
    "    knn.fit(x_train, y_train)\n",
    "    \n",
    "    test_score = knn.score(x_test, y_test)\n",
    "    train_score = knn.score(x_train, y_train)\n",
    "    \n",
    "    knn_r_acc.append((j, test_score, train_score))\n",
    "   \n",
    "results = pd.DataFrame(knn_r_acc, columns = ['k', 'Test Score', 'Train Score'])\n",
    "print(results)\n",
    "print(results.iloc[:,1].max())"
   ]
  },
  {
   "cell_type": "markdown",
   "id": "af54bcfc",
   "metadata": {},
   "source": [
    "According to the results above, k = 29 seems to be the best k. What is concerning is that I feel if I extended the 'for' loop to a higher value, perhaps I would see a better performing k value."
   ]
  },
  {
   "cell_type": "markdown",
   "id": "30b1ae64",
   "metadata": {},
   "source": [
    "Now, by adjusting the range of for loop to 45, found the optimal k to be k = 40."
   ]
  },
  {
   "cell_type": "markdown",
   "id": "6a9606ee",
   "metadata": {},
   "source": [
    "Will now create the kNN model."
   ]
  },
  {
   "cell_type": "code",
   "execution_count": 44,
   "id": "6ef505f1",
   "metadata": {},
   "outputs": [],
   "source": [
    "model_knn = KNeighborsRegressor(n_neighbors = 40)\n",
    "model_knn.fit(x_train, y_train)\n",
    "y_knn_train_pred = model_knn.predict(x_train)\n",
    "y_knn_test_pred = model_knn.predict(x_test)"
   ]
  },
  {
   "cell_type": "markdown",
   "id": "ab296595",
   "metadata": {},
   "source": [
    "For model performace, first the training mean square error and R2 score."
   ]
  },
  {
   "cell_type": "code",
   "execution_count": 45,
   "id": "427381bd",
   "metadata": {},
   "outputs": [
    {
     "name": "stdout",
     "output_type": "stream",
     "text": [
      "                    0         1         2        3         4\n",
      "0  k Nearest Neighbor  0.760837  0.031253  0.82806 -0.013573\n"
     ]
    }
   ],
   "source": [
    "knn_train_mse = mean_squared_error(y_train, y_knn_train_pred)\n",
    "knn_train_r2 = r2_score(y_train, y_knn_train_pred)\n",
    "# Now, test mean square and r2 score.\n",
    "knn_test_mse = mean_squared_error(y_test, y_knn_test_pred)\n",
    "knn_test_r2 = r2_score(y_test, y_knn_test_pred)\n",
    "# Consolidate the results.\n",
    "knn_results = pd.DataFrame(['k Nearest Neighbor', knn_train_mse, knn_train_r2, knn_test_mse, knn_test_r2]).transpose()\n",
    "#results1 = pd.DataFrame(columns = ['Method', 'Training MSE', 'Training R2', 'Test MSE', 'Test R2'])\n",
    "results1 = pd.DataFrame()\n",
    "results1 = pd.concat([results1, knn_results])\n",
    "print(results1)\n",
    "#knn_results.columns = ['Method', 'Training MSE', 'Training R2', 'Test MSE', 'Test R2']\n",
    "#print(knn_results)"
   ]
  },
  {
   "cell_type": "code",
   "execution_count": 46,
   "id": "9ef745b2",
   "metadata": {},
   "outputs": [
    {
     "data": {
      "text/plain": [
       "351"
      ]
     },
     "execution_count": 46,
     "metadata": {},
     "output_type": "execute_result"
    }
   ],
   "source": [
    "len(y_knn_test_pred)"
   ]
  },
  {
   "cell_type": "code",
   "execution_count": 47,
   "id": "ca43258f",
   "metadata": {},
   "outputs": [
    {
     "data": {
      "text/plain": [
       "351"
      ]
     },
     "execution_count": 47,
     "metadata": {},
     "output_type": "execute_result"
    }
   ],
   "source": [
    "len(y_test)"
   ]
  },
  {
   "cell_type": "code",
   "execution_count": 48,
   "id": "e98f4c73",
   "metadata": {},
   "outputs": [
    {
     "data": {
      "image/png": "[encoded data removed]",
      "text/plain": [
       "<Figure size 648x648 with 1 Axes>"
      ]
     },
     "metadata": {
      "needs_background": "light"
     },
     "output_type": "display_data"
    }
   ],
   "source": [
    "true_values = y_test\n",
    "predicted_values = y_knn_test_pred\n",
    "plt.figure(figsize = (9,9))\n",
    "plt.scatter(true_values, predicted_values, c = 'crimson')\n",
    "plt.yscale('log')\n",
    "plt.xscale('log')\n",
    "\n",
    "p1 = max(max(predicted_values), max(true_values))\n",
    "p2 = min(min(predicted_values), min(true_values))\n",
    "#plt.plot([p1, p2], [p1, p2], 'b-')\n",
    "\n",
    "plt.xlabel('True Values', fontsize = 10)\n",
    "plt.ylabel('Predictions', fontsize = 10)\n",
    "plt.axis('equal')\n",
    "plt.show()\n",
    "plt.close()"
   ]
  },
  {
   "cell_type": "code",
   "execution_count": 49,
   "id": "f4d1c35e",
   "metadata": {},
   "outputs": [
    {
     "data": {
      "image/png": "[encoded data removed]",
      "text/plain": [
       "<Figure size 432x288 with 1 Axes>"
      ]
     },
     "metadata": {
      "needs_background": "light"
     },
     "output_type": "display_data"
    }
   ],
   "source": [
    "g = plt.plot(true_values - predicted_values, marker = 'o', linestyle = '')"
   ]
  },
  {
   "cell_type": "code",
   "execution_count": 50,
   "id": "cb169550",
   "metadata": {},
   "outputs": [],
   "source": [
    "#from yellowbrick.regressor import prediction_error\n",
    "#model = Lasso()\n",
    "#visualizer = prediciton_error(model, x_train, y_train, x_test, y_test)"
   ]
  },
  {
   "cell_type": "code",
   "execution_count": 51,
   "id": "873cf214",
   "metadata": {},
   "outputs": [],
   "source": [
    "#Set plot size\n",
    "#plt.subplots(figsize=(10,5))\n",
    "#Set X-Axis range\n",
    "#plt.xlim(min(true_values), max(true_values))\n",
    "#plt.title('Model Error Distribution')\n",
    "#plt.ylabel('No. of Predictions')\n",
    "#plt.xlabel('Error')\n",
    "#plt.hist(predictions['error'], bins=np.linspace(min(test_values), max(test_values), num=41, dtype=int));\n",
    "#plt.show()"
   ]
  },
  {
   "cell_type": "code",
   "execution_count": 52,
   "id": "f799f9ac",
   "metadata": {},
   "outputs": [
    {
     "data": {
      "text/plain": [
       "<matplotlib.collections.PathCollection at 0x2176add8160>"
      ]
     },
     "execution_count": 52,
     "metadata": {},
     "output_type": "execute_result"
    },
    {
     "data": {
      "image/png": "[encoded data removed]",
      "text/plain": [
       "<Figure size 432x288 with 1 Axes>"
      ]
     },
     "metadata": {
      "needs_background": "light"
     },
     "output_type": "display_data"
    }
   ],
   "source": [
    "residuals = true_values - predicted_values\n",
    "plt.scatter(true_values, residuals)\n"
   ]
  },
  {
   "cell_type": "markdown",
   "id": "a89d6f4e",
   "metadata": {},
   "source": [
    "There is an obvious positive linear relationship which indicates that the kNN model is not best supervised learning model for this data."
   ]
  },
  {
   "cell_type": "code",
   "execution_count": 53,
   "id": "2d54bfbe",
   "metadata": {},
   "outputs": [],
   "source": [
    "w1 = x6.iloc[:, 0:1].values\n",
    "w2 = x6.iloc[:, 1:2].values\n",
    "from sklearn.preprocessing import StandardScaler\n",
    "sc_X = StandardScaler()\n",
    "sc_y = StandardScaler()\n",
    "w3 = sc_X.fit_transform(w1)\n",
    "w4 = sc_y.fit_transform(w2)\n",
    "w1_train, w1_test = tts(w3)\n",
    "w2_train, w2_test = tts(w4)"
   ]
  },
  {
   "cell_type": "code",
   "execution_count": 54,
   "id": "6acc22bc",
   "metadata": {},
   "outputs": [
    {
     "name": "stderr",
     "output_type": "stream",
     "text": [
      "c:\\users\\joepb\\miniconda3\\lib\\site-packages\\sklearn\\utils\\validation.py:993: DataConversionWarning: A column-vector y was passed when a 1d array was expected. Please change the shape of y to (n_samples, ), for example using ravel().\n",
      "  y = column_or_1d(y, warn=True)\n"
     ]
    }
   ],
   "source": [
    "from sklearn.svm import SVR\n",
    "regressor = SVR(kernel = 'rbf')\n",
    "regressor.fit(w1_train, w2_train)\n",
    "y_svr_train_pred = regressor.predict(w1_train)\n",
    "y_svr_test_pred = regressor.predict(w1_test)\n",
    "# Model performance\n",
    "svr_train_mse = mean_squared_error(w2_train, y_svr_train_pred)\n",
    "svr_train_r2 = r2_score(w2_train, y_svr_train_pred)\n",
    "# Test results\n",
    "svr_test_mse = mean_squared_error(w2_test, y_svr_test_pred)\n",
    "svr_test_r2 = r2_score(w2_test, y_svr_test_pred)\n",
    "# Consolidate the results.\n",
    "#svr_results = pd.DataFrame(['SVR', svr_train_mse, svr_train_r2, svr_test_mse, svr_test_r2]).T\n",
    "svr_results = pd.DataFrame(['SVR', svr_train_mse, svr_train_r2, svr_test_mse, svr_test_r2])\n",
    "#results2 = pd.concat([knn_results, svr_results.T], ignore_index = False)\n",
    "#print(results2)"
   ]
  },
  {
   "cell_type": "code",
   "execution_count": 55,
   "id": "f1f3b89c",
   "metadata": {},
   "outputs": [
    {
     "data": {
      "text/html": [
       "<div>\n",
       "<style scoped>\n",
       "    .dataframe tbody tr th:only-of-type {\n",
       "        vertical-align: middle;\n",
       "    }\n",
       "\n",
       "    .dataframe tbody tr th {\n",
       "        vertical-align: top;\n",
       "    }\n",
       "\n",
       "    .dataframe thead th {\n",
       "        text-align: right;\n",
       "    }\n",
       "</style>\n",
       "<table border=\"1\" class=\"dataframe\">\n",
       "  <thead>\n",
       "    <tr style=\"text-align: right;\">\n",
       "      <th></th>\n",
       "      <th>Method</th>\n",
       "      <th>Training MSE</th>\n",
       "      <th>Training R2</th>\n",
       "      <th>Test MSE</th>\n",
       "      <th>Test R2</th>\n",
       "    </tr>\n",
       "  </thead>\n",
       "  <tbody>\n",
       "    <tr>\n",
       "      <th>0</th>\n",
       "      <td>k Nearest Neighbor</td>\n",
       "      <td>0.760837</td>\n",
       "      <td>0.031253</td>\n",
       "      <td>0.82806</td>\n",
       "      <td>-0.013573</td>\n",
       "    </tr>\n",
       "    <tr>\n",
       "      <th>1</th>\n",
       "      <td>SVR</td>\n",
       "      <td>1.162673</td>\n",
       "      <td>-0.1204</td>\n",
       "      <td>0.93</td>\n",
       "      <td>-0.101157</td>\n",
       "    </tr>\n",
       "  </tbody>\n",
       "</table>\n",
       "</div>"
      ],
      "text/plain": [
       "               Method Training MSE Training R2 Test MSE   Test R2\n",
       "0  k Nearest Neighbor     0.760837    0.031253  0.82806 -0.013573\n",
       "1                 SVR     1.162673     -0.1204     0.93 -0.101157"
      ]
     },
     "execution_count": 55,
     "metadata": {},
     "output_type": "execute_result"
    }
   ],
   "source": [
    "results2 = pd.concat([knn_results,svr_results.T], ignore_index = True)\n",
    "results2.columns = ['Method', 'Training MSE', 'Training R2', 'Test MSE', 'Test R2']\n",
    "results2"
   ]
  },
  {
   "cell_type": "markdown",
   "id": "f1bff539",
   "metadata": {},
   "source": [
    "Now want to model using Random Forest."
   ]
  },
  {
   "cell_type": "code",
   "execution_count": 56,
   "id": "230464bc",
   "metadata": {},
   "outputs": [],
   "source": [
    "from sklearn.ensemble import RandomForestRegressor"
   ]
  },
  {
   "cell_type": "markdown",
   "id": "1c4b522b",
   "metadata": {},
   "source": [
    "The line above should be moved to the top of the script."
   ]
  },
  {
   "cell_type": "code",
   "execution_count": 57,
   "id": "66fb5fd0",
   "metadata": {},
   "outputs": [
    {
     "name": "stderr",
     "output_type": "stream",
     "text": [
      "C:\\Users\\joepb\\AppData\\Local\\Temp\\ipykernel_8212\\307795354.py:2: DataConversionWarning: A column-vector y was passed when a 1d array was expected. Please change the shape of y to (n_samples,), for example using ravel().\n",
      "  rf.fit(w1_train, w2_train)\n"
     ]
    },
    {
     "name": "stdout",
     "output_type": "stream",
     "text": [
      "RandomForestRegressor(max_depth=2)\n"
     ]
    }
   ],
   "source": [
    "rf = RandomForestRegressor(max_depth=2)\n",
    "rf.fit(w1_train, w2_train)\n",
    "print(rf)"
   ]
  },
  {
   "cell_type": "markdown",
   "id": "b4b00cee",
   "metadata": {},
   "source": [
    "Now going to apply the constructed model to make predictions on the training and testing sets."
   ]
  },
  {
   "cell_type": "code",
   "execution_count": 58,
   "id": "0d6c8eec",
   "metadata": {},
   "outputs": [],
   "source": [
    "y_rf_train_pred = rf.predict(w1_train)\n",
    "y_rf_test_pred = rf.predict(w1_test)"
   ]
  },
  {
   "cell_type": "code",
   "execution_count": 59,
   "id": "8cb478f7",
   "metadata": {},
   "outputs": [],
   "source": [
    "# Model performance metrics for random forest model.\n",
    "rf_train_mse = mean_squared_error(w2_train, y_rf_train_pred)\n",
    "rf_train_r2 = r2_score(w2_train, y_rf_train_pred)\n",
    "rf_test_mse = mean_squared_error(w2_test, y_rf_test_pred)\n",
    "rf_test_r2 = r2_score(w2_test, y_rf_test_pred)"
   ]
  },
  {
   "cell_type": "code",
   "execution_count": 60,
   "id": "89341dc1",
   "metadata": {},
   "outputs": [],
   "source": [
    "rf_results = pd.DataFrame(['Random Forest', rf_train_mse, rf_train_r2, rf_test_mse, rf_test_r2]).transpose()\n",
    "rf_results.columns = ['Method', 'Training MSE', 'Training R2', 'Test MSE', 'Test R2']"
   ]
  },
  {
   "cell_type": "code",
   "execution_count": 61,
   "id": "f4243754",
   "metadata": {},
   "outputs": [
    {
     "data": {
      "text/html": [
       "<div>\n",
       "<style scoped>\n",
       "    .dataframe tbody tr th:only-of-type {\n",
       "        vertical-align: middle;\n",
       "    }\n",
       "\n",
       "    .dataframe tbody tr th {\n",
       "        vertical-align: top;\n",
       "    }\n",
       "\n",
       "    .dataframe thead th {\n",
       "        text-align: right;\n",
       "    }\n",
       "</style>\n",
       "<table border=\"1\" class=\"dataframe\">\n",
       "  <thead>\n",
       "    <tr style=\"text-align: right;\">\n",
       "      <th></th>\n",
       "      <th>Method</th>\n",
       "      <th>Training MSE</th>\n",
       "      <th>Training R2</th>\n",
       "      <th>Test MSE</th>\n",
       "      <th>Test R2</th>\n",
       "    </tr>\n",
       "  </thead>\n",
       "  <tbody>\n",
       "    <tr>\n",
       "      <th>0</th>\n",
       "      <td>k Nearest Neighbor</td>\n",
       "      <td>0.760837</td>\n",
       "      <td>0.031253</td>\n",
       "      <td>0.82806</td>\n",
       "      <td>-0.013573</td>\n",
       "    </tr>\n",
       "    <tr>\n",
       "      <th>1</th>\n",
       "      <td>SVR</td>\n",
       "      <td>1.162673</td>\n",
       "      <td>-0.1204</td>\n",
       "      <td>0.93</td>\n",
       "      <td>-0.101157</td>\n",
       "    </tr>\n",
       "    <tr>\n",
       "      <th>2</th>\n",
       "      <td>Random Forest</td>\n",
       "      <td>1.014679</td>\n",
       "      <td>0.022213</td>\n",
       "      <td>0.854878</td>\n",
       "      <td>-0.012209</td>\n",
       "    </tr>\n",
       "  </tbody>\n",
       "</table>\n",
       "</div>"
      ],
      "text/plain": [
       "               Method Training MSE Training R2  Test MSE   Test R2\n",
       "0  k Nearest Neighbor     0.760837    0.031253   0.82806 -0.013573\n",
       "1                 SVR     1.162673     -0.1204      0.93 -0.101157\n",
       "2       Random Forest     1.014679    0.022213  0.854878 -0.012209"
      ]
     },
     "execution_count": 61,
     "metadata": {},
     "output_type": "execute_result"
    }
   ],
   "source": [
    "results2 = pd.concat([results2, rf_results], ignore_index = True)\n",
    "results2"
   ]
  },
  {
   "cell_type": "markdown",
   "id": "4abe993f",
   "metadata": {},
   "source": [
    "Will now study the relationship between planet mass and temperature."
   ]
  },
  {
   "cell_type": "code",
   "execution_count": 62,
   "id": "9574a74a",
   "metadata": {},
   "outputs": [],
   "source": [
    "path3 = 'D:\\\\PS_2022.04.14_19.39.14.csv'\n",
    "raw_data2 = pd.read_csv(path3, skiprows = 28) #  <- notice had to skip first 29 lines."
   ]
  },
  {
   "cell_type": "code",
   "execution_count": 63,
   "id": "eed8fd14",
   "metadata": {},
   "outputs": [
    {
     "name": "stdout",
     "output_type": "stream",
     "text": [
      "         pl_name hostname   pl_orbper  pl_orbpererr1  pl_orbpererr2  \\\n",
      "0       11 Com b   11 Com   326.03000          0.320         -0.320   \n",
      "1       11 Com b   11 Com         NaN            NaN            NaN   \n",
      "2       11 UMi b   11 UMi         NaN            NaN            NaN   \n",
      "3       11 UMi b   11 UMi   516.21997          3.200         -3.200   \n",
      "4       11 UMi b   11 UMi   516.22000          3.250         -3.250   \n",
      "...          ...      ...         ...            ...            ...   \n",
      "32320  ups And d  ups And  1282.41000          0.930         -0.940   \n",
      "32321  ups And d  ups And  1281.50700          1.055         -1.055   \n",
      "32322  ups Leo b  ups Leo   385.20000          2.800         -1.300   \n",
      "32323   xi Aql b   xi Aql         NaN            NaN            NaN   \n",
      "32324   xi Aql b   xi Aql   136.75000          0.250         -0.250   \n",
      "\n",
      "       pl_orbperlim  pl_bmassj  pl_bmassjerr1  pl_bmassjerr2  pl_bmassjlim  \\\n",
      "0               0.0      19.40           1.50          -1.50           0.0   \n",
      "1               NaN      17.10           1.70          -1.30           0.0   \n",
      "2               NaN      10.80           1.20          -1.30           0.0   \n",
      "3               0.0      14.74           2.50          -2.50           0.0   \n",
      "4               0.0      10.50           2.47          -2.47           0.0   \n",
      "...             ...        ...            ...            ...           ...   \n",
      "32320           0.0       4.10           0.10          -0.10           0.0   \n",
      "32321           0.0      10.25           0.70          -3.30           0.0   \n",
      "32322           0.0       0.51           0.06          -0.26           0.0   \n",
      "32323           NaN       2.02           0.20          -0.20           0.0   \n",
      "32324           0.0       2.80            NaN            NaN           0.0   \n",
      "\n",
      "       ...  pl_orbeccenerr2  pl_orbeccenlim  pl_insol  pl_insolerr1  \\\n",
      "0      ...           -0.005             0.0       NaN           NaN   \n",
      "1      ...              NaN             NaN       NaN           NaN   \n",
      "2      ...              NaN             NaN       NaN           NaN   \n",
      "3      ...           -0.030             0.0       NaN           NaN   \n",
      "4      ...           -0.030             0.0       NaN           NaN   \n",
      "...    ...              ...             ...       ...           ...   \n",
      "32320  ...           -0.012             0.0       NaN           NaN   \n",
      "32321  ...           -0.006             0.0       NaN           NaN   \n",
      "32322  ...           -0.218             0.0       NaN           NaN   \n",
      "32323  ...              NaN             NaN       NaN           NaN   \n",
      "32324  ...              NaN             0.0       NaN           NaN   \n",
      "\n",
      "       pl_insolerr2  pl_insollim  pl_eqt  pl_eqterr1  pl_eqterr2  pl_eqtlim  \n",
      "0               NaN          NaN     NaN         NaN         NaN        NaN  \n",
      "1               NaN          NaN     NaN         NaN         NaN        NaN  \n",
      "2               NaN          NaN     NaN         NaN         NaN        NaN  \n",
      "3               NaN          NaN     NaN         NaN         NaN        NaN  \n",
      "4               NaN          NaN     NaN         NaN         NaN        NaN  \n",
      "...             ...          ...     ...         ...         ...        ...  \n",
      "32320           NaN          NaN     NaN         NaN         NaN        NaN  \n",
      "32321           NaN          NaN     NaN         NaN         NaN        NaN  \n",
      "32322           NaN          NaN     NaN         NaN         NaN        NaN  \n",
      "32323           NaN          NaN     NaN         NaN         NaN        NaN  \n",
      "32324           NaN          NaN     NaN         NaN         NaN        NaN  \n",
      "\n",
      "[32325 rows x 22 columns]\n"
     ]
    },
    {
     "data": {
      "text/plain": [
       "Index(['pl_name', 'hostname', 'pl_orbper', 'pl_orbpererr1', 'pl_orbpererr2',\n",
       "       'pl_orbperlim', 'pl_bmassj', 'pl_bmassjerr1', 'pl_bmassjerr2',\n",
       "       'pl_bmassjlim', 'pl_orbeccen', 'pl_orbeccenerr1', 'pl_orbeccenerr2',\n",
       "       'pl_orbeccenlim', 'pl_insol', 'pl_insolerr1', 'pl_insolerr2',\n",
       "       'pl_insollim', 'pl_eqt', 'pl_eqterr1', 'pl_eqterr2', 'pl_eqtlim'],\n",
       "      dtype='object')"
      ]
     },
     "execution_count": 63,
     "metadata": {},
     "output_type": "execute_result"
    }
   ],
   "source": [
    "print(raw_data2)\n",
    "raw_data2.columns"
   ]
  },
  {
   "cell_type": "code",
   "execution_count": 64,
   "id": "99aa0e47",
   "metadata": {},
   "outputs": [
    {
     "data": {
      "text/plain": [
       "pandas.core.frame.DataFrame"
      ]
     },
     "execution_count": 64,
     "metadata": {},
     "output_type": "execute_result"
    }
   ],
   "source": [
    "type(raw_data2) #<- already a pandas data frame."
   ]
  },
  {
   "cell_type": "code",
   "execution_count": 65,
   "id": "c91faad8",
   "metadata": {},
   "outputs": [],
   "source": [
    "df4 = raw_data2.loc[:, ['pl_name','pl_bmassj','pl_eqt']]\n",
    "df4.reset_index(drop=True, inplace=True)"
   ]
  },
  {
   "cell_type": "code",
   "execution_count": 66,
   "id": "d19f1f1a",
   "metadata": {},
   "outputs": [
    {
     "data": {
      "text/html": [
       "<div>\n",
       "<style scoped>\n",
       "    .dataframe tbody tr th:only-of-type {\n",
       "        vertical-align: middle;\n",
       "    }\n",
       "\n",
       "    .dataframe tbody tr th {\n",
       "        vertical-align: top;\n",
       "    }\n",
       "\n",
       "    .dataframe thead th {\n",
       "        text-align: right;\n",
       "    }\n",
       "</style>\n",
       "<table border=\"1\" class=\"dataframe\">\n",
       "  <thead>\n",
       "    <tr style=\"text-align: right;\">\n",
       "      <th></th>\n",
       "      <th>pl_name</th>\n",
       "      <th>pl_bmassj</th>\n",
       "      <th>pl_eqt</th>\n",
       "    </tr>\n",
       "  </thead>\n",
       "  <tbody>\n",
       "    <tr>\n",
       "      <th>0</th>\n",
       "      <td>11 Com b</td>\n",
       "      <td>19.40</td>\n",
       "      <td>NaN</td>\n",
       "    </tr>\n",
       "    <tr>\n",
       "      <th>1</th>\n",
       "      <td>11 Com b</td>\n",
       "      <td>17.10</td>\n",
       "      <td>NaN</td>\n",
       "    </tr>\n",
       "    <tr>\n",
       "      <th>2</th>\n",
       "      <td>11 UMi b</td>\n",
       "      <td>10.80</td>\n",
       "      <td>NaN</td>\n",
       "    </tr>\n",
       "    <tr>\n",
       "      <th>3</th>\n",
       "      <td>11 UMi b</td>\n",
       "      <td>14.74</td>\n",
       "      <td>NaN</td>\n",
       "    </tr>\n",
       "    <tr>\n",
       "      <th>4</th>\n",
       "      <td>11 UMi b</td>\n",
       "      <td>10.50</td>\n",
       "      <td>NaN</td>\n",
       "    </tr>\n",
       "    <tr>\n",
       "      <th>...</th>\n",
       "      <td>...</td>\n",
       "      <td>...</td>\n",
       "      <td>...</td>\n",
       "    </tr>\n",
       "    <tr>\n",
       "      <th>32320</th>\n",
       "      <td>ups And d</td>\n",
       "      <td>4.10</td>\n",
       "      <td>NaN</td>\n",
       "    </tr>\n",
       "    <tr>\n",
       "      <th>32321</th>\n",
       "      <td>ups And d</td>\n",
       "      <td>10.25</td>\n",
       "      <td>NaN</td>\n",
       "    </tr>\n",
       "    <tr>\n",
       "      <th>32322</th>\n",
       "      <td>ups Leo b</td>\n",
       "      <td>0.51</td>\n",
       "      <td>NaN</td>\n",
       "    </tr>\n",
       "    <tr>\n",
       "      <th>32323</th>\n",
       "      <td>xi Aql b</td>\n",
       "      <td>2.02</td>\n",
       "      <td>NaN</td>\n",
       "    </tr>\n",
       "    <tr>\n",
       "      <th>32324</th>\n",
       "      <td>xi Aql b</td>\n",
       "      <td>2.80</td>\n",
       "      <td>NaN</td>\n",
       "    </tr>\n",
       "  </tbody>\n",
       "</table>\n",
       "<p>32325 rows × 3 columns</p>\n",
       "</div>"
      ],
      "text/plain": [
       "         pl_name  pl_bmassj  pl_eqt\n",
       "0       11 Com b      19.40     NaN\n",
       "1       11 Com b      17.10     NaN\n",
       "2       11 UMi b      10.80     NaN\n",
       "3       11 UMi b      14.74     NaN\n",
       "4       11 UMi b      10.50     NaN\n",
       "...          ...        ...     ...\n",
       "32320  ups And d       4.10     NaN\n",
       "32321  ups And d      10.25     NaN\n",
       "32322  ups Leo b       0.51     NaN\n",
       "32323   xi Aql b       2.02     NaN\n",
       "32324   xi Aql b       2.80     NaN\n",
       "\n",
       "[32325 rows x 3 columns]"
      ]
     },
     "execution_count": 66,
     "metadata": {},
     "output_type": "execute_result"
    }
   ],
   "source": [
    "df4"
   ]
  },
  {
   "cell_type": "code",
   "execution_count": 67,
   "id": "82ad7f5c",
   "metadata": {},
   "outputs": [],
   "source": [
    "df4 = df4.rename(columns={'pl_name':'planetname','pl_bmassj':'planetmass', 'pl_eqt':'temperature'})\n",
    "df4 = df4.dropna()"
   ]
  },
  {
   "cell_type": "code",
   "execution_count": 68,
   "id": "152dc174",
   "metadata": {},
   "outputs": [
    {
     "data": {
      "text/html": [
       "<div>\n",
       "<style scoped>\n",
       "    .dataframe tbody tr th:only-of-type {\n",
       "        vertical-align: middle;\n",
       "    }\n",
       "\n",
       "    .dataframe tbody tr th {\n",
       "        vertical-align: top;\n",
       "    }\n",
       "\n",
       "    .dataframe thead th {\n",
       "        text-align: right;\n",
       "    }\n",
       "</style>\n",
       "<table border=\"1\" class=\"dataframe\">\n",
       "  <thead>\n",
       "    <tr style=\"text-align: right;\">\n",
       "      <th></th>\n",
       "      <th>planetname</th>\n",
       "      <th>planetmass</th>\n",
       "      <th>temperature</th>\n",
       "    </tr>\n",
       "  </thead>\n",
       "  <tbody>\n",
       "    <tr>\n",
       "      <th>23</th>\n",
       "      <td>1RXS J160929.1-210524 b</td>\n",
       "      <td>12.00000</td>\n",
       "      <td>1700.0</td>\n",
       "    </tr>\n",
       "    <tr>\n",
       "      <th>24</th>\n",
       "      <td>1RXS J160929.1-210524 b</td>\n",
       "      <td>8.00000</td>\n",
       "      <td>1700.0</td>\n",
       "    </tr>\n",
       "    <tr>\n",
       "      <th>25</th>\n",
       "      <td>1RXS J160929.1-210524 b</td>\n",
       "      <td>8.00000</td>\n",
       "      <td>1800.0</td>\n",
       "    </tr>\n",
       "    <tr>\n",
       "      <th>26</th>\n",
       "      <td>1RXS J160929.1-210524 b</td>\n",
       "      <td>8.00000</td>\n",
       "      <td>1800.0</td>\n",
       "    </tr>\n",
       "    <tr>\n",
       "      <th>30</th>\n",
       "      <td>2M0437 b</td>\n",
       "      <td>4.00000</td>\n",
       "      <td>1450.0</td>\n",
       "    </tr>\n",
       "    <tr>\n",
       "      <th>...</th>\n",
       "      <td>...</td>\n",
       "      <td>...</td>\n",
       "      <td>...</td>\n",
       "    </tr>\n",
       "    <tr>\n",
       "      <th>32265</th>\n",
       "      <td>kap And b</td>\n",
       "      <td>13.61600</td>\n",
       "      <td>1900.0</td>\n",
       "    </tr>\n",
       "    <tr>\n",
       "      <th>32284</th>\n",
       "      <td>pi Men c</td>\n",
       "      <td>0.01422</td>\n",
       "      <td>1147.0</td>\n",
       "    </tr>\n",
       "    <tr>\n",
       "      <th>32285</th>\n",
       "      <td>pi Men c</td>\n",
       "      <td>0.01517</td>\n",
       "      <td>1170.0</td>\n",
       "    </tr>\n",
       "    <tr>\n",
       "      <th>32289</th>\n",
       "      <td>rho CrB b</td>\n",
       "      <td>1.04490</td>\n",
       "      <td>614.0</td>\n",
       "    </tr>\n",
       "    <tr>\n",
       "      <th>32291</th>\n",
       "      <td>rho CrB c</td>\n",
       "      <td>0.07866</td>\n",
       "      <td>448.0</td>\n",
       "    </tr>\n",
       "  </tbody>\n",
       "</table>\n",
       "<p>1150 rows × 3 columns</p>\n",
       "</div>"
      ],
      "text/plain": [
       "                    planetname  planetmass  temperature\n",
       "23     1RXS J160929.1-210524 b    12.00000       1700.0\n",
       "24     1RXS J160929.1-210524 b     8.00000       1700.0\n",
       "25     1RXS J160929.1-210524 b     8.00000       1800.0\n",
       "26     1RXS J160929.1-210524 b     8.00000       1800.0\n",
       "30                    2M0437 b     4.00000       1450.0\n",
       "...                        ...         ...          ...\n",
       "32265                kap And b    13.61600       1900.0\n",
       "32284                 pi Men c     0.01422       1147.0\n",
       "32285                 pi Men c     0.01517       1170.0\n",
       "32289                rho CrB b     1.04490        614.0\n",
       "32291                rho CrB c     0.07866        448.0\n",
       "\n",
       "[1150 rows x 3 columns]"
      ]
     },
     "execution_count": 68,
     "metadata": {},
     "output_type": "execute_result"
    }
   ],
   "source": [
    "df4"
   ]
  },
  {
   "cell_type": "code",
   "execution_count": 69,
   "id": "85ed401a",
   "metadata": {},
   "outputs": [
    {
     "name": "stdout",
     "output_type": "stream",
     "text": [
      "<class 'numpy.float64'>\n",
      "<class 'numpy.float64'>\n"
     ]
    }
   ],
   "source": [
    "print(type(df4.iloc[0][1]))\n",
    "print(type(df4.iloc[0][2]))"
   ]
  },
  {
   "cell_type": "markdown",
   "id": "75ba4771",
   "metadata": {},
   "source": [
    "Notice both of the above are float data type which will make computation easier."
   ]
  },
  {
   "cell_type": "code",
   "execution_count": 70,
   "id": "7f730596",
   "metadata": {},
   "outputs": [],
   "source": [
    "df4.reset_index(drop=True, inplace=True)"
   ]
  },
  {
   "cell_type": "code",
   "execution_count": 71,
   "id": "c423ec09",
   "metadata": {},
   "outputs": [
    {
     "data": {
      "text/html": [
       "<div>\n",
       "<style scoped>\n",
       "    .dataframe tbody tr th:only-of-type {\n",
       "        vertical-align: middle;\n",
       "    }\n",
       "\n",
       "    .dataframe tbody tr th {\n",
       "        vertical-align: top;\n",
       "    }\n",
       "\n",
       "    .dataframe thead th {\n",
       "        text-align: right;\n",
       "    }\n",
       "</style>\n",
       "<table border=\"1\" class=\"dataframe\">\n",
       "  <thead>\n",
       "    <tr style=\"text-align: right;\">\n",
       "      <th></th>\n",
       "      <th>planetname</th>\n",
       "      <th>planetmass</th>\n",
       "      <th>temperature</th>\n",
       "    </tr>\n",
       "  </thead>\n",
       "  <tbody>\n",
       "    <tr>\n",
       "      <th>0</th>\n",
       "      <td>1RXS J160929.1-210524 b</td>\n",
       "      <td>12.00000</td>\n",
       "      <td>1700.0</td>\n",
       "    </tr>\n",
       "    <tr>\n",
       "      <th>1</th>\n",
       "      <td>1RXS J160929.1-210524 b</td>\n",
       "      <td>8.00000</td>\n",
       "      <td>1700.0</td>\n",
       "    </tr>\n",
       "    <tr>\n",
       "      <th>2</th>\n",
       "      <td>1RXS J160929.1-210524 b</td>\n",
       "      <td>8.00000</td>\n",
       "      <td>1800.0</td>\n",
       "    </tr>\n",
       "    <tr>\n",
       "      <th>3</th>\n",
       "      <td>1RXS J160929.1-210524 b</td>\n",
       "      <td>8.00000</td>\n",
       "      <td>1800.0</td>\n",
       "    </tr>\n",
       "    <tr>\n",
       "      <th>4</th>\n",
       "      <td>2M0437 b</td>\n",
       "      <td>4.00000</td>\n",
       "      <td>1450.0</td>\n",
       "    </tr>\n",
       "    <tr>\n",
       "      <th>...</th>\n",
       "      <td>...</td>\n",
       "      <td>...</td>\n",
       "      <td>...</td>\n",
       "    </tr>\n",
       "    <tr>\n",
       "      <th>1145</th>\n",
       "      <td>kap And b</td>\n",
       "      <td>13.61600</td>\n",
       "      <td>1900.0</td>\n",
       "    </tr>\n",
       "    <tr>\n",
       "      <th>1146</th>\n",
       "      <td>pi Men c</td>\n",
       "      <td>0.01422</td>\n",
       "      <td>1147.0</td>\n",
       "    </tr>\n",
       "    <tr>\n",
       "      <th>1147</th>\n",
       "      <td>pi Men c</td>\n",
       "      <td>0.01517</td>\n",
       "      <td>1170.0</td>\n",
       "    </tr>\n",
       "    <tr>\n",
       "      <th>1148</th>\n",
       "      <td>rho CrB b</td>\n",
       "      <td>1.04490</td>\n",
       "      <td>614.0</td>\n",
       "    </tr>\n",
       "    <tr>\n",
       "      <th>1149</th>\n",
       "      <td>rho CrB c</td>\n",
       "      <td>0.07866</td>\n",
       "      <td>448.0</td>\n",
       "    </tr>\n",
       "  </tbody>\n",
       "</table>\n",
       "<p>1150 rows × 3 columns</p>\n",
       "</div>"
      ],
      "text/plain": [
       "                   planetname  planetmass  temperature\n",
       "0     1RXS J160929.1-210524 b    12.00000       1700.0\n",
       "1     1RXS J160929.1-210524 b     8.00000       1700.0\n",
       "2     1RXS J160929.1-210524 b     8.00000       1800.0\n",
       "3     1RXS J160929.1-210524 b     8.00000       1800.0\n",
       "4                    2M0437 b     4.00000       1450.0\n",
       "...                       ...         ...          ...\n",
       "1145                kap And b    13.61600       1900.0\n",
       "1146                 pi Men c     0.01422       1147.0\n",
       "1147                 pi Men c     0.01517       1170.0\n",
       "1148                rho CrB b     1.04490        614.0\n",
       "1149                rho CrB c     0.07866        448.0\n",
       "\n",
       "[1150 rows x 3 columns]"
      ]
     },
     "execution_count": 71,
     "metadata": {},
     "output_type": "execute_result"
    }
   ],
   "source": [
    "df4"
   ]
  },
  {
   "cell_type": "code",
   "execution_count": 72,
   "id": "91b3f3df",
   "metadata": {},
   "outputs": [
    {
     "data": {
      "text/plain": [
       "planetname\n",
       "1RXS J160929.1-210524 b        1750.0\n",
       "2M0437 b                       1450.0\n",
       "2MASS J12073346-3932539 b      1200.0\n",
       "2MASS J21402931+1625183 A b    2075.0\n",
       "51 Eri b                        700.0\n",
       "                                ...  \n",
       "bet Pic b                      1631.0\n",
       "kap And b                      1790.0\n",
       "pi Men c                       1158.5\n",
       "rho CrB b                       614.0\n",
       "rho CrB c                       448.0\n",
       "Name: temperature, Length: 855, dtype: float64"
      ]
     },
     "execution_count": 72,
     "metadata": {},
     "output_type": "execute_result"
    }
   ],
   "source": [
    "x7 = df4.groupby('planetname')['planetmass'].mean()\n",
    "x8 = df4.groupby('planetname')['temperature'].mean()\n",
    "x8"
   ]
  },
  {
   "cell_type": "code",
   "execution_count": 73,
   "id": "1077e578",
   "metadata": {},
   "outputs": [
    {
     "data": {
      "text/html": [
       "<div>\n",
       "<style scoped>\n",
       "    .dataframe tbody tr th:only-of-type {\n",
       "        vertical-align: middle;\n",
       "    }\n",
       "\n",
       "    .dataframe tbody tr th {\n",
       "        vertical-align: top;\n",
       "    }\n",
       "\n",
       "    .dataframe thead th {\n",
       "        text-align: right;\n",
       "    }\n",
       "</style>\n",
       "<table border=\"1\" class=\"dataframe\">\n",
       "  <thead>\n",
       "    <tr style=\"text-align: right;\">\n",
       "      <th></th>\n",
       "      <th>planetmass</th>\n",
       "      <th>temperature</th>\n",
       "    </tr>\n",
       "    <tr>\n",
       "      <th>planetname</th>\n",
       "      <th></th>\n",
       "      <th></th>\n",
       "    </tr>\n",
       "  </thead>\n",
       "  <tbody>\n",
       "    <tr>\n",
       "      <th>1RXS J160929.1-210524 b</th>\n",
       "      <td>9.000000</td>\n",
       "      <td>1750.0</td>\n",
       "    </tr>\n",
       "    <tr>\n",
       "      <th>2M0437 b</th>\n",
       "      <td>4.000000</td>\n",
       "      <td>1450.0</td>\n",
       "    </tr>\n",
       "    <tr>\n",
       "      <th>2MASS J12073346-3932539 b</th>\n",
       "      <td>4.500000</td>\n",
       "      <td>1200.0</td>\n",
       "    </tr>\n",
       "    <tr>\n",
       "      <th>2MASS J21402931+1625183 A b</th>\n",
       "      <td>20.950000</td>\n",
       "      <td>2075.0</td>\n",
       "    </tr>\n",
       "    <tr>\n",
       "      <th>51 Eri b</th>\n",
       "      <td>2.000000</td>\n",
       "      <td>700.0</td>\n",
       "    </tr>\n",
       "    <tr>\n",
       "      <th>...</th>\n",
       "      <td>...</td>\n",
       "      <td>...</td>\n",
       "    </tr>\n",
       "    <tr>\n",
       "      <th>bet Pic b</th>\n",
       "      <td>13.500000</td>\n",
       "      <td>1631.0</td>\n",
       "    </tr>\n",
       "    <tr>\n",
       "      <th>kap And b</th>\n",
       "      <td>13.208000</td>\n",
       "      <td>1790.0</td>\n",
       "    </tr>\n",
       "    <tr>\n",
       "      <th>pi Men c</th>\n",
       "      <td>0.014695</td>\n",
       "      <td>1158.5</td>\n",
       "    </tr>\n",
       "    <tr>\n",
       "      <th>rho CrB b</th>\n",
       "      <td>1.044900</td>\n",
       "      <td>614.0</td>\n",
       "    </tr>\n",
       "    <tr>\n",
       "      <th>rho CrB c</th>\n",
       "      <td>0.078660</td>\n",
       "      <td>448.0</td>\n",
       "    </tr>\n",
       "  </tbody>\n",
       "</table>\n",
       "<p>855 rows × 2 columns</p>\n",
       "</div>"
      ],
      "text/plain": [
       "                             planetmass  temperature\n",
       "planetname                                          \n",
       "1RXS J160929.1-210524 b        9.000000       1750.0\n",
       "2M0437 b                       4.000000       1450.0\n",
       "2MASS J12073346-3932539 b      4.500000       1200.0\n",
       "2MASS J21402931+1625183 A b   20.950000       2075.0\n",
       "51 Eri b                       2.000000        700.0\n",
       "...                                 ...          ...\n",
       "bet Pic b                     13.500000       1631.0\n",
       "kap And b                     13.208000       1790.0\n",
       "pi Men c                       0.014695       1158.5\n",
       "rho CrB b                      1.044900        614.0\n",
       "rho CrB c                      0.078660        448.0\n",
       "\n",
       "[855 rows x 2 columns]"
      ]
     },
     "execution_count": 73,
     "metadata": {},
     "output_type": "execute_result"
    }
   ],
   "source": [
    "df5 = pd.concat([x7, x8], axis = 1)\n",
    "df5"
   ]
  },
  {
   "cell_type": "code",
   "execution_count": 74,
   "id": "c5a17aad",
   "metadata": {},
   "outputs": [
    {
     "name": "stdout",
     "output_type": "stream",
     "text": [
      "\n",
      "The median of the planet mass: 0.58\n",
      "\n",
      "The median of the temperature: 1192.00\n",
      "\n",
      "The interquartile range of the planet mass: 1.35\n",
      "\n",
      "The interquartile range of the temperature: 914.50\n",
      "1.6814424873294347\n"
     ]
    }
   ],
   "source": [
    "mass = df5['planetmass']\n",
    "temp = df5['temperature']\n",
    "mass_med = statistics.median(list(mass))\n",
    "temp_med = statistics.median(list(temp))\n",
    "print('\\nThe median of the planet mass: %.2f' % mass_med)\n",
    "print('\\nThe median of the temperature: %.2f' % temp_med)\n",
    "iqr_mass = stats.iqr(mass, interpolation = 'midpoint')\n",
    "iqr_temp = stats.iqr(temp, interpolation = 'midpoint')\n",
    "print('\\nThe interquartile range of the planet mass: %.2f' % iqr_mass)\n",
    "print('\\nThe interquartile range of the temperature: %.2f' % iqr_temp)\n",
    "print(statistics.mean(list(mass)))"
   ]
  },
  {
   "cell_type": "code",
   "execution_count": 75,
   "id": "112cd816",
   "metadata": {},
   "outputs": [
    {
     "data": {
      "text/plain": [
       "(array([0.2896774 , 0.02105327, 0.00740763, 0.00506838, 0.00389875,\n",
       "        0.00233925, 0.0015595 , 0.00116963, 0.00077975, 0.00038988]),\n",
       " array([9.1000000e-04, 3.0008190e+00, 6.0007280e+00, 9.0006370e+00,\n",
       "        1.2000546e+01, 1.5000455e+01, 1.8000364e+01, 2.1000273e+01,\n",
       "        2.4000182e+01, 2.7000091e+01, 3.0000000e+01]),\n",
       " <BarContainer object of 10 artists>)"
      ]
     },
     "execution_count": 75,
     "metadata": {},
     "output_type": "execute_result"
    },
    {
     "data": {
      "image/png": "[encoded data removed]",
      "text/plain": [
       "<Figure size 432x288 with 1 Axes>"
      ]
     },
     "metadata": {
      "needs_background": "light"
     },
     "output_type": "display_data"
    }
   ],
   "source": [
    "plt.hist(df5.planetmass, density = True, color = \"darkorange\")"
   ]
  },
  {
   "cell_type": "code",
   "execution_count": 76,
   "id": "b802cb69",
   "metadata": {},
   "outputs": [
    {
     "data": {
      "text/plain": [
       "(array([ 99., 170., 180., 214., 128.,  45.,  16.,   0.,   2.,   1.]),\n",
       " array([  50.,  450.,  850., 1250., 1650., 2050., 2450., 2850., 3250.,\n",
       "        3650., 4050.]),\n",
       " <BarContainer object of 10 artists>)"
      ]
     },
     "execution_count": 76,
     "metadata": {},
     "output_type": "execute_result"
    },
    {
     "data": {
      "image/png": "[encoded data removed]",
      "text/plain": [
       "<Figure size 432x288 with 1 Axes>"
      ]
     },
     "metadata": {
      "needs_background": "light"
     },
     "output_type": "display_data"
    }
   ],
   "source": [
    "plt.hist(df5.temperature, color = \"navy\")"
   ]
  },
  {
   "cell_type": "markdown",
   "id": "123abb34",
   "metadata": {},
   "source": [
    "Note that the trend in this distribution is not as skewed as the other metrics. That is, it more closely resembles a normal distribution."
   ]
  },
  {
   "cell_type": "code",
   "execution_count": 77,
   "id": "bfd2d356",
   "metadata": {},
   "outputs": [],
   "source": [
    "x9 = df5[['planetmass', 'temperature']]"
   ]
  },
  {
   "cell_type": "code",
   "execution_count": 78,
   "id": "94d4f57a",
   "metadata": {},
   "outputs": [
    {
     "data": {
      "text/html": [
       "<div>\n",
       "<style scoped>\n",
       "    .dataframe tbody tr th:only-of-type {\n",
       "        vertical-align: middle;\n",
       "    }\n",
       "\n",
       "    .dataframe tbody tr th {\n",
       "        vertical-align: top;\n",
       "    }\n",
       "\n",
       "    .dataframe thead th {\n",
       "        text-align: right;\n",
       "    }\n",
       "</style>\n",
       "<table border=\"1\" class=\"dataframe\">\n",
       "  <thead>\n",
       "    <tr style=\"text-align: right;\">\n",
       "      <th></th>\n",
       "      <th>planetmass</th>\n",
       "      <th>temperature</th>\n",
       "    </tr>\n",
       "    <tr>\n",
       "      <th>planetname</th>\n",
       "      <th></th>\n",
       "      <th></th>\n",
       "    </tr>\n",
       "  </thead>\n",
       "  <tbody>\n",
       "    <tr>\n",
       "      <th>1RXS J160929.1-210524 b</th>\n",
       "      <td>9.000000</td>\n",
       "      <td>1750.0</td>\n",
       "    </tr>\n",
       "    <tr>\n",
       "      <th>2M0437 b</th>\n",
       "      <td>4.000000</td>\n",
       "      <td>1450.0</td>\n",
       "    </tr>\n",
       "    <tr>\n",
       "      <th>2MASS J12073346-3932539 b</th>\n",
       "      <td>4.500000</td>\n",
       "      <td>1200.0</td>\n",
       "    </tr>\n",
       "    <tr>\n",
       "      <th>2MASS J21402931+1625183 A b</th>\n",
       "      <td>20.950000</td>\n",
       "      <td>2075.0</td>\n",
       "    </tr>\n",
       "    <tr>\n",
       "      <th>51 Eri b</th>\n",
       "      <td>2.000000</td>\n",
       "      <td>700.0</td>\n",
       "    </tr>\n",
       "    <tr>\n",
       "      <th>...</th>\n",
       "      <td>...</td>\n",
       "      <td>...</td>\n",
       "    </tr>\n",
       "    <tr>\n",
       "      <th>bet Pic b</th>\n",
       "      <td>13.500000</td>\n",
       "      <td>1631.0</td>\n",
       "    </tr>\n",
       "    <tr>\n",
       "      <th>kap And b</th>\n",
       "      <td>13.208000</td>\n",
       "      <td>1790.0</td>\n",
       "    </tr>\n",
       "    <tr>\n",
       "      <th>pi Men c</th>\n",
       "      <td>0.014695</td>\n",
       "      <td>1158.5</td>\n",
       "    </tr>\n",
       "    <tr>\n",
       "      <th>rho CrB b</th>\n",
       "      <td>1.044900</td>\n",
       "      <td>614.0</td>\n",
       "    </tr>\n",
       "    <tr>\n",
       "      <th>rho CrB c</th>\n",
       "      <td>0.078660</td>\n",
       "      <td>448.0</td>\n",
       "    </tr>\n",
       "  </tbody>\n",
       "</table>\n",
       "<p>855 rows × 2 columns</p>\n",
       "</div>"
      ],
      "text/plain": [
       "                             planetmass  temperature\n",
       "planetname                                          \n",
       "1RXS J160929.1-210524 b        9.000000       1750.0\n",
       "2M0437 b                       4.000000       1450.0\n",
       "2MASS J12073346-3932539 b      4.500000       1200.0\n",
       "2MASS J21402931+1625183 A b   20.950000       2075.0\n",
       "51 Eri b                       2.000000        700.0\n",
       "...                                 ...          ...\n",
       "bet Pic b                     13.500000       1631.0\n",
       "kap And b                     13.208000       1790.0\n",
       "pi Men c                       0.014695       1158.5\n",
       "rho CrB b                      1.044900        614.0\n",
       "rho CrB c                      0.078660        448.0\n",
       "\n",
       "[855 rows x 2 columns]"
      ]
     },
     "execution_count": 78,
     "metadata": {},
     "output_type": "execute_result"
    }
   ],
   "source": [
    "x9"
   ]
  },
  {
   "cell_type": "code",
   "execution_count": 79,
   "id": "a615b000",
   "metadata": {},
   "outputs": [
    {
     "name": "stdout",
     "output_type": "stream",
     "text": [
      "<class 'numpy.ndarray'>\n"
     ]
    },
    {
     "data": {
      "text/plain": [
       "855"
      ]
     },
     "execution_count": 79,
     "metadata": {},
     "output_type": "execute_result"
    }
   ],
   "source": [
    "rs2 = RobustScaler().fit(x9)\n",
    "transformer2 = rs2.transform(x9)\n",
    "print(type(transformer2))\n",
    "len(transformer2)"
   ]
  },
  {
   "cell_type": "code",
   "execution_count": 80,
   "id": "4535cf80",
   "metadata": {},
   "outputs": [],
   "source": [
    "x10 = transformer2[:, 0]\n",
    "y2 = transformer2[:, 1]"
   ]
  },
  {
   "cell_type": "code",
   "execution_count": 81,
   "id": "a26ad54a",
   "metadata": {},
   "outputs": [],
   "source": [
    "x_train2, x_test2 = tts(x10)\n",
    "y_train2, y_test2 = tts(y2)"
   ]
  },
  {
   "cell_type": "code",
   "execution_count": 82,
   "id": "0e1a3f48",
   "metadata": {},
   "outputs": [
    {
     "name": "stdout",
     "output_type": "stream",
     "text": [
      "[1.2115910333515583]\n"
     ]
    }
   ],
   "source": [
    "#predictions2 = random_algorithm([x_train2], [x_test2])\n",
    "predictions2 = random_algorithm([y_train2], [y_test2])\n",
    "print(predictions2)"
   ]
  },
  {
   "cell_type": "code",
   "execution_count": 83,
   "id": "61bb5de3",
   "metadata": {},
   "outputs": [
    {
     "name": "stdout",
     "output_type": "stream",
     "text": [
      "\n",
      "Training x2 shape:  (684, 1)\n",
      "Training y2 shape:  (684, 1)\n",
      "Test x2 shape:  (171, 1)\n",
      "Test y2 shape:  (171, 1)\n"
     ]
    }
   ],
   "source": [
    "x_train2, y_train2 = pd.DataFrame(x_train2), pd.DataFrame(y_train2)\n",
    "x_test2, y_test2 = pd.DataFrame(x_test2), pd.DataFrame(y_test2)\n",
    "print('\\nTraining x2 shape: ', x_train2.shape)\n",
    "print('Training y2 shape: ', y_train2.shape)\n",
    "print('Test x2 shape: ', x_test2.shape)\n",
    "print('Test y2 shape: ', y_test2.shape)"
   ]
  },
  {
   "cell_type": "code",
   "execution_count": 84,
   "id": "2b8051b6",
   "metadata": {},
   "outputs": [
    {
     "name": "stdout",
     "output_type": "stream",
     "text": [
      "     k  Test Score  Train Score\n",
      "0    1   -0.941746     0.806419\n",
      "1    2   -0.436195     0.515895\n",
      "2    3   -0.209873     0.352850\n",
      "3    4   -0.167804     0.261971\n",
      "4    5   -0.171014     0.211420\n",
      "5    6   -0.142327     0.191172\n",
      "6    7   -0.125960     0.183256\n",
      "7    8   -0.120098     0.169047\n",
      "8    9   -0.102322     0.142715\n",
      "9   10   -0.082044     0.133358\n",
      "10  11   -0.067033     0.115324\n",
      "11  12   -0.057830     0.110851\n",
      "12  13   -0.065697     0.091500\n",
      "13  14   -0.075816     0.089763\n",
      "14  15   -0.062944     0.089679\n",
      "15  16   -0.070666     0.082063\n",
      "16  17   -0.076534     0.078231\n",
      "17  18   -0.077869     0.071711\n",
      "18  19   -0.078116     0.069403\n",
      "19  20   -0.064464     0.060435\n",
      "20  21   -0.055018     0.052762\n",
      "21  22   -0.059333     0.055023\n",
      "22  23   -0.041023     0.052622\n",
      "23  24   -0.029020     0.046849\n",
      "24  25   -0.035643     0.046561\n",
      "25  26   -0.034044     0.043135\n",
      "26  27   -0.033405     0.037154\n",
      "27  28   -0.034297     0.032531\n",
      "28  29   -0.044177     0.032692\n",
      "29  30   -0.043541     0.031729\n",
      "30  31   -0.043145     0.025343\n",
      "31  32   -0.046686     0.025165\n",
      "32  33   -0.042318     0.024666\n",
      "33  34   -0.041268     0.018249\n",
      "34  35   -0.043659     0.015810\n",
      "35  36   -0.041729     0.015576\n",
      "36  37   -0.039589     0.014696\n",
      "37  38   -0.038740     0.013386\n",
      "38  39   -0.040615     0.011835\n",
      "39  40   -0.044203     0.008067\n",
      "40  41   -0.046374     0.007081\n",
      "41  42   -0.041820     0.005823\n",
      "42  43   -0.056268     0.006242\n",
      "43  44   -0.059186     0.004439\n",
      "44  45   -0.057269     0.005253\n",
      "45  46   -0.054980     0.005838\n",
      "46  47   -0.047957     0.005669\n",
      "47  48   -0.048038     0.006648\n",
      "48  49   -0.049173     0.006730\n",
      "49  50   -0.050015     0.007414\n",
      "50  51   -0.049340     0.007763\n",
      "51  52   -0.046670     0.006940\n",
      "52  53   -0.040062     0.006561\n",
      "53  54   -0.035060     0.006102\n",
      "54  55   -0.039618     0.007632\n",
      "55  56   -0.039854     0.007649\n",
      "56  57   -0.035358     0.007406\n",
      "57  58   -0.031601     0.006598\n",
      "58  59   -0.029046     0.008857\n",
      "-0.02901953263427237\n"
     ]
    }
   ],
   "source": [
    "knn_r_acc2 = []\n",
    "for n in range(1, 60, 1):\n",
    "    knn2 = KNeighborsRegressor(n_neighbors = n)\n",
    "    knn2.fit(x_train2, y_train2)\n",
    "    \n",
    "    test_score2 = knn2.score(x_test2, y_test2)\n",
    "    train_score2 = knn2.score(x_train2, y_train2)\n",
    "    \n",
    "    knn_r_acc2.append((n, test_score2, train_score2))\n",
    "   \n",
    "outcome = pd.DataFrame(knn_r_acc2, columns = ['k', 'Test Score', 'Train Score'])\n",
    "print(outcome)\n",
    "print(outcome.iloc[:,1].max())"
   ]
  },
  {
   "cell_type": "markdown",
   "id": "be2a0e9f",
   "metadata": {},
   "source": [
    "The maximum test score for this kNN model occurs when k = 15.\n",
    "Will not create the second kNN model to help describe the relationship betweeen mass and temperature."
   ]
  },
  {
   "cell_type": "code",
   "execution_count": 85,
   "id": "37a042c4",
   "metadata": {},
   "outputs": [],
   "source": [
    "model_knn2 = KNeighborsRegressor(n_neighbors = 15)\n",
    "model_knn2.fit(x_train2, y_train2)\n",
    "y_knn_train_pred2 = model_knn2.predict(x_train2)\n",
    "y_knn_test_pred2 = model_knn2.predict(x_test2)"
   ]
  },
  {
   "cell_type": "code",
   "execution_count": 86,
   "id": "e851f14b",
   "metadata": {},
   "outputs": [
    {
     "name": "stdout",
     "output_type": "stream",
     "text": [
      "               Method Training MSE Training R2  Test MSE   Test R2\n",
      "0  k Nearest Neighbor     0.760837    0.031253   0.82806 -0.013573\n",
      "1                 SVR     1.162673     -0.1204      0.93 -0.101157\n",
      "2       Random Forest     1.014679    0.022213  0.854878 -0.012209\n"
     ]
    }
   ],
   "source": [
    "knn_train_mse_2 = mean_squared_error(y_train2, y_knn_train_pred2)\n",
    "knn_train_r2_2 = r2_score(y_train2, y_knn_train_pred2)\n",
    "# Now, test mean square and r2 score.\n",
    "knn_test_mse_2 = mean_squared_error(y_test2, y_knn_test_pred2)\n",
    "knn_test_r2_2 = r2_score(y_test2, y_knn_test_pred2)\n",
    "# Consolidate the results.\n",
    "knn_results2 = pd.DataFrame(['k Nearest Neighbor', knn_train_mse_2, knn_train_r2_2, knn_test_mse_2, knn_test_r2_2]).transpose()\n",
    "results3 = pd.DataFrame()\n",
    "results3 = pd.concat([results3, knn_results2])\n",
    "print(results2)"
   ]
  },
  {
   "cell_type": "code",
   "execution_count": 87,
   "id": "e978e5b6",
   "metadata": {},
   "outputs": [
    {
     "data": {
      "image/png": "[encoded data removed]",
      "text/plain": [
       "<Figure size 576x576 with 1 Axes>"
      ]
     },
     "metadata": {
      "needs_background": "light"
     },
     "output_type": "display_data"
    }
   ],
   "source": [
    "true_values2 = y_test2\n",
    "predicted_values2 = y_knn_test_pred2\n",
    "plot2 = plt.figure(figsize=(8,8))\n",
    "plot2 =plt.scatter(true_values2, predicted_values2, c = 'lime')\n",
    "\n",
    "residuals2 = true_values2 - predicted_values2\n",
    "plot2 = plt.scatter(true_values2, residuals2)\n",
    "\n",
    "plt.axis('equal')\n",
    "plt.show(plot2)"
   ]
  },
  {
   "cell_type": "markdown",
   "id": "be911b0c",
   "metadata": {},
   "source": [
    "Notice no pattern so model does describe the data."
   ]
  },
  {
   "cell_type": "code",
   "execution_count": 88,
   "id": "73135311",
   "metadata": {},
   "outputs": [],
   "source": [
    "w5 = x9.iloc[:, 0:1].values\n",
    "w6 = x9.iloc[:, 1:2].values\n",
    "sc2_X = StandardScaler()\n",
    "sc2_y = StandardScaler()\n",
    "w7 = sc2_X.fit_transform(w5)\n",
    "w8 = sc2_y.fit_transform(w6)\n",
    "w3_train, w3_test = tts(w7)\n",
    "w4_train, w4_test = tts(w7)"
   ]
  },
  {
   "cell_type": "code",
   "execution_count": 89,
   "id": "dc7c93f4",
   "metadata": {},
   "outputs": [
    {
     "name": "stderr",
     "output_type": "stream",
     "text": [
      "c:\\users\\joepb\\miniconda3\\lib\\site-packages\\sklearn\\utils\\validation.py:993: DataConversionWarning: A column-vector y was passed when a 1d array was expected. Please change the shape of y to (n_samples, ), for example using ravel().\n",
      "  y = column_or_1d(y, warn=True)\n"
     ]
    }
   ],
   "source": [
    "regressor2 = SVR(kernel = 'rbf')\n",
    "regressor2.fit(w3_train, w4_train)\n",
    "y_svr_train_pred2 = regressor2.predict(w3_train)\n",
    "y_svr_test_pred2 = regressor2.predict(w3_test)\n",
    "# Model performance\n",
    "svr_train_mse_2 = mean_squared_error(w4_train, y_svr_train_pred2)\n",
    "svr_train_r2_2 = r2_score(w4_train, y_svr_train_pred2)\n",
    "# Test results\n",
    "svr_test_mse_2 = mean_squared_error(w4_test, y_svr_test_pred2)\n",
    "svr_test_r2_2 = r2_score(w4_test, y_svr_test_pred2)\n",
    "# Consolidate the results.\n",
    "#svr_results = pd.DataFrame(['SVR', svr_train_mse, svr_train_r2, svr_test_mse, svr_test_r2]).T\n",
    "svr_results2 = pd.DataFrame(['SVR', svr_train_mse_2, svr_train_r2_2, svr_test_mse_2, svr_test_r2_2])\n",
    "#results2 = pd.concat([knn_results, svr_results.T], ignore_index = False)\n",
    "#print(results2)"
   ]
  },
  {
   "cell_type": "code",
   "execution_count": 90,
   "id": "a73aee1d",
   "metadata": {},
   "outputs": [
    {
     "data": {
      "text/html": [
       "<div>\n",
       "<style scoped>\n",
       "    .dataframe tbody tr th:only-of-type {\n",
       "        vertical-align: middle;\n",
       "    }\n",
       "\n",
       "    .dataframe tbody tr th {\n",
       "        vertical-align: top;\n",
       "    }\n",
       "\n",
       "    .dataframe thead th {\n",
       "        text-align: right;\n",
       "    }\n",
       "</style>\n",
       "<table border=\"1\" class=\"dataframe\">\n",
       "  <thead>\n",
       "    <tr style=\"text-align: right;\">\n",
       "      <th></th>\n",
       "      <th>Method</th>\n",
       "      <th>Training MSE</th>\n",
       "      <th>Training R2</th>\n",
       "      <th>Test MSE</th>\n",
       "      <th>Test R2</th>\n",
       "    </tr>\n",
       "  </thead>\n",
       "  <tbody>\n",
       "    <tr>\n",
       "      <th>0</th>\n",
       "      <td>k Nearest Neighbor</td>\n",
       "      <td>0.371051</td>\n",
       "      <td>0.089679</td>\n",
       "      <td>0.498995</td>\n",
       "      <td>-0.062944</td>\n",
       "    </tr>\n",
       "    <tr>\n",
       "      <th>1</th>\n",
       "      <td>SVR</td>\n",
       "      <td>1.162673</td>\n",
       "      <td>-0.1204</td>\n",
       "      <td>0.93</td>\n",
       "      <td>-0.101157</td>\n",
       "    </tr>\n",
       "  </tbody>\n",
       "</table>\n",
       "</div>"
      ],
      "text/plain": [
       "               Method Training MSE Training R2  Test MSE   Test R2\n",
       "0  k Nearest Neighbor     0.371051    0.089679  0.498995 -0.062944\n",
       "1                 SVR     1.162673     -0.1204      0.93 -0.101157"
      ]
     },
     "execution_count": 90,
     "metadata": {},
     "output_type": "execute_result"
    }
   ],
   "source": [
    "results3 = pd.concat([knn_results2,svr_results.T], ignore_index = True)\n",
    "results3.columns = ['Method', 'Training MSE', 'Training R2', 'Test MSE', 'Test R2']\n",
    "results3"
   ]
  },
  {
   "cell_type": "markdown",
   "id": "ca24267b",
   "metadata": {},
   "source": [
    "Now to add the Random Forest Regressor."
   ]
  },
  {
   "cell_type": "code",
   "execution_count": 91,
   "id": "28832456",
   "metadata": {},
   "outputs": [
    {
     "name": "stderr",
     "output_type": "stream",
     "text": [
      "C:\\Users\\joepb\\AppData\\Local\\Temp\\ipykernel_8212\\3546261006.py:2: DataConversionWarning: A column-vector y was passed when a 1d array was expected. Please change the shape of y to (n_samples,), for example using ravel().\n",
      "  rf2.fit(w3_train, w4_train)\n"
     ]
    }
   ],
   "source": [
    "rf2 = RandomForestRegressor(max_depth=2)\n",
    "rf2.fit(w3_train, w4_train)\n",
    "y_rf_train_pred2 = rf2.predict(w3_train)\n",
    "y_rf_test_pred2 = rf2.predict(w3_test)"
   ]
  },
  {
   "cell_type": "code",
   "execution_count": 93,
   "id": "bbeb0d79",
   "metadata": {},
   "outputs": [
    {
     "name": "stdout",
     "output_type": "stream",
     "text": [
      "[0.3084812431683216, -0.3806181727442102, 0.05652793472684643, -0.4721555142845351, -0.12425212274246057, -0.4654367593927624, -0.37734420319949047, -0.36766464106727564, -0.3727891151372717, -0.46485598566482955, -0.47442451752552783, -0.22531813912293935, -0.3192668304062013, 0.13624197581567482, -0.272577177768459, -0.4634666838058528, -0.4552077397630424, -0.28054858187734183, -0.47442167059548895, -0.46910929914292626, -0.36766464106727564, 5.784551172966938, 0.07076258492128007, -0.38076051924615456, -0.22560283212682805, 0.436877787922113, 0.07531767298349884, -0.23955278931737298, 0.23019066709893676, 0.7483319341763207, -0.47442451752552783, -0.1399102379563376, -0.3462177681076623, -0.4770465400913425, -0.47661807712049004, -0.2821143933987295, -0.45695575480691886, -0.47045305012128086, -0.3819533829324481, -0.47442451752552783, 2.47926539781945, 0.19033364655452245, -0.4550483116808648, -0.4583621382461289, 2.0443968343795027, 0.7144534667135687, 1.232310040787064, -0.15699181818965796, -0.4735704385138618, 1.726252402533911, -0.03742075655641546, -0.4700060821051756, 1.726252402533911, -0.29364446005622075, -0.272577177768459, -0.4772799883545312, 2.4443905048430876, -0.4429944098962184, -0.3631095530050569, -0.10574707748969688, -0.03742075655641546, -0.4752899842573494, 0.9447701068595048, -0.45470668007619836, 0.3127516382266517, -0.4236068163313998, -0.47808566955553616, 0.9049130863150908, -0.2885199859862247, -0.4686082394560822, -0.47682163261827043, -0.1655326083063181, -0.05734926682862256, -0.4652574028003126, -0.47112492561045816, -0.38189929126170924, -0.4693000434555317, 5.485623518883831, -0.47642448587784575, -0.1313694478396774, -0.4043900385689144, -0.3733585011450491, -0.2116528749362831, -0.06218904789472997, -0.4657954725776622, -0.45101705874580117, -0.47323165383923427, -0.41940759452404186, -0.4730010525060845, -0.048808476711962374, 0.05368100468795976, -0.18925702529704086, -0.449940919191102, -0.31528112835175987, 6.211590678799947, -0.47731415151499784, -0.3107260402895411, -0.4026818805455823, -0.47403733504023926, 0.6800056132430394, -0.3819533829324481, -0.4498526643598965, -0.4718879028608797, -0.4454626982399332, -0.47005163298579783, 0.06933911990183673, 0.7511788642152076, -0.25834252757402537, -0.4675890385021608, -0.13934085194856027, -0.4708687019069583, -0.419478767775014, -0.4465246031444379, -0.29079753001733405, -0.38958600236670343, -0.47595331895640997, -0.47292703232507344, -0.47072350847497507, -0.20140392679629088, -0.46910929914292626, -0.46555348352435677, -0.12567558776190396, 1.0017087076372395, -0.30844849625843174, -0.38958600236670343, -0.46555348352435677, -0.4729583485555012, -0.17976725850075173, -0.3619707809895022, -0.4718879028608797, 0.3355270785377455, -0.47564869744224914, -0.4727818388930902, -0.419478767775014, -0.11656541163746643, -0.4552077397630424, -0.46660115377866707, 0.8992192262373172, -0.023186106361981824, 2.3682351263028676, -0.45862974966978426, -0.2885199859862247, -0.476531245754304, -0.4518227399468061, 1.4686052340146623, -0.2711537127490156, -0.4724259726382294, -0.4767917398528621, -0.0974909803769254, -0.4758479825449712, 1.929807900314312, 2.282827225136266, -0.46992636806408683, 0.9447701068595048, -0.47272110438559395, -0.2993383201339942, -0.47442451752552783, -0.0974909803769254, -0.35912385095061544, -0.4095145126389105, -0.4749939035333052, 1.0244841479483333, 0.013823984143545574, 0.7739543045263014, -0.47661807712049004, -0.22474875311516201, -0.46373714215954703, -0.4760444207176544, -0.272577177768459, -0.14190308898355827, -0.3890166163589261]\n"
     ]
    }
   ],
   "source": [
    "some_prediction = random_algorithm(w3_train, w3_test)\n",
    "print(some_prediction)"
   ]
  },
  {
   "cell_type": "code",
   "execution_count": 97,
   "id": "8da4f8b0",
   "metadata": {},
   "outputs": [
    {
     "name": "stdout",
     "output_type": "stream",
     "text": [
      "-0.47584579079882494\n"
     ]
    }
   ],
   "source": [
    "some_r2 = r2_score(w3_test, some_prediction)\n",
    "print(some_r2)"
   ]
  },
  {
   "cell_type": "code",
   "execution_count": 98,
   "id": "81e38164",
   "metadata": {},
   "outputs": [],
   "source": [
    "# Model performance metrics for random forest model.\n",
    "rf2_train_mse = mean_squared_error(w4_train, y_rf_train_pred2)\n",
    "rf2_train_r2 = r2_score(w4_train, y_rf_train_pred2)\n",
    "rf2_test_mse = mean_squared_error(w4_test, y_rf_test_pred2)\n",
    "rf2_test_r2 = r2_score(w4_test, y_rf_test_pred2)"
   ]
  },
  {
   "cell_type": "code",
   "execution_count": 99,
   "id": "92f2c78e",
   "metadata": {},
   "outputs": [],
   "source": [
    "rf_results2 = pd.DataFrame(['Random Forest', rf2_train_mse, rf2_train_r2, rf2_test_mse, rf2_test_r2]).transpose()\n",
    "rf_results2.columns = ['Method', 'Training MSE', 'Training R2', 'Test MSE', 'Test R2']"
   ]
  },
  {
   "cell_type": "code",
   "execution_count": 100,
   "id": "5488abbc",
   "metadata": {},
   "outputs": [
    {
     "data": {
      "text/html": [
       "<div>\n",
       "<style scoped>\n",
       "    .dataframe tbody tr th:only-of-type {\n",
       "        vertical-align: middle;\n",
       "    }\n",
       "\n",
       "    .dataframe tbody tr th {\n",
       "        vertical-align: top;\n",
       "    }\n",
       "\n",
       "    .dataframe thead th {\n",
       "        text-align: right;\n",
       "    }\n",
       "</style>\n",
       "<table border=\"1\" class=\"dataframe\">\n",
       "  <thead>\n",
       "    <tr style=\"text-align: right;\">\n",
       "      <th></th>\n",
       "      <th>Method</th>\n",
       "      <th>Training MSE</th>\n",
       "      <th>Training R2</th>\n",
       "      <th>Test MSE</th>\n",
       "      <th>Test R2</th>\n",
       "    </tr>\n",
       "  </thead>\n",
       "  <tbody>\n",
       "    <tr>\n",
       "      <th>0</th>\n",
       "      <td>k Nearest Neighbor</td>\n",
       "      <td>0.371051</td>\n",
       "      <td>0.089679</td>\n",
       "      <td>0.498995</td>\n",
       "      <td>-0.062944</td>\n",
       "    </tr>\n",
       "    <tr>\n",
       "      <th>1</th>\n",
       "      <td>SVR</td>\n",
       "      <td>1.162673</td>\n",
       "      <td>-0.1204</td>\n",
       "      <td>0.93</td>\n",
       "      <td>-0.101157</td>\n",
       "    </tr>\n",
       "    <tr>\n",
       "      <th>2</th>\n",
       "      <td>Random Forest</td>\n",
       "      <td>0.954107</td>\n",
       "      <td>0.042398</td>\n",
       "      <td>1.035965</td>\n",
       "      <td>-0.021127</td>\n",
       "    </tr>\n",
       "  </tbody>\n",
       "</table>\n",
       "</div>"
      ],
      "text/plain": [
       "               Method Training MSE Training R2  Test MSE   Test R2\n",
       "0  k Nearest Neighbor     0.371051    0.089679  0.498995 -0.062944\n",
       "1                 SVR     1.162673     -0.1204      0.93 -0.101157\n",
       "2       Random Forest     0.954107    0.042398  1.035965 -0.021127"
      ]
     },
     "execution_count": 100,
     "metadata": {},
     "output_type": "execute_result"
    }
   ],
   "source": [
    "results3 = pd.concat([results3, rf_results2], ignore_index = True)\n",
    "results3"
   ]
  },
  {
   "cell_type": "markdown",
   "id": "1a2a8b48",
   "metadata": {},
   "source": [
    "Random Forest model seems to be the best performing of the trio in this scenario. Still need to do further exploraiton of the interpretation of the R2 value."
   ]
  },
  {
   "cell_type": "code",
   "execution_count": 101,
   "id": "7e17b4aa",
   "metadata": {},
   "outputs": [
    {
     "name": "stdout",
     "output_type": "stream",
     "text": [
      "The Random Forest 2 model RMSE is:  1.0178236568576704\n"
     ]
    }
   ],
   "source": [
    "rf2_rmse = sqrt(rf2_test_mse)\n",
    "print('The Random Forest 2 model RMSE is: ', rf2_rmse)"
   ]
  },
  {
   "cell_type": "code",
   "execution_count": null,
   "id": "6195f08f",
   "metadata": {},
   "outputs": [],
   "source": []
  },
  {
   "cell_type": "code",
   "execution_count": null,
   "id": "7215387b",
   "metadata": {},
   "outputs": [],
   "source": []
  }
 ],
 "metadata": {
  "kernelspec": {
   "display_name": "Python 3 (ipykernel)",
   "language": "python",
   "name": "python3"
  },
  "language_info": {
   "codemirror_mode": {
    "name": "ipython",
    "version": 3
   },
   "file_extension": ".py",
   "mimetype": "text/x-python",
   "name": "python",
   "nbconvert_exporter": "python",
   "pygments_lexer": "ipython3",
   "version": "3.9.5"
  }
 },
 "nbformat": 4,
 "nbformat_minor": 5
}
