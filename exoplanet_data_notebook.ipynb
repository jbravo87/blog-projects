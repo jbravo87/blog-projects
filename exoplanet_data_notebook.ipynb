{
 "cells": [
  {
   "cell_type": "markdown",
   "id": "cd723823",
   "metadata": {},
   "source": [
    "# Planetary Data Analysis Notebook"
   ]
  },
  {
   "cell_type": "markdown",
   "id": "cb65665e",
   "metadata": {},
   "source": [
    "For the first part of this script, I will solely focus on the kNN supervised learning technique applied to the data pertaining to exoplanets from NASA."
   ]
  },
  {
   "cell_type": "code",
   "execution_count": 32,
   "id": "98ae3dc7",
   "metadata": {},
   "outputs": [],
   "source": [
    "# Import necessary libraries\n",
    "from random import seed\n",
    "from random import randrange\n",
    "import pandas as pd\n",
    "import matplotlib.pyplot as plt\n",
    "import numpy as np\n",
    "import statistics\n",
    "import seaborn as sns\n",
    "from sklearn.preprocessing import RobustScaler\n",
    "from scipy import stats"
   ]
  },
  {
   "cell_type": "markdown",
   "id": "833cca76",
   "metadata": {},
   "source": [
    "As a resampling method, will use the train-test-split (tts) method. Will bundle the logic of tts into a function."
   ]
  },
  {
   "cell_type": "code",
   "execution_count": 2,
   "id": "df304929",
   "metadata": {},
   "outputs": [],
   "source": [
    "seed(1235)\n",
    "def tts(data, split = 0.80):\n",
    "    train = list()\n",
    "    train_size = split*len(data)\n",
    "    data_copy = list(data)\n",
    "    while len(train) < train_size :\n",
    "        index = randrange(len(data_copy))\n",
    "        train.append(data_copy.pop(index))\n",
    "    return np.array(train), np.array(data_copy)"
   ]
  },
  {
   "cell_type": "code",
   "execution_count": 3,
   "id": "980eb959",
   "metadata": {},
   "outputs": [],
   "source": [
    "# Assign path of data to a variable.\n",
    "# Initiatiate first data frame with raw data.\n",
    "path = 'J:\\\\datasets\\\\PS_2022.02.27_18.46.12.csv'\n",
    "raw_data = pd.read_csv(path)"
   ]
  },
  {
   "cell_type": "markdown",
   "id": "afef847d",
   "metadata": {},
   "source": [
    "Need to remove the first thirteen rows. These rows contain copious notes/remarks."
   ]
  },
  {
   "cell_type": "code",
   "execution_count": 4,
   "id": "c0d3a1f7",
   "metadata": {},
   "outputs": [],
   "source": [
    "raw_data = raw_data.drop(raw_data.index[range(14)])"
   ]
  },
  {
   "cell_type": "code",
   "execution_count": 5,
   "id": "9719ec3c",
   "metadata": {},
   "outputs": [
    {
     "data": {
      "text/html": [
       "<div>\n",
       "<style scoped>\n",
       "    .dataframe tbody tr th:only-of-type {\n",
       "        vertical-align: middle;\n",
       "    }\n",
       "\n",
       "    .dataframe tbody tr th {\n",
       "        vertical-align: top;\n",
       "    }\n",
       "\n",
       "    .dataframe thead th {\n",
       "        text-align: right;\n",
       "    }\n",
       "</style>\n",
       "<table border=\"1\" class=\"dataframe\">\n",
       "  <thead>\n",
       "    <tr style=\"text-align: right;\">\n",
       "      <th></th>\n",
       "      <th># This file was produced by the NASA Exoplanet Archive  http://exoplanetarchive.ipac.caltech.edu</th>\n",
       "      <th>Unnamed: 1</th>\n",
       "      <th>Unnamed: 2</th>\n",
       "      <th>Unnamed: 3</th>\n",
       "      <th>Unnamed: 4</th>\n",
       "      <th>Unnamed: 5</th>\n",
       "      <th>Unnamed: 6</th>\n",
       "      <th>Unnamed: 7</th>\n",
       "      <th>Unnamed: 8</th>\n",
       "    </tr>\n",
       "  </thead>\n",
       "  <tbody>\n",
       "    <tr>\n",
       "      <th>14</th>\n",
       "      <td>pl_name</td>\n",
       "      <td>pl_orbper</td>\n",
       "      <td>pl_orbpererr1</td>\n",
       "      <td>pl_orbpererr2</td>\n",
       "      <td>pl_orbperlim</td>\n",
       "      <td>pl_orbeccen</td>\n",
       "      <td>pl_orbeccenerr1</td>\n",
       "      <td>pl_orbeccenerr2</td>\n",
       "      <td>pl_orbeccenlim</td>\n",
       "    </tr>\n",
       "    <tr>\n",
       "      <th>15</th>\n",
       "      <td>11 Com b</td>\n",
       "      <td>326.03</td>\n",
       "      <td>0.32</td>\n",
       "      <td>-0.32</td>\n",
       "      <td>0</td>\n",
       "      <td>0.231</td>\n",
       "      <td>0.005</td>\n",
       "      <td>-0.005</td>\n",
       "      <td>0</td>\n",
       "    </tr>\n",
       "    <tr>\n",
       "      <th>16</th>\n",
       "      <td>11 Com b</td>\n",
       "      <td>NaN</td>\n",
       "      <td>NaN</td>\n",
       "      <td>NaN</td>\n",
       "      <td>NaN</td>\n",
       "      <td>NaN</td>\n",
       "      <td>NaN</td>\n",
       "      <td>NaN</td>\n",
       "      <td>NaN</td>\n",
       "    </tr>\n",
       "    <tr>\n",
       "      <th>17</th>\n",
       "      <td>11 UMi b</td>\n",
       "      <td>NaN</td>\n",
       "      <td>NaN</td>\n",
       "      <td>NaN</td>\n",
       "      <td>NaN</td>\n",
       "      <td>NaN</td>\n",
       "      <td>NaN</td>\n",
       "      <td>NaN</td>\n",
       "      <td>NaN</td>\n",
       "    </tr>\n",
       "    <tr>\n",
       "      <th>18</th>\n",
       "      <td>11 UMi b</td>\n",
       "      <td>516.21997</td>\n",
       "      <td>3.2</td>\n",
       "      <td>-3.2</td>\n",
       "      <td>0</td>\n",
       "      <td>0.08</td>\n",
       "      <td>0.03</td>\n",
       "      <td>-0.03</td>\n",
       "      <td>0</td>\n",
       "    </tr>\n",
       "    <tr>\n",
       "      <th>...</th>\n",
       "      <td>...</td>\n",
       "      <td>...</td>\n",
       "      <td>...</td>\n",
       "      <td>...</td>\n",
       "      <td>...</td>\n",
       "      <td>...</td>\n",
       "      <td>...</td>\n",
       "      <td>...</td>\n",
       "      <td>...</td>\n",
       "    </tr>\n",
       "    <tr>\n",
       "      <th>32126</th>\n",
       "      <td>ups And d</td>\n",
       "      <td>1282.41</td>\n",
       "      <td>0.93</td>\n",
       "      <td>-0.94</td>\n",
       "      <td>0</td>\n",
       "      <td>0.294</td>\n",
       "      <td>0.011</td>\n",
       "      <td>-0.012</td>\n",
       "      <td>0</td>\n",
       "    </tr>\n",
       "    <tr>\n",
       "      <th>32127</th>\n",
       "      <td>ups And d</td>\n",
       "      <td>1281.507</td>\n",
       "      <td>1.055</td>\n",
       "      <td>-1.055</td>\n",
       "      <td>0</td>\n",
       "      <td>0.316</td>\n",
       "      <td>0.006</td>\n",
       "      <td>-0.006</td>\n",
       "      <td>0</td>\n",
       "    </tr>\n",
       "    <tr>\n",
       "      <th>32128</th>\n",
       "      <td>ups Leo b</td>\n",
       "      <td>385.2</td>\n",
       "      <td>2.8</td>\n",
       "      <td>-1.3</td>\n",
       "      <td>0</td>\n",
       "      <td>0.32</td>\n",
       "      <td>0.134</td>\n",
       "      <td>-0.218</td>\n",
       "      <td>0</td>\n",
       "    </tr>\n",
       "    <tr>\n",
       "      <th>32129</th>\n",
       "      <td>xi Aql b</td>\n",
       "      <td>NaN</td>\n",
       "      <td>NaN</td>\n",
       "      <td>NaN</td>\n",
       "      <td>NaN</td>\n",
       "      <td>NaN</td>\n",
       "      <td>NaN</td>\n",
       "      <td>NaN</td>\n",
       "      <td>NaN</td>\n",
       "    </tr>\n",
       "    <tr>\n",
       "      <th>32130</th>\n",
       "      <td>xi Aql b</td>\n",
       "      <td>136.75</td>\n",
       "      <td>0.25</td>\n",
       "      <td>-0.25</td>\n",
       "      <td>0</td>\n",
       "      <td>0</td>\n",
       "      <td>NaN</td>\n",
       "      <td>NaN</td>\n",
       "      <td>0</td>\n",
       "    </tr>\n",
       "  </tbody>\n",
       "</table>\n",
       "<p>32117 rows × 9 columns</p>\n",
       "</div>"
      ],
      "text/plain": [
       "      # This file was produced by the NASA Exoplanet Archive  http://exoplanetarchive.ipac.caltech.edu  \\\n",
       "14                                               pl_name                                                 \n",
       "15                                              11 Com b                                                 \n",
       "16                                              11 Com b                                                 \n",
       "17                                              11 UMi b                                                 \n",
       "18                                              11 UMi b                                                 \n",
       "...                                                  ...                                                 \n",
       "32126                                          ups And d                                                 \n",
       "32127                                          ups And d                                                 \n",
       "32128                                          ups Leo b                                                 \n",
       "32129                                           xi Aql b                                                 \n",
       "32130                                           xi Aql b                                                 \n",
       "\n",
       "      Unnamed: 1     Unnamed: 2     Unnamed: 3    Unnamed: 4   Unnamed: 5  \\\n",
       "14     pl_orbper  pl_orbpererr1  pl_orbpererr2  pl_orbperlim  pl_orbeccen   \n",
       "15        326.03           0.32          -0.32             0        0.231   \n",
       "16           NaN            NaN            NaN           NaN          NaN   \n",
       "17           NaN            NaN            NaN           NaN          NaN   \n",
       "18     516.21997            3.2           -3.2             0         0.08   \n",
       "...          ...            ...            ...           ...          ...   \n",
       "32126    1282.41           0.93          -0.94             0        0.294   \n",
       "32127   1281.507          1.055         -1.055             0        0.316   \n",
       "32128      385.2            2.8           -1.3             0         0.32   \n",
       "32129        NaN            NaN            NaN           NaN          NaN   \n",
       "32130     136.75           0.25          -0.25             0            0   \n",
       "\n",
       "            Unnamed: 6       Unnamed: 7      Unnamed: 8  \n",
       "14     pl_orbeccenerr1  pl_orbeccenerr2  pl_orbeccenlim  \n",
       "15               0.005           -0.005               0  \n",
       "16                 NaN              NaN             NaN  \n",
       "17                 NaN              NaN             NaN  \n",
       "18                0.03            -0.03               0  \n",
       "...                ...              ...             ...  \n",
       "32126            0.011           -0.012               0  \n",
       "32127            0.006           -0.006               0  \n",
       "32128            0.134           -0.218               0  \n",
       "32129              NaN              NaN             NaN  \n",
       "32130              NaN              NaN               0  \n",
       "\n",
       "[32117 rows x 9 columns]"
      ]
     },
     "execution_count": 5,
     "metadata": {},
     "output_type": "execute_result"
    }
   ],
   "source": [
    "raw_data"
   ]
  },
  {
   "cell_type": "code",
   "execution_count": 6,
   "id": "b616cf02",
   "metadata": {},
   "outputs": [
    {
     "data": {
      "text/plain": [
       "Index(['# This file was produced by the NASA Exoplanet Archive  http://exoplanetarchive.ipac.caltech.edu',\n",
       "       'Unnamed: 1', 'Unnamed: 2', 'Unnamed: 3', 'Unnamed: 4', 'Unnamed: 5',\n",
       "       'Unnamed: 6', 'Unnamed: 7', 'Unnamed: 8'],\n",
       "      dtype='object')"
      ]
     },
     "execution_count": 6,
     "metadata": {},
     "output_type": "execute_result"
    }
   ],
   "source": [
    "raw_data.columns"
   ]
  },
  {
   "cell_type": "markdown",
   "id": "f1bf8439",
   "metadata": {},
   "source": [
    "Notice that the columns are not properly named. Now want to create first data frame with columns of interest."
   ]
  },
  {
   "cell_type": "code",
   "execution_count": 7,
   "id": "3e2c2a40",
   "metadata": {},
   "outputs": [],
   "source": [
    "df1 = raw_data.iloc[:, [0, 1, 5]]\n",
    "df1.reset_index(drop=True, inplace=True)"
   ]
  },
  {
   "cell_type": "markdown",
   "id": "27fabdff",
   "metadata": {},
   "source": [
    "Need to rename the columns of interest to make analysis clearer and remove unnecessary rows."
   ]
  },
  {
   "cell_type": "code",
   "execution_count": 8,
   "id": "37864ac9",
   "metadata": {},
   "outputs": [],
   "source": [
    "df1 = df1.rename(columns={'# This file was produced by the NASA Exoplanet Archive  http://exoplanetarchive.ipac.caltech.edu':'planetname', 'Unnamed: 1':'orbitperiod', 'Unnamed: 5':'eccentricity'})\n",
    "df1 = df1.drop([0])"
   ]
  },
  {
   "cell_type": "code",
   "execution_count": 9,
   "id": "2e809c12",
   "metadata": {},
   "outputs": [
    {
     "data": {
      "text/html": [
       "<div>\n",
       "<style scoped>\n",
       "    .dataframe tbody tr th:only-of-type {\n",
       "        vertical-align: middle;\n",
       "    }\n",
       "\n",
       "    .dataframe tbody tr th {\n",
       "        vertical-align: top;\n",
       "    }\n",
       "\n",
       "    .dataframe thead th {\n",
       "        text-align: right;\n",
       "    }\n",
       "</style>\n",
       "<table border=\"1\" class=\"dataframe\">\n",
       "  <thead>\n",
       "    <tr style=\"text-align: right;\">\n",
       "      <th></th>\n",
       "      <th>planetname</th>\n",
       "      <th>orbitperiod</th>\n",
       "      <th>eccentricity</th>\n",
       "    </tr>\n",
       "  </thead>\n",
       "  <tbody>\n",
       "    <tr>\n",
       "      <th>1</th>\n",
       "      <td>11 Com b</td>\n",
       "      <td>326.03</td>\n",
       "      <td>0.231</td>\n",
       "    </tr>\n",
       "    <tr>\n",
       "      <th>2</th>\n",
       "      <td>11 Com b</td>\n",
       "      <td>NaN</td>\n",
       "      <td>NaN</td>\n",
       "    </tr>\n",
       "    <tr>\n",
       "      <th>3</th>\n",
       "      <td>11 UMi b</td>\n",
       "      <td>NaN</td>\n",
       "      <td>NaN</td>\n",
       "    </tr>\n",
       "    <tr>\n",
       "      <th>4</th>\n",
       "      <td>11 UMi b</td>\n",
       "      <td>516.21997</td>\n",
       "      <td>0.08</td>\n",
       "    </tr>\n",
       "    <tr>\n",
       "      <th>5</th>\n",
       "      <td>11 UMi b</td>\n",
       "      <td>516.22</td>\n",
       "      <td>0.08</td>\n",
       "    </tr>\n",
       "    <tr>\n",
       "      <th>...</th>\n",
       "      <td>...</td>\n",
       "      <td>...</td>\n",
       "      <td>...</td>\n",
       "    </tr>\n",
       "    <tr>\n",
       "      <th>32112</th>\n",
       "      <td>ups And d</td>\n",
       "      <td>1282.41</td>\n",
       "      <td>0.294</td>\n",
       "    </tr>\n",
       "    <tr>\n",
       "      <th>32113</th>\n",
       "      <td>ups And d</td>\n",
       "      <td>1281.507</td>\n",
       "      <td>0.316</td>\n",
       "    </tr>\n",
       "    <tr>\n",
       "      <th>32114</th>\n",
       "      <td>ups Leo b</td>\n",
       "      <td>385.2</td>\n",
       "      <td>0.32</td>\n",
       "    </tr>\n",
       "    <tr>\n",
       "      <th>32115</th>\n",
       "      <td>xi Aql b</td>\n",
       "      <td>NaN</td>\n",
       "      <td>NaN</td>\n",
       "    </tr>\n",
       "    <tr>\n",
       "      <th>32116</th>\n",
       "      <td>xi Aql b</td>\n",
       "      <td>136.75</td>\n",
       "      <td>0</td>\n",
       "    </tr>\n",
       "  </tbody>\n",
       "</table>\n",
       "<p>32116 rows × 3 columns</p>\n",
       "</div>"
      ],
      "text/plain": [
       "      planetname orbitperiod eccentricity\n",
       "1       11 Com b      326.03        0.231\n",
       "2       11 Com b         NaN          NaN\n",
       "3       11 UMi b         NaN          NaN\n",
       "4       11 UMi b   516.21997         0.08\n",
       "5       11 UMi b      516.22         0.08\n",
       "...          ...         ...          ...\n",
       "32112  ups And d     1282.41        0.294\n",
       "32113  ups And d    1281.507        0.316\n",
       "32114  ups Leo b       385.2         0.32\n",
       "32115   xi Aql b         NaN          NaN\n",
       "32116   xi Aql b      136.75            0\n",
       "\n",
       "[32116 rows x 3 columns]"
      ]
     },
     "execution_count": 9,
     "metadata": {},
     "output_type": "execute_result"
    }
   ],
   "source": [
    "df1"
   ]
  },
  {
   "cell_type": "markdown",
   "id": "fe6eb20c",
   "metadata": {},
   "source": [
    "Data frame 2 will remove all the NA values from original data frame."
   ]
  },
  {
   "cell_type": "code",
   "execution_count": 10,
   "id": "a5846ada",
   "metadata": {},
   "outputs": [],
   "source": [
    "df2 = df1.dropna()"
   ]
  },
  {
   "cell_type": "code",
   "execution_count": 11,
   "id": "4c47f7f9",
   "metadata": {},
   "outputs": [
    {
     "data": {
      "text/html": [
       "<div>\n",
       "<style scoped>\n",
       "    .dataframe tbody tr th:only-of-type {\n",
       "        vertical-align: middle;\n",
       "    }\n",
       "\n",
       "    .dataframe tbody tr th {\n",
       "        vertical-align: top;\n",
       "    }\n",
       "\n",
       "    .dataframe thead th {\n",
       "        text-align: right;\n",
       "    }\n",
       "</style>\n",
       "<table border=\"1\" class=\"dataframe\">\n",
       "  <thead>\n",
       "    <tr style=\"text-align: right;\">\n",
       "      <th></th>\n",
       "      <th>planetname</th>\n",
       "      <th>orbitperiod</th>\n",
       "      <th>eccentricity</th>\n",
       "    </tr>\n",
       "  </thead>\n",
       "  <tbody>\n",
       "    <tr>\n",
       "      <th>1</th>\n",
       "      <td>11 Com b</td>\n",
       "      <td>326.03</td>\n",
       "      <td>0.231</td>\n",
       "    </tr>\n",
       "    <tr>\n",
       "      <th>4</th>\n",
       "      <td>11 UMi b</td>\n",
       "      <td>516.21997</td>\n",
       "      <td>0.08</td>\n",
       "    </tr>\n",
       "    <tr>\n",
       "      <th>5</th>\n",
       "      <td>11 UMi b</td>\n",
       "      <td>516.22</td>\n",
       "      <td>0.08</td>\n",
       "    </tr>\n",
       "    <tr>\n",
       "      <th>7</th>\n",
       "      <td>14 And b</td>\n",
       "      <td>185.84</td>\n",
       "      <td>0</td>\n",
       "    </tr>\n",
       "    <tr>\n",
       "      <th>8</th>\n",
       "      <td>14 Her b</td>\n",
       "      <td>1766.41</td>\n",
       "      <td>0.3674</td>\n",
       "    </tr>\n",
       "    <tr>\n",
       "      <th>...</th>\n",
       "      <td>...</td>\n",
       "      <td>...</td>\n",
       "      <td>...</td>\n",
       "    </tr>\n",
       "    <tr>\n",
       "      <th>32111</th>\n",
       "      <td>ups And d</td>\n",
       "      <td>1274.6</td>\n",
       "      <td>0.242</td>\n",
       "    </tr>\n",
       "    <tr>\n",
       "      <th>32112</th>\n",
       "      <td>ups And d</td>\n",
       "      <td>1282.41</td>\n",
       "      <td>0.294</td>\n",
       "    </tr>\n",
       "    <tr>\n",
       "      <th>32113</th>\n",
       "      <td>ups And d</td>\n",
       "      <td>1281.507</td>\n",
       "      <td>0.316</td>\n",
       "    </tr>\n",
       "    <tr>\n",
       "      <th>32114</th>\n",
       "      <td>ups Leo b</td>\n",
       "      <td>385.2</td>\n",
       "      <td>0.32</td>\n",
       "    </tr>\n",
       "    <tr>\n",
       "      <th>32116</th>\n",
       "      <td>xi Aql b</td>\n",
       "      <td>136.75</td>\n",
       "      <td>0</td>\n",
       "    </tr>\n",
       "  </tbody>\n",
       "</table>\n",
       "<p>16511 rows × 3 columns</p>\n",
       "</div>"
      ],
      "text/plain": [
       "      planetname orbitperiod eccentricity\n",
       "1       11 Com b      326.03        0.231\n",
       "4       11 UMi b   516.21997         0.08\n",
       "5       11 UMi b      516.22         0.08\n",
       "7       14 And b      185.84            0\n",
       "8       14 Her b     1766.41       0.3674\n",
       "...          ...         ...          ...\n",
       "32111  ups And d      1274.6        0.242\n",
       "32112  ups And d     1282.41        0.294\n",
       "32113  ups And d    1281.507        0.316\n",
       "32114  ups Leo b       385.2         0.32\n",
       "32116   xi Aql b      136.75            0\n",
       "\n",
       "[16511 rows x 3 columns]"
      ]
     },
     "execution_count": 11,
     "metadata": {},
     "output_type": "execute_result"
    }
   ],
   "source": [
    "df2"
   ]
  },
  {
   "cell_type": "markdown",
   "id": "681c51d2",
   "metadata": {},
   "source": [
    "The following logic is to determine the data types of the column entries in the latest data."
   ]
  },
  {
   "cell_type": "code",
   "execution_count": 12,
   "id": "834e1943",
   "metadata": {},
   "outputs": [
    {
     "name": "stdout",
     "output_type": "stream",
     "text": [
      "<class 'str'>\n",
      "<class 'str'>\n"
     ]
    }
   ],
   "source": [
    "print(type(df2.iloc[0][1])) # <- Notice the columns are strings and not numeric.\n",
    "print(type(df2.iloc[0][2]))"
   ]
  },
  {
   "cell_type": "markdown",
   "id": "621b99ea",
   "metadata": {},
   "source": [
    "Now to convert just columns \"a\" and \"b\". That is, convert the 'orbitperiod' and 'eccentricity' columns into numerics from string data types."
   ]
  },
  {
   "cell_type": "code",
   "execution_count": 13,
   "id": "91ccc767",
   "metadata": {},
   "outputs": [],
   "source": [
    "#df2.loc[:, 'orbitperiod'] = df2.loc[:, 'orbitperiod'].apply(pd.to_numeric)\n",
    "#df2.loc[:, 'eccentricity'] = df2.loc[:, 'eccentricity'].apply(pd.to_numeric)"
   ]
  },
  {
   "cell_type": "code",
   "execution_count": 14,
   "id": "537bf4ba",
   "metadata": {},
   "outputs": [],
   "source": [
    "x1 = df2.iloc[:, 1].apply(pd.to_numeric)\n",
    "x2 = df2.iloc[:, 2].apply(pd.to_numeric)\n",
    "x3 = df2.iloc[:,0] #<- this is the column with the column names"
   ]
  },
  {
   "cell_type": "code",
   "execution_count": 15,
   "id": "53018c3c",
   "metadata": {},
   "outputs": [
    {
     "data": {
      "text/plain": [
       "1         11 Com b\n",
       "4         11 UMi b\n",
       "5         11 UMi b\n",
       "7         14 And b\n",
       "8         14 Her b\n",
       "           ...    \n",
       "32111    ups And d\n",
       "32112    ups And d\n",
       "32113    ups And d\n",
       "32114    ups Leo b\n",
       "32116     xi Aql b\n",
       "Name: planetname, Length: 16511, dtype: object"
      ]
     },
     "execution_count": 15,
     "metadata": {},
     "output_type": "execute_result"
    }
   ],
   "source": [
    "x3"
   ]
  },
  {
   "cell_type": "code",
   "execution_count": 16,
   "id": "3b3b19e2",
   "metadata": {},
   "outputs": [],
   "source": [
    "df2_1 = pd.concat([x3,x1,x2], axis = 1)"
   ]
  },
  {
   "cell_type": "code",
   "execution_count": 17,
   "id": "c8bf82d7",
   "metadata": {},
   "outputs": [
    {
     "data": {
      "text/html": [
       "<div>\n",
       "<style scoped>\n",
       "    .dataframe tbody tr th:only-of-type {\n",
       "        vertical-align: middle;\n",
       "    }\n",
       "\n",
       "    .dataframe tbody tr th {\n",
       "        vertical-align: top;\n",
       "    }\n",
       "\n",
       "    .dataframe thead th {\n",
       "        text-align: right;\n",
       "    }\n",
       "</style>\n",
       "<table border=\"1\" class=\"dataframe\">\n",
       "  <thead>\n",
       "    <tr style=\"text-align: right;\">\n",
       "      <th></th>\n",
       "      <th>planetname</th>\n",
       "      <th>orbitperiod</th>\n",
       "      <th>eccentricity</th>\n",
       "    </tr>\n",
       "  </thead>\n",
       "  <tbody>\n",
       "    <tr>\n",
       "      <th>1</th>\n",
       "      <td>11 Com b</td>\n",
       "      <td>326.03000</td>\n",
       "      <td>0.2310</td>\n",
       "    </tr>\n",
       "    <tr>\n",
       "      <th>4</th>\n",
       "      <td>11 UMi b</td>\n",
       "      <td>516.21997</td>\n",
       "      <td>0.0800</td>\n",
       "    </tr>\n",
       "    <tr>\n",
       "      <th>5</th>\n",
       "      <td>11 UMi b</td>\n",
       "      <td>516.22000</td>\n",
       "      <td>0.0800</td>\n",
       "    </tr>\n",
       "    <tr>\n",
       "      <th>7</th>\n",
       "      <td>14 And b</td>\n",
       "      <td>185.84000</td>\n",
       "      <td>0.0000</td>\n",
       "    </tr>\n",
       "    <tr>\n",
       "      <th>8</th>\n",
       "      <td>14 Her b</td>\n",
       "      <td>1766.41000</td>\n",
       "      <td>0.3674</td>\n",
       "    </tr>\n",
       "    <tr>\n",
       "      <th>...</th>\n",
       "      <td>...</td>\n",
       "      <td>...</td>\n",
       "      <td>...</td>\n",
       "    </tr>\n",
       "    <tr>\n",
       "      <th>32111</th>\n",
       "      <td>ups And d</td>\n",
       "      <td>1274.60000</td>\n",
       "      <td>0.2420</td>\n",
       "    </tr>\n",
       "    <tr>\n",
       "      <th>32112</th>\n",
       "      <td>ups And d</td>\n",
       "      <td>1282.41000</td>\n",
       "      <td>0.2940</td>\n",
       "    </tr>\n",
       "    <tr>\n",
       "      <th>32113</th>\n",
       "      <td>ups And d</td>\n",
       "      <td>1281.50700</td>\n",
       "      <td>0.3160</td>\n",
       "    </tr>\n",
       "    <tr>\n",
       "      <th>32114</th>\n",
       "      <td>ups Leo b</td>\n",
       "      <td>385.20000</td>\n",
       "      <td>0.3200</td>\n",
       "    </tr>\n",
       "    <tr>\n",
       "      <th>32116</th>\n",
       "      <td>xi Aql b</td>\n",
       "      <td>136.75000</td>\n",
       "      <td>0.0000</td>\n",
       "    </tr>\n",
       "  </tbody>\n",
       "</table>\n",
       "<p>16511 rows × 3 columns</p>\n",
       "</div>"
      ],
      "text/plain": [
       "      planetname  orbitperiod  eccentricity\n",
       "1       11 Com b    326.03000        0.2310\n",
       "4       11 UMi b    516.21997        0.0800\n",
       "5       11 UMi b    516.22000        0.0800\n",
       "7       14 And b    185.84000        0.0000\n",
       "8       14 Her b   1766.41000        0.3674\n",
       "...          ...          ...           ...\n",
       "32111  ups And d   1274.60000        0.2420\n",
       "32112  ups And d   1282.41000        0.2940\n",
       "32113  ups And d   1281.50700        0.3160\n",
       "32114  ups Leo b    385.20000        0.3200\n",
       "32116   xi Aql b    136.75000        0.0000\n",
       "\n",
       "[16511 rows x 3 columns]"
      ]
     },
     "execution_count": 17,
     "metadata": {},
     "output_type": "execute_result"
    }
   ],
   "source": [
    "df2_1"
   ]
  },
  {
   "cell_type": "code",
   "execution_count": 18,
   "id": "9036611c",
   "metadata": {},
   "outputs": [
    {
     "data": {
      "text/plain": [
       "Index(['planetname', 'orbitperiod', 'eccentricity'], dtype='object')"
      ]
     },
     "execution_count": 18,
     "metadata": {},
     "output_type": "execute_result"
    }
   ],
   "source": [
    "df2_1.columns"
   ]
  },
  {
   "cell_type": "code",
   "execution_count": 19,
   "id": "bfeb5225",
   "metadata": {},
   "outputs": [
    {
     "data": {
      "text/html": [
       "<div>\n",
       "<style scoped>\n",
       "    .dataframe tbody tr th:only-of-type {\n",
       "        vertical-align: middle;\n",
       "    }\n",
       "\n",
       "    .dataframe tbody tr th {\n",
       "        vertical-align: top;\n",
       "    }\n",
       "\n",
       "    .dataframe thead th {\n",
       "        text-align: right;\n",
       "    }\n",
       "</style>\n",
       "<table border=\"1\" class=\"dataframe\">\n",
       "  <thead>\n",
       "    <tr style=\"text-align: right;\">\n",
       "      <th></th>\n",
       "      <th>planetname</th>\n",
       "      <th>orbitperiod</th>\n",
       "      <th>eccentricity</th>\n",
       "    </tr>\n",
       "  </thead>\n",
       "  <tbody>\n",
       "    <tr>\n",
       "      <th>1</th>\n",
       "      <td>11 Com b</td>\n",
       "      <td>326.03</td>\n",
       "      <td>0.231</td>\n",
       "    </tr>\n",
       "    <tr>\n",
       "      <th>4</th>\n",
       "      <td>11 UMi b</td>\n",
       "      <td>516.21997</td>\n",
       "      <td>0.08</td>\n",
       "    </tr>\n",
       "    <tr>\n",
       "      <th>5</th>\n",
       "      <td>11 UMi b</td>\n",
       "      <td>516.22</td>\n",
       "      <td>0.08</td>\n",
       "    </tr>\n",
       "    <tr>\n",
       "      <th>7</th>\n",
       "      <td>14 And b</td>\n",
       "      <td>185.84</td>\n",
       "      <td>0</td>\n",
       "    </tr>\n",
       "    <tr>\n",
       "      <th>8</th>\n",
       "      <td>14 Her b</td>\n",
       "      <td>1766.41</td>\n",
       "      <td>0.3674</td>\n",
       "    </tr>\n",
       "    <tr>\n",
       "      <th>...</th>\n",
       "      <td>...</td>\n",
       "      <td>...</td>\n",
       "      <td>...</td>\n",
       "    </tr>\n",
       "    <tr>\n",
       "      <th>32111</th>\n",
       "      <td>ups And d</td>\n",
       "      <td>1274.6</td>\n",
       "      <td>0.242</td>\n",
       "    </tr>\n",
       "    <tr>\n",
       "      <th>32112</th>\n",
       "      <td>ups And d</td>\n",
       "      <td>1282.41</td>\n",
       "      <td>0.294</td>\n",
       "    </tr>\n",
       "    <tr>\n",
       "      <th>32113</th>\n",
       "      <td>ups And d</td>\n",
       "      <td>1281.507</td>\n",
       "      <td>0.316</td>\n",
       "    </tr>\n",
       "    <tr>\n",
       "      <th>32114</th>\n",
       "      <td>ups Leo b</td>\n",
       "      <td>385.2</td>\n",
       "      <td>0.32</td>\n",
       "    </tr>\n",
       "    <tr>\n",
       "      <th>32116</th>\n",
       "      <td>xi Aql b</td>\n",
       "      <td>136.75</td>\n",
       "      <td>0</td>\n",
       "    </tr>\n",
       "  </tbody>\n",
       "</table>\n",
       "<p>16511 rows × 3 columns</p>\n",
       "</div>"
      ],
      "text/plain": [
       "      planetname orbitperiod eccentricity\n",
       "1       11 Com b      326.03        0.231\n",
       "4       11 UMi b   516.21997         0.08\n",
       "5       11 UMi b      516.22         0.08\n",
       "7       14 And b      185.84            0\n",
       "8       14 Her b     1766.41       0.3674\n",
       "...          ...         ...          ...\n",
       "32111  ups And d      1274.6        0.242\n",
       "32112  ups And d     1282.41        0.294\n",
       "32113  ups And d    1281.507        0.316\n",
       "32114  ups Leo b       385.2         0.32\n",
       "32116   xi Aql b      136.75            0\n",
       "\n",
       "[16511 rows x 3 columns]"
      ]
     },
     "execution_count": 19,
     "metadata": {},
     "output_type": "execute_result"
    }
   ],
   "source": [
    "df2"
   ]
  },
  {
   "cell_type": "code",
   "execution_count": 20,
   "id": "8dba1524",
   "metadata": {},
   "outputs": [
    {
     "name": "stdout",
     "output_type": "stream",
     "text": [
      "object\n"
     ]
    }
   ],
   "source": [
    "print(df2.dtypes['eccentricity'])"
   ]
  },
  {
   "cell_type": "code",
   "execution_count": 21,
   "id": "aac4d5e1",
   "metadata": {},
   "outputs": [
    {
     "name": "stdout",
     "output_type": "stream",
     "text": [
      "<class 'pandas.core.frame.DataFrame'>\n"
     ]
    }
   ],
   "source": [
    "print(type(df2))"
   ]
  },
  {
   "cell_type": "markdown",
   "id": "4a4c8546",
   "metadata": {},
   "source": [
    "Dataframe 3 will take the averages of multiple planet entries. Following lines will take arithmetic mean of the two columns of interest and concate the two columns into the third dataframe."
   ]
  },
  {
   "cell_type": "code",
   "execution_count": null,
   "id": "5ad56ce9",
   "metadata": {},
   "outputs": [],
   "source": []
  },
  {
   "cell_type": "markdown",
   "id": "b40cf1a3",
   "metadata": {},
   "source": [
    "First will create intermediate variables to store the resulting averages."
   ]
  },
  {
   "cell_type": "code",
   "execution_count": 22,
   "id": "f6bca37b",
   "metadata": {},
   "outputs": [],
   "source": [
    "x4 = df2_1.groupby('planetname')['eccentricity'].mean()\n",
    "x5 = df2_1.groupby('planetname')['orbitperiod'].mean()"
   ]
  },
  {
   "cell_type": "code",
   "execution_count": 23,
   "id": "8e623702",
   "metadata": {},
   "outputs": [
    {
     "data": {
      "text/plain": [
       "planetname\n",
       "11 Com b       326.030000\n",
       "11 UMi b       516.219985\n",
       "14 And b       185.840000\n",
       "14 Her b      1766.601670\n",
       "16 Cyg B b     799.375000\n",
       "                 ...     \n",
       "ups And b        4.616229\n",
       "ups And c      240.728533\n",
       "ups And d     1285.346167\n",
       "ups Leo b      385.200000\n",
       "xi Aql b       136.750000\n",
       "Name: orbitperiod, Length: 4350, dtype: float64"
      ]
     },
     "execution_count": 23,
     "metadata": {},
     "output_type": "execute_result"
    }
   ],
   "source": [
    "x4\n",
    "x5"
   ]
  },
  {
   "cell_type": "code",
   "execution_count": 24,
   "id": "28d61638",
   "metadata": {},
   "outputs": [
    {
     "data": {
      "text/plain": [
       "pandas.core.series.Series"
      ]
     },
     "execution_count": 24,
     "metadata": {},
     "output_type": "execute_result"
    }
   ],
   "source": [
    "type(x4)"
   ]
  },
  {
   "cell_type": "code",
   "execution_count": 25,
   "id": "f8446d43",
   "metadata": {},
   "outputs": [
    {
     "data": {
      "text/plain": [
       "pandas.core.series.Series"
      ]
     },
     "execution_count": 25,
     "metadata": {},
     "output_type": "execute_result"
    }
   ],
   "source": [
    "type(x5)"
   ]
  },
  {
   "cell_type": "code",
   "execution_count": 26,
   "id": "52863898",
   "metadata": {},
   "outputs": [
    {
     "data": {
      "text/html": [
       "<div>\n",
       "<style scoped>\n",
       "    .dataframe tbody tr th:only-of-type {\n",
       "        vertical-align: middle;\n",
       "    }\n",
       "\n",
       "    .dataframe tbody tr th {\n",
       "        vertical-align: top;\n",
       "    }\n",
       "\n",
       "    .dataframe thead th {\n",
       "        text-align: right;\n",
       "    }\n",
       "</style>\n",
       "<table border=\"1\" class=\"dataframe\">\n",
       "  <thead>\n",
       "    <tr style=\"text-align: right;\">\n",
       "      <th></th>\n",
       "      <th>eccentricity</th>\n",
       "      <th>orbitperiod</th>\n",
       "    </tr>\n",
       "    <tr>\n",
       "      <th>planetname</th>\n",
       "      <th></th>\n",
       "      <th></th>\n",
       "    </tr>\n",
       "  </thead>\n",
       "  <tbody>\n",
       "    <tr>\n",
       "      <th>11 Com b</th>\n",
       "      <td>0.231000</td>\n",
       "      <td>326.030000</td>\n",
       "    </tr>\n",
       "    <tr>\n",
       "      <th>11 UMi b</th>\n",
       "      <td>0.080000</td>\n",
       "      <td>516.219985</td>\n",
       "    </tr>\n",
       "    <tr>\n",
       "      <th>14 And b</th>\n",
       "      <td>0.000000</td>\n",
       "      <td>185.840000</td>\n",
       "    </tr>\n",
       "    <tr>\n",
       "      <th>14 Her b</th>\n",
       "      <td>0.362233</td>\n",
       "      <td>1766.601670</td>\n",
       "    </tr>\n",
       "    <tr>\n",
       "      <th>16 Cyg B b</th>\n",
       "      <td>0.676033</td>\n",
       "      <td>799.375000</td>\n",
       "    </tr>\n",
       "    <tr>\n",
       "      <th>...</th>\n",
       "      <td>...</td>\n",
       "      <td>...</td>\n",
       "    </tr>\n",
       "    <tr>\n",
       "      <th>ups And b</th>\n",
       "      <td>0.030200</td>\n",
       "      <td>4.616229</td>\n",
       "    </tr>\n",
       "    <tr>\n",
       "      <th>ups And c</th>\n",
       "      <td>0.238933</td>\n",
       "      <td>240.728533</td>\n",
       "    </tr>\n",
       "    <tr>\n",
       "      <th>ups And d</th>\n",
       "      <td>0.281117</td>\n",
       "      <td>1285.346167</td>\n",
       "    </tr>\n",
       "    <tr>\n",
       "      <th>ups Leo b</th>\n",
       "      <td>0.320000</td>\n",
       "      <td>385.200000</td>\n",
       "    </tr>\n",
       "    <tr>\n",
       "      <th>xi Aql b</th>\n",
       "      <td>0.000000</td>\n",
       "      <td>136.750000</td>\n",
       "    </tr>\n",
       "  </tbody>\n",
       "</table>\n",
       "<p>4350 rows × 2 columns</p>\n",
       "</div>"
      ],
      "text/plain": [
       "            eccentricity  orbitperiod\n",
       "planetname                           \n",
       "11 Com b        0.231000   326.030000\n",
       "11 UMi b        0.080000   516.219985\n",
       "14 And b        0.000000   185.840000\n",
       "14 Her b        0.362233  1766.601670\n",
       "16 Cyg B b      0.676033   799.375000\n",
       "...                  ...          ...\n",
       "ups And b       0.030200     4.616229\n",
       "ups And c       0.238933   240.728533\n",
       "ups And d       0.281117  1285.346167\n",
       "ups Leo b       0.320000   385.200000\n",
       "xi Aql b        0.000000   136.750000\n",
       "\n",
       "[4350 rows x 2 columns]"
      ]
     },
     "execution_count": 26,
     "metadata": {},
     "output_type": "execute_result"
    }
   ],
   "source": [
    "df3 = pd.concat([x4, x5], axis = 1)\n",
    "df3"
   ]
  },
  {
   "cell_type": "code",
   "execution_count": 29,
   "id": "b3331e75",
   "metadata": {},
   "outputs": [
    {
     "data": {
      "text/html": [
       "<div>\n",
       "<style scoped>\n",
       "    .dataframe tbody tr th:only-of-type {\n",
       "        vertical-align: middle;\n",
       "    }\n",
       "\n",
       "    .dataframe tbody tr th {\n",
       "        vertical-align: top;\n",
       "    }\n",
       "\n",
       "    .dataframe thead th {\n",
       "        text-align: right;\n",
       "    }\n",
       "</style>\n",
       "<table border=\"1\" class=\"dataframe\">\n",
       "  <thead>\n",
       "    <tr style=\"text-align: right;\">\n",
       "      <th></th>\n",
       "      <th>eccentricity</th>\n",
       "      <th>orbitperiod</th>\n",
       "      <th>planetname</th>\n",
       "    </tr>\n",
       "    <tr>\n",
       "      <th>planetname</th>\n",
       "      <th></th>\n",
       "      <th></th>\n",
       "      <th></th>\n",
       "    </tr>\n",
       "  </thead>\n",
       "  <tbody>\n",
       "    <tr>\n",
       "      <th>11 Com b</th>\n",
       "      <td>0.231000</td>\n",
       "      <td>326.030000</td>\n",
       "      <td>11 Com b</td>\n",
       "    </tr>\n",
       "    <tr>\n",
       "      <th>11 UMi b</th>\n",
       "      <td>0.080000</td>\n",
       "      <td>516.219985</td>\n",
       "      <td>11 UMi b</td>\n",
       "    </tr>\n",
       "    <tr>\n",
       "      <th>14 And b</th>\n",
       "      <td>0.000000</td>\n",
       "      <td>185.840000</td>\n",
       "      <td>14 And b</td>\n",
       "    </tr>\n",
       "    <tr>\n",
       "      <th>14 Her b</th>\n",
       "      <td>0.362233</td>\n",
       "      <td>1766.601670</td>\n",
       "      <td>14 Her b</td>\n",
       "    </tr>\n",
       "    <tr>\n",
       "      <th>16 Cyg B b</th>\n",
       "      <td>0.676033</td>\n",
       "      <td>799.375000</td>\n",
       "      <td>16 Cyg B b</td>\n",
       "    </tr>\n",
       "    <tr>\n",
       "      <th>...</th>\n",
       "      <td>...</td>\n",
       "      <td>...</td>\n",
       "      <td>...</td>\n",
       "    </tr>\n",
       "    <tr>\n",
       "      <th>ups And b</th>\n",
       "      <td>0.030200</td>\n",
       "      <td>4.616229</td>\n",
       "      <td>ups And b</td>\n",
       "    </tr>\n",
       "    <tr>\n",
       "      <th>ups And c</th>\n",
       "      <td>0.238933</td>\n",
       "      <td>240.728533</td>\n",
       "      <td>ups And c</td>\n",
       "    </tr>\n",
       "    <tr>\n",
       "      <th>ups And d</th>\n",
       "      <td>0.281117</td>\n",
       "      <td>1285.346167</td>\n",
       "      <td>ups And d</td>\n",
       "    </tr>\n",
       "    <tr>\n",
       "      <th>ups Leo b</th>\n",
       "      <td>0.320000</td>\n",
       "      <td>385.200000</td>\n",
       "      <td>ups Leo b</td>\n",
       "    </tr>\n",
       "    <tr>\n",
       "      <th>xi Aql b</th>\n",
       "      <td>0.000000</td>\n",
       "      <td>136.750000</td>\n",
       "      <td>xi Aql b</td>\n",
       "    </tr>\n",
       "  </tbody>\n",
       "</table>\n",
       "<p>4350 rows × 3 columns</p>\n",
       "</div>"
      ],
      "text/plain": [
       "            eccentricity  orbitperiod  planetname\n",
       "planetname                                       \n",
       "11 Com b        0.231000   326.030000    11 Com b\n",
       "11 UMi b        0.080000   516.219985    11 UMi b\n",
       "14 And b        0.000000   185.840000    14 And b\n",
       "14 Her b        0.362233  1766.601670    14 Her b\n",
       "16 Cyg B b      0.676033   799.375000  16 Cyg B b\n",
       "...                  ...          ...         ...\n",
       "ups And b       0.030200     4.616229   ups And b\n",
       "ups And c       0.238933   240.728533   ups And c\n",
       "ups And d       0.281117  1285.346167   ups And d\n",
       "ups Leo b       0.320000   385.200000   ups Leo b\n",
       "xi Aql b        0.000000   136.750000    xi Aql b\n",
       "\n",
       "[4350 rows x 3 columns]"
      ]
     },
     "execution_count": 29,
     "metadata": {},
     "output_type": "execute_result"
    }
   ],
   "source": [
    "df3['planetname'] = df3.index\n",
    "df3"
   ]
  },
  {
   "cell_type": "markdown",
   "id": "35771ba6",
   "metadata": {},
   "source": [
    "df3 has the final version of the 'raw' data frame."
   ]
  },
  {
   "cell_type": "code",
   "execution_count": 30,
   "id": "f0787d0d",
   "metadata": {},
   "outputs": [
    {
     "data": {
      "text/plain": [
       "Index(['eccentricity', 'orbitperiod', 'planetname'], dtype='object')"
      ]
     },
     "execution_count": 30,
     "metadata": {},
     "output_type": "execute_result"
    }
   ],
   "source": [
    "df3.columns"
   ]
  },
  {
   "cell_type": "markdown",
   "id": "0c5b353d",
   "metadata": {},
   "source": [
    "    In this part want to explicitly declare the median and IQR of the two columns which are the variables."
   ]
  },
  {
   "cell_type": "code",
   "execution_count": 36,
   "id": "39768f22",
   "metadata": {},
   "outputs": [
    {
     "name": "stdout",
     "output_type": "stream",
     "text": [
      "\n",
      "The median of the orbital period: 12.24\n",
      "\n",
      "The median of the eccentricity: 0.00\n",
      "\n",
      "The interquartile range of the eccentricity: 0.07\n",
      "\n",
      "The interquartile range of the orbital period: 39.74\n"
     ]
    }
   ],
   "source": [
    "ecce = df3['eccentricity']\n",
    "orbper = df3['orbitperiod']\n",
    "eccen_med = statistics.median(list(ecce))\n",
    "orbper_med = statistics.median(list(orbper))\n",
    "print('\\nThe median of the orbital period: %.2f' % orbper_med)\n",
    "print('\\nThe median of the eccentricity: %.2f' % eccen_med)\n",
    "iqr_ecce = stats.iqr(ecce, interpolation = 'midpoint')\n",
    "iqr_op = stats.iqr(orbper, interpolation = 'midpoint')\n",
    "print('\\nThe interquartile range of the eccentricity: %.2f' % iqr_ecce)\n",
    "print('\\nThe interquartile range of the orbital period: %.2f' % iqr_op)"
   ]
  },
  {
   "cell_type": "code",
   "execution_count": null,
   "id": "f80ea52b",
   "metadata": {},
   "outputs": [],
   "source": []
  }
 ],
 "metadata": {
  "kernelspec": {
   "display_name": "Python 3 (ipykernel)",
   "language": "python",
   "name": "python3"
  },
  "language_info": {
   "codemirror_mode": {
    "name": "ipython",
    "version": 3
   },
   "file_extension": ".py",
   "mimetype": "text/x-python",
   "name": "python",
   "nbconvert_exporter": "python",
   "pygments_lexer": "ipython3",
   "version": "3.9.5"
  }
 },
 "nbformat": 4,
 "nbformat_minor": 5
}
