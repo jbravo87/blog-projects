{
 "cells": [
  {
   "cell_type": "markdown",
   "id": "582b4b30",
   "metadata": {},
   "source": [
    "# Planetary Data Analysis Notebook"
   ]
  },
  {
   "cell_type": "markdown",
   "id": "05a80daf",
   "metadata": {},
   "source": [
    "For the first part of this script, I will solely focus on the kNN supervised learning technique applied to the data pertaining to exoplanets from NASA."
   ]
  },
  {
   "cell_type": "code",
   "execution_count": 1,
   "id": "da4d598d",
   "metadata": {},
   "outputs": [],
   "source": [
    "import time\n",
    "start_time_0 = time.time()"
   ]
  },
  {
   "cell_type": "code",
   "execution_count": 2,
   "id": "2a5bf418",
   "metadata": {},
   "outputs": [],
   "source": [
    "# Import necessary libraries\n",
    "from random import seed\n",
    "from random import randrange\n",
    "from numpy.random import rand\n",
    "from numpy.random import randint\n",
    "import pandas as pd\n",
    "import matplotlib.pyplot as plt\n",
    "import numpy as np\n",
    "import statistics\n",
    "import seaborn as sns\n",
    "from sklearn.neighbors import KNeighborsRegressor\n",
    "from sklearn.svm import SVR, LinearSVR\n",
    "from sklearn.ensemble import RandomForestRegressor\n",
    "from sklearn.metrics import mean_squared_error, r2_score\n",
    "from sklearn.metrics import mean_absolute_error, mean_squared_error\n",
    "from sklearn.model_selection import train_test_split\n",
    "from sklearn.utils import resample\n",
    "from scipy import stats\n",
    "from math import sqrt\n",
    "from scipy.stats import wilcoxon\n",
    "from scipy.stats import spearmanr\n",
    "import seaborn as sns\n",
    "sns.set(style=\"darkgrid\")"
   ]
  },
  {
   "cell_type": "code",
   "execution_count": 3,
   "id": "3350c27b",
   "metadata": {
    "scrolled": true
   },
   "outputs": [],
   "source": [
    "# Assign path of data to a variable.\n",
    "# Initiate first data frame with raw data.\n",
    "seed(11)\n",
    "path = 'https://raw.githubusercontent.com/jbravo87/blog-projects/main/data/PS_2022.05.10_21.48.38.csv'\n",
    "raw_data = pd.read_csv(path, skiprows = 12)"
   ]
  },
  {
   "cell_type": "markdown",
   "id": "94fa4fdc",
   "metadata": {},
   "source": [
    "Need to remove the first twelve rows. These rows contain copious notes/remarks. Want to see the head and tail of the data as well as the column names."
   ]
  },
  {
   "cell_type": "code",
   "execution_count": 4,
   "id": "f3940b6a",
   "metadata": {},
   "outputs": [
    {
     "data": {
      "text/html": [
       "<div>\n",
       "<style scoped>\n",
       "    .dataframe tbody tr th:only-of-type {\n",
       "        vertical-align: middle;\n",
       "    }\n",
       "\n",
       "    .dataframe tbody tr th {\n",
       "        vertical-align: top;\n",
       "    }\n",
       "\n",
       "    .dataframe thead th {\n",
       "        text-align: right;\n",
       "    }\n",
       "</style>\n",
       "<table border=\"1\" class=\"dataframe\">\n",
       "  <thead>\n",
       "    <tr style=\"text-align: right;\">\n",
       "      <th></th>\n",
       "      <th>pl_name</th>\n",
       "      <th>hostname</th>\n",
       "      <th>pl_orbper</th>\n",
       "      <th>pl_bmassj</th>\n",
       "      <th>pl_orbeccen</th>\n",
       "      <th>pl_eqt</th>\n",
       "    </tr>\n",
       "  </thead>\n",
       "  <tbody>\n",
       "    <tr>\n",
       "      <th>0</th>\n",
       "      <td>11 Com b</td>\n",
       "      <td>11 Com</td>\n",
       "      <td>326.03000</td>\n",
       "      <td>19.40</td>\n",
       "      <td>0.231</td>\n",
       "      <td>NaN</td>\n",
       "    </tr>\n",
       "    <tr>\n",
       "      <th>1</th>\n",
       "      <td>11 Com b</td>\n",
       "      <td>11 Com</td>\n",
       "      <td>NaN</td>\n",
       "      <td>17.10</td>\n",
       "      <td>NaN</td>\n",
       "      <td>NaN</td>\n",
       "    </tr>\n",
       "    <tr>\n",
       "      <th>2</th>\n",
       "      <td>11 UMi b</td>\n",
       "      <td>11 UMi</td>\n",
       "      <td>NaN</td>\n",
       "      <td>10.80</td>\n",
       "      <td>NaN</td>\n",
       "      <td>NaN</td>\n",
       "    </tr>\n",
       "    <tr>\n",
       "      <th>3</th>\n",
       "      <td>11 UMi b</td>\n",
       "      <td>11 UMi</td>\n",
       "      <td>516.21997</td>\n",
       "      <td>14.74</td>\n",
       "      <td>0.080</td>\n",
       "      <td>NaN</td>\n",
       "    </tr>\n",
       "    <tr>\n",
       "      <th>4</th>\n",
       "      <td>11 UMi b</td>\n",
       "      <td>11 UMi</td>\n",
       "      <td>516.22000</td>\n",
       "      <td>10.50</td>\n",
       "      <td>0.080</td>\n",
       "      <td>NaN</td>\n",
       "    </tr>\n",
       "    <tr>\n",
       "      <th>...</th>\n",
       "      <td>...</td>\n",
       "      <td>...</td>\n",
       "      <td>...</td>\n",
       "      <td>...</td>\n",
       "      <td>...</td>\n",
       "      <td>...</td>\n",
       "    </tr>\n",
       "    <tr>\n",
       "      <th>32511</th>\n",
       "      <td>ups And d</td>\n",
       "      <td>ups And</td>\n",
       "      <td>1282.41000</td>\n",
       "      <td>4.10</td>\n",
       "      <td>0.294</td>\n",
       "      <td>NaN</td>\n",
       "    </tr>\n",
       "    <tr>\n",
       "      <th>32512</th>\n",
       "      <td>ups And d</td>\n",
       "      <td>ups And</td>\n",
       "      <td>1281.50700</td>\n",
       "      <td>10.25</td>\n",
       "      <td>0.316</td>\n",
       "      <td>NaN</td>\n",
       "    </tr>\n",
       "    <tr>\n",
       "      <th>32513</th>\n",
       "      <td>ups Leo b</td>\n",
       "      <td>ups Leo</td>\n",
       "      <td>385.20000</td>\n",
       "      <td>0.51</td>\n",
       "      <td>0.320</td>\n",
       "      <td>NaN</td>\n",
       "    </tr>\n",
       "    <tr>\n",
       "      <th>32514</th>\n",
       "      <td>xi Aql b</td>\n",
       "      <td>xi Aql</td>\n",
       "      <td>NaN</td>\n",
       "      <td>2.02</td>\n",
       "      <td>NaN</td>\n",
       "      <td>NaN</td>\n",
       "    </tr>\n",
       "    <tr>\n",
       "      <th>32515</th>\n",
       "      <td>xi Aql b</td>\n",
       "      <td>xi Aql</td>\n",
       "      <td>136.75000</td>\n",
       "      <td>2.80</td>\n",
       "      <td>0.000</td>\n",
       "      <td>NaN</td>\n",
       "    </tr>\n",
       "  </tbody>\n",
       "</table>\n",
       "<p>32516 rows × 6 columns</p>\n",
       "</div>"
      ],
      "text/plain": [
       "         pl_name hostname   pl_orbper  pl_bmassj  pl_orbeccen  pl_eqt\n",
       "0       11 Com b   11 Com   326.03000      19.40        0.231     NaN\n",
       "1       11 Com b   11 Com         NaN      17.10          NaN     NaN\n",
       "2       11 UMi b   11 UMi         NaN      10.80          NaN     NaN\n",
       "3       11 UMi b   11 UMi   516.21997      14.74        0.080     NaN\n",
       "4       11 UMi b   11 UMi   516.22000      10.50        0.080     NaN\n",
       "...          ...      ...         ...        ...          ...     ...\n",
       "32511  ups And d  ups And  1282.41000       4.10        0.294     NaN\n",
       "32512  ups And d  ups And  1281.50700      10.25        0.316     NaN\n",
       "32513  ups Leo b  ups Leo   385.20000       0.51        0.320     NaN\n",
       "32514   xi Aql b   xi Aql         NaN       2.02          NaN     NaN\n",
       "32515   xi Aql b   xi Aql   136.75000       2.80        0.000     NaN\n",
       "\n",
       "[32516 rows x 6 columns]"
      ]
     },
     "execution_count": 4,
     "metadata": {},
     "output_type": "execute_result"
    }
   ],
   "source": [
    "raw_data"
   ]
  },
  {
   "cell_type": "code",
   "execution_count": 5,
   "id": "19e40d9d",
   "metadata": {},
   "outputs": [
    {
     "data": {
      "text/plain": [
       "Index(['pl_name', 'hostname', 'pl_orbper', 'pl_bmassj', 'pl_orbeccen',\n",
       "       'pl_eqt'],\n",
       "      dtype='object')"
      ]
     },
     "execution_count": 5,
     "metadata": {},
     "output_type": "execute_result"
    }
   ],
   "source": [
    "raw_data.columns"
   ]
  },
  {
   "cell_type": "markdown",
   "id": "856732c0",
   "metadata": {},
   "source": [
    "Now want to create first data frame with columns of interest. In this first case/scenario want to study planet eccentricity (dependent/response variable) as a function of orbital period of planet (independent/predictor variable)."
   ]
  },
  {
   "cell_type": "markdown",
   "id": "794fe185",
   "metadata": {},
   "source": [
    "## Case 1 - Eccentricity as function of Orbital Period"
   ]
  },
  {
   "cell_type": "code",
   "execution_count": 6,
   "id": "a94798ad",
   "metadata": {},
   "outputs": [
    {
     "data": {
      "text/html": [
       "<div>\n",
       "<style scoped>\n",
       "    .dataframe tbody tr th:only-of-type {\n",
       "        vertical-align: middle;\n",
       "    }\n",
       "\n",
       "    .dataframe tbody tr th {\n",
       "        vertical-align: top;\n",
       "    }\n",
       "\n",
       "    .dataframe thead th {\n",
       "        text-align: right;\n",
       "    }\n",
       "</style>\n",
       "<table border=\"1\" class=\"dataframe\">\n",
       "  <thead>\n",
       "    <tr style=\"text-align: right;\">\n",
       "      <th></th>\n",
       "      <th>pl_name</th>\n",
       "      <th>pl_orbper</th>\n",
       "      <th>pl_orbeccen</th>\n",
       "    </tr>\n",
       "  </thead>\n",
       "  <tbody>\n",
       "    <tr>\n",
       "      <th>0</th>\n",
       "      <td>11 Com b</td>\n",
       "      <td>326.03000</td>\n",
       "      <td>0.231</td>\n",
       "    </tr>\n",
       "    <tr>\n",
       "      <th>1</th>\n",
       "      <td>11 Com b</td>\n",
       "      <td>NaN</td>\n",
       "      <td>NaN</td>\n",
       "    </tr>\n",
       "    <tr>\n",
       "      <th>2</th>\n",
       "      <td>11 UMi b</td>\n",
       "      <td>NaN</td>\n",
       "      <td>NaN</td>\n",
       "    </tr>\n",
       "    <tr>\n",
       "      <th>3</th>\n",
       "      <td>11 UMi b</td>\n",
       "      <td>516.21997</td>\n",
       "      <td>0.080</td>\n",
       "    </tr>\n",
       "    <tr>\n",
       "      <th>4</th>\n",
       "      <td>11 UMi b</td>\n",
       "      <td>516.22000</td>\n",
       "      <td>0.080</td>\n",
       "    </tr>\n",
       "    <tr>\n",
       "      <th>...</th>\n",
       "      <td>...</td>\n",
       "      <td>...</td>\n",
       "      <td>...</td>\n",
       "    </tr>\n",
       "    <tr>\n",
       "      <th>32511</th>\n",
       "      <td>ups And d</td>\n",
       "      <td>1282.41000</td>\n",
       "      <td>0.294</td>\n",
       "    </tr>\n",
       "    <tr>\n",
       "      <th>32512</th>\n",
       "      <td>ups And d</td>\n",
       "      <td>1281.50700</td>\n",
       "      <td>0.316</td>\n",
       "    </tr>\n",
       "    <tr>\n",
       "      <th>32513</th>\n",
       "      <td>ups Leo b</td>\n",
       "      <td>385.20000</td>\n",
       "      <td>0.320</td>\n",
       "    </tr>\n",
       "    <tr>\n",
       "      <th>32514</th>\n",
       "      <td>xi Aql b</td>\n",
       "      <td>NaN</td>\n",
       "      <td>NaN</td>\n",
       "    </tr>\n",
       "    <tr>\n",
       "      <th>32515</th>\n",
       "      <td>xi Aql b</td>\n",
       "      <td>136.75000</td>\n",
       "      <td>0.000</td>\n",
       "    </tr>\n",
       "  </tbody>\n",
       "</table>\n",
       "<p>32516 rows × 3 columns</p>\n",
       "</div>"
      ],
      "text/plain": [
       "         pl_name   pl_orbper  pl_orbeccen\n",
       "0       11 Com b   326.03000        0.231\n",
       "1       11 Com b         NaN          NaN\n",
       "2       11 UMi b         NaN          NaN\n",
       "3       11 UMi b   516.21997        0.080\n",
       "4       11 UMi b   516.22000        0.080\n",
       "...          ...         ...          ...\n",
       "32511  ups And d  1282.41000        0.294\n",
       "32512  ups And d  1281.50700        0.316\n",
       "32513  ups Leo b   385.20000        0.320\n",
       "32514   xi Aql b         NaN          NaN\n",
       "32515   xi Aql b   136.75000        0.000\n",
       "\n",
       "[32516 rows x 3 columns]"
      ]
     },
     "execution_count": 6,
     "metadata": {},
     "output_type": "execute_result"
    }
   ],
   "source": [
    "df1 = raw_data.loc[:, ['pl_name','pl_orbper','pl_orbeccen']]\n",
    "#df1.reset_index(drop=True, inplace=True) # <- Perhaps use this logic in a couple of lines.\n",
    "df1"
   ]
  },
  {
   "cell_type": "markdown",
   "id": "e2767e48",
   "metadata": {},
   "source": [
    "Will rename the columns of interest for ease, i.e. make analysis clearer, and remove unnecessary rows by removing all the NA values from the original data frame."
   ]
  },
  {
   "cell_type": "code",
   "execution_count": 7,
   "id": "fb2add65",
   "metadata": {},
   "outputs": [
    {
     "data": {
      "text/html": [
       "<div>\n",
       "<style scoped>\n",
       "    .dataframe tbody tr th:only-of-type {\n",
       "        vertical-align: middle;\n",
       "    }\n",
       "\n",
       "    .dataframe tbody tr th {\n",
       "        vertical-align: top;\n",
       "    }\n",
       "\n",
       "    .dataframe thead th {\n",
       "        text-align: right;\n",
       "    }\n",
       "</style>\n",
       "<table border=\"1\" class=\"dataframe\">\n",
       "  <thead>\n",
       "    <tr style=\"text-align: right;\">\n",
       "      <th></th>\n",
       "      <th>planetname</th>\n",
       "      <th>orbitperiod</th>\n",
       "      <th>eccentricity</th>\n",
       "    </tr>\n",
       "  </thead>\n",
       "  <tbody>\n",
       "    <tr>\n",
       "      <th>0</th>\n",
       "      <td>11 Com b</td>\n",
       "      <td>326.030000</td>\n",
       "      <td>0.231</td>\n",
       "    </tr>\n",
       "    <tr>\n",
       "      <th>1</th>\n",
       "      <td>11 Com b</td>\n",
       "      <td>10.994704</td>\n",
       "      <td>0.000</td>\n",
       "    </tr>\n",
       "    <tr>\n",
       "      <th>2</th>\n",
       "      <td>11 UMi b</td>\n",
       "      <td>10.994704</td>\n",
       "      <td>0.000</td>\n",
       "    </tr>\n",
       "    <tr>\n",
       "      <th>3</th>\n",
       "      <td>11 UMi b</td>\n",
       "      <td>516.219970</td>\n",
       "      <td>0.080</td>\n",
       "    </tr>\n",
       "    <tr>\n",
       "      <th>4</th>\n",
       "      <td>11 UMi b</td>\n",
       "      <td>516.220000</td>\n",
       "      <td>0.080</td>\n",
       "    </tr>\n",
       "    <tr>\n",
       "      <th>...</th>\n",
       "      <td>...</td>\n",
       "      <td>...</td>\n",
       "      <td>...</td>\n",
       "    </tr>\n",
       "    <tr>\n",
       "      <th>32511</th>\n",
       "      <td>ups And d</td>\n",
       "      <td>1282.410000</td>\n",
       "      <td>0.294</td>\n",
       "    </tr>\n",
       "    <tr>\n",
       "      <th>32512</th>\n",
       "      <td>ups And d</td>\n",
       "      <td>1281.507000</td>\n",
       "      <td>0.316</td>\n",
       "    </tr>\n",
       "    <tr>\n",
       "      <th>32513</th>\n",
       "      <td>ups Leo b</td>\n",
       "      <td>385.200000</td>\n",
       "      <td>0.320</td>\n",
       "    </tr>\n",
       "    <tr>\n",
       "      <th>32514</th>\n",
       "      <td>xi Aql b</td>\n",
       "      <td>10.994704</td>\n",
       "      <td>0.000</td>\n",
       "    </tr>\n",
       "    <tr>\n",
       "      <th>32515</th>\n",
       "      <td>xi Aql b</td>\n",
       "      <td>136.750000</td>\n",
       "      <td>0.000</td>\n",
       "    </tr>\n",
       "  </tbody>\n",
       "</table>\n",
       "<p>32516 rows × 3 columns</p>\n",
       "</div>"
      ],
      "text/plain": [
       "      planetname  orbitperiod  eccentricity\n",
       "0       11 Com b   326.030000         0.231\n",
       "1       11 Com b    10.994704         0.000\n",
       "2       11 UMi b    10.994704         0.000\n",
       "3       11 UMi b   516.219970         0.080\n",
       "4       11 UMi b   516.220000         0.080\n",
       "...          ...          ...           ...\n",
       "32511  ups And d  1282.410000         0.294\n",
       "32512  ups And d  1281.507000         0.316\n",
       "32513  ups Leo b   385.200000         0.320\n",
       "32514   xi Aql b    10.994704         0.000\n",
       "32515   xi Aql b   136.750000         0.000\n",
       "\n",
       "[32516 rows x 3 columns]"
      ]
     },
     "execution_count": 7,
     "metadata": {},
     "output_type": "execute_result"
    }
   ],
   "source": [
    "df1 = df1.rename(columns={'pl_name':'planetname', 'pl_orbper':'orbitperiod', 'pl_orbeccen':'eccentricity'})\n",
    "#df1 = df1.dropna()\n",
    "df1 = df1.fillna(df1.median(numeric_only=True))\n",
    "df1"
   ]
  },
  {
   "cell_type": "markdown",
   "id": "1b4e086a",
   "metadata": {},
   "source": [
    "The following logic is to determine the data types of the column entries in the latest data frame. Again, this is the data type (dtype) for individual entries within the data frame."
   ]
  },
  {
   "cell_type": "code",
   "execution_count": 8,
   "id": "76cc12d5",
   "metadata": {},
   "outputs": [
    {
     "name": "stdout",
     "output_type": "stream",
     "text": [
      "<class 'numpy.float64'>\n",
      "<class 'numpy.float64'>\n"
     ]
    }
   ],
   "source": [
    "print(type(df1.iloc[0][1]))\n",
    "print(type(df1.iloc[0][2]))"
   ]
  },
  {
   "cell_type": "code",
   "execution_count": 9,
   "id": "10221073",
   "metadata": {},
   "outputs": [
    {
     "data": {
      "text/plain": [
       "pandas.core.frame.DataFrame"
      ]
     },
     "execution_count": 9,
     "metadata": {},
     "output_type": "execute_result"
    }
   ],
   "source": [
    "type(df1)"
   ]
  },
  {
   "cell_type": "code",
   "execution_count": 10,
   "id": "b0f32f3c",
   "metadata": {},
   "outputs": [
    {
     "name": "stdout",
     "output_type": "stream",
     "text": [
      "The data type of the eccentricity column is: float64\n"
     ]
    }
   ],
   "source": [
    "print(\"The data type of the eccentricity column is:\", df1.dtypes['eccentricity'])"
   ]
  },
  {
   "cell_type": "markdown",
   "id": "4e3e9a8a",
   "metadata": {},
   "source": [
    "Notice df1 is indeed a data frame, and the entries within are numpy float number type.\n",
    "\n",
    "Want to limit each scenario to two dataframes. Once cleaned, need another to take arithmetic mean of multiple entries. For example, Dataframe 2 will take the averages of multiple planet entries. Following lines will take arithmetic mean of the two columns of interest and concate the two columns into the third dataframe.\n",
    "\n",
    "First will create intermediate variables to store the resulting averages."
   ]
  },
  {
   "cell_type": "code",
   "execution_count": 11,
   "id": "e89428a6",
   "metadata": {},
   "outputs": [],
   "source": [
    "eccen = df1.groupby('planetname')['eccentricity'].mean()\n",
    "orbper = df1.groupby('planetname')['orbitperiod'].mean()"
   ]
  },
  {
   "cell_type": "code",
   "execution_count": 12,
   "id": "c89c7c66",
   "metadata": {},
   "outputs": [
    {
     "name": "stdout",
     "output_type": "stream",
     "text": [
      "planetname\n",
      "11 Com b      0.115500\n",
      "11 UMi b      0.053333\n",
      "14 And b      0.000000\n",
      "14 Her b      0.361486\n",
      "16 Cyg B b    0.676033\n",
      "                ...   \n",
      "ups And b     0.030200\n",
      "ups And c     0.238933\n",
      "ups And d     0.281117\n",
      "ups Leo b     0.320000\n",
      "xi Aql b      0.000000\n",
      "Name: eccentricity, Length: 5021, dtype: float64\n",
      "planetname\n",
      "11 Com b       168.512352\n",
      "11 UMi b       347.811558\n",
      "14 And b        98.417352\n",
      "14 Her b      1515.800675\n",
      "16 Cyg B b     799.375000\n",
      "                 ...     \n",
      "ups And b        4.616229\n",
      "ups And c      240.728533\n",
      "ups And d     1285.346167\n",
      "ups Leo b      385.200000\n",
      "xi Aql b        73.872352\n",
      "Name: orbitperiod, Length: 5021, dtype: float64\n"
     ]
    }
   ],
   "source": [
    "print(eccen)\n",
    "print(orbper)"
   ]
  },
  {
   "cell_type": "code",
   "execution_count": 13,
   "id": "7ed16b08",
   "metadata": {},
   "outputs": [
    {
     "data": {
      "text/plain": [
       "pandas.core.series.Series"
      ]
     },
     "execution_count": 13,
     "metadata": {},
     "output_type": "execute_result"
    }
   ],
   "source": [
    "type(eccen)"
   ]
  },
  {
   "cell_type": "code",
   "execution_count": 14,
   "id": "20912dda",
   "metadata": {},
   "outputs": [
    {
     "data": {
      "text/plain": [
       "pandas.core.series.Series"
      ]
     },
     "execution_count": 14,
     "metadata": {},
     "output_type": "execute_result"
    }
   ],
   "source": [
    "type(orbper)"
   ]
  },
  {
   "cell_type": "markdown",
   "id": "5368c45e",
   "metadata": {},
   "source": [
    "In this part want to explicitly declare the median and IQR of the two columns which are the variables. But the summary statistics part of the analysis can be done with variables declared earlier."
   ]
  },
  {
   "cell_type": "code",
   "execution_count": 15,
   "id": "5cc9cf09",
   "metadata": {},
   "outputs": [
    {
     "name": "stdout",
     "output_type": "stream",
     "text": [
      "\n",
      "The median of the orbital period: 10.9947\n",
      "\n",
      "The median of the eccentricity: 0.00\n",
      "\n",
      "The interquartile range of the eccentricity: 0.03\n",
      "\n",
      "The interquartile range of the orbital period: 30.39\n",
      "\n",
      "The mean for the eccentricity: 0.05\n",
      "\n",
      "The mean for the orbital period: 83045.30\n"
     ]
    }
   ],
   "source": [
    "eccen_med = statistics.median(list(eccen))\n",
    "orbper_med = statistics.median(list(orbper))\n",
    "print('\\nThe median of the orbital period: %.4f' % orbper_med)\n",
    "print('\\nThe median of the eccentricity: %.2f' % eccen_med)\n",
    "iqr_eccen = stats.iqr(eccen, interpolation = 'midpoint')\n",
    "iqr_orbper = stats.iqr(orbper, interpolation = 'midpoint')\n",
    "print('\\nThe interquartile range of the eccentricity: %.2f' % iqr_eccen)\n",
    "print('\\nThe interquartile range of the orbital period: %.2f' % iqr_orbper)\n",
    "eccen_avg = statistics.mean(list(eccen))\n",
    "print('\\nThe mean for the eccentricity: %.2f' % eccen_avg)\n",
    "orbper_avg = statistics.mean(list(orbper))\n",
    "print('\\nThe mean for the orbital period: %.2f' % orbper_avg)"
   ]
  },
  {
   "cell_type": "markdown",
   "id": "53c49ecf",
   "metadata": {},
   "source": [
    "Five number summary including the central tendencies above."
   ]
  },
  {
   "cell_type": "code",
   "execution_count": 16,
   "id": "dad78100",
   "metadata": {},
   "outputs": [],
   "source": [
    "def fivenum(data):\n",
    "    \"\"\"Five-number summary.\"\"\"\n",
    "    return np.percentile(data, [0, 25, 50, 75, 100], method = 'midpoint')\n",
    "    # Line below was for an older version of Jupyter\n",
    "    #return np.percentile(data, [0, 25, 50, 75, 100], interpolation='midpoint')"
   ]
  },
  {
   "cell_type": "code",
   "execution_count": 17,
   "id": "9198d85b",
   "metadata": {},
   "outputs": [
    {
     "data": {
      "text/plain": [
       "array([0.   , 0.   , 0.   , 0.027, 0.903])"
      ]
     },
     "execution_count": 17,
     "metadata": {},
     "output_type": "execute_result"
    }
   ],
   "source": [
    "# Min, 1st quantile, median, 3rd quantile, max\n",
    "fivenum(eccen)"
   ]
  },
  {
   "cell_type": "code",
   "execution_count": 18,
   "id": "e0fdc846",
   "metadata": {},
   "outputs": [
    {
     "data": {
      "text/plain": [
       "array([9.07062900e-02, 5.03733431e+00, 1.09947037e+01, 3.54249749e+01,\n",
       "       4.02000000e+08])"
      ]
     },
     "execution_count": 18,
     "metadata": {},
     "output_type": "execute_result"
    }
   ],
   "source": [
    "# Min, 1st quantile, median, 3rd quantile, max\n",
    "fivenum(orbper)"
   ]
  },
  {
   "cell_type": "code",
   "execution_count": 19,
   "id": "5c737eed",
   "metadata": {},
   "outputs": [
    {
     "data": {
      "text/html": [
       "<div>\n",
       "<style scoped>\n",
       "    .dataframe tbody tr th:only-of-type {\n",
       "        vertical-align: middle;\n",
       "    }\n",
       "\n",
       "    .dataframe tbody tr th {\n",
       "        vertical-align: top;\n",
       "    }\n",
       "\n",
       "    .dataframe thead th {\n",
       "        text-align: right;\n",
       "    }\n",
       "</style>\n",
       "<table border=\"1\" class=\"dataframe\">\n",
       "  <thead>\n",
       "    <tr style=\"text-align: right;\">\n",
       "      <th></th>\n",
       "      <th>orbitperiod</th>\n",
       "      <th>eccentricity</th>\n",
       "    </tr>\n",
       "    <tr>\n",
       "      <th>planetname</th>\n",
       "      <th></th>\n",
       "      <th></th>\n",
       "    </tr>\n",
       "  </thead>\n",
       "  <tbody>\n",
       "    <tr>\n",
       "      <th>11 Com b</th>\n",
       "      <td>168.512352</td>\n",
       "      <td>0.115500</td>\n",
       "    </tr>\n",
       "    <tr>\n",
       "      <th>11 UMi b</th>\n",
       "      <td>347.811558</td>\n",
       "      <td>0.053333</td>\n",
       "    </tr>\n",
       "    <tr>\n",
       "      <th>14 And b</th>\n",
       "      <td>98.417352</td>\n",
       "      <td>0.000000</td>\n",
       "    </tr>\n",
       "    <tr>\n",
       "      <th>14 Her b</th>\n",
       "      <td>1515.800675</td>\n",
       "      <td>0.361486</td>\n",
       "    </tr>\n",
       "    <tr>\n",
       "      <th>16 Cyg B b</th>\n",
       "      <td>799.375000</td>\n",
       "      <td>0.676033</td>\n",
       "    </tr>\n",
       "    <tr>\n",
       "      <th>...</th>\n",
       "      <td>...</td>\n",
       "      <td>...</td>\n",
       "    </tr>\n",
       "    <tr>\n",
       "      <th>ups And b</th>\n",
       "      <td>4.616229</td>\n",
       "      <td>0.030200</td>\n",
       "    </tr>\n",
       "    <tr>\n",
       "      <th>ups And c</th>\n",
       "      <td>240.728533</td>\n",
       "      <td>0.238933</td>\n",
       "    </tr>\n",
       "    <tr>\n",
       "      <th>ups And d</th>\n",
       "      <td>1285.346167</td>\n",
       "      <td>0.281117</td>\n",
       "    </tr>\n",
       "    <tr>\n",
       "      <th>ups Leo b</th>\n",
       "      <td>385.200000</td>\n",
       "      <td>0.320000</td>\n",
       "    </tr>\n",
       "    <tr>\n",
       "      <th>xi Aql b</th>\n",
       "      <td>73.872352</td>\n",
       "      <td>0.000000</td>\n",
       "    </tr>\n",
       "  </tbody>\n",
       "</table>\n",
       "<p>5021 rows × 2 columns</p>\n",
       "</div>"
      ],
      "text/plain": [
       "            orbitperiod  eccentricity\n",
       "planetname                           \n",
       "11 Com b     168.512352      0.115500\n",
       "11 UMi b     347.811558      0.053333\n",
       "14 And b      98.417352      0.000000\n",
       "14 Her b    1515.800675      0.361486\n",
       "16 Cyg B b   799.375000      0.676033\n",
       "...                 ...           ...\n",
       "ups And b      4.616229      0.030200\n",
       "ups And c    240.728533      0.238933\n",
       "ups And d   1285.346167      0.281117\n",
       "ups Leo b    385.200000      0.320000\n",
       "xi Aql b      73.872352      0.000000\n",
       "\n",
       "[5021 rows x 2 columns]"
      ]
     },
     "execution_count": 19,
     "metadata": {},
     "output_type": "execute_result"
    }
   ],
   "source": [
    "df1 = pd.concat([orbper, eccen], axis = 1)\n",
    "df1"
   ]
  },
  {
   "cell_type": "markdown",
   "id": "fdeeafea",
   "metadata": {},
   "source": [
    "Want the number of observations for reporting."
   ]
  },
  {
   "cell_type": "code",
   "execution_count": 20,
   "id": "1034a1cd",
   "metadata": {},
   "outputs": [
    {
     "name": "stdout",
     "output_type": "stream",
     "text": [
      "the number of observations: 5021\n"
     ]
    }
   ],
   "source": [
    "print(\"the number of observations:\", len(df1.index))"
   ]
  },
  {
   "cell_type": "markdown",
   "id": "2d30e3fe",
   "metadata": {},
   "source": [
    "All the filtering and cleaning was handled by end of df1."
   ]
  },
  {
   "cell_type": "code",
   "execution_count": 21,
   "id": "be493207",
   "metadata": {},
   "outputs": [
    {
     "data": {
      "text/plain": [
       "Index(['orbitperiod', 'eccentricity'], dtype='object')"
      ]
     },
     "execution_count": 21,
     "metadata": {},
     "output_type": "execute_result"
    }
   ],
   "source": [
    "df1.columns"
   ]
  },
  {
   "cell_type": "markdown",
   "id": "cd6718a3",
   "metadata": {},
   "source": [
    "The orbital period is skewed right, but after applying a log transform, the distribution more closely resembles a Gaussian distribution."
   ]
  },
  {
   "cell_type": "code",
   "execution_count": 22,
   "id": "1d570716",
   "metadata": {},
   "outputs": [
    {
     "data": {
      "image/png": "[encoded data removed]",
      "text/plain": [
       "<Figure size 648x504 with 4 Axes>"
      ]
     },
     "metadata": {},
     "output_type": "display_data"
    }
   ],
   "source": [
    "# First, perform log base 10 transform\n",
    "orbper_log = np.log10(orbper)\n",
    "eccen_log = np.log10(eccen + 10)\n",
    "# Plotting Logic\n",
    "fig1, ax1 = plt.subplots(2, 2,figsize = (9, 7))\n",
    "fig1.suptitle('Histograms - Case 1')\n",
    "ax1[0, 0].hist(orbper, color = 'darkgreen', edgecolor = 'white')\n",
    "#ax1[0, 0].set_title('') #<- use this logic to give each plot its own title.\n",
    "ax1[0, 0].set(xlabel = 'orbital period')\n",
    "ax1[0, 1].hist(orbper_log, color = \"darkgreen\", edgecolor = 'red')\n",
    "ax1[0, 1].set(xlabel = 'log10(orbital period)')\n",
    "ax1[1, 0].hist(eccen, color = \"maroon\", edgecolor = 'green')\n",
    "ax1[1, 0].set(xlabel = 'eccentricity')\n",
    "ax1[1, 1].hist(eccen_log, color = \"maroon\", edgecolor = 'green')\n",
    "ax1[1, 1].set(xlabel = 'log10(eccentricity)')\n",
    "\n",
    "for ax in ax1.flat:\n",
    "    ax.set(ylabel = 'Frequency')\n",
    "plt.savefig('histograms_1.png',dpi=600)\n",
    "fig1.tight_layout()"
   ]
  },
  {
   "cell_type": "markdown",
   "id": "828f08f7",
   "metadata": {},
   "source": [
    "The distribution is still skewed right after applying the transform."
   ]
  },
  {
   "cell_type": "markdown",
   "id": "773bf80e",
   "metadata": {},
   "source": [
    "#### Model Building"
   ]
  },
  {
   "cell_type": "markdown",
   "id": "94aad9c2",
   "metadata": {},
   "source": [
    "As a resampling method, will use the train-test-split (tts) method."
   ]
  },
  {
   "cell_type": "code",
   "execution_count": 23,
   "id": "415cba78",
   "metadata": {},
   "outputs": [],
   "source": [
    "X1 = np.array(orbper).reshape(-1,1)\n",
    "y1 = np.array(eccen).reshape(-1, 1)\n",
    "X1_train, X1_test, y1_train, y1_test = train_test_split(X1, y1, train_size = 0.80, random_state = 25)\n",
    "y1_train = y1_train.reshape(len(y1_train), )\n",
    "y1_test = y1_test.reshape(len(y1_test), )"
   ]
  },
  {
   "cell_type": "markdown",
   "id": "730ac677",
   "metadata": {},
   "source": [
    "Will change the central tendency metric from median to mean to get a better R-squared metric."
   ]
  },
  {
   "cell_type": "code",
   "execution_count": 24,
   "id": "4ec8741f",
   "metadata": {},
   "outputs": [
    {
     "data": {
      "text/plain": [
       "0.05028121441467783"
      ]
     },
     "execution_count": 24,
     "metadata": {},
     "output_type": "execute_result"
    }
   ],
   "source": [
    "# For central tendency can use either median or mean.\n",
    "y_baseline = y1_train.mean()\n",
    "#y_baseline = statistics.median(y1_train)\n",
    "y_baseline"
   ]
  },
  {
   "cell_type": "code",
   "execution_count": 25,
   "id": "afa5fad7",
   "metadata": {},
   "outputs": [],
   "source": [
    "y_pred_train = [y_baseline] * len(y1_train)"
   ]
  },
  {
   "cell_type": "code",
   "execution_count": 26,
   "id": "30f43feb",
   "metadata": {},
   "outputs": [
    {
     "name": "stdout",
     "output_type": "stream",
     "text": [
      "Traing Set Mean Absolute Error: 0.07466837870957137\n",
      "Traing Set Mean Squared Error: 0.01516014279820919\n",
      "Traing Set Root Mean Square Error: 0.12312653165832776\n",
      "Traing Set R2: 0.0\n"
     ]
    }
   ],
   "source": [
    "# Following is for the Training Dataset.\n",
    "# Error for training data baseline guess.\n",
    "mae_train_1 = mean_absolute_error(y1_train, y_pred_train)\n",
    "print(f'Traing Set Mean Absolute Error: {mae_train_1}')\n",
    "# Mean squared error for training data baseline guess.\n",
    "mse_train_1 = mean_squared_error(y1_train, y_pred_train)\n",
    "print(f'Traing Set Mean Squared Error: {mse_train_1}')\n",
    "rmse_train_1 = sqrt(mse_train_1) # <- will compute the root mean square error\n",
    "print(f'Traing Set Root Mean Square Error: {rmse_train_1}')\n",
    "# R-squared for training data baseline guess.\n",
    "r2_train_1 = r2_score(y1_train, y_pred_train)\n",
    "print(f'Traing Set R2: {r2_train_1}')"
   ]
  },
  {
   "cell_type": "code",
   "execution_count": 27,
   "id": "0d477cf0",
   "metadata": {},
   "outputs": [],
   "source": [
    "y_pred_test = [y_baseline] * len(y1_test)"
   ]
  },
  {
   "cell_type": "code",
   "execution_count": 28,
   "id": "2bd7f488",
   "metadata": {},
   "outputs": [
    {
     "name": "stdout",
     "output_type": "stream",
     "text": [
      "Test Set Mean Absolute Error: 0.07029296571521206\n",
      "Test Set Mean Squared Error: 0.013719175190703455\n",
      "Test Set Root Mean Square Error: 0.11712888282017998\n",
      "Test Set R2: -0.0011016846678497672\n"
     ]
    }
   ],
   "source": [
    "# Error for test data baseline guess.\n",
    "mae_test_1 = mean_absolute_error(y1_test, y_pred_test)\n",
    "print(f'Test Set Mean Absolute Error: {mae_test_1}')\n",
    "# Mean squared error for test data baseline guess.\n",
    "mse_test_1 = mean_squared_error(y1_test, y_pred_test)\n",
    "print(f'Test Set Mean Squared Error: {mse_test_1}')\n",
    "rmse_test_1 = sqrt(mse_test_1) # <- will compute the root mean square error\n",
    "print(f'Test Set Root Mean Square Error: {rmse_test_1}')\n",
    "# R-squared for test data baseline guess.\n",
    "r2_test_1 = r2_score(y1_test, y_pred_test)\n",
    "print(f'Test Set R2: {r2_test_1}')"
   ]
  },
  {
   "cell_type": "code",
   "execution_count": 29,
   "id": "839e1f9e",
   "metadata": {},
   "outputs": [
    {
     "data": {
      "text/html": [
       "<div>\n",
       "<style scoped>\n",
       "    .dataframe tbody tr th:only-of-type {\n",
       "        vertical-align: middle;\n",
       "    }\n",
       "\n",
       "    .dataframe tbody tr th {\n",
       "        vertical-align: top;\n",
       "    }\n",
       "\n",
       "    .dataframe thead th {\n",
       "        text-align: right;\n",
       "    }\n",
       "</style>\n",
       "<table border=\"1\" class=\"dataframe\">\n",
       "  <thead>\n",
       "    <tr style=\"text-align: right;\">\n",
       "      <th></th>\n",
       "      <th>Method</th>\n",
       "      <th>Train MAE</th>\n",
       "      <th>Train MSE</th>\n",
       "      <th>Train RMSE</th>\n",
       "      <th>Train R2</th>\n",
       "      <th>Test MAE</th>\n",
       "      <th>Test MSE</th>\n",
       "      <th>Test RMSE</th>\n",
       "      <th>Test R2</th>\n",
       "    </tr>\n",
       "  </thead>\n",
       "  <tbody>\n",
       "    <tr>\n",
       "      <th>0</th>\n",
       "      <td>Baseline</td>\n",
       "      <td>0.074668</td>\n",
       "      <td>0.01516</td>\n",
       "      <td>0.123127</td>\n",
       "      <td>0.0</td>\n",
       "      <td>0.070293</td>\n",
       "      <td>0.013719</td>\n",
       "      <td>0.117129</td>\n",
       "      <td>-0.001102</td>\n",
       "    </tr>\n",
       "  </tbody>\n",
       "</table>\n",
       "</div>"
      ],
      "text/plain": [
       "     Method Train MAE Train MSE Train RMSE Train R2  Test MAE  Test MSE  \\\n",
       "0  Baseline  0.074668   0.01516   0.123127      0.0  0.070293  0.013719   \n",
       "\n",
       "  Test RMSE   Test R2  \n",
       "0  0.117129 -0.001102  "
      ]
     },
     "execution_count": 29,
     "metadata": {},
     "output_type": "execute_result"
    }
   ],
   "source": [
    "prediction_1 = pd.DataFrame(['Baseline', mae_train_1, mse_train_1, rmse_train_1, r2_train_1, mae_test_1, mse_test_1, rmse_test_1, r2_test_1]).T\n",
    "metric_col_names = ['Method', 'Train MAE', 'Train MSE', 'Train RMSE', 'Train R2', 'Test MAE', 'Test MSE','Test RMSE', 'Test R2'] # <- This list will be used over so easier to store in variable.\n",
    "prediction_1.columns = metric_col_names\n",
    "prediction_1"
   ]
  },
  {
   "cell_type": "markdown",
   "id": "b57fd327",
   "metadata": {},
   "source": [
    "Now to apply the logarithmic and exponential transformations to the variables I chose."
   ]
  },
  {
   "cell_type": "code",
   "execution_count": 30,
   "id": "f8da8fa6",
   "metadata": {},
   "outputs": [],
   "source": [
    "X1_train_log = np.log10(X1_train)\n",
    "X1_test_log = np.log10(X1_test)\n",
    "#y1_train_log = np.log(y1_train + 10) # <- Remember to add 10 units to be able apply log transform\n",
    "y1_train_exp = np.exp(y1_train)\n",
    "y1_test_exp = np.exp(y1_test)"
   ]
  },
  {
   "cell_type": "markdown",
   "id": "5f34bb11",
   "metadata": {},
   "source": [
    "With the data scaled using aforementioned trasnformations, will now test various k's for best fit. Will run kNN for various values of n_neighbors and store results. This will help me determine optimal 'k'."
   ]
  },
  {
   "cell_type": "code",
   "execution_count": 31,
   "id": "0f3c1cfc",
   "metadata": {},
   "outputs": [
    {
     "name": "stdout",
     "output_type": "stream",
     "text": [
      "     k  Test Score  Train Score\n",
      "0    1   -0.462489     0.993856\n",
      "1    2    0.016431     0.677461\n",
      "2    3    0.118553     0.560191\n",
      "3    4    0.215381     0.507949\n",
      "4    5    0.238316     0.485626\n",
      "..  ..         ...          ...\n",
      "69  70    0.340726     0.367678\n",
      "70  71    0.341080     0.367065\n",
      "71  72    0.340589     0.366435\n",
      "72  73    0.340749     0.365979\n",
      "73  74    0.343028     0.365093\n",
      "\n",
      "[74 rows x 3 columns]\n",
      "The highest Test R-squared value occurs at : 0.3430\n",
      "Within given range, optimal k is:  74\n"
     ]
    }
   ],
   "source": [
    "# kNN R-squared accuracy for 1st kNN model\n",
    "knn_r_acc_1 = []\n",
    "for i1 in range(1, 75, 1):\n",
    "    knn = KNeighborsRegressor(n_neighbors = i1)\n",
    "    knn.fit(X1_train_log.reshape(-1, 1), y1_train.reshape(-1, 1))\n",
    "    test_score_1 = knn.score(X1_test_log.reshape(-1, 1), y1_test.reshape(-1, 1))\n",
    "    train_score_1 = knn.score(X1_train_log.reshape(-1, 1), y1_train.reshape(-1, 1))\n",
    "    knn_r_acc_1.append((i1, test_score_1, train_score_1))\n",
    "outcomes_1 = pd.DataFrame(knn_r_acc_1, columns = ['k', 'Test Score', 'Train Score'])\n",
    "print(outcomes_1)\n",
    "print('The highest Test R-squared value occurs at : %.4f' % outcomes_1.iloc[:,1].max())\n",
    "print('Within given range, optimal k is: ', outcomes_1.loc[outcomes_1['Test Score'] == outcomes_1.iloc[:,1].max(), 'k'].iloc[0])"
   ]
  },
  {
   "cell_type": "markdown",
   "id": "d6a7a41f",
   "metadata": {},
   "source": [
    "Bootstrap confidence interval to get estimate on RMSE for various models."
   ]
  },
  {
   "cell_type": "code",
   "execution_count": 32,
   "id": "08367980",
   "metadata": {},
   "outputs": [],
   "source": [
    "def ci_bootstrap(df, model):\n",
    "    # set up data\n",
    "    values = df.values\n",
    "    # configure bootstrap\n",
    "    n_iters = 1000\n",
    "    n_size = 500\n",
    "    metrics = []\n",
    "    # for loop\n",
    "    for index in range(n_iters):\n",
    "        # prep training and testing sets\n",
    "        train = resample(values, n_samples = n_size)\n",
    "        test = np.array([i for i in values if i.tolist() not in train.tolist()])\n",
    "        # Fit model\n",
    "        model.fit(train[:,:-1], train[:,-1])\n",
    "        # Evaluate model\n",
    "        predictions = model.predict(test[:,:-1])\n",
    "        score = np.sqrt(mean_squared_error(test[:,-1], predictions))\n",
    "        #print(score)\n",
    "        metrics.append(score)\n",
    "    metrics = pd.Series(metrics)\n",
    "    return metrics"
   ]
  },
  {
   "cell_type": "code",
   "execution_count": 33,
   "id": "e4f5c6f1",
   "metadata": {},
   "outputs": [
    {
     "name": "stdout",
     "output_type": "stream",
     "text": [
      "Execution time in minutes: 29.192301507790884\n"
     ]
    },
    {
     "data": {
      "image/png": "[encoded data removed]",
      "text/plain": [
       "<Figure size 576x1152 with 3 Axes>"
      ]
     },
     "metadata": {},
     "output_type": "display_data"
    }
   ],
   "source": [
    "# Save this spot for the bootstrap confidence interval\n",
    "start_time_1 = time.time()\n",
    "\n",
    "df2 = pd.concat([np.log10(orbper), eccen], axis=1)\n",
    "metrics1_1 = ci_bootstrap(df2, KNeighborsRegressor(n_neighbors = 74))\n",
    "\n",
    "# Plotting Logic\n",
    "fig1_2, ax1_2 = plt.subplots(3, 1, figsize = (8, 16))\n",
    "#fig1_2.suptitle('Bootstrap Performance Metrics - Case 1')\n",
    "\n",
    "# Confidence Interval\n",
    "confidence_interval1_1 = list(metrics1_1.quantile([0.025, 0.975]))\n",
    "\n",
    "ax1_2[0].hist(metrics1_1, color='#4db32e', edgecolor = \"red\")\n",
    "ax1_2[0].plot(confidence_interval1_1, [190, 190], color='black')\n",
    "for x1 in confidence_interval1_1:\n",
    "    ax1_2[0].plot([x1, x1], [0, 200], color='black')\n",
    "    ax1_2[0].text(x1, 210, f'{x1:.4f}', \n",
    "            horizontalalignment='center', verticalalignment='center')\n",
    "ax1_2[0].text(sum(confidence_interval1_1) / 2, 60, '95% interval',\n",
    "        horizontalalignment='center', verticalalignment='center')\n",
    "\n",
    "mean_knn_model_1 = metrics1_1.mean()\n",
    "ax1_2[0].plot([mean_knn_model_1, mean_knn_model_1], [0, 195], color='black', linestyle='--')\n",
    "ax1_2[0].text(mean_knn_model_1, 225, f'Mean: {mean_knn_model_1:.4f}',\n",
    "        bbox=dict(facecolor='white', edgecolor='white', alpha=0.5),\n",
    "        horizontalalignment='center', verticalalignment='center')\n",
    "ax1_2[0].set_title('kNN Model 1')\n",
    "\n",
    "# Now for the SVR model\n",
    "eps_1 = 8 #<- hyperparameters used throughout the script\n",
    "hyperparam1 = 1000 #<- hyperparameters used throughout the script\n",
    "metrics1_2 = ci_bootstrap(df2, SVR(kernel = 'rbf', C = hyperparam1, epsilon = eps_1))\n",
    "confidence_interval1_2 = list(metrics1_2.quantile([0.025, 0.975]))\n",
    "\n",
    "ax1_2[1].hist(metrics1_2, color='#7961c9', edgecolor = \"white\")\n",
    "ax1_2[1].plot(confidence_interval1_2, [190, 190], color='black')\n",
    "for x1 in confidence_interval1_2:\n",
    "    ax1_2[1].plot([x1, x1], [0, 200], color='black')\n",
    "    ax1_2[1].text(x1, 210, f'{x1:.4f}', \n",
    "            horizontalalignment='center', verticalalignment='center')\n",
    "ax1_2[1].text(sum(confidence_interval1_2) / 2, 60, '95% interval',\n",
    "        horizontalalignment='center', verticalalignment='center')\n",
    "\n",
    "mean_svr_model_1 = metrics1_2.mean()\n",
    "ax1_2[1].plot([mean_svr_model_1, mean_svr_model_1], [0, 195], color='black', linestyle='--')\n",
    "ax1_2[1].text(mean_svr_model_1, 225, f'Mean: {mean_svr_model_1:.4f}',\n",
    "        bbox=dict(facecolor='white', edgecolor='white', alpha=0.5),\n",
    "        horizontalalignment='center', verticalalignment='center')\n",
    "ax1_2[1].set_title('SVR Model 1')\n",
    "\n",
    "# Now for the Random Forest model\n",
    "metrics1_3 = ci_bootstrap(df2, RandomForestRegressor(max_depth=2))\n",
    "confidence_interval1_3 = list(metrics1_3.quantile([0.025, 0.975]))\n",
    "\n",
    "ax1_2[2].hist(metrics1_3, color='#03dffc', edgecolor = \"black\")\n",
    "ax1_2[2].plot(confidence_interval1_3, [190, 190], color='black')\n",
    "for x1 in confidence_interval1_3:\n",
    "    ax1_2[2].plot([x1, x1], [0, 200], color='black')\n",
    "    ax1_2[2].text(x1, 210, f'{x1:.4f}', \n",
    "            horizontalalignment='center', verticalalignment='center')\n",
    "ax1_2[2].text(sum(confidence_interval1_3) / 2, 60, '95% interval',\n",
    "        horizontalalignment='center', verticalalignment='center')\n",
    "\n",
    "mean_rf_model_1 = metrics1_3.mean()\n",
    "ax1_2[2].plot([mean_rf_model_1, mean_rf_model_1], [0, 195], color='black', linestyle='--')\n",
    "ax1_2[2].text(mean_rf_model_1, 225, f'Mean: {mean_rf_model_1:.4f}',\n",
    "      bbox=dict(facecolor='white', edgecolor='white', alpha=0.5),\n",
    "       horizontalalignment='center', verticalalignment='center')\n",
    "ax1_2[2].set_title('RF Model 1')\n",
    "\n",
    "for ax in ax1_2.flat:\n",
    "    ax.set(ylabel = 'Counts')\n",
    "    ax.set(xlabel = 'RMSE eccentricity (unitless)')\n",
    "    \n",
    "plt.savefig('bootstrap_rmse_1.png',dpi=800)\n",
    "\n",
    "execution_time_1 = (time.time() - start_time_1)\n",
    "print('Execution time in minutes: ' + str(execution_time_1/60))"
   ]
  },
  {
   "cell_type": "code",
   "execution_count": 35,
   "id": "cbc558f9",
   "metadata": {},
   "outputs": [
    {
     "data": {
      "image/png": "[encoded data removed]",
      "text/plain": [
       "<Figure size 1296x432 with 3 Axes>"
      ]
     },
     "metadata": {},
     "output_type": "display_data"
    }
   ],
   "source": [
    "fig_knn1, axs_knn1 = plt.subplots(1, 3, figsize = (18, 6))\n",
    "\n",
    "sns.histplot(metrics1_1, kde=True, color=\"#4db32e\", ax=axs_knn1[0])\n",
    "sns.histplot(metrics1_2, kde=True, color=\"#7961c9\", ax=axs_knn1[1])\n",
    "sns.histplot(metrics1_3, kde=True, color=\"#03dffc\", ax=axs_knn1[2])\n",
    "\n",
    "plt.savefig('sns_example1.png')\n",
    "plt.show()"
   ]
  },
  {
   "cell_type": "code",
   "execution_count": 36,
   "id": "7a1cbb98",
   "metadata": {},
   "outputs": [
    {
     "data": {
      "text/plain": [
       "1000"
      ]
     },
     "execution_count": 36,
     "metadata": {},
     "output_type": "execute_result"
    }
   ],
   "source": [
    "metrics1_1.mean()\n",
    "len(metrics1_1)"
   ]
  },
  {
   "cell_type": "code",
   "execution_count": 37,
   "id": "792d56ac",
   "metadata": {},
   "outputs": [],
   "source": [
    "knn_model_1 = KNeighborsRegressor(n_neighbors = 64)\n",
    "knn_model_1.fit(X1_train_log, y1_train)\n",
    "y_knn_train_pred_log_1 = knn_model_1.predict(X1_train_log)\n",
    "y_knn_test_pred_log_1 = knn_model_1.predict(X1_test_log)"
   ]
  },
  {
   "cell_type": "code",
   "execution_count": 38,
   "id": "0fdde56e",
   "metadata": {},
   "outputs": [
    {
     "data": {
      "text/plain": [
       "-2.890471762896498"
      ]
     },
     "execution_count": 38,
     "metadata": {},
     "output_type": "execute_result"
    }
   ],
   "source": [
    "# Following line to remind myself that values between 0 - 1 will produce negative value in log.\n",
    "np.log(0.055550)"
   ]
  },
  {
   "cell_type": "markdown",
   "id": "9d0eaced",
   "metadata": {},
   "source": [
    "Now, the decision on whether or not to scale back to original scale."
   ]
  },
  {
   "cell_type": "code",
   "execution_count": 39,
   "id": "7b7e2ee8",
   "metadata": {},
   "outputs": [],
   "source": [
    "#y_knn_train_pred_1 = np.exp(y_knn_train_pred_log_1)\n",
    "#y_knn_train_pred_1 = np.power(y_knn_train_pred_log_1, 10)\n",
    "y_knn_train_pred_1 = y_knn_train_pred_log_1\n",
    "#y_knn_test_pred_1 = np.log(y_knn_test_pred_log_1) \n",
    "#y_knn_test_pred_1 = np.power(y_knn_test_pred_log_1, 10)\n",
    "y_knn_test_pred_1 = y_knn_test_pred_log_1\n",
    "#y_knn_test_pred_1 = np.exp(y_knn_test_pred_log_1) "
   ]
  },
  {
   "cell_type": "markdown",
   "id": "1507ce62",
   "metadata": {},
   "source": [
    "Trying to avoid data leakage when going from transform to inverse."
   ]
  },
  {
   "cell_type": "code",
   "execution_count": 40,
   "id": "ba7fd478",
   "metadata": {},
   "outputs": [
    {
     "data": {
      "text/html": [
       "<div>\n",
       "<style scoped>\n",
       "    .dataframe tbody tr th:only-of-type {\n",
       "        vertical-align: middle;\n",
       "    }\n",
       "\n",
       "    .dataframe tbody tr th {\n",
       "        vertical-align: top;\n",
       "    }\n",
       "\n",
       "    .dataframe thead th {\n",
       "        text-align: right;\n",
       "    }\n",
       "</style>\n",
       "<table border=\"1\" class=\"dataframe\">\n",
       "  <thead>\n",
       "    <tr style=\"text-align: right;\">\n",
       "      <th></th>\n",
       "      <th>Method</th>\n",
       "      <th>Train MAE</th>\n",
       "      <th>Train MSE</th>\n",
       "      <th>Train RMSE</th>\n",
       "      <th>Train R2</th>\n",
       "      <th>Test MAE</th>\n",
       "      <th>Test MSE</th>\n",
       "      <th>Test RMSE</th>\n",
       "      <th>Test R2</th>\n",
       "    </tr>\n",
       "  </thead>\n",
       "  <tbody>\n",
       "    <tr>\n",
       "      <th>0</th>\n",
       "      <td>k Nearest Neighbor</td>\n",
       "      <td>0.051946</td>\n",
       "      <td>0.009549</td>\n",
       "      <td>0.097718</td>\n",
       "      <td>0.370132</td>\n",
       "      <td>0.050506</td>\n",
       "      <td>0.009057</td>\n",
       "      <td>0.09517</td>\n",
       "      <td>0.339073</td>\n",
       "    </tr>\n",
       "  </tbody>\n",
       "</table>\n",
       "</div>"
      ],
      "text/plain": [
       "               Method Train MAE Train MSE Train RMSE  Train R2  Test MAE  \\\n",
       "0  k Nearest Neighbor  0.051946  0.009549   0.097718  0.370132  0.050506   \n",
       "\n",
       "   Test MSE Test RMSE   Test R2  \n",
       "0  0.009057   0.09517  0.339073  "
      ]
     },
     "execution_count": 40,
     "metadata": {},
     "output_type": "execute_result"
    }
   ],
   "source": [
    "# First the training metrics.\n",
    "knn1_train_mae = mean_absolute_error(y1_train, y_knn_train_pred_1)\n",
    "knn1_train_mse = mean_squared_error(y1_train, y_knn_train_pred_1)\n",
    "knn1_train_rmse = sqrt(knn1_train_mse) # <- will compute the root mean square error\n",
    "knn1_train_r2 = r2_score(y1_train, y_knn_train_pred_1)\n",
    "# Now, test set metrics.\n",
    "knn1_test_mae = mean_absolute_error(y1_test, y_knn_test_pred_1)\n",
    "knn1_test_mse = mean_squared_error(y1_test, y_knn_test_pred_1)\n",
    "knn1_test_rmse = sqrt(knn1_test_mse)\n",
    "knn1_test_r2 = r2_score(y1_test, y_knn_test_pred_1)\n",
    "# Consolidate the results.\n",
    "knn_results_1 = pd.DataFrame(['k Nearest Neighbor', knn1_train_mae, knn1_train_mse, knn1_train_rmse, knn1_train_r2, knn1_test_mae, knn1_test_mse, knn1_test_rmse, knn1_test_r2]).transpose()\n",
    "knn_results_1.columns = metric_col_names\n",
    "knn_results_1"
   ]
  },
  {
   "cell_type": "markdown",
   "id": "f6d6a331",
   "metadata": {},
   "source": [
    "#### SVR regressor model."
   ]
  },
  {
   "cell_type": "code",
   "execution_count": 41,
   "id": "567f9550",
   "metadata": {},
   "outputs": [
    {
     "data": {
      "text/html": [
       "<div>\n",
       "<style scoped>\n",
       "    .dataframe tbody tr th:only-of-type {\n",
       "        vertical-align: middle;\n",
       "    }\n",
       "\n",
       "    .dataframe tbody tr th {\n",
       "        vertical-align: top;\n",
       "    }\n",
       "\n",
       "    .dataframe thead th {\n",
       "        text-align: right;\n",
       "    }\n",
       "</style>\n",
       "<table border=\"1\" class=\"dataframe\">\n",
       "  <thead>\n",
       "    <tr style=\"text-align: right;\">\n",
       "      <th></th>\n",
       "      <th>Method</th>\n",
       "      <th>Train MAE</th>\n",
       "      <th>Train MSE</th>\n",
       "      <th>Train RMSE</th>\n",
       "      <th>Train R2</th>\n",
       "      <th>Test MAE</th>\n",
       "      <th>Test MSE</th>\n",
       "      <th>Test RMSE</th>\n",
       "      <th>Test R2</th>\n",
       "    </tr>\n",
       "  </thead>\n",
       "  <tbody>\n",
       "    <tr>\n",
       "      <th>0</th>\n",
       "      <td>SVR</td>\n",
       "      <td>0.409657</td>\n",
       "      <td>0.176137</td>\n",
       "      <td>0.419686</td>\n",
       "      <td>-10.618404</td>\n",
       "      <td>0.413098</td>\n",
       "      <td>0.177814</td>\n",
       "      <td>0.42168</td>\n",
       "      <td>-0.000998</td>\n",
       "    </tr>\n",
       "  </tbody>\n",
       "</table>\n",
       "</div>"
      ],
      "text/plain": [
       "  Method Train MAE Train MSE Train RMSE   Train R2  Test MAE  Test MSE  \\\n",
       "0    SVR  0.409657  0.176137   0.419686 -10.618404  0.413098  0.177814   \n",
       "\n",
       "  Test RMSE   Test R2  \n",
       "0   0.42168 -0.000998  "
      ]
     },
     "execution_count": 41,
     "metadata": {},
     "output_type": "execute_result"
    }
   ],
   "source": [
    "eps_1 = 8\n",
    "hyperparam1 = 1000\n",
    "svr_model_1 = SVR(kernel = 'rbf', C = hyperparam1, epsilon = eps_1)\n",
    "svr_model_1.fit(X1_train_log, y1_train)\n",
    "y_svr_train_pred_1 = svr_model_1.predict(X1_train_log)\n",
    "y_svr_test_pred_1 = svr_model_1.predict(X1_test_log)\n",
    "# Model performance - training set\n",
    "svr1_train_mae = mean_absolute_error(y1_train, y_svr_train_pred_1)\n",
    "svr1_train_mse = mean_squared_error(y1_train, y_svr_train_pred_1)\n",
    "svr1_train_rmse = sqrt(svr1_train_mse)\n",
    "svr1_train_r2 = r2_score(y1_train, y_svr_train_pred_1)\n",
    "# Test results\n",
    "svr1_test_mae = mean_absolute_error(y1_test, y_svr_test_pred_1)\n",
    "svr1_test_mse = mean_squared_error(y1_test, y_svr_test_pred_1)\n",
    "svr1_test_rmse = sqrt(svr1_test_mse)\n",
    "svr1_test_r2 = r2_score(X1_test, y_svr_test_pred_1)\n",
    "# Consolidate the results.\n",
    "svr_results_1 = pd.DataFrame(['SVR', svr1_train_mae, svr1_train_mse, svr1_train_rmse, svr1_train_r2, svr1_test_mae, svr1_test_mse, svr1_test_rmse, svr1_test_r2]).T\n",
    "svr_results_1.columns = metric_col_names\n",
    "svr_results_1"
   ]
  },
  {
   "cell_type": "markdown",
   "id": "0b597b3e",
   "metadata": {},
   "source": [
    "Now want to model using the Random Forest Regressor."
   ]
  },
  {
   "cell_type": "code",
   "execution_count": 42,
   "id": "7730ef56",
   "metadata": {},
   "outputs": [
    {
     "data": {
      "text/plain": [
       "RandomForestRegressor(max_depth=2)"
      ]
     },
     "execution_count": 42,
     "metadata": {},
     "output_type": "execute_result"
    }
   ],
   "source": [
    "rf_1 = RandomForestRegressor(max_depth=2)\n",
    "#rf_1.fit(X1_train_log.reshape(-1, 1), y1_train.reshape(-1, 1))\n",
    "rf_1.fit(X1_train_log, y1_train)\n",
    "#y_rf_train_pred_1 = rf_1.predict(X1_train_log.reshape(-1, 1))\n",
    "y_rf_train_pred_1 = rf_1.predict(X1_train_log)\n",
    "#y_rf_test_pred_1 = rf_1.predict(X1_test_log.reshape(-1, 1))\n",
    "y_rf_test_pred_1 = rf_1.predict(X1_test_log)\n",
    "rf_1"
   ]
  },
  {
   "cell_type": "code",
   "execution_count": 43,
   "id": "f21a5e64",
   "metadata": {},
   "outputs": [],
   "source": [
    "# Model performance metrics for random forest model.\n",
    "rf1_train_mae = mean_absolute_error(y1_train, y_rf_train_pred_1)\n",
    "rf1_train_mse = mean_squared_error(y1_train, y_rf_train_pred_1)\n",
    "rf1_train_rmse = sqrt(rf1_train_mse)\n",
    "rf1_train_r2 = r2_score(y1_train, y_rf_train_pred_1)\n",
    "# The following are the test metrics.\n",
    "rf1_test_mae = mean_absolute_error(y1_test, y_rf_test_pred_1)\n",
    "rf1_test_mse = mean_squared_error(y1_test, y_rf_test_pred_1)\n",
    "rf1_test_rmse = sqrt(rf1_test_mse)\n",
    "rf1_test_r2 = r2_score(y1_test, y_rf_test_pred_1)"
   ]
  },
  {
   "cell_type": "code",
   "execution_count": 44,
   "id": "97e66804",
   "metadata": {},
   "outputs": [
    {
     "data": {
      "text/html": [
       "<div>\n",
       "<style scoped>\n",
       "    .dataframe tbody tr th:only-of-type {\n",
       "        vertical-align: middle;\n",
       "    }\n",
       "\n",
       "    .dataframe tbody tr th {\n",
       "        vertical-align: top;\n",
       "    }\n",
       "\n",
       "    .dataframe thead th {\n",
       "        text-align: right;\n",
       "    }\n",
       "</style>\n",
       "<table border=\"1\" class=\"dataframe\">\n",
       "  <thead>\n",
       "    <tr style=\"text-align: right;\">\n",
       "      <th></th>\n",
       "      <th>Method</th>\n",
       "      <th>Train MAE</th>\n",
       "      <th>Train MSE</th>\n",
       "      <th>Train RMSE</th>\n",
       "      <th>Train R2</th>\n",
       "      <th>Test MAE</th>\n",
       "      <th>Test MSE</th>\n",
       "      <th>Test RMSE</th>\n",
       "      <th>Test R2</th>\n",
       "    </tr>\n",
       "  </thead>\n",
       "  <tbody>\n",
       "    <tr>\n",
       "      <th>0</th>\n",
       "      <td>Random Forest</td>\n",
       "      <td>0.05274</td>\n",
       "      <td>0.009711</td>\n",
       "      <td>0.098545</td>\n",
       "      <td>0.359425</td>\n",
       "      <td>0.050236</td>\n",
       "      <td>0.008766</td>\n",
       "      <td>0.093626</td>\n",
       "      <td>0.36035</td>\n",
       "    </tr>\n",
       "  </tbody>\n",
       "</table>\n",
       "</div>"
      ],
      "text/plain": [
       "          Method Train MAE Train MSE Train RMSE  Train R2  Test MAE  Test MSE  \\\n",
       "0  Random Forest   0.05274  0.009711   0.098545  0.359425  0.050236  0.008766   \n",
       "\n",
       "  Test RMSE  Test R2  \n",
       "0  0.093626  0.36035  "
      ]
     },
     "execution_count": 44,
     "metadata": {},
     "output_type": "execute_result"
    }
   ],
   "source": [
    "rf1_results = pd.DataFrame(['Random Forest', rf1_train_mae, rf1_train_mse, rf1_train_rmse, rf1_train_r2, rf1_test_mae, rf1_test_mse, rf1_test_rmse, rf1_test_r2]).transpose()\n",
    "rf1_results.columns = metric_col_names\n",
    "rf1_results"
   ]
  },
  {
   "cell_type": "markdown",
   "id": "1b0c013e",
   "metadata": {},
   "source": [
    "Want to add all the results to a single table."
   ]
  },
  {
   "cell_type": "code",
   "execution_count": 45,
   "id": "28e1bc16",
   "metadata": {},
   "outputs": [
    {
     "data": {
      "text/html": [
       "<div>\n",
       "<style scoped>\n",
       "    .dataframe tbody tr th:only-of-type {\n",
       "        vertical-align: middle;\n",
       "    }\n",
       "\n",
       "    .dataframe tbody tr th {\n",
       "        vertical-align: top;\n",
       "    }\n",
       "\n",
       "    .dataframe thead th {\n",
       "        text-align: right;\n",
       "    }\n",
       "</style>\n",
       "<table border=\"1\" class=\"dataframe\">\n",
       "  <thead>\n",
       "    <tr style=\"text-align: right;\">\n",
       "      <th></th>\n",
       "      <th>Method</th>\n",
       "      <th>Train MAE</th>\n",
       "      <th>Train MSE</th>\n",
       "      <th>Train RMSE</th>\n",
       "      <th>Train R2</th>\n",
       "      <th>Test MAE</th>\n",
       "      <th>Test MSE</th>\n",
       "      <th>Test RMSE</th>\n",
       "      <th>Test R2</th>\n",
       "    </tr>\n",
       "  </thead>\n",
       "  <tbody>\n",
       "    <tr>\n",
       "      <th>0</th>\n",
       "      <td>Baseline</td>\n",
       "      <td>0.074668</td>\n",
       "      <td>0.01516</td>\n",
       "      <td>0.123127</td>\n",
       "      <td>0.0</td>\n",
       "      <td>0.070293</td>\n",
       "      <td>0.013719</td>\n",
       "      <td>0.117129</td>\n",
       "      <td>-0.001102</td>\n",
       "    </tr>\n",
       "    <tr>\n",
       "      <th>1</th>\n",
       "      <td>k Nearest Neighbor</td>\n",
       "      <td>0.051946</td>\n",
       "      <td>0.009549</td>\n",
       "      <td>0.097718</td>\n",
       "      <td>0.370132</td>\n",
       "      <td>0.050506</td>\n",
       "      <td>0.009057</td>\n",
       "      <td>0.09517</td>\n",
       "      <td>0.339073</td>\n",
       "    </tr>\n",
       "    <tr>\n",
       "      <th>2</th>\n",
       "      <td>SVR</td>\n",
       "      <td>0.409657</td>\n",
       "      <td>0.176137</td>\n",
       "      <td>0.419686</td>\n",
       "      <td>-10.618404</td>\n",
       "      <td>0.413098</td>\n",
       "      <td>0.177814</td>\n",
       "      <td>0.42168</td>\n",
       "      <td>-0.000998</td>\n",
       "    </tr>\n",
       "    <tr>\n",
       "      <th>3</th>\n",
       "      <td>Random Forest</td>\n",
       "      <td>0.05274</td>\n",
       "      <td>0.009711</td>\n",
       "      <td>0.098545</td>\n",
       "      <td>0.359425</td>\n",
       "      <td>0.050236</td>\n",
       "      <td>0.008766</td>\n",
       "      <td>0.093626</td>\n",
       "      <td>0.36035</td>\n",
       "    </tr>\n",
       "  </tbody>\n",
       "</table>\n",
       "</div>"
      ],
      "text/plain": [
       "               Method Train MAE Train MSE Train RMSE   Train R2  Test MAE  \\\n",
       "0            Baseline  0.074668   0.01516   0.123127        0.0  0.070293   \n",
       "1  k Nearest Neighbor  0.051946  0.009549   0.097718   0.370132  0.050506   \n",
       "2                 SVR  0.409657  0.176137   0.419686 -10.618404  0.413098   \n",
       "3       Random Forest   0.05274  0.009711   0.098545   0.359425  0.050236   \n",
       "\n",
       "   Test MSE Test RMSE   Test R2  \n",
       "0  0.013719  0.117129 -0.001102  \n",
       "1  0.009057   0.09517  0.339073  \n",
       "2  0.177814   0.42168 -0.000998  \n",
       "3  0.008766  0.093626   0.36035  "
      ]
     },
     "execution_count": 45,
     "metadata": {},
     "output_type": "execute_result"
    }
   ],
   "source": [
    "results_1 = pd.concat([prediction_1, knn_results_1, svr_results_1, rf1_results], axis = 0, ignore_index = True)\n",
    "results_1 "
   ]
  },
  {
   "cell_type": "markdown",
   "id": "bc006556",
   "metadata": {},
   "source": [
    "### Bootstrap Confidence Intervals"
   ]
  },
  {
   "cell_type": "markdown",
   "id": "656be56c",
   "metadata": {},
   "source": [
    "For this section, want to develop logic to use bootstrap method to configure confidence interval."
   ]
  },
  {
   "cell_type": "code",
   "execution_count": 46,
   "id": "cb442e77",
   "metadata": {},
   "outputs": [
    {
     "data": {
      "text/html": [
       "<div>\n",
       "<style scoped>\n",
       "    .dataframe tbody tr th:only-of-type {\n",
       "        vertical-align: middle;\n",
       "    }\n",
       "\n",
       "    .dataframe tbody tr th {\n",
       "        vertical-align: top;\n",
       "    }\n",
       "\n",
       "    .dataframe thead th {\n",
       "        text-align: right;\n",
       "    }\n",
       "</style>\n",
       "<table border=\"1\" class=\"dataframe\">\n",
       "  <thead>\n",
       "    <tr style=\"text-align: right;\">\n",
       "      <th></th>\n",
       "      <th>orbitperiod</th>\n",
       "      <th>eccentricity</th>\n",
       "    </tr>\n",
       "    <tr>\n",
       "      <th>planetname</th>\n",
       "      <th></th>\n",
       "      <th></th>\n",
       "    </tr>\n",
       "  </thead>\n",
       "  <tbody>\n",
       "    <tr>\n",
       "      <th>11 Com b</th>\n",
       "      <td>2.226632</td>\n",
       "      <td>0.115500</td>\n",
       "    </tr>\n",
       "    <tr>\n",
       "      <th>11 UMi b</th>\n",
       "      <td>2.541344</td>\n",
       "      <td>0.053333</td>\n",
       "    </tr>\n",
       "    <tr>\n",
       "      <th>14 And b</th>\n",
       "      <td>1.993072</td>\n",
       "      <td>0.000000</td>\n",
       "    </tr>\n",
       "    <tr>\n",
       "      <th>14 Her b</th>\n",
       "      <td>3.180642</td>\n",
       "      <td>0.361486</td>\n",
       "    </tr>\n",
       "    <tr>\n",
       "      <th>16 Cyg B b</th>\n",
       "      <td>2.902751</td>\n",
       "      <td>0.676033</td>\n",
       "    </tr>\n",
       "    <tr>\n",
       "      <th>...</th>\n",
       "      <td>...</td>\n",
       "      <td>...</td>\n",
       "    </tr>\n",
       "    <tr>\n",
       "      <th>ups And b</th>\n",
       "      <td>0.664287</td>\n",
       "      <td>0.030200</td>\n",
       "    </tr>\n",
       "    <tr>\n",
       "      <th>ups And c</th>\n",
       "      <td>2.381528</td>\n",
       "      <td>0.238933</td>\n",
       "    </tr>\n",
       "    <tr>\n",
       "      <th>ups And d</th>\n",
       "      <td>3.109020</td>\n",
       "      <td>0.281117</td>\n",
       "    </tr>\n",
       "    <tr>\n",
       "      <th>ups Leo b</th>\n",
       "      <td>2.585686</td>\n",
       "      <td>0.320000</td>\n",
       "    </tr>\n",
       "    <tr>\n",
       "      <th>xi Aql b</th>\n",
       "      <td>1.868482</td>\n",
       "      <td>0.000000</td>\n",
       "    </tr>\n",
       "  </tbody>\n",
       "</table>\n",
       "<p>5021 rows × 2 columns</p>\n",
       "</div>"
      ],
      "text/plain": [
       "            orbitperiod  eccentricity\n",
       "planetname                           \n",
       "11 Com b       2.226632      0.115500\n",
       "11 UMi b       2.541344      0.053333\n",
       "14 And b       1.993072      0.000000\n",
       "14 Her b       3.180642      0.361486\n",
       "16 Cyg B b     2.902751      0.676033\n",
       "...                 ...           ...\n",
       "ups And b      0.664287      0.030200\n",
       "ups And c      2.381528      0.238933\n",
       "ups And d      3.109020      0.281117\n",
       "ups Leo b      2.585686      0.320000\n",
       "xi Aql b       1.868482      0.000000\n",
       "\n",
       "[5021 rows x 2 columns]"
      ]
     },
     "execution_count": 46,
     "metadata": {},
     "output_type": "execute_result"
    }
   ],
   "source": [
    "df2_log = pd.concat([np.log10(orbper), eccen], axis = 1)\n",
    "df2_log"
   ]
  },
  {
   "cell_type": "code",
   "execution_count": 47,
   "id": "71034ad4",
   "metadata": {},
   "outputs": [
    {
     "data": {
      "text/plain": [
       "array([[2.22663174, 0.1155    ],\n",
       "       [2.54134401, 0.05333333],\n",
       "       [1.99307168, 0.        ],\n",
       "       ...,\n",
       "       [3.10902011, 0.28111667],\n",
       "       [2.58568628, 0.32      ],\n",
       "       [1.86848193, 0.        ]])"
      ]
     },
     "execution_count": 47,
     "metadata": {},
     "output_type": "execute_result"
    }
   ],
   "source": [
    "df2_log.values"
   ]
  },
  {
   "cell_type": "code",
   "execution_count": 48,
   "id": "cd55721d",
   "metadata": {},
   "outputs": [
    {
     "data": {
      "text/plain": [
       "pandas.core.frame.DataFrame"
      ]
     },
     "execution_count": 48,
     "metadata": {},
     "output_type": "execute_result"
    }
   ],
   "source": [
    "type(df2_log)"
   ]
  },
  {
   "cell_type": "code",
   "execution_count": 49,
   "id": "47f4c811",
   "metadata": {},
   "outputs": [],
   "source": [
    "#plt.hist(a1, color = '#4db32e', edgecolor = 'red') #<- Good color scheme\n",
    "#plt.hist(a2, color = '#ad6dcf', edgecolor = 'white')"
   ]
  },
  {
   "cell_type": "markdown",
   "id": "57e2068a",
   "metadata": {},
   "source": [
    "### Plotting Case 1"
   ]
  },
  {
   "cell_type": "markdown",
   "id": "0cab499a",
   "metadata": {},
   "source": [
    "Want to make a quick calculation of the residuals in this prediction and actual values evaluation."
   ]
  },
  {
   "cell_type": "code",
   "execution_count": 50,
   "id": "fbb0ca2c",
   "metadata": {
    "scrolled": true
   },
   "outputs": [
    {
     "data": {
      "image/png": "[encoded data removed]",
      "text/plain": [
       "<Figure size 864x864 with 1 Axes>"
      ]
     },
     "metadata": {},
     "output_type": "display_data"
    }
   ],
   "source": [
    "true_values_1 = y1_test\n",
    "predicted_values1_1 = y_knn_test_pred_1\n",
    "predicted_values1_2 = y_svr_test_pred_1\n",
    "predicted_values1_3 = y_rf_test_pred_1\n",
    "plt.figure(figsize = (12, 12))\n",
    "# kNN model\n",
    "knn_1 = plt.scatter(x = true_values_1, y = predicted_values1_1, c = '#68d631')\n",
    "# SVR model\n",
    "svr_1 = plt.scatter(x = true_values_1, y = predicted_values1_2, c = '#2a7505', marker = 's')\n",
    "# Random Forest model\n",
    "rf_1 = plt.scatter(x = true_values_1, y = predicted_values1_3, c = '#addb95', marker = 'x')\n",
    "p1 = max(max(predicted_values1_1), max(predicted_values1_2), max(predicted_values1_3), max(true_values_1))\n",
    "p2 = min(min(predicted_values1_1), min(predicted_values1_2), min(predicted_values1_3), min(true_values_1))\n",
    "plt.plot([p1, p2], [p1, p2], 'b-')\n",
    "plt.title('Prediction and Actual Values - Case I')\n",
    "plt.xlabel('Actual Values')\n",
    "plt.ylabel('Predicted Values')\n",
    "plt.legend([knn_1, svr_1, rf_1], ['kNN', 'SVR', 'RF'], loc = 'upper left')\n",
    "plt.savefig('pred_vs_actual_1.png',dpi=600)\n",
    "plt.show()"
   ]
  },
  {
   "cell_type": "markdown",
   "id": "6eecc1c1",
   "metadata": {},
   "source": [
    "Want to plot the residuals and see if there are any obvious patterns. Another name is the Versus Fit."
   ]
  },
  {
   "cell_type": "code",
   "execution_count": 51,
   "id": "229f8fe6",
   "metadata": {},
   "outputs": [
    {
     "data": {
      "image/png": "[encoded data removed]",
      "text/plain": [
       "<Figure size 864x864 with 1 Axes>"
      ]
     },
     "metadata": {},
     "output_type": "display_data"
    }
   ],
   "source": [
    "# Will invoke for loop to calculate residulas for the three different models.\n",
    "residuals1_1 = list()\n",
    "for item1, item2 in zip(true_values_1, predicted_values1_1):\n",
    "    residuals1_1.append(item1 - item2)\n",
    "residuals1_2 = list()\n",
    "for item3, item4 in zip(true_values_1, predicted_values1_2):\n",
    "    residuals1_2.append(item3 - item4)\n",
    "residuals1_3 = list()\n",
    "for item5, item6 in zip(true_values_1, predicted_values1_3):\n",
    "    residuals1_3.append(item5 - item6)\n",
    "\n",
    "plt.figure(figsize = (12, 12))\n",
    "# kNN model\n",
    "knn_resid_1 = plt.scatter(x = predicted_values1_1, y = residuals1_1, c = '#cd30f0')\n",
    "# SVR model\n",
    "svr_resid_1 = plt.scatter(x = predicted_values1_2, y = residuals1_2, c = '#b391ba', marker = 's')\n",
    "# Random Forest model\n",
    "rf_resid_1 = plt.scatter(x = predicted_values1_3, y = residuals1_3, c = '#e2c8e8', marker = 'x')\n",
    "\n",
    "plt.title('Residuals versus Fitted values - Case I')\n",
    "plt.xlabel('Fitted Values') # <- Predicted Values\n",
    "plt.ylabel('Residuals')\n",
    "plt.legend([knn_resid_1, svr_resid_1, rf_resid_1], ['kNN', 'SVR', 'RF'], loc = 'upper right')\n",
    "plt.axhline(y = 0.0, color = '#034b8a', linestyle = '--')\n",
    "plt.savefig('resid_1.png',dpi=600)\n",
    "plt.show()"
   ]
  },
  {
   "cell_type": "markdown",
   "id": "1730a94b",
   "metadata": {},
   "source": [
    "There is an obvious pattern in the residuals plot."
   ]
  },
  {
   "cell_type": "code",
   "execution_count": 52,
   "id": "583af4b9",
   "metadata": {},
   "outputs": [
    {
     "data": {
      "text/plain": [
       "(array([841.,  72.,  38.,  15.,  10.,  12.,   4.,   4.,   3.,   6.]),\n",
       " array([-0.4515, -0.3675, -0.2835, -0.1995, -0.1155, -0.0315,  0.0525,\n",
       "         0.1365,  0.2205,  0.3045,  0.3885]),\n",
       " <BarContainer object of 10 artists>)"
      ]
     },
     "execution_count": 52,
     "metadata": {},
     "output_type": "execute_result"
    },
    {
     "data": {
      "image/png": "[encoded data removed]",
      "text/plain": [
       "<Figure size 432x288 with 1 Axes>"
      ]
     },
     "metadata": {},
     "output_type": "display_data"
    }
   ],
   "source": [
    "plt.hist(residuals1_2, color = \"teal\", edgecolor = 'white')"
   ]
  },
  {
   "cell_type": "markdown",
   "id": "c1e2da66",
   "metadata": {},
   "source": [
    "### Scenario 2 - temperature as function of planet mass"
   ]
  },
  {
   "cell_type": "markdown",
   "id": "29298fbb",
   "metadata": {},
   "source": [
    "Now want to begin analysis of equilibrium temperature as a function of planet size."
   ]
  },
  {
   "cell_type": "code",
   "execution_count": 53,
   "id": "cad100eb",
   "metadata": {},
   "outputs": [
    {
     "data": {
      "text/html": [
       "<div>\n",
       "<style scoped>\n",
       "    .dataframe tbody tr th:only-of-type {\n",
       "        vertical-align: middle;\n",
       "    }\n",
       "\n",
       "    .dataframe tbody tr th {\n",
       "        vertical-align: top;\n",
       "    }\n",
       "\n",
       "    .dataframe thead th {\n",
       "        text-align: right;\n",
       "    }\n",
       "</style>\n",
       "<table border=\"1\" class=\"dataframe\">\n",
       "  <thead>\n",
       "    <tr style=\"text-align: right;\">\n",
       "      <th></th>\n",
       "      <th>pl_name</th>\n",
       "      <th>pl_bmassj</th>\n",
       "      <th>pl_eqt</th>\n",
       "    </tr>\n",
       "  </thead>\n",
       "  <tbody>\n",
       "    <tr>\n",
       "      <th>0</th>\n",
       "      <td>11 Com b</td>\n",
       "      <td>19.40</td>\n",
       "      <td>NaN</td>\n",
       "    </tr>\n",
       "    <tr>\n",
       "      <th>1</th>\n",
       "      <td>11 Com b</td>\n",
       "      <td>17.10</td>\n",
       "      <td>NaN</td>\n",
       "    </tr>\n",
       "    <tr>\n",
       "      <th>2</th>\n",
       "      <td>11 UMi b</td>\n",
       "      <td>10.80</td>\n",
       "      <td>NaN</td>\n",
       "    </tr>\n",
       "    <tr>\n",
       "      <th>3</th>\n",
       "      <td>11 UMi b</td>\n",
       "      <td>14.74</td>\n",
       "      <td>NaN</td>\n",
       "    </tr>\n",
       "    <tr>\n",
       "      <th>4</th>\n",
       "      <td>11 UMi b</td>\n",
       "      <td>10.50</td>\n",
       "      <td>NaN</td>\n",
       "    </tr>\n",
       "    <tr>\n",
       "      <th>...</th>\n",
       "      <td>...</td>\n",
       "      <td>...</td>\n",
       "      <td>...</td>\n",
       "    </tr>\n",
       "    <tr>\n",
       "      <th>32511</th>\n",
       "      <td>ups And d</td>\n",
       "      <td>4.10</td>\n",
       "      <td>NaN</td>\n",
       "    </tr>\n",
       "    <tr>\n",
       "      <th>32512</th>\n",
       "      <td>ups And d</td>\n",
       "      <td>10.25</td>\n",
       "      <td>NaN</td>\n",
       "    </tr>\n",
       "    <tr>\n",
       "      <th>32513</th>\n",
       "      <td>ups Leo b</td>\n",
       "      <td>0.51</td>\n",
       "      <td>NaN</td>\n",
       "    </tr>\n",
       "    <tr>\n",
       "      <th>32514</th>\n",
       "      <td>xi Aql b</td>\n",
       "      <td>2.02</td>\n",
       "      <td>NaN</td>\n",
       "    </tr>\n",
       "    <tr>\n",
       "      <th>32515</th>\n",
       "      <td>xi Aql b</td>\n",
       "      <td>2.80</td>\n",
       "      <td>NaN</td>\n",
       "    </tr>\n",
       "  </tbody>\n",
       "</table>\n",
       "<p>32516 rows × 3 columns</p>\n",
       "</div>"
      ],
      "text/plain": [
       "         pl_name  pl_bmassj  pl_eqt\n",
       "0       11 Com b      19.40     NaN\n",
       "1       11 Com b      17.10     NaN\n",
       "2       11 UMi b      10.80     NaN\n",
       "3       11 UMi b      14.74     NaN\n",
       "4       11 UMi b      10.50     NaN\n",
       "...          ...        ...     ...\n",
       "32511  ups And d       4.10     NaN\n",
       "32512  ups And d      10.25     NaN\n",
       "32513  ups Leo b       0.51     NaN\n",
       "32514   xi Aql b       2.02     NaN\n",
       "32515   xi Aql b       2.80     NaN\n",
       "\n",
       "[32516 rows x 3 columns]"
      ]
     },
     "execution_count": 53,
     "metadata": {},
     "output_type": "execute_result"
    }
   ],
   "source": [
    "df3 = raw_data.loc[:, ['pl_name','pl_bmassj','pl_eqt']]\n",
    "df3"
   ]
  },
  {
   "cell_type": "code",
   "execution_count": 54,
   "id": "73c8963a",
   "metadata": {},
   "outputs": [
    {
     "data": {
      "text/html": [
       "<div>\n",
       "<style scoped>\n",
       "    .dataframe tbody tr th:only-of-type {\n",
       "        vertical-align: middle;\n",
       "    }\n",
       "\n",
       "    .dataframe tbody tr th {\n",
       "        vertical-align: top;\n",
       "    }\n",
       "\n",
       "    .dataframe thead th {\n",
       "        text-align: right;\n",
       "    }\n",
       "</style>\n",
       "<table border=\"1\" class=\"dataframe\">\n",
       "  <thead>\n",
       "    <tr style=\"text-align: right;\">\n",
       "      <th></th>\n",
       "      <th>planetname</th>\n",
       "      <th>mass</th>\n",
       "      <th>temperature</th>\n",
       "    </tr>\n",
       "  </thead>\n",
       "  <tbody>\n",
       "    <tr>\n",
       "      <th>0</th>\n",
       "      <td>11 Com b</td>\n",
       "      <td>19.40</td>\n",
       "      <td>785.0</td>\n",
       "    </tr>\n",
       "    <tr>\n",
       "      <th>1</th>\n",
       "      <td>11 Com b</td>\n",
       "      <td>17.10</td>\n",
       "      <td>785.0</td>\n",
       "    </tr>\n",
       "    <tr>\n",
       "      <th>2</th>\n",
       "      <td>11 UMi b</td>\n",
       "      <td>10.80</td>\n",
       "      <td>785.0</td>\n",
       "    </tr>\n",
       "    <tr>\n",
       "      <th>3</th>\n",
       "      <td>11 UMi b</td>\n",
       "      <td>14.74</td>\n",
       "      <td>785.0</td>\n",
       "    </tr>\n",
       "    <tr>\n",
       "      <th>4</th>\n",
       "      <td>11 UMi b</td>\n",
       "      <td>10.50</td>\n",
       "      <td>785.0</td>\n",
       "    </tr>\n",
       "    <tr>\n",
       "      <th>...</th>\n",
       "      <td>...</td>\n",
       "      <td>...</td>\n",
       "      <td>...</td>\n",
       "    </tr>\n",
       "    <tr>\n",
       "      <th>32511</th>\n",
       "      <td>ups And d</td>\n",
       "      <td>4.10</td>\n",
       "      <td>785.0</td>\n",
       "    </tr>\n",
       "    <tr>\n",
       "      <th>32512</th>\n",
       "      <td>ups And d</td>\n",
       "      <td>10.25</td>\n",
       "      <td>785.0</td>\n",
       "    </tr>\n",
       "    <tr>\n",
       "      <th>32513</th>\n",
       "      <td>ups Leo b</td>\n",
       "      <td>0.51</td>\n",
       "      <td>785.0</td>\n",
       "    </tr>\n",
       "    <tr>\n",
       "      <th>32514</th>\n",
       "      <td>xi Aql b</td>\n",
       "      <td>2.02</td>\n",
       "      <td>785.0</td>\n",
       "    </tr>\n",
       "    <tr>\n",
       "      <th>32515</th>\n",
       "      <td>xi Aql b</td>\n",
       "      <td>2.80</td>\n",
       "      <td>785.0</td>\n",
       "    </tr>\n",
       "  </tbody>\n",
       "</table>\n",
       "<p>32516 rows × 3 columns</p>\n",
       "</div>"
      ],
      "text/plain": [
       "      planetname   mass  temperature\n",
       "0       11 Com b  19.40        785.0\n",
       "1       11 Com b  17.10        785.0\n",
       "2       11 UMi b  10.80        785.0\n",
       "3       11 UMi b  14.74        785.0\n",
       "4       11 UMi b  10.50        785.0\n",
       "...          ...    ...          ...\n",
       "32511  ups And d   4.10        785.0\n",
       "32512  ups And d  10.25        785.0\n",
       "32513  ups Leo b   0.51        785.0\n",
       "32514   xi Aql b   2.02        785.0\n",
       "32515   xi Aql b   2.80        785.0\n",
       "\n",
       "[32516 rows x 3 columns]"
      ]
     },
     "execution_count": 54,
     "metadata": {},
     "output_type": "execute_result"
    }
   ],
   "source": [
    "df3 = df3.rename(columns={'pl_name':'planetname', 'pl_bmassj':'mass', 'pl_eqt':'temperature'})\n",
    "#df3 = df3.dropna()\n",
    "df3 = df3.fillna(df3.median(numeric_only=True))\n",
    "df3"
   ]
  },
  {
   "cell_type": "code",
   "execution_count": 55,
   "id": "8a863df9",
   "metadata": {},
   "outputs": [],
   "source": [
    "mass = df3.groupby('planetname')['mass'].mean()\n",
    "temp = df3.groupby('planetname')['temperature'].mean()"
   ]
  },
  {
   "cell_type": "markdown",
   "id": "64232d02",
   "metadata": {},
   "source": [
    "Want the length of both variables for reporting."
   ]
  },
  {
   "cell_type": "code",
   "execution_count": 56,
   "id": "55ca4ee7",
   "metadata": {},
   "outputs": [
    {
     "name": "stdout",
     "output_type": "stream",
     "text": [
      "The length of predictor (mass) is:  5021\n"
     ]
    }
   ],
   "source": [
    "print(\"The length of predictor (mass) is: \", len(mass.index))"
   ]
  },
  {
   "cell_type": "code",
   "execution_count": 57,
   "id": "17f4fc1c",
   "metadata": {},
   "outputs": [
    {
     "name": "stdout",
     "output_type": "stream",
     "text": [
      "The length of response (temperature) is:  5021\n"
     ]
    }
   ],
   "source": [
    "print(\"The length of response (temperature) is: \", len(mass.index))"
   ]
  },
  {
   "cell_type": "code",
   "execution_count": 58,
   "id": "ce4f5854",
   "metadata": {},
   "outputs": [
    {
     "name": "stdout",
     "output_type": "stream",
     "text": [
      "planetname\n",
      "11 Com b      18.250000\n",
      "11 UMi b      12.013333\n",
      "14 And b       4.000000\n",
      "14 Her b       4.755429\n",
      "16 Cyg B b     1.678667\n",
      "                ...    \n",
      "ups And b      0.692086\n",
      "ups And c      4.012667\n",
      "ups And d      5.085333\n",
      "ups Leo b      0.510000\n",
      "xi Aql b       2.410000\n",
      "Name: mass, Length: 5021, dtype: float64\n",
      "planetname\n",
      "11 Com b      785.0\n",
      "11 UMi b      785.0\n",
      "14 And b      785.0\n",
      "14 Her b      785.0\n",
      "16 Cyg B b    785.0\n",
      "              ...  \n",
      "ups And b     785.0\n",
      "ups And c     785.0\n",
      "ups And d     785.0\n",
      "ups Leo b     785.0\n",
      "xi Aql b      785.0\n",
      "Name: temperature, Length: 5021, dtype: float64\n"
     ]
    }
   ],
   "source": [
    "print(mass)\n",
    "print(temp)"
   ]
  },
  {
   "cell_type": "markdown",
   "id": "d1b11249",
   "metadata": {},
   "source": [
    "Want some summary statistics for the new two variables."
   ]
  },
  {
   "cell_type": "code",
   "execution_count": 59,
   "id": "026f48d0",
   "metadata": {},
   "outputs": [
    {
     "name": "stdout",
     "output_type": "stream",
     "text": [
      "\n",
      "The median mass: 0.7800\n",
      "\n",
      "The median temperature: 785.00\n",
      "\n",
      "The interquartile range of the mass: 0.00\n",
      "\n",
      "The interquartile range of the temperature: 172.68\n",
      "\n",
      "The mode for the mass: 0.78\n",
      "\n",
      "The mode for the temperature: 785.00\n",
      "\n",
      "The mean for the mass: 1.37\n",
      "\n",
      "The mean for the planetary temperature: 834.72\n"
     ]
    }
   ],
   "source": [
    "mass_med = statistics.median(list(mass))\n",
    "temp_med = statistics.median(list(temp))\n",
    "print('\\nThe median mass: %.4f' % mass_med)\n",
    "print('\\nThe median temperature: %.2f' % temp_med)\n",
    "iqr_mass = stats.iqr(mass, interpolation = 'midpoint')\n",
    "iqr_temp = stats.iqr(temp, interpolation = 'midpoint')\n",
    "print('\\nThe interquartile range of the mass: %.2f' % iqr_mass)\n",
    "print('\\nThe interquartile range of the temperature: %.2f' % iqr_temp)\n",
    "mass_mode = statistics.mode(list(mass))\n",
    "print('\\nThe mode for the mass: %.2f' % mass_mode)\n",
    "temp_mode = statistics.mode(list(temp))\n",
    "print('\\nThe mode for the temperature: %.2f' % temp_mode)\n",
    "mass_avg = statistics.mean(list(mass))\n",
    "print('\\nThe mean for the mass: %.2f' % mass_avg)\n",
    "temp_avg = statistics.mean(list(temp))\n",
    "print('\\nThe mean for the planetary temperature: %.2f' % temp_avg)"
   ]
  },
  {
   "cell_type": "code",
   "execution_count": 60,
   "id": "b9584ccf",
   "metadata": {},
   "outputs": [
    {
     "data": {
      "image/png": "[encoded data removed]",
      "text/plain": [
       "<Figure size 648x504 with 4 Axes>"
      ]
     },
     "metadata": {},
     "output_type": "display_data"
    }
   ],
   "source": [
    "# First, perform log base 10 transform\n",
    "mass_log = np.log10(mass)\n",
    "temp_log = np.log10(temp)\n",
    "# Plotting Logic\n",
    "fig2, ax2 = plt.subplots(2, 2,figsize = (9, 7))\n",
    "fig2.suptitle('Histograms - Case 2')\n",
    "ax2[0, 0].hist(mass, color = 'blueviolet', edgecolor = 'white')\n",
    "#ax2[0, 0].set_title('') #<- use this logic to give each plot its own title.\n",
    "ax2[0, 0].set(xlabel = 'planet mass (Jupiter mass)')\n",
    "ax2[0, 1].hist(mass_log, color = 'blueviolet', edgecolor = 'red')\n",
    "ax2[0, 1].set(xlabel = 'log10(planet mass)')\n",
    "ax2[1, 0].hist(temp, color = 'teal', edgecolor = 'white')\n",
    "ax2[1, 0].set(xlabel = 'equilibrium temperature')\n",
    "ax2[1, 1].hist(temp_log, color = 'teal', edgecolor = 'red')\n",
    "ax2[1, 1].set(xlabel = 'log10(equilibrium temperature)')\n",
    "\n",
    "for ax in ax1.flat:\n",
    "    ax.set(ylabel = 'Frequency')\n",
    "plt.savefig('histograms_2.png',dpi=600)\n",
    "fig2.tight_layout()"
   ]
  },
  {
   "cell_type": "markdown",
   "id": "8bcbf1e4",
   "metadata": {},
   "source": [
    "The distribution became more normally distributed when applying the log base 10 transformation on the dataset."
   ]
  },
  {
   "cell_type": "markdown",
   "id": "cf3d418e",
   "metadata": {},
   "source": [
    "In this case, the dataset became skew left when the logarithmic transformation was applied."
   ]
  },
  {
   "cell_type": "markdown",
   "id": "49b003f0",
   "metadata": {},
   "source": [
    "Will now split the data into their respective sets."
   ]
  },
  {
   "cell_type": "code",
   "execution_count": 61,
   "id": "958ca1ce",
   "metadata": {},
   "outputs": [],
   "source": [
    "X2 = np.array(mass).reshape(-1,1)\n",
    "y2 = np.array(temp).reshape(-1, 1)\n",
    "X2_train, X2_test, y2_train, y2_test = train_test_split(X2, y2, train_size = 0.80, random_state = 25)\n",
    "y2_train = y2_train.reshape(len(y2_train), )\n",
    "y2_test = y2_test.reshape(len(y2_test), )"
   ]
  },
  {
   "cell_type": "code",
   "execution_count": 62,
   "id": "6529f830",
   "metadata": {},
   "outputs": [],
   "source": [
    "# Sample timing logic to track seconds to complete the script.\n",
    "#execution_time_0 = (time.time() - start_time_0)\n",
    "#print('Execution time in seconds: ' + str(execution_time_0))"
   ]
  },
  {
   "cell_type": "code",
   "execution_count": 63,
   "id": "5cffd052",
   "metadata": {},
   "outputs": [],
   "source": [
    "# Establishing baselines for predictions according to the y-variable or response variable.\n",
    "y_baseline_2= y2_train.mean()\n",
    "#y_baseline_2= statistics.median(y2_train)\n",
    "y_pred_train_2 = [y_baseline_2]*len(y2_train) #<- Training Baseline\n",
    "y_pred_test_2 = [y_baseline_2]*len(y2_test)"
   ]
  },
  {
   "cell_type": "code",
   "execution_count": 64,
   "id": "e6b391cc",
   "metadata": {},
   "outputs": [],
   "source": [
    "# Following is for the Training Dataset.\n",
    "# Error for training data baseline guess.\n",
    "mae_train_2 = mean_absolute_error(y2_train, y_pred_train_2)\n",
    "# Mean squared error for training data baseline guess.\n",
    "mse_train_2 = mean_squared_error(y2_train, y_pred_train_2)\n",
    "rmse_train_2 = sqrt(mse_train_2) # <- will compute the root mean square error\n",
    "# R-squared for training data baseline guess.\n",
    "y2_train_r2 = r2_score(y2_train, y_pred_train_2)"
   ]
  },
  {
   "cell_type": "code",
   "execution_count": 65,
   "id": "1d4dee9d",
   "metadata": {},
   "outputs": [],
   "source": [
    "# Error for test data baseline guess.\n",
    "mae_test_2 = mean_absolute_error(y2_test, y_pred_test_2)\n",
    "# Mean squared error for test data baseline guess.\n",
    "mse_test_2 = mean_squared_error(y2_test, y_pred_test_2)\n",
    "# Test Root Mean Square Error\n",
    "rmse_test_2 = sqrt(mse_test_2)\n",
    "# R-squared for test data baseline guess.\n",
    "y2_test_r2 = r2_score(y2_test, y_pred_test_2)"
   ]
  },
  {
   "cell_type": "code",
   "execution_count": 66,
   "id": "7b48d01f",
   "metadata": {},
   "outputs": [
    {
     "data": {
      "text/html": [
       "<div>\n",
       "<style scoped>\n",
       "    .dataframe tbody tr th:only-of-type {\n",
       "        vertical-align: middle;\n",
       "    }\n",
       "\n",
       "    .dataframe tbody tr th {\n",
       "        vertical-align: top;\n",
       "    }\n",
       "\n",
       "    .dataframe thead th {\n",
       "        text-align: right;\n",
       "    }\n",
       "</style>\n",
       "<table border=\"1\" class=\"dataframe\">\n",
       "  <thead>\n",
       "    <tr style=\"text-align: right;\">\n",
       "      <th></th>\n",
       "      <th>Method</th>\n",
       "      <th>Train MAE</th>\n",
       "      <th>Train MSE</th>\n",
       "      <th>Train RMSE</th>\n",
       "      <th>Train R2</th>\n",
       "      <th>Test MAE</th>\n",
       "      <th>Test MSE</th>\n",
       "      <th>Test RMSE</th>\n",
       "      <th>Test R2</th>\n",
       "    </tr>\n",
       "  </thead>\n",
       "  <tbody>\n",
       "    <tr>\n",
       "      <th>0</th>\n",
       "      <td>Baseline</td>\n",
       "      <td>154.936148</td>\n",
       "      <td>59458.81266</td>\n",
       "      <td>243.841778</td>\n",
       "      <td>0.0</td>\n",
       "      <td>152.964182</td>\n",
       "      <td>58835.58403</td>\n",
       "      <td>242.560475</td>\n",
       "      <td>-0.005992</td>\n",
       "    </tr>\n",
       "  </tbody>\n",
       "</table>\n",
       "</div>"
      ],
      "text/plain": [
       "     Method   Train MAE    Train MSE  Train RMSE Train R2    Test MAE  \\\n",
       "0  Baseline  154.936148  59458.81266  243.841778      0.0  152.964182   \n",
       "\n",
       "      Test MSE   Test RMSE   Test R2  \n",
       "0  58835.58403  242.560475 -0.005992  "
      ]
     },
     "execution_count": 66,
     "metadata": {},
     "output_type": "execute_result"
    }
   ],
   "source": [
    "baseline_2 = pd.DataFrame(['Baseline', mae_train_2, mse_train_2, rmse_train_2, y2_train_r2, mae_test_2, mse_test_2, rmse_test_2, y2_test_r2]).T\n",
    "baseline_2.columns = metric_col_names\n",
    "baseline_2"
   ]
  },
  {
   "cell_type": "markdown",
   "id": "93e46273",
   "metadata": {},
   "source": [
    "Recall that the response variable (y) in this case is the mass of the planet (in Jupiter masses) which needs the log base 10 transform."
   ]
  },
  {
   "cell_type": "code",
   "execution_count": 67,
   "id": "16e43a54",
   "metadata": {},
   "outputs": [],
   "source": [
    "X2_train_log, X2_test_log = np.log10(X2_train), np.log10(X2_test)\n",
    "y2_train_log = np.log10(y2_train)"
   ]
  },
  {
   "cell_type": "code",
   "execution_count": 68,
   "id": "d3bcad79",
   "metadata": {
    "scrolled": true
   },
   "outputs": [
    {
     "name": "stdout",
     "output_type": "stream",
     "text": [
      "     k  Test Score  Train Score\n",
      "0    1   -0.941900     0.362928\n",
      "1    2   -0.556911    -0.044193\n",
      "2    3   -0.452249    -0.147083\n",
      "3    4   -0.249177    -0.024620\n",
      "4    5   -0.306171    -0.155364\n",
      "..  ..         ...          ...\n",
      "69  70    0.024048     0.056333\n",
      "70  71    0.024300     0.055938\n",
      "71  72    0.026950     0.054932\n",
      "72  73    0.024077     0.056480\n",
      "73  74    0.023219     0.056094\n",
      "\n",
      "[74 rows x 3 columns]\n",
      "The highest Test R-squared value occurs at : 0.0360\n",
      "Within given range, optimal k is:  35\n"
     ]
    }
   ],
   "source": [
    "# kNN R-squared accuracy\n",
    "knn_r_acc_2 = []\n",
    "for j in range(1, 75, 1):\n",
    "    knn_2 = KNeighborsRegressor(n_neighbors = j)\n",
    "    knn_2.fit(X2_train_log.reshape(-1, 1), y2_train_log.reshape(-1, 1))\n",
    "    test_score_2 = knn_2.score(X2_test_log.reshape(-1, 1), np.log10(y2_test))\n",
    "    train_score_2 = knn_2.score(X2_train_log.reshape(-1, 1), y2_train_log.reshape(-1, 1))\n",
    "    knn_r_acc_2.append((j, test_score_2, train_score_2))\n",
    "outcomes_2 = pd.DataFrame(knn_r_acc_2, columns = ['k', 'Test Score', 'Train Score'])\n",
    "print(outcomes_2)\n",
    "print('The highest Test R-squared value occurs at : %.4f' % outcomes_2.iloc[:,1].max())\n",
    "print('Within given range, optimal k is: ', outcomes_2.loc[outcomes_2['Test Score'] == outcomes_2.iloc[:,1].max(), 'k'].iloc[0])"
   ]
  },
  {
   "cell_type": "code",
   "execution_count": 69,
   "id": "799dc95b",
   "metadata": {},
   "outputs": [
    {
     "name": "stdout",
     "output_type": "stream",
     "text": [
      "Execution time in minutes: 35.43638902902603\n"
     ]
    },
    {
     "data": {
      "image/png": "[encoded data removed]",
      "text/plain": [
       "<Figure size 2592x864 with 3 Axes>"
      ]
     },
     "metadata": {},
     "output_type": "display_data"
    }
   ],
   "source": [
    "start_time_2 = time.time()\n",
    "\n",
    "df3 = pd.concat([np.log10(mass), temp], axis=1)\n",
    "metrics2_1 = ci_bootstrap(df3, KNeighborsRegressor(n_neighbors = 35))\n",
    "\n",
    "# Plotting Logic\n",
    "fig2_2, ax2_2 = plt.subplots(1, 3, figsize = (36, 12))\n",
    "#fig1_2.suptitle('Bootstrap Performance Metrics - Case 1')\n",
    "\n",
    "# Confidence Interval\n",
    "confidence_interval2_1 = list(metrics2_1.quantile([0.025, 0.975]))\n",
    "\n",
    "ax2_2[0].hist(metrics2_1, color='#4db32e', edgecolor = \"red\")\n",
    "ax2_2[0].plot(confidence_interval2_1, [190, 190], color='black')\n",
    "for x2 in confidence_interval2_1:\n",
    "    ax2_2[0].plot([x2, x2], [0, 200], color='black')\n",
    "    ax2_2[0].text(x2, 210, f'{x2:.4f}', \n",
    "            horizontalalignment='center', verticalalignment='center')\n",
    "ax2_2[0].text(sum(confidence_interval2_1) / 2, 60, '95% interval',\n",
    "        horizontalalignment='center', verticalalignment='center')\n",
    "\n",
    "mean_knn_model_2 = metrics2_1.mean()\n",
    "ax2_2[0].plot([mean_knn_model_2, mean_knn_model_2], [0, 195], color='black', linestyle='--')\n",
    "ax2_2[0].text(mean_knn_model_2, 225, f'Mean: {mean_knn_model_2:.4f}',\n",
    "        bbox=dict(facecolor='white', edgecolor='white', alpha=0.5),\n",
    "        horizontalalignment='center', verticalalignment='center')\n",
    "ax2_2[0].set_title('kNN Model 2')\n",
    "\n",
    "# Now for the SVR model\n",
    "eps_2 = 8 #<- hyperparameters used throughout the script\n",
    "hyperparam2 = 1000 #<- hyperparameters used throughout the script\n",
    "metrics2_2 = ci_bootstrap(df3, SVR(kernel = 'rbf', C = hyperparam2, epsilon = eps_2))\n",
    "confidence_interval2_2 = list(metrics2_2.quantile([0.025, 0.975]))\n",
    "\n",
    "ax2_2[1].hist(metrics2_2, color='#7961c9', edgecolor = \"white\")\n",
    "ax2_2[1].plot(confidence_interval2_2, [190, 190], color='black')\n",
    "for x2 in confidence_interval2_2:\n",
    "    ax2_2[1].plot([x2, x2], [0, 200], color='black')\n",
    "    ax2_2[1].text(x2, 210, f'{x2:.4f}', \n",
    "            horizontalalignment='center', verticalalignment='center')\n",
    "ax2_2[1].text(sum(confidence_interval2_2) / 2, 60, '95% interval',\n",
    "        horizontalalignment='center', verticalalignment='center')\n",
    "\n",
    "mean_svr_model_2 = metrics2_2.mean()\n",
    "ax2_2[1].plot([mean_svr_model_2, mean_svr_model_2], [0, 195], color='black', linestyle='--')\n",
    "ax2_2[1].text(mean_svr_model_2, 225, f'Mean: {mean_svr_model_2:.4f}',\n",
    "        bbox=dict(facecolor='white', edgecolor='white', alpha=0.5),\n",
    "        horizontalalignment='center', verticalalignment='center')\n",
    "ax2_2[1].set_title('SVR Model 2')\n",
    "\n",
    "# Now for the Random Forest model\n",
    "metrics2_3 = ci_bootstrap(df3, RandomForestRegressor(max_depth=2))\n",
    "confidence_interval2_3 = list(metrics2_3.quantile([0.025, 0.975]))\n",
    "\n",
    "ax2_2[2].hist(metrics2_3, color='#03dffc', edgecolor = \"black\")\n",
    "ax2_2[2].plot(confidence_interval2_3, [190, 190], color='black')\n",
    "for x2 in confidence_interval2_3:\n",
    "    ax2_2[2].plot([x2, x2], [0, 200], color='black')\n",
    "    ax2_2[2].text(x2, 210, f'{x2:.4f}', \n",
    "            horizontalalignment='center', verticalalignment='center')\n",
    "ax2_2[2].text(sum(confidence_interval2_3) / 2, 60, '95% interval',\n",
    "        horizontalalignment='center', verticalalignment='center')\n",
    "\n",
    "mean_rf_model_2 = metrics2_3.mean()\n",
    "ax2_2[2].plot([mean_rf_model_2, mean_rf_model_2], [0, 195], color='black', linestyle='--')\n",
    "ax2_2[2].text(mean_rf_model_2, 225, f'Mean: {mean_rf_model_2:.4f}',\n",
    "      bbox=dict(facecolor='white', edgecolor='white', alpha=0.5),\n",
    "       horizontalalignment='center', verticalalignment='center')\n",
    "ax2_2[2].set_title('RF Model 2')\n",
    "\n",
    "for ax in ax2_2.flat:\n",
    "    ax.set(ylabel = 'Counts')\n",
    "    #ax.set(xlabel = 'RMSE eccentricity (unitless)')\n",
    "\n",
    "plt.savefig('bootstrap_rmse_2.png',dpi=800)\n",
    "execution_time_2 = (time.time() - start_time_2)\n",
    "print('Execution time in minutes: ' + str(execution_time_2/60))"
   ]
  },
  {
   "cell_type": "code",
   "execution_count": 70,
   "id": "217c6c49",
   "metadata": {},
   "outputs": [
    {
     "data": {
      "image/png": "[encoded data removed]",
      "text/plain": [
       "<Figure size 1296x432 with 3 Axes>"
      ]
     },
     "metadata": {},
     "output_type": "display_data"
    }
   ],
   "source": [
    "#fig_knn1, axs_knn1 = plt.subplots(1, 1, figsize=(7, 7))\n",
    "#x = plt.subplots(1, 1, figsize=(7, 7))\n",
    "\n",
    "\n",
    "#ax = sns.histplot(metrics2_1, kde=True, color=\"skyblue\")\n",
    "\n",
    "#sns.histplot(data=df, x=\"sepal_width\", kde=True, color=\"olive\", ax=axs[0, 1])\n",
    "#sns.histplot(data=df, x=\"petal_length\", kde=True, color=\"gold\", ax=axs[1, 0])\n",
    "#sns.histplot(data=df, x=\"petal_width\", kde=True, color=\"teal\", ax=axs[1, 1])\n",
    "\n",
    "#fig_knn1, axs_knn1 = plt.subplots(1, 3, figsize=(7, 7))\n",
    "\n",
    "fig_knn2, axs_2 = plt.subplots(1, 3, figsize = (18, 6))\n",
    "\n",
    "sns.histplot(metrics2_1, kde=True, color=\"#4db32e\", ax=axs_2[0])\n",
    "sns.histplot(metrics2_2, kde=True, color=\"#7961c9\", ax=axs_2[1])\n",
    "sns.histplot(metrics2_3, kde=True, color=\"#03dffc\", ax=axs_2[2])\n",
    "\n",
    "plt.savefig('sns_example2.png')\n",
    "plt.show()"
   ]
  },
  {
   "cell_type": "code",
   "execution_count": 71,
   "id": "55bc71eb",
   "metadata": {},
   "outputs": [
    {
     "data": {
      "text/plain": [
       "[242.53579103152802, 258.78770696474623]"
      ]
     },
     "execution_count": 71,
     "metadata": {},
     "output_type": "execute_result"
    }
   ],
   "source": [
    "confidence_interval2_3"
   ]
  },
  {
   "cell_type": "code",
   "execution_count": 72,
   "id": "78515c82",
   "metadata": {},
   "outputs": [],
   "source": [
    "model_knn_2 = KNeighborsRegressor(n_neighbors = 35)\n",
    "model_knn_2.fit(X2_train_log.reshape(-1, 1), y2_train_log.reshape(-1, 1))\n",
    "y_knn_train_pred_2_log = model_knn_2.predict(X2_train_log.reshape(-1, 1))\n",
    "y_knn_test_pred_2_log = model_knn_2.predict(X2_test_log.reshape(-1, 1))"
   ]
  },
  {
   "cell_type": "code",
   "execution_count": 73,
   "id": "c4b1caac",
   "metadata": {},
   "outputs": [],
   "source": [
    "y_knn_train_pred_2 = pow(10, y_knn_train_pred_2_log)\n",
    "#y_knn_train_pred_2 = y_knn_train_pred_2_log\n",
    "y_knn_test_pred_2 = pow(10, y_knn_test_pred_2_log)\n",
    "#y_knn_test_pred_2 = y_knn_test_pred_2_log\n",
    "#X2_inverse = pow(10, y_knn_test_pred_2_log) #<- Will cause runtime error that is overflow in power function."
   ]
  },
  {
   "cell_type": "code",
   "execution_count": 74,
   "id": "b910ca31",
   "metadata": {},
   "outputs": [
    {
     "data": {
      "text/html": [
       "<div>\n",
       "<style scoped>\n",
       "    .dataframe tbody tr th:only-of-type {\n",
       "        vertical-align: middle;\n",
       "    }\n",
       "\n",
       "    .dataframe tbody tr th {\n",
       "        vertical-align: top;\n",
       "    }\n",
       "\n",
       "    .dataframe thead th {\n",
       "        text-align: right;\n",
       "    }\n",
       "</style>\n",
       "<table border=\"1\" class=\"dataframe\">\n",
       "  <thead>\n",
       "    <tr style=\"text-align: right;\">\n",
       "      <th></th>\n",
       "      <th>Method</th>\n",
       "      <th>Train MAE</th>\n",
       "      <th>Train MSE</th>\n",
       "      <th>Train RMSE</th>\n",
       "      <th>Train R2</th>\n",
       "      <th>Test MAE</th>\n",
       "      <th>Test MSE</th>\n",
       "      <th>Test RMSE</th>\n",
       "      <th>Test R2</th>\n",
       "    </tr>\n",
       "  </thead>\n",
       "  <tbody>\n",
       "    <tr>\n",
       "      <th>0</th>\n",
       "      <td>k Nearest Neighbor</td>\n",
       "      <td>150.585534</td>\n",
       "      <td>55892.284158</td>\n",
       "      <td>236.415491</td>\n",
       "      <td>0.059983</td>\n",
       "      <td>152.383784</td>\n",
       "      <td>56243.890179</td>\n",
       "      <td>237.157944</td>\n",
       "      <td>0.038322</td>\n",
       "    </tr>\n",
       "  </tbody>\n",
       "</table>\n",
       "</div>"
      ],
      "text/plain": [
       "               Method   Train MAE     Train MSE  Train RMSE  Train R2  \\\n",
       "0  k Nearest Neighbor  150.585534  55892.284158  236.415491  0.059983   \n",
       "\n",
       "     Test MAE      Test MSE   Test RMSE   Test R2  \n",
       "0  152.383784  56243.890179  237.157944  0.038322  "
      ]
     },
     "execution_count": 74,
     "metadata": {},
     "output_type": "execute_result"
    }
   ],
   "source": [
    "# First the training metrics.\n",
    "knn2_train_mae = mean_absolute_error(y2_train, y_knn_train_pred_2)\n",
    "knn2_train_mse = mean_squared_error(y2_train, y_knn_train_pred_2)\n",
    "knn2_train_rmse = sqrt(knn2_train_mse) # <- will compute the root mean square error\n",
    "knn2_train_r2 = r2_score(y2_train, y_knn_train_pred_2)\n",
    "# Now, test set metrics.\n",
    "knn2_test_mae = mean_absolute_error(y2_test, y_knn_test_pred_2)\n",
    "knn2_test_mse = mean_squared_error(y2_test, y_knn_test_pred_2)\n",
    "knn2_test_rmse = sqrt(knn2_test_mse)\n",
    "knn2_test_r2 = r2_score(y2_test, y_knn_test_pred_2)\n",
    "# Consolidate the results.\n",
    "knn_results_2 = pd.DataFrame(['k Nearest Neighbor', knn2_train_mae, knn2_train_mse, knn2_train_rmse, knn2_train_r2, knn2_test_mae, knn2_test_mse, knn2_test_rmse, knn2_test_r2]).transpose()\n",
    "knn_results_2.columns = metric_col_names\n",
    "knn_results_2"
   ]
  },
  {
   "cell_type": "markdown",
   "id": "2604c65a",
   "metadata": {},
   "source": [
    "Now to build Support Vector Regressor model."
   ]
  },
  {
   "cell_type": "code",
   "execution_count": 75,
   "id": "d01a773a",
   "metadata": {},
   "outputs": [],
   "source": [
    "# Setting the hyperparameter\n",
    "eps_2 = 8\n",
    "hyperparam1 = 1000\n",
    "svr_2 = SVR(kernel = 'rbf', C = hyperparam1, epsilon = eps_2)\n",
    "svr_2.fit(X2_train_log, y2_train_log)\n",
    "\n",
    "#y_svr_train_pred_2 = svr_regressor_2.predict(X2_train)\n",
    "y_svr_train_pred_2_log = svr_2.predict(X2_train_log)\n",
    "#y_svr_test_pred_2 = svr_regressor_2.predict(X2_test)\n",
    "y_svr_test_pred_2_log = svr_2.predict(X2_test_log)\n",
    "y_svr_train_pred_2 = pow(10, y_svr_train_pred_2_log)\n",
    "y_svr_test_pred_2 = pow(10, y_svr_test_pred_2_log)"
   ]
  },
  {
   "cell_type": "code",
   "execution_count": 76,
   "id": "ee6a77e5",
   "metadata": {},
   "outputs": [
    {
     "data": {
      "text/html": [
       "<div>\n",
       "<style scoped>\n",
       "    .dataframe tbody tr th:only-of-type {\n",
       "        vertical-align: middle;\n",
       "    }\n",
       "\n",
       "    .dataframe tbody tr th {\n",
       "        vertical-align: top;\n",
       "    }\n",
       "\n",
       "    .dataframe thead th {\n",
       "        text-align: right;\n",
       "    }\n",
       "</style>\n",
       "<table border=\"1\" class=\"dataframe\">\n",
       "  <thead>\n",
       "    <tr style=\"text-align: right;\">\n",
       "      <th></th>\n",
       "      <th>Method</th>\n",
       "      <th>Train MAE</th>\n",
       "      <th>Train MSE</th>\n",
       "      <th>Train RMSE</th>\n",
       "      <th>Train R2</th>\n",
       "      <th>Test MAE</th>\n",
       "      <th>Test MSE</th>\n",
       "      <th>Test RMSE</th>\n",
       "      <th>Test R2</th>\n",
       "    </tr>\n",
       "  </thead>\n",
       "  <tbody>\n",
       "    <tr>\n",
       "      <th>0</th>\n",
       "      <td>SVR</td>\n",
       "      <td>828.36567</td>\n",
       "      <td>745648.496026</td>\n",
       "      <td>863.509407</td>\n",
       "      <td>-11.540588</td>\n",
       "      <td>847.085936</td>\n",
       "      <td>776039.718898</td>\n",
       "      <td>880.931166</td>\n",
       "      <td>-0.171796</td>\n",
       "    </tr>\n",
       "  </tbody>\n",
       "</table>\n",
       "</div>"
      ],
      "text/plain": [
       "  Method  Train MAE      Train MSE  Train RMSE   Train R2    Test MAE  \\\n",
       "0    SVR  828.36567  745648.496026  863.509407 -11.540588  847.085936   \n",
       "\n",
       "        Test MSE   Test RMSE   Test R2  \n",
       "0  776039.718898  880.931166 -0.171796  "
      ]
     },
     "execution_count": 76,
     "metadata": {},
     "output_type": "execute_result"
    }
   ],
   "source": [
    "# Model performance - training set\n",
    "svr2_train_mae = mean_absolute_error(y2_train, y_svr_train_pred_2_log)\n",
    "svr2_train_mse = mean_squared_error(y2_train, y_svr_train_pred_2_log)\n",
    "svr2_train_rmse = sqrt(svr2_train_mse)\n",
    "svr2_train_r2 = r2_score(y2_train, y_svr_train_pred_2_log)\n",
    "# Model performance - test set\n",
    "svr2_test_mae = mean_absolute_error(y2_test, y_svr_test_pred_2_log)\n",
    "svr2_test_mse = mean_squared_error(y2_test, y_svr_test_pred_2_log)\n",
    "svr2_test_rmse = sqrt(svr2_test_mse)\n",
    "svr2_test_r2 = r2_score(X2_test, y_svr_test_pred_2_log)\n",
    "# Consolidate the results.\n",
    "# Notice use of the transpose here.\n",
    "svr_results_2 = pd.DataFrame(['SVR', svr2_train_mae, svr2_train_mse, svr2_train_rmse, svr2_train_r2, svr2_test_mae, svr2_test_mse, svr2_test_rmse, svr2_test_r2]).T\n",
    "svr_results_2.columns = metric_col_names\n",
    "svr_results_2"
   ]
  },
  {
   "cell_type": "code",
   "execution_count": 77,
   "id": "6c42b34f",
   "metadata": {},
   "outputs": [
    {
     "data": {
      "text/plain": [
       "RandomForestRegressor(max_depth=2)"
      ]
     },
     "execution_count": 77,
     "metadata": {},
     "output_type": "execute_result"
    }
   ],
   "source": [
    "rf_2 = RandomForestRegressor(max_depth = 2)\n",
    "rf_2.fit(X2_train_log, y2_train_log)\n",
    "y_rf_train_pred_2_log = rf_2.predict(X2_train_log)\n",
    "y_rf_test_pred_2_log = rf_2.predict(X2_test_log)\n",
    "rf_2"
   ]
  },
  {
   "cell_type": "code",
   "execution_count": 78,
   "id": "041bc39f",
   "metadata": {},
   "outputs": [],
   "source": [
    "y_rf_train_pred_2 = pow(10, y_rf_train_pred_2_log)\n",
    "y_rf_test_pred_2 = pow(10, y_rf_test_pred_2_log)\n",
    "# Model performance metrics for random forest model.\n",
    "rf2_train_mae = mean_absolute_error(y2_train, y_rf_train_pred_2)\n",
    "rf2_train_mse = mean_squared_error(y2_train, y_rf_train_pred_2)\n",
    "rf2_train_rmse = sqrt(rf2_train_mse)\n",
    "rf2_train_r2 = r2_score(y2_train, y_rf_train_pred_2)\n",
    "# The following are the test metrics.\n",
    "rf2_test_mae = mean_absolute_error(y2_test, y_rf_test_pred_2)\n",
    "rf2_test_mse = mean_squared_error(y2_test, y_rf_test_pred_2)\n",
    "rf2_test_rmse = sqrt(rf2_test_mse)\n",
    "rf2_test_r2 = r2_score(y2_test, y_rf_test_pred_2)"
   ]
  },
  {
   "cell_type": "code",
   "execution_count": 79,
   "id": "e3a8d418",
   "metadata": {},
   "outputs": [
    {
     "data": {
      "text/html": [
       "<div>\n",
       "<style scoped>\n",
       "    .dataframe tbody tr th:only-of-type {\n",
       "        vertical-align: middle;\n",
       "    }\n",
       "\n",
       "    .dataframe tbody tr th {\n",
       "        vertical-align: top;\n",
       "    }\n",
       "\n",
       "    .dataframe thead th {\n",
       "        text-align: right;\n",
       "    }\n",
       "</style>\n",
       "<table border=\"1\" class=\"dataframe\">\n",
       "  <thead>\n",
       "    <tr style=\"text-align: right;\">\n",
       "      <th></th>\n",
       "      <th>Method</th>\n",
       "      <th>Train MAE</th>\n",
       "      <th>Train MSE</th>\n",
       "      <th>Train RMSE</th>\n",
       "      <th>Train R2</th>\n",
       "      <th>Test MAE</th>\n",
       "      <th>Test MSE</th>\n",
       "      <th>Test RMSE</th>\n",
       "      <th>Test R2</th>\n",
       "    </tr>\n",
       "  </thead>\n",
       "  <tbody>\n",
       "    <tr>\n",
       "      <th>0</th>\n",
       "      <td>Random Forest</td>\n",
       "      <td>148.941562</td>\n",
       "      <td>57266.044587</td>\n",
       "      <td>239.303248</td>\n",
       "      <td>0.036879</td>\n",
       "      <td>149.98758</td>\n",
       "      <td>58405.296082</td>\n",
       "      <td>241.671877</td>\n",
       "      <td>0.001365</td>\n",
       "    </tr>\n",
       "  </tbody>\n",
       "</table>\n",
       "</div>"
      ],
      "text/plain": [
       "          Method   Train MAE     Train MSE  Train RMSE  Train R2   Test MAE  \\\n",
       "0  Random Forest  148.941562  57266.044587  239.303248  0.036879  149.98758   \n",
       "\n",
       "       Test MSE   Test RMSE   Test R2  \n",
       "0  58405.296082  241.671877  0.001365  "
      ]
     },
     "execution_count": 79,
     "metadata": {},
     "output_type": "execute_result"
    }
   ],
   "source": [
    "rf2_results = pd.DataFrame(['Random Forest', rf2_train_mae, rf2_train_mse, rf2_train_rmse, rf2_train_r2, rf2_test_mae, rf2_test_mse, rf2_test_rmse, rf2_test_r2]).transpose()\n",
    "rf2_results.columns = metric_col_names\n",
    "rf2_results"
   ]
  },
  {
   "cell_type": "code",
   "execution_count": 80,
   "id": "d22e1a3f",
   "metadata": {},
   "outputs": [
    {
     "data": {
      "text/html": [
       "<div>\n",
       "<style scoped>\n",
       "    .dataframe tbody tr th:only-of-type {\n",
       "        vertical-align: middle;\n",
       "    }\n",
       "\n",
       "    .dataframe tbody tr th {\n",
       "        vertical-align: top;\n",
       "    }\n",
       "\n",
       "    .dataframe thead th {\n",
       "        text-align: right;\n",
       "    }\n",
       "</style>\n",
       "<table border=\"1\" class=\"dataframe\">\n",
       "  <thead>\n",
       "    <tr style=\"text-align: right;\">\n",
       "      <th></th>\n",
       "      <th>Method</th>\n",
       "      <th>Train MAE</th>\n",
       "      <th>Train MSE</th>\n",
       "      <th>Train RMSE</th>\n",
       "      <th>Train R2</th>\n",
       "      <th>Test MAE</th>\n",
       "      <th>Test MSE</th>\n",
       "      <th>Test RMSE</th>\n",
       "      <th>Test R2</th>\n",
       "    </tr>\n",
       "  </thead>\n",
       "  <tbody>\n",
       "    <tr>\n",
       "      <th>0</th>\n",
       "      <td>Baseline</td>\n",
       "      <td>154.936148</td>\n",
       "      <td>59458.81266</td>\n",
       "      <td>243.841778</td>\n",
       "      <td>0.0</td>\n",
       "      <td>152.964182</td>\n",
       "      <td>58835.58403</td>\n",
       "      <td>242.560475</td>\n",
       "      <td>-0.005992</td>\n",
       "    </tr>\n",
       "    <tr>\n",
       "      <th>1</th>\n",
       "      <td>k Nearest Neighbor</td>\n",
       "      <td>150.585534</td>\n",
       "      <td>55892.284158</td>\n",
       "      <td>236.415491</td>\n",
       "      <td>0.059983</td>\n",
       "      <td>152.383784</td>\n",
       "      <td>56243.890179</td>\n",
       "      <td>237.157944</td>\n",
       "      <td>0.038322</td>\n",
       "    </tr>\n",
       "    <tr>\n",
       "      <th>2</th>\n",
       "      <td>SVR</td>\n",
       "      <td>828.36567</td>\n",
       "      <td>745648.496026</td>\n",
       "      <td>863.509407</td>\n",
       "      <td>-11.540588</td>\n",
       "      <td>847.085936</td>\n",
       "      <td>776039.718898</td>\n",
       "      <td>880.931166</td>\n",
       "      <td>-0.171796</td>\n",
       "    </tr>\n",
       "    <tr>\n",
       "      <th>3</th>\n",
       "      <td>Random Forest</td>\n",
       "      <td>148.941562</td>\n",
       "      <td>57266.044587</td>\n",
       "      <td>239.303248</td>\n",
       "      <td>0.036879</td>\n",
       "      <td>149.98758</td>\n",
       "      <td>58405.296082</td>\n",
       "      <td>241.671877</td>\n",
       "      <td>0.001365</td>\n",
       "    </tr>\n",
       "  </tbody>\n",
       "</table>\n",
       "</div>"
      ],
      "text/plain": [
       "               Method   Train MAE      Train MSE  Train RMSE   Train R2  \\\n",
       "0            Baseline  154.936148    59458.81266  243.841778        0.0   \n",
       "1  k Nearest Neighbor  150.585534   55892.284158  236.415491   0.059983   \n",
       "2                 SVR   828.36567  745648.496026  863.509407 -11.540588   \n",
       "3       Random Forest  148.941562   57266.044587  239.303248   0.036879   \n",
       "\n",
       "     Test MAE       Test MSE   Test RMSE   Test R2  \n",
       "0  152.964182    58835.58403  242.560475 -0.005992  \n",
       "1  152.383784   56243.890179  237.157944  0.038322  \n",
       "2  847.085936  776039.718898  880.931166 -0.171796  \n",
       "3   149.98758   58405.296082  241.671877  0.001365  "
      ]
     },
     "execution_count": 80,
     "metadata": {},
     "output_type": "execute_result"
    }
   ],
   "source": [
    "results_2 = pd.concat([baseline_2, knn_results_2, svr_results_2, rf2_results], axis = 0, ignore_index = True)\n",
    "results_2 "
   ]
  },
  {
   "cell_type": "markdown",
   "id": "cd490485",
   "metadata": {},
   "source": [
    "#### Hypothesis Testing- Case 2"
   ]
  },
  {
   "cell_type": "markdown",
   "id": "18fff46e",
   "metadata": {},
   "source": [
    "#### Correlation Tests - Case 2"
   ]
  },
  {
   "cell_type": "code",
   "execution_count": 81,
   "id": "ca15b9bb",
   "metadata": {},
   "outputs": [
    {
     "name": "stdout",
     "output_type": "stream",
     "text": [
      "stat = 0.101, p = 0.000\n",
      "Probably Dependent\n"
     ]
    }
   ],
   "source": [
    "# Spearman's Rank Correlation Test\n",
    "stat_3, p_3 = spearmanr(mass_log, temp_log)\n",
    "print('stat = %.3f, p = %.3f' % (stat_3, p_3))\n",
    "if p_3 > 0.05:\n",
    "    print('Probably Independent')\n",
    "else :\n",
    "    print('Probably Dependent')"
   ]
  },
  {
   "cell_type": "code",
   "execution_count": 82,
   "id": "2d921843",
   "metadata": {},
   "outputs": [
    {
     "name": "stdout",
     "output_type": "stream",
     "text": [
      "Execution time in seconds: 4629.3032746315\n"
     ]
    }
   ],
   "source": [
    "execution_time_1 = (time.time() - start_time_1)\n",
    "print('Execution time in seconds: ' + str(execution_time_1))"
   ]
  },
  {
   "cell_type": "markdown",
   "id": "b9a4f801",
   "metadata": {},
   "source": [
    "#### Nonparametric Statistical Hypothesis Tests - Case 2"
   ]
  },
  {
   "cell_type": "code",
   "execution_count": 83,
   "id": "0ac70340",
   "metadata": {},
   "outputs": [
    {
     "name": "stdout",
     "output_type": "stream",
     "text": [
      "stat = 0.000, p = 0.000\n",
      "Probably Dependent\n"
     ]
    }
   ],
   "source": [
    "# Wilcoxon Signed-Rank Test\n",
    "from scipy.stats import wilcoxon\n",
    "stat_4, p_4 = wilcoxon(mass_log, temp_log)\n",
    "print('stat = %.3f, p = %.3f' % (stat_4, p_4))\n",
    "if p_4 > 0.05:\n",
    "    print('Probably Independent')\n",
    "else :\n",
    "    print('Probably Dependent')\n",
    "    "
   ]
  },
  {
   "cell_type": "markdown",
   "id": "e4997a4d",
   "metadata": {},
   "source": [
    "The following will be the predicted versus actual plot for Case 2.\n",
    "Now, want the true versus the predicted values."
   ]
  },
  {
   "cell_type": "code",
   "execution_count": 84,
   "id": "6d507ae2",
   "metadata": {},
   "outputs": [
    {
     "data": {
      "image/png": "[encoded data removed]",
      "text/plain": [
       "<Figure size 864x864 with 1 Axes>"
      ]
     },
     "metadata": {},
     "output_type": "display_data"
    }
   ],
   "source": [
    "true_values_2 = y2_test\n",
    "predicted_values2_1 = y_knn_test_pred_2\n",
    "predicted_values2_2 = y_svr_test_pred_2\n",
    "predicted_values2_3 = y_rf_test_pred_2\n",
    "plt.figure(figsize = (12, 12))\n",
    "# kNN model\n",
    "knn_2 = plt.scatter(x = true_values_2, y = predicted_values2_1, c = '#68d631')\n",
    "# SVR model\n",
    "svr_2 = plt.scatter(x = true_values_2, y = predicted_values2_2, c = '#2a7505', marker = 's')\n",
    "# Random Forest model\n",
    "rf_2 = plt.scatter(x = true_values_2, y = predicted_values2_3, c = '#addb95', marker = 'x')\n",
    "p3 = max(max(predicted_values2_1), max(predicted_values2_2), max(predicted_values2_3), max(true_values_2))\n",
    "p4 = min(min(predicted_values2_1), min(predicted_values2_2), min(predicted_values2_3), min(true_values_2))\n",
    "\n",
    "plt.plot([p3, p4], [p3, p4], 'b-')\n",
    "plt.title('Prediction and Actual Values - Case II')\n",
    "plt.xlabel('Actual Values')\n",
    "plt.ylabel('Predicted Values')\n",
    "plt.legend([knn_2, svr_2, rf_2], ['kNN', 'SVR', 'RF'], loc = 'upper left')\n",
    "plt.savefig('pred_vs_actual_2.png',dpi=600)\n",
    "plt.show()"
   ]
  },
  {
   "cell_type": "markdown",
   "id": "ca900947",
   "metadata": {},
   "source": [
    "The following will be the residuals plot for Case 2."
   ]
  },
  {
   "cell_type": "code",
   "execution_count": 85,
   "id": "f834578d",
   "metadata": {},
   "outputs": [
    {
     "data": {
      "image/png": "[encoded data removed]",
      "text/plain": [
       "<Figure size 864x864 with 1 Axes>"
      ]
     },
     "metadata": {},
     "output_type": "display_data"
    }
   ],
   "source": [
    "# Will invoke for loop to calculate residulas for the three different models.\n",
    "residuals2_1 = list()\n",
    "for item7, item8 in zip(true_values_2, predicted_values2_1):\n",
    "    residuals2_1.append(item7 - item8)\n",
    "residuals2_2 = list()\n",
    "for item9, item10 in zip(true_values_2, predicted_values2_2):\n",
    "    residuals2_2.append(item9 - item10)\n",
    "residuals2_3 = list()\n",
    "for item11, item12 in zip(true_values_2, predicted_values2_3):\n",
    "    residuals2_3.append(item11 - item12)\n",
    "\n",
    "plt.figure(figsize = (12, 12))\n",
    "# kNN model\n",
    "knn_resid_2 = plt.scatter(x = predicted_values2_1, y = residuals2_1, c = '#cd30f0')\n",
    "# SVR model\n",
    "svr_resid_2 = plt.scatter(x = predicted_values2_2, y = residuals2_2, c = '#b391ba', marker = 'x')\n",
    "# Random Forest model\n",
    "rf_resid_2 = plt.scatter(x = predicted_values2_3, y = residuals2_3, c = '#e2c8e8', marker = 's')\n",
    "\n",
    "plt.title('Residuals versus Fitted values - Case II')\n",
    "plt.xlabel('Fitted Values') # <- Predicted Values\n",
    "plt.ylabel('Residuals')\n",
    "plt.legend([knn_resid_2, svr_resid_2, rf_resid_2], ['kNN', 'SVR', 'RF'], loc = 'upper right')\n",
    "plt.axhline(y = 0.0, color = '#034b8a', linestyle = '--')\n",
    "plt.savefig('resid_2.png',dpi=600)\n",
    "plt.show()"
   ]
  },
  {
   "cell_type": "code",
   "execution_count": 86,
   "id": "2f0d47d6",
   "metadata": {},
   "outputs": [
    {
     "data": {
      "text/plain": [
       "(array([  5.,  33., 407., 401.,  96.,  40.,  10.,   6.,   2.,   5.]),\n",
       " array([-688.98234368, -462.71103261, -236.43972154,  -10.16841047,\n",
       "         216.1029006 ,  442.37421168,  668.64552275,  894.91683382,\n",
       "        1121.18814489, 1347.45945596, 1573.73076703]),\n",
       " <BarContainer object of 10 artists>)"
      ]
     },
     "execution_count": 86,
     "metadata": {},
     "output_type": "execute_result"
    },
    {
     "data": {
      "image/png": "[encoded data removed]",
      "text/plain": [
       "<Figure size 432x288 with 1 Axes>"
      ]
     },
     "metadata": {},
     "output_type": "display_data"
    }
   ],
   "source": [
    "plt.hist(residuals2_3, color = \"teal\", edgecolor = 'white')"
   ]
  },
  {
   "cell_type": "code",
   "execution_count": 87,
   "id": "db85d7ae",
   "metadata": {},
   "outputs": [
    {
     "data": {
      "text/plain": [
       "(array([  7.,  66., 603., 208.,  72.,  28.,  10.,   4.,   3.,   4.]),\n",
       " array([-253.45085175,  -24.05085175,  205.34914825,  434.74914825,\n",
       "         664.14914825,  893.54914825, 1122.94914825, 1352.34914825,\n",
       "        1581.74914825, 1811.14914825, 2040.54914825]),\n",
       " <BarContainer object of 10 artists>)"
      ]
     },
     "execution_count": 87,
     "metadata": {},
     "output_type": "execute_result"
    },
    {
     "data": {
      "image/png": "[encoded data removed]",
      "text/plain": [
       "<Figure size 432x288 with 1 Axes>"
      ]
     },
     "metadata": {},
     "output_type": "display_data"
    }
   ],
   "source": [
    "plt.hist(residuals2_2, color = 'powderblue', edgecolor = 'black')"
   ]
  },
  {
   "cell_type": "markdown",
   "id": "0009f348",
   "metadata": {},
   "source": [
    "### Scenario 3 - orbital period as function of planetary mass\n"
   ]
  },
  {
   "cell_type": "code",
   "execution_count": 88,
   "id": "0b7abd72",
   "metadata": {},
   "outputs": [
    {
     "data": {
      "text/html": [
       "<div>\n",
       "<style scoped>\n",
       "    .dataframe tbody tr th:only-of-type {\n",
       "        vertical-align: middle;\n",
       "    }\n",
       "\n",
       "    .dataframe tbody tr th {\n",
       "        vertical-align: top;\n",
       "    }\n",
       "\n",
       "    .dataframe thead th {\n",
       "        text-align: right;\n",
       "    }\n",
       "</style>\n",
       "<table border=\"1\" class=\"dataframe\">\n",
       "  <thead>\n",
       "    <tr style=\"text-align: right;\">\n",
       "      <th></th>\n",
       "      <th>pl_name</th>\n",
       "      <th>pl_bmassj</th>\n",
       "      <th>pl_orbper</th>\n",
       "    </tr>\n",
       "  </thead>\n",
       "  <tbody>\n",
       "    <tr>\n",
       "      <th>0</th>\n",
       "      <td>11 Com b</td>\n",
       "      <td>19.40</td>\n",
       "      <td>326.03000</td>\n",
       "    </tr>\n",
       "    <tr>\n",
       "      <th>1</th>\n",
       "      <td>11 Com b</td>\n",
       "      <td>17.10</td>\n",
       "      <td>NaN</td>\n",
       "    </tr>\n",
       "    <tr>\n",
       "      <th>2</th>\n",
       "      <td>11 UMi b</td>\n",
       "      <td>10.80</td>\n",
       "      <td>NaN</td>\n",
       "    </tr>\n",
       "    <tr>\n",
       "      <th>3</th>\n",
       "      <td>11 UMi b</td>\n",
       "      <td>14.74</td>\n",
       "      <td>516.21997</td>\n",
       "    </tr>\n",
       "    <tr>\n",
       "      <th>4</th>\n",
       "      <td>11 UMi b</td>\n",
       "      <td>10.50</td>\n",
       "      <td>516.22000</td>\n",
       "    </tr>\n",
       "    <tr>\n",
       "      <th>...</th>\n",
       "      <td>...</td>\n",
       "      <td>...</td>\n",
       "      <td>...</td>\n",
       "    </tr>\n",
       "    <tr>\n",
       "      <th>32511</th>\n",
       "      <td>ups And d</td>\n",
       "      <td>4.10</td>\n",
       "      <td>1282.41000</td>\n",
       "    </tr>\n",
       "    <tr>\n",
       "      <th>32512</th>\n",
       "      <td>ups And d</td>\n",
       "      <td>10.25</td>\n",
       "      <td>1281.50700</td>\n",
       "    </tr>\n",
       "    <tr>\n",
       "      <th>32513</th>\n",
       "      <td>ups Leo b</td>\n",
       "      <td>0.51</td>\n",
       "      <td>385.20000</td>\n",
       "    </tr>\n",
       "    <tr>\n",
       "      <th>32514</th>\n",
       "      <td>xi Aql b</td>\n",
       "      <td>2.02</td>\n",
       "      <td>NaN</td>\n",
       "    </tr>\n",
       "    <tr>\n",
       "      <th>32515</th>\n",
       "      <td>xi Aql b</td>\n",
       "      <td>2.80</td>\n",
       "      <td>136.75000</td>\n",
       "    </tr>\n",
       "  </tbody>\n",
       "</table>\n",
       "<p>32516 rows × 3 columns</p>\n",
       "</div>"
      ],
      "text/plain": [
       "         pl_name  pl_bmassj   pl_orbper\n",
       "0       11 Com b      19.40   326.03000\n",
       "1       11 Com b      17.10         NaN\n",
       "2       11 UMi b      10.80         NaN\n",
       "3       11 UMi b      14.74   516.21997\n",
       "4       11 UMi b      10.50   516.22000\n",
       "...          ...        ...         ...\n",
       "32511  ups And d       4.10  1282.41000\n",
       "32512  ups And d      10.25  1281.50700\n",
       "32513  ups Leo b       0.51   385.20000\n",
       "32514   xi Aql b       2.02         NaN\n",
       "32515   xi Aql b       2.80   136.75000\n",
       "\n",
       "[32516 rows x 3 columns]"
      ]
     },
     "execution_count": 88,
     "metadata": {},
     "output_type": "execute_result"
    }
   ],
   "source": [
    "df4 = raw_data.loc[:, ['pl_name','pl_bmassj','pl_orbper']]\n",
    "df4"
   ]
  },
  {
   "cell_type": "code",
   "execution_count": 89,
   "id": "370000ad",
   "metadata": {},
   "outputs": [
    {
     "data": {
      "text/html": [
       "<div>\n",
       "<style scoped>\n",
       "    .dataframe tbody tr th:only-of-type {\n",
       "        vertical-align: middle;\n",
       "    }\n",
       "\n",
       "    .dataframe tbody tr th {\n",
       "        vertical-align: top;\n",
       "    }\n",
       "\n",
       "    .dataframe thead th {\n",
       "        text-align: right;\n",
       "    }\n",
       "</style>\n",
       "<table border=\"1\" class=\"dataframe\">\n",
       "  <thead>\n",
       "    <tr style=\"text-align: right;\">\n",
       "      <th></th>\n",
       "      <th>planetname</th>\n",
       "      <th>mass</th>\n",
       "      <th>orbit period</th>\n",
       "    </tr>\n",
       "  </thead>\n",
       "  <tbody>\n",
       "    <tr>\n",
       "      <th>0</th>\n",
       "      <td>11 Com b</td>\n",
       "      <td>19.40</td>\n",
       "      <td>326.030000</td>\n",
       "    </tr>\n",
       "    <tr>\n",
       "      <th>1</th>\n",
       "      <td>11 Com b</td>\n",
       "      <td>17.10</td>\n",
       "      <td>10.994704</td>\n",
       "    </tr>\n",
       "    <tr>\n",
       "      <th>2</th>\n",
       "      <td>11 UMi b</td>\n",
       "      <td>10.80</td>\n",
       "      <td>10.994704</td>\n",
       "    </tr>\n",
       "    <tr>\n",
       "      <th>3</th>\n",
       "      <td>11 UMi b</td>\n",
       "      <td>14.74</td>\n",
       "      <td>516.219970</td>\n",
       "    </tr>\n",
       "    <tr>\n",
       "      <th>4</th>\n",
       "      <td>11 UMi b</td>\n",
       "      <td>10.50</td>\n",
       "      <td>516.220000</td>\n",
       "    </tr>\n",
       "    <tr>\n",
       "      <th>...</th>\n",
       "      <td>...</td>\n",
       "      <td>...</td>\n",
       "      <td>...</td>\n",
       "    </tr>\n",
       "    <tr>\n",
       "      <th>32511</th>\n",
       "      <td>ups And d</td>\n",
       "      <td>4.10</td>\n",
       "      <td>1282.410000</td>\n",
       "    </tr>\n",
       "    <tr>\n",
       "      <th>32512</th>\n",
       "      <td>ups And d</td>\n",
       "      <td>10.25</td>\n",
       "      <td>1281.507000</td>\n",
       "    </tr>\n",
       "    <tr>\n",
       "      <th>32513</th>\n",
       "      <td>ups Leo b</td>\n",
       "      <td>0.51</td>\n",
       "      <td>385.200000</td>\n",
       "    </tr>\n",
       "    <tr>\n",
       "      <th>32514</th>\n",
       "      <td>xi Aql b</td>\n",
       "      <td>2.02</td>\n",
       "      <td>10.994704</td>\n",
       "    </tr>\n",
       "    <tr>\n",
       "      <th>32515</th>\n",
       "      <td>xi Aql b</td>\n",
       "      <td>2.80</td>\n",
       "      <td>136.750000</td>\n",
       "    </tr>\n",
       "  </tbody>\n",
       "</table>\n",
       "<p>32516 rows × 3 columns</p>\n",
       "</div>"
      ],
      "text/plain": [
       "      planetname   mass  orbit period\n",
       "0       11 Com b  19.40    326.030000\n",
       "1       11 Com b  17.10     10.994704\n",
       "2       11 UMi b  10.80     10.994704\n",
       "3       11 UMi b  14.74    516.219970\n",
       "4       11 UMi b  10.50    516.220000\n",
       "...          ...    ...           ...\n",
       "32511  ups And d   4.10   1282.410000\n",
       "32512  ups And d  10.25   1281.507000\n",
       "32513  ups Leo b   0.51    385.200000\n",
       "32514   xi Aql b   2.02     10.994704\n",
       "32515   xi Aql b   2.80    136.750000\n",
       "\n",
       "[32516 rows x 3 columns]"
      ]
     },
     "execution_count": 89,
     "metadata": {},
     "output_type": "execute_result"
    }
   ],
   "source": [
    "df4 = df4.rename(columns={'pl_name':'planetname', 'pl_bmassj':'mass', 'pl_orbper':'orbit period'})\n",
    "#df4 = df4.dropna()\n",
    "df4 = df4.fillna(df4.median(numeric_only=True))\n",
    "df4"
   ]
  },
  {
   "cell_type": "code",
   "execution_count": 90,
   "id": "91efff2d",
   "metadata": {},
   "outputs": [],
   "source": [
    "mass_2 = df4.groupby('planetname')['mass'].mean()\n",
    "orbper_2 = df4.groupby('planetname')['orbit period'].mean()"
   ]
  },
  {
   "cell_type": "markdown",
   "id": "0ad20afa",
   "metadata": {},
   "source": [
    "Length of variables for reporting."
   ]
  },
  {
   "cell_type": "code",
   "execution_count": 91,
   "id": "9cea9238",
   "metadata": {},
   "outputs": [
    {
     "name": "stdout",
     "output_type": "stream",
     "text": [
      "The length of predictor (mass) is:  5021\n"
     ]
    }
   ],
   "source": [
    "print(\"The length of predictor (mass) is: \", len(mass_2.index))"
   ]
  },
  {
   "cell_type": "code",
   "execution_count": 92,
   "id": "6909b492",
   "metadata": {},
   "outputs": [
    {
     "name": "stdout",
     "output_type": "stream",
     "text": [
      "The length of predictor (orbital period) is:  5021\n"
     ]
    }
   ],
   "source": [
    "print(\"The length of predictor (orbital period) is: \", len(orbper_2.index))"
   ]
  },
  {
   "cell_type": "markdown",
   "id": "82b7cc1f",
   "metadata": {},
   "source": [
    "Now some summary statistics for this scenario."
   ]
  },
  {
   "cell_type": "code",
   "execution_count": 93,
   "id": "3de54cfd",
   "metadata": {},
   "outputs": [
    {
     "name": "stdout",
     "output_type": "stream",
     "text": [
      "\n",
      "The median of the orbital period: 10.9947\n",
      "\n",
      "The median of the mass: 0.78\n",
      "\n",
      "The interquartile range of the mass: 0.00\n",
      "\n",
      "The interquartile range of the orbital period: 30.39\n",
      "\n",
      "The mode for the mass: 0.78\n",
      "\n",
      "The mode for the orbital period: 10.99\n",
      "\n",
      "The mean for the mass: 0.05\n",
      "\n",
      "The mean for the orbital period: 83045.30\n"
     ]
    }
   ],
   "source": [
    "mass2_med = statistics.median(list(mass_2))\n",
    "orbper2_med = statistics.median(list(orbper_2))\n",
    "print('\\nThe median of the orbital period: %.4f' % orbper_med)\n",
    "print('\\nThe median of the mass: %.2f' % mass2_med)\n",
    "iqr_mass2 = stats.iqr(mass_2, interpolation = 'midpoint')\n",
    "iqr_orbper2 = stats.iqr(orbper_2, interpolation = 'midpoint')\n",
    "print('\\nThe interquartile range of the mass: %.2f' % iqr_mass2)\n",
    "print('\\nThe interquartile range of the orbital period: %.2f' % iqr_orbper2)\n",
    "mass2_mode = statistics.mode(list(mass_2))\n",
    "print('\\nThe mode for the mass: %.2f' % mass2_mode)\n",
    "orbper2_mode = statistics.mode(list(orbper_2))\n",
    "print('\\nThe mode for the orbital period: %.2f' % orbper2_mode)\n",
    "mass2_avg = statistics.mean(list(mass_2))\n",
    "print('\\nThe mean for the mass: %.2f' % eccen_avg)\n",
    "orbper2_avg = statistics.mean(list(orbper_2))\n",
    "print('\\nThe mean for the orbital period: %.2f' % orbper2_avg)"
   ]
  },
  {
   "cell_type": "code",
   "execution_count": 94,
   "id": "16dd4675",
   "metadata": {},
   "outputs": [
    {
     "data": {
      "text/plain": [
       "array([5.5000e-05, 7.8000e-01, 7.8000e-01, 7.8000e-01, 3.8505e+01])"
      ]
     },
     "execution_count": 94,
     "metadata": {},
     "output_type": "execute_result"
    }
   ],
   "source": [
    "# Min, 1st quantile, median, 3rd quantile, max\n",
    "fivenum(mass_2)"
   ]
  },
  {
   "cell_type": "code",
   "execution_count": 95,
   "id": "703011b4",
   "metadata": {},
   "outputs": [
    {
     "data": {
      "text/plain": [
       "array([9.07062900e-02, 5.03733431e+00, 1.09947037e+01, 3.54249749e+01,\n",
       "       4.02000000e+08])"
      ]
     },
     "execution_count": 95,
     "metadata": {},
     "output_type": "execute_result"
    }
   ],
   "source": [
    "# Min, 1st quantile, median, 3rd quantile, max\n",
    "fivenum(orbper_2)"
   ]
  },
  {
   "cell_type": "code",
   "execution_count": 96,
   "id": "27a5b109",
   "metadata": {},
   "outputs": [
    {
     "data": {
      "image/png": "[encoded data removed]",
      "text/plain": [
       "<Figure size 648x504 with 4 Axes>"
      ]
     },
     "metadata": {},
     "output_type": "display_data"
    }
   ],
   "source": [
    "# Case 3\n",
    "# First, perform log base 10 transform\n",
    "mass2_log = np.log10(mass_2)\n",
    "orbper2_log = np.log10(orbper_2)\n",
    "# Plotting Logic\n",
    "fig3, ax3 = plt.subplots(2, 2,figsize = (9, 7))\n",
    "fig3.suptitle('Histograms - Case 3')\n",
    "ax3[0, 0].hist(mass_2, color = 'darkslategray', edgecolor = 'red')\n",
    "#ax3[0, 0].set_title('') #<- use this logic to give each plot its own title.\n",
    "ax3[0, 0].set(xlabel = 'planet mass (Jupiter mass)')\n",
    "ax3[0, 1].hist(mass2_log, color = 'darkslategray', edgecolor = 'red')\n",
    "ax3[0, 1].set(xlabel = 'log10(planet mass)')\n",
    "ax3[1, 0].hist(orbper_2, color = 'salmon', edgecolor = 'yellowgreen')\n",
    "ax3[1, 0].set(xlabel = 'orbital period')\n",
    "ax3[1, 1].hist(orbper2_log, color = 'salmon', edgecolor = 'yellowgreen')\n",
    "ax3[1, 1].set(xlabel = 'log10(orbital period)')\n",
    "\n",
    "for ax in ax1.flat:\n",
    "    ax.set(ylabel = 'Frequency')\n",
    "plt.savefig('histograms_3.png',dpi=600)\n",
    "fig3.tight_layout()"
   ]
  },
  {
   "cell_type": "code",
   "execution_count": 97,
   "id": "432766f4",
   "metadata": {},
   "outputs": [],
   "source": [
    "y3 = np.array(mass_2).reshape(-1, 1)\n",
    "X3 = np.array(orbper_2).reshape(-1, 1)\n",
    "X3_train, X3_test, y3_train, y3_test = train_test_split(X3, y3, train_size = 0.80, random_state = 25)\n",
    "y3_train = y3_train.reshape(len(y3_train), )\n",
    "y3_test = y3_test.reshape(len(y3_test), )"
   ]
  },
  {
   "cell_type": "markdown",
   "id": "98520614",
   "metadata": {},
   "source": [
    "Establishing baselines for predictions according to the y-variable or response variable."
   ]
  },
  {
   "cell_type": "code",
   "execution_count": 98,
   "id": "d9c3db82",
   "metadata": {},
   "outputs": [],
   "source": [
    "y_baseline_3= y3_train.mean()\n",
    "#y_baseline_2= statistics.median(y2_train)\n",
    "y_pred_train_3 = [y_baseline_3]*len(y3_train) # <- Training Baseline\n",
    "y_pred_test_3 = [y_baseline_3]*len(y3_test)"
   ]
  },
  {
   "cell_type": "code",
   "execution_count": 99,
   "id": "551bbd91",
   "metadata": {},
   "outputs": [],
   "source": [
    "# Following is for the Training Dataset.\n",
    "# Error for training data baseline guess.\n",
    "mae_train_3 = mean_absolute_error(y3_train, y_pred_train_3)\n",
    "# Mean squared error for training data baseline guess.\n",
    "mse_train_3 = mean_squared_error(y3_train, y_pred_train_3)\n",
    "rmse_train_3 = sqrt(mse_train_3) # <- will compute the root mean square error\n",
    "# R-squared for training data baseline guess.\n",
    "y3_train_r2 = r2_score(y3_train, y_pred_train_3)"
   ]
  },
  {
   "cell_type": "code",
   "execution_count": 100,
   "id": "3f2b5896",
   "metadata": {},
   "outputs": [],
   "source": [
    "# Error for test data baseline guess.\n",
    "mae_test_3 = mean_absolute_error(y3_test, y_pred_test_3)\n",
    "# Mean squared error for test data baseline guess.\n",
    "mse_test_3 = mean_squared_error(y3_test, y_pred_test_3)\n",
    "# Test Root Mean Square Error\n",
    "rmse_test_3 = sqrt(mse_test_3)\n",
    "# R-squared for test data baseline guess.\n",
    "y3_test_r2 = r2_score(y3_test, y_pred_test_3)"
   ]
  },
  {
   "cell_type": "code",
   "execution_count": 101,
   "id": "e0ed80a4",
   "metadata": {},
   "outputs": [
    {
     "data": {
      "text/html": [
       "<div>\n",
       "<style scoped>\n",
       "    .dataframe tbody tr th:only-of-type {\n",
       "        vertical-align: middle;\n",
       "    }\n",
       "\n",
       "    .dataframe tbody tr th {\n",
       "        vertical-align: top;\n",
       "    }\n",
       "\n",
       "    .dataframe thead th {\n",
       "        text-align: right;\n",
       "    }\n",
       "</style>\n",
       "<table border=\"1\" class=\"dataframe\">\n",
       "  <thead>\n",
       "    <tr style=\"text-align: right;\">\n",
       "      <th></th>\n",
       "      <th>Method</th>\n",
       "      <th>Train MAE</th>\n",
       "      <th>Train MSE</th>\n",
       "      <th>Train RMSE</th>\n",
       "      <th>Train R2</th>\n",
       "      <th>Test MAE</th>\n",
       "      <th>Test MSE</th>\n",
       "      <th>Test RMSE</th>\n",
       "      <th>Test R2</th>\n",
       "    </tr>\n",
       "  </thead>\n",
       "  <tbody>\n",
       "    <tr>\n",
       "      <th>0</th>\n",
       "      <td>Baseline</td>\n",
       "      <td>1.13938</td>\n",
       "      <td>6.44849</td>\n",
       "      <td>2.539388</td>\n",
       "      <td>0.0</td>\n",
       "      <td>1.217625</td>\n",
       "      <td>8.129555</td>\n",
       "      <td>2.851237</td>\n",
       "      <td>-0.000723</td>\n",
       "    </tr>\n",
       "  </tbody>\n",
       "</table>\n",
       "</div>"
      ],
      "text/plain": [
       "     Method Train MAE Train MSE Train RMSE Train R2  Test MAE  Test MSE  \\\n",
       "0  Baseline   1.13938   6.44849   2.539388      0.0  1.217625  8.129555   \n",
       "\n",
       "  Test RMSE   Test R2  \n",
       "0  2.851237 -0.000723  "
      ]
     },
     "execution_count": 101,
     "metadata": {},
     "output_type": "execute_result"
    }
   ],
   "source": [
    "baseline_3 = pd.DataFrame(['Baseline', mae_train_3, mse_train_3, rmse_train_3, y3_train_r2, mae_test_3, mse_test_3, rmse_test_3, y3_test_r2]).T\n",
    "baseline_3.columns = metric_col_names\n",
    "baseline_3"
   ]
  },
  {
   "cell_type": "code",
   "execution_count": 102,
   "id": "8af6072b",
   "metadata": {},
   "outputs": [],
   "source": [
    "X3_train_log, X3_test_log = np.log10(X3_train), np.log10(X3_test)\n",
    "y3_train_log = np.log10(y3_train)"
   ]
  },
  {
   "cell_type": "markdown",
   "id": "e43dc3b6",
   "metadata": {},
   "source": [
    "Some logic to determine the shape of the training and test sets of the data."
   ]
  },
  {
   "cell_type": "code",
   "execution_count": 103,
   "id": "270143f0",
   "metadata": {},
   "outputs": [
    {
     "name": "stdout",
     "output_type": "stream",
     "text": [
      "\n",
      "Training log(X3) shape:  (4016, 1)\n",
      "Training Log(y3) shape:  (4016,)\n",
      "Test Log(X3) shape:  (1005, 1)\n",
      "Test y3 shape:  (1005,)\n"
     ]
    }
   ],
   "source": [
    "print('\\nTraining log(X3) shape: ', X3_train_log.shape)\n",
    "print('Training Log(y3) shape: ', y3_train_log.shape)\n",
    "print('Test Log(X3) shape: ', X3_test_log.shape)\n",
    "print('Test y3 shape: ', y3_test.shape)"
   ]
  },
  {
   "cell_type": "code",
   "execution_count": 104,
   "id": "a69ee821",
   "metadata": {},
   "outputs": [
    {
     "name": "stdout",
     "output_type": "stream",
     "text": [
      "     k  Test Score  Train Score\n",
      "0    1   -1.073374     0.431510\n",
      "1    2   -0.540635     0.255746\n",
      "2    3   -0.279461     0.250167\n",
      "3    4   -0.103954     0.280201\n",
      "4    5   -0.049851     0.261446\n",
      "..  ..         ...          ...\n",
      "69  70    0.118030     0.135641\n",
      "70  71    0.117009     0.134788\n",
      "71  72    0.118028     0.134462\n",
      "72  73    0.116710     0.134142\n",
      "73  74    0.116561     0.133796\n",
      "\n",
      "[74 rows x 3 columns]\n",
      "The highest Test R-squared value occurs at : 0.1185\n",
      "Within given range, optimal k is:  65\n"
     ]
    }
   ],
   "source": [
    "# kNN R-squared accuracy\n",
    "knn_r_acc_3 = []\n",
    "for k in range(1, 75, 1):\n",
    "    knn_3 = KNeighborsRegressor(n_neighbors = k)\n",
    "    knn_3.fit(X3_train_log.reshape(-1, 1), y3_train_log.reshape(-1, 1))\n",
    "    test_score_3 = knn_3.score(X3_test_log.reshape(-1, 1), np.log10(y3_test))\n",
    "    train_score_3 = knn_3.score(X3_train_log.reshape(-1, 1), y3_train_log.reshape(-1, 1))\n",
    "    knn_r_acc_3.append((k, test_score_3, train_score_3))\n",
    "outcomes_3 = pd.DataFrame(knn_r_acc_3, columns = ['k', 'Test Score', 'Train Score'])\n",
    "print(outcomes_3)\n",
    "print('The highest Test R-squared value occurs at : %.4f' % outcomes_3.iloc[:,1].max())\n",
    "print('Within given range, optimal k is: ', outcomes_3.loc[outcomes_3['Test Score'] == outcomes_3.iloc[:,1].max(), 'k'].iloc[0])"
   ]
  },
  {
   "cell_type": "markdown",
   "id": "e4ce7ff6",
   "metadata": {},
   "source": [
    "#### Bootstrap Confidence Interval for RMSE values"
   ]
  },
  {
   "cell_type": "code",
   "execution_count": 105,
   "id": "10f9447a",
   "metadata": {},
   "outputs": [
    {
     "name": "stdout",
     "output_type": "stream",
     "text": [
      "Execution time in minutes: 30.069707230726877\n"
     ]
    },
    {
     "data": {
      "image/png": "[encoded data removed]",
      "text/plain": [
       "<Figure size 2592x864 with 3 Axes>"
      ]
     },
     "metadata": {},
     "output_type": "display_data"
    }
   ],
   "source": [
    "start_time_3 = time.time()\n",
    "\n",
    "df4 = pd.concat([orbper2_log, mass2_log], axis=1)\n",
    "metrics3_1 = ci_bootstrap(df4, KNeighborsRegressor(n_neighbors = 65))\n",
    "\n",
    "# Plotting Logic\n",
    "fig3_2, ax3_2 = plt.subplots(1, 3, figsize = (36, 12))\n",
    "#fig1_2.suptitle('Bootstrap Performance Metrics - Case 1')\n",
    "\n",
    "# Confidence Interval\n",
    "confidence_interval3_1 = list(metrics3_1.quantile([0.025, 0.975]))\n",
    "\n",
    "ax3_2[0].hist(metrics3_1, color='#4db32e', edgecolor = \"red\")\n",
    "ax3_2[0].plot(confidence_interval3_1, [190, 190], color='black')\n",
    "for x3 in confidence_interval3_1:\n",
    "    ax3_2[0].plot([x3, x3], [0, 200], color='black')\n",
    "    ax3_2[0].text(x3, 210, f'{x3:.4f}', \n",
    "            horizontalalignment='center', verticalalignment='center')\n",
    "ax3_2[0].text(sum(confidence_interval3_1) / 2, 60, '95% interval',\n",
    "        horizontalalignment='center', verticalalignment='center')\n",
    "\n",
    "mean_knn_model_3 = metrics3_1.mean()\n",
    "ax3_2[0].plot([mean_knn_model_3, mean_knn_model_3], [0, 195], color='black', linestyle='--')\n",
    "ax3_2[0].text(mean_knn_model_3, 225, f'Mean: {mean_knn_model_3:.4f}',\n",
    "        bbox=dict(facecolor='white', edgecolor='white', alpha=0.5),\n",
    "        horizontalalignment='center', verticalalignment='center')\n",
    "ax3_2[0].set_title('kNN Model 3')\n",
    "\n",
    "# Now for the SVR model\n",
    "eps_3 = 8 #<- hyperparameters used throughout the script\n",
    "hyperparam3 = 1000 #<- hyperparameters used throughout the script\n",
    "metrics3_2 = ci_bootstrap(df4, SVR(kernel = 'rbf', C = hyperparam3, epsilon = eps_3))\n",
    "confidence_interval3_2 = list(metrics3_2.quantile([0.025, 0.975]))\n",
    "\n",
    "ax3_2[1].hist(metrics3_2, color='#7961c9', edgecolor = \"white\")\n",
    "ax3_2[1].plot(confidence_interval3_2, [190, 190], color='black')\n",
    "for x3 in confidence_interval3_2:\n",
    "    ax3_2[1].plot([x3, x3], [0, 200], color='black')\n",
    "    ax3_2[1].text(x3, 210, f'{x3:.4f}', \n",
    "            horizontalalignment='center', verticalalignment='center')\n",
    "ax3_2[1].text(sum(confidence_interval3_2) / 2, 60, '95% interval',\n",
    "        horizontalalignment='center', verticalalignment='center')\n",
    "\n",
    "mean_svr_model_3 = metrics3_2.mean()\n",
    "ax3_2[1].plot([mean_svr_model_3, mean_svr_model_3], [0, 195], color='black', linestyle='--')\n",
    "ax3_2[1].text(mean_svr_model_3, 225, f'Mean: {mean_svr_model_3:.4f}',\n",
    "        bbox=dict(facecolor='white', edgecolor='white', alpha=0.5),\n",
    "        horizontalalignment='center', verticalalignment='center')\n",
    "ax3_2[1].set_title('SVR Model 3')\n",
    "\n",
    "# Now for the Random Forest model\n",
    "metrics3_3 = ci_bootstrap(df4, RandomForestRegressor(max_depth=2))\n",
    "confidence_interval3_3 = list(metrics3_3.quantile([0.025, 0.975]))\n",
    "\n",
    "ax3_2[2].hist(metrics3_3, color='#03dffc', edgecolor = \"black\")\n",
    "ax3_2[2].plot(confidence_interval3_3, [190, 190], color='black')\n",
    "for x3 in confidence_interval3_3:\n",
    "    ax3_2[2].plot([x3, x3], [0, 200], color='black')\n",
    "    ax3_2[2].text(x3, 210, f'{x3:.4f}', \n",
    "            horizontalalignment='center', verticalalignment='center')\n",
    "ax3_2[2].text(sum(confidence_interval3_3) / 2, 60, '95% interval',\n",
    "        horizontalalignment='center', verticalalignment='center')\n",
    "\n",
    "mean_rf_model_3 = metrics3_3.mean()\n",
    "ax3_2[2].plot([mean_rf_model_3, mean_rf_model_3], [0, 195], color='black', linestyle='--')\n",
    "ax3_2[2].text(mean_rf_model_3, 225, f'Mean: {mean_rf_model_3:.4f}',\n",
    "      bbox=dict(facecolor='white', edgecolor='white', alpha=0.5),\n",
    "       horizontalalignment='center', verticalalignment='center')\n",
    "ax3_2[2].set_title('RF Model 3')\n",
    "\n",
    "for ax in ax3_2.flat:\n",
    "    ax.set(ylabel = 'Counts')\n",
    "    #ax.set(xlabel = 'RMSE eccentricity (unitless)')\n",
    "\n",
    "plt.savefig('bootstrap_rmse_3.png',dpi=800)\n",
    "execution_time_3 = (time.time() - start_time_3)\n",
    "print('Execution time in minutes: ' + str(execution_time_3/60))"
   ]
  },
  {
   "cell_type": "code",
   "execution_count": 106,
   "id": "b88ab56c",
   "metadata": {},
   "outputs": [
    {
     "data": {
      "image/png": "[encoded data removed]",
      "text/plain": [
       "<Figure size 1296x432 with 3 Axes>"
      ]
     },
     "metadata": {},
     "output_type": "display_data"
    }
   ],
   "source": [
    "fig_knn3, axs_3 = plt.subplots(1, 3, figsize = (18, 6))\n",
    "\n",
    "sns.histplot(metrics3_1, kde=True, color=\"#4db32e\", ax=axs_3[0])\n",
    "sns.histplot(metrics3_2, kde=True, color=\"#7961c9\", ax=axs_3[1])\n",
    "sns.histplot(metrics3_3, kde=True, color=\"#03dffc\", ax=axs_3[2])\n",
    "\n",
    "plt.savefig('sns_example3.png')\n",
    "plt.show()"
   ]
  },
  {
   "cell_type": "code",
   "execution_count": 107,
   "id": "531cd363",
   "metadata": {},
   "outputs": [],
   "source": [
    "model_knn_3 = KNeighborsRegressor(n_neighbors = 65)\n",
    "model_knn_3.fit(X3_train_log.reshape(-1, 1), y3_train_log.reshape(-1, 1))\n",
    "y_knn_train_pred_3_log = model_knn_3.predict(X3_train_log.reshape(-1, 1))\n",
    "y_knn_test_pred_3_log = model_knn_3.predict(X3_test_log.reshape(-1, 1))"
   ]
  },
  {
   "cell_type": "code",
   "execution_count": 108,
   "id": "9ed0e42c",
   "metadata": {},
   "outputs": [],
   "source": [
    "y_knn_train_pred_3 = pow(10, y_knn_train_pred_3_log)\n",
    "y_knn_test_pred_3 = pow(10, y_knn_test_pred_3_log)"
   ]
  },
  {
   "cell_type": "code",
   "execution_count": 109,
   "id": "03ce2501",
   "metadata": {},
   "outputs": [
    {
     "data": {
      "text/html": [
       "<div>\n",
       "<style scoped>\n",
       "    .dataframe tbody tr th:only-of-type {\n",
       "        vertical-align: middle;\n",
       "    }\n",
       "\n",
       "    .dataframe tbody tr th {\n",
       "        vertical-align: top;\n",
       "    }\n",
       "\n",
       "    .dataframe thead th {\n",
       "        text-align: right;\n",
       "    }\n",
       "</style>\n",
       "<table border=\"1\" class=\"dataframe\">\n",
       "  <thead>\n",
       "    <tr style=\"text-align: right;\">\n",
       "      <th></th>\n",
       "      <th>Method</th>\n",
       "      <th>Train MAE</th>\n",
       "      <th>Train MSE</th>\n",
       "      <th>Train RMSE</th>\n",
       "      <th>Train R2</th>\n",
       "      <th>Test MAE</th>\n",
       "      <th>Test MSE</th>\n",
       "      <th>Test RMSE</th>\n",
       "      <th>Test R2</th>\n",
       "    </tr>\n",
       "  </thead>\n",
       "  <tbody>\n",
       "    <tr>\n",
       "      <th>0</th>\n",
       "      <td>k Nearest Neighbor</td>\n",
       "      <td>0.7795</td>\n",
       "      <td>5.700893</td>\n",
       "      <td>2.387654</td>\n",
       "      <td>0.115934</td>\n",
       "      <td>0.860727</td>\n",
       "      <td>7.202712</td>\n",
       "      <td>2.683787</td>\n",
       "      <td>0.113369</td>\n",
       "    </tr>\n",
       "  </tbody>\n",
       "</table>\n",
       "</div>"
      ],
      "text/plain": [
       "               Method Train MAE Train MSE Train RMSE  Train R2  Test MAE  \\\n",
       "0  k Nearest Neighbor    0.7795  5.700893   2.387654  0.115934  0.860727   \n",
       "\n",
       "   Test MSE Test RMSE   Test R2  \n",
       "0  7.202712  2.683787  0.113369  "
      ]
     },
     "execution_count": 109,
     "metadata": {},
     "output_type": "execute_result"
    }
   ],
   "source": [
    "# First the training metrics.\n",
    "knn3_train_mae = mean_absolute_error(y3_train, y_knn_train_pred_3)\n",
    "knn3_train_mse = mean_squared_error(y3_train, y_knn_train_pred_3)\n",
    "knn3_train_rmse = sqrt(knn3_train_mse) # <- will compute the root mean square error\n",
    "knn3_train_r2 = r2_score(y3_train, y_knn_train_pred_3)\n",
    "# Now, test set metrics.\n",
    "knn3_test_mae = mean_absolute_error(y3_test, y_knn_test_pred_3)\n",
    "knn3_test_mse = mean_squared_error(y3_test, y_knn_test_pred_3)\n",
    "knn3_test_rmse = sqrt(knn3_test_mse)\n",
    "knn3_test_r2 = r2_score(y3_test, y_knn_test_pred_3)\n",
    "# Consolidate the results.\n",
    "knn_results_3 = pd.DataFrame(['k Nearest Neighbor', knn3_train_mae, knn3_train_mse, knn3_train_rmse, knn3_train_r2, knn3_test_mae, knn3_test_mse, knn3_test_rmse, knn3_test_r2]).transpose()\n",
    "knn_results_3.columns = metric_col_names\n",
    "knn_results_3"
   ]
  },
  {
   "cell_type": "markdown",
   "id": "0815b2c7",
   "metadata": {},
   "source": [
    "Now to create the SVR model 3."
   ]
  },
  {
   "cell_type": "code",
   "execution_count": 110,
   "id": "a859287c",
   "metadata": {},
   "outputs": [],
   "source": [
    "eps_3 = 6\n",
    "svr_3 = SVR(kernel = 'rbf', C = 100, epsilon = eps_3)\n",
    "svr_3.fit(X3_train_log, y3_train_log)\n",
    "\n",
    "y_svr_train_pred_3_log = svr_3.predict(X3_train_log)\n",
    "y_svr_test_pred_3_log = svr_3.predict(X3_test_log)\n",
    "y_svr_train_pred_3 = pow(10, y_svr_train_pred_3_log)\n",
    "y_svr_test_pred_3 = pow(10, y_svr_test_pred_3_log)"
   ]
  },
  {
   "cell_type": "code",
   "execution_count": 111,
   "id": "caa27406",
   "metadata": {},
   "outputs": [
    {
     "data": {
      "text/html": [
       "<div>\n",
       "<style scoped>\n",
       "    .dataframe tbody tr th:only-of-type {\n",
       "        vertical-align: middle;\n",
       "    }\n",
       "\n",
       "    .dataframe tbody tr th {\n",
       "        vertical-align: top;\n",
       "    }\n",
       "\n",
       "    .dataframe thead th {\n",
       "        text-align: right;\n",
       "    }\n",
       "</style>\n",
       "<table border=\"1\" class=\"dataframe\">\n",
       "  <thead>\n",
       "    <tr style=\"text-align: right;\">\n",
       "      <th></th>\n",
       "      <th>Method</th>\n",
       "      <th>Train MAE</th>\n",
       "      <th>Train MSE</th>\n",
       "      <th>Train RMSE</th>\n",
       "      <th>Train R2</th>\n",
       "      <th>Test MAE</th>\n",
       "      <th>Test MSE</th>\n",
       "      <th>Test RMSE</th>\n",
       "      <th>Test R2</th>\n",
       "    </tr>\n",
       "  </thead>\n",
       "  <tbody>\n",
       "    <tr>\n",
       "      <th>0</th>\n",
       "      <td>SVR</td>\n",
       "      <td>1.310754</td>\n",
       "      <td>8.159839</td>\n",
       "      <td>2.856543</td>\n",
       "      <td>-0.265388</td>\n",
       "      <td>1.387391</td>\n",
       "      <td>10.041406</td>\n",
       "      <td>3.168818</td>\n",
       "      <td>-0.000998</td>\n",
       "    </tr>\n",
       "  </tbody>\n",
       "</table>\n",
       "</div>"
      ],
      "text/plain": [
       "  Method Train MAE Train MSE Train RMSE  Train R2  Test MAE   Test MSE  \\\n",
       "0    SVR  1.310754  8.159839   2.856543 -0.265388  1.387391  10.041406   \n",
       "\n",
       "  Test RMSE   Test R2  \n",
       "0  3.168818 -0.000998  "
      ]
     },
     "execution_count": 111,
     "metadata": {},
     "output_type": "execute_result"
    }
   ],
   "source": [
    "# Model performance - training set\n",
    "svr3_train_mae = mean_absolute_error(y3_train, y_svr_train_pred_3)\n",
    "svr3_train_mse = mean_squared_error(y3_train, y_svr_train_pred_3)\n",
    "svr3_train_rmse = sqrt(svr3_train_mse)\n",
    "svr3_train_r2 = r2_score(y3_train, y_svr_train_pred_3)\n",
    "# Model performance - test results\n",
    "svr3_test_mae = mean_absolute_error(y3_test, y_svr_test_pred_3)\n",
    "svr3_test_mse = mean_squared_error(y3_test, y_svr_test_pred_3)\n",
    "svr3_test_rmse = sqrt(svr3_test_mse)\n",
    "svr3_test_r2 = r2_score(X3_test, y_svr_test_pred_3)\n",
    "# Consolidate the results.\n",
    "svr_results_3 = pd.DataFrame(['SVR', svr3_train_mae, svr3_train_mse, svr3_train_rmse, svr3_train_r2, svr3_test_mae, svr3_test_mse, svr3_test_rmse, svr3_test_r2]).T\n",
    "svr_results_3.columns = metric_col_names\n",
    "svr_results_3"
   ]
  },
  {
   "cell_type": "code",
   "execution_count": 112,
   "id": "ebeaf99f",
   "metadata": {},
   "outputs": [
    {
     "data": {
      "text/plain": [
       "RandomForestRegressor(max_depth=2)"
      ]
     },
     "execution_count": 112,
     "metadata": {},
     "output_type": "execute_result"
    }
   ],
   "source": [
    "rf_3 = RandomForestRegressor(max_depth = 2)\n",
    "rf_3.fit(X3_train_log, y3_train_log)\n",
    "y_rf_train_pred_3_log = rf_3.predict(X3_train_log)\n",
    "y_rf_test_pred_3_log = rf_3.predict(X3_test_log)\n",
    "rf_3"
   ]
  },
  {
   "cell_type": "code",
   "execution_count": 113,
   "id": "8dc9ed19",
   "metadata": {},
   "outputs": [],
   "source": [
    "y_rf_train_pred_3 = pow(10, y_rf_train_pred_3_log)\n",
    "y_rf_test_pred_3 = pow(10, y_rf_test_pred_3_log)\n",
    "# Model performance metrics for random forest model.\n",
    "rf3_train_mae = mean_absolute_error(y3_train, y_rf_train_pred_3)\n",
    "rf3_train_mse = mean_squared_error(y3_train, y_rf_train_pred_3)\n",
    "rf3_train_rmse = sqrt(rf3_train_mse)\n",
    "rf3_train_r2 = r2_score(y3_train, y_rf_train_pred_3)\n",
    "# The following are the test metrics.\n",
    "rf3_test_mae = mean_absolute_error(y3_test, y_rf_test_pred_3)\n",
    "rf3_test_mse = mean_squared_error(y3_test, y_rf_test_pred_3)\n",
    "rf3_test_rmse = sqrt(rf3_test_mse)\n",
    "rf3_test_r2 = r2_score(y3_test, y_rf_test_pred_3)"
   ]
  },
  {
   "cell_type": "code",
   "execution_count": 114,
   "id": "3b4f53ff",
   "metadata": {},
   "outputs": [
    {
     "data": {
      "text/html": [
       "<div>\n",
       "<style scoped>\n",
       "    .dataframe tbody tr th:only-of-type {\n",
       "        vertical-align: middle;\n",
       "    }\n",
       "\n",
       "    .dataframe tbody tr th {\n",
       "        vertical-align: top;\n",
       "    }\n",
       "\n",
       "    .dataframe thead th {\n",
       "        text-align: right;\n",
       "    }\n",
       "</style>\n",
       "<table border=\"1\" class=\"dataframe\">\n",
       "  <thead>\n",
       "    <tr style=\"text-align: right;\">\n",
       "      <th></th>\n",
       "      <th>Method</th>\n",
       "      <th>Train MAE</th>\n",
       "      <th>Train MSE</th>\n",
       "      <th>Train RMSE</th>\n",
       "      <th>Train R2</th>\n",
       "      <th>Test MAE</th>\n",
       "      <th>Test MSE</th>\n",
       "      <th>Test RMSE</th>\n",
       "      <th>Test R2</th>\n",
       "    </tr>\n",
       "  </thead>\n",
       "  <tbody>\n",
       "    <tr>\n",
       "      <th>0</th>\n",
       "      <td>Random Forest</td>\n",
       "      <td>0.765147</td>\n",
       "      <td>5.845366</td>\n",
       "      <td>2.417719</td>\n",
       "      <td>0.093529</td>\n",
       "      <td>0.844308</td>\n",
       "      <td>7.294014</td>\n",
       "      <td>2.700743</td>\n",
       "      <td>0.10213</td>\n",
       "    </tr>\n",
       "  </tbody>\n",
       "</table>\n",
       "</div>"
      ],
      "text/plain": [
       "          Method Train MAE Train MSE Train RMSE  Train R2  Test MAE  Test MSE  \\\n",
       "0  Random Forest  0.765147  5.845366   2.417719  0.093529  0.844308  7.294014   \n",
       "\n",
       "  Test RMSE  Test R2  \n",
       "0  2.700743  0.10213  "
      ]
     },
     "execution_count": 114,
     "metadata": {},
     "output_type": "execute_result"
    }
   ],
   "source": [
    "rf3_results = pd.DataFrame(['Random Forest', rf3_train_mae, rf3_train_mse, rf3_train_rmse, rf3_train_r2, rf3_test_mae, rf3_test_mse, rf3_test_rmse, rf3_test_r2]).transpose()\n",
    "rf3_results.columns = metric_col_names\n",
    "rf3_results"
   ]
  },
  {
   "cell_type": "code",
   "execution_count": 115,
   "id": "27788664",
   "metadata": {
    "scrolled": true
   },
   "outputs": [
    {
     "data": {
      "text/html": [
       "<div>\n",
       "<style scoped>\n",
       "    .dataframe tbody tr th:only-of-type {\n",
       "        vertical-align: middle;\n",
       "    }\n",
       "\n",
       "    .dataframe tbody tr th {\n",
       "        vertical-align: top;\n",
       "    }\n",
       "\n",
       "    .dataframe thead th {\n",
       "        text-align: right;\n",
       "    }\n",
       "</style>\n",
       "<table border=\"1\" class=\"dataframe\">\n",
       "  <thead>\n",
       "    <tr style=\"text-align: right;\">\n",
       "      <th></th>\n",
       "      <th>Method</th>\n",
       "      <th>Train MAE</th>\n",
       "      <th>Train MSE</th>\n",
       "      <th>Train RMSE</th>\n",
       "      <th>Train R2</th>\n",
       "      <th>Test MAE</th>\n",
       "      <th>Test MSE</th>\n",
       "      <th>Test RMSE</th>\n",
       "      <th>Test R2</th>\n",
       "    </tr>\n",
       "  </thead>\n",
       "  <tbody>\n",
       "    <tr>\n",
       "      <th>0</th>\n",
       "      <td>Baseline</td>\n",
       "      <td>1.13938</td>\n",
       "      <td>6.44849</td>\n",
       "      <td>2.539388</td>\n",
       "      <td>0.0</td>\n",
       "      <td>1.217625</td>\n",
       "      <td>8.129555</td>\n",
       "      <td>2.851237</td>\n",
       "      <td>-0.000723</td>\n",
       "    </tr>\n",
       "    <tr>\n",
       "      <th>1</th>\n",
       "      <td>k Nearest Neighbor</td>\n",
       "      <td>0.7795</td>\n",
       "      <td>5.700893</td>\n",
       "      <td>2.387654</td>\n",
       "      <td>0.115934</td>\n",
       "      <td>0.860727</td>\n",
       "      <td>7.202712</td>\n",
       "      <td>2.683787</td>\n",
       "      <td>0.113369</td>\n",
       "    </tr>\n",
       "    <tr>\n",
       "      <th>2</th>\n",
       "      <td>SVR</td>\n",
       "      <td>1.310754</td>\n",
       "      <td>8.159839</td>\n",
       "      <td>2.856543</td>\n",
       "      <td>-0.265388</td>\n",
       "      <td>1.387391</td>\n",
       "      <td>10.041406</td>\n",
       "      <td>3.168818</td>\n",
       "      <td>-0.000998</td>\n",
       "    </tr>\n",
       "    <tr>\n",
       "      <th>3</th>\n",
       "      <td>Random Forest</td>\n",
       "      <td>0.765147</td>\n",
       "      <td>5.845366</td>\n",
       "      <td>2.417719</td>\n",
       "      <td>0.093529</td>\n",
       "      <td>0.844308</td>\n",
       "      <td>7.294014</td>\n",
       "      <td>2.700743</td>\n",
       "      <td>0.10213</td>\n",
       "    </tr>\n",
       "  </tbody>\n",
       "</table>\n",
       "</div>"
      ],
      "text/plain": [
       "               Method Train MAE Train MSE Train RMSE  Train R2  Test MAE  \\\n",
       "0            Baseline   1.13938   6.44849   2.539388       0.0  1.217625   \n",
       "1  k Nearest Neighbor    0.7795  5.700893   2.387654  0.115934  0.860727   \n",
       "2                 SVR  1.310754  8.159839   2.856543 -0.265388  1.387391   \n",
       "3       Random Forest  0.765147  5.845366   2.417719  0.093529  0.844308   \n",
       "\n",
       "    Test MSE Test RMSE   Test R2  \n",
       "0   8.129555  2.851237 -0.000723  \n",
       "1   7.202712  2.683787  0.113369  \n",
       "2  10.041406  3.168818 -0.000998  \n",
       "3   7.294014  2.700743   0.10213  "
      ]
     },
     "execution_count": 115,
     "metadata": {},
     "output_type": "execute_result"
    }
   ],
   "source": [
    "results_3 = pd.concat([baseline_3, knn_results_3, svr_results_3, rf3_results], axis = 0, ignore_index = True)\n",
    "results_3 "
   ]
  },
  {
   "cell_type": "markdown",
   "id": "e3d0949c",
   "metadata": {},
   "source": [
    "### Bootstrap Confidence Intervals"
   ]
  },
  {
   "cell_type": "markdown",
   "id": "2c3530bc",
   "metadata": {},
   "source": [
    "#### Hypothesis Testing- Case 3"
   ]
  },
  {
   "cell_type": "markdown",
   "id": "538c728f",
   "metadata": {},
   "source": [
    "#### Correlation Tests - Case 3"
   ]
  },
  {
   "cell_type": "code",
   "execution_count": 116,
   "id": "ec4a1864",
   "metadata": {},
   "outputs": [
    {
     "name": "stdout",
     "output_type": "stream",
     "text": [
      "stat = 0.164, p = 0.000\n",
      "Probably Dependent\n"
     ]
    }
   ],
   "source": [
    "# Spearman's Rank Correlation Test\n",
    "stat_7, p_7 = spearmanr(np.log10(X3), np.log10(y3))\n",
    "print('stat = %.3f, p = %.3f' % (stat_7, p_7))\n",
    "if p_7 > 0.05:\n",
    "    print('Probably Independent')\n",
    "else :\n",
    "    print('Probably Dependent')"
   ]
  },
  {
   "cell_type": "markdown",
   "id": "3aad2cd5",
   "metadata": {},
   "source": [
    "#### Nonparametric Statistical Hypothesis Tests - Case 3"
   ]
  },
  {
   "cell_type": "code",
   "execution_count": 117,
   "id": "4638b04d",
   "metadata": {},
   "outputs": [
    {
     "name": "stdout",
     "output_type": "stream",
     "text": [
      "stat = 28665.000, p = 0.000\n",
      "Probably Dependent\n"
     ]
    }
   ],
   "source": [
    "stat_8, p_8 = wilcoxon(np.log10(mass_2), np.log10(orbper_2))\n",
    "print('stat = %.3f, p = %.3f' % (stat_8, p_8))\n",
    "if p_8 > 0.05:\n",
    "    print('Probably Independent')\n",
    "else :\n",
    "    print('Probably Dependent')"
   ]
  },
  {
   "cell_type": "code",
   "execution_count": 118,
   "id": "8a406da0",
   "metadata": {},
   "outputs": [
    {
     "data": {
      "image/png": "[encoded data removed]",
      "text/plain": [
       "<Figure size 864x864 with 1 Axes>"
      ]
     },
     "metadata": {},
     "output_type": "display_data"
    }
   ],
   "source": [
    "true_values_3 = y3_test\n",
    "predicted_values3_1 = y_knn_test_pred_3\n",
    "predicted_values3_2 = y_svr_test_pred_3\n",
    "predicted_values3_3 = y_rf_test_pred_3\n",
    "plt.figure(figsize = (12, 12))\n",
    "# kNN model\n",
    "knn_3 = plt.scatter(x = true_values_3, y = predicted_values3_1, c = '#68d631')\n",
    "# SVR model\n",
    "svr_3 = plt.scatter(x = true_values_3, y = predicted_values3_2, c = '#2a7505', marker = 's')\n",
    "# Random Forest model\n",
    "rf_3 = plt.scatter(x = true_values_3, y = predicted_values3_3, c = '#addb95', marker = 'x')\n",
    "p5 = max(max(predicted_values3_1), max(predicted_values3_2), max(predicted_values3_3), max(true_values_3))\n",
    "p6 = min(min(predicted_values3_1), min(predicted_values3_2), min(predicted_values3_3), min(true_values_3))\n",
    "\n",
    "plt.plot([p5, p6], [p5, p6], 'b-')\n",
    "plt.title('Prediction and Actual Values - Case III')\n",
    "plt.xlabel('Actual Values')\n",
    "plt.ylabel('Predicted Values')\n",
    "plt.legend([knn_3, svr_3, rf_3], ['kNN', 'SVR', 'RF'], loc = 'upper left')\n",
    "plt.savefig('pred_vs_actual_3.png',dpi=600)\n",
    "plt.show()"
   ]
  },
  {
   "cell_type": "code",
   "execution_count": 119,
   "id": "31c48b9b",
   "metadata": {},
   "outputs": [
    {
     "data": {
      "image/png": "[encoded data removed]",
      "text/plain": [
       "<Figure size 864x864 with 1 Axes>"
      ]
     },
     "metadata": {},
     "output_type": "display_data"
    }
   ],
   "source": [
    "# Will invoke for loop to calculate residulas for the three different models.\n",
    "residuals3_1 = list()\n",
    "for item13, item14 in zip(true_values_3, predicted_values3_1):\n",
    "    residuals3_1.append(item13 - item14)\n",
    "residuals3_2 = list()\n",
    "for item15, item16 in zip(true_values_3, predicted_values3_2):\n",
    "    residuals3_2.append(item15 - item16)\n",
    "residuals3_3 = list()\n",
    "for item17, item18 in zip(true_values_3, predicted_values3_3):\n",
    "    residuals3_3.append(item17 - item18)\n",
    "\n",
    "plt.figure(figsize = (12, 12))\n",
    "# kNN model\n",
    "knn_resid_3 = plt.scatter(x = predicted_values3_1, y = residuals3_1, c = '#cd30f0')\n",
    "# SVR model\n",
    "svr_resid_3 = plt.scatter(x = predicted_values3_2, y = residuals3_2, c = '#b391ba', marker = 's')\n",
    "# Random Forest model\n",
    "rf_resid_3 = plt.scatter(x = predicted_values3_3, y = residuals3_3, c = '#e2c8e8', marker = 'x')\n",
    "\n",
    "plt.title('Residuals versus Fitted values - Case III')\n",
    "plt.xlabel('Fitted Values') # <- Predicted Values\n",
    "plt.ylabel('Residuals')\n",
    "plt.legend([knn_resid_3, svr_resid_3, rf_resid_3], ['kNN', 'SVR', 'RF'], loc = 'upper right')\n",
    "plt.axhline(y = 0.0, color = '#034b8a', linestyle = '--')\n",
    "plt.savefig('resid_3.png',dpi=600)\n",
    "plt.show()"
   ]
  },
  {
   "cell_type": "code",
   "execution_count": 120,
   "id": "4fef15e1",
   "metadata": {},
   "outputs": [
    {
     "name": "stdout",
     "output_type": "stream",
     "text": [
      "Execution time in minutes: 124.81484512885412\n"
     ]
    }
   ],
   "source": [
    "execution_time_0 = (time.time() - start_time_0)\n",
    "print('Execution time in minutes: ' + str(execution_time_0/60))"
   ]
  },
  {
   "cell_type": "code",
   "execution_count": 123,
   "id": "de4cdd63",
   "metadata": {},
   "outputs": [],
   "source": [
    "# End of exoplanet data notebook."
   ]
  }
 ],
 "metadata": {
  "kernelspec": {
   "display_name": "Python 3 (ipykernel)",
   "language": "python",
   "name": "python3"
  },
  "language_info": {
   "codemirror_mode": {
    "name": "ipython",
    "version": 3
   },
   "file_extension": ".py",
   "mimetype": "text/x-python",
   "name": "python",
   "nbconvert_exporter": "python",
   "pygments_lexer": "ipython3",
   "version": "3.9.5"
  }
 },
 "nbformat": 4,
 "nbformat_minor": 5
}
