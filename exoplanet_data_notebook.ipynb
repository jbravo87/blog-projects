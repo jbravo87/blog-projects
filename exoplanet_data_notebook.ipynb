{
 "cells": [
  {
   "cell_type": "markdown",
   "id": "582b4b30",
   "metadata": {},
   "source": [
    "# Planetary Data Analysis Notebook"
   ]
  },
  {
   "cell_type": "markdown",
   "id": "05a80daf",
   "metadata": {},
   "source": [
    "For the first part of this script, I will solely focus on the kNN supervised learning technique applied to the data pertaining to exoplanets from NASA."
   ]
  },
  {
   "cell_type": "code",
   "execution_count": 1,
   "id": "da4d598d",
   "metadata": {},
   "outputs": [],
   "source": [
    "import time\n",
    "start_time_0 = time.time()"
   ]
  },
  {
   "cell_type": "code",
   "execution_count": 2,
   "id": "2a5bf418",
   "metadata": {},
   "outputs": [],
   "source": [
    "# Import necessary libraries\n",
    "from random import seed\n",
    "from random import randrange\n",
    "from numpy.random import rand\n",
    "from numpy.random import randint\n",
    "import pandas as pd\n",
    "import matplotlib.pyplot as plt\n",
    "import numpy as np\n",
    "import statistics\n",
    "import seaborn as sns\n",
    "from sklearn.neighbors import KNeighborsRegressor\n",
    "from sklearn.svm import SVR, LinearSVR\n",
    "from sklearn.ensemble import RandomForestRegressor\n",
    "from sklearn.metrics import mean_squared_error, r2_score\n",
    "from sklearn.metrics import mean_absolute_error, mean_squared_error\n",
    "from sklearn.model_selection import train_test_split\n",
    "from sklearn.utils import resample\n",
    "from scipy import stats\n",
    "from math import sqrt\n",
    "from scipy.stats import wilcoxon\n",
    "from scipy.stats import spearmanr\n",
    "import seaborn as sns\n",
    "sns.set(style=\"whitegrid\")"
   ]
  },
  {
   "cell_type": "code",
   "execution_count": 3,
   "id": "3350c27b",
   "metadata": {
    "scrolled": true
   },
   "outputs": [],
   "source": [
    "# Assign path of data to a variable.\n",
    "# Initiate first data frame with raw data.\n",
    "seed(11)\n",
    "path = 'https://raw.githubusercontent.com/jbravo87/blog-projects/main/data/PS_2022.05.10_21.48.38.csv'\n",
    "raw_data = pd.read_csv(path, skiprows = 12)"
   ]
  },
  {
   "cell_type": "markdown",
   "id": "94fa4fdc",
   "metadata": {},
   "source": [
    "Need to remove the first twelve rows. These rows contain copious notes/remarks. Want to see the head and tail of the data as well as the column names."
   ]
  },
  {
   "cell_type": "code",
   "execution_count": 4,
   "id": "f3940b6a",
   "metadata": {},
   "outputs": [
    {
     "data": {
      "text/html": [
       "<div>\n",
       "<style scoped>\n",
       "    .dataframe tbody tr th:only-of-type {\n",
       "        vertical-align: middle;\n",
       "    }\n",
       "\n",
       "    .dataframe tbody tr th {\n",
       "        vertical-align: top;\n",
       "    }\n",
       "\n",
       "    .dataframe thead th {\n",
       "        text-align: right;\n",
       "    }\n",
       "</style>\n",
       "<table border=\"1\" class=\"dataframe\">\n",
       "  <thead>\n",
       "    <tr style=\"text-align: right;\">\n",
       "      <th></th>\n",
       "      <th>pl_name</th>\n",
       "      <th>hostname</th>\n",
       "      <th>pl_orbper</th>\n",
       "      <th>pl_bmassj</th>\n",
       "      <th>pl_orbeccen</th>\n",
       "      <th>pl_eqt</th>\n",
       "    </tr>\n",
       "  </thead>\n",
       "  <tbody>\n",
       "    <tr>\n",
       "      <th>0</th>\n",
       "      <td>11 Com b</td>\n",
       "      <td>11 Com</td>\n",
       "      <td>326.03000</td>\n",
       "      <td>19.40</td>\n",
       "      <td>0.231</td>\n",
       "      <td>NaN</td>\n",
       "    </tr>\n",
       "    <tr>\n",
       "      <th>1</th>\n",
       "      <td>11 Com b</td>\n",
       "      <td>11 Com</td>\n",
       "      <td>NaN</td>\n",
       "      <td>17.10</td>\n",
       "      <td>NaN</td>\n",
       "      <td>NaN</td>\n",
       "    </tr>\n",
       "    <tr>\n",
       "      <th>2</th>\n",
       "      <td>11 UMi b</td>\n",
       "      <td>11 UMi</td>\n",
       "      <td>NaN</td>\n",
       "      <td>10.80</td>\n",
       "      <td>NaN</td>\n",
       "      <td>NaN</td>\n",
       "    </tr>\n",
       "    <tr>\n",
       "      <th>3</th>\n",
       "      <td>11 UMi b</td>\n",
       "      <td>11 UMi</td>\n",
       "      <td>516.21997</td>\n",
       "      <td>14.74</td>\n",
       "      <td>0.080</td>\n",
       "      <td>NaN</td>\n",
       "    </tr>\n",
       "    <tr>\n",
       "      <th>4</th>\n",
       "      <td>11 UMi b</td>\n",
       "      <td>11 UMi</td>\n",
       "      <td>516.22000</td>\n",
       "      <td>10.50</td>\n",
       "      <td>0.080</td>\n",
       "      <td>NaN</td>\n",
       "    </tr>\n",
       "    <tr>\n",
       "      <th>...</th>\n",
       "      <td>...</td>\n",
       "      <td>...</td>\n",
       "      <td>...</td>\n",
       "      <td>...</td>\n",
       "      <td>...</td>\n",
       "      <td>...</td>\n",
       "    </tr>\n",
       "    <tr>\n",
       "      <th>32511</th>\n",
       "      <td>ups And d</td>\n",
       "      <td>ups And</td>\n",
       "      <td>1282.41000</td>\n",
       "      <td>4.10</td>\n",
       "      <td>0.294</td>\n",
       "      <td>NaN</td>\n",
       "    </tr>\n",
       "    <tr>\n",
       "      <th>32512</th>\n",
       "      <td>ups And d</td>\n",
       "      <td>ups And</td>\n",
       "      <td>1281.50700</td>\n",
       "      <td>10.25</td>\n",
       "      <td>0.316</td>\n",
       "      <td>NaN</td>\n",
       "    </tr>\n",
       "    <tr>\n",
       "      <th>32513</th>\n",
       "      <td>ups Leo b</td>\n",
       "      <td>ups Leo</td>\n",
       "      <td>385.20000</td>\n",
       "      <td>0.51</td>\n",
       "      <td>0.320</td>\n",
       "      <td>NaN</td>\n",
       "    </tr>\n",
       "    <tr>\n",
       "      <th>32514</th>\n",
       "      <td>xi Aql b</td>\n",
       "      <td>xi Aql</td>\n",
       "      <td>NaN</td>\n",
       "      <td>2.02</td>\n",
       "      <td>NaN</td>\n",
       "      <td>NaN</td>\n",
       "    </tr>\n",
       "    <tr>\n",
       "      <th>32515</th>\n",
       "      <td>xi Aql b</td>\n",
       "      <td>xi Aql</td>\n",
       "      <td>136.75000</td>\n",
       "      <td>2.80</td>\n",
       "      <td>0.000</td>\n",
       "      <td>NaN</td>\n",
       "    </tr>\n",
       "  </tbody>\n",
       "</table>\n",
       "<p>32516 rows × 6 columns</p>\n",
       "</div>"
      ],
      "text/plain": [
       "         pl_name hostname   pl_orbper  pl_bmassj  pl_orbeccen  pl_eqt\n",
       "0       11 Com b   11 Com   326.03000      19.40        0.231     NaN\n",
       "1       11 Com b   11 Com         NaN      17.10          NaN     NaN\n",
       "2       11 UMi b   11 UMi         NaN      10.80          NaN     NaN\n",
       "3       11 UMi b   11 UMi   516.21997      14.74        0.080     NaN\n",
       "4       11 UMi b   11 UMi   516.22000      10.50        0.080     NaN\n",
       "...          ...      ...         ...        ...          ...     ...\n",
       "32511  ups And d  ups And  1282.41000       4.10        0.294     NaN\n",
       "32512  ups And d  ups And  1281.50700      10.25        0.316     NaN\n",
       "32513  ups Leo b  ups Leo   385.20000       0.51        0.320     NaN\n",
       "32514   xi Aql b   xi Aql         NaN       2.02          NaN     NaN\n",
       "32515   xi Aql b   xi Aql   136.75000       2.80        0.000     NaN\n",
       "\n",
       "[32516 rows x 6 columns]"
      ]
     },
     "execution_count": 4,
     "metadata": {},
     "output_type": "execute_result"
    }
   ],
   "source": [
    "raw_data"
   ]
  },
  {
   "cell_type": "code",
   "execution_count": 5,
   "id": "19e40d9d",
   "metadata": {},
   "outputs": [
    {
     "data": {
      "text/plain": [
       "Index(['pl_name', 'hostname', 'pl_orbper', 'pl_bmassj', 'pl_orbeccen',\n",
       "       'pl_eqt'],\n",
       "      dtype='object')"
      ]
     },
     "execution_count": 5,
     "metadata": {},
     "output_type": "execute_result"
    }
   ],
   "source": [
    "raw_data.columns"
   ]
  },
  {
   "cell_type": "markdown",
   "id": "856732c0",
   "metadata": {},
   "source": [
    "Now want to create first data frame with columns of interest. In this first case/scenario want to study planet eccentricity (dependent/response variable) as a function of orbital period of planet (independent/predictor variable)."
   ]
  },
  {
   "cell_type": "markdown",
   "id": "794fe185",
   "metadata": {},
   "source": [
    "## Case 1 - Eccentricity as function of Orbital Period"
   ]
  },
  {
   "cell_type": "code",
   "execution_count": 6,
   "id": "a94798ad",
   "metadata": {},
   "outputs": [
    {
     "data": {
      "text/html": [
       "<div>\n",
       "<style scoped>\n",
       "    .dataframe tbody tr th:only-of-type {\n",
       "        vertical-align: middle;\n",
       "    }\n",
       "\n",
       "    .dataframe tbody tr th {\n",
       "        vertical-align: top;\n",
       "    }\n",
       "\n",
       "    .dataframe thead th {\n",
       "        text-align: right;\n",
       "    }\n",
       "</style>\n",
       "<table border=\"1\" class=\"dataframe\">\n",
       "  <thead>\n",
       "    <tr style=\"text-align: right;\">\n",
       "      <th></th>\n",
       "      <th>pl_name</th>\n",
       "      <th>pl_orbper</th>\n",
       "      <th>pl_orbeccen</th>\n",
       "    </tr>\n",
       "  </thead>\n",
       "  <tbody>\n",
       "    <tr>\n",
       "      <th>0</th>\n",
       "      <td>11 Com b</td>\n",
       "      <td>326.03000</td>\n",
       "      <td>0.231</td>\n",
       "    </tr>\n",
       "    <tr>\n",
       "      <th>1</th>\n",
       "      <td>11 Com b</td>\n",
       "      <td>NaN</td>\n",
       "      <td>NaN</td>\n",
       "    </tr>\n",
       "    <tr>\n",
       "      <th>2</th>\n",
       "      <td>11 UMi b</td>\n",
       "      <td>NaN</td>\n",
       "      <td>NaN</td>\n",
       "    </tr>\n",
       "    <tr>\n",
       "      <th>3</th>\n",
       "      <td>11 UMi b</td>\n",
       "      <td>516.21997</td>\n",
       "      <td>0.080</td>\n",
       "    </tr>\n",
       "    <tr>\n",
       "      <th>4</th>\n",
       "      <td>11 UMi b</td>\n",
       "      <td>516.22000</td>\n",
       "      <td>0.080</td>\n",
       "    </tr>\n",
       "    <tr>\n",
       "      <th>...</th>\n",
       "      <td>...</td>\n",
       "      <td>...</td>\n",
       "      <td>...</td>\n",
       "    </tr>\n",
       "    <tr>\n",
       "      <th>32511</th>\n",
       "      <td>ups And d</td>\n",
       "      <td>1282.41000</td>\n",
       "      <td>0.294</td>\n",
       "    </tr>\n",
       "    <tr>\n",
       "      <th>32512</th>\n",
       "      <td>ups And d</td>\n",
       "      <td>1281.50700</td>\n",
       "      <td>0.316</td>\n",
       "    </tr>\n",
       "    <tr>\n",
       "      <th>32513</th>\n",
       "      <td>ups Leo b</td>\n",
       "      <td>385.20000</td>\n",
       "      <td>0.320</td>\n",
       "    </tr>\n",
       "    <tr>\n",
       "      <th>32514</th>\n",
       "      <td>xi Aql b</td>\n",
       "      <td>NaN</td>\n",
       "      <td>NaN</td>\n",
       "    </tr>\n",
       "    <tr>\n",
       "      <th>32515</th>\n",
       "      <td>xi Aql b</td>\n",
       "      <td>136.75000</td>\n",
       "      <td>0.000</td>\n",
       "    </tr>\n",
       "  </tbody>\n",
       "</table>\n",
       "<p>32516 rows × 3 columns</p>\n",
       "</div>"
      ],
      "text/plain": [
       "         pl_name   pl_orbper  pl_orbeccen\n",
       "0       11 Com b   326.03000        0.231\n",
       "1       11 Com b         NaN          NaN\n",
       "2       11 UMi b         NaN          NaN\n",
       "3       11 UMi b   516.21997        0.080\n",
       "4       11 UMi b   516.22000        0.080\n",
       "...          ...         ...          ...\n",
       "32511  ups And d  1282.41000        0.294\n",
       "32512  ups And d  1281.50700        0.316\n",
       "32513  ups Leo b   385.20000        0.320\n",
       "32514   xi Aql b         NaN          NaN\n",
       "32515   xi Aql b   136.75000        0.000\n",
       "\n",
       "[32516 rows x 3 columns]"
      ]
     },
     "execution_count": 6,
     "metadata": {},
     "output_type": "execute_result"
    }
   ],
   "source": [
    "df1 = raw_data.loc[:, ['pl_name','pl_orbper','pl_orbeccen']]\n",
    "#df1.reset_index(drop=True, inplace=True) # <- Perhaps use this logic in a couple of lines.\n",
    "df1"
   ]
  },
  {
   "cell_type": "markdown",
   "id": "e2767e48",
   "metadata": {},
   "source": [
    "Will rename the columns of interest for ease, i.e. make analysis clearer, and remove unnecessary rows by removing all the NA values from the original data frame."
   ]
  },
  {
   "cell_type": "code",
   "execution_count": 7,
   "id": "fb2add65",
   "metadata": {},
   "outputs": [
    {
     "data": {
      "text/html": [
       "<div>\n",
       "<style scoped>\n",
       "    .dataframe tbody tr th:only-of-type {\n",
       "        vertical-align: middle;\n",
       "    }\n",
       "\n",
       "    .dataframe tbody tr th {\n",
       "        vertical-align: top;\n",
       "    }\n",
       "\n",
       "    .dataframe thead th {\n",
       "        text-align: right;\n",
       "    }\n",
       "</style>\n",
       "<table border=\"1\" class=\"dataframe\">\n",
       "  <thead>\n",
       "    <tr style=\"text-align: right;\">\n",
       "      <th></th>\n",
       "      <th>planetname</th>\n",
       "      <th>orbitperiod</th>\n",
       "      <th>eccentricity</th>\n",
       "    </tr>\n",
       "  </thead>\n",
       "  <tbody>\n",
       "    <tr>\n",
       "      <th>0</th>\n",
       "      <td>11 Com b</td>\n",
       "      <td>326.03000</td>\n",
       "      <td>0.2310</td>\n",
       "    </tr>\n",
       "    <tr>\n",
       "      <th>3</th>\n",
       "      <td>11 UMi b</td>\n",
       "      <td>516.21997</td>\n",
       "      <td>0.0800</td>\n",
       "    </tr>\n",
       "    <tr>\n",
       "      <th>4</th>\n",
       "      <td>11 UMi b</td>\n",
       "      <td>516.22000</td>\n",
       "      <td>0.0800</td>\n",
       "    </tr>\n",
       "    <tr>\n",
       "      <th>6</th>\n",
       "      <td>14 And b</td>\n",
       "      <td>185.84000</td>\n",
       "      <td>0.0000</td>\n",
       "    </tr>\n",
       "    <tr>\n",
       "      <th>7</th>\n",
       "      <td>14 Her b</td>\n",
       "      <td>1766.41000</td>\n",
       "      <td>0.3674</td>\n",
       "    </tr>\n",
       "    <tr>\n",
       "      <th>...</th>\n",
       "      <td>...</td>\n",
       "      <td>...</td>\n",
       "      <td>...</td>\n",
       "    </tr>\n",
       "    <tr>\n",
       "      <th>32510</th>\n",
       "      <td>ups And d</td>\n",
       "      <td>1274.60000</td>\n",
       "      <td>0.2420</td>\n",
       "    </tr>\n",
       "    <tr>\n",
       "      <th>32511</th>\n",
       "      <td>ups And d</td>\n",
       "      <td>1282.41000</td>\n",
       "      <td>0.2940</td>\n",
       "    </tr>\n",
       "    <tr>\n",
       "      <th>32512</th>\n",
       "      <td>ups And d</td>\n",
       "      <td>1281.50700</td>\n",
       "      <td>0.3160</td>\n",
       "    </tr>\n",
       "    <tr>\n",
       "      <th>32513</th>\n",
       "      <td>ups Leo b</td>\n",
       "      <td>385.20000</td>\n",
       "      <td>0.3200</td>\n",
       "    </tr>\n",
       "    <tr>\n",
       "      <th>32515</th>\n",
       "      <td>xi Aql b</td>\n",
       "      <td>136.75000</td>\n",
       "      <td>0.0000</td>\n",
       "    </tr>\n",
       "  </tbody>\n",
       "</table>\n",
       "<p>16542 rows × 3 columns</p>\n",
       "</div>"
      ],
      "text/plain": [
       "      planetname  orbitperiod  eccentricity\n",
       "0       11 Com b    326.03000        0.2310\n",
       "3       11 UMi b    516.21997        0.0800\n",
       "4       11 UMi b    516.22000        0.0800\n",
       "6       14 And b    185.84000        0.0000\n",
       "7       14 Her b   1766.41000        0.3674\n",
       "...          ...          ...           ...\n",
       "32510  ups And d   1274.60000        0.2420\n",
       "32511  ups And d   1282.41000        0.2940\n",
       "32512  ups And d   1281.50700        0.3160\n",
       "32513  ups Leo b    385.20000        0.3200\n",
       "32515   xi Aql b    136.75000        0.0000\n",
       "\n",
       "[16542 rows x 3 columns]"
      ]
     },
     "execution_count": 7,
     "metadata": {},
     "output_type": "execute_result"
    }
   ],
   "source": [
    "df1 = df1.rename(columns={'pl_name':'planetname', 'pl_orbper':'orbitperiod', 'pl_orbeccen':'eccentricity'})\n",
    "df1 = df1.dropna()\n",
    "#df1 = df1.fillna(df1.median(numeric_only=True))\n",
    "df1"
   ]
  },
  {
   "cell_type": "markdown",
   "id": "1b4e086a",
   "metadata": {},
   "source": [
    "The following logic is to determine the data types of the column entries in the latest data frame. Again, this is the data type (dtype) for individual entries within the data frame."
   ]
  },
  {
   "cell_type": "code",
   "execution_count": 8,
   "id": "76cc12d5",
   "metadata": {},
   "outputs": [
    {
     "name": "stdout",
     "output_type": "stream",
     "text": [
      "<class 'numpy.float64'>\n",
      "<class 'numpy.float64'>\n"
     ]
    }
   ],
   "source": [
    "print(type(df1.iloc[0][1]))\n",
    "print(type(df1.iloc[0][2]))"
   ]
  },
  {
   "cell_type": "code",
   "execution_count": 9,
   "id": "10221073",
   "metadata": {},
   "outputs": [
    {
     "data": {
      "text/plain": [
       "pandas.core.frame.DataFrame"
      ]
     },
     "execution_count": 9,
     "metadata": {},
     "output_type": "execute_result"
    }
   ],
   "source": [
    "type(df1)"
   ]
  },
  {
   "cell_type": "code",
   "execution_count": 10,
   "id": "b0f32f3c",
   "metadata": {},
   "outputs": [
    {
     "name": "stdout",
     "output_type": "stream",
     "text": [
      "The data type of the eccentricity column is: float64\n"
     ]
    }
   ],
   "source": [
    "print(\"The data type of the eccentricity column is:\", df1.dtypes['eccentricity'])"
   ]
  },
  {
   "cell_type": "markdown",
   "id": "4e3e9a8a",
   "metadata": {},
   "source": [
    "Notice df1 is indeed a data frame, and the entries within are numpy float number type.\n",
    "\n",
    "Want to limit each scenario to two dataframes. Once cleaned, need another to take arithmetic mean of multiple entries. For example, Dataframe 2 will take the averages of multiple planet entries. Following lines will take arithmetic mean of the two columns of interest and concate the two columns into the third dataframe.\n",
    "\n",
    "First will create intermediate variables to store the resulting averages."
   ]
  },
  {
   "cell_type": "code",
   "execution_count": 11,
   "id": "e89428a6",
   "metadata": {},
   "outputs": [],
   "source": [
    "eccen = df1.groupby('planetname')['eccentricity'].mean()\n",
    "orbper = df1.groupby('planetname')['orbitperiod'].mean()"
   ]
  },
  {
   "cell_type": "code",
   "execution_count": 12,
   "id": "c89c7c66",
   "metadata": {},
   "outputs": [
    {
     "name": "stdout",
     "output_type": "stream",
     "text": [
      "planetname\n",
      "11 Com b      0.231000\n",
      "11 UMi b      0.080000\n",
      "14 And b      0.000000\n",
      "14 Her b      0.362233\n",
      "16 Cyg B b    0.676033\n",
      "                ...   \n",
      "ups And b     0.030200\n",
      "ups And c     0.238933\n",
      "ups And d     0.281117\n",
      "ups Leo b     0.320000\n",
      "xi Aql b      0.000000\n",
      "Name: eccentricity, Length: 4371, dtype: float64\n",
      "planetname\n",
      "11 Com b       326.030000\n",
      "11 UMi b       516.219985\n",
      "14 And b       185.840000\n",
      "14 Her b      1766.601670\n",
      "16 Cyg B b     799.375000\n",
      "                 ...     \n",
      "ups And b        4.616229\n",
      "ups And c      240.728533\n",
      "ups And d     1285.346167\n",
      "ups Leo b      385.200000\n",
      "xi Aql b       136.750000\n",
      "Name: orbitperiod, Length: 4371, dtype: float64\n"
     ]
    }
   ],
   "source": [
    "print(eccen)\n",
    "print(orbper)"
   ]
  },
  {
   "cell_type": "code",
   "execution_count": 13,
   "id": "7ed16b08",
   "metadata": {},
   "outputs": [
    {
     "data": {
      "text/plain": [
       "pandas.core.series.Series"
      ]
     },
     "execution_count": 13,
     "metadata": {},
     "output_type": "execute_result"
    }
   ],
   "source": [
    "type(eccen)"
   ]
  },
  {
   "cell_type": "code",
   "execution_count": 14,
   "id": "20912dda",
   "metadata": {},
   "outputs": [
    {
     "data": {
      "text/plain": [
       "pandas.core.series.Series"
      ]
     },
     "execution_count": 14,
     "metadata": {},
     "output_type": "execute_result"
    }
   ],
   "source": [
    "type(orbper)"
   ]
  },
  {
   "cell_type": "markdown",
   "id": "5368c45e",
   "metadata": {},
   "source": [
    "In this part want to explicitly declare the median and IQR of the two columns which are the variables. But the summary statistics part of the analysis can be done with variables declared earlier."
   ]
  },
  {
   "cell_type": "code",
   "execution_count": 15,
   "id": "5cc9cf09",
   "metadata": {},
   "outputs": [
    {
     "name": "stdout",
     "output_type": "stream",
     "text": [
      "\n",
      "The median of the orbital period: 12.2538\n",
      "\n",
      "The median of the eccentricity: 0.00\n",
      "\n",
      "The interquartile range of the eccentricity: 0.07\n",
      "\n",
      "The interquartile range of the orbital period: 39.93\n",
      "\n",
      "The mean for the eccentricity: 0.06\n",
      "\n",
      "The mean for the orbital period: 709.51\n"
     ]
    }
   ],
   "source": [
    "eccen_med = statistics.median(list(eccen))\n",
    "orbper_med = statistics.median(list(orbper))\n",
    "print('\\nThe median of the orbital period: %.4f' % orbper_med)\n",
    "print('\\nThe median of the eccentricity: %.2f' % eccen_med)\n",
    "iqr_eccen = stats.iqr(eccen, interpolation = 'midpoint')\n",
    "iqr_orbper = stats.iqr(orbper, interpolation = 'midpoint')\n",
    "print('\\nThe interquartile range of the eccentricity: %.2f' % iqr_eccen)\n",
    "print('\\nThe interquartile range of the orbital period: %.2f' % iqr_orbper)\n",
    "eccen_avg = statistics.mean(list(eccen))\n",
    "print('\\nThe mean for the eccentricity: %.2f' % eccen_avg)\n",
    "orbper_avg = statistics.mean(list(orbper))\n",
    "print('\\nThe mean for the orbital period: %.2f' % orbper_avg)"
   ]
  },
  {
   "cell_type": "markdown",
   "id": "53c49ecf",
   "metadata": {},
   "source": [
    "Five number summary including the central tendencies above."
   ]
  },
  {
   "cell_type": "code",
   "execution_count": 16,
   "id": "dad78100",
   "metadata": {},
   "outputs": [],
   "source": [
    "def fivenum(data):\n",
    "    \"\"\"Five-number summary.\"\"\"\n",
    "    return np.percentile(data, [0, 25, 50, 75, 100], method = 'midpoint')\n",
    "    # Line below was for an older version of Jupyter\n",
    "    #return np.percentile(data, [0, 25, 50, 75, 100], interpolation='midpoint')"
   ]
  },
  {
   "cell_type": "code",
   "execution_count": 17,
   "id": "9198d85b",
   "metadata": {},
   "outputs": [
    {
     "data": {
      "text/plain": [
       "array([0.        , 0.        , 0.        , 0.0659375 , 0.93188167])"
      ]
     },
     "execution_count": 17,
     "metadata": {},
     "output_type": "execute_result"
    }
   ],
   "source": [
    "# Min, 1st quantile, median, 3rd quantile, max\n",
    "fivenum(eccen)"
   ]
  },
  {
   "cell_type": "code",
   "execution_count": 18,
   "id": "e0fdc846",
   "metadata": {},
   "outputs": [
    {
     "data": {
      "text/plain": [
       "array([9.07062900e-02, 4.60227484e+00, 1.22538359e+01, 4.45284631e+01,\n",
       "       1.79000000e+06])"
      ]
     },
     "execution_count": 18,
     "metadata": {},
     "output_type": "execute_result"
    }
   ],
   "source": [
    "# Min, 1st quantile, median, 3rd quantile, max\n",
    "fivenum(orbper)"
   ]
  },
  {
   "cell_type": "code",
   "execution_count": 19,
   "id": "5c737eed",
   "metadata": {},
   "outputs": [
    {
     "data": {
      "text/html": [
       "<div>\n",
       "<style scoped>\n",
       "    .dataframe tbody tr th:only-of-type {\n",
       "        vertical-align: middle;\n",
       "    }\n",
       "\n",
       "    .dataframe tbody tr th {\n",
       "        vertical-align: top;\n",
       "    }\n",
       "\n",
       "    .dataframe thead th {\n",
       "        text-align: right;\n",
       "    }\n",
       "</style>\n",
       "<table border=\"1\" class=\"dataframe\">\n",
       "  <thead>\n",
       "    <tr style=\"text-align: right;\">\n",
       "      <th></th>\n",
       "      <th>orbitperiod</th>\n",
       "      <th>eccentricity</th>\n",
       "    </tr>\n",
       "    <tr>\n",
       "      <th>planetname</th>\n",
       "      <th></th>\n",
       "      <th></th>\n",
       "    </tr>\n",
       "  </thead>\n",
       "  <tbody>\n",
       "    <tr>\n",
       "      <th>11 Com b</th>\n",
       "      <td>326.030000</td>\n",
       "      <td>0.231000</td>\n",
       "    </tr>\n",
       "    <tr>\n",
       "      <th>11 UMi b</th>\n",
       "      <td>516.219985</td>\n",
       "      <td>0.080000</td>\n",
       "    </tr>\n",
       "    <tr>\n",
       "      <th>14 And b</th>\n",
       "      <td>185.840000</td>\n",
       "      <td>0.000000</td>\n",
       "    </tr>\n",
       "    <tr>\n",
       "      <th>14 Her b</th>\n",
       "      <td>1766.601670</td>\n",
       "      <td>0.362233</td>\n",
       "    </tr>\n",
       "    <tr>\n",
       "      <th>16 Cyg B b</th>\n",
       "      <td>799.375000</td>\n",
       "      <td>0.676033</td>\n",
       "    </tr>\n",
       "    <tr>\n",
       "      <th>...</th>\n",
       "      <td>...</td>\n",
       "      <td>...</td>\n",
       "    </tr>\n",
       "    <tr>\n",
       "      <th>ups And b</th>\n",
       "      <td>4.616229</td>\n",
       "      <td>0.030200</td>\n",
       "    </tr>\n",
       "    <tr>\n",
       "      <th>ups And c</th>\n",
       "      <td>240.728533</td>\n",
       "      <td>0.238933</td>\n",
       "    </tr>\n",
       "    <tr>\n",
       "      <th>ups And d</th>\n",
       "      <td>1285.346167</td>\n",
       "      <td>0.281117</td>\n",
       "    </tr>\n",
       "    <tr>\n",
       "      <th>ups Leo b</th>\n",
       "      <td>385.200000</td>\n",
       "      <td>0.320000</td>\n",
       "    </tr>\n",
       "    <tr>\n",
       "      <th>xi Aql b</th>\n",
       "      <td>136.750000</td>\n",
       "      <td>0.000000</td>\n",
       "    </tr>\n",
       "  </tbody>\n",
       "</table>\n",
       "<p>4371 rows × 2 columns</p>\n",
       "</div>"
      ],
      "text/plain": [
       "            orbitperiod  eccentricity\n",
       "planetname                           \n",
       "11 Com b     326.030000      0.231000\n",
       "11 UMi b     516.219985      0.080000\n",
       "14 And b     185.840000      0.000000\n",
       "14 Her b    1766.601670      0.362233\n",
       "16 Cyg B b   799.375000      0.676033\n",
       "...                 ...           ...\n",
       "ups And b      4.616229      0.030200\n",
       "ups And c    240.728533      0.238933\n",
       "ups And d   1285.346167      0.281117\n",
       "ups Leo b    385.200000      0.320000\n",
       "xi Aql b     136.750000      0.000000\n",
       "\n",
       "[4371 rows x 2 columns]"
      ]
     },
     "execution_count": 19,
     "metadata": {},
     "output_type": "execute_result"
    }
   ],
   "source": [
    "df1 = pd.concat([orbper, eccen], axis = 1)\n",
    "df1"
   ]
  },
  {
   "cell_type": "markdown",
   "id": "fdeeafea",
   "metadata": {},
   "source": [
    "Want the number of observations for reporting."
   ]
  },
  {
   "cell_type": "code",
   "execution_count": 20,
   "id": "1034a1cd",
   "metadata": {},
   "outputs": [
    {
     "name": "stdout",
     "output_type": "stream",
     "text": [
      "the number of observations: 4371\n"
     ]
    }
   ],
   "source": [
    "print(\"the number of observations:\", len(df1.index))"
   ]
  },
  {
   "cell_type": "code",
   "execution_count": 21,
   "id": "298032e8",
   "metadata": {},
   "outputs": [
    {
     "name": "stdout",
     "output_type": "stream",
     "text": [
      "The length of predictor (orbital period) is:  4371\n",
      "The length of response (eccentricity) is:  4371\n"
     ]
    }
   ],
   "source": [
    "print(\"The length of predictor (orbital period) is: \", len(df1.index))\n",
    "print(\"The length of response (eccentricity) is: \", len(df1.index))"
   ]
  },
  {
   "cell_type": "markdown",
   "id": "2d30e3fe",
   "metadata": {},
   "source": [
    "All the filtering and cleaning was handled by end of df1."
   ]
  },
  {
   "cell_type": "code",
   "execution_count": 22,
   "id": "be493207",
   "metadata": {},
   "outputs": [
    {
     "data": {
      "text/plain": [
       "Index(['orbitperiod', 'eccentricity'], dtype='object')"
      ]
     },
     "execution_count": 22,
     "metadata": {},
     "output_type": "execute_result"
    }
   ],
   "source": [
    "df1.columns"
   ]
  },
  {
   "cell_type": "markdown",
   "id": "cd6718a3",
   "metadata": {},
   "source": [
    "The orbital period is skewed right, but after applying a log transform, the distribution more closely resembles a Gaussian distribution."
   ]
  },
  {
   "cell_type": "code",
   "execution_count": 23,
   "id": "1d570716",
   "metadata": {},
   "outputs": [
    {
     "data": {
      "image/png": "[encoded data removed]",
      "text/plain": [
       "<Figure size 648x504 with 4 Axes>"
      ]
     },
     "metadata": {},
     "output_type": "display_data"
    }
   ],
   "source": [
    "# First, perform log base 10 transform\n",
    "orbper_log = np.log10(orbper)\n",
    "eccen_log = np.log10(eccen + 10)\n",
    "# Plotting Logic\n",
    "fig1, ax1 = plt.subplots(2, 2,figsize = (9, 7), \n",
    "                       constrained_layout = True)\n",
    "fig1.suptitle('Histograms - Case 1')\n",
    "ax1[0, 0].hist(orbper, color = 'darkgreen', edgecolor = 'white')\n",
    "#ax1[0, 0].set_title('') #<- use this logic to give each plot its own title.\n",
    "ax1[0, 0].set(xlabel = 'orbital period')\n",
    "ax1[0, 1].hist(orbper_log, color = \"darkgreen\", edgecolor = 'red')\n",
    "ax1[0, 1].set(xlabel = 'log10(orbital period)')\n",
    "ax1[1, 0].hist(eccen, color = \"maroon\", edgecolor = 'green')\n",
    "ax1[1, 0].set(xlabel = 'eccentricity')\n",
    "ax1[1, 1].hist(eccen_log, color = \"maroon\", edgecolor = 'green')\n",
    "ax1[1, 1].set(xlabel = 'log10(eccentricity)')\n",
    "\n",
    "for ax in ax1.flat:\n",
    "    ax.set(ylabel = 'Frequency')\n",
    "plt.savefig('histograms_1.png',dpi=600)\n",
    "#fig1.tight_layout()"
   ]
  },
  {
   "cell_type": "markdown",
   "id": "828f08f7",
   "metadata": {},
   "source": [
    "The distribution is still skewed right after applying the transform."
   ]
  },
  {
   "cell_type": "markdown",
   "id": "773bf80e",
   "metadata": {},
   "source": [
    "#### Model Building"
   ]
  },
  {
   "cell_type": "markdown",
   "id": "94aad9c2",
   "metadata": {},
   "source": [
    "As a resampling method, will use the train-test-split (tts) method."
   ]
  },
  {
   "cell_type": "code",
   "execution_count": 24,
   "id": "415cba78",
   "metadata": {},
   "outputs": [],
   "source": [
    "X1 = np.array(orbper).reshape(-1,1)\n",
    "y1 = np.array(eccen).reshape(-1, 1)\n",
    "X1_train, X1_test, y1_train, y1_test = train_test_split(X1, y1, train_size = 0.80, random_state = 25)\n",
    "y1_train = y1_train.reshape(len(y1_train), )\n",
    "y1_test = y1_test.reshape(len(y1_test), )"
   ]
  },
  {
   "cell_type": "markdown",
   "id": "730ac677",
   "metadata": {},
   "source": [
    "Will change the central tendency metric from median to mean to get a better R-squared metric."
   ]
  },
  {
   "cell_type": "code",
   "execution_count": 25,
   "id": "4ec8741f",
   "metadata": {},
   "outputs": [
    {
     "data": {
      "text/plain": [
       "0.0637315305801972"
      ]
     },
     "execution_count": 25,
     "metadata": {},
     "output_type": "execute_result"
    }
   ],
   "source": [
    "# For central tendency can use either median or mean.\n",
    "y_baseline = y1_train.mean()\n",
    "#y_baseline = statistics.median(y1_train)\n",
    "y_baseline"
   ]
  },
  {
   "cell_type": "code",
   "execution_count": 26,
   "id": "afa5fad7",
   "metadata": {},
   "outputs": [],
   "source": [
    "y_pred_train = [y_baseline] * len(y1_train)"
   ]
  },
  {
   "cell_type": "code",
   "execution_count": 27,
   "id": "30f43feb",
   "metadata": {},
   "outputs": [
    {
     "name": "stdout",
     "output_type": "stream",
     "text": [
      "Traing Set Mean Absolute Error: 0.08752901986553943\n",
      "Traing Set Mean Squared Error: 0.01788375152612843\n",
      "Traing Set Root Mean Square Error: 0.13373014441825906\n",
      "Traing Set R2: 0.0\n"
     ]
    }
   ],
   "source": [
    "# Following is for the Training Dataset.\n",
    "# Error for training data baseline guess.\n",
    "mae_train_1 = mean_absolute_error(y1_train, y_pred_train)\n",
    "print(f'Traing Set Mean Absolute Error: {mae_train_1}')\n",
    "# Mean squared error for training data baseline guess.\n",
    "mse_train_1 = mean_squared_error(y1_train, y_pred_train)\n",
    "print(f'Traing Set Mean Squared Error: {mse_train_1}')\n",
    "rmse_train_1 = sqrt(mse_train_1) # <- will compute the root mean square error\n",
    "print(f'Traing Set Root Mean Square Error: {rmse_train_1}')\n",
    "# R-squared for training data baseline guess.\n",
    "r2_train_1 = r2_score(y1_train, y_pred_train)\n",
    "print(f'Traing Set R2: {r2_train_1}')"
   ]
  },
  {
   "cell_type": "code",
   "execution_count": 28,
   "id": "0d477cf0",
   "metadata": {},
   "outputs": [],
   "source": [
    "y_pred_test = [y_baseline] * len(y1_test)"
   ]
  },
  {
   "cell_type": "code",
   "execution_count": 29,
   "id": "2bd7f488",
   "metadata": {},
   "outputs": [
    {
     "name": "stdout",
     "output_type": "stream",
     "text": [
      "Test Set Mean Absolute Error: 0.09067568318514926\n",
      "Test Set Mean Squared Error: 0.019771780663498325\n",
      "Test Set Root Mean Square Error: 0.14061216399550333\n",
      "Test Set R2: -9.981601752739877e-05\n"
     ]
    }
   ],
   "source": [
    "# Error for test data baseline guess.\n",
    "mae_test_1 = mean_absolute_error(y1_test, y_pred_test)\n",
    "print(f'Test Set Mean Absolute Error: {mae_test_1}')\n",
    "# Mean squared error for test data baseline guess.\n",
    "mse_test_1 = mean_squared_error(y1_test, y_pred_test)\n",
    "print(f'Test Set Mean Squared Error: {mse_test_1}')\n",
    "rmse_test_1 = sqrt(mse_test_1) # <- will compute the root mean square error\n",
    "print(f'Test Set Root Mean Square Error: {rmse_test_1}')\n",
    "# R-squared for test data baseline guess.\n",
    "r2_test_1 = r2_score(y1_test, y_pred_test)\n",
    "print(f'Test Set R2: {r2_test_1}')"
   ]
  },
  {
   "cell_type": "code",
   "execution_count": 30,
   "id": "839e1f9e",
   "metadata": {},
   "outputs": [
    {
     "data": {
      "text/html": [
       "<div>\n",
       "<style scoped>\n",
       "    .dataframe tbody tr th:only-of-type {\n",
       "        vertical-align: middle;\n",
       "    }\n",
       "\n",
       "    .dataframe tbody tr th {\n",
       "        vertical-align: top;\n",
       "    }\n",
       "\n",
       "    .dataframe thead th {\n",
       "        text-align: right;\n",
       "    }\n",
       "</style>\n",
       "<table border=\"1\" class=\"dataframe\">\n",
       "  <thead>\n",
       "    <tr style=\"text-align: right;\">\n",
       "      <th></th>\n",
       "      <th>Method</th>\n",
       "      <th>Train MAE</th>\n",
       "      <th>Train MSE</th>\n",
       "      <th>Train RMSE</th>\n",
       "      <th>Train R2</th>\n",
       "      <th>Test MAE</th>\n",
       "      <th>Test MSE</th>\n",
       "      <th>Test RMSE</th>\n",
       "      <th>Test R2</th>\n",
       "    </tr>\n",
       "  </thead>\n",
       "  <tbody>\n",
       "    <tr>\n",
       "      <th>0</th>\n",
       "      <td>Baseline</td>\n",
       "      <td>0.087529</td>\n",
       "      <td>0.017884</td>\n",
       "      <td>0.13373</td>\n",
       "      <td>0.0</td>\n",
       "      <td>0.090676</td>\n",
       "      <td>0.019772</td>\n",
       "      <td>0.140612</td>\n",
       "      <td>-0.0001</td>\n",
       "    </tr>\n",
       "  </tbody>\n",
       "</table>\n",
       "</div>"
      ],
      "text/plain": [
       "     Method Train MAE Train MSE Train RMSE Train R2  Test MAE  Test MSE  \\\n",
       "0  Baseline  0.087529  0.017884    0.13373      0.0  0.090676  0.019772   \n",
       "\n",
       "  Test RMSE Test R2  \n",
       "0  0.140612 -0.0001  "
      ]
     },
     "execution_count": 30,
     "metadata": {},
     "output_type": "execute_result"
    }
   ],
   "source": [
    "prediction_1 = pd.DataFrame(['Baseline', mae_train_1, mse_train_1, rmse_train_1, r2_train_1, mae_test_1, mse_test_1, rmse_test_1, r2_test_1]).T\n",
    "metric_col_names = ['Method', 'Train MAE', 'Train MSE', 'Train RMSE', 'Train R2', 'Test MAE', 'Test MSE','Test RMSE', 'Test R2'] # <- This list will be used over so easier to store in variable.\n",
    "prediction_1.columns = metric_col_names\n",
    "prediction_1"
   ]
  },
  {
   "cell_type": "markdown",
   "id": "b57fd327",
   "metadata": {},
   "source": [
    "Now to apply the logarithmic and exponential transformations to the variables I chose."
   ]
  },
  {
   "cell_type": "code",
   "execution_count": 31,
   "id": "f8da8fa6",
   "metadata": {},
   "outputs": [],
   "source": [
    "X1_train_log = np.log10(X1_train)\n",
    "X1_test_log = np.log10(X1_test)\n",
    "#y1_train_log = np.log(y1_train + 10) # <- Remember to add 10 units to be able apply log transform\n",
    "y1_train_exp = np.exp(y1_train)\n",
    "y1_test_exp = np.exp(y1_test)"
   ]
  },
  {
   "cell_type": "markdown",
   "id": "5f34bb11",
   "metadata": {},
   "source": [
    "With the data scaled using aforementioned trasnformations, will now test various k's for best fit. Will run kNN for various values of n_neighbors and store results. This will help me determine optimal 'k'."
   ]
  },
  {
   "cell_type": "code",
   "execution_count": 32,
   "id": "0f3c1cfc",
   "metadata": {},
   "outputs": [
    {
     "name": "stdout",
     "output_type": "stream",
     "text": [
      "     k  Test Score  Train Score\n",
      "0    1   -0.376242     0.999928\n",
      "1    2   -0.008741     0.670980\n",
      "2    3    0.094896     0.545762\n",
      "3    4    0.148759     0.490142\n",
      "4    5    0.189452     0.456295\n",
      "..  ..         ...          ...\n",
      "69  70    0.352576     0.321298\n",
      "70  71    0.351332     0.320772\n",
      "71  72    0.350412     0.320366\n",
      "72  73    0.350777     0.319908\n",
      "73  74    0.350296     0.320097\n",
      "\n",
      "[74 rows x 3 columns]\n",
      "The highest Test R-squared value occurs at : 0.3530\n",
      "Within given range, optimal k is:  64\n"
     ]
    }
   ],
   "source": [
    "# kNN R-squared accuracy for 1st kNN model\n",
    "knn_r_acc_1 = []\n",
    "for i1 in range(1, 75, 1):\n",
    "    knn = KNeighborsRegressor(n_neighbors = i1)\n",
    "    knn.fit(X1_train_log.reshape(-1, 1), y1_train.reshape(-1, 1))\n",
    "    test_score_1 = knn.score(X1_test_log.reshape(-1, 1), y1_test.reshape(-1, 1))\n",
    "    train_score_1 = knn.score(X1_train_log.reshape(-1, 1), y1_train.reshape(-1, 1))\n",
    "    knn_r_acc_1.append((i1, test_score_1, train_score_1))\n",
    "outcomes_1 = pd.DataFrame(knn_r_acc_1, columns = ['k', 'Test Score', 'Train Score'])\n",
    "print(outcomes_1)\n",
    "print('The highest Test R-squared value occurs at : %.4f' % outcomes_1.iloc[:,1].max())\n",
    "print('Within given range, optimal k is: ', outcomes_1.loc[outcomes_1['Test Score'] == outcomes_1.iloc[:,1].max(), 'k'].iloc[0])"
   ]
  },
  {
   "cell_type": "markdown",
   "id": "d6a7a41f",
   "metadata": {},
   "source": [
    "Bootstrap confidence interval to get estimate on RMSE for various models."
   ]
  },
  {
   "cell_type": "code",
   "execution_count": 33,
   "id": "08367980",
   "metadata": {},
   "outputs": [],
   "source": [
    "def ci_bootstrap(df, model):\n",
    "    # set up data\n",
    "    values = df.values\n",
    "    # configure bootstrap\n",
    "    n_iters = 1000\n",
    "    n_size = 500\n",
    "    metrics = []\n",
    "    # for loop\n",
    "    for index in range(n_iters):\n",
    "        # prep training and testing sets\n",
    "        train = resample(values, n_samples = n_size)\n",
    "        test = np.array([i for i in values if i.tolist() not in train.tolist()])\n",
    "        # Fit model\n",
    "        model.fit(train[:,:-1], train[:,-1])\n",
    "        # Evaluate model\n",
    "        predictions = model.predict(test[:,:-1])\n",
    "        score = np.sqrt(mean_squared_error(test[:,-1], predictions))\n",
    "        #print(score)\n",
    "        metrics.append(score)\n",
    "    metrics = pd.Series(metrics)\n",
    "    return metrics"
   ]
  },
  {
   "cell_type": "code",
   "execution_count": 34,
   "id": "e4f5c6f1",
   "metadata": {},
   "outputs": [
    {
     "name": "stdout",
     "output_type": "stream",
     "text": [
      "Execution time in minutes: 23.864180115858712\n"
     ]
    },
    {
     "data": {
      "image/png": "[encoded data removed]",
      "text/plain": [
       "<Figure size 576x1152 with 3 Axes>"
      ]
     },
     "metadata": {},
     "output_type": "display_data"
    }
   ],
   "source": [
    "# Save this spot for the bootstrap confidence interval\n",
    "start_time_1 = time.time()\n",
    "\n",
    "df2 = pd.concat([np.log10(orbper), eccen], axis=1)\n",
    "metrics1_1 = ci_bootstrap(df2, KNeighborsRegressor(n_neighbors = 64))\n",
    "\n",
    "# Plotting Logic\n",
    "fig1_2, ax1_2 = plt.subplots(3, 1, figsize = (8, 16))\n",
    "#fig1_2.suptitle('Bootstrap Performance Metrics - Case 1')\n",
    "\n",
    "# Confidence Interval\n",
    "confidence_interval1_1 = list(metrics1_1.quantile([0.025, 0.975]))\n",
    "\n",
    "ax1_2[0].hist(metrics1_1, color='#4db32e', edgecolor = \"red\")\n",
    "ax1_2[0].plot(confidence_interval1_1, [190, 190], color='black')\n",
    "for x1 in confidence_interval1_1:\n",
    "    ax1_2[0].plot([x1, x1], [0, 200], color='black')\n",
    "    ax1_2[0].text(x1, 210, f'{x1:.4f}', \n",
    "            horizontalalignment='center', verticalalignment='center')\n",
    "ax1_2[0].text(sum(confidence_interval1_1) / 2, 60, '95% interval',\n",
    "        horizontalalignment='center', verticalalignment='center')\n",
    "\n",
    "mean_knn_model_1 = metrics1_1.mean()\n",
    "ax1_2[0].plot([mean_knn_model_1, mean_knn_model_1], [0, 195], color='black', linestyle='--')\n",
    "ax1_2[0].text(mean_knn_model_1, 225, f'Mean: {mean_knn_model_1:.4f}',\n",
    "        bbox=dict(facecolor='white', edgecolor='white', alpha=0.5),\n",
    "        horizontalalignment='center', verticalalignment='center')\n",
    "ax1_2[0].set_title('kNN Model 1')\n",
    "\n",
    "# Now for the SVR model\n",
    "eps_1 = 8 #<- hyperparameters used throughout the script\n",
    "hyperparam1 = 1000 #<- hyperparameters used throughout the script\n",
    "metrics1_2 = ci_bootstrap(df2, SVR(kernel = 'rbf', C = hyperparam1, epsilon = eps_1))\n",
    "confidence_interval1_2 = list(metrics1_2.quantile([0.025, 0.975]))\n",
    "\n",
    "ax1_2[1].hist(metrics1_2, color='#7961c9', edgecolor = \"white\")\n",
    "ax1_2[1].plot(confidence_interval1_2, [190, 190], color='black')\n",
    "for x1 in confidence_interval1_2:\n",
    "    ax1_2[1].plot([x1, x1], [0, 200], color='black')\n",
    "    ax1_2[1].text(x1, 210, f'{x1:.4f}', \n",
    "            horizontalalignment='center', verticalalignment='center')\n",
    "ax1_2[1].text(sum(confidence_interval1_2) / 2, 60, '95% interval',\n",
    "        horizontalalignment='center', verticalalignment='center')\n",
    "\n",
    "mean_svr_model_1 = metrics1_2.mean()\n",
    "ax1_2[1].plot([mean_svr_model_1, mean_svr_model_1], [0, 195], color='black', linestyle='--')\n",
    "ax1_2[1].text(mean_svr_model_1, 225, f'Mean: {mean_svr_model_1:.4f}',\n",
    "        bbox=dict(facecolor='white', edgecolor='white', alpha=0.5),\n",
    "        horizontalalignment='center', verticalalignment='center')\n",
    "ax1_2[1].set_title('SVR Model 1')\n",
    "\n",
    "# Now for the Random Forest model\n",
    "metrics1_3 = ci_bootstrap(df2, RandomForestRegressor(max_depth=2))\n",
    "confidence_interval1_3 = list(metrics1_3.quantile([0.025, 0.975]))\n",
    "\n",
    "ax1_2[2].hist(metrics1_3, color='#03dffc', edgecolor = \"black\")\n",
    "ax1_2[2].plot(confidence_interval1_3, [190, 190], color='black')\n",
    "for x1 in confidence_interval1_3:\n",
    "    ax1_2[2].plot([x1, x1], [0, 200], color='black')\n",
    "    ax1_2[2].text(x1, 210, f'{x1:.4f}', \n",
    "            horizontalalignment='center', verticalalignment='center')\n",
    "ax1_2[2].text(sum(confidence_interval1_3) / 2, 60, '95% interval',\n",
    "        horizontalalignment='center', verticalalignment='center')\n",
    "\n",
    "mean_rf_model_1 = metrics1_3.mean()\n",
    "ax1_2[2].plot([mean_rf_model_1, mean_rf_model_1], [0, 195], color='black', linestyle='--')\n",
    "ax1_2[2].text(mean_rf_model_1, 225, f'Mean: {mean_rf_model_1:.4f}',\n",
    "      bbox=dict(facecolor='white', edgecolor='white', alpha=0.5),\n",
    "       horizontalalignment='center', verticalalignment='center')\n",
    "ax1_2[2].set_title('RF Model 1')\n",
    "\n",
    "for ax in ax1_2.flat:\n",
    "    ax.set(ylabel = 'Counts')\n",
    "    ax.set(xlabel = 'RMSE eccentricity (unitless)')\n",
    "    \n",
    "plt.savefig('bootstrap_rmse_1.png',dpi=800)\n",
    "\n",
    "execution_time_1 = (time.time() - start_time_1)\n",
    "print('Execution time in minutes: ' + str(execution_time_1/60))"
   ]
  },
  {
   "cell_type": "code",
   "execution_count": 35,
   "id": "cbc558f9",
   "metadata": {},
   "outputs": [
    {
     "data": {
      "image/png": "[encoded data removed]",
      "text/plain": [
       "<Figure size 1080x432 with 3 Axes>"
      ]
     },
     "metadata": {},
     "output_type": "display_data"
    }
   ],
   "source": [
    "fig_bootstrap_1, axs_bootstrap_1 = plt.subplots(1, 3, figsize = (15, 6))\n",
    "\n",
    "sns.histplot(metrics1_1, kde=True, color=\"#4db32e\", ax=axs_bootstrap_1[0])\n",
    "axs_bootstrap_1[0].set_title('kNN Model 1')\n",
    "axs_bootstrap_1[0].set_xlabel('RMSE - eccentricity')\n",
    "sns.histplot(metrics1_2, kde=True, color=\"#7961c9\", ax=axs_bootstrap_1[1])\n",
    "axs_bootstrap_1[1].set_title('SVR Model 1')\n",
    "axs_bootstrap_1[1].set_xlabel('RMSE - eccentricity')\n",
    "sns.histplot(metrics1_3, kde=True, color=\"#03dffc\", ax=axs_bootstrap_1[2])\n",
    "axs_bootstrap_1[2].set_title('RF Model 1')\n",
    "axs_bootstrap_1[2].set_xlabel('RMSE - eccentricity')\n",
    "\n",
    "plt.savefig('bootstrap_case_1.png',dpi=600)\n",
    "plt.show()"
   ]
  },
  {
   "cell_type": "code",
   "execution_count": 36,
   "id": "7a1cbb98",
   "metadata": {},
   "outputs": [
    {
     "data": {
      "text/plain": [
       "1000"
      ]
     },
     "execution_count": 36,
     "metadata": {},
     "output_type": "execute_result"
    }
   ],
   "source": [
    "metrics1_1.mean()\n",
    "len(metrics1_1)"
   ]
  },
  {
   "cell_type": "markdown",
   "id": "ca2da432",
   "metadata": {},
   "source": [
    "Logic to epxlicitly print the 95% confidence boostrap intervals for the three different models."
   ]
  },
  {
   "cell_type": "code",
   "execution_count": 37,
   "id": "a0bd3684",
   "metadata": {},
   "outputs": [
    {
     "name": "stdout",
     "output_type": "stream",
     "text": [
      "The 95% confidence interval for the knn Model 1:\n",
      " [0.11043138476643471, 0.11769876297508827]\n",
      "\n",
      "The 95% confidence interval for the SVR Model 1:\n",
      " [0.3234577553452507, 0.42427612642108453]\n",
      "\n",
      "The 95% confidence interval for the RF Model 1:\n",
      " [0.11089631312026632, 0.11773862849354962]\n"
     ]
    }
   ],
   "source": [
    "print('The 95% confidence interval for the knn Model 1:\\n', confidence_interval1_1)\n",
    "print('\\nThe 95% confidence interval for the SVR Model 1:\\n', confidence_interval1_2)\n",
    "print('\\nThe 95% confidence interval for the RF Model 1:\\n', confidence_interval1_3)"
   ]
  },
  {
   "cell_type": "code",
   "execution_count": 38,
   "id": "792d56ac",
   "metadata": {},
   "outputs": [],
   "source": [
    "knn_model_1 = KNeighborsRegressor(n_neighbors = 64)\n",
    "knn_model_1.fit(X1_train_log, y1_train)\n",
    "y_knn_train_pred_log_1 = knn_model_1.predict(X1_train_log)\n",
    "y_knn_test_pred_log_1 = knn_model_1.predict(X1_test_log)"
   ]
  },
  {
   "cell_type": "code",
   "execution_count": 39,
   "id": "0fdde56e",
   "metadata": {},
   "outputs": [
    {
     "data": {
      "text/plain": [
       "-2.890471762896498"
      ]
     },
     "execution_count": 39,
     "metadata": {},
     "output_type": "execute_result"
    }
   ],
   "source": [
    "# Following line to remind myself that values between 0 - 1 will produce negative value in log.\n",
    "np.log(0.055550)"
   ]
  },
  {
   "cell_type": "markdown",
   "id": "9d0eaced",
   "metadata": {},
   "source": [
    "Now, the decision on whether or not to scale back to original scale."
   ]
  },
  {
   "cell_type": "code",
   "execution_count": 40,
   "id": "7b7e2ee8",
   "metadata": {},
   "outputs": [],
   "source": [
    "#y_knn_train_pred_1 = np.exp(y_knn_train_pred_log_1)\n",
    "#y_knn_train_pred_1 = np.power(y_knn_train_pred_log_1, 10)\n",
    "y_knn_train_pred_1 = y_knn_train_pred_log_1\n",
    "#y_knn_test_pred_1 = np.log(y_knn_test_pred_log_1) \n",
    "#y_knn_test_pred_1 = np.power(y_knn_test_pred_log_1, 10)\n",
    "y_knn_test_pred_1 = y_knn_test_pred_log_1\n",
    "#y_knn_test_pred_1 = np.exp(y_knn_test_pred_log_1) "
   ]
  },
  {
   "cell_type": "markdown",
   "id": "1507ce62",
   "metadata": {},
   "source": [
    "Trying to avoid data leakage when going from transform to inverse."
   ]
  },
  {
   "cell_type": "code",
   "execution_count": 41,
   "id": "ba7fd478",
   "metadata": {},
   "outputs": [
    {
     "data": {
      "text/html": [
       "<div>\n",
       "<style scoped>\n",
       "    .dataframe tbody tr th:only-of-type {\n",
       "        vertical-align: middle;\n",
       "    }\n",
       "\n",
       "    .dataframe tbody tr th {\n",
       "        vertical-align: top;\n",
       "    }\n",
       "\n",
       "    .dataframe thead th {\n",
       "        text-align: right;\n",
       "    }\n",
       "</style>\n",
       "<table border=\"1\" class=\"dataframe\">\n",
       "  <thead>\n",
       "    <tr style=\"text-align: right;\">\n",
       "      <th></th>\n",
       "      <th>Method</th>\n",
       "      <th>Train MAE</th>\n",
       "      <th>Train MSE</th>\n",
       "      <th>Train RMSE</th>\n",
       "      <th>Train R2</th>\n",
       "      <th>Test MAE</th>\n",
       "      <th>Test MSE</th>\n",
       "      <th>Test RMSE</th>\n",
       "      <th>Test R2</th>\n",
       "    </tr>\n",
       "  </thead>\n",
       "  <tbody>\n",
       "    <tr>\n",
       "      <th>0</th>\n",
       "      <td>k Nearest Neighbor</td>\n",
       "      <td>0.066004</td>\n",
       "      <td>0.01209</td>\n",
       "      <td>0.109954</td>\n",
       "      <td>0.32398</td>\n",
       "      <td>0.067364</td>\n",
       "      <td>0.012791</td>\n",
       "      <td>0.113099</td>\n",
       "      <td>0.352987</td>\n",
       "    </tr>\n",
       "  </tbody>\n",
       "</table>\n",
       "</div>"
      ],
      "text/plain": [
       "               Method Train MAE Train MSE Train RMSE Train R2  Test MAE  \\\n",
       "0  k Nearest Neighbor  0.066004   0.01209   0.109954  0.32398  0.067364   \n",
       "\n",
       "   Test MSE Test RMSE   Test R2  \n",
       "0  0.012791  0.113099  0.352987  "
      ]
     },
     "execution_count": 41,
     "metadata": {},
     "output_type": "execute_result"
    }
   ],
   "source": [
    "# First the training metrics.\n",
    "knn1_train_mae = mean_absolute_error(y1_train, y_knn_train_pred_1)\n",
    "knn1_train_mse = mean_squared_error(y1_train, y_knn_train_pred_1)\n",
    "knn1_train_rmse = sqrt(knn1_train_mse) # <- will compute the root mean square error\n",
    "knn1_train_r2 = r2_score(y1_train, y_knn_train_pred_1)\n",
    "# Now, test set metrics.\n",
    "knn1_test_mae = mean_absolute_error(y1_test, y_knn_test_pred_1)\n",
    "knn1_test_mse = mean_squared_error(y1_test, y_knn_test_pred_1)\n",
    "knn1_test_rmse = sqrt(knn1_test_mse)\n",
    "knn1_test_r2 = r2_score(y1_test, y_knn_test_pred_1)\n",
    "# Consolidate the results.\n",
    "knn_results_1 = pd.DataFrame(['k Nearest Neighbor', knn1_train_mae, knn1_train_mse, knn1_train_rmse, knn1_train_r2, knn1_test_mae, knn1_test_mse, knn1_test_rmse, knn1_test_r2]).transpose()\n",
    "knn_results_1.columns = metric_col_names\n",
    "knn_results_1"
   ]
  },
  {
   "cell_type": "markdown",
   "id": "f6d6a331",
   "metadata": {},
   "source": [
    "#### SVR regressor model."
   ]
  },
  {
   "cell_type": "code",
   "execution_count": 42,
   "id": "567f9550",
   "metadata": {},
   "outputs": [
    {
     "data": {
      "text/html": [
       "<div>\n",
       "<style scoped>\n",
       "    .dataframe tbody tr th:only-of-type {\n",
       "        vertical-align: middle;\n",
       "    }\n",
       "\n",
       "    .dataframe tbody tr th {\n",
       "        vertical-align: top;\n",
       "    }\n",
       "\n",
       "    .dataframe thead th {\n",
       "        text-align: right;\n",
       "    }\n",
       "</style>\n",
       "<table border=\"1\" class=\"dataframe\">\n",
       "  <thead>\n",
       "    <tr style=\"text-align: right;\">\n",
       "      <th></th>\n",
       "      <th>Method</th>\n",
       "      <th>Train MAE</th>\n",
       "      <th>Train MSE</th>\n",
       "      <th>Train RMSE</th>\n",
       "      <th>Train R2</th>\n",
       "      <th>Test MAE</th>\n",
       "      <th>Test MSE</th>\n",
       "      <th>Test RMSE</th>\n",
       "      <th>Test R2</th>\n",
       "    </tr>\n",
       "  </thead>\n",
       "  <tbody>\n",
       "    <tr>\n",
       "      <th>0</th>\n",
       "      <td>SVR</td>\n",
       "      <td>0.411196</td>\n",
       "      <td>0.179656</td>\n",
       "      <td>0.423859</td>\n",
       "      <td>-9.045771</td>\n",
       "      <td>0.412441</td>\n",
       "      <td>0.180414</td>\n",
       "      <td>0.424752</td>\n",
       "      <td>-0.025483</td>\n",
       "    </tr>\n",
       "  </tbody>\n",
       "</table>\n",
       "</div>"
      ],
      "text/plain": [
       "  Method Train MAE Train MSE Train RMSE  Train R2  Test MAE  Test MSE  \\\n",
       "0    SVR  0.411196  0.179656   0.423859 -9.045771  0.412441  0.180414   \n",
       "\n",
       "  Test RMSE   Test R2  \n",
       "0  0.424752 -0.025483  "
      ]
     },
     "execution_count": 42,
     "metadata": {},
     "output_type": "execute_result"
    }
   ],
   "source": [
    "eps_1 = 8\n",
    "hyperparam1 = 1000\n",
    "svr_model_1 = SVR(kernel = 'rbf', C = hyperparam1, epsilon = eps_1)\n",
    "svr_model_1.fit(X1_train_log, y1_train)\n",
    "y_svr_train_pred_1 = svr_model_1.predict(X1_train_log)\n",
    "y_svr_test_pred_1 = svr_model_1.predict(X1_test_log)\n",
    "# Model performance - training set\n",
    "svr1_train_mae = mean_absolute_error(y1_train, y_svr_train_pred_1)\n",
    "svr1_train_mse = mean_squared_error(y1_train, y_svr_train_pred_1)\n",
    "svr1_train_rmse = sqrt(svr1_train_mse)\n",
    "svr1_train_r2 = r2_score(y1_train, y_svr_train_pred_1)\n",
    "# Test results\n",
    "svr1_test_mae = mean_absolute_error(y1_test, y_svr_test_pred_1)\n",
    "svr1_test_mse = mean_squared_error(y1_test, y_svr_test_pred_1)\n",
    "svr1_test_rmse = sqrt(svr1_test_mse)\n",
    "svr1_test_r2 = r2_score(X1_test, y_svr_test_pred_1)\n",
    "# Consolidate the results.\n",
    "svr_results_1 = pd.DataFrame(['SVR', svr1_train_mae, svr1_train_mse, svr1_train_rmse, svr1_train_r2, svr1_test_mae, svr1_test_mse, svr1_test_rmse, svr1_test_r2]).T\n",
    "svr_results_1.columns = metric_col_names\n",
    "svr_results_1"
   ]
  },
  {
   "cell_type": "markdown",
   "id": "0b597b3e",
   "metadata": {},
   "source": [
    "Now want to model using the Random Forest Regressor."
   ]
  },
  {
   "cell_type": "code",
   "execution_count": 43,
   "id": "7730ef56",
   "metadata": {},
   "outputs": [
    {
     "data": {
      "text/plain": [
       "RandomForestRegressor(max_depth=2)"
      ]
     },
     "execution_count": 43,
     "metadata": {},
     "output_type": "execute_result"
    }
   ],
   "source": [
    "rf_1 = RandomForestRegressor(max_depth=2)\n",
    "#rf_1.fit(X1_train_log.reshape(-1, 1), y1_train.reshape(-1, 1))\n",
    "rf_1.fit(X1_train_log, y1_train)\n",
    "#y_rf_train_pred_1 = rf_1.predict(X1_train_log.reshape(-1, 1))\n",
    "y_rf_train_pred_1 = rf_1.predict(X1_train_log)\n",
    "#y_rf_test_pred_1 = rf_1.predict(X1_test_log.reshape(-1, 1))\n",
    "y_rf_test_pred_1 = rf_1.predict(X1_test_log)\n",
    "rf_1"
   ]
  },
  {
   "cell_type": "code",
   "execution_count": 44,
   "id": "f21a5e64",
   "metadata": {},
   "outputs": [],
   "source": [
    "# Model performance metrics for random forest model.\n",
    "rf1_train_mae = mean_absolute_error(y1_train, y_rf_train_pred_1)\n",
    "rf1_train_mse = mean_squared_error(y1_train, y_rf_train_pred_1)\n",
    "rf1_train_rmse = sqrt(rf1_train_mse)\n",
    "rf1_train_r2 = r2_score(y1_train, y_rf_train_pred_1)\n",
    "# The following are the test metrics.\n",
    "rf1_test_mae = mean_absolute_error(y1_test, y_rf_test_pred_1)\n",
    "rf1_test_mse = mean_squared_error(y1_test, y_rf_test_pred_1)\n",
    "rf1_test_rmse = sqrt(rf1_test_mse)\n",
    "rf1_test_r2 = r2_score(y1_test, y_rf_test_pred_1)"
   ]
  },
  {
   "cell_type": "code",
   "execution_count": 45,
   "id": "97e66804",
   "metadata": {},
   "outputs": [
    {
     "data": {
      "text/html": [
       "<div>\n",
       "<style scoped>\n",
       "    .dataframe tbody tr th:only-of-type {\n",
       "        vertical-align: middle;\n",
       "    }\n",
       "\n",
       "    .dataframe tbody tr th {\n",
       "        vertical-align: top;\n",
       "    }\n",
       "\n",
       "    .dataframe thead th {\n",
       "        text-align: right;\n",
       "    }\n",
       "</style>\n",
       "<table border=\"1\" class=\"dataframe\">\n",
       "  <thead>\n",
       "    <tr style=\"text-align: right;\">\n",
       "      <th></th>\n",
       "      <th>Method</th>\n",
       "      <th>Train MAE</th>\n",
       "      <th>Train MSE</th>\n",
       "      <th>Train RMSE</th>\n",
       "      <th>Train R2</th>\n",
       "      <th>Test MAE</th>\n",
       "      <th>Test MSE</th>\n",
       "      <th>Test RMSE</th>\n",
       "      <th>Test R2</th>\n",
       "    </tr>\n",
       "  </thead>\n",
       "  <tbody>\n",
       "    <tr>\n",
       "      <th>0</th>\n",
       "      <td>Random Forest</td>\n",
       "      <td>0.066738</td>\n",
       "      <td>0.01216</td>\n",
       "      <td>0.110274</td>\n",
       "      <td>0.320034</td>\n",
       "      <td>0.067107</td>\n",
       "      <td>0.012516</td>\n",
       "      <td>0.111876</td>\n",
       "      <td>0.366905</td>\n",
       "    </tr>\n",
       "  </tbody>\n",
       "</table>\n",
       "</div>"
      ],
      "text/plain": [
       "          Method Train MAE Train MSE Train RMSE  Train R2  Test MAE  Test MSE  \\\n",
       "0  Random Forest  0.066738   0.01216   0.110274  0.320034  0.067107  0.012516   \n",
       "\n",
       "  Test RMSE   Test R2  \n",
       "0  0.111876  0.366905  "
      ]
     },
     "execution_count": 45,
     "metadata": {},
     "output_type": "execute_result"
    }
   ],
   "source": [
    "rf1_results = pd.DataFrame(['Random Forest', rf1_train_mae, rf1_train_mse, rf1_train_rmse, rf1_train_r2, rf1_test_mae, rf1_test_mse, rf1_test_rmse, rf1_test_r2]).transpose()\n",
    "rf1_results.columns = metric_col_names\n",
    "rf1_results"
   ]
  },
  {
   "cell_type": "markdown",
   "id": "1b0c013e",
   "metadata": {},
   "source": [
    "Want to add all the results to a single table."
   ]
  },
  {
   "cell_type": "code",
   "execution_count": 46,
   "id": "28e1bc16",
   "metadata": {},
   "outputs": [
    {
     "data": {
      "text/html": [
       "<div>\n",
       "<style scoped>\n",
       "    .dataframe tbody tr th:only-of-type {\n",
       "        vertical-align: middle;\n",
       "    }\n",
       "\n",
       "    .dataframe tbody tr th {\n",
       "        vertical-align: top;\n",
       "    }\n",
       "\n",
       "    .dataframe thead th {\n",
       "        text-align: right;\n",
       "    }\n",
       "</style>\n",
       "<table border=\"1\" class=\"dataframe\">\n",
       "  <thead>\n",
       "    <tr style=\"text-align: right;\">\n",
       "      <th></th>\n",
       "      <th>Method</th>\n",
       "      <th>Train MAE</th>\n",
       "      <th>Train MSE</th>\n",
       "      <th>Train RMSE</th>\n",
       "      <th>Train R2</th>\n",
       "      <th>Test MAE</th>\n",
       "      <th>Test MSE</th>\n",
       "      <th>Test RMSE</th>\n",
       "      <th>Test R2</th>\n",
       "    </tr>\n",
       "  </thead>\n",
       "  <tbody>\n",
       "    <tr>\n",
       "      <th>0</th>\n",
       "      <td>Baseline</td>\n",
       "      <td>0.087529</td>\n",
       "      <td>0.017884</td>\n",
       "      <td>0.13373</td>\n",
       "      <td>0.0</td>\n",
       "      <td>0.090676</td>\n",
       "      <td>0.019772</td>\n",
       "      <td>0.140612</td>\n",
       "      <td>-0.0001</td>\n",
       "    </tr>\n",
       "    <tr>\n",
       "      <th>1</th>\n",
       "      <td>k Nearest Neighbor</td>\n",
       "      <td>0.066004</td>\n",
       "      <td>0.01209</td>\n",
       "      <td>0.109954</td>\n",
       "      <td>0.32398</td>\n",
       "      <td>0.067364</td>\n",
       "      <td>0.012791</td>\n",
       "      <td>0.113099</td>\n",
       "      <td>0.352987</td>\n",
       "    </tr>\n",
       "    <tr>\n",
       "      <th>2</th>\n",
       "      <td>SVR</td>\n",
       "      <td>0.411196</td>\n",
       "      <td>0.179656</td>\n",
       "      <td>0.423859</td>\n",
       "      <td>-9.045771</td>\n",
       "      <td>0.412441</td>\n",
       "      <td>0.180414</td>\n",
       "      <td>0.424752</td>\n",
       "      <td>-0.025483</td>\n",
       "    </tr>\n",
       "    <tr>\n",
       "      <th>3</th>\n",
       "      <td>Random Forest</td>\n",
       "      <td>0.066738</td>\n",
       "      <td>0.01216</td>\n",
       "      <td>0.110274</td>\n",
       "      <td>0.320034</td>\n",
       "      <td>0.067107</td>\n",
       "      <td>0.012516</td>\n",
       "      <td>0.111876</td>\n",
       "      <td>0.366905</td>\n",
       "    </tr>\n",
       "  </tbody>\n",
       "</table>\n",
       "</div>"
      ],
      "text/plain": [
       "               Method Train MAE Train MSE Train RMSE  Train R2  Test MAE  \\\n",
       "0            Baseline  0.087529  0.017884    0.13373       0.0  0.090676   \n",
       "1  k Nearest Neighbor  0.066004   0.01209   0.109954   0.32398  0.067364   \n",
       "2                 SVR  0.411196  0.179656   0.423859 -9.045771  0.412441   \n",
       "3       Random Forest  0.066738   0.01216   0.110274  0.320034  0.067107   \n",
       "\n",
       "   Test MSE Test RMSE   Test R2  \n",
       "0  0.019772  0.140612   -0.0001  \n",
       "1  0.012791  0.113099  0.352987  \n",
       "2  0.180414  0.424752 -0.025483  \n",
       "3  0.012516  0.111876  0.366905  "
      ]
     },
     "execution_count": 46,
     "metadata": {},
     "output_type": "execute_result"
    }
   ],
   "source": [
    "results_1 = pd.concat([prediction_1, knn_results_1, svr_results_1, rf1_results], axis = 0, ignore_index = True)\n",
    "results_1 "
   ]
  },
  {
   "cell_type": "markdown",
   "id": "bc006556",
   "metadata": {},
   "source": [
    "### Bootstrap Confidence Intervals"
   ]
  },
  {
   "cell_type": "markdown",
   "id": "656be56c",
   "metadata": {},
   "source": [
    "For this section, want to develop logic to use bootstrap method to configure confidence interval."
   ]
  },
  {
   "cell_type": "code",
   "execution_count": 47,
   "id": "cb442e77",
   "metadata": {},
   "outputs": [
    {
     "data": {
      "text/html": [
       "<div>\n",
       "<style scoped>\n",
       "    .dataframe tbody tr th:only-of-type {\n",
       "        vertical-align: middle;\n",
       "    }\n",
       "\n",
       "    .dataframe tbody tr th {\n",
       "        vertical-align: top;\n",
       "    }\n",
       "\n",
       "    .dataframe thead th {\n",
       "        text-align: right;\n",
       "    }\n",
       "</style>\n",
       "<table border=\"1\" class=\"dataframe\">\n",
       "  <thead>\n",
       "    <tr style=\"text-align: right;\">\n",
       "      <th></th>\n",
       "      <th>orbitperiod</th>\n",
       "      <th>eccentricity</th>\n",
       "    </tr>\n",
       "    <tr>\n",
       "      <th>planetname</th>\n",
       "      <th></th>\n",
       "      <th></th>\n",
       "    </tr>\n",
       "  </thead>\n",
       "  <tbody>\n",
       "    <tr>\n",
       "      <th>11 Com b</th>\n",
       "      <td>2.513258</td>\n",
       "      <td>0.231000</td>\n",
       "    </tr>\n",
       "    <tr>\n",
       "      <th>11 UMi b</th>\n",
       "      <td>2.712835</td>\n",
       "      <td>0.080000</td>\n",
       "    </tr>\n",
       "    <tr>\n",
       "      <th>14 And b</th>\n",
       "      <td>2.269139</td>\n",
       "      <td>0.000000</td>\n",
       "    </tr>\n",
       "    <tr>\n",
       "      <th>14 Her b</th>\n",
       "      <td>3.247139</td>\n",
       "      <td>0.362233</td>\n",
       "    </tr>\n",
       "    <tr>\n",
       "      <th>16 Cyg B b</th>\n",
       "      <td>2.902751</td>\n",
       "      <td>0.676033</td>\n",
       "    </tr>\n",
       "    <tr>\n",
       "      <th>...</th>\n",
       "      <td>...</td>\n",
       "      <td>...</td>\n",
       "    </tr>\n",
       "    <tr>\n",
       "      <th>ups And b</th>\n",
       "      <td>0.664287</td>\n",
       "      <td>0.030200</td>\n",
       "    </tr>\n",
       "    <tr>\n",
       "      <th>ups And c</th>\n",
       "      <td>2.381528</td>\n",
       "      <td>0.238933</td>\n",
       "    </tr>\n",
       "    <tr>\n",
       "      <th>ups And d</th>\n",
       "      <td>3.109020</td>\n",
       "      <td>0.281117</td>\n",
       "    </tr>\n",
       "    <tr>\n",
       "      <th>ups Leo b</th>\n",
       "      <td>2.585686</td>\n",
       "      <td>0.320000</td>\n",
       "    </tr>\n",
       "    <tr>\n",
       "      <th>xi Aql b</th>\n",
       "      <td>2.135927</td>\n",
       "      <td>0.000000</td>\n",
       "    </tr>\n",
       "  </tbody>\n",
       "</table>\n",
       "<p>4371 rows × 2 columns</p>\n",
       "</div>"
      ],
      "text/plain": [
       "            orbitperiod  eccentricity\n",
       "planetname                           \n",
       "11 Com b       2.513258      0.231000\n",
       "11 UMi b       2.712835      0.080000\n",
       "14 And b       2.269139      0.000000\n",
       "14 Her b       3.247139      0.362233\n",
       "16 Cyg B b     2.902751      0.676033\n",
       "...                 ...           ...\n",
       "ups And b      0.664287      0.030200\n",
       "ups And c      2.381528      0.238933\n",
       "ups And d      3.109020      0.281117\n",
       "ups Leo b      2.585686      0.320000\n",
       "xi Aql b       2.135927      0.000000\n",
       "\n",
       "[4371 rows x 2 columns]"
      ]
     },
     "execution_count": 47,
     "metadata": {},
     "output_type": "execute_result"
    }
   ],
   "source": [
    "df2_log = pd.concat([np.log10(orbper), eccen], axis = 1)\n",
    "df2_log"
   ]
  },
  {
   "cell_type": "code",
   "execution_count": 48,
   "id": "71034ad4",
   "metadata": {},
   "outputs": [
    {
     "data": {
      "text/plain": [
       "array([[2.51325756, 0.231     ],\n",
       "       [2.71283481, 0.08      ],\n",
       "       [2.2691392 , 0.        ],\n",
       "       ...,\n",
       "       [3.10902011, 0.28111667],\n",
       "       [2.58568628, 0.32      ],\n",
       "       [2.13592734, 0.        ]])"
      ]
     },
     "execution_count": 48,
     "metadata": {},
     "output_type": "execute_result"
    }
   ],
   "source": [
    "df2_log.values"
   ]
  },
  {
   "cell_type": "code",
   "execution_count": 49,
   "id": "cd55721d",
   "metadata": {},
   "outputs": [
    {
     "data": {
      "text/plain": [
       "pandas.core.frame.DataFrame"
      ]
     },
     "execution_count": 49,
     "metadata": {},
     "output_type": "execute_result"
    }
   ],
   "source": [
    "type(df2_log)"
   ]
  },
  {
   "cell_type": "code",
   "execution_count": 50,
   "id": "47f4c811",
   "metadata": {},
   "outputs": [],
   "source": [
    "#plt.hist(a1, color = '#4db32e', edgecolor = 'red') #<- Good color scheme\n",
    "#plt.hist(a2, color = '#ad6dcf', edgecolor = 'white')"
   ]
  },
  {
   "cell_type": "markdown",
   "id": "57e2068a",
   "metadata": {},
   "source": [
    "### Plotting Case 1"
   ]
  },
  {
   "cell_type": "markdown",
   "id": "0cab499a",
   "metadata": {},
   "source": [
    "Want to make a quick calculation of the residuals in this prediction and actual values evaluation."
   ]
  },
  {
   "cell_type": "code",
   "execution_count": 51,
   "id": "fbb0ca2c",
   "metadata": {
    "scrolled": true
   },
   "outputs": [
    {
     "data": {
      "image/png": "[encoded data removed]",
      "text/plain": [
       "<Figure size 864x864 with 1 Axes>"
      ]
     },
     "metadata": {},
     "output_type": "display_data"
    }
   ],
   "source": [
    "true_values_1 = y1_test\n",
    "predicted_values1_1 = y_knn_test_pred_1\n",
    "predicted_values1_2 = y_svr_test_pred_1\n",
    "predicted_values1_3 = y_rf_test_pred_1\n",
    "plt.figure(figsize = (12, 12))\n",
    "# kNN model\n",
    "knn_1 = plt.scatter(x = true_values_1, y = predicted_values1_1, c = '#68d631')\n",
    "# SVR model\n",
    "svr_1 = plt.scatter(x = true_values_1, y = predicted_values1_2, c = '#2a7505', marker = 's')\n",
    "# Random Forest model\n",
    "rf_1 = plt.scatter(x = true_values_1, y = predicted_values1_3, c = '#addb95', marker = 'x')\n",
    "p1 = max(max(predicted_values1_1), max(predicted_values1_2), max(predicted_values1_3), max(true_values_1))\n",
    "p2 = min(min(predicted_values1_1), min(predicted_values1_2), min(predicted_values1_3), min(true_values_1))\n",
    "plt.plot([p1, p2], [p1, p2], 'b-')\n",
    "plt.title('Prediction and Actual Values - Case I')\n",
    "plt.xlabel('Actual Values')\n",
    "plt.ylabel('Predicted Values')\n",
    "plt.legend([knn_1, svr_1, rf_1], ['kNN', 'SVR', 'RF'], loc = 'upper left')\n",
    "plt.savefig('pred_vs_actual_1.png',dpi=600)\n",
    "plt.show()"
   ]
  },
  {
   "cell_type": "markdown",
   "id": "6eecc1c1",
   "metadata": {},
   "source": [
    "Want to plot the residuals and see if there are any obvious patterns. Another name is the Versus Fit."
   ]
  },
  {
   "cell_type": "code",
   "execution_count": 52,
   "id": "229f8fe6",
   "metadata": {},
   "outputs": [
    {
     "data": {
      "image/png": "[encoded data removed]",
      "text/plain": [
       "<Figure size 864x864 with 1 Axes>"
      ]
     },
     "metadata": {},
     "output_type": "display_data"
    }
   ],
   "source": [
    "# Will invoke for loop to calculate residulas for the three different models.\n",
    "residuals1_1 = list()\n",
    "for item1, item2 in zip(true_values_1, predicted_values1_1):\n",
    "    residuals1_1.append(item1 - item2)\n",
    "residuals1_2 = list()\n",
    "for item3, item4 in zip(true_values_1, predicted_values1_2):\n",
    "    residuals1_2.append(item3 - item4)\n",
    "residuals1_3 = list()\n",
    "for item5, item6 in zip(true_values_1, predicted_values1_3):\n",
    "    residuals1_3.append(item5 - item6)\n",
    "\n",
    "plt.figure(figsize = (12, 12))\n",
    "# kNN model\n",
    "knn_resid_1 = plt.scatter(x = predicted_values1_1, y = residuals1_1, c = '#cd30f0')\n",
    "# SVR model\n",
    "svr_resid_1 = plt.scatter(x = predicted_values1_2, y = residuals1_2, c = '#b391ba', marker = 's')\n",
    "# Random Forest model\n",
    "rf_resid_1 = plt.scatter(x = predicted_values1_3, y = residuals1_3, c = '#e2c8e8', marker = 'x')\n",
    "\n",
    "plt.title('Residuals versus Fitted values - Case I')\n",
    "plt.xlabel('Fitted Values') # <- Predicted Values\n",
    "plt.ylabel('Residuals')\n",
    "plt.legend([knn_resid_1, svr_resid_1, rf_resid_1], ['kNN', 'SVR', 'RF'], loc = 'upper right')\n",
    "plt.axhline(y = 0.0, color = '#034b8a', linestyle = '--')\n",
    "plt.savefig('resid_1.png',dpi=600)\n",
    "plt.show()"
   ]
  },
  {
   "cell_type": "markdown",
   "id": "1730a94b",
   "metadata": {},
   "source": [
    "There is an obvious pattern in the residuals plot."
   ]
  },
  {
   "cell_type": "code",
   "execution_count": 53,
   "id": "583af4b9",
   "metadata": {},
   "outputs": [
    {
     "data": {
      "text/plain": [
       "(array([686.,  67.,  52.,  27.,  16.,   6.,   6.,   5.,   4.,   6.]),\n",
       " array([-0.46594083, -0.37794083, -0.28994083, -0.20194083, -0.11394083,\n",
       "        -0.02594083,  0.06205917,  0.15005917,  0.23805917,  0.32605917,\n",
       "         0.41405917]),\n",
       " <BarContainer object of 10 artists>)"
      ]
     },
     "execution_count": 53,
     "metadata": {},
     "output_type": "execute_result"
    },
    {
     "data": {
      "image/png": "[encoded data removed]",
      "text/plain": [
       "<Figure size 432x288 with 1 Axes>"
      ]
     },
     "metadata": {},
     "output_type": "display_data"
    }
   ],
   "source": [
    "plt.hist(residuals1_2, color = \"teal\", edgecolor = 'white')"
   ]
  },
  {
   "cell_type": "markdown",
   "id": "c1e2da66",
   "metadata": {},
   "source": [
    "### Scenario 2 - temperature as function of planet mass"
   ]
  },
  {
   "cell_type": "markdown",
   "id": "29298fbb",
   "metadata": {},
   "source": [
    "Now want to begin analysis of equilibrium temperature as a function of planet size."
   ]
  },
  {
   "cell_type": "code",
   "execution_count": 54,
   "id": "cad100eb",
   "metadata": {},
   "outputs": [
    {
     "data": {
      "text/html": [
       "<div>\n",
       "<style scoped>\n",
       "    .dataframe tbody tr th:only-of-type {\n",
       "        vertical-align: middle;\n",
       "    }\n",
       "\n",
       "    .dataframe tbody tr th {\n",
       "        vertical-align: top;\n",
       "    }\n",
       "\n",
       "    .dataframe thead th {\n",
       "        text-align: right;\n",
       "    }\n",
       "</style>\n",
       "<table border=\"1\" class=\"dataframe\">\n",
       "  <thead>\n",
       "    <tr style=\"text-align: right;\">\n",
       "      <th></th>\n",
       "      <th>pl_name</th>\n",
       "      <th>pl_bmassj</th>\n",
       "      <th>pl_eqt</th>\n",
       "    </tr>\n",
       "  </thead>\n",
       "  <tbody>\n",
       "    <tr>\n",
       "      <th>0</th>\n",
       "      <td>11 Com b</td>\n",
       "      <td>19.40</td>\n",
       "      <td>NaN</td>\n",
       "    </tr>\n",
       "    <tr>\n",
       "      <th>1</th>\n",
       "      <td>11 Com b</td>\n",
       "      <td>17.10</td>\n",
       "      <td>NaN</td>\n",
       "    </tr>\n",
       "    <tr>\n",
       "      <th>2</th>\n",
       "      <td>11 UMi b</td>\n",
       "      <td>10.80</td>\n",
       "      <td>NaN</td>\n",
       "    </tr>\n",
       "    <tr>\n",
       "      <th>3</th>\n",
       "      <td>11 UMi b</td>\n",
       "      <td>14.74</td>\n",
       "      <td>NaN</td>\n",
       "    </tr>\n",
       "    <tr>\n",
       "      <th>4</th>\n",
       "      <td>11 UMi b</td>\n",
       "      <td>10.50</td>\n",
       "      <td>NaN</td>\n",
       "    </tr>\n",
       "    <tr>\n",
       "      <th>...</th>\n",
       "      <td>...</td>\n",
       "      <td>...</td>\n",
       "      <td>...</td>\n",
       "    </tr>\n",
       "    <tr>\n",
       "      <th>32511</th>\n",
       "      <td>ups And d</td>\n",
       "      <td>4.10</td>\n",
       "      <td>NaN</td>\n",
       "    </tr>\n",
       "    <tr>\n",
       "      <th>32512</th>\n",
       "      <td>ups And d</td>\n",
       "      <td>10.25</td>\n",
       "      <td>NaN</td>\n",
       "    </tr>\n",
       "    <tr>\n",
       "      <th>32513</th>\n",
       "      <td>ups Leo b</td>\n",
       "      <td>0.51</td>\n",
       "      <td>NaN</td>\n",
       "    </tr>\n",
       "    <tr>\n",
       "      <th>32514</th>\n",
       "      <td>xi Aql b</td>\n",
       "      <td>2.02</td>\n",
       "      <td>NaN</td>\n",
       "    </tr>\n",
       "    <tr>\n",
       "      <th>32515</th>\n",
       "      <td>xi Aql b</td>\n",
       "      <td>2.80</td>\n",
       "      <td>NaN</td>\n",
       "    </tr>\n",
       "  </tbody>\n",
       "</table>\n",
       "<p>32516 rows × 3 columns</p>\n",
       "</div>"
      ],
      "text/plain": [
       "         pl_name  pl_bmassj  pl_eqt\n",
       "0       11 Com b      19.40     NaN\n",
       "1       11 Com b      17.10     NaN\n",
       "2       11 UMi b      10.80     NaN\n",
       "3       11 UMi b      14.74     NaN\n",
       "4       11 UMi b      10.50     NaN\n",
       "...          ...        ...     ...\n",
       "32511  ups And d       4.10     NaN\n",
       "32512  ups And d      10.25     NaN\n",
       "32513  ups Leo b       0.51     NaN\n",
       "32514   xi Aql b       2.02     NaN\n",
       "32515   xi Aql b       2.80     NaN\n",
       "\n",
       "[32516 rows x 3 columns]"
      ]
     },
     "execution_count": 54,
     "metadata": {},
     "output_type": "execute_result"
    }
   ],
   "source": [
    "df3 = raw_data.loc[:, ['pl_name','pl_bmassj','pl_eqt']]\n",
    "df3"
   ]
  },
  {
   "cell_type": "code",
   "execution_count": 55,
   "id": "73c8963a",
   "metadata": {},
   "outputs": [
    {
     "data": {
      "text/html": [
       "<div>\n",
       "<style scoped>\n",
       "    .dataframe tbody tr th:only-of-type {\n",
       "        vertical-align: middle;\n",
       "    }\n",
       "\n",
       "    .dataframe tbody tr th {\n",
       "        vertical-align: top;\n",
       "    }\n",
       "\n",
       "    .dataframe thead th {\n",
       "        text-align: right;\n",
       "    }\n",
       "</style>\n",
       "<table border=\"1\" class=\"dataframe\">\n",
       "  <thead>\n",
       "    <tr style=\"text-align: right;\">\n",
       "      <th></th>\n",
       "      <th>planetname</th>\n",
       "      <th>mass</th>\n",
       "      <th>temperature</th>\n",
       "    </tr>\n",
       "  </thead>\n",
       "  <tbody>\n",
       "    <tr>\n",
       "      <th>23</th>\n",
       "      <td>1RXS J160929.1-210524 b</td>\n",
       "      <td>12.00000</td>\n",
       "      <td>1700.0</td>\n",
       "    </tr>\n",
       "    <tr>\n",
       "      <th>24</th>\n",
       "      <td>1RXS J160929.1-210524 b</td>\n",
       "      <td>8.00000</td>\n",
       "      <td>1700.0</td>\n",
       "    </tr>\n",
       "    <tr>\n",
       "      <th>25</th>\n",
       "      <td>1RXS J160929.1-210524 b</td>\n",
       "      <td>8.00000</td>\n",
       "      <td>1800.0</td>\n",
       "    </tr>\n",
       "    <tr>\n",
       "      <th>26</th>\n",
       "      <td>1RXS J160929.1-210524 b</td>\n",
       "      <td>8.00000</td>\n",
       "      <td>1800.0</td>\n",
       "    </tr>\n",
       "    <tr>\n",
       "      <th>30</th>\n",
       "      <td>2M0437 b</td>\n",
       "      <td>4.00000</td>\n",
       "      <td>1450.0</td>\n",
       "    </tr>\n",
       "    <tr>\n",
       "      <th>...</th>\n",
       "      <td>...</td>\n",
       "      <td>...</td>\n",
       "      <td>...</td>\n",
       "    </tr>\n",
       "    <tr>\n",
       "      <th>32454</th>\n",
       "      <td>kap And b</td>\n",
       "      <td>13.61600</td>\n",
       "      <td>1900.0</td>\n",
       "    </tr>\n",
       "    <tr>\n",
       "      <th>32473</th>\n",
       "      <td>pi Men c</td>\n",
       "      <td>0.01422</td>\n",
       "      <td>1147.0</td>\n",
       "    </tr>\n",
       "    <tr>\n",
       "      <th>32474</th>\n",
       "      <td>pi Men c</td>\n",
       "      <td>0.01517</td>\n",
       "      <td>1170.0</td>\n",
       "    </tr>\n",
       "    <tr>\n",
       "      <th>32480</th>\n",
       "      <td>rho CrB b</td>\n",
       "      <td>1.04490</td>\n",
       "      <td>614.0</td>\n",
       "    </tr>\n",
       "    <tr>\n",
       "      <th>32482</th>\n",
       "      <td>rho CrB c</td>\n",
       "      <td>0.07866</td>\n",
       "      <td>448.0</td>\n",
       "    </tr>\n",
       "  </tbody>\n",
       "</table>\n",
       "<p>1155 rows × 3 columns</p>\n",
       "</div>"
      ],
      "text/plain": [
       "                    planetname      mass  temperature\n",
       "23     1RXS J160929.1-210524 b  12.00000       1700.0\n",
       "24     1RXS J160929.1-210524 b   8.00000       1700.0\n",
       "25     1RXS J160929.1-210524 b   8.00000       1800.0\n",
       "26     1RXS J160929.1-210524 b   8.00000       1800.0\n",
       "30                    2M0437 b   4.00000       1450.0\n",
       "...                        ...       ...          ...\n",
       "32454                kap And b  13.61600       1900.0\n",
       "32473                 pi Men c   0.01422       1147.0\n",
       "32474                 pi Men c   0.01517       1170.0\n",
       "32480                rho CrB b   1.04490        614.0\n",
       "32482                rho CrB c   0.07866        448.0\n",
       "\n",
       "[1155 rows x 3 columns]"
      ]
     },
     "execution_count": 55,
     "metadata": {},
     "output_type": "execute_result"
    }
   ],
   "source": [
    "df3 = df3.rename(columns={'pl_name':'planetname', 'pl_bmassj':'mass', 'pl_eqt':'temperature'})\n",
    "df3 = df3.dropna()\n",
    "#df3 = df3.fillna(df3.median(numeric_only=True))\n",
    "df3"
   ]
  },
  {
   "cell_type": "code",
   "execution_count": 56,
   "id": "8a863df9",
   "metadata": {},
   "outputs": [],
   "source": [
    "mass = df3.groupby('planetname')['mass'].mean()\n",
    "temp = df3.groupby('planetname')['temperature'].mean()"
   ]
  },
  {
   "cell_type": "markdown",
   "id": "64232d02",
   "metadata": {},
   "source": [
    "Want the length of both variables for reporting."
   ]
  },
  {
   "cell_type": "code",
   "execution_count": 57,
   "id": "55ca4ee7",
   "metadata": {},
   "outputs": [
    {
     "name": "stdout",
     "output_type": "stream",
     "text": [
      "The length of predictor (mass) is:  860\n"
     ]
    }
   ],
   "source": [
    "print(\"The length of predictor (mass) is: \", len(mass.index))"
   ]
  },
  {
   "cell_type": "code",
   "execution_count": 58,
   "id": "17f4fc1c",
   "metadata": {},
   "outputs": [
    {
     "name": "stdout",
     "output_type": "stream",
     "text": [
      "The length of response (temperature) is:  860\n"
     ]
    }
   ],
   "source": [
    "print(\"The length of response (temperature) is: \", len(temp.index))"
   ]
  },
  {
   "cell_type": "code",
   "execution_count": 59,
   "id": "ce4f5854",
   "metadata": {},
   "outputs": [
    {
     "name": "stdout",
     "output_type": "stream",
     "text": [
      "planetname\n",
      "1RXS J160929.1-210524 b         9.000000\n",
      "2M0437 b                        4.000000\n",
      "2MASS J12073346-3932539 b       4.500000\n",
      "2MASS J21402931+1625183 A b    20.950000\n",
      "51 Eri b                        2.000000\n",
      "                                 ...    \n",
      "bet Pic b                      13.500000\n",
      "kap And b                      13.208000\n",
      "pi Men c                        0.014695\n",
      "rho CrB b                       1.044900\n",
      "rho CrB c                       0.078660\n",
      "Name: mass, Length: 860, dtype: float64\n",
      "planetname\n",
      "1RXS J160929.1-210524 b        1750.0\n",
      "2M0437 b                       1450.0\n",
      "2MASS J12073346-3932539 b      1200.0\n",
      "2MASS J21402931+1625183 A b    2075.0\n",
      "51 Eri b                        700.0\n",
      "                                ...  \n",
      "bet Pic b                      1631.0\n",
      "kap And b                      1790.0\n",
      "pi Men c                       1158.5\n",
      "rho CrB b                       614.0\n",
      "rho CrB c                       448.0\n",
      "Name: temperature, Length: 860, dtype: float64\n"
     ]
    }
   ],
   "source": [
    "print(mass)\n",
    "print(temp)"
   ]
  },
  {
   "cell_type": "markdown",
   "id": "d1b11249",
   "metadata": {},
   "source": [
    "Want some summary statistics for the new two variables."
   ]
  },
  {
   "cell_type": "code",
   "execution_count": 60,
   "id": "026f48d0",
   "metadata": {},
   "outputs": [
    {
     "name": "stdout",
     "output_type": "stream",
     "text": [
      "\n",
      "The median mass: 0.5755\n",
      "\n",
      "The median temperature: 1185.00\n",
      "\n",
      "The interquartile range of the mass: 1.34\n",
      "\n",
      "The interquartile range of the temperature: 917.50\n",
      "\n",
      "The mode for the mass: 0.84\n",
      "\n",
      "The mode for the temperature: 1480.00\n",
      "\n",
      "The mean for the mass: 1.67\n",
      "\n",
      "The mean for the planetary temperature: 1192.26\n"
     ]
    }
   ],
   "source": [
    "mass_med = statistics.median(list(mass))\n",
    "temp_med = statistics.median(list(temp))\n",
    "print('\\nThe median mass: %.4f' % mass_med)\n",
    "print('\\nThe median temperature: %.2f' % temp_med)\n",
    "iqr_mass = stats.iqr(mass, interpolation = 'midpoint')\n",
    "iqr_temp = stats.iqr(temp, interpolation = 'midpoint')\n",
    "print('\\nThe interquartile range of the mass: %.2f' % iqr_mass)\n",
    "print('\\nThe interquartile range of the temperature: %.2f' % iqr_temp)\n",
    "mass_mode = statistics.mode(list(mass))\n",
    "print('\\nThe mode for the mass: %.2f' % mass_mode)\n",
    "temp_mode = statistics.mode(list(temp))\n",
    "print('\\nThe mode for the temperature: %.2f' % temp_mode)\n",
    "mass_avg = statistics.mean(list(mass))\n",
    "print('\\nThe mean for the mass: %.2f' % mass_avg)\n",
    "temp_avg = statistics.mean(list(temp))\n",
    "print('\\nThe mean for the planetary temperature: %.2f' % temp_avg)"
   ]
  },
  {
   "cell_type": "code",
   "execution_count": 61,
   "id": "b9584ccf",
   "metadata": {},
   "outputs": [
    {
     "data": {
      "image/png": "[encoded data removed]",
      "text/plain": [
       "<Figure size 648x504 with 4 Axes>"
      ]
     },
     "metadata": {},
     "output_type": "display_data"
    }
   ],
   "source": [
    "# First, perform log base 10 transform\n",
    "mass_log = np.log10(mass)\n",
    "temp_log = np.log10(temp)\n",
    "# Plotting Logic\n",
    "fig2, ax2 = plt.subplots(2, 2,figsize = (9, 7), \n",
    "                       constrained_layout = True)\n",
    "fig2.suptitle('Histograms - Case 2')\n",
    "ax2[0, 0].hist(mass, color = 'blueviolet', edgecolor = 'white')\n",
    "#ax2[0, 0].set_title('') #<- use this logic to give each plot its own title.\n",
    "ax2[0, 0].set(xlabel = 'planet mass (Jupiter mass)')\n",
    "ax2[0, 1].hist(mass_log, color = 'blueviolet', edgecolor = 'red')\n",
    "ax2[0, 1].set(xlabel = 'log10(planet mass)')\n",
    "ax2[1, 0].hist(temp, color = 'teal', edgecolor = 'white')\n",
    "ax2[1, 0].set(xlabel = 'equilibrium temperature')\n",
    "ax2[1, 1].hist(temp_log, color = 'teal', edgecolor = 'red')\n",
    "ax2[1, 1].set(xlabel = 'log10(equilibrium temperature)')\n",
    "\n",
    "for ax in ax2.flat:\n",
    "    ax.set(ylabel = 'Frequency')\n",
    "plt.savefig('histograms_2.png',dpi=600)\n",
    "#fig2.tight_layout()"
   ]
  },
  {
   "cell_type": "markdown",
   "id": "8bcbf1e4",
   "metadata": {},
   "source": [
    "The distribution became more normally distributed when applying the log base 10 transformation on the dataset."
   ]
  },
  {
   "cell_type": "markdown",
   "id": "cf3d418e",
   "metadata": {},
   "source": [
    "In this case, the dataset became skew left when the logarithmic transformation was applied."
   ]
  },
  {
   "cell_type": "markdown",
   "id": "49b003f0",
   "metadata": {},
   "source": [
    "Will now split the data into their respective sets."
   ]
  },
  {
   "cell_type": "code",
   "execution_count": 62,
   "id": "958ca1ce",
   "metadata": {},
   "outputs": [],
   "source": [
    "X2 = np.array(mass).reshape(-1,1)\n",
    "y2 = np.array(temp).reshape(-1, 1)\n",
    "X2_train, X2_test, y2_train, y2_test = train_test_split(X2, y2, train_size = 0.80, random_state = 25)\n",
    "y2_train = y2_train.reshape(len(y2_train), )\n",
    "y2_test = y2_test.reshape(len(y2_test), )"
   ]
  },
  {
   "cell_type": "code",
   "execution_count": 63,
   "id": "6529f830",
   "metadata": {},
   "outputs": [],
   "source": [
    "# Sample timing logic to track seconds to complete the script.\n",
    "#execution_time_0 = (time.time() - start_time_0)\n",
    "#print('Execution time in seconds: ' + str(execution_time_0))"
   ]
  },
  {
   "cell_type": "code",
   "execution_count": 64,
   "id": "5cffd052",
   "metadata": {},
   "outputs": [],
   "source": [
    "# Establishing baselines for predictions according to the y-variable or response variable.\n",
    "y_baseline_2= y2_train.mean()\n",
    "#y_baseline_2= statistics.median(y2_train)\n",
    "y_pred_train_2 = [y_baseline_2]*len(y2_train) #<- Training Baseline\n",
    "y_pred_test_2 = [y_baseline_2]*len(y2_test)"
   ]
  },
  {
   "cell_type": "code",
   "execution_count": 65,
   "id": "e6b391cc",
   "metadata": {},
   "outputs": [],
   "source": [
    "# Following is for the Training Dataset.\n",
    "# Error for training data baseline guess.\n",
    "mae_train_2 = mean_absolute_error(y2_train, y_pred_train_2)\n",
    "# Mean squared error for training data baseline guess.\n",
    "mse_train_2 = mean_squared_error(y2_train, y_pred_train_2)\n",
    "rmse_train_2 = sqrt(mse_train_2) # <- will compute the root mean square error\n",
    "# R-squared for training data baseline guess.\n",
    "y2_train_r2 = r2_score(y2_train, y_pred_train_2)"
   ]
  },
  {
   "cell_type": "code",
   "execution_count": 66,
   "id": "1d4dee9d",
   "metadata": {},
   "outputs": [],
   "source": [
    "# Error for test data baseline guess.\n",
    "mae_test_2 = mean_absolute_error(y2_test, y_pred_test_2)\n",
    "# Mean squared error for test data baseline guess.\n",
    "mse_test_2 = mean_squared_error(y2_test, y_pred_test_2)\n",
    "# Test Root Mean Square Error\n",
    "rmse_test_2 = sqrt(mse_test_2)\n",
    "# R-squared for test data baseline guess.\n",
    "y2_test_r2 = r2_score(y2_test, y_pred_test_2)"
   ]
  },
  {
   "cell_type": "code",
   "execution_count": 67,
   "id": "7b48d01f",
   "metadata": {},
   "outputs": [
    {
     "data": {
      "text/html": [
       "<div>\n",
       "<style scoped>\n",
       "    .dataframe tbody tr th:only-of-type {\n",
       "        vertical-align: middle;\n",
       "    }\n",
       "\n",
       "    .dataframe tbody tr th {\n",
       "        vertical-align: top;\n",
       "    }\n",
       "\n",
       "    .dataframe thead th {\n",
       "        text-align: right;\n",
       "    }\n",
       "</style>\n",
       "<table border=\"1\" class=\"dataframe\">\n",
       "  <thead>\n",
       "    <tr style=\"text-align: right;\">\n",
       "      <th></th>\n",
       "      <th>Method</th>\n",
       "      <th>Train MAE</th>\n",
       "      <th>Train MSE</th>\n",
       "      <th>Train RMSE</th>\n",
       "      <th>Train R2</th>\n",
       "      <th>Test MAE</th>\n",
       "      <th>Test MSE</th>\n",
       "      <th>Test RMSE</th>\n",
       "      <th>Test R2</th>\n",
       "    </tr>\n",
       "  </thead>\n",
       "  <tbody>\n",
       "    <tr>\n",
       "      <th>0</th>\n",
       "      <td>Baseline</td>\n",
       "      <td>499.285981</td>\n",
       "      <td>369158.844853</td>\n",
       "      <td>607.584434</td>\n",
       "      <td>0.0</td>\n",
       "      <td>452.721233</td>\n",
       "      <td>282866.309612</td>\n",
       "      <td>531.851774</td>\n",
       "      <td>-0.007957</td>\n",
       "    </tr>\n",
       "  </tbody>\n",
       "</table>\n",
       "</div>"
      ],
      "text/plain": [
       "     Method   Train MAE      Train MSE  Train RMSE Train R2    Test MAE  \\\n",
       "0  Baseline  499.285981  369158.844853  607.584434      0.0  452.721233   \n",
       "\n",
       "        Test MSE   Test RMSE   Test R2  \n",
       "0  282866.309612  531.851774 -0.007957  "
      ]
     },
     "execution_count": 67,
     "metadata": {},
     "output_type": "execute_result"
    }
   ],
   "source": [
    "baseline_2 = pd.DataFrame(['Baseline', mae_train_2, mse_train_2, rmse_train_2, y2_train_r2, mae_test_2, mse_test_2, rmse_test_2, y2_test_r2]).T\n",
    "baseline_2.columns = metric_col_names\n",
    "baseline_2"
   ]
  },
  {
   "cell_type": "markdown",
   "id": "93e46273",
   "metadata": {},
   "source": [
    "Recall that the response variable (y) in this case is the mass of the planet (in Jupiter masses) which needs the log base 10 transform."
   ]
  },
  {
   "cell_type": "code",
   "execution_count": 68,
   "id": "16e43a54",
   "metadata": {},
   "outputs": [],
   "source": [
    "X2_train_log, X2_test_log = np.log10(X2_train), np.log10(X2_test)\n",
    "y2_train_log = np.log10(y2_train)"
   ]
  },
  {
   "cell_type": "code",
   "execution_count": 69,
   "id": "d3bcad79",
   "metadata": {
    "scrolled": true
   },
   "outputs": [
    {
     "name": "stdout",
     "output_type": "stream",
     "text": [
      "     k  Test Score  Train Score\n",
      "0    1   -0.836310     0.882175\n",
      "1    2   -0.041881     0.598381\n",
      "2    3    0.055052     0.482562\n",
      "3    4    0.117461     0.427514\n",
      "4    5    0.120823     0.380144\n",
      "..  ..         ...          ...\n",
      "69  70    0.203371     0.243813\n",
      "70  71    0.203670     0.242172\n",
      "71  72    0.204122     0.242603\n",
      "72  73    0.206701     0.241634\n",
      "73  74    0.207193     0.241222\n",
      "\n",
      "[74 rows x 3 columns]\n",
      "The highest Test R-squared value occurs at : 0.2164\n",
      "Within given range, optimal k is:  40\n"
     ]
    }
   ],
   "source": [
    "# kNN R-squared accuracy\n",
    "knn_r_acc_2 = []\n",
    "for j in range(1, 75, 1):\n",
    "    knn_2 = KNeighborsRegressor(n_neighbors = j)\n",
    "    knn_2.fit(X2_train_log.reshape(-1, 1), y2_train_log.reshape(-1, 1))\n",
    "    test_score_2 = knn_2.score(X2_test_log.reshape(-1, 1), np.log10(y2_test))\n",
    "    train_score_2 = knn_2.score(X2_train_log.reshape(-1, 1), y2_train_log.reshape(-1, 1))\n",
    "    knn_r_acc_2.append((j, test_score_2, train_score_2))\n",
    "outcomes_2 = pd.DataFrame(knn_r_acc_2, columns = ['k', 'Test Score', 'Train Score'])\n",
    "print(outcomes_2)\n",
    "print('The highest Test R-squared value occurs at : %.4f' % outcomes_2.iloc[:,1].max())\n",
    "print('Within given range, optimal k is: ', outcomes_2.loc[outcomes_2['Test Score'] == outcomes_2.iloc[:,1].max(), 'k'].iloc[0])"
   ]
  },
  {
   "cell_type": "code",
   "execution_count": 70,
   "id": "799dc95b",
   "metadata": {},
   "outputs": [
    {
     "name": "stdout",
     "output_type": "stream",
     "text": [
      "Execution time in minutes: 8.277757473786671\n"
     ]
    },
    {
     "data": {
      "image/png": "[encoded data removed]",
      "text/plain": [
       "<Figure size 2592x864 with 3 Axes>"
      ]
     },
     "metadata": {},
     "output_type": "display_data"
    }
   ],
   "source": [
    "start_time_2 = time.time()\n",
    "\n",
    "df3 = pd.concat([np.log10(mass), temp], axis=1)\n",
    "metrics2_1 = ci_bootstrap(df3, KNeighborsRegressor(n_neighbors = 40))\n",
    "\n",
    "# Plotting Logic\n",
    "fig2_2, ax2_2 = plt.subplots(1, 3, figsize = (36, 12))\n",
    "#fig1_2.suptitle('Bootstrap Performance Metrics - Case 1')\n",
    "\n",
    "# Confidence Interval\n",
    "confidence_interval2_1 = list(metrics2_1.quantile([0.025, 0.975]))\n",
    "\n",
    "ax2_2[0].hist(metrics2_1, color='#4db32e', edgecolor = \"red\")\n",
    "ax2_2[0].plot(confidence_interval2_1, [190, 190], color='black')\n",
    "for x2 in confidence_interval2_1:\n",
    "    ax2_2[0].plot([x2, x2], [0, 200], color='black')\n",
    "    ax2_2[0].text(x2, 210, f'{x2:.4f}', \n",
    "            horizontalalignment='center', verticalalignment='center')\n",
    "ax2_2[0].text(sum(confidence_interval2_1) / 2, 60, '95% interval',\n",
    "        horizontalalignment='center', verticalalignment='center')\n",
    "\n",
    "mean_knn_model_2 = metrics2_1.mean()\n",
    "ax2_2[0].plot([mean_knn_model_2, mean_knn_model_2], [0, 195], color='black', linestyle='--')\n",
    "ax2_2[0].text(mean_knn_model_2, 225, f'Mean: {mean_knn_model_2:.4f}',\n",
    "        bbox=dict(facecolor='white', edgecolor='white', alpha=0.5),\n",
    "        horizontalalignment='center', verticalalignment='center')\n",
    "ax2_2[0].set_title('kNN Model 2')\n",
    "\n",
    "# Now for the SVR model\n",
    "eps_2 = 8 #<- hyperparameters used throughout the script\n",
    "hyperparam2 = 1000 #<- hyperparameters used throughout the script\n",
    "metrics2_2 = ci_bootstrap(df3, SVR(kernel = 'rbf', C = hyperparam2, epsilon = eps_2))\n",
    "confidence_interval2_2 = list(metrics2_2.quantile([0.025, 0.975]))\n",
    "\n",
    "ax2_2[1].hist(metrics2_2, color='#7961c9', edgecolor = \"white\")\n",
    "ax2_2[1].plot(confidence_interval2_2, [190, 190], color='black')\n",
    "for x2 in confidence_interval2_2:\n",
    "    ax2_2[1].plot([x2, x2], [0, 200], color='black')\n",
    "    ax2_2[1].text(x2, 210, f'{x2:.4f}', \n",
    "            horizontalalignment='center', verticalalignment='center')\n",
    "ax2_2[1].text(sum(confidence_interval2_2) / 2, 60, '95% interval',\n",
    "        horizontalalignment='center', verticalalignment='center')\n",
    "\n",
    "mean_svr_model_2 = metrics2_2.mean()\n",
    "ax2_2[1].plot([mean_svr_model_2, mean_svr_model_2], [0, 195], color='black', linestyle='--')\n",
    "ax2_2[1].text(mean_svr_model_2, 225, f'Mean: {mean_svr_model_2:.4f}',\n",
    "        bbox=dict(facecolor='white', edgecolor='white', alpha=0.5),\n",
    "        horizontalalignment='center', verticalalignment='center')\n",
    "ax2_2[1].set_title('SVR Model 2')\n",
    "\n",
    "# Now for the Random Forest model\n",
    "metrics2_3 = ci_bootstrap(df3, RandomForestRegressor(max_depth=2))\n",
    "confidence_interval2_3 = list(metrics2_3.quantile([0.025, 0.975]))\n",
    "\n",
    "ax2_2[2].hist(metrics2_3, color='#03dffc', edgecolor = \"black\")\n",
    "ax2_2[2].plot(confidence_interval2_3, [190, 190], color='black')\n",
    "for x2 in confidence_interval2_3:\n",
    "    ax2_2[2].plot([x2, x2], [0, 200], color='black')\n",
    "    ax2_2[2].text(x2, 210, f'{x2:.4f}', \n",
    "            horizontalalignment='center', verticalalignment='center')\n",
    "ax2_2[2].text(sum(confidence_interval2_3) / 2, 60, '95% interval',\n",
    "        horizontalalignment='center', verticalalignment='center')\n",
    "\n",
    "mean_rf_model_2 = metrics2_3.mean()\n",
    "ax2_2[2].plot([mean_rf_model_2, mean_rf_model_2], [0, 195], color='black', linestyle='--')\n",
    "ax2_2[2].text(mean_rf_model_2, 225, f'Mean: {mean_rf_model_2:.4f}',\n",
    "      bbox=dict(facecolor='white', edgecolor='white', alpha=0.5),\n",
    "       horizontalalignment='center', verticalalignment='center')\n",
    "ax2_2[2].set_title('RF Model 2')\n",
    "\n",
    "for ax in ax2_2.flat:\n",
    "    ax.set(ylabel = 'Counts')\n",
    "    #ax.set(xlabel = 'RMSE eccentricity (unitless)')\n",
    "\n",
    "plt.savefig('bootstrap_rmse_2.png',dpi=800)\n",
    "execution_time_2 = (time.time() - start_time_2)\n",
    "print('Execution time in minutes: ' + str(execution_time_2/60))"
   ]
  },
  {
   "cell_type": "code",
   "execution_count": 71,
   "id": "217c6c49",
   "metadata": {},
   "outputs": [
    {
     "data": {
      "image/png": "[encoded data removed]",
      "text/plain": [
       "<Figure size 1080x432 with 3 Axes>"
      ]
     },
     "metadata": {},
     "output_type": "display_data"
    }
   ],
   "source": [
    "#fig_knn1, axs_knn1 = plt.subplots(1, 1, figsize=(7, 7))\n",
    "#x = plt.subplots(1, 1, figsize=(7, 7))\n",
    "\n",
    "\n",
    "#ax = sns.histplot(metrics2_1, kde=True, color=\"skyblue\")\n",
    "\n",
    "#sns.histplot(data=df, x=\"sepal_width\", kde=True, color=\"olive\", ax=axs[0, 1])\n",
    "#sns.histplot(data=df, x=\"petal_length\", kde=True, color=\"gold\", ax=axs[1, 0])\n",
    "#sns.histplot(data=df, x=\"petal_width\", kde=True, color=\"teal\", ax=axs[1, 1])\n",
    "\n",
    "#fig_knn1, axs_knn1 = plt.subplots(1, 3, figsize=(7, 7))\n",
    "\n",
    "fig_bootstrap_2, axs_bootstrap_2 = plt.subplots(1, 3, figsize = (15, 6))\n",
    "\n",
    "sns.histplot(metrics2_1, kde=True, color=\"#4db32e\", ax=axs_bootstrap_2[0])\n",
    "axs_bootstrap_2[0].set_title('kNN Model 2')\n",
    "axs_bootstrap_2[0].set_xlabel('RMSE - temperature')\n",
    "sns.histplot(metrics2_2, kde=True, color=\"#7961c9\", ax=axs_bootstrap_2[1])\n",
    "axs_bootstrap_2[1].set_title('SVR Model 2')\n",
    "axs_bootstrap_2[1].set_xlabel('RMSE - temperature')\n",
    "sns.histplot(metrics2_3, kde=True, color=\"#03dffc\", ax=axs_bootstrap_2[2])\n",
    "axs_bootstrap_2[2].set_title('RF Model 2')\n",
    "axs_bootstrap_2[2].set_xlabel('RMSE - temperature')\n",
    "\n",
    "plt.savefig('bootstrap_case_2.png',dpi=600)\n",
    "plt.show()"
   ]
  },
  {
   "cell_type": "code",
   "execution_count": 72,
   "id": "55bc71eb",
   "metadata": {},
   "outputs": [
    {
     "name": "stdout",
     "output_type": "stream",
     "text": [
      "The 95% confidence interval for the knn Model 2:\n",
      " [477.0150960152051, 537.2257693923783]\n",
      "\n",
      "The 95% confidence interval for the SVR Model 2:\n",
      " [478.32254568893586, 547.0845608472042]\n",
      "\n",
      "The 95% confidence interval for the RF Model 2:\n",
      " [480.91760535688945, 541.0972953824096]\n"
     ]
    }
   ],
   "source": [
    "print('The 95% confidence interval for the knn Model 2:\\n', confidence_interval2_1)\n",
    "print('\\nThe 95% confidence interval for the SVR Model 2:\\n', confidence_interval2_2)\n",
    "print('\\nThe 95% confidence interval for the RF Model 2:\\n', confidence_interval2_3)"
   ]
  },
  {
   "cell_type": "code",
   "execution_count": 73,
   "id": "78515c82",
   "metadata": {},
   "outputs": [],
   "source": [
    "model_knn_2 = KNeighborsRegressor(n_neighbors = 40)\n",
    "model_knn_2.fit(X2_train_log.reshape(-1, 1), y2_train_log.reshape(-1, 1))\n",
    "y_knn_train_pred_2_log = model_knn_2.predict(X2_train_log.reshape(-1, 1))\n",
    "y_knn_test_pred_2_log = model_knn_2.predict(X2_test_log.reshape(-1, 1))"
   ]
  },
  {
   "cell_type": "code",
   "execution_count": 74,
   "id": "c4b1caac",
   "metadata": {},
   "outputs": [],
   "source": [
    "y_knn_train_pred_2 = pow(10, y_knn_train_pred_2_log)\n",
    "#y_knn_train_pred_2 = y_knn_train_pred_2_log\n",
    "y_knn_test_pred_2 = pow(10, y_knn_test_pred_2_log)\n",
    "#y_knn_test_pred_2 = y_knn_test_pred_2_log\n",
    "#X2_inverse = pow(10, y_knn_test_pred_2_log) #<- Will cause runtime error that is overflow in power function."
   ]
  },
  {
   "cell_type": "code",
   "execution_count": 75,
   "id": "b910ca31",
   "metadata": {},
   "outputs": [
    {
     "data": {
      "text/html": [
       "<div>\n",
       "<style scoped>\n",
       "    .dataframe tbody tr th:only-of-type {\n",
       "        vertical-align: middle;\n",
       "    }\n",
       "\n",
       "    .dataframe tbody tr th {\n",
       "        vertical-align: top;\n",
       "    }\n",
       "\n",
       "    .dataframe thead th {\n",
       "        text-align: right;\n",
       "    }\n",
       "</style>\n",
       "<table border=\"1\" class=\"dataframe\">\n",
       "  <thead>\n",
       "    <tr style=\"text-align: right;\">\n",
       "      <th></th>\n",
       "      <th>Method</th>\n",
       "      <th>Train MAE</th>\n",
       "      <th>Train MSE</th>\n",
       "      <th>Train RMSE</th>\n",
       "      <th>Train R2</th>\n",
       "      <th>Test MAE</th>\n",
       "      <th>Test MSE</th>\n",
       "      <th>Test RMSE</th>\n",
       "      <th>Test R2</th>\n",
       "    </tr>\n",
       "  </thead>\n",
       "  <tbody>\n",
       "    <tr>\n",
       "      <th>0</th>\n",
       "      <td>k Nearest Neighbor</td>\n",
       "      <td>386.712371</td>\n",
       "      <td>271264.060603</td>\n",
       "      <td>520.830165</td>\n",
       "      <td>0.265183</td>\n",
       "      <td>371.570213</td>\n",
       "      <td>220367.820956</td>\n",
       "      <td>469.433511</td>\n",
       "      <td>0.214748</td>\n",
       "    </tr>\n",
       "  </tbody>\n",
       "</table>\n",
       "</div>"
      ],
      "text/plain": [
       "               Method   Train MAE      Train MSE  Train RMSE  Train R2  \\\n",
       "0  k Nearest Neighbor  386.712371  271264.060603  520.830165  0.265183   \n",
       "\n",
       "     Test MAE       Test MSE   Test RMSE   Test R2  \n",
       "0  371.570213  220367.820956  469.433511  0.214748  "
      ]
     },
     "execution_count": 75,
     "metadata": {},
     "output_type": "execute_result"
    }
   ],
   "source": [
    "# First the training metrics.\n",
    "knn2_train_mae = mean_absolute_error(y2_train, y_knn_train_pred_2)\n",
    "knn2_train_mse = mean_squared_error(y2_train, y_knn_train_pred_2)\n",
    "knn2_train_rmse = sqrt(knn2_train_mse) # <- will compute the root mean square error\n",
    "knn2_train_r2 = r2_score(y2_train, y_knn_train_pred_2)\n",
    "# Now, test set metrics.\n",
    "knn2_test_mae = mean_absolute_error(y2_test, y_knn_test_pred_2)\n",
    "knn2_test_mse = mean_squared_error(y2_test, y_knn_test_pred_2)\n",
    "knn2_test_rmse = sqrt(knn2_test_mse)\n",
    "knn2_test_r2 = r2_score(y2_test, y_knn_test_pred_2)\n",
    "# Consolidate the results.\n",
    "knn_results_2 = pd.DataFrame(['k Nearest Neighbor', knn2_train_mae, knn2_train_mse, knn2_train_rmse, knn2_train_r2, knn2_test_mae, knn2_test_mse, knn2_test_rmse, knn2_test_r2]).transpose()\n",
    "knn_results_2.columns = metric_col_names\n",
    "knn_results_2"
   ]
  },
  {
   "cell_type": "markdown",
   "id": "2604c65a",
   "metadata": {},
   "source": [
    "Now to build Support Vector Regressor model."
   ]
  },
  {
   "cell_type": "code",
   "execution_count": 76,
   "id": "d01a773a",
   "metadata": {},
   "outputs": [],
   "source": [
    "# Setting the hyperparameter\n",
    "eps_2 = 8\n",
    "hyperparam1 = 1000\n",
    "svr_2 = SVR(kernel = 'rbf', C = hyperparam1, epsilon = eps_2)\n",
    "svr_2.fit(X2_train_log, y2_train_log)\n",
    "\n",
    "#y_svr_train_pred_2 = svr_regressor_2.predict(X2_train)\n",
    "y_svr_train_pred_2_log = svr_2.predict(X2_train_log)\n",
    "#y_svr_test_pred_2 = svr_regressor_2.predict(X2_test)\n",
    "y_svr_test_pred_2_log = svr_2.predict(X2_test_log)\n",
    "y_svr_train_pred_2 = pow(10, y_svr_train_pred_2_log)\n",
    "y_svr_test_pred_2 = pow(10, y_svr_test_pred_2_log)"
   ]
  },
  {
   "cell_type": "code",
   "execution_count": 77,
   "id": "ee6a77e5",
   "metadata": {},
   "outputs": [
    {
     "data": {
      "text/html": [
       "<div>\n",
       "<style scoped>\n",
       "    .dataframe tbody tr th:only-of-type {\n",
       "        vertical-align: middle;\n",
       "    }\n",
       "\n",
       "    .dataframe tbody tr th {\n",
       "        vertical-align: top;\n",
       "    }\n",
       "\n",
       "    .dataframe thead th {\n",
       "        text-align: right;\n",
       "    }\n",
       "</style>\n",
       "<table border=\"1\" class=\"dataframe\">\n",
       "  <thead>\n",
       "    <tr style=\"text-align: right;\">\n",
       "      <th></th>\n",
       "      <th>Method</th>\n",
       "      <th>Train MAE</th>\n",
       "      <th>Train MSE</th>\n",
       "      <th>Train RMSE</th>\n",
       "      <th>Train R2</th>\n",
       "      <th>Test MAE</th>\n",
       "      <th>Test MSE</th>\n",
       "      <th>Test RMSE</th>\n",
       "      <th>Test R2</th>\n",
       "    </tr>\n",
       "  </thead>\n",
       "  <tbody>\n",
       "    <tr>\n",
       "      <th>0</th>\n",
       "      <td>SVR</td>\n",
       "      <td>1199.017726</td>\n",
       "      <td>1806802.352901</td>\n",
       "      <td>1344.173483</td>\n",
       "      <td>-3.894376</td>\n",
       "      <td>1151.7623</td>\n",
       "      <td>1607189.629926</td>\n",
       "      <td>1267.749829</td>\n",
       "      <td>-0.31663</td>\n",
       "    </tr>\n",
       "  </tbody>\n",
       "</table>\n",
       "</div>"
      ],
      "text/plain": [
       "  Method    Train MAE       Train MSE   Train RMSE  Train R2   Test MAE  \\\n",
       "0    SVR  1199.017726  1806802.352901  1344.173483 -3.894376  1151.7623   \n",
       "\n",
       "         Test MSE    Test RMSE  Test R2  \n",
       "0  1607189.629926  1267.749829 -0.31663  "
      ]
     },
     "execution_count": 77,
     "metadata": {},
     "output_type": "execute_result"
    }
   ],
   "source": [
    "# Model performance - training set\n",
    "svr2_train_mae = mean_absolute_error(y2_train, y_svr_train_pred_2_log)\n",
    "svr2_train_mse = mean_squared_error(y2_train, y_svr_train_pred_2_log)\n",
    "svr2_train_rmse = sqrt(svr2_train_mse)\n",
    "svr2_train_r2 = r2_score(y2_train, y_svr_train_pred_2_log)\n",
    "# Model performance - test set\n",
    "svr2_test_mae = mean_absolute_error(y2_test, y_svr_test_pred_2_log)\n",
    "svr2_test_mse = mean_squared_error(y2_test, y_svr_test_pred_2_log)\n",
    "svr2_test_rmse = sqrt(svr2_test_mse)\n",
    "svr2_test_r2 = r2_score(X2_test, y_svr_test_pred_2_log)\n",
    "# Consolidate the results.\n",
    "# Notice use of the transpose here.\n",
    "svr_results_2 = pd.DataFrame(['SVR', svr2_train_mae, svr2_train_mse, svr2_train_rmse, svr2_train_r2, svr2_test_mae, svr2_test_mse, svr2_test_rmse, svr2_test_r2]).T\n",
    "svr_results_2.columns = metric_col_names\n",
    "svr_results_2"
   ]
  },
  {
   "cell_type": "code",
   "execution_count": 78,
   "id": "6c42b34f",
   "metadata": {},
   "outputs": [
    {
     "data": {
      "text/plain": [
       "RandomForestRegressor(max_depth=2)"
      ]
     },
     "execution_count": 78,
     "metadata": {},
     "output_type": "execute_result"
    }
   ],
   "source": [
    "rf_2 = RandomForestRegressor(max_depth = 2)\n",
    "rf_2.fit(X2_train_log, y2_train_log)\n",
    "y_rf_train_pred_2_log = rf_2.predict(X2_train_log)\n",
    "y_rf_test_pred_2_log = rf_2.predict(X2_test_log)\n",
    "rf_2"
   ]
  },
  {
   "cell_type": "code",
   "execution_count": 79,
   "id": "041bc39f",
   "metadata": {},
   "outputs": [],
   "source": [
    "y_rf_train_pred_2 = pow(10, y_rf_train_pred_2_log)\n",
    "y_rf_test_pred_2 = pow(10, y_rf_test_pred_2_log)\n",
    "# Model performance metrics for random forest model.\n",
    "rf2_train_mae = mean_absolute_error(y2_train, y_rf_train_pred_2)\n",
    "rf2_train_mse = mean_squared_error(y2_train, y_rf_train_pred_2)\n",
    "rf2_train_rmse = sqrt(rf2_train_mse)\n",
    "rf2_train_r2 = r2_score(y2_train, y_rf_train_pred_2)\n",
    "# The following are the test metrics.\n",
    "rf2_test_mae = mean_absolute_error(y2_test, y_rf_test_pred_2)\n",
    "rf2_test_mse = mean_squared_error(y2_test, y_rf_test_pred_2)\n",
    "rf2_test_rmse = sqrt(rf2_test_mse)\n",
    "rf2_test_r2 = r2_score(y2_test, y_rf_test_pred_2)"
   ]
  },
  {
   "cell_type": "code",
   "execution_count": 80,
   "id": "e3a8d418",
   "metadata": {},
   "outputs": [
    {
     "data": {
      "text/html": [
       "<div>\n",
       "<style scoped>\n",
       "    .dataframe tbody tr th:only-of-type {\n",
       "        vertical-align: middle;\n",
       "    }\n",
       "\n",
       "    .dataframe tbody tr th {\n",
       "        vertical-align: top;\n",
       "    }\n",
       "\n",
       "    .dataframe thead th {\n",
       "        text-align: right;\n",
       "    }\n",
       "</style>\n",
       "<table border=\"1\" class=\"dataframe\">\n",
       "  <thead>\n",
       "    <tr style=\"text-align: right;\">\n",
       "      <th></th>\n",
       "      <th>Method</th>\n",
       "      <th>Train MAE</th>\n",
       "      <th>Train MSE</th>\n",
       "      <th>Train RMSE</th>\n",
       "      <th>Train R2</th>\n",
       "      <th>Test MAE</th>\n",
       "      <th>Test MSE</th>\n",
       "      <th>Test RMSE</th>\n",
       "      <th>Test R2</th>\n",
       "    </tr>\n",
       "  </thead>\n",
       "  <tbody>\n",
       "    <tr>\n",
       "      <th>0</th>\n",
       "      <td>Random Forest</td>\n",
       "      <td>391.141261</td>\n",
       "      <td>277365.300898</td>\n",
       "      <td>526.654821</td>\n",
       "      <td>0.248656</td>\n",
       "      <td>373.215791</td>\n",
       "      <td>219829.474149</td>\n",
       "      <td>468.85976</td>\n",
       "      <td>0.216666</td>\n",
       "    </tr>\n",
       "  </tbody>\n",
       "</table>\n",
       "</div>"
      ],
      "text/plain": [
       "          Method   Train MAE      Train MSE  Train RMSE  Train R2    Test MAE  \\\n",
       "0  Random Forest  391.141261  277365.300898  526.654821  0.248656  373.215791   \n",
       "\n",
       "        Test MSE  Test RMSE   Test R2  \n",
       "0  219829.474149  468.85976  0.216666  "
      ]
     },
     "execution_count": 80,
     "metadata": {},
     "output_type": "execute_result"
    }
   ],
   "source": [
    "rf2_results = pd.DataFrame(['Random Forest', rf2_train_mae, rf2_train_mse, rf2_train_rmse, rf2_train_r2, rf2_test_mae, rf2_test_mse, rf2_test_rmse, rf2_test_r2]).transpose()\n",
    "rf2_results.columns = metric_col_names\n",
    "rf2_results"
   ]
  },
  {
   "cell_type": "code",
   "execution_count": 81,
   "id": "d22e1a3f",
   "metadata": {},
   "outputs": [
    {
     "data": {
      "text/html": [
       "<div>\n",
       "<style scoped>\n",
       "    .dataframe tbody tr th:only-of-type {\n",
       "        vertical-align: middle;\n",
       "    }\n",
       "\n",
       "    .dataframe tbody tr th {\n",
       "        vertical-align: top;\n",
       "    }\n",
       "\n",
       "    .dataframe thead th {\n",
       "        text-align: right;\n",
       "    }\n",
       "</style>\n",
       "<table border=\"1\" class=\"dataframe\">\n",
       "  <thead>\n",
       "    <tr style=\"text-align: right;\">\n",
       "      <th></th>\n",
       "      <th>Method</th>\n",
       "      <th>Train MAE</th>\n",
       "      <th>Train MSE</th>\n",
       "      <th>Train RMSE</th>\n",
       "      <th>Train R2</th>\n",
       "      <th>Test MAE</th>\n",
       "      <th>Test MSE</th>\n",
       "      <th>Test RMSE</th>\n",
       "      <th>Test R2</th>\n",
       "    </tr>\n",
       "  </thead>\n",
       "  <tbody>\n",
       "    <tr>\n",
       "      <th>0</th>\n",
       "      <td>Baseline</td>\n",
       "      <td>499.285981</td>\n",
       "      <td>369158.844853</td>\n",
       "      <td>607.584434</td>\n",
       "      <td>0.0</td>\n",
       "      <td>452.721233</td>\n",
       "      <td>282866.309612</td>\n",
       "      <td>531.851774</td>\n",
       "      <td>-0.007957</td>\n",
       "    </tr>\n",
       "    <tr>\n",
       "      <th>1</th>\n",
       "      <td>k Nearest Neighbor</td>\n",
       "      <td>386.712371</td>\n",
       "      <td>271264.060603</td>\n",
       "      <td>520.830165</td>\n",
       "      <td>0.265183</td>\n",
       "      <td>371.570213</td>\n",
       "      <td>220367.820956</td>\n",
       "      <td>469.433511</td>\n",
       "      <td>0.214748</td>\n",
       "    </tr>\n",
       "    <tr>\n",
       "      <th>2</th>\n",
       "      <td>SVR</td>\n",
       "      <td>1199.017726</td>\n",
       "      <td>1806802.352901</td>\n",
       "      <td>1344.173483</td>\n",
       "      <td>-3.894376</td>\n",
       "      <td>1151.7623</td>\n",
       "      <td>1607189.629926</td>\n",
       "      <td>1267.749829</td>\n",
       "      <td>-0.31663</td>\n",
       "    </tr>\n",
       "    <tr>\n",
       "      <th>3</th>\n",
       "      <td>Random Forest</td>\n",
       "      <td>391.141261</td>\n",
       "      <td>277365.300898</td>\n",
       "      <td>526.654821</td>\n",
       "      <td>0.248656</td>\n",
       "      <td>373.215791</td>\n",
       "      <td>219829.474149</td>\n",
       "      <td>468.85976</td>\n",
       "      <td>0.216666</td>\n",
       "    </tr>\n",
       "  </tbody>\n",
       "</table>\n",
       "</div>"
      ],
      "text/plain": [
       "               Method    Train MAE       Train MSE   Train RMSE  Train R2  \\\n",
       "0            Baseline   499.285981   369158.844853   607.584434       0.0   \n",
       "1  k Nearest Neighbor   386.712371   271264.060603   520.830165  0.265183   \n",
       "2                 SVR  1199.017726  1806802.352901  1344.173483 -3.894376   \n",
       "3       Random Forest   391.141261   277365.300898   526.654821  0.248656   \n",
       "\n",
       "     Test MAE        Test MSE    Test RMSE   Test R2  \n",
       "0  452.721233   282866.309612   531.851774 -0.007957  \n",
       "1  371.570213   220367.820956   469.433511  0.214748  \n",
       "2   1151.7623  1607189.629926  1267.749829  -0.31663  \n",
       "3  373.215791   219829.474149    468.85976  0.216666  "
      ]
     },
     "execution_count": 81,
     "metadata": {},
     "output_type": "execute_result"
    }
   ],
   "source": [
    "results_2 = pd.concat([baseline_2, knn_results_2, svr_results_2, rf2_results], axis = 0, ignore_index = True)\n",
    "results_2 "
   ]
  },
  {
   "cell_type": "markdown",
   "id": "cd490485",
   "metadata": {},
   "source": [
    "#### Hypothesis Testing- Case 2"
   ]
  },
  {
   "cell_type": "markdown",
   "id": "18fff46e",
   "metadata": {},
   "source": [
    "#### Correlation Tests - Case 2"
   ]
  },
  {
   "cell_type": "code",
   "execution_count": 82,
   "id": "ca15b9bb",
   "metadata": {},
   "outputs": [
    {
     "name": "stdout",
     "output_type": "stream",
     "text": [
      "stat = 0.496, p = 0.000\n",
      "Probably Dependent\n"
     ]
    }
   ],
   "source": [
    "# Spearman's Rank Correlation Test\n",
    "stat_3, p_3 = spearmanr(mass_log, temp_log)\n",
    "print('stat = %.3f, p = %.3f' % (stat_3, p_3))\n",
    "if p_3 > 0.05:\n",
    "    print('Probably Independent')\n",
    "else :\n",
    "    print('Probably Dependent')"
   ]
  },
  {
   "cell_type": "code",
   "execution_count": 83,
   "id": "2d921843",
   "metadata": {},
   "outputs": [
    {
     "name": "stdout",
     "output_type": "stream",
     "text": [
      "Execution time in seconds: 1962.7720177173615\n"
     ]
    }
   ],
   "source": [
    "execution_time_1 = (time.time() - start_time_1)\n",
    "print('Execution time in seconds: ' + str(execution_time_1))"
   ]
  },
  {
   "cell_type": "markdown",
   "id": "b9a4f801",
   "metadata": {},
   "source": [
    "#### Nonparametric Statistical Hypothesis Tests - Case 2"
   ]
  },
  {
   "cell_type": "code",
   "execution_count": 84,
   "id": "0ac70340",
   "metadata": {},
   "outputs": [
    {
     "name": "stdout",
     "output_type": "stream",
     "text": [
      "stat = 0.000, p = 0.000\n",
      "Probably Dependent\n"
     ]
    }
   ],
   "source": [
    "# Wilcoxon Signed-Rank Test\n",
    "from scipy.stats import wilcoxon\n",
    "stat_4, p_4 = wilcoxon(mass_log, temp_log)\n",
    "print('stat = %.3f, p = %.3f' % (stat_4, p_4))\n",
    "if p_4 > 0.05:\n",
    "    print('Probably Independent')\n",
    "else :\n",
    "    print('Probably Dependent')\n",
    "    "
   ]
  },
  {
   "cell_type": "markdown",
   "id": "e4997a4d",
   "metadata": {},
   "source": [
    "The following will be the predicted versus actual plot for Case 2.\n",
    "Now, want the true versus the predicted values."
   ]
  },
  {
   "cell_type": "code",
   "execution_count": 85,
   "id": "6d507ae2",
   "metadata": {},
   "outputs": [
    {
     "data": {
      "image/png": "[encoded data removed]",
      "text/plain": [
       "<Figure size 864x864 with 1 Axes>"
      ]
     },
     "metadata": {},
     "output_type": "display_data"
    }
   ],
   "source": [
    "true_values_2 = y2_test\n",
    "predicted_values2_1 = y_knn_test_pred_2\n",
    "predicted_values2_2 = y_svr_test_pred_2\n",
    "predicted_values2_3 = y_rf_test_pred_2\n",
    "plt.figure(figsize = (12, 12))\n",
    "# kNN model\n",
    "knn_2 = plt.scatter(x = true_values_2, y = predicted_values2_1, c = '#68d631')\n",
    "# SVR model\n",
    "svr_2 = plt.scatter(x = true_values_2, y = predicted_values2_2, c = '#2a7505', marker = 's')\n",
    "# Random Forest model\n",
    "rf_2 = plt.scatter(x = true_values_2, y = predicted_values2_3, c = '#addb95', marker = 'x')\n",
    "p3 = max(max(predicted_values2_1), max(predicted_values2_2), max(predicted_values2_3), max(true_values_2))\n",
    "p4 = min(min(predicted_values2_1), min(predicted_values2_2), min(predicted_values2_3), min(true_values_2))\n",
    "\n",
    "plt.plot([p3, p4], [p3, p4], 'b-')\n",
    "plt.title('Prediction and Actual Values - Case II')\n",
    "plt.xlabel('Actual Values')\n",
    "plt.ylabel('Predicted Values')\n",
    "plt.legend([knn_2, svr_2, rf_2], ['kNN', 'SVR', 'RF'], loc = 'upper left')\n",
    "plt.savefig('pred_vs_actual_2.png',dpi=600)\n",
    "plt.show()"
   ]
  },
  {
   "cell_type": "markdown",
   "id": "ca900947",
   "metadata": {},
   "source": [
    "The following will be the residuals plot for Case 2."
   ]
  },
  {
   "cell_type": "code",
   "execution_count": 86,
   "id": "f834578d",
   "metadata": {},
   "outputs": [
    {
     "data": {
      "image/png": "[encoded data removed]",
      "text/plain": [
       "<Figure size 864x864 with 1 Axes>"
      ]
     },
     "metadata": {},
     "output_type": "display_data"
    }
   ],
   "source": [
    "# Will invoke for loop to calculate residulas for the three different models.\n",
    "residuals2_1 = list()\n",
    "for item7, item8 in zip(true_values_2, predicted_values2_1):\n",
    "    residuals2_1.append(item7 - item8)\n",
    "residuals2_2 = list()\n",
    "for item9, item10 in zip(true_values_2, predicted_values2_2):\n",
    "    residuals2_2.append(item9 - item10)\n",
    "residuals2_3 = list()\n",
    "for item11, item12 in zip(true_values_2, predicted_values2_3):\n",
    "    residuals2_3.append(item11 - item12)\n",
    "\n",
    "plt.figure(figsize = (12, 12))\n",
    "# kNN model\n",
    "knn_resid_2 = plt.scatter(x = predicted_values2_1, y = residuals2_1, c = '#cd30f0')\n",
    "# SVR model\n",
    "svr_resid_2 = plt.scatter(x = predicted_values2_2, y = residuals2_2, c = '#b391ba', marker = 'x')\n",
    "# Random Forest model\n",
    "rf_resid_2 = plt.scatter(x = predicted_values2_3, y = residuals2_3, c = '#e2c8e8', marker = 's')\n",
    "\n",
    "plt.title('Residuals versus Fitted values - Case II')\n",
    "plt.xlabel('Fitted Values') # <- Predicted Values\n",
    "plt.ylabel('Residuals')\n",
    "plt.legend([knn_resid_2, svr_resid_2, rf_resid_2], ['kNN', 'SVR', 'RF'], loc = 'upper right')\n",
    "plt.axhline(y = 0.0, color = '#034b8a', linestyle = '--')\n",
    "plt.savefig('resid_2.png',dpi=600)\n",
    "plt.show()"
   ]
  },
  {
   "cell_type": "code",
   "execution_count": 87,
   "id": "2f0d47d6",
   "metadata": {},
   "outputs": [
    {
     "data": {
      "text/plain": [
       "(array([ 6.,  5., 13., 35., 31., 51., 18.,  8.,  2.,  3.]),\n",
       " array([-1112.11215405,  -851.82265997,  -591.53316589,  -331.24367182,\n",
       "          -70.95417774,   189.33531633,   449.62481041,   709.91430448,\n",
       "          970.20379856,  1230.49329263,  1490.78278671]),\n",
       " <BarContainer object of 10 artists>)"
      ]
     },
     "execution_count": 87,
     "metadata": {},
     "output_type": "execute_result"
    },
    {
     "data": {
      "image/png": "[encoded data removed]",
      "text/plain": [
       "<Figure size 432x288 with 1 Axes>"
      ]
     },
     "metadata": {},
     "output_type": "display_data"
    }
   ],
   "source": [
    "plt.hist(residuals2_3, color = \"teal\", edgecolor = 'white')"
   ]
  },
  {
   "cell_type": "code",
   "execution_count": 88,
   "id": "db85d7ae",
   "metadata": {},
   "outputs": [
    {
     "data": {
      "text/plain": [
       "(array([11., 21., 20., 33., 16., 40., 19., 10.,  1.,  1.]),\n",
       " array([-438.8251221, -170.8251221,   97.1748779,  365.1748779,\n",
       "         633.1748779,  901.1748779, 1169.1748779, 1437.1748779,\n",
       "        1705.1748779, 1973.1748779, 2241.1748779]),\n",
       " <BarContainer object of 10 artists>)"
      ]
     },
     "execution_count": 88,
     "metadata": {},
     "output_type": "execute_result"
    },
    {
     "data": {
      "image/png": "[encoded data removed]",
      "text/plain": [
       "<Figure size 432x288 with 1 Axes>"
      ]
     },
     "metadata": {},
     "output_type": "display_data"
    }
   ],
   "source": [
    "plt.hist(residuals2_2, color = 'powderblue', edgecolor = 'black')"
   ]
  },
  {
   "cell_type": "markdown",
   "id": "0009f348",
   "metadata": {},
   "source": [
    "### Scenario 3 - orbital period as function of planetary mass\n"
   ]
  },
  {
   "cell_type": "code",
   "execution_count": 89,
   "id": "0b7abd72",
   "metadata": {},
   "outputs": [
    {
     "data": {
      "text/html": [
       "<div>\n",
       "<style scoped>\n",
       "    .dataframe tbody tr th:only-of-type {\n",
       "        vertical-align: middle;\n",
       "    }\n",
       "\n",
       "    .dataframe tbody tr th {\n",
       "        vertical-align: top;\n",
       "    }\n",
       "\n",
       "    .dataframe thead th {\n",
       "        text-align: right;\n",
       "    }\n",
       "</style>\n",
       "<table border=\"1\" class=\"dataframe\">\n",
       "  <thead>\n",
       "    <tr style=\"text-align: right;\">\n",
       "      <th></th>\n",
       "      <th>pl_name</th>\n",
       "      <th>pl_bmassj</th>\n",
       "      <th>pl_orbper</th>\n",
       "    </tr>\n",
       "  </thead>\n",
       "  <tbody>\n",
       "    <tr>\n",
       "      <th>0</th>\n",
       "      <td>11 Com b</td>\n",
       "      <td>19.40</td>\n",
       "      <td>326.03000</td>\n",
       "    </tr>\n",
       "    <tr>\n",
       "      <th>1</th>\n",
       "      <td>11 Com b</td>\n",
       "      <td>17.10</td>\n",
       "      <td>NaN</td>\n",
       "    </tr>\n",
       "    <tr>\n",
       "      <th>2</th>\n",
       "      <td>11 UMi b</td>\n",
       "      <td>10.80</td>\n",
       "      <td>NaN</td>\n",
       "    </tr>\n",
       "    <tr>\n",
       "      <th>3</th>\n",
       "      <td>11 UMi b</td>\n",
       "      <td>14.74</td>\n",
       "      <td>516.21997</td>\n",
       "    </tr>\n",
       "    <tr>\n",
       "      <th>4</th>\n",
       "      <td>11 UMi b</td>\n",
       "      <td>10.50</td>\n",
       "      <td>516.22000</td>\n",
       "    </tr>\n",
       "    <tr>\n",
       "      <th>...</th>\n",
       "      <td>...</td>\n",
       "      <td>...</td>\n",
       "      <td>...</td>\n",
       "    </tr>\n",
       "    <tr>\n",
       "      <th>32511</th>\n",
       "      <td>ups And d</td>\n",
       "      <td>4.10</td>\n",
       "      <td>1282.41000</td>\n",
       "    </tr>\n",
       "    <tr>\n",
       "      <th>32512</th>\n",
       "      <td>ups And d</td>\n",
       "      <td>10.25</td>\n",
       "      <td>1281.50700</td>\n",
       "    </tr>\n",
       "    <tr>\n",
       "      <th>32513</th>\n",
       "      <td>ups Leo b</td>\n",
       "      <td>0.51</td>\n",
       "      <td>385.20000</td>\n",
       "    </tr>\n",
       "    <tr>\n",
       "      <th>32514</th>\n",
       "      <td>xi Aql b</td>\n",
       "      <td>2.02</td>\n",
       "      <td>NaN</td>\n",
       "    </tr>\n",
       "    <tr>\n",
       "      <th>32515</th>\n",
       "      <td>xi Aql b</td>\n",
       "      <td>2.80</td>\n",
       "      <td>136.75000</td>\n",
       "    </tr>\n",
       "  </tbody>\n",
       "</table>\n",
       "<p>32516 rows × 3 columns</p>\n",
       "</div>"
      ],
      "text/plain": [
       "         pl_name  pl_bmassj   pl_orbper\n",
       "0       11 Com b      19.40   326.03000\n",
       "1       11 Com b      17.10         NaN\n",
       "2       11 UMi b      10.80         NaN\n",
       "3       11 UMi b      14.74   516.21997\n",
       "4       11 UMi b      10.50   516.22000\n",
       "...          ...        ...         ...\n",
       "32511  ups And d       4.10  1282.41000\n",
       "32512  ups And d      10.25  1281.50700\n",
       "32513  ups Leo b       0.51   385.20000\n",
       "32514   xi Aql b       2.02         NaN\n",
       "32515   xi Aql b       2.80   136.75000\n",
       "\n",
       "[32516 rows x 3 columns]"
      ]
     },
     "execution_count": 89,
     "metadata": {},
     "output_type": "execute_result"
    }
   ],
   "source": [
    "df4 = raw_data.loc[:, ['pl_name','pl_bmassj','pl_orbper']]\n",
    "df4"
   ]
  },
  {
   "cell_type": "code",
   "execution_count": 90,
   "id": "370000ad",
   "metadata": {},
   "outputs": [
    {
     "data": {
      "text/html": [
       "<div>\n",
       "<style scoped>\n",
       "    .dataframe tbody tr th:only-of-type {\n",
       "        vertical-align: middle;\n",
       "    }\n",
       "\n",
       "    .dataframe tbody tr th {\n",
       "        vertical-align: top;\n",
       "    }\n",
       "\n",
       "    .dataframe thead th {\n",
       "        text-align: right;\n",
       "    }\n",
       "</style>\n",
       "<table border=\"1\" class=\"dataframe\">\n",
       "  <thead>\n",
       "    <tr style=\"text-align: right;\">\n",
       "      <th></th>\n",
       "      <th>planetname</th>\n",
       "      <th>mass</th>\n",
       "      <th>orbit period</th>\n",
       "    </tr>\n",
       "  </thead>\n",
       "  <tbody>\n",
       "    <tr>\n",
       "      <th>0</th>\n",
       "      <td>11 Com b</td>\n",
       "      <td>19.40</td>\n",
       "      <td>326.03000</td>\n",
       "    </tr>\n",
       "    <tr>\n",
       "      <th>3</th>\n",
       "      <td>11 UMi b</td>\n",
       "      <td>14.74</td>\n",
       "      <td>516.21997</td>\n",
       "    </tr>\n",
       "    <tr>\n",
       "      <th>4</th>\n",
       "      <td>11 UMi b</td>\n",
       "      <td>10.50</td>\n",
       "      <td>516.22000</td>\n",
       "    </tr>\n",
       "    <tr>\n",
       "      <th>6</th>\n",
       "      <td>14 And b</td>\n",
       "      <td>4.80</td>\n",
       "      <td>185.84000</td>\n",
       "    </tr>\n",
       "    <tr>\n",
       "      <th>7</th>\n",
       "      <td>14 Her b</td>\n",
       "      <td>4.85</td>\n",
       "      <td>1766.41000</td>\n",
       "    </tr>\n",
       "    <tr>\n",
       "      <th>...</th>\n",
       "      <td>...</td>\n",
       "      <td>...</td>\n",
       "      <td>...</td>\n",
       "    </tr>\n",
       "    <tr>\n",
       "      <th>32510</th>\n",
       "      <td>ups And d</td>\n",
       "      <td>3.95</td>\n",
       "      <td>1274.60000</td>\n",
       "    </tr>\n",
       "    <tr>\n",
       "      <th>32511</th>\n",
       "      <td>ups And d</td>\n",
       "      <td>4.10</td>\n",
       "      <td>1282.41000</td>\n",
       "    </tr>\n",
       "    <tr>\n",
       "      <th>32512</th>\n",
       "      <td>ups And d</td>\n",
       "      <td>10.25</td>\n",
       "      <td>1281.50700</td>\n",
       "    </tr>\n",
       "    <tr>\n",
       "      <th>32513</th>\n",
       "      <td>ups Leo b</td>\n",
       "      <td>0.51</td>\n",
       "      <td>385.20000</td>\n",
       "    </tr>\n",
       "    <tr>\n",
       "      <th>32515</th>\n",
       "      <td>xi Aql b</td>\n",
       "      <td>2.80</td>\n",
       "      <td>136.75000</td>\n",
       "    </tr>\n",
       "  </tbody>\n",
       "</table>\n",
       "<p>4172 rows × 3 columns</p>\n",
       "</div>"
      ],
      "text/plain": [
       "      planetname   mass  orbit period\n",
       "0       11 Com b  19.40     326.03000\n",
       "3       11 UMi b  14.74     516.21997\n",
       "4       11 UMi b  10.50     516.22000\n",
       "6       14 And b   4.80     185.84000\n",
       "7       14 Her b   4.85    1766.41000\n",
       "...          ...    ...           ...\n",
       "32510  ups And d   3.95    1274.60000\n",
       "32511  ups And d   4.10    1282.41000\n",
       "32512  ups And d  10.25    1281.50700\n",
       "32513  ups Leo b   0.51     385.20000\n",
       "32515   xi Aql b   2.80     136.75000\n",
       "\n",
       "[4172 rows x 3 columns]"
      ]
     },
     "execution_count": 90,
     "metadata": {},
     "output_type": "execute_result"
    }
   ],
   "source": [
    "df4 = df4.rename(columns={'pl_name':'planetname', 'pl_bmassj':'mass', 'pl_orbper':'orbit period'})\n",
    "df4 = df4.dropna()\n",
    "#df4 = df4.fillna(df4.median(numeric_only=True))\n",
    "df4"
   ]
  },
  {
   "cell_type": "code",
   "execution_count": 91,
   "id": "91efff2d",
   "metadata": {},
   "outputs": [],
   "source": [
    "mass_2 = df4.groupby('planetname')['mass'].mean()\n",
    "orbper_2 = df4.groupby('planetname')['orbit period'].mean()"
   ]
  },
  {
   "cell_type": "markdown",
   "id": "0ad20afa",
   "metadata": {},
   "source": [
    "Length of variables for reporting."
   ]
  },
  {
   "cell_type": "code",
   "execution_count": 92,
   "id": "9cea9238",
   "metadata": {},
   "outputs": [
    {
     "name": "stdout",
     "output_type": "stream",
     "text": [
      "The length of predictor (mass) is:  2044\n"
     ]
    }
   ],
   "source": [
    "print(\"The length of predictor (mass) is: \", len(mass_2.index))"
   ]
  },
  {
   "cell_type": "code",
   "execution_count": 93,
   "id": "6909b492",
   "metadata": {},
   "outputs": [
    {
     "name": "stdout",
     "output_type": "stream",
     "text": [
      "The length of predictor (orbital period) is:  2044\n"
     ]
    }
   ],
   "source": [
    "print(\"The length of predictor (orbital period) is: \", len(orbper_2.index))"
   ]
  },
  {
   "cell_type": "markdown",
   "id": "82b7cc1f",
   "metadata": {},
   "source": [
    "Now some summary statistics for this scenario."
   ]
  },
  {
   "cell_type": "code",
   "execution_count": 94,
   "id": "3de54cfd",
   "metadata": {},
   "outputs": [
    {
     "name": "stdout",
     "output_type": "stream",
     "text": [
      "\n",
      "The median of the orbital period: 12.2538\n",
      "\n",
      "The median of the mass: 0.58\n",
      "\n",
      "The interquartile range of the mass: 1.92\n",
      "\n",
      "The interquartile range of the orbital period: 319.63\n",
      "\n",
      "The mode for the mass: 0.84\n",
      "\n",
      "The mode for the orbital period: 691.90\n",
      "\n",
      "The mean for the mass: 0.06\n",
      "\n",
      "The mean for the orbital period: 205801.12\n"
     ]
    }
   ],
   "source": [
    "mass2_med = statistics.median(list(mass_2))\n",
    "orbper2_med = statistics.median(list(orbper_2))\n",
    "print('\\nThe median of the orbital period: %.4f' % orbper_med)\n",
    "print('\\nThe median of the mass: %.2f' % mass2_med)\n",
    "iqr_mass2 = stats.iqr(mass_2, interpolation = 'midpoint')\n",
    "iqr_orbper2 = stats.iqr(orbper_2, interpolation = 'midpoint')\n",
    "print('\\nThe interquartile range of the mass: %.2f' % iqr_mass2)\n",
    "print('\\nThe interquartile range of the orbital period: %.2f' % iqr_orbper2)\n",
    "mass2_mode = statistics.mode(list(mass_2))\n",
    "print('\\nThe mode for the mass: %.2f' % mass2_mode)\n",
    "orbper2_mode = statistics.mode(list(orbper_2))\n",
    "print('\\nThe mode for the orbital period: %.2f' % orbper2_mode)\n",
    "mass2_avg = statistics.mean(list(mass_2))\n",
    "print('\\nThe mean for the mass: %.2f' % eccen_avg)\n",
    "orbper2_avg = statistics.mean(list(orbper_2))\n",
    "print('\\nThe mean for the orbital period: %.2f' % orbper2_avg)"
   ]
  },
  {
   "cell_type": "code",
   "execution_count": 95,
   "id": "16dd4675",
   "metadata": {},
   "outputs": [
    {
     "data": {
      "text/plain": [
       "array([5.50000e-05, 4.61025e-02, 5.84500e-01, 1.96325e+00, 8.00000e+01])"
      ]
     },
     "execution_count": 95,
     "metadata": {},
     "output_type": "execute_result"
    }
   ],
   "source": [
    "# Min, 1st quantile, median, 3rd quantile, max\n",
    "fivenum(mass_2)"
   ]
  },
  {
   "cell_type": "code",
   "execution_count": 96,
   "id": "703011b4",
   "metadata": {},
   "outputs": [
    {
     "data": {
      "text/plain": [
       "array([9.0706290e-02, 4.1707563e+00, 1.5117000e+01, 3.2380000e+02,\n",
       "       4.0200000e+08])"
      ]
     },
     "execution_count": 96,
     "metadata": {},
     "output_type": "execute_result"
    }
   ],
   "source": [
    "# Min, 1st quantile, median, 3rd quantile, max\n",
    "fivenum(orbper_2)"
   ]
  },
  {
   "cell_type": "code",
   "execution_count": 97,
   "id": "27a5b109",
   "metadata": {},
   "outputs": [
    {
     "data": {
      "image/png": "[encoded data removed]",
      "text/plain": [
       "<Figure size 648x504 with 4 Axes>"
      ]
     },
     "metadata": {},
     "output_type": "display_data"
    }
   ],
   "source": [
    "# Case 3\n",
    "# First, perform log base 10 transform\n",
    "mass2_log = np.log10(mass_2)\n",
    "orbper2_log = np.log10(orbper_2)\n",
    "# Plotting Logic\n",
    "fig3, ax3 = plt.subplots(2, 2,figsize = (9, 7), \n",
    "                       constrained_layout = True)\n",
    "fig3.suptitle('Histograms - Case 3')\n",
    "ax3[0, 0].hist(mass_2, color = 'darkslategray', edgecolor = 'red')\n",
    "#ax3[0, 0].set_title('') #<- use this logic to give each plot its own title.\n",
    "ax3[0, 0].set(xlabel = 'planet mass (Jupiter mass)')\n",
    "ax3[0, 1].hist(mass2_log, color = 'darkslategray', edgecolor = 'red')\n",
    "ax3[0, 1].set(xlabel = 'log10(planet mass)')\n",
    "ax3[1, 0].hist(orbper_2, color = 'salmon', edgecolor = 'yellowgreen')\n",
    "ax3[1, 0].set(xlabel = 'orbital period')\n",
    "ax3[1, 1].hist(orbper2_log, color = 'salmon', edgecolor = 'yellowgreen')\n",
    "ax3[1, 1].set(xlabel = 'log10(orbital period)')\n",
    "\n",
    "for ax in ax3.flat:\n",
    "    ax.set(ylabel = 'Frequency')\n",
    "plt.savefig('histograms_3.png',dpi=600)\n",
    "#fig3.tight_layout()"
   ]
  },
  {
   "cell_type": "code",
   "execution_count": 128,
   "id": "432766f4",
   "metadata": {},
   "outputs": [],
   "source": [
    "y3 = np.array(mass_2).reshape(-1, 1)\n",
    "X3 = np.array(orbper_2).reshape(-1, 1)\n",
    "X3_train, X3_test, y3_train, y3_test = train_test_split(X3, y3, train_size = 0.80, random_state = 25)\n",
    "y3_train = y3_train.reshape(len(y3_train), )\n",
    "y3_test = y3_test.reshape(len(y3_test), )"
   ]
  },
  {
   "cell_type": "markdown",
   "id": "98520614",
   "metadata": {},
   "source": [
    "Establishing baselines for predictions according to the y-variable or response variable."
   ]
  },
  {
   "cell_type": "code",
   "execution_count": 129,
   "id": "d9c3db82",
   "metadata": {},
   "outputs": [],
   "source": [
    "y_baseline_3= np.log10(y3_train).mean()\n",
    "#y_baseline_2= statistics.median(y2_train)\n",
    "y_pred_train_3 = [y_baseline_3]*len(y3_train) # <- Training Baseline\n",
    "y_pred_test_3 = [y_baseline_3]*len(y3_test)"
   ]
  },
  {
   "cell_type": "code",
   "execution_count": 130,
   "id": "551bbd91",
   "metadata": {},
   "outputs": [],
   "source": [
    "# Following is for the Training Dataset.\n",
    "# Error for training data baseline guess.\n",
    "mae_train_3 = mean_absolute_error(y3_train, y_pred_train_3)\n",
    "# Mean squared error for training data baseline guess.\n",
    "mse_train_3 = mean_squared_error(y3_train, y_pred_train_3)\n",
    "rmse_train_3 = sqrt(mse_train_3) # <- will compute the root mean square error\n",
    "# R-squared for training data baseline guess.\n",
    "y3_train_r2 = r2_score(y3_train, y_pred_train_3)"
   ]
  },
  {
   "cell_type": "code",
   "execution_count": 131,
   "id": "3f2b5896",
   "metadata": {},
   "outputs": [],
   "source": [
    "# Error for test data baseline guess.\n",
    "mae_test_3 = mean_absolute_error(y3_test, y_pred_test_3)\n",
    "# Mean squared error for test data baseline guess.\n",
    "mse_test_3 = mean_squared_error(y3_test, y_pred_test_3)\n",
    "# Test Root Mean Square Error\n",
    "rmse_test_3 = sqrt(mse_test_3)\n",
    "# R-squared for test data baseline guess.\n",
    "y3_test_r2 = r2_score(y3_test, y_pred_test_3)"
   ]
  },
  {
   "cell_type": "code",
   "execution_count": 132,
   "id": "e0ed80a4",
   "metadata": {},
   "outputs": [
    {
     "data": {
      "text/html": [
       "<div>\n",
       "<style scoped>\n",
       "    .dataframe tbody tr th:only-of-type {\n",
       "        vertical-align: middle;\n",
       "    }\n",
       "\n",
       "    .dataframe tbody tr th {\n",
       "        vertical-align: top;\n",
       "    }\n",
       "\n",
       "    .dataframe thead th {\n",
       "        text-align: right;\n",
       "    }\n",
       "</style>\n",
       "<table border=\"1\" class=\"dataframe\">\n",
       "  <thead>\n",
       "    <tr style=\"text-align: right;\">\n",
       "      <th></th>\n",
       "      <th>Method</th>\n",
       "      <th>Train MAE</th>\n",
       "      <th>Train MSE</th>\n",
       "      <th>Train RMSE</th>\n",
       "      <th>Train R2</th>\n",
       "      <th>Test MAE</th>\n",
       "      <th>Test MSE</th>\n",
       "      <th>Test RMSE</th>\n",
       "      <th>Test R2</th>\n",
       "    </tr>\n",
       "  </thead>\n",
       "  <tbody>\n",
       "    <tr>\n",
       "      <th>0</th>\n",
       "      <td>Baseline</td>\n",
       "      <td>2.433828</td>\n",
       "      <td>23.182732</td>\n",
       "      <td>4.814845</td>\n",
       "      <td>-0.343209</td>\n",
       "      <td>2.168763</td>\n",
       "      <td>16.8001</td>\n",
       "      <td>4.098793</td>\n",
       "      <td>-0.388832</td>\n",
       "    </tr>\n",
       "  </tbody>\n",
       "</table>\n",
       "</div>"
      ],
      "text/plain": [
       "     Method Train MAE  Train MSE Train RMSE  Train R2  Test MAE Test MSE  \\\n",
       "0  Baseline  2.433828  23.182732   4.814845 -0.343209  2.168763  16.8001   \n",
       "\n",
       "  Test RMSE   Test R2  \n",
       "0  4.098793 -0.388832  "
      ]
     },
     "execution_count": 132,
     "metadata": {},
     "output_type": "execute_result"
    }
   ],
   "source": [
    "baseline_3 = pd.DataFrame(['Baseline', mae_train_3, mse_train_3, rmse_train_3, y3_train_r2, mae_test_3, mse_test_3, rmse_test_3, y3_test_r2]).T\n",
    "baseline_3.columns = metric_col_names\n",
    "baseline_3"
   ]
  },
  {
   "cell_type": "code",
   "execution_count": 133,
   "id": "8af6072b",
   "metadata": {},
   "outputs": [],
   "source": [
    "X3_train_log, X3_test_log = np.log10(X3_train), np.log10(X3_test)\n",
    "y3_train_log = np.log10(y3_train)"
   ]
  },
  {
   "cell_type": "markdown",
   "id": "e43dc3b6",
   "metadata": {},
   "source": [
    "Some logic to determine the shape of the training and test sets of the data."
   ]
  },
  {
   "cell_type": "code",
   "execution_count": 134,
   "id": "270143f0",
   "metadata": {},
   "outputs": [
    {
     "name": "stdout",
     "output_type": "stream",
     "text": [
      "\n",
      "Training log(X3) shape:  (1635, 1)\n",
      "Training Log(y3) shape:  (1635,)\n",
      "Test Log(X3) shape:  (409, 1)\n",
      "Test y3 shape:  (409,)\n"
     ]
    }
   ],
   "source": [
    "print('\\nTraining log(X3) shape: ', X3_train_log.shape)\n",
    "print('Training Log(y3) shape: ', y3_train_log.shape)\n",
    "print('Test Log(X3) shape: ', X3_test_log.shape)\n",
    "print('Test y3 shape: ', y3_test.shape)"
   ]
  },
  {
   "cell_type": "code",
   "execution_count": 135,
   "id": "a69ee821",
   "metadata": {},
   "outputs": [
    {
     "name": "stdout",
     "output_type": "stream",
     "text": [
      "     k  Test Score  Train Score\n",
      "0    1   -0.200677     0.999522\n",
      "1    2    0.063345     0.678895\n",
      "2    3    0.123395     0.575838\n",
      "3    4    0.177577     0.537327\n",
      "4    5    0.207457     0.501711\n",
      "..  ..         ...          ...\n",
      "69  70    0.304612     0.377802\n",
      "70  71    0.304966     0.377162\n",
      "71  72    0.306017     0.377437\n",
      "72  73    0.305889     0.377628\n",
      "73  74    0.306079     0.377228\n",
      "\n",
      "[74 rows x 3 columns]\n",
      "The highest Test R-squared value occurs at : 0.3092\n",
      "Within given range, optimal k is:  32\n"
     ]
    }
   ],
   "source": [
    "# kNN R-squared accuracy\n",
    "knn_r_acc_3 = []\n",
    "for k in range(1, 75, 1):\n",
    "    knn_3 = KNeighborsRegressor(n_neighbors = k)\n",
    "    knn_3.fit(X3_train_log.reshape(-1, 1), y3_train_log.reshape(-1, 1))\n",
    "    test_score_3 = knn_3.score(X3_test_log.reshape(-1, 1), np.log10(y3_test))\n",
    "    train_score_3 = knn_3.score(X3_train_log.reshape(-1, 1), y3_train_log.reshape(-1, 1))\n",
    "    knn_r_acc_3.append((k, test_score_3, train_score_3))\n",
    "outcomes_3 = pd.DataFrame(knn_r_acc_3, columns = ['k', 'Test Score', 'Train Score'])\n",
    "print(outcomes_3)\n",
    "print('The highest Test R-squared value occurs at : %.4f' % outcomes_3.iloc[:,1].max())\n",
    "print('Within given range, optimal k is: ', outcomes_3.loc[outcomes_3['Test Score'] == outcomes_3.iloc[:,1].max(), 'k'].iloc[0])"
   ]
  },
  {
   "cell_type": "markdown",
   "id": "e4ce7ff6",
   "metadata": {},
   "source": [
    "#### Bootstrap Confidence Interval for RMSE values"
   ]
  },
  {
   "cell_type": "code",
   "execution_count": null,
   "id": "10f9447a",
   "metadata": {},
   "outputs": [],
   "source": [
    "start_time_3 = time.time()\n",
    "\n",
    "df4 = pd.concat([orbper2_log,mass2_log], axis=1)\n",
    "metrics3_1 = ci_bootstrap(df4, KNeighborsRegressor(n_neighbors = 32))\n",
    "\n",
    "# Plotting Logic\n",
    "fig3_2, ax3_2 = plt.subplots(1, 3, figsize = (36, 12))\n",
    "#fig1_2.suptitle('Bootstrap Performance Metrics - Case 1')\n",
    "\n",
    "# Confidence Interval\n",
    "confidence_interval3_1 = list(metrics3_1.quantile([0.025, 0.975]))\n",
    "\n",
    "ax3_2[0].hist(metrics3_1, color='#4db32e', edgecolor = \"red\")\n",
    "ax3_2[0].plot(confidence_interval3_1, [190, 190], color='black')\n",
    "for x3 in confidence_interval3_1:\n",
    "    ax3_2[0].plot([x3, x3], [0, 200], color='black')\n",
    "    ax3_2[0].text(x3, 210, f'{x3:.4f}', \n",
    "            horizontalalignment='center', verticalalignment='center')\n",
    "ax3_2[0].text(sum(confidence_interval3_1) / 2, 60, '95% interval',\n",
    "        horizontalalignment='center', verticalalignment='center')\n",
    "\n",
    "mean_knn_model_3 = metrics3_1.mean()\n",
    "ax3_2[0].plot([mean_knn_model_3, mean_knn_model_3], [0, 195], color='black', linestyle='--')\n",
    "ax3_2[0].text(mean_knn_model_3, 225, f'Mean: {mean_knn_model_3:.4f}',\n",
    "        bbox=dict(facecolor='white', edgecolor='white', alpha=0.5),\n",
    "        horizontalalignment='center', verticalalignment='center')\n",
    "ax3_2[0].set_title('kNN Model 3')\n",
    "\n",
    "# Now for the SVR model\n",
    "eps_3 = 8 #<- hyperparameters used throughout the script\n",
    "hyperparam3 = 1000 #<- hyperparameters used throughout the script\n",
    "metrics3_2 = ci_bootstrap(df4, SVR(kernel = 'rbf', C = hyperparam3, epsilon = eps_3))\n",
    "confidence_interval3_2 = list(metrics3_2.quantile([0.025, 0.975]))\n",
    "\n",
    "ax3_2[1].hist(metrics3_2, color='#7961c9', edgecolor = \"white\")\n",
    "ax3_2[1].plot(confidence_interval3_2, [190, 190], color='black')\n",
    "for x3 in confidence_interval3_2:\n",
    "    ax3_2[1].plot([x3, x3], [0, 200], color='black')\n",
    "    ax3_2[1].text(x3, 210, f'{x3:.4f}', \n",
    "            horizontalalignment='center', verticalalignment='center')\n",
    "ax3_2[1].text(sum(confidence_interval3_2) / 2, 60, '95% interval',\n",
    "        horizontalalignment='center', verticalalignment='center')\n",
    "\n",
    "mean_svr_model_3 = metrics3_2.mean()\n",
    "ax3_2[1].plot([mean_svr_model_3, mean_svr_model_3], [0, 195], color='black', linestyle='--')\n",
    "ax3_2[1].text(mean_svr_model_3, 225, f'Mean: {mean_svr_model_3:.4f}',\n",
    "        bbox=dict(facecolor='white', edgecolor='white', alpha=0.5),\n",
    "        horizontalalignment='center', verticalalignment='center')\n",
    "ax3_2[1].set_title('SVR Model 3')\n",
    "\n",
    "# Now for the Random Forest model\n",
    "metrics3_3 = ci_bootstrap(df4, RandomForestRegressor(max_depth=2))\n",
    "confidence_interval3_3 = list(metrics3_3.quantile([0.025, 0.975]))\n",
    "\n",
    "ax3_2[2].hist(metrics3_3, color='#03dffc', edgecolor = \"black\")\n",
    "ax3_2[2].plot(confidence_interval3_3, [190, 190], color='black')\n",
    "for x3 in confidence_interval3_3:\n",
    "    ax3_2[2].plot([x3, x3], [0, 200], color='black')\n",
    "    ax3_2[2].text(x3, 210, f'{x3:.4f}', \n",
    "            horizontalalignment='center', verticalalignment='center')\n",
    "ax3_2[2].text(sum(confidence_interval3_3) / 2, 60, '95% interval',\n",
    "        horizontalalignment='center', verticalalignment='center')\n",
    "\n",
    "mean_rf_model_3 = metrics3_3.mean()\n",
    "ax3_2[2].plot([mean_rf_model_3, mean_rf_model_3], [0, 195], color='black', linestyle='--')\n",
    "ax3_2[2].text(mean_rf_model_3, 225, f'Mean: {mean_rf_model_3:.4f}',\n",
    "      bbox=dict(facecolor='white', edgecolor='white', alpha=0.5),\n",
    "       horizontalalignment='center', verticalalignment='center')\n",
    "ax3_2[2].set_title('RF Model 3')\n",
    "\n",
    "for ax in ax3_2.flat:\n",
    "    ax.set(ylabel = 'Counts')\n",
    "    #ax.set(xlabel = 'RMSE eccentricity (unitless)')\n",
    "\n",
    "plt.savefig('bootstrap_rmse_3.png',dpi=800)\n",
    "execution_time_3 = (time.time() - start_time_3)\n",
    "print('Execution time in minutes: ' + str(execution_time_3/60))"
   ]
  },
  {
   "cell_type": "code",
   "execution_count": null,
   "id": "b88ab56c",
   "metadata": {},
   "outputs": [],
   "source": [
    "fig_bootstrap_3, axs_bootstrap_3  = plt.subplots(1, 3, figsize = (15, 6))\n",
    "\n",
    "sns.histplot(metrics3_1, kde=True, color=\"#4db32e\", ax=axs_bootstrap_3[0])\n",
    "axs_bootstrap_3[0].set_title('kNN Model 3')\n",
    "axs_bootstrap_3[0].set_xlabel('RMSE - mass')\n",
    "sns.histplot(metrics3_2, kde=True, color=\"#7961c9\", ax=axs_bootstrap_3[1])\n",
    "axs_bootstrap_3[1].set_title('SVR Model 3')\n",
    "axs_bootstrap_3[1].set_xlabel('RMSE - mass')\n",
    "sns.histplot(metrics3_3, kde=True, color=\"#03dffc\", ax=axs_bootstrap_3[2])\n",
    "axs_bootstrap_3[2].set_title('RF Model 3')\n",
    "axs_bootstrap_3[2].set_xlabel('RMSE - mass')\n",
    "\n",
    "plt.savefig('bootstrap_case_3.png',dpi=600)\n",
    "plt.show()"
   ]
  },
  {
   "cell_type": "code",
   "execution_count": null,
   "id": "36275c6a",
   "metadata": {},
   "outputs": [],
   "source": [
    "print('The 95% confidence interval for the knn Model 3:\\n', confidence_interval3_1)\n",
    "print('\\nThe 95% confidence interval for the SVR Model 3:\\n', confidence_interval3_2)\n",
    "print('\\nThe 95% confidence interval for the RF Model 3:\\n', confidence_interval3_3)"
   ]
  },
  {
   "cell_type": "code",
   "execution_count": null,
   "id": "531cd363",
   "metadata": {},
   "outputs": [],
   "source": [
    "model_knn_3 = KNeighborsRegressor(n_neighbors = 32)\n",
    "model_knn_3.fit(X3_train_log.reshape(-1, 1), y3_train_log.reshape(-1, 1))\n",
    "y_knn_train_pred_3_log = model_knn_3.predict(X3_train_log.reshape(-1, 1))\n",
    "y_knn_test_pred_3_log = model_knn_3.predict(X3_test_log.reshape(-1, 1))"
   ]
  },
  {
   "cell_type": "code",
   "execution_count": null,
   "id": "9ed0e42c",
   "metadata": {},
   "outputs": [],
   "source": [
    "y_knn_train_pred_3 = pow(10, y_knn_train_pred_3_log)\n",
    "y_knn_test_pred_3 = pow(10, y_knn_test_pred_3_log)"
   ]
  },
  {
   "cell_type": "code",
   "execution_count": null,
   "id": "03ce2501",
   "metadata": {},
   "outputs": [],
   "source": [
    "# First the training metrics.\n",
    "knn3_train_mae = mean_absolute_error(y3_train, y_knn_train_pred_3)\n",
    "knn3_train_mse = mean_squared_error(y3_train, y_knn_train_pred_3)\n",
    "knn3_train_rmse = sqrt(knn3_train_mse) # <- will compute the root mean square error\n",
    "knn3_train_r2 = r2_score(y3_train, y_knn_train_pred_3)\n",
    "# Now, test set metrics.\n",
    "knn3_test_mae = mean_absolute_error(y3_test, y_knn_test_pred_3)\n",
    "knn3_test_mse = mean_squared_error(y3_test, y_knn_test_pred_3)\n",
    "knn3_test_rmse = sqrt(knn3_test_mse)\n",
    "knn3_test_r2 = r2_score(y3_test, y_knn_test_pred_3)\n",
    "# Consolidate the results.\n",
    "knn_results_3 = pd.DataFrame(['k Nearest Neighbor', knn3_train_mae, knn3_train_mse, knn3_train_rmse, knn3_train_r2, knn3_test_mae, knn3_test_mse, knn3_test_rmse, knn3_test_r2]).transpose()\n",
    "knn_results_3.columns = metric_col_names\n",
    "knn_results_3"
   ]
  },
  {
   "cell_type": "markdown",
   "id": "0815b2c7",
   "metadata": {},
   "source": [
    "Now to create the SVR model 3."
   ]
  },
  {
   "cell_type": "code",
   "execution_count": null,
   "id": "a859287c",
   "metadata": {},
   "outputs": [],
   "source": [
    "eps_3 = 6\n",
    "svr_3 = SVR(kernel = 'rbf', C = 100, epsilon = eps_3)\n",
    "svr_3.fit(X3_train_log, y3_train_log)\n",
    "\n",
    "y_svr_train_pred_3_log = svr_3.predict(X3_train_log)\n",
    "y_svr_test_pred_3_log = svr_3.predict(X3_test_log)\n",
    "y_svr_train_pred_3 = pow(10, y_svr_train_pred_3_log)\n",
    "y_svr_test_pred_3 = pow(10, y_svr_test_pred_3_log)"
   ]
  },
  {
   "cell_type": "code",
   "execution_count": null,
   "id": "caa27406",
   "metadata": {},
   "outputs": [],
   "source": [
    "# Model performance - training set\n",
    "svr3_train_mae = mean_absolute_error(y3_train, y_svr_train_pred_3)\n",
    "svr3_train_mse = mean_squared_error(y3_train, y_svr_train_pred_3)\n",
    "svr3_train_rmse = sqrt(svr3_train_mse)\n",
    "svr3_train_r2 = r2_score(y3_train, y_svr_train_pred_3)\n",
    "# Model performance - test results\n",
    "svr3_test_mae = mean_absolute_error(y3_test, y_svr_test_pred_3)\n",
    "svr3_test_mse = mean_squared_error(y3_test, y_svr_test_pred_3)\n",
    "svr3_test_rmse = sqrt(svr3_test_mse)\n",
    "svr3_test_r2 = r2_score(X3_test, y_svr_test_pred_3)\n",
    "# Consolidate the results.\n",
    "svr_results_3 = pd.DataFrame(['SVR', svr3_train_mae, svr3_train_mse, svr3_train_rmse, svr3_train_r2, svr3_test_mae, svr3_test_mse, svr3_test_rmse, svr3_test_r2]).T\n",
    "svr_results_3.columns = metric_col_names\n",
    "svr_results_3"
   ]
  },
  {
   "cell_type": "code",
   "execution_count": null,
   "id": "ebeaf99f",
   "metadata": {},
   "outputs": [],
   "source": [
    "rf_3 = RandomForestRegressor(max_depth = 2)\n",
    "rf_3.fit(X3_train_log, y3_train_log)\n",
    "y_rf_train_pred_3_log = rf_3.predict(X3_train_log)\n",
    "y_rf_test_pred_3_log = rf_3.predict(X3_test_log)\n",
    "rf_3"
   ]
  },
  {
   "cell_type": "code",
   "execution_count": null,
   "id": "8dc9ed19",
   "metadata": {},
   "outputs": [],
   "source": [
    "y_rf_train_pred_3 = pow(10, y_rf_train_pred_3_log)\n",
    "y_rf_test_pred_3 = pow(10, y_rf_test_pred_3_log)\n",
    "# Model performance metrics for random forest model.\n",
    "rf3_train_mae = mean_absolute_error(y3_train, y_rf_train_pred_3)\n",
    "rf3_train_mse = mean_squared_error(y3_train, y_rf_train_pred_3)\n",
    "rf3_train_rmse = sqrt(rf3_train_mse)\n",
    "rf3_train_r2 = r2_score(y3_train, y_rf_train_pred_3)\n",
    "# The following are the test metrics.\n",
    "rf3_test_mae = mean_absolute_error(y3_test, y_rf_test_pred_3)\n",
    "rf3_test_mse = mean_squared_error(y3_test, y_rf_test_pred_3)\n",
    "rf3_test_rmse = sqrt(rf3_test_mse)\n",
    "rf3_test_r2 = r2_score(y3_test, y_rf_test_pred_3)"
   ]
  },
  {
   "cell_type": "code",
   "execution_count": null,
   "id": "3b4f53ff",
   "metadata": {},
   "outputs": [],
   "source": [
    "rf3_results = pd.DataFrame(['Random Forest', rf3_train_mae, rf3_train_mse, rf3_train_rmse, rf3_train_r2, rf3_test_mae, rf3_test_mse, rf3_test_rmse, rf3_test_r2]).transpose()\n",
    "rf3_results.columns = metric_col_names\n",
    "rf3_results"
   ]
  },
  {
   "cell_type": "code",
   "execution_count": null,
   "id": "27788664",
   "metadata": {
    "scrolled": true
   },
   "outputs": [],
   "source": [
    "results_3 = pd.concat([baseline_3, knn_results_3, svr_results_3, rf3_results], axis = 0, ignore_index = True)\n",
    "results_3 "
   ]
  },
  {
   "cell_type": "markdown",
   "id": "e3d0949c",
   "metadata": {},
   "source": [
    "### Bootstrap Confidence Intervals"
   ]
  },
  {
   "cell_type": "markdown",
   "id": "2c3530bc",
   "metadata": {},
   "source": [
    "#### Hypothesis Testing- Case 3"
   ]
  },
  {
   "cell_type": "markdown",
   "id": "538c728f",
   "metadata": {},
   "source": [
    "#### Correlation Tests - Case 3"
   ]
  },
  {
   "cell_type": "code",
   "execution_count": null,
   "id": "ec4a1864",
   "metadata": {},
   "outputs": [],
   "source": [
    "# Spearman's Rank Correlation Test\n",
    "stat_7, p_7 = spearmanr(np.log10(X3), np.log10(y3))\n",
    "print('stat = %.3f, p = %.3f' % (stat_7, p_7))\n",
    "if p_7 > 0.05:\n",
    "    print('Probably Independent')\n",
    "else :\n",
    "    print('Probably Dependent')"
   ]
  },
  {
   "cell_type": "markdown",
   "id": "3aad2cd5",
   "metadata": {},
   "source": [
    "#### Nonparametric Statistical Hypothesis Tests - Case 3"
   ]
  },
  {
   "cell_type": "code",
   "execution_count": null,
   "id": "4638b04d",
   "metadata": {},
   "outputs": [],
   "source": [
    "stat_8, p_8 = wilcoxon(np.log10(mass_2), np.log10(orbper_2))\n",
    "print('stat = %.3f, p = %.3f' % (stat_8, p_8))\n",
    "if p_8 > 0.05:\n",
    "    print('Probably Independent')\n",
    "else :\n",
    "    print('Probably Dependent')"
   ]
  },
  {
   "cell_type": "code",
   "execution_count": null,
   "id": "8a406da0",
   "metadata": {},
   "outputs": [],
   "source": [
    "true_values_3 = y3_test\n",
    "predicted_values3_1 = y_knn_test_pred_3\n",
    "predicted_values3_2 = y_svr_test_pred_3\n",
    "predicted_values3_3 = y_rf_test_pred_3\n",
    "plt.figure(figsize = (12, 12))\n",
    "# kNN model\n",
    "knn_3 = plt.scatter(x = true_values_3, y = predicted_values3_1, c = '#68d631')\n",
    "# SVR model\n",
    "svr_3 = plt.scatter(x = true_values_3, y = predicted_values3_2, c = '#2a7505', marker = 's')\n",
    "# Random Forest model\n",
    "rf_3 = plt.scatter(x = true_values_3, y = predicted_values3_3, c = '#addb95', marker = 'x')\n",
    "p5 = max(max(predicted_values3_1), max(predicted_values3_2), max(predicted_values3_3), max(true_values_3))\n",
    "p6 = min(min(predicted_values3_1), min(predicted_values3_2), min(predicted_values3_3), min(true_values_3))\n",
    "\n",
    "plt.plot([p5, p6], [p5, p6], 'b-')\n",
    "plt.title('Prediction and Actual Values - Case III')\n",
    "plt.xlabel('Actual Values')\n",
    "plt.ylabel('Predicted Values')\n",
    "plt.legend([knn_3, svr_3, rf_3], ['kNN', 'SVR', 'RF'], loc = 'upper left')\n",
    "plt.savefig('pred_vs_actual_3.png',dpi=600)\n",
    "plt.show()"
   ]
  },
  {
   "cell_type": "code",
   "execution_count": null,
   "id": "31c48b9b",
   "metadata": {},
   "outputs": [],
   "source": [
    "# Will invoke for loop to calculate residulas for the three different models.\n",
    "residuals3_1 = list()\n",
    "for item13, item14 in zip(true_values_3, predicted_values3_1):\n",
    "    residuals3_1.append(item13 - item14)\n",
    "residuals3_2 = list()\n",
    "for item15, item16 in zip(true_values_3, predicted_values3_2):\n",
    "    residuals3_2.append(item15 - item16)\n",
    "residuals3_3 = list()\n",
    "for item17, item18 in zip(true_values_3, predicted_values3_3):\n",
    "    residuals3_3.append(item17 - item18)\n",
    "\n",
    "plt.figure(figsize = (12, 12))\n",
    "# kNN model\n",
    "knn_resid_3 = plt.scatter(x = predicted_values3_1, y = residuals3_1, c = '#cd30f0')\n",
    "# SVR model\n",
    "svr_resid_3 = plt.scatter(x = predicted_values3_2, y = residuals3_2, c = '#b391ba', marker = 's')\n",
    "# Random Forest model\n",
    "rf_resid_3 = plt.scatter(x = predicted_values3_3, y = residuals3_3, c = '#e2c8e8', marker = 'x')\n",
    "\n",
    "plt.title('Residuals versus Fitted values - Case III')\n",
    "plt.xlabel('Fitted Values') # <- Predicted Values\n",
    "plt.ylabel('Residuals')\n",
    "plt.legend([knn_resid_3, svr_resid_3, rf_resid_3], ['kNN', 'SVR', 'RF'], loc = 'upper right')\n",
    "plt.axhline(y = 0.0, color = '#034b8a', linestyle = '--')\n",
    "plt.savefig('resid_3.png',dpi=600)\n",
    "plt.show()"
   ]
  },
  {
   "cell_type": "code",
   "execution_count": null,
   "id": "4fef15e1",
   "metadata": {},
   "outputs": [],
   "source": [
    "execution_time_0 = (time.time() - start_time_0)\n",
    "print('Execution time in minutes: ' + str(execution_time_0/60))"
   ]
  },
  {
   "cell_type": "code",
   "execution_count": null,
   "id": "de4cdd63",
   "metadata": {},
   "outputs": [],
   "source": [
    "# End of exoplanet data notebook."
   ]
  }
 ],
 "metadata": {
  "kernelspec": {
   "display_name": "Python 3 (ipykernel)",
   "language": "python",
   "name": "python3"
  },
  "language_info": {
   "codemirror_mode": {
    "name": "ipython",
    "version": 3
   },
   "file_extension": ".py",
   "mimetype": "text/x-python",
   "name": "python",
   "nbconvert_exporter": "python",
   "pygments_lexer": "ipython3",
   "version": "3.9.5"
  }
 },
 "nbformat": 4,
 "nbformat_minor": 5
}
