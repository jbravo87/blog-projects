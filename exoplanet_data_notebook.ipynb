{
 "cells": [
  {
   "cell_type": "markdown",
   "id": "6d64e564",
   "metadata": {},
   "source": [
    "# Planetary Data Analysis Notebook"
   ]
  },
  {
   "cell_type": "markdown",
   "id": "5c8adbfc",
   "metadata": {},
   "source": [
    "For the first part of this script, I will solely focus on the kNN supervised learning technique applied to the data pertaining to exoplanets from NASA."
   ]
  },
  {
   "cell_type": "code",
   "execution_count": 1,
   "id": "a3520729",
   "metadata": {},
   "outputs": [],
   "source": [
    "# Import necessary libraries\n",
    "from random import seed\n",
    "from random import randrange\n",
    "import pandas as pd\n",
    "import matplotlib.pyplot as plt\n",
    "import numpy as np\n",
    "import statistics\n",
    "import seaborn as sns\n",
    "from sklearn.preprocessing import RobustScaler\n",
    "from sklearn.neighbors import KNeighborsRegressor\n",
    "from sklearn.ensemble import RandomForestRegressor\n",
    "from  sklearn.metrics import mean_squared_error, r2_score\n",
    "from scipy import stats\n",
    "from math import sqrt\n",
    "#import plotly.express as px"
   ]
  },
  {
   "cell_type": "code",
   "execution_count": 2,
   "id": "faaf1b66",
   "metadata": {
    "scrolled": true
   },
   "outputs": [],
   "source": [
    "# Assign path of data to a variable.\n",
    "# Initiate first data frame with raw data.\n",
    "seed(11)\n",
    "path = 'https://raw.githubusercontent.com/jbravo87/blog-projects/main/data/PS_2022.05.10_21.48.38.csv'\n",
    "raw_data = pd.read_csv(path, skiprows = 12)"
   ]
  },
  {
   "cell_type": "markdown",
   "id": "5a5ba78c",
   "metadata": {},
   "source": [
    "Need to remove the first twelve rows. These rows contain copious notes/remarks. Want to see the head and tail of the data as well as the column names."
   ]
  },
  {
   "cell_type": "code",
   "execution_count": 3,
   "id": "f4490111",
   "metadata": {},
   "outputs": [
    {
     "data": {
      "text/html": [
       "<div>\n",
       "<style scoped>\n",
       "    .dataframe tbody tr th:only-of-type {\n",
       "        vertical-align: middle;\n",
       "    }\n",
       "\n",
       "    .dataframe tbody tr th {\n",
       "        vertical-align: top;\n",
       "    }\n",
       "\n",
       "    .dataframe thead th {\n",
       "        text-align: right;\n",
       "    }\n",
       "</style>\n",
       "<table border=\"1\" class=\"dataframe\">\n",
       "  <thead>\n",
       "    <tr style=\"text-align: right;\">\n",
       "      <th></th>\n",
       "      <th>pl_name</th>\n",
       "      <th>hostname</th>\n",
       "      <th>pl_orbper</th>\n",
       "      <th>pl_bmassj</th>\n",
       "      <th>pl_orbeccen</th>\n",
       "      <th>pl_eqt</th>\n",
       "    </tr>\n",
       "  </thead>\n",
       "  <tbody>\n",
       "    <tr>\n",
       "      <th>0</th>\n",
       "      <td>11 Com b</td>\n",
       "      <td>11 Com</td>\n",
       "      <td>326.03000</td>\n",
       "      <td>19.40</td>\n",
       "      <td>0.231</td>\n",
       "      <td>NaN</td>\n",
       "    </tr>\n",
       "    <tr>\n",
       "      <th>1</th>\n",
       "      <td>11 Com b</td>\n",
       "      <td>11 Com</td>\n",
       "      <td>NaN</td>\n",
       "      <td>17.10</td>\n",
       "      <td>NaN</td>\n",
       "      <td>NaN</td>\n",
       "    </tr>\n",
       "    <tr>\n",
       "      <th>2</th>\n",
       "      <td>11 UMi b</td>\n",
       "      <td>11 UMi</td>\n",
       "      <td>NaN</td>\n",
       "      <td>10.80</td>\n",
       "      <td>NaN</td>\n",
       "      <td>NaN</td>\n",
       "    </tr>\n",
       "    <tr>\n",
       "      <th>3</th>\n",
       "      <td>11 UMi b</td>\n",
       "      <td>11 UMi</td>\n",
       "      <td>516.21997</td>\n",
       "      <td>14.74</td>\n",
       "      <td>0.080</td>\n",
       "      <td>NaN</td>\n",
       "    </tr>\n",
       "    <tr>\n",
       "      <th>4</th>\n",
       "      <td>11 UMi b</td>\n",
       "      <td>11 UMi</td>\n",
       "      <td>516.22000</td>\n",
       "      <td>10.50</td>\n",
       "      <td>0.080</td>\n",
       "      <td>NaN</td>\n",
       "    </tr>\n",
       "    <tr>\n",
       "      <th>...</th>\n",
       "      <td>...</td>\n",
       "      <td>...</td>\n",
       "      <td>...</td>\n",
       "      <td>...</td>\n",
       "      <td>...</td>\n",
       "      <td>...</td>\n",
       "    </tr>\n",
       "    <tr>\n",
       "      <th>32511</th>\n",
       "      <td>ups And d</td>\n",
       "      <td>ups And</td>\n",
       "      <td>1282.41000</td>\n",
       "      <td>4.10</td>\n",
       "      <td>0.294</td>\n",
       "      <td>NaN</td>\n",
       "    </tr>\n",
       "    <tr>\n",
       "      <th>32512</th>\n",
       "      <td>ups And d</td>\n",
       "      <td>ups And</td>\n",
       "      <td>1281.50700</td>\n",
       "      <td>10.25</td>\n",
       "      <td>0.316</td>\n",
       "      <td>NaN</td>\n",
       "    </tr>\n",
       "    <tr>\n",
       "      <th>32513</th>\n",
       "      <td>ups Leo b</td>\n",
       "      <td>ups Leo</td>\n",
       "      <td>385.20000</td>\n",
       "      <td>0.51</td>\n",
       "      <td>0.320</td>\n",
       "      <td>NaN</td>\n",
       "    </tr>\n",
       "    <tr>\n",
       "      <th>32514</th>\n",
       "      <td>xi Aql b</td>\n",
       "      <td>xi Aql</td>\n",
       "      <td>NaN</td>\n",
       "      <td>2.02</td>\n",
       "      <td>NaN</td>\n",
       "      <td>NaN</td>\n",
       "    </tr>\n",
       "    <tr>\n",
       "      <th>32515</th>\n",
       "      <td>xi Aql b</td>\n",
       "      <td>xi Aql</td>\n",
       "      <td>136.75000</td>\n",
       "      <td>2.80</td>\n",
       "      <td>0.000</td>\n",
       "      <td>NaN</td>\n",
       "    </tr>\n",
       "  </tbody>\n",
       "</table>\n",
       "<p>32516 rows × 6 columns</p>\n",
       "</div>"
      ],
      "text/plain": [
       "         pl_name hostname   pl_orbper  pl_bmassj  pl_orbeccen  pl_eqt\n",
       "0       11 Com b   11 Com   326.03000      19.40        0.231     NaN\n",
       "1       11 Com b   11 Com         NaN      17.10          NaN     NaN\n",
       "2       11 UMi b   11 UMi         NaN      10.80          NaN     NaN\n",
       "3       11 UMi b   11 UMi   516.21997      14.74        0.080     NaN\n",
       "4       11 UMi b   11 UMi   516.22000      10.50        0.080     NaN\n",
       "...          ...      ...         ...        ...          ...     ...\n",
       "32511  ups And d  ups And  1282.41000       4.10        0.294     NaN\n",
       "32512  ups And d  ups And  1281.50700      10.25        0.316     NaN\n",
       "32513  ups Leo b  ups Leo   385.20000       0.51        0.320     NaN\n",
       "32514   xi Aql b   xi Aql         NaN       2.02          NaN     NaN\n",
       "32515   xi Aql b   xi Aql   136.75000       2.80        0.000     NaN\n",
       "\n",
       "[32516 rows x 6 columns]"
      ]
     },
     "execution_count": 3,
     "metadata": {},
     "output_type": "execute_result"
    }
   ],
   "source": [
    "raw_data"
   ]
  },
  {
   "cell_type": "code",
   "execution_count": 4,
   "id": "2d8005c6",
   "metadata": {},
   "outputs": [
    {
     "data": {
      "text/plain": [
       "Index(['pl_name', 'hostname', 'pl_orbper', 'pl_bmassj', 'pl_orbeccen',\n",
       "       'pl_eqt'],\n",
       "      dtype='object')"
      ]
     },
     "execution_count": 4,
     "metadata": {},
     "output_type": "execute_result"
    }
   ],
   "source": [
    "raw_data.columns"
   ]
  },
  {
   "cell_type": "markdown",
   "id": "da81a2b2",
   "metadata": {},
   "source": [
    "Now want to create first data frame with columns of interest. In this first case/scenario want to study planet eccentricity (dependent/response variable) as a function of orbital period of planet (independent/predictor variable)."
   ]
  },
  {
   "cell_type": "code",
   "execution_count": 5,
   "id": "3e548064",
   "metadata": {},
   "outputs": [
    {
     "data": {
      "text/html": [
       "<div>\n",
       "<style scoped>\n",
       "    .dataframe tbody tr th:only-of-type {\n",
       "        vertical-align: middle;\n",
       "    }\n",
       "\n",
       "    .dataframe tbody tr th {\n",
       "        vertical-align: top;\n",
       "    }\n",
       "\n",
       "    .dataframe thead th {\n",
       "        text-align: right;\n",
       "    }\n",
       "</style>\n",
       "<table border=\"1\" class=\"dataframe\">\n",
       "  <thead>\n",
       "    <tr style=\"text-align: right;\">\n",
       "      <th></th>\n",
       "      <th>pl_name</th>\n",
       "      <th>pl_orbper</th>\n",
       "      <th>pl_orbeccen</th>\n",
       "    </tr>\n",
       "  </thead>\n",
       "  <tbody>\n",
       "    <tr>\n",
       "      <th>0</th>\n",
       "      <td>11 Com b</td>\n",
       "      <td>326.03000</td>\n",
       "      <td>0.231</td>\n",
       "    </tr>\n",
       "    <tr>\n",
       "      <th>1</th>\n",
       "      <td>11 Com b</td>\n",
       "      <td>NaN</td>\n",
       "      <td>NaN</td>\n",
       "    </tr>\n",
       "    <tr>\n",
       "      <th>2</th>\n",
       "      <td>11 UMi b</td>\n",
       "      <td>NaN</td>\n",
       "      <td>NaN</td>\n",
       "    </tr>\n",
       "    <tr>\n",
       "      <th>3</th>\n",
       "      <td>11 UMi b</td>\n",
       "      <td>516.21997</td>\n",
       "      <td>0.080</td>\n",
       "    </tr>\n",
       "    <tr>\n",
       "      <th>4</th>\n",
       "      <td>11 UMi b</td>\n",
       "      <td>516.22000</td>\n",
       "      <td>0.080</td>\n",
       "    </tr>\n",
       "    <tr>\n",
       "      <th>...</th>\n",
       "      <td>...</td>\n",
       "      <td>...</td>\n",
       "      <td>...</td>\n",
       "    </tr>\n",
       "    <tr>\n",
       "      <th>32511</th>\n",
       "      <td>ups And d</td>\n",
       "      <td>1282.41000</td>\n",
       "      <td>0.294</td>\n",
       "    </tr>\n",
       "    <tr>\n",
       "      <th>32512</th>\n",
       "      <td>ups And d</td>\n",
       "      <td>1281.50700</td>\n",
       "      <td>0.316</td>\n",
       "    </tr>\n",
       "    <tr>\n",
       "      <th>32513</th>\n",
       "      <td>ups Leo b</td>\n",
       "      <td>385.20000</td>\n",
       "      <td>0.320</td>\n",
       "    </tr>\n",
       "    <tr>\n",
       "      <th>32514</th>\n",
       "      <td>xi Aql b</td>\n",
       "      <td>NaN</td>\n",
       "      <td>NaN</td>\n",
       "    </tr>\n",
       "    <tr>\n",
       "      <th>32515</th>\n",
       "      <td>xi Aql b</td>\n",
       "      <td>136.75000</td>\n",
       "      <td>0.000</td>\n",
       "    </tr>\n",
       "  </tbody>\n",
       "</table>\n",
       "<p>32516 rows × 3 columns</p>\n",
       "</div>"
      ],
      "text/plain": [
       "         pl_name   pl_orbper  pl_orbeccen\n",
       "0       11 Com b   326.03000        0.231\n",
       "1       11 Com b         NaN          NaN\n",
       "2       11 UMi b         NaN          NaN\n",
       "3       11 UMi b   516.21997        0.080\n",
       "4       11 UMi b   516.22000        0.080\n",
       "...          ...         ...          ...\n",
       "32511  ups And d  1282.41000        0.294\n",
       "32512  ups And d  1281.50700        0.316\n",
       "32513  ups Leo b   385.20000        0.320\n",
       "32514   xi Aql b         NaN          NaN\n",
       "32515   xi Aql b   136.75000        0.000\n",
       "\n",
       "[32516 rows x 3 columns]"
      ]
     },
     "execution_count": 5,
     "metadata": {},
     "output_type": "execute_result"
    }
   ],
   "source": [
    "df1 = raw_data.loc[:, ['pl_name','pl_orbper','pl_orbeccen']]\n",
    "#df1.reset_index(drop=True, inplace=True) # <- Perhaps use this logic in a couple of lines.\n",
    "df1"
   ]
  },
  {
   "cell_type": "markdown",
   "id": "9db533a9",
   "metadata": {},
   "source": [
    "Will rename the columns of interest for ease, i.e. make analysis clearer, and remove unnecessary rows by removing all the NA values from the original data frame."
   ]
  },
  {
   "cell_type": "code",
   "execution_count": 6,
   "id": "d84e1334",
   "metadata": {},
   "outputs": [
    {
     "data": {
      "text/html": [
       "<div>\n",
       "<style scoped>\n",
       "    .dataframe tbody tr th:only-of-type {\n",
       "        vertical-align: middle;\n",
       "    }\n",
       "\n",
       "    .dataframe tbody tr th {\n",
       "        vertical-align: top;\n",
       "    }\n",
       "\n",
       "    .dataframe thead th {\n",
       "        text-align: right;\n",
       "    }\n",
       "</style>\n",
       "<table border=\"1\" class=\"dataframe\">\n",
       "  <thead>\n",
       "    <tr style=\"text-align: right;\">\n",
       "      <th></th>\n",
       "      <th>planetname</th>\n",
       "      <th>orbitperiod</th>\n",
       "      <th>eccentricity</th>\n",
       "    </tr>\n",
       "  </thead>\n",
       "  <tbody>\n",
       "    <tr>\n",
       "      <th>0</th>\n",
       "      <td>11 Com b</td>\n",
       "      <td>326.03000</td>\n",
       "      <td>0.2310</td>\n",
       "    </tr>\n",
       "    <tr>\n",
       "      <th>3</th>\n",
       "      <td>11 UMi b</td>\n",
       "      <td>516.21997</td>\n",
       "      <td>0.0800</td>\n",
       "    </tr>\n",
       "    <tr>\n",
       "      <th>4</th>\n",
       "      <td>11 UMi b</td>\n",
       "      <td>516.22000</td>\n",
       "      <td>0.0800</td>\n",
       "    </tr>\n",
       "    <tr>\n",
       "      <th>6</th>\n",
       "      <td>14 And b</td>\n",
       "      <td>185.84000</td>\n",
       "      <td>0.0000</td>\n",
       "    </tr>\n",
       "    <tr>\n",
       "      <th>7</th>\n",
       "      <td>14 Her b</td>\n",
       "      <td>1766.41000</td>\n",
       "      <td>0.3674</td>\n",
       "    </tr>\n",
       "    <tr>\n",
       "      <th>...</th>\n",
       "      <td>...</td>\n",
       "      <td>...</td>\n",
       "      <td>...</td>\n",
       "    </tr>\n",
       "    <tr>\n",
       "      <th>32510</th>\n",
       "      <td>ups And d</td>\n",
       "      <td>1274.60000</td>\n",
       "      <td>0.2420</td>\n",
       "    </tr>\n",
       "    <tr>\n",
       "      <th>32511</th>\n",
       "      <td>ups And d</td>\n",
       "      <td>1282.41000</td>\n",
       "      <td>0.2940</td>\n",
       "    </tr>\n",
       "    <tr>\n",
       "      <th>32512</th>\n",
       "      <td>ups And d</td>\n",
       "      <td>1281.50700</td>\n",
       "      <td>0.3160</td>\n",
       "    </tr>\n",
       "    <tr>\n",
       "      <th>32513</th>\n",
       "      <td>ups Leo b</td>\n",
       "      <td>385.20000</td>\n",
       "      <td>0.3200</td>\n",
       "    </tr>\n",
       "    <tr>\n",
       "      <th>32515</th>\n",
       "      <td>xi Aql b</td>\n",
       "      <td>136.75000</td>\n",
       "      <td>0.0000</td>\n",
       "    </tr>\n",
       "  </tbody>\n",
       "</table>\n",
       "<p>16542 rows × 3 columns</p>\n",
       "</div>"
      ],
      "text/plain": [
       "      planetname  orbitperiod  eccentricity\n",
       "0       11 Com b    326.03000        0.2310\n",
       "3       11 UMi b    516.21997        0.0800\n",
       "4       11 UMi b    516.22000        0.0800\n",
       "6       14 And b    185.84000        0.0000\n",
       "7       14 Her b   1766.41000        0.3674\n",
       "...          ...          ...           ...\n",
       "32510  ups And d   1274.60000        0.2420\n",
       "32511  ups And d   1282.41000        0.2940\n",
       "32512  ups And d   1281.50700        0.3160\n",
       "32513  ups Leo b    385.20000        0.3200\n",
       "32515   xi Aql b    136.75000        0.0000\n",
       "\n",
       "[16542 rows x 3 columns]"
      ]
     },
     "execution_count": 6,
     "metadata": {},
     "output_type": "execute_result"
    }
   ],
   "source": [
    "df1 = df1.rename(columns={'pl_name':'planetname', 'pl_orbper':'orbitperiod', 'pl_orbeccen':'eccentricity'})\n",
    "df1 = df1.dropna()\n",
    "df1"
   ]
  },
  {
   "cell_type": "markdown",
   "id": "b47f86f4",
   "metadata": {},
   "source": [
    "The following logic is to determine the data types of the column entries in the latest data frame. Again, this is the data type (dtype) for individual entries within the data frame."
   ]
  },
  {
   "cell_type": "code",
   "execution_count": 7,
   "id": "79785911",
   "metadata": {},
   "outputs": [
    {
     "name": "stdout",
     "output_type": "stream",
     "text": [
      "<class 'numpy.float64'>\n",
      "<class 'numpy.float64'>\n"
     ]
    }
   ],
   "source": [
    "print(type(df1.iloc[0][1]))\n",
    "print(type(df1.iloc[0][2]))"
   ]
  },
  {
   "cell_type": "code",
   "execution_count": 8,
   "id": "7a7b29c5",
   "metadata": {},
   "outputs": [
    {
     "data": {
      "text/plain": [
       "pandas.core.frame.DataFrame"
      ]
     },
     "execution_count": 8,
     "metadata": {},
     "output_type": "execute_result"
    }
   ],
   "source": [
    "type(df1)"
   ]
  },
  {
   "cell_type": "code",
   "execution_count": 9,
   "id": "c1a12823",
   "metadata": {},
   "outputs": [
    {
     "name": "stdout",
     "output_type": "stream",
     "text": [
      "The data type of the eccentricity column is: float64\n"
     ]
    }
   ],
   "source": [
    "print(\"The data type of the eccentricity column is:\", df1.dtypes['eccentricity'])"
   ]
  },
  {
   "cell_type": "markdown",
   "id": "865c46da",
   "metadata": {},
   "source": [
    "Notice df1 is indeed a data frame, and the entries within are numpy float number type.\n",
    "\n",
    "Want to limit each scenario to two dataframes. Once cleaned, need another to take arithmetic mean of multiple entries. For example, Dataframe 2 will take the averages of multiple planet entries. Following lines will take arithmetic mean of the two columns of interest and concate the two columns into the third dataframe.\n",
    "\n",
    "First will create intermediate variables to store the resulting averages."
   ]
  },
  {
   "cell_type": "code",
   "execution_count": 10,
   "id": "46cb57ad",
   "metadata": {},
   "outputs": [],
   "source": [
    "#x4 = df2.groupby('planetname')['eccentricity'].mean()\n",
    "eccen = df1.groupby('planetname')['eccentricity'].mean()\n",
    "#x5 = df2.groupby('planetname')['orbitperiod'].mean()\n",
    "orbper = df1.groupby('planetname')['orbitperiod'].mean()"
   ]
  },
  {
   "cell_type": "code",
   "execution_count": 11,
   "id": "4f1f730d",
   "metadata": {},
   "outputs": [
    {
     "name": "stdout",
     "output_type": "stream",
     "text": [
      "planetname\n",
      "11 Com b      0.231000\n",
      "11 UMi b      0.080000\n",
      "14 And b      0.000000\n",
      "14 Her b      0.362233\n",
      "16 Cyg B b    0.676033\n",
      "                ...   \n",
      "ups And b     0.030200\n",
      "ups And c     0.238933\n",
      "ups And d     0.281117\n",
      "ups Leo b     0.320000\n",
      "xi Aql b      0.000000\n",
      "Name: eccentricity, Length: 4371, dtype: float64\n",
      "planetname\n",
      "11 Com b       326.030000\n",
      "11 UMi b       516.219985\n",
      "14 And b       185.840000\n",
      "14 Her b      1766.601670\n",
      "16 Cyg B b     799.375000\n",
      "                 ...     \n",
      "ups And b        4.616229\n",
      "ups And c      240.728533\n",
      "ups And d     1285.346167\n",
      "ups Leo b      385.200000\n",
      "xi Aql b       136.750000\n",
      "Name: orbitperiod, Length: 4371, dtype: float64\n"
     ]
    }
   ],
   "source": [
    "print(eccen)\n",
    "print(orbper)"
   ]
  },
  {
   "cell_type": "code",
   "execution_count": 12,
   "id": "d2f121f8",
   "metadata": {},
   "outputs": [
    {
     "data": {
      "text/plain": [
       "pandas.core.series.Series"
      ]
     },
     "execution_count": 12,
     "metadata": {},
     "output_type": "execute_result"
    }
   ],
   "source": [
    "type(eccen)"
   ]
  },
  {
   "cell_type": "code",
   "execution_count": 13,
   "id": "ce55eefb",
   "metadata": {},
   "outputs": [
    {
     "data": {
      "text/plain": [
       "pandas.core.series.Series"
      ]
     },
     "execution_count": 13,
     "metadata": {},
     "output_type": "execute_result"
    }
   ],
   "source": [
    "type(orbper)"
   ]
  },
  {
   "cell_type": "markdown",
   "id": "2a32b54d",
   "metadata": {},
   "source": [
    "In this part want to explicitly declare the median and IQR of the two columns which are the variables. But the summary statistics part of the analysis can be done with variables declared earlier."
   ]
  },
  {
   "cell_type": "code",
   "execution_count": 14,
   "id": "df76bf51",
   "metadata": {},
   "outputs": [
    {
     "name": "stdout",
     "output_type": "stream",
     "text": [
      "\n",
      "The median of the orbital period: 12.2538\n",
      "\n",
      "The median of the eccentricity: 0.00\n",
      "\n",
      "The interquartile range of the eccentricity: 0.07\n",
      "\n",
      "The interquartile range of the orbital period: 39.93\n",
      "\n",
      "The mode for the eccentricity: 0.00\n",
      "\n",
      "The mode for the orbital period: 691.90\n",
      "\n",
      "The mean for the eccentricity: 0.06\n",
      "\n",
      "The mean for the orbital period: 709.51\n"
     ]
    }
   ],
   "source": [
    "eccen_med = statistics.median(list(eccen))\n",
    "orbper_med = statistics.median(list(orbper))\n",
    "print('\\nThe median of the orbital period: %.4f' % orbper_med)\n",
    "print('\\nThe median of the eccentricity: %.2f' % eccen_med)\n",
    "iqr_eccen = stats.iqr(eccen, interpolation = 'midpoint')\n",
    "iqr_orbper = stats.iqr(orbper, interpolation = 'midpoint')\n",
    "print('\\nThe interquartile range of the eccentricity: %.2f' % iqr_eccen)\n",
    "print('\\nThe interquartile range of the orbital period: %.2f' % iqr_orbper)\n",
    "eccen_mode = statistics.mode(list(eccen))\n",
    "print('\\nThe mode for the eccentricity: %.2f' % eccen_mode)\n",
    "orbper_mode = statistics.mode(list(orbper))\n",
    "print('\\nThe mode for the orbital period: %.2f' % orbper_mode)\n",
    "eccen_avg = statistics.mean(list(eccen))\n",
    "print('\\nThe mean for the eccentricity: %.2f' % eccen_avg)\n",
    "orbper_avg = statistics.mean(list(orbper))\n",
    "print('\\nThe mean for the orbital period: %.2f' % orbper_avg)"
   ]
  },
  {
   "cell_type": "code",
   "execution_count": 15,
   "id": "73530cf2",
   "metadata": {},
   "outputs": [
    {
     "data": {
      "text/html": [
       "<div>\n",
       "<style scoped>\n",
       "    .dataframe tbody tr th:only-of-type {\n",
       "        vertical-align: middle;\n",
       "    }\n",
       "\n",
       "    .dataframe tbody tr th {\n",
       "        vertical-align: top;\n",
       "    }\n",
       "\n",
       "    .dataframe thead th {\n",
       "        text-align: right;\n",
       "    }\n",
       "</style>\n",
       "<table border=\"1\" class=\"dataframe\">\n",
       "  <thead>\n",
       "    <tr style=\"text-align: right;\">\n",
       "      <th></th>\n",
       "      <th>orbitperiod</th>\n",
       "      <th>eccentricity</th>\n",
       "    </tr>\n",
       "    <tr>\n",
       "      <th>planetname</th>\n",
       "      <th></th>\n",
       "      <th></th>\n",
       "    </tr>\n",
       "  </thead>\n",
       "  <tbody>\n",
       "    <tr>\n",
       "      <th>11 Com b</th>\n",
       "      <td>326.030000</td>\n",
       "      <td>0.231000</td>\n",
       "    </tr>\n",
       "    <tr>\n",
       "      <th>11 UMi b</th>\n",
       "      <td>516.219985</td>\n",
       "      <td>0.080000</td>\n",
       "    </tr>\n",
       "    <tr>\n",
       "      <th>14 And b</th>\n",
       "      <td>185.840000</td>\n",
       "      <td>0.000000</td>\n",
       "    </tr>\n",
       "    <tr>\n",
       "      <th>14 Her b</th>\n",
       "      <td>1766.601670</td>\n",
       "      <td>0.362233</td>\n",
       "    </tr>\n",
       "    <tr>\n",
       "      <th>16 Cyg B b</th>\n",
       "      <td>799.375000</td>\n",
       "      <td>0.676033</td>\n",
       "    </tr>\n",
       "    <tr>\n",
       "      <th>...</th>\n",
       "      <td>...</td>\n",
       "      <td>...</td>\n",
       "    </tr>\n",
       "    <tr>\n",
       "      <th>ups And b</th>\n",
       "      <td>4.616229</td>\n",
       "      <td>0.030200</td>\n",
       "    </tr>\n",
       "    <tr>\n",
       "      <th>ups And c</th>\n",
       "      <td>240.728533</td>\n",
       "      <td>0.238933</td>\n",
       "    </tr>\n",
       "    <tr>\n",
       "      <th>ups And d</th>\n",
       "      <td>1285.346167</td>\n",
       "      <td>0.281117</td>\n",
       "    </tr>\n",
       "    <tr>\n",
       "      <th>ups Leo b</th>\n",
       "      <td>385.200000</td>\n",
       "      <td>0.320000</td>\n",
       "    </tr>\n",
       "    <tr>\n",
       "      <th>xi Aql b</th>\n",
       "      <td>136.750000</td>\n",
       "      <td>0.000000</td>\n",
       "    </tr>\n",
       "  </tbody>\n",
       "</table>\n",
       "<p>4371 rows × 2 columns</p>\n",
       "</div>"
      ],
      "text/plain": [
       "            orbitperiod  eccentricity\n",
       "planetname                           \n",
       "11 Com b     326.030000      0.231000\n",
       "11 UMi b     516.219985      0.080000\n",
       "14 And b     185.840000      0.000000\n",
       "14 Her b    1766.601670      0.362233\n",
       "16 Cyg B b   799.375000      0.676033\n",
       "...                 ...           ...\n",
       "ups And b      4.616229      0.030200\n",
       "ups And c    240.728533      0.238933\n",
       "ups And d   1285.346167      0.281117\n",
       "ups Leo b    385.200000      0.320000\n",
       "xi Aql b     136.750000      0.000000\n",
       "\n",
       "[4371 rows x 2 columns]"
      ]
     },
     "execution_count": 15,
     "metadata": {},
     "output_type": "execute_result"
    }
   ],
   "source": [
    "df2 = pd.concat([orbper, eccen], axis = 1)\n",
    "df2"
   ]
  },
  {
   "cell_type": "markdown",
   "id": "e02c422b",
   "metadata": {},
   "source": [
    "All the filtering and cleaning was handled by df2."
   ]
  },
  {
   "cell_type": "code",
   "execution_count": 16,
   "id": "423aa033",
   "metadata": {},
   "outputs": [
    {
     "data": {
      "text/plain": [
       "Index(['orbitperiod', 'eccentricity'], dtype='object')"
      ]
     },
     "execution_count": 16,
     "metadata": {},
     "output_type": "execute_result"
    }
   ],
   "source": [
    "df2.columns"
   ]
  },
  {
   "cell_type": "code",
   "execution_count": 17,
   "id": "2204c7bc",
   "metadata": {},
   "outputs": [
    {
     "data": {
      "text/plain": [
       "(array([4.37e+03, 0.00e+00, 0.00e+00, 0.00e+00, 0.00e+00, 0.00e+00,\n",
       "        0.00e+00, 0.00e+00, 0.00e+00, 1.00e+00]),\n",
       " array([9.07062900e-02, 1.79000082e+05, 3.58000073e+05, 5.37000063e+05,\n",
       "        7.16000054e+05, 8.95000045e+05, 1.07400004e+06, 1.25300003e+06,\n",
       "        1.43200002e+06, 1.61100001e+06, 1.79000000e+06]),\n",
       " <BarContainer object of 10 artists>)"
      ]
     },
     "execution_count": 17,
     "metadata": {},
     "output_type": "execute_result"
    },
    {
     "data": {
      "image/png": "[encoded data removed]",
      "text/plain": [
       "<Figure size 432x288 with 1 Axes>"
      ]
     },
     "metadata": {
      "needs_background": "light"
     },
     "output_type": "display_data"
    }
   ],
   "source": [
    "plt.hist(df2.orbitperiod, color = \"darkgreen\", edgecolor = 'white')"
   ]
  },
  {
   "cell_type": "code",
   "execution_count": 18,
   "id": "c3ba247d",
   "metadata": {},
   "outputs": [
    {
     "data": {
      "text/plain": [
       "(array([1.100e+01, 4.260e+02, 1.905e+03, 1.158e+03, 4.170e+02, 3.240e+02,\n",
       "        1.140e+02, 1.400e+01, 1.000e+00, 1.000e+00]),\n",
       " array([-2.40012857, -0.7203431 ,  0.95944238,  2.63922785,  4.31901333,\n",
       "         5.9987988 ,  7.67858428,  9.35836975, 11.03815523, 12.7179407 ,\n",
       "        14.39772618]),\n",
       " <BarContainer object of 10 artists>)"
      ]
     },
     "execution_count": 18,
     "metadata": {},
     "output_type": "execute_result"
    },
    {
     "data": {
      "image/png": "[encoded data removed]",
      "text/plain": [
       "<Figure size 432x288 with 1 Axes>"
      ]
     },
     "metadata": {
      "needs_background": "light"
     },
     "output_type": "display_data"
    }
   ],
   "source": [
    "orbper_log = np.log(orbper)\n",
    "plt.hist(orbper_log, color = \"darkgreen\", edgecolor = 'red')"
   ]
  },
  {
   "cell_type": "markdown",
   "id": "a14bc0b1",
   "metadata": {},
   "source": [
    "The orbital period is skewed right, but after applying a log transform, the distribution more closely resembles a Gaussian distribution."
   ]
  },
  {
   "cell_type": "markdown",
   "id": "1d4f9cce",
   "metadata": {},
   "source": [
    "Going add 10 to every element in the array so as to be able to perform Log Transform on the eccentricity dataset as well."
   ]
  },
  {
   "cell_type": "code",
   "execution_count": 63,
   "id": "59c0685d",
   "metadata": {},
   "outputs": [
    {
     "data": {
      "text/plain": [
       "(array([3437.,  366.,  238.,  121.,   76.,   49.,   34.,   22.,   16.,\n",
       "          12.]),\n",
       " array([2.30258509, 2.31149493, 2.32040476, 2.3293146 , 2.33822443,\n",
       "        2.34713427, 2.3560441 , 2.36495394, 2.37386377, 2.38277361,\n",
       "        2.39168344]),\n",
       " <BarContainer object of 10 artists>)"
      ]
     },
     "execution_count": 63,
     "metadata": {},
     "output_type": "execute_result"
    },
    {
     "data": {
      "image/png": "[encoded data removed]",
      "text/plain": [
       "<Figure size 432x288 with 1 Axes>"
      ]
     },
     "metadata": {
      "needs_background": "light"
     },
     "output_type": "display_data"
    }
   ],
   "source": [
    "eccen_2 = eccen + 10\n",
    "#eccen_log = np.log(eccen + 10)\n",
    "eccen_log = np.log(eccen_2)\n",
    "plt.hist(eccen_log, color = \"maroon\", edgecolor = 'green')"
   ]
  },
  {
   "cell_type": "markdown",
   "id": "0feb6006",
   "metadata": {},
   "source": [
    "The distribution is still skewed right after applying the transform."
   ]
  },
  {
   "cell_type": "markdown",
   "id": "ef279f1a",
   "metadata": {},
   "source": [
    "#### Model Building"
   ]
  },
  {
   "cell_type": "markdown",
   "id": "0a24a43c",
   "metadata": {},
   "source": [
    "Will implement robust scaling to deal with outliers."
   ]
  },
  {
   "cell_type": "markdown",
   "id": "072cee69",
   "metadata": {},
   "source": [
    "As a resampling method, will use the train-test-split (tts) method. Will bundle the logic of tts into a function."
   ]
  },
  {
   "cell_type": "code",
   "execution_count": 20,
   "id": "4a42cec2",
   "metadata": {},
   "outputs": [],
   "source": [
    "def tts(data, split = 0.80):\n",
    "    train = list()\n",
    "    train_size = split*len(data)\n",
    "    data_copy = list(data)\n",
    "    while len(train) < train_size :\n",
    "        index = randrange(len(data_copy))\n",
    "        train.append(data_copy.pop(index))\n",
    "    return np.array(train), np.array(data_copy)"
   ]
  },
  {
   "cell_type": "code",
   "execution_count": 21,
   "id": "1b6145f5",
   "metadata": {},
   "outputs": [],
   "source": [
    "X1_train, X1_test = tts(orbper_log)\n",
    "#y1_train, y1_test = tts(eccen)\n",
    "y1_train, y1_test = tts(eccen_log)\n",
    "#rs = RobustScaler()\n",
    "#scale_X1_train = rs.fit_transform(X1_train.reshape(-1, 1))\n",
    "#scale_y1_train = rs.fit_transform(y1_train.reshape(-1, 1))\n",
    "#scale_X1_test = rs.fit_transform(X1_test.reshape(-1, 1))\n",
    "#scale_X1_train"
   ]
  },
  {
   "cell_type": "code",
   "execution_count": 57,
   "id": "211783bd",
   "metadata": {},
   "outputs": [],
   "source": [
    "from sklearn.model_selection import train_test_split\n",
    "#X1_train, X1_test, y1_train, y1_test = train_test_split(np.array(orbper_log), np.array(eccen_log), train_size = 0.80, random_state = 25)\n",
    "X1_train, X1_test, y1_train, y1_test = train_test_split(np.array(orbper), np.array(eccen), train_size = 0.80, random_state = 25)"
   ]
  },
  {
   "cell_type": "code",
   "execution_count": 72,
   "id": "ac5eb163",
   "metadata": {},
   "outputs": [
    {
     "data": {
      "text/plain": [
       "0.0637315305801972"
      ]
     },
     "execution_count": 72,
     "metadata": {},
     "output_type": "execute_result"
    }
   ],
   "source": [
    "y_baseline = y1_train.mean()\n",
    "y_baseline"
   ]
  },
  {
   "cell_type": "code",
   "execution_count": 79,
   "id": "4912b499",
   "metadata": {},
   "outputs": [],
   "source": [
    "y_pred_train = [y_baseline] * len(y1_train)"
   ]
  },
  {
   "cell_type": "code",
   "execution_count": 84,
   "id": "2641219b",
   "metadata": {},
   "outputs": [
    {
     "data": {
      "text/plain": [
       "0.08752901986553943"
      ]
     },
     "execution_count": 84,
     "metadata": {},
     "output_type": "execute_result"
    }
   ],
   "source": [
    "from sklearn.metrics import mean_absolute_error, mean_squared_error\n",
    "# Error for training data baseline guess.\n",
    "mae_train_1 = mean_absolute_error(y1_train, y_pred_train)\n",
    "mae_train_1"
   ]
  },
  {
   "cell_type": "code",
   "execution_count": 85,
   "id": "86367d47",
   "metadata": {},
   "outputs": [
    {
     "data": {
      "text/plain": [
       "0.01788375152612843"
      ]
     },
     "execution_count": 85,
     "metadata": {},
     "output_type": "execute_result"
    }
   ],
   "source": [
    "# Mean squared error for training data baseline guess.\n",
    "mse_train_1 = mean_squared_error(y1_train, y_pred_train)\n",
    "mse_train_1"
   ]
  },
  {
   "cell_type": "code",
   "execution_count": 86,
   "id": "0f60f2a1",
   "metadata": {},
   "outputs": [
    {
     "name": "stdout",
     "output_type": "stream",
     "text": [
      "Traing Set R2: 0.0\n"
     ]
    }
   ],
   "source": [
    "# R-squared for training data baseline guess.\n",
    "y1_train_r2 = r2_score(y1_train, y_pred_train)\n",
    "print(f'Traing Set R2: {y1_train_r2}')"
   ]
  },
  {
   "cell_type": "code",
   "execution_count": 87,
   "id": "88730864",
   "metadata": {},
   "outputs": [],
   "source": [
    "y_pred_test = [y_baseline] * len(y1_test)"
   ]
  },
  {
   "cell_type": "code",
   "execution_count": 89,
   "id": "2a95db0a",
   "metadata": {},
   "outputs": [
    {
     "data": {
      "text/plain": [
       "0.09067568318514926"
      ]
     },
     "execution_count": 89,
     "metadata": {},
     "output_type": "execute_result"
    }
   ],
   "source": [
    "# Error for test data baseline guess.\n",
    "mae_test_1 = mean_absolute_error(y1_test, y_pred_test)\n",
    "mae_test_1"
   ]
  },
  {
   "cell_type": "code",
   "execution_count": 90,
   "id": "eedc3be0",
   "metadata": {},
   "outputs": [
    {
     "data": {
      "text/plain": [
       "0.09067568318514926"
      ]
     },
     "execution_count": 90,
     "metadata": {},
     "output_type": "execute_result"
    }
   ],
   "source": [
    "# Error for test data baseline guess.\n",
    "mae_test_1 = mean_absolute_error(y1_test, y_pred_test)\n",
    "mae_test_1"
   ]
  },
  {
   "cell_type": "code",
   "execution_count": 91,
   "id": "9dffcf6e",
   "metadata": {},
   "outputs": [
    {
     "name": "stdout",
     "output_type": "stream",
     "text": [
      "Traing Set R2: -9.981601752739877e-05\n"
     ]
    }
   ],
   "source": [
    "# R-squared for test data baseline guess.\n",
    "y1_test_r2 = r2_score(y1_test, y_pred_test)\n",
    "print(f'Traing Set R2: {y1_test_r2}')"
   ]
  },
  {
   "cell_type": "code",
   "execution_count": 96,
   "id": "ac86c794",
   "metadata": {},
   "outputs": [
    {
     "data": {
      "text/html": [
       "<div>\n",
       "<style scoped>\n",
       "    .dataframe tbody tr th:only-of-type {\n",
       "        vertical-align: middle;\n",
       "    }\n",
       "\n",
       "    .dataframe tbody tr th {\n",
       "        vertical-align: top;\n",
       "    }\n",
       "\n",
       "    .dataframe thead th {\n",
       "        text-align: right;\n",
       "    }\n",
       "</style>\n",
       "<table border=\"1\" class=\"dataframe\">\n",
       "  <thead>\n",
       "    <tr style=\"text-align: right;\">\n",
       "      <th></th>\n",
       "      <th>Method</th>\n",
       "      <th>Train MAE</th>\n",
       "      <th>Train MSE</th>\n",
       "      <th>Train R2</th>\n",
       "      <th>Test MAE</th>\n",
       "      <th>Test MSE</th>\n",
       "      <th>Test R2</th>\n",
       "    </tr>\n",
       "  </thead>\n",
       "  <tbody>\n",
       "    <tr>\n",
       "      <th>0</th>\n",
       "      <td>Baseline</td>\n",
       "      <td>0.087529</td>\n",
       "      <td>0.017884</td>\n",
       "      <td>0.0</td>\n",
       "      <td>0.090676</td>\n",
       "      <td>0.090676</td>\n",
       "      <td>-0.0001</td>\n",
       "    </tr>\n",
       "  </tbody>\n",
       "</table>\n",
       "</div>"
      ],
      "text/plain": [
       "     Method Train MAE Train MSE Train R2  Test MAE  Test MSE Test R2\n",
       "0  Baseline  0.087529  0.017884      0.0  0.090676  0.090676 -0.0001"
      ]
     },
     "execution_count": 96,
     "metadata": {},
     "output_type": "execute_result"
    }
   ],
   "source": [
    "prediction_1 = pd.DataFrame(['Baseline', mae_train_1, mse_train_1, y1_train_r2, mae_test_1, mae_test_1, y1_test_r2]).transpose()\n",
    "prediction_1.columns = ['Method', 'Train MAE', 'Train MSE', 'Train R2', 'Test MAE', 'Test MSE', 'Test R2']\n",
    "prediction_1"
   ]
  },
  {
   "cell_type": "code",
   "execution_count": 64,
   "id": "33edf59b",
   "metadata": {},
   "outputs": [],
   "source": [
    "X1_train_log = np.log(X1_train)\n",
    "X1_test_log = np.log(X1_test)\n",
    "y1_train_log = np.log(y1_train + 10) # <- Remember to add 10 units to be able apply log transform"
   ]
  },
  {
   "cell_type": "code",
   "execution_count": 65,
   "id": "2b3a7979",
   "metadata": {},
   "outputs": [],
   "source": [
    "model_knn1 = KNeighborsRegressor(n_neighbors = 27)\n",
    "model_knn1.fit(X1_train_log.reshape(-1, 1), y1_train_log.reshape(-1, 1))\n",
    "#model_knn1.fit(X1_train.T, y1_train.T)\n",
    "y_knn_train_pred_log_1 = model_knn1.predict(X1_train_log.reshape(-1, 1))\n",
    "y_knn_test_pred_log_1 = model_knn1.predict(X1_test_log.reshape(-1, 1))"
   ]
  },
  {
   "cell_type": "code",
   "execution_count": 59,
   "id": "60fe53d2",
   "metadata": {},
   "outputs": [
    {
     "data": {
      "text/plain": [
       "-2.890471762896498"
      ]
     },
     "execution_count": 59,
     "metadata": {},
     "output_type": "execute_result"
    }
   ],
   "source": [
    "# Following line to remind myself that values between 0 - 1 will produce negative value in log.\n",
    "np.log(0.055550)"
   ]
  },
  {
   "cell_type": "code",
   "execution_count": 106,
   "id": "734a9715",
   "metadata": {},
   "outputs": [],
   "source": [
    "y_knn_test_pred_1 = np.exp(y_knn_test_pred_log_1) "
   ]
  },
  {
   "cell_type": "code",
   "execution_count": 107,
   "id": "8fa7e023",
   "metadata": {
    "scrolled": false
   },
   "outputs": [
    {
     "data": {
      "text/plain": [
       "<matplotlib.collections.PathCollection at 0x2136209fdc0>"
      ]
     },
     "execution_count": 107,
     "metadata": {},
     "output_type": "execute_result"
    },
    {
     "data": {
      "image/png": "[encoded data removed]",
      "text/plain": [
       "<Figure size 432x288 with 1 Axes>"
      ]
     },
     "metadata": {
      "needs_background": "light"
     },
     "output_type": "display_data"
    }
   ],
   "source": [
    "plt.scatter(y1_test, y_knn_test_pred_1)"
   ]
  },
  {
   "cell_type": "markdown",
   "id": "b0d0cd33",
   "metadata": {},
   "source": [
    "Trying to avoid data leakage when going from transform to inverse."
   ]
  },
  {
   "cell_type": "code",
   "execution_count": 97,
   "id": "537cc1d2",
   "metadata": {},
   "outputs": [
    {
     "data": {
      "text/plain": [
       "<matplotlib.collections.PathCollection at 0x2135eb87f70>"
      ]
     },
     "execution_count": 97,
     "metadata": {},
     "output_type": "execute_result"
    },
    {
     "data": {
      "image/png": "[encoded data removed]",
      "text/plain": [
       "<Figure size 432x288 with 1 Axes>"
      ]
     },
     "metadata": {
      "needs_background": "light"
     },
     "output_type": "display_data"
    }
   ],
   "source": [
    "plt.scatter(X1_test, y1_test)"
   ]
  },
  {
   "cell_type": "code",
   "execution_count": 98,
   "id": "663f84eb",
   "metadata": {},
   "outputs": [
    {
     "data": {
      "text/plain": [
       "<matplotlib.collections.PathCollection at 0x2135ebde160>"
      ]
     },
     "execution_count": 98,
     "metadata": {},
     "output_type": "execute_result"
    },
    {
     "data": {
      "image/png": "[encoded data removed]",
      "text/plain": [
       "<Figure size 432x288 with 1 Axes>"
      ]
     },
     "metadata": {
      "needs_background": "light"
     },
     "output_type": "display_data"
    }
   ],
   "source": [
    "plt.scatter(X1_train, y1_train, c = \"teal\")"
   ]
  },
  {
   "cell_type": "code",
   "execution_count": 99,
   "id": "63523306",
   "metadata": {},
   "outputs": [
    {
     "data": {
      "text/plain": [
       "<matplotlib.collections.PathCollection at 0x2135ec35cd0>"
      ]
     },
     "execution_count": 99,
     "metadata": {},
     "output_type": "execute_result"
    },
    {
     "data": {
      "image/png": "[encoded data removed]",
      "text/plain": [
       "<Figure size 432x288 with 1 Axes>"
      ]
     },
     "metadata": {
      "needs_background": "light"
     },
     "output_type": "display_data"
    }
   ],
   "source": [
    "plt.scatter(orbper, eccen)"
   ]
  },
  {
   "cell_type": "code",
   "execution_count": 28,
   "id": "876c9b05",
   "metadata": {},
   "outputs": [
    {
     "data": {
      "text/plain": [
       "<matplotlib.collections.PathCollection at 0x21359a63a60>"
      ]
     },
     "execution_count": 28,
     "metadata": {},
     "output_type": "execute_result"
    },
    {
     "data": {
      "image/png": "[encoded data removed]",
      "text/plain": [
       "<Figure size 648x648 with 1 Axes>"
      ]
     },
     "metadata": {
      "needs_background": "light"
     },
     "output_type": "display_data"
    }
   ],
   "source": [
    "# Following to 'unscale' the fitted data\n",
    "# The y-values are the actual test data.\n",
    "inverse_X1test = np.exp(X1_test)\n",
    "inverse_knn_model_1 = np.exp(y_knn_test_pred_1)\n",
    "plt.figure(figsize = (9, 9))\n",
    "#plt.scatter(inverse_X1test, y1_test)\n",
    "plt.scatter(inverse_X1test, inverse_knn_model_1)"
   ]
  },
  {
   "cell_type": "code",
   "execution_count": 101,
   "id": "3ba60e6b",
   "metadata": {},
   "outputs": [
    {
     "data": {
      "text/plain": [
       "<matplotlib.collections.PathCollection at 0x2135ecfdac0>"
      ]
     },
     "execution_count": 101,
     "metadata": {},
     "output_type": "execute_result"
    },
    {
     "data": {
      "image/png": "[encoded data removed]",
      "text/plain": [
       "<Figure size 648x648 with 1 Axes>"
      ]
     },
     "metadata": {
      "needs_background": "light"
     },
     "output_type": "display_data"
    }
   ],
   "source": [
    "plt.figure(figsize = (9, 9))\n",
    "plt.scatter(X1_test, np.exp(y_knn_test_pred_1))\n",
    "#plt.scatter(inverse_X1test, inverse_knn_model_1)"
   ]
  },
  {
   "cell_type": "code",
   "execution_count": 30,
   "id": "8c6f81b5",
   "metadata": {},
   "outputs": [
    {
     "data": {
      "text/plain": [
       "<matplotlib.collections.PathCollection at 0x21359c2c610>"
      ]
     },
     "execution_count": 30,
     "metadata": {},
     "output_type": "execute_result"
    },
    {
     "data": {
      "image/png": "[encoded data removed]",
      "text/plain": [
       "<Figure size 648x648 with 1 Axes>"
      ]
     },
     "metadata": {
      "needs_background": "light"
     },
     "output_type": "display_data"
    }
   ],
   "source": [
    "plt.figure(figsize = (9, 9))\n",
    "plt.scatter(np.exp(X1_test), np.exp(y_knn_test_pred_1))"
   ]
  },
  {
   "cell_type": "markdown",
   "id": "0a0432e4",
   "metadata": {},
   "source": [
    "Want to make a quick calculation of the residuals in this prediction and actual values evaluation."
   ]
  },
  {
   "cell_type": "code",
   "execution_count": 31,
   "id": "6208827c",
   "metadata": {},
   "outputs": [
    {
     "data": {
      "image/png": "[encoded data removed]",
      "text/plain": [
       "<Figure size 432x432 with 1 Axes>"
      ]
     },
     "metadata": {
      "needs_background": "light"
     },
     "output_type": "display_data"
    }
   ],
   "source": [
    "true_values_1 = np.exp(y1_test) \n",
    "predicted_values1_1 = np.exp(y_knn_test_pred_1)\n",
    "plt.figure(figsize = (6, 6))\n",
    "plt.scatter(true_values_1, predicted_values1_1, c = 'crimson')\n",
    "p1 = max(max(predicted_values1_1), max(true_values_1))\n",
    "p2 = min(min(predicted_values1_1), min(true_values_1))\n",
    "plt.plot([p1, p2], [p1, p2], 'b-')\n",
    "plt.show()"
   ]
  },
  {
   "cell_type": "markdown",
   "id": "92c437a9",
   "metadata": {},
   "source": [
    "Want to plot the residuals and see if there are any obvious patterns. Another name is the Versus Fit."
   ]
  },
  {
   "cell_type": "code",
   "execution_count": 32,
   "id": "2b382e89",
   "metadata": {},
   "outputs": [
    {
     "data": {
      "text/plain": [
       "<matplotlib.collections.PathCollection at 0x21359e763d0>"
      ]
     },
     "execution_count": 32,
     "metadata": {},
     "output_type": "execute_result"
    },
    {
     "data": {
      "image/png": "[encoded data removed]",
      "text/plain": [
       "<Figure size 432x288 with 1 Axes>"
      ]
     },
     "metadata": {
      "needs_background": "light"
     },
     "output_type": "display_data"
    }
   ],
   "source": [
    "#residuals1_1 = np.subtract(true_values_1, predicted_values1_1)\n",
    "residuals1_1 = list()\n",
    "for item1, item2 in zip(true_values_1, predicted_values1_1):\n",
    "    residuals1_1.append(item1 - item2)\n",
    "plt.scatter(true_values_1, residuals1_1, c = 'green')"
   ]
  },
  {
   "cell_type": "markdown",
   "id": "7c15e6e9",
   "metadata": {},
   "source": [
    "There is an obvious pattern in the residuals plot."
   ]
  },
  {
   "cell_type": "code",
   "execution_count": 33,
   "id": "7d52abde",
   "metadata": {},
   "outputs": [
    {
     "name": "stdout",
     "output_type": "stream",
     "text": [
      "               Method Training MSE Training R2  Test MSE   Test R2\n",
      "0  k Nearest Neighbor     0.000113    0.332674  0.000122  0.350379\n"
     ]
    }
   ],
   "source": [
    "# First the training metrics.\n",
    "knn1_train_mse = mean_squared_error(y1_train, y_knn_train_pred_1)\n",
    "knn1_train_r2 = r2_score(y1_train, y_knn_train_pred_1)\n",
    "# Now, test mean square and r2 score.\n",
    "knn1_test_mse = mean_squared_error(y1_test, y_knn_test_pred_1)\n",
    "knn1_test_r2 = r2_score(y1_test, y_knn_test_pred_1)\n",
    "# Consolidate the results.\n",
    "knn_results_1 = pd.DataFrame(['k Nearest Neighbor', knn1_train_mse, knn1_train_r2, knn1_test_mse, knn1_test_r2]).transpose()\n",
    "#results_1 = pd.DataFrame(columns = ['Method', 'Training MSE', 'Training R2', 'Test MSE', 'Test R2'])\n",
    "#results1 = pd.DataFrame()\n",
    "#results_1 = pd.concat([results1, knn_results_1], axis=1)\n",
    "#results_1.append(knn_results_1, ignore_index=True)\n",
    "metric_col_names = ['Method', 'Training MSE', 'Training R2', 'Test MSE', 'Test R2']\n",
    "knn_results_1.columns = metric_col_names\n",
    "print(knn_results_1)\n",
    "#knn_results.columns = ['Method', 'Training MSE', 'Training R2', 'Test MSE', 'Test R2']\n",
    "#print(knn_results)"
   ]
  },
  {
   "cell_type": "code",
   "execution_count": 34,
   "id": "e18c0439",
   "metadata": {},
   "outputs": [
    {
     "data": {
      "text/html": [
       "<div>\n",
       "<style scoped>\n",
       "    .dataframe tbody tr th:only-of-type {\n",
       "        vertical-align: middle;\n",
       "    }\n",
       "\n",
       "    .dataframe tbody tr th {\n",
       "        vertical-align: top;\n",
       "    }\n",
       "\n",
       "    .dataframe thead th {\n",
       "        text-align: right;\n",
       "    }\n",
       "</style>\n",
       "<table border=\"1\" class=\"dataframe\">\n",
       "  <thead>\n",
       "    <tr style=\"text-align: right;\">\n",
       "      <th></th>\n",
       "      <th>Method</th>\n",
       "      <th>Training MSE</th>\n",
       "      <th>Training R2</th>\n",
       "      <th>Test MSE</th>\n",
       "      <th>Test R2</th>\n",
       "    </tr>\n",
       "  </thead>\n",
       "  <tbody>\n",
       "    <tr>\n",
       "      <th>0</th>\n",
       "      <td>k Nearest Neighbor</td>\n",
       "      <td>0.000113</td>\n",
       "      <td>0.332674</td>\n",
       "      <td>0.000122</td>\n",
       "      <td>0.350379</td>\n",
       "    </tr>\n",
       "  </tbody>\n",
       "</table>\n",
       "</div>"
      ],
      "text/plain": [
       "               Method Training MSE Training R2  Test MSE   Test R2\n",
       "0  k Nearest Neighbor     0.000113    0.332674  0.000122  0.350379"
      ]
     },
     "execution_count": 34,
     "metadata": {},
     "output_type": "execute_result"
    }
   ],
   "source": [
    "knn_results_1"
   ]
  },
  {
   "cell_type": "code",
   "execution_count": 35,
   "id": "aee8cd80",
   "metadata": {},
   "outputs": [],
   "source": [
    "# NB: the independent variable is orbital period (X)\n",
    "# dependent variable is ecentricity (y)\n",
    "#X2_train, X2_test = tts(orbper)\n",
    "#y2_train, y2_test = tts(eccen)\n",
    "#X2_train, y2_train = pd.DataFrame(X2_train), pd.DataFrame(y2_train)\n",
    "#X2_test, y2_test = pd.DataFrame(X2_test), pd.DataFrame(y2_test)\n",
    "#test_set_1 = pd.concat([X2_test, y2_test], axis = 1)\n",
    "#train_set_1 = pd.concat([X2_train, y2_train], axis = 1)\n",
    "#df2_scaled = pd.DataFrame(rs.fit_transform(df2_scaled), columns = df2_scaled.columns, index = df2_scaled.index)\n",
    "#df2_scaled.head()"
   ]
  },
  {
   "cell_type": "code",
   "execution_count": 36,
   "id": "8752cfbb",
   "metadata": {},
   "outputs": [
    {
     "data": {
      "text/plain": [
       "KNeighborsRegressor(n_neighbors=27)"
      ]
     },
     "execution_count": 36,
     "metadata": {},
     "output_type": "execute_result"
    }
   ],
   "source": [
    "model_knn1"
   ]
  },
  {
   "cell_type": "markdown",
   "id": "aa26d1ae",
   "metadata": {},
   "source": [
    "Now, will use the SVR for regressor model."
   ]
  },
  {
   "cell_type": "code",
   "execution_count": 37,
   "id": "d6efdc91",
   "metadata": {},
   "outputs": [
    {
     "name": "stdout",
     "output_type": "stream",
     "text": [
      "  Method Training MSE Training R2 Test MSE   Test R2\n",
      "0    SVR     4.268436   -0.088707  4.26754 -0.090057\n"
     ]
    },
    {
     "name": "stderr",
     "output_type": "stream",
     "text": [
      "c:\\users\\joepb\\miniconda3\\lib\\site-packages\\sklearn\\utils\\validation.py:993: DataConversionWarning: A column-vector y was passed when a 1d array was expected. Please change the shape of y to (n_samples, ), for example using ravel().\n",
      "  y = column_or_1d(y, warn=True)\n"
     ]
    }
   ],
   "source": [
    "from sklearn.svm import SVR\n",
    "regressor = SVR(kernel = 'rbf')\n",
    "regressor.fit(X1_train.reshape(-1, 1), y1_train.reshape(-1, 1))\n",
    "y_svr_train_pred = regressor.predict(X1_train.reshape(-1, 1))\n",
    "y_svr_test_pred = regressor.predict(X1_test.reshape(-1, 1))\n",
    "# Model performance\n",
    "svr_train_mse = mean_squared_error(X1_train.reshape(-1, 1), y_svr_train_pred.reshape(-1, 1))\n",
    "svr_train_r2 = r2_score(X1_train.reshape(-1, 1), y_svr_train_pred.reshape(-1, 1))\n",
    "# Test results\n",
    "svr_test_mse = mean_squared_error(X1_test.reshape(-1, 1), y_svr_test_pred.reshape(-1, 1))\n",
    "svr_test_r2 = r2_score(X1_test.reshape(-1, 1), y_svr_test_pred.reshape(-1, 1))\n",
    "# Consolidate the results.\n",
    "#svr_results = pd.DataFrame(['SVR', svr_train_mse, svr_train_r2, svr_test_mse, svr_test_r2]).T\n",
    "svr_results = pd.DataFrame(['SVR', svr_train_mse, svr_train_r2, svr_test_mse, svr_test_r2]).T\n",
    "svr_results.columns = metric_col_names\n",
    "#results2 = pd.concat([knn_results, svr_results.T], ignore_index = False)\n",
    "#print(results2)\n",
    "print(svr_results)"
   ]
  },
  {
   "cell_type": "code",
   "execution_count": 38,
   "id": "8380dbd1",
   "metadata": {},
   "outputs": [
    {
     "data": {
      "text/html": [
       "<div>\n",
       "<style scoped>\n",
       "    .dataframe tbody tr th:only-of-type {\n",
       "        vertical-align: middle;\n",
       "    }\n",
       "\n",
       "    .dataframe tbody tr th {\n",
       "        vertical-align: top;\n",
       "    }\n",
       "\n",
       "    .dataframe thead th {\n",
       "        text-align: right;\n",
       "    }\n",
       "</style>\n",
       "<table border=\"1\" class=\"dataframe\">\n",
       "  <thead>\n",
       "    <tr style=\"text-align: right;\">\n",
       "      <th></th>\n",
       "      <th>Method</th>\n",
       "      <th>Training MSE</th>\n",
       "      <th>Training R2</th>\n",
       "      <th>Test MSE</th>\n",
       "      <th>Test R2</th>\n",
       "    </tr>\n",
       "  </thead>\n",
       "  <tbody>\n",
       "    <tr>\n",
       "      <th>0</th>\n",
       "      <td>k Nearest Neighbor</td>\n",
       "      <td>0.000113</td>\n",
       "      <td>0.332674</td>\n",
       "      <td>0.000122</td>\n",
       "      <td>0.350379</td>\n",
       "    </tr>\n",
       "    <tr>\n",
       "      <th>1</th>\n",
       "      <td>SVR</td>\n",
       "      <td>4.268436</td>\n",
       "      <td>-0.088707</td>\n",
       "      <td>4.26754</td>\n",
       "      <td>-0.090057</td>\n",
       "    </tr>\n",
       "  </tbody>\n",
       "</table>\n",
       "</div>"
      ],
      "text/plain": [
       "               Method Training MSE Training R2  Test MSE   Test R2\n",
       "0  k Nearest Neighbor     0.000113    0.332674  0.000122  0.350379\n",
       "1                 SVR     4.268436   -0.088707   4.26754 -0.090057"
      ]
     },
     "execution_count": 38,
     "metadata": {},
     "output_type": "execute_result"
    }
   ],
   "source": [
    "results_1 = pd.concat([knn_results_1, svr_results], axis = 0, ignore_index = True)\n",
    "results_1 "
   ]
  },
  {
   "cell_type": "markdown",
   "id": "4394ef33",
   "metadata": {},
   "source": [
    "Now want to model using the Random Forest Regressor."
   ]
  },
  {
   "cell_type": "code",
   "execution_count": 39,
   "id": "ffc305d3",
   "metadata": {},
   "outputs": [
    {
     "name": "stderr",
     "output_type": "stream",
     "text": [
      "C:\\Users\\joepb\\AppData\\Local\\Temp\\ipykernel_4716\\3674644462.py:2: DataConversionWarning: A column-vector y was passed when a 1d array was expected. Please change the shape of y to (n_samples,), for example using ravel().\n",
      "  rf.fit(X1_train.reshape(-1, 1), y1_train.reshape(-1, 1))\n"
     ]
    },
    {
     "name": "stdout",
     "output_type": "stream",
     "text": [
      "RandomForestRegressor(max_depth=2)\n"
     ]
    }
   ],
   "source": [
    "rf = RandomForestRegressor(max_depth=2)\n",
    "rf.fit(X1_train.reshape(-1, 1), y1_train.reshape(-1, 1))\n",
    "y_rf1_train_pred = rf.predict(X1_train.reshape(-1, 1))\n",
    "y_rf1_test_pred = rf.predict(X1_test.reshape(-1, 1))\n",
    "print(rf)"
   ]
  },
  {
   "cell_type": "code",
   "execution_count": 40,
   "id": "71fe8faa",
   "metadata": {},
   "outputs": [],
   "source": [
    "# Model performance metrics for random forest model.\n",
    "rf_train_1_mse = mean_squared_error(y1_train, y_rf1_train_pred)\n",
    "rf_train_1_r2 = r2_score(y1_train, y_rf1_train_pred)\n",
    "rf_test_1_mse = mean_squared_error(y1_test, y_rf1_test_pred)\n",
    "rf_test_1_r2 = r2_score(y1_test, y_rf1_test_pred)"
   ]
  },
  {
   "cell_type": "code",
   "execution_count": 41,
   "id": "6d8f7d78",
   "metadata": {},
   "outputs": [
    {
     "name": "stdout",
     "output_type": "stream",
     "text": [
      "          Method Training MSE Training R2  Test MSE   Test R2\n",
      "0  Random Forest     0.000115    0.322034  0.000118  0.369545\n"
     ]
    }
   ],
   "source": [
    "rf1_results = pd.DataFrame(['Random Forest', rf_train_1_mse, rf_train_1_r2, rf_test_1_mse, rf_test_1_r2]).transpose()\n",
    "rf1_results.columns = metric_col_names\n",
    "print(rf1_results)"
   ]
  },
  {
   "cell_type": "code",
   "execution_count": 42,
   "id": "d49b6f11",
   "metadata": {},
   "outputs": [
    {
     "data": {
      "text/html": [
       "<div>\n",
       "<style scoped>\n",
       "    .dataframe tbody tr th:only-of-type {\n",
       "        vertical-align: middle;\n",
       "    }\n",
       "\n",
       "    .dataframe tbody tr th {\n",
       "        vertical-align: top;\n",
       "    }\n",
       "\n",
       "    .dataframe thead th {\n",
       "        text-align: right;\n",
       "    }\n",
       "</style>\n",
       "<table border=\"1\" class=\"dataframe\">\n",
       "  <thead>\n",
       "    <tr style=\"text-align: right;\">\n",
       "      <th></th>\n",
       "      <th>Method</th>\n",
       "      <th>Training MSE</th>\n",
       "      <th>Training R2</th>\n",
       "      <th>Test MSE</th>\n",
       "      <th>Test R2</th>\n",
       "    </tr>\n",
       "  </thead>\n",
       "  <tbody>\n",
       "    <tr>\n",
       "      <th>0</th>\n",
       "      <td>k Nearest Neighbor</td>\n",
       "      <td>0.000113</td>\n",
       "      <td>0.332674</td>\n",
       "      <td>0.000122</td>\n",
       "      <td>0.350379</td>\n",
       "    </tr>\n",
       "    <tr>\n",
       "      <th>1</th>\n",
       "      <td>SVR</td>\n",
       "      <td>4.268436</td>\n",
       "      <td>-0.088707</td>\n",
       "      <td>4.26754</td>\n",
       "      <td>-0.090057</td>\n",
       "    </tr>\n",
       "    <tr>\n",
       "      <th>2</th>\n",
       "      <td>Random Forest</td>\n",
       "      <td>0.000115</td>\n",
       "      <td>0.322034</td>\n",
       "      <td>0.000118</td>\n",
       "      <td>0.369545</td>\n",
       "    </tr>\n",
       "  </tbody>\n",
       "</table>\n",
       "</div>"
      ],
      "text/plain": [
       "               Method Training MSE Training R2  Test MSE   Test R2\n",
       "0  k Nearest Neighbor     0.000113    0.332674  0.000122  0.350379\n",
       "1                 SVR     4.268436   -0.088707   4.26754 -0.090057\n",
       "2       Random Forest     0.000115    0.322034  0.000118  0.369545"
      ]
     },
     "execution_count": 42,
     "metadata": {},
     "output_type": "execute_result"
    }
   ],
   "source": [
    "results_1 = pd.concat([results_1, rf1_results], axis = 0, ignore_index = True)\n",
    "results_1"
   ]
  },
  {
   "cell_type": "code",
   "execution_count": 43,
   "id": "cf264f20",
   "metadata": {},
   "outputs": [
    {
     "data": {
      "image/png": "[encoded data removed]",
      "text/plain": [
       "<Figure size 432x432 with 1 Axes>"
      ]
     },
     "metadata": {
      "needs_background": "light"
     },
     "output_type": "display_data"
    }
   ],
   "source": [
    "true_values_1 = y1_test\n",
    "predicted_values1_2 = y_rf1_test_pred\n",
    "plt.figure(figsize = (6, 6))\n",
    "plt.scatter(true_values_1, predicted_values1_2, c = 'crimson')\n",
    "p1 = max(max(predicted_values1_2), max(true_values_1))\n",
    "p2 = min(min(predicted_values1_2), min(true_values_1))\n",
    "plt.plot([p1, p2], [p1, p2], 'b-')\n",
    "plt.show()"
   ]
  },
  {
   "cell_type": "markdown",
   "id": "ee69b2ec",
   "metadata": {},
   "source": [
    "Now want to begin analysis of equilibrium temperature as a function of planet size."
   ]
  },
  {
   "cell_type": "code",
   "execution_count": 44,
   "id": "a3d1e67b",
   "metadata": {},
   "outputs": [
    {
     "data": {
      "text/html": [
       "<div>\n",
       "<style scoped>\n",
       "    .dataframe tbody tr th:only-of-type {\n",
       "        vertical-align: middle;\n",
       "    }\n",
       "\n",
       "    .dataframe tbody tr th {\n",
       "        vertical-align: top;\n",
       "    }\n",
       "\n",
       "    .dataframe thead th {\n",
       "        text-align: right;\n",
       "    }\n",
       "</style>\n",
       "<table border=\"1\" class=\"dataframe\">\n",
       "  <thead>\n",
       "    <tr style=\"text-align: right;\">\n",
       "      <th></th>\n",
       "      <th>pl_name</th>\n",
       "      <th>pl_bmassj</th>\n",
       "      <th>pl_eqt</th>\n",
       "    </tr>\n",
       "  </thead>\n",
       "  <tbody>\n",
       "    <tr>\n",
       "      <th>0</th>\n",
       "      <td>11 Com b</td>\n",
       "      <td>19.40</td>\n",
       "      <td>NaN</td>\n",
       "    </tr>\n",
       "    <tr>\n",
       "      <th>1</th>\n",
       "      <td>11 Com b</td>\n",
       "      <td>17.10</td>\n",
       "      <td>NaN</td>\n",
       "    </tr>\n",
       "    <tr>\n",
       "      <th>2</th>\n",
       "      <td>11 UMi b</td>\n",
       "      <td>10.80</td>\n",
       "      <td>NaN</td>\n",
       "    </tr>\n",
       "    <tr>\n",
       "      <th>3</th>\n",
       "      <td>11 UMi b</td>\n",
       "      <td>14.74</td>\n",
       "      <td>NaN</td>\n",
       "    </tr>\n",
       "    <tr>\n",
       "      <th>4</th>\n",
       "      <td>11 UMi b</td>\n",
       "      <td>10.50</td>\n",
       "      <td>NaN</td>\n",
       "    </tr>\n",
       "    <tr>\n",
       "      <th>...</th>\n",
       "      <td>...</td>\n",
       "      <td>...</td>\n",
       "      <td>...</td>\n",
       "    </tr>\n",
       "    <tr>\n",
       "      <th>32511</th>\n",
       "      <td>ups And d</td>\n",
       "      <td>4.10</td>\n",
       "      <td>NaN</td>\n",
       "    </tr>\n",
       "    <tr>\n",
       "      <th>32512</th>\n",
       "      <td>ups And d</td>\n",
       "      <td>10.25</td>\n",
       "      <td>NaN</td>\n",
       "    </tr>\n",
       "    <tr>\n",
       "      <th>32513</th>\n",
       "      <td>ups Leo b</td>\n",
       "      <td>0.51</td>\n",
       "      <td>NaN</td>\n",
       "    </tr>\n",
       "    <tr>\n",
       "      <th>32514</th>\n",
       "      <td>xi Aql b</td>\n",
       "      <td>2.02</td>\n",
       "      <td>NaN</td>\n",
       "    </tr>\n",
       "    <tr>\n",
       "      <th>32515</th>\n",
       "      <td>xi Aql b</td>\n",
       "      <td>2.80</td>\n",
       "      <td>NaN</td>\n",
       "    </tr>\n",
       "  </tbody>\n",
       "</table>\n",
       "<p>32516 rows × 3 columns</p>\n",
       "</div>"
      ],
      "text/plain": [
       "         pl_name  pl_bmassj  pl_eqt\n",
       "0       11 Com b      19.40     NaN\n",
       "1       11 Com b      17.10     NaN\n",
       "2       11 UMi b      10.80     NaN\n",
       "3       11 UMi b      14.74     NaN\n",
       "4       11 UMi b      10.50     NaN\n",
       "...          ...        ...     ...\n",
       "32511  ups And d       4.10     NaN\n",
       "32512  ups And d      10.25     NaN\n",
       "32513  ups Leo b       0.51     NaN\n",
       "32514   xi Aql b       2.02     NaN\n",
       "32515   xi Aql b       2.80     NaN\n",
       "\n",
       "[32516 rows x 3 columns]"
      ]
     },
     "execution_count": 44,
     "metadata": {},
     "output_type": "execute_result"
    }
   ],
   "source": [
    "df3 = raw_data.loc[:, ['pl_name','pl_bmassj','pl_eqt']]\n",
    "df3"
   ]
  },
  {
   "cell_type": "code",
   "execution_count": 45,
   "id": "b51d578f",
   "metadata": {},
   "outputs": [
    {
     "data": {
      "text/html": [
       "<div>\n",
       "<style scoped>\n",
       "    .dataframe tbody tr th:only-of-type {\n",
       "        vertical-align: middle;\n",
       "    }\n",
       "\n",
       "    .dataframe tbody tr th {\n",
       "        vertical-align: top;\n",
       "    }\n",
       "\n",
       "    .dataframe thead th {\n",
       "        text-align: right;\n",
       "    }\n",
       "</style>\n",
       "<table border=\"1\" class=\"dataframe\">\n",
       "  <thead>\n",
       "    <tr style=\"text-align: right;\">\n",
       "      <th></th>\n",
       "      <th>planetname</th>\n",
       "      <th>mass</th>\n",
       "      <th>temperature</th>\n",
       "    </tr>\n",
       "  </thead>\n",
       "  <tbody>\n",
       "    <tr>\n",
       "      <th>23</th>\n",
       "      <td>1RXS J160929.1-210524 b</td>\n",
       "      <td>12.00000</td>\n",
       "      <td>1700.0</td>\n",
       "    </tr>\n",
       "    <tr>\n",
       "      <th>24</th>\n",
       "      <td>1RXS J160929.1-210524 b</td>\n",
       "      <td>8.00000</td>\n",
       "      <td>1700.0</td>\n",
       "    </tr>\n",
       "    <tr>\n",
       "      <th>25</th>\n",
       "      <td>1RXS J160929.1-210524 b</td>\n",
       "      <td>8.00000</td>\n",
       "      <td>1800.0</td>\n",
       "    </tr>\n",
       "    <tr>\n",
       "      <th>26</th>\n",
       "      <td>1RXS J160929.1-210524 b</td>\n",
       "      <td>8.00000</td>\n",
       "      <td>1800.0</td>\n",
       "    </tr>\n",
       "    <tr>\n",
       "      <th>30</th>\n",
       "      <td>2M0437 b</td>\n",
       "      <td>4.00000</td>\n",
       "      <td>1450.0</td>\n",
       "    </tr>\n",
       "    <tr>\n",
       "      <th>...</th>\n",
       "      <td>...</td>\n",
       "      <td>...</td>\n",
       "      <td>...</td>\n",
       "    </tr>\n",
       "    <tr>\n",
       "      <th>32454</th>\n",
       "      <td>kap And b</td>\n",
       "      <td>13.61600</td>\n",
       "      <td>1900.0</td>\n",
       "    </tr>\n",
       "    <tr>\n",
       "      <th>32473</th>\n",
       "      <td>pi Men c</td>\n",
       "      <td>0.01422</td>\n",
       "      <td>1147.0</td>\n",
       "    </tr>\n",
       "    <tr>\n",
       "      <th>32474</th>\n",
       "      <td>pi Men c</td>\n",
       "      <td>0.01517</td>\n",
       "      <td>1170.0</td>\n",
       "    </tr>\n",
       "    <tr>\n",
       "      <th>32480</th>\n",
       "      <td>rho CrB b</td>\n",
       "      <td>1.04490</td>\n",
       "      <td>614.0</td>\n",
       "    </tr>\n",
       "    <tr>\n",
       "      <th>32482</th>\n",
       "      <td>rho CrB c</td>\n",
       "      <td>0.07866</td>\n",
       "      <td>448.0</td>\n",
       "    </tr>\n",
       "  </tbody>\n",
       "</table>\n",
       "<p>1155 rows × 3 columns</p>\n",
       "</div>"
      ],
      "text/plain": [
       "                    planetname      mass  temperature\n",
       "23     1RXS J160929.1-210524 b  12.00000       1700.0\n",
       "24     1RXS J160929.1-210524 b   8.00000       1700.0\n",
       "25     1RXS J160929.1-210524 b   8.00000       1800.0\n",
       "26     1RXS J160929.1-210524 b   8.00000       1800.0\n",
       "30                    2M0437 b   4.00000       1450.0\n",
       "...                        ...       ...          ...\n",
       "32454                kap And b  13.61600       1900.0\n",
       "32473                 pi Men c   0.01422       1147.0\n",
       "32474                 pi Men c   0.01517       1170.0\n",
       "32480                rho CrB b   1.04490        614.0\n",
       "32482                rho CrB c   0.07866        448.0\n",
       "\n",
       "[1155 rows x 3 columns]"
      ]
     },
     "execution_count": 45,
     "metadata": {},
     "output_type": "execute_result"
    }
   ],
   "source": [
    "df3 = df3.rename(columns={'pl_name':'planetname', 'pl_bmassj':'mass', 'pl_eqt':'temperature'})\n",
    "df3 = df3.dropna()\n",
    "df3"
   ]
  },
  {
   "cell_type": "code",
   "execution_count": 46,
   "id": "d9d147b8",
   "metadata": {},
   "outputs": [],
   "source": [
    "mass = df3.groupby('planetname')['mass'].mean()\n",
    "temp = df3.groupby('planetname')['temperature'].mean()"
   ]
  },
  {
   "cell_type": "code",
   "execution_count": 47,
   "id": "d2159858",
   "metadata": {},
   "outputs": [
    {
     "name": "stdout",
     "output_type": "stream",
     "text": [
      "planetname\n",
      "1RXS J160929.1-210524 b         9.000000\n",
      "2M0437 b                        4.000000\n",
      "2MASS J12073346-3932539 b       4.500000\n",
      "2MASS J21402931+1625183 A b    20.950000\n",
      "51 Eri b                        2.000000\n",
      "                                 ...    \n",
      "bet Pic b                      13.500000\n",
      "kap And b                      13.208000\n",
      "pi Men c                        0.014695\n",
      "rho CrB b                       1.044900\n",
      "rho CrB c                       0.078660\n",
      "Name: mass, Length: 860, dtype: float64\n",
      "planetname\n",
      "1RXS J160929.1-210524 b        1750.0\n",
      "2M0437 b                       1450.0\n",
      "2MASS J12073346-3932539 b      1200.0\n",
      "2MASS J21402931+1625183 A b    2075.0\n",
      "51 Eri b                        700.0\n",
      "                                ...  \n",
      "bet Pic b                      1631.0\n",
      "kap And b                      1790.0\n",
      "pi Men c                       1158.5\n",
      "rho CrB b                       614.0\n",
      "rho CrB c                       448.0\n",
      "Name: temperature, Length: 860, dtype: float64\n"
     ]
    }
   ],
   "source": [
    "print(mass)\n",
    "print(temp)"
   ]
  },
  {
   "cell_type": "code",
   "execution_count": 48,
   "id": "3e6a8af4",
   "metadata": {},
   "outputs": [
    {
     "data": {
      "text/plain": [
       "(array([748.,  54.,  19.,  13.,  10.,   6.,   4.,   3.,   2.,   1.]),\n",
       " array([9.1000000e-04, 3.0008190e+00, 6.0007280e+00, 9.0006370e+00,\n",
       "        1.2000546e+01, 1.5000455e+01, 1.8000364e+01, 2.1000273e+01,\n",
       "        2.4000182e+01, 2.7000091e+01, 3.0000000e+01]),\n",
       " <BarContainer object of 10 artists>)"
      ]
     },
     "execution_count": 48,
     "metadata": {},
     "output_type": "execute_result"
    },
    {
     "data": {
      "image/png": "[encoded data removed]",
      "text/plain": [
       "<Figure size 432x288 with 1 Axes>"
      ]
     },
     "metadata": {
      "needs_background": "light"
     },
     "output_type": "display_data"
    }
   ],
   "source": [
    "plt.hist(mass, color = \"blueviolet\", edgecolor = 'white')"
   ]
  },
  {
   "cell_type": "code",
   "execution_count": 49,
   "id": "6793bd07",
   "metadata": {},
   "outputs": [
    {
     "data": {
      "text/plain": [
       "(array([  7.,  23.,  77., 132.,  60.,  90., 249., 131.,  61.,  30.]),\n",
       " array([-7.00206596, -5.96173962, -4.92141329, -3.88108696, -2.84076062,\n",
       "        -1.80043429, -0.76010795,  0.28021838,  1.32054471,  2.36087105,\n",
       "         3.40119738]),\n",
       " <BarContainer object of 10 artists>)"
      ]
     },
     "execution_count": 49,
     "metadata": {},
     "output_type": "execute_result"
    },
    {
     "data": {
      "image/png": "[encoded data removed]",
      "text/plain": [
       "<Figure size 432x288 with 1 Axes>"
      ]
     },
     "metadata": {
      "needs_background": "light"
     },
     "output_type": "display_data"
    }
   ],
   "source": [
    "mass_log = np.log(mass)\n",
    "plt.hist(mass_log, color = \"blueviolet\", edgecolor = 'red')"
   ]
  },
  {
   "cell_type": "code",
   "execution_count": 50,
   "id": "a1c7f7fa",
   "metadata": {},
   "outputs": [
    {
     "data": {
      "text/plain": [
       "(array([100., 172., 182., 214., 128.,  45.,  16.,   0.,   2.,   1.]),\n",
       " array([  50.,  450.,  850., 1250., 1650., 2050., 2450., 2850., 3250.,\n",
       "        3650., 4050.]),\n",
       " <BarContainer object of 10 artists>)"
      ]
     },
     "execution_count": 50,
     "metadata": {},
     "output_type": "execute_result"
    },
    {
     "data": {
      "image/png": "[encoded data removed]",
      "text/plain": [
       "<Figure size 432x288 with 1 Axes>"
      ]
     },
     "metadata": {
      "needs_background": "light"
     },
     "output_type": "display_data"
    }
   ],
   "source": [
    "plt.hist(temp, color = \"teal\", edgecolor = 'white')"
   ]
  },
  {
   "cell_type": "code",
   "execution_count": 51,
   "id": "17d104ce",
   "metadata": {},
   "outputs": [
    {
     "data": {
      "text/plain": [
       "(array([  4.,   1.,  10.,  23.,  62., 109., 175., 298., 172.,   6.]),\n",
       " array([3.91202301, 4.35146792, 4.79091284, 5.23035775, 5.66980267,\n",
       "        6.10924758, 6.5486925 , 6.98813741, 7.42758233, 7.86702724,\n",
       "        8.30647216]),\n",
       " <BarContainer object of 10 artists>)"
      ]
     },
     "execution_count": 51,
     "metadata": {},
     "output_type": "execute_result"
    },
    {
     "data": {
      "image/png": "[encoded data removed]",
      "text/plain": [
       "<Figure size 432x288 with 1 Axes>"
      ]
     },
     "metadata": {
      "needs_background": "light"
     },
     "output_type": "display_data"
    }
   ],
   "source": [
    "temp_log = np.log(temp)\n",
    "plt.hist(temp_log, color = \"teal\", edgecolor = 'red')"
   ]
  },
  {
   "cell_type": "code",
   "execution_count": 52,
   "id": "43b21e4a",
   "metadata": {},
   "outputs": [],
   "source": [
    "X2_train, X2_test = tts(mass_log)\n",
    "y2_train, y2_test = tts(temp_log)"
   ]
  },
  {
   "cell_type": "code",
   "execution_count": 53,
   "id": "d24006c2",
   "metadata": {},
   "outputs": [
    {
     "name": "stdout",
     "output_type": "stream",
     "text": [
      "     k  Test Score  Train Score\n",
      "0    1   -0.937768     0.783714\n",
      "1    2   -0.479747     0.511221\n",
      "2    3   -0.344874     0.371406\n",
      "3    4   -0.312990     0.291666\n",
      "4    5   -0.209980     0.248841\n",
      "..  ..         ...          ...\n",
      "69  70   -0.025192     0.029495\n",
      "70  71   -0.025288     0.028231\n",
      "71  72   -0.022345     0.028540\n",
      "72  73   -0.021702     0.028763\n",
      "73  74   -0.021578     0.029968\n",
      "\n",
      "[74 rows x 3 columns]\n",
      "The highest Test R-squared value occurs at : -0.0204\n",
      "Within given range, optimal k is:  65\n"
     ]
    }
   ],
   "source": [
    "# kNN R-squared accuracy\n",
    "knn_r_acc_2 = []\n",
    "for i2 in range(1, 75, 1):\n",
    "    knn_2 = KNeighborsRegressor(n_neighbors = i2)\n",
    "    knn_2.fit(X2_train.reshape(-1, 1), y2_train.reshape(-1, 1))\n",
    "    test_score_2 = knn_2.score(X2_test.reshape(-1, 1), y2_test.reshape(-1, 1))\n",
    "    train_score_2 = knn_2.score(X2_train.reshape(-1, 1), y2_train.reshape(-1, 1))\n",
    "    knn_r_acc_2.append((i2, test_score_2, train_score_2))\n",
    "outcomes_2 = pd.DataFrame(knn_r_acc_2, columns = ['k', 'Test Score', 'Train Score'])\n",
    "print(outcomes_2)\n",
    "print('The highest Test R-squared value occurs at : %.4f' % outcomes_2.iloc[:,1].max())\n",
    "print('Within given range, optimal k is: ', outcomes_2.loc[outcomes_2['Test Score'] == outcomes_2.iloc[:,1].max(), 'k'].iloc[0])"
   ]
  },
  {
   "cell_type": "code",
   "execution_count": 54,
   "id": "044f5593",
   "metadata": {},
   "outputs": [],
   "source": [
    "model_knn_2 = KNeighborsRegressor(n_neighbors = 65)\n",
    "model_knn_2.fit(X2_train.reshape(-1, 1), y2_train.reshape(-1, 1))\n",
    "y_knn_train_pred_2 = model_knn_2.predict(X2_train.reshape(-1, 1))\n",
    "y_knn_test_pred_2 = model_knn_2.predict(X2_test.reshape(-1, 1))"
   ]
  },
  {
   "cell_type": "code",
   "execution_count": 55,
   "id": "476e7bf2",
   "metadata": {},
   "outputs": [
    {
     "ename": "NameError",
     "evalue": "name 'train_set_1' is not defined",
     "output_type": "error",
     "traceback": [
      "\u001b[1;31m---------------------------------------------------------------------------\u001b[0m",
      "\u001b[1;31mNameError\u001b[0m                                 Traceback (most recent call last)",
      "Input \u001b[1;32mIn [55]\u001b[0m, in \u001b[0;36m<cell line: 1>\u001b[1;34m()\u001b[0m\n\u001b[1;32m----> 1\u001b[0m df1_scaled \u001b[38;5;241m=\u001b[39m \u001b[43mtrain_set_1\u001b[49m\u001b[38;5;241m.\u001b[39mcopy()\n\u001b[0;32m      2\u001b[0m df1_scaled\u001b[38;5;241m.\u001b[39mcolumns \u001b[38;5;241m=\u001b[39m [\u001b[38;5;124m'\u001b[39m\u001b[38;5;124morbitperiod\u001b[39m\u001b[38;5;124m'\u001b[39m, \u001b[38;5;124m'\u001b[39m\u001b[38;5;124meccentricity\u001b[39m\u001b[38;5;124m'\u001b[39m]\n\u001b[0;32m      3\u001b[0m df1_scaled\n",
      "\u001b[1;31mNameError\u001b[0m: name 'train_set_1' is not defined"
     ]
    }
   ],
   "source": [
    "df1_scaled = train_set_1.copy()\n",
    "df1_scaled.columns = ['orbitperiod', 'eccentricity']\n",
    "df1_scaled"
   ]
  },
  {
   "cell_type": "code",
   "execution_count": null,
   "id": "6512af5a",
   "metadata": {},
   "outputs": [],
   "source": [
    "y_knn_test_pred2_scaled.shape"
   ]
  },
  {
   "cell_type": "code",
   "execution_count": null,
   "id": "de5f57a9",
   "metadata": {},
   "outputs": [],
   "source": [
    "y_knn_test_pred2_scaled[:,0]"
   ]
  },
  {
   "cell_type": "code",
   "execution_count": null,
   "id": "00a567ea",
   "metadata": {},
   "outputs": [],
   "source": [
    "some_array = [df1_scaled[:,0],y_knn_test_pred2_scaled]\n",
    "y_knn_pred2 = rs.inverse_transform(y_knn_test_pred2_scaled)\n",
    "y_knn_pred2"
   ]
  },
  {
   "cell_type": "code",
   "execution_count": null,
   "id": "1e3a282a",
   "metadata": {},
   "outputs": [],
   "source": [
    "X2_test.shape"
   ]
  },
  {
   "cell_type": "code",
   "execution_count": null,
   "id": "2991f1e0",
   "metadata": {},
   "outputs": [],
   "source": [
    "type(X2_test)"
   ]
  },
  {
   "cell_type": "code",
   "execution_count": null,
   "id": "af4cea2c",
   "metadata": {},
   "outputs": [],
   "source": [
    "y2_train.shape"
   ]
  },
  {
   "cell_type": "code",
   "execution_count": null,
   "id": "8b8c18e4",
   "metadata": {},
   "outputs": [],
   "source": [
    "X2_train.shape"
   ]
  },
  {
   "cell_type": "code",
   "execution_count": null,
   "id": "d596f021",
   "metadata": {},
   "outputs": [],
   "source": [
    "type(X2_train)"
   ]
  },
  {
   "cell_type": "code",
   "execution_count": null,
   "id": "4ff4a565",
   "metadata": {},
   "outputs": [],
   "source": [
    "X2_train"
   ]
  },
  {
   "cell_type": "code",
   "execution_count": null,
   "id": "754bf339",
   "metadata": {},
   "outputs": [],
   "source": [
    "# kNN R-squared accuracy\n",
    "knn_r_acc = []\n",
    "for i1 in range(1, 75, 1):\n",
    "    knn = KNeighborsRegressor(n_neighbors = i1)\n",
    "    knn.fit(X2_train.reshape(-1, 1), y2_train.reshape(-1, 1))\n",
    "    test_score = knn.score(X2_test.reshape(-1, 1), y2_test.reshape(-1, 1))\n",
    "    train_score = knn.score(X2_train.reshape(-1, 1), y2_train.reshape(-1, 1))\n",
    "    knn_r_acc.append((i1, test_score, train_score))\n",
    "outcomes = pd.DataFrame(knn_r_acc, columns = ['k', 'Test Score', 'Train Score'])\n",
    "print(outcomes)\n",
    "print('The highest Test R-squared value occurs at : %.4f' % outcomes.iloc[:,1].max())\n",
    "print('Within given range, optimal k is: ', outcomes.loc[outcomes['Test Score'] == outcomes.iloc[:,1].max(), 'k'].iloc[0])"
   ]
  },
  {
   "cell_type": "markdown",
   "id": "49b30045",
   "metadata": {},
   "source": [
    "Notice that the above block of code determines optimal k for kNN without the use of scaling. I did this same algorithm after scaling and the R-squared values obtained were incosistent."
   ]
  },
  {
   "cell_type": "code",
   "execution_count": null,
   "id": "58ac35ac",
   "metadata": {},
   "outputs": [],
   "source": [
    "training_scaled = [X2_train, y2_train]\n",
    "train_x_scale = rs.transform(training_scaled)\n",
    "rs1_1 = RobustScaler().fit(X2_train.reshape(-1, 1))\n",
    "rs1_2 = RobustScaler().fit(y2_train.reshape(-1, 1))\n",
    "rs1_3 = RobustScaler().fit(X2_test.reshape(-1, 1))\n",
    "rs1_4 = RobustScaler().fit(y2_test.reshape(-1, 1))\n",
    "# Transformer1 is the x2 train scaled data, and transformer 2 is the y2 training data scaled.\n",
    "# Similar logic for the testing data sets.\n",
    "x2_train_scale = rs1_1.transform(X2_train.reshape(-1, 1))\n",
    "y2_train_scale = rs1_2.transform(y2_train.reshape(-1, 1))\n",
    "x2_test_scale = rs1_3.transform(X2_test.reshape(-1, 1))\n",
    "y2_test_scale = rs1_4.transform(y2_test.reshape(-1, 1))"
   ]
  },
  {
   "cell_type": "code",
   "execution_count": null,
   "id": "59e818b2",
   "metadata": {},
   "outputs": [],
   "source": [
    "x2_train_scale"
   ]
  },
  {
   "cell_type": "code",
   "execution_count": null,
   "id": "a3b9a4a1",
   "metadata": {},
   "outputs": [],
   "source": [
    "x2_train_scale.shape"
   ]
  },
  {
   "cell_type": "code",
   "execution_count": null,
   "id": "470940ab",
   "metadata": {},
   "outputs": [],
   "source": [
    "type(x2_train_scale)"
   ]
  },
  {
   "cell_type": "code",
   "execution_count": null,
   "id": "d6a5a228",
   "metadata": {},
   "outputs": [],
   "source": [
    "x2_train_scale"
   ]
  },
  {
   "cell_type": "code",
   "execution_count": null,
   "id": "d743d6d2",
   "metadata": {},
   "outputs": [],
   "source": [
    "# kNN R-squared accuracy\n",
    "knn_r_acc = []\n",
    "for i in range(1, 75, 1):\n",
    "    knn = KNeighborsRegressor(n_neighbors = i)\n",
    "    knn.fit(x2_train_scale, y2_train_scale)\n",
    "    test_score = knn.score(x2_test_scale, y2_test_scale)\n",
    "    train_score = knn.score(x2_train_scale, y2_train_scale)\n",
    "    knn_r_acc.append((i, test_score, train_score))\n",
    "outcomes = pd.DataFrame(knn_r_acc, columns = ['k', 'Test Score', 'Train Score'])\n",
    "print(outcomes)\n",
    "print('The highest Test R-squared value occurs at : %.4f' % outcomes.iloc[:,1].max())\n",
    "print('Within given range, optimal k is: ', outcomes.loc[outcomes['Test Score'] == outcomes.iloc[:,1].max(), 'k'].iloc[0])"
   ]
  },
  {
   "cell_type": "code",
   "execution_count": null,
   "id": "73cbc48d",
   "metadata": {},
   "outputs": [],
   "source": [
    "knn_model_2 = KNeighborsRegressor(n_neighbors = 59)\n",
    "knn_model_2.fit(x2_train_scale, y2_train_scale)\n",
    "y_knn_train_pred2_scaled = knn_model_2.predict(x2_train_scale)\n",
    "y_knn_test_pred2_scaled = knn_model_2.predict(x2_test_scale)"
   ]
  },
  {
   "cell_type": "code",
   "execution_count": null,
   "id": "e475f914",
   "metadata": {},
   "outputs": [],
   "source": [
    "y_knn_test_pred2_scaled"
   ]
  },
  {
   "cell_type": "code",
   "execution_count": null,
   "id": "3f0b737f",
   "metadata": {},
   "outputs": [],
   "source": [
    "y_knn_test_pred2_scaled.shape"
   ]
  },
  {
   "cell_type": "code",
   "execution_count": null,
   "id": "a1408969",
   "metadata": {},
   "outputs": [],
   "source": [
    "type(y_knn_test_pred2_scaled)"
   ]
  },
  {
   "cell_type": "code",
   "execution_count": null,
   "id": "b07c2a3d",
   "metadata": {},
   "outputs": [],
   "source": [
    "y_knn_test_pred2_scaled.ndim"
   ]
  },
  {
   "cell_type": "code",
   "execution_count": null,
   "id": "6f36df02",
   "metadata": {},
   "outputs": [],
   "source": [
    "y_knn_pred2 = rs1_3.inverse_transform(y_knn_test_pred2_scaled)\n",
    "y_knn_pred2"
   ]
  },
  {
   "cell_type": "code",
   "execution_count": null,
   "id": "8017f055",
   "metadata": {},
   "outputs": [],
   "source": [
    "r2_score(x2_test_scale, y_knn_test_pred2_scaled)"
   ]
  },
  {
   "cell_type": "code",
   "execution_count": null,
   "id": "94eb7bb7",
   "metadata": {},
   "outputs": [],
   "source": [
    "plt.scatter(y2_test, y_knn_pred2)"
   ]
  },
  {
   "cell_type": "code",
   "execution_count": null,
   "id": "8c61881f",
   "metadata": {},
   "outputs": [],
   "source": [
    "#X1 = df2_scaled[['orbitperiod']]\n",
    "#y1 = df2_scaled[['eccentricity']]\n",
    "X1 = transformer[:,0]\n",
    "y1 = transformer[:,1]\n",
    "X1_train, X1_test = tts(X1)\n",
    "y1_train, y1_test = tts(y1)\n",
    "X1_train, y1_train = pd.DataFrame(X1_train), pd.DataFrame(y1_train)\n",
    "X1_test, y1_test = pd.DataFrame(X1_test), pd.DataFrame(y1_test)\n",
    "print('\\nTraining X1 shape: ', X1_train.shape)\n",
    "print('Training y1 shape: ', y1_train.shape)\n",
    "print('Test X1 shape: ', X1_test.shape)\n",
    "print('Test y1 shape: ', y1_test.shape)"
   ]
  },
  {
   "cell_type": "code",
   "execution_count": null,
   "id": "cf7db0c9",
   "metadata": {},
   "outputs": [],
   "source": [
    "y2_test.head()"
   ]
  },
  {
   "cell_type": "code",
   "execution_count": null,
   "id": "cb64d789",
   "metadata": {},
   "outputs": [],
   "source": [
    "knn_model_2 = KNeighborsRegressor(n_neighbors = 68)\n",
    "knn_model_2.fit(transformer1[:,0], transformer1[:,1])\n",
    "y_knn_train_pred2_scaled = knn_model_2.predict(transformer1[:,1])\n",
    "y_knn_test_pred2_scaled = knn_model_2.predict(transformer2[:,0])"
   ]
  },
  {
   "cell_type": "markdown",
   "id": "780a3938",
   "metadata": {},
   "source": [
    "Will run kNN for various values of n_neighbors and store results. This will help me determine optimal 'k'."
   ]
  },
  {
   "cell_type": "code",
   "execution_count": null,
   "id": "10416d04",
   "metadata": {},
   "outputs": [],
   "source": [
    "# kNN R-squared accuracy\n",
    "knn_r_acc = []\n",
    "for i in range(1, 75, 1):\n",
    "    knn = KNeighborsRegressor(n_neighbors = i)\n",
    "    knn.fit(X1_train, y1_train)\n",
    "    test_score = knn.score(X1_test, y1_test)\n",
    "    train_score = knn.score(X1_train, y1_train)\n",
    "    knn_r_acc.append((i, test_score, train_score))\n",
    "outcomes = pd.DataFrame(knn_r_acc, columns = ['k', 'Test Score', 'Train Score'])\n",
    "print(outcomes)\n",
    "print('The highest Test R-squared value occurs at : %.4f' % outcomes.iloc[:,1].max())\n",
    "print('Within given range, optimal k is: ', outcomes.loc[outcomes['Test Score'] == outcomes.iloc[:,1].max(), 'k'].iloc[0])"
   ]
  },
  {
   "cell_type": "markdown",
   "id": "ffbc7a4a",
   "metadata": {},
   "source": [
    "Logic above details optimal k for building model.\n",
    "Will now create the kNN model."
   ]
  },
  {
   "cell_type": "code",
   "execution_count": null,
   "id": "8be60625",
   "metadata": {},
   "outputs": [],
   "source": [
    "knn_model_1 = KNeighborsRegressor(n_neighbors = 68)\n",
    "knn_model_1.fit(X1_train, y1_train)\n",
    "y_knn_train_pred1_scaled = knn_model_1.predict(X1_train)\n",
    "y_knn_test_pred1_scaled = knn_model_1.predict(X1_test)"
   ]
  },
  {
   "cell_type": "code",
   "execution_count": null,
   "id": "8124a170",
   "metadata": {},
   "outputs": [],
   "source": [
    "y_knn_train_pred1_scaled.shape "
   ]
  },
  {
   "cell_type": "code",
   "execution_count": null,
   "id": "a20e49ee",
   "metadata": {},
   "outputs": [],
   "source": [
    "scaled_pred = np.array(y_knn_test_pred1_scaled)\n",
    "scaled_pred"
   ]
  },
  {
   "cell_type": "code",
   "execution_count": null,
   "id": "89c8560e",
   "metadata": {},
   "outputs": [],
   "source": [
    "scaled_pred.shape"
   ]
  },
  {
   "cell_type": "code",
   "execution_count": null,
   "id": "449ae864",
   "metadata": {},
   "outputs": [],
   "source": [
    "scaled_pred.ndim"
   ]
  },
  {
   "cell_type": "code",
   "execution_count": null,
   "id": "673e9b64",
   "metadata": {},
   "outputs": [],
   "source": [
    "transformer.shape"
   ]
  },
  {
   "cell_type": "code",
   "execution_count": null,
   "id": "8699fd51",
   "metadata": {},
   "outputs": [],
   "source": [
    "y_knn_test_pred1_scaled"
   ]
  },
  {
   "cell_type": "code",
   "execution_count": null,
   "id": "ce76ce74",
   "metadata": {},
   "outputs": [],
   "source": [
    "#some_array = np.array([X1_test, y_knn_test_pred1_scaled])\n",
    "some_array = np.append(X1_test, y_knn_test_pred1_scaled, 1)\n",
    "type(some_array)"
   ]
  },
  {
   "cell_type": "code",
   "execution_count": null,
   "id": "794000a7",
   "metadata": {},
   "outputs": [],
   "source": [
    "some_array.shape"
   ]
  },
  {
   "cell_type": "code",
   "execution_count": null,
   "id": "64141fae",
   "metadata": {},
   "outputs": [],
   "source": [
    "some_array"
   ]
  },
  {
   "cell_type": "code",
   "execution_count": null,
   "id": "51ec1284",
   "metadata": {},
   "outputs": [],
   "source": [
    "some_array[:,0]"
   ]
  },
  {
   "cell_type": "code",
   "execution_count": null,
   "id": "dc87d63a",
   "metadata": {},
   "outputs": [],
   "source": [
    "z = rs.inverse_transform(transformer)\n",
    "scaled_testdata = np.append(X1_test, y1_test, 1)\n",
    "z1 = rs.inverse_transform(scaled_testdata)\n",
    "z1"
   ]
  },
  {
   "cell_type": "code",
   "execution_count": null,
   "id": "ef3f0d9c",
   "metadata": {},
   "outputs": [],
   "source": [
    "z1.shape"
   ]
  },
  {
   "cell_type": "code",
   "execution_count": null,
   "id": "563c07e3",
   "metadata": {},
   "outputs": [],
   "source": [
    "z1[:,1]"
   ]
  },
  {
   "cell_type": "code",
   "execution_count": null,
   "id": "e83aa239",
   "metadata": {},
   "outputs": [],
   "source": [
    "y_knn_pred1.shape"
   ]
  },
  {
   "cell_type": "code",
   "execution_count": null,
   "id": "c6b4fed4",
   "metadata": {},
   "outputs": [],
   "source": [
    "y_knn_pred1 = rs.inverse_transform(some_array)\n",
    "#y_knn_pred1 = rs.inverse_transform(y_knn_test_pred1_scaled)"
   ]
  },
  {
   "cell_type": "code",
   "execution_count": null,
   "id": "7436b5d4",
   "metadata": {},
   "outputs": [],
   "source": [
    "print(y_knn_pred1)"
   ]
  },
  {
   "cell_type": "code",
   "execution_count": null,
   "id": "0dd6112f",
   "metadata": {},
   "outputs": [],
   "source": [
    "y_knn_pred1[:,1]"
   ]
  },
  {
   "cell_type": "code",
   "execution_count": null,
   "id": "7e733746",
   "metadata": {},
   "outputs": [],
   "source": [
    "plt.scatter(z1[:,1], y_knn_pred1[:,1])\n",
    "plt(axis='equal)')"
   ]
  },
  {
   "cell_type": "code",
   "execution_count": null,
   "id": "f59a0f19",
   "metadata": {},
   "outputs": [],
   "source": [
    "y_knn_test_pred1_scaled.shape "
   ]
  },
  {
   "cell_type": "code",
   "execution_count": null,
   "id": "7c96dcc4",
   "metadata": {},
   "outputs": [],
   "source": [
    "len(df2_scaled)"
   ]
  },
  {
   "cell_type": "code",
   "execution_count": null,
   "id": "5fe6583c",
   "metadata": {},
   "outputs": [],
   "source": [
    "print(y_knn_train_pred1_scaled.ravel)"
   ]
  },
  {
   "cell_type": "code",
   "execution_count": null,
   "id": "838cdd8a",
   "metadata": {},
   "outputs": [],
   "source": [
    "df3 = pd.DataFrame(scaled_data)\n",
    "df3.hist()"
   ]
  },
  {
   "cell_type": "code",
   "execution_count": null,
   "id": "ea27c2a8",
   "metadata": {},
   "outputs": [],
   "source": [
    "df3"
   ]
  },
  {
   "cell_type": "markdown",
   "id": "2e31169c",
   "metadata": {},
   "source": [
    "The next section of code will use Robust Scaling to properly scale the dataframe. I want to use the kNN supervised learning model, but it is distance based and thus sensitive to scale of the data points."
   ]
  },
  {
   "cell_type": "code",
   "execution_count": null,
   "id": "d430b49c",
   "metadata": {},
   "outputs": [],
   "source": [
    "# Generate random predictions.\n",
    "def random_algorithm(train, test):\n",
    "    #output_values = [row[-1] for row in train]\n",
    "    output_values = [row[-1] for row in train]\n",
    "    unique = list(set(output_values))\n",
    "    predicted = list()\n",
    "    for row in test:\n",
    "        index = randrange(len(unique))\n",
    "        predicted.append(unique[index])\n",
    "    return predicted"
   ]
  },
  {
   "cell_type": "code",
   "execution_count": null,
   "id": "86218eb1",
   "metadata": {},
   "outputs": [],
   "source": [
    "def the_real_random_algo(train_list, test_list):\n",
    "    predicted = []\n",
    "    for row in test_list:\n",
    "        index = randrange(len(train_list))\n",
    "        predicted.append(train_list[index])\n",
    "    return predicted"
   ]
  },
  {
   "cell_type": "markdown",
   "id": "feb0d9d5",
   "metadata": {},
   "source": [
    "For regression problem, the mean of the target (dependent variable) values can serve as a good baseline."
   ]
  },
  {
   "cell_type": "code",
   "execution_count": 56,
   "id": "c7048775",
   "metadata": {},
   "outputs": [
    {
     "ename": "NameError",
     "evalue": "name 'y' is not defined",
     "output_type": "error",
     "traceback": [
      "\u001b[1;31m---------------------------------------------------------------------------\u001b[0m",
      "\u001b[1;31mNameError\u001b[0m                                 Traceback (most recent call last)",
      "Input \u001b[1;32mIn [56]\u001b[0m, in \u001b[0;36m<cell line: 2>\u001b[1;34m()\u001b[0m\n\u001b[0;32m      1\u001b[0m \u001b[38;5;66;03m#y_pred = y_train.mean()\u001b[39;00m\n\u001b[1;32m----> 2\u001b[0m y_pred \u001b[38;5;241m=\u001b[39m \u001b[43my\u001b[49m\u001b[38;5;241m.\u001b[39mmean() \u001b[38;5;66;03m# <- this method is probably best practice as opposed to line above.\u001b[39;00m\n\u001b[0;32m      3\u001b[0m y_pred\n",
      "\u001b[1;31mNameError\u001b[0m: name 'y' is not defined"
     ]
    }
   ],
   "source": [
    "#y_pred = y_train.mean()\n",
    "y_pred = y.mean() # <- this method is probably best practice as opposed to line above.\n",
    "y_pred"
   ]
  },
  {
   "cell_type": "raw",
   "id": "77c9bfd9",
   "metadata": {},
   "source": [
    "Want to see the arithmetic mean of the orbital period from the given data set."
   ]
  },
  {
   "cell_type": "code",
   "execution_count": null,
   "id": "169d7d7b",
   "metadata": {},
   "outputs": [],
   "source": [
    "x6.orbitperiod.mean()"
   ]
  },
  {
   "cell_type": "code",
   "execution_count": null,
   "id": "db66ec6f",
   "metadata": {},
   "outputs": [],
   "source": [
    "y_pred2 = [y_pred] * len(y_train)\n",
    "y_pred2"
   ]
  },
  {
   "cell_type": "code",
   "execution_count": null,
   "id": "0744f81e",
   "metadata": {},
   "outputs": [],
   "source": [
    "from sklearn.metrics import mean_absolute_error, mean_squared_error"
   ]
  },
  {
   "cell_type": "code",
   "execution_count": null,
   "id": "731fe6b5",
   "metadata": {},
   "outputs": [],
   "source": [
    "# Error for training data baseline guess.\n",
    "mean_abs_err = mean_absolute_error(y_train, y_pred2)\n",
    "mean_abs_err"
   ]
  },
  {
   "cell_type": "markdown",
   "id": "5107b784",
   "metadata": {},
   "source": [
    "So MAE is 0.6799 so the models we work with want to have a lower MAE"
   ]
  },
  {
   "cell_type": "code",
   "execution_count": null,
   "id": "c6893e56",
   "metadata": {},
   "outputs": [],
   "source": [
    "# Mean squared error for training data baseline guess.\n",
    "mean_sqrd = mean_squared_error(y_train, y_pred2)\n",
    "mean_sqrd"
   ]
  },
  {
   "cell_type": "markdown",
   "id": "d1c85580",
   "metadata": {},
   "source": [
    "So our mean squared error is 0.8305."
   ]
  },
  {
   "cell_type": "markdown",
   "id": "8cefc518",
   "metadata": {},
   "source": [
    "Now want to obtian metric for test data set.\n"
   ]
  },
  {
   "cell_type": "code",
   "execution_count": null,
   "id": "55d3f2f9",
   "metadata": {},
   "outputs": [],
   "source": [
    "# Prediction for y_test\n",
    "y_pred3 = [y_pred] * len(y_test)\n",
    "y_pred3\n",
    "# Mean absolute error for test data\n",
    "mae = mean_absolute_error(y_test, y_pred3)\n",
    "# Mean squared error for test data\n",
    "mse = mean_squared_error(y_test, y_pred3)\n",
    "print(f'mae: {mae} \\nMSE: {mse}')"
   ]
  },
  {
   "cell_type": "markdown",
   "id": "a9ff64d7",
   "metadata": {},
   "source": [
    "Notice MAE for test data is slightly lower than MAE for training data.\n",
    "i.e. 0.626 < 0.678"
   ]
  },
  {
   "cell_type": "code",
   "execution_count": null,
   "id": "48fa397f",
   "metadata": {},
   "outputs": [],
   "source": [
    "y_test_r2 = r2_score(y_test, y_pred3)\n",
    "print(f'Test Set R2: {y_test_r2}')"
   ]
  },
  {
   "cell_type": "code",
   "execution_count": null,
   "id": "0ae7aaef",
   "metadata": {},
   "outputs": [],
   "source": [
    "plt.scatter(X, y, c = 'crimson')"
   ]
  },
  {
   "cell_type": "code",
   "execution_count": null,
   "id": "abe74676",
   "metadata": {},
   "outputs": [],
   "source": [
    "# Test the function above against the previous data.\n",
    "#predictions = random_algorithm([x_train], [x_test])\n",
    "predictions = the_real_random_algo(list2, list3)\n",
    "predictions0 = the_real_random_algo([x_train, y_train], [x_test, y_test])\n",
    "predictions02 = the_real_random_algo(y_train, y_test)\n",
    "print(predictions0)\n",
    "print(len(predictions0))\n",
    "print((predictions02))"
   ]
  },
  {
   "cell_type": "code",
   "execution_count": null,
   "id": "a9475b89",
   "metadata": {},
   "outputs": [],
   "source": [
    "#predictions01 = the_real_random_algo(x_train, x_test)\n",
    "#some_mse = mean_squared_error(y_test, predictions0)\n",
    "#print(some_mse)"
   ]
  },
  {
   "cell_type": "code",
   "execution_count": null,
   "id": "aca377de",
   "metadata": {},
   "outputs": [],
   "source": [
    "# Will name the performance metrics for the prediction set as \"some\" so as to imply generality.\n",
    "#some_mse = mean_squared_error(y_train,predictions02)\n",
    "#some_r2 = r2_score(w2_train, y_svr_train_pred)"
   ]
  },
  {
   "cell_type": "markdown",
   "id": "9a876d3c",
   "metadata": {},
   "source": [
    "Did calculations on the training and testing lists before converting them to a dataframe."
   ]
  },
  {
   "cell_type": "code",
   "execution_count": null,
   "id": "8f8a6002",
   "metadata": {},
   "outputs": [],
   "source": [
    "x_train, y_train = pd.DataFrame(x_train), pd.DataFrame(y_train)\n",
    "x_test, y_test = pd.DataFrame(x_test), pd.DataFrame(y_test)\n",
    "print('\\nTraining x shape: ', x_train.shape)\n",
    "print('Training y shape: ', y_train.shape)\n",
    "print('Test x shape: ', x_test.shape)\n",
    "print('Test y shape: ', y_test.shape)"
   ]
  },
  {
   "cell_type": "markdown",
   "id": "29b6ee57",
   "metadata": {},
   "source": [
    "Want to establish a baseline to compare to the ML model against. Will create a funciton using the Random Prediction Algorithm."
   ]
  },
  {
   "cell_type": "code",
   "execution_count": null,
   "id": "b6e44e43",
   "metadata": {},
   "outputs": [],
   "source": [
    "knn_r_acc = []\n",
    "for j in range(1, 60, 1):\n",
    "    knn = KNeighborsRegressor(n_neighbors = j)\n",
    "    knn.fit(x_train, y_train)\n",
    "    \n",
    "    test_score = knn.score(x_test, y_test)\n",
    "    train_score = knn.score(x_train, y_train)\n",
    "    \n",
    "    knn_r_acc.append((j, test_score, train_score))\n",
    "   \n",
    "results = pd.DataFrame(knn_r_acc, columns = ['k', 'Test Score', 'Train Score'])\n",
    "print(results)\n",
    "print(results.iloc[:,1].max())\n",
    "print(results.loc[results['Test Score'] == results.iloc[:,1].max(), 'k'].iloc[0])"
   ]
  },
  {
   "cell_type": "markdown",
   "id": "a1025703",
   "metadata": {},
   "source": [
    "According to the results above, k = 29 seems to be the best k. What is concerning is that I feel if I extended the 'for' loop to a higher value, perhaps I would see a better performing k value."
   ]
  },
  {
   "cell_type": "markdown",
   "id": "dbb58c36",
   "metadata": {},
   "source": [
    "Now, by adjusting the range of for loop to 45, found the optimal k to be k = 40."
   ]
  },
  {
   "cell_type": "markdown",
   "id": "c499a7b0",
   "metadata": {},
   "source": [
    "Will now create the kNN model."
   ]
  },
  {
   "cell_type": "code",
   "execution_count": null,
   "id": "a41d353e",
   "metadata": {},
   "outputs": [],
   "source": [
    "model_knn = KNeighborsRegressor(n_neighbors = 40)\n",
    "model_knn.fit(x_train, y_train)\n",
    "y_knn_train_pred = model_knn.predict(x_train)\n",
    "y_knn_test_pred = model_knn.predict(x_test)"
   ]
  },
  {
   "cell_type": "markdown",
   "id": "f22efc2b",
   "metadata": {},
   "source": [
    "For model performace, first the training mean square error and R2 score."
   ]
  },
  {
   "cell_type": "code",
   "execution_count": null,
   "id": "f0513384",
   "metadata": {},
   "outputs": [],
   "source": [
    "knn_train_mse = mean_squared_error(y_train, y_knn_train_pred)\n",
    "knn_train_r2 = r2_score(y_train, y_knn_train_pred)\n",
    "# Now, test mean square and r2 score.\n",
    "knn_test_mse = mean_squared_error(y_test, y_knn_test_pred)\n",
    "knn_test_r2 = r2_score(y_test, y_knn_test_pred)\n",
    "# Consolidate the results.\n",
    "knn_results = pd.DataFrame(['k Nearest Neighbor', knn_train_mse, knn_train_r2, knn_test_mse, knn_test_r2]).transpose()\n",
    "#results1 = pd.DataFrame(columns = ['Method', 'Training MSE', 'Training R2', 'Test MSE', 'Test R2'])\n",
    "results1 = pd.DataFrame()\n",
    "results1 = pd.concat([results1, knn_results])\n",
    "print(results1)\n",
    "#knn_results.columns = ['Method', 'Training MSE', 'Training R2', 'Test MSE', 'Test R2']\n",
    "#print(knn_results)"
   ]
  },
  {
   "cell_type": "code",
   "execution_count": null,
   "id": "353ea512",
   "metadata": {},
   "outputs": [],
   "source": [
    "len(y_knn_test_pred)"
   ]
  },
  {
   "cell_type": "code",
   "execution_count": null,
   "id": "415a7842",
   "metadata": {},
   "outputs": [],
   "source": [
    "len(y_test)"
   ]
  },
  {
   "cell_type": "code",
   "execution_count": null,
   "id": "3e2b26e8",
   "metadata": {},
   "outputs": [],
   "source": [
    "g = plt.plot(true_values - predicted_values, marker = 'o', linestyle = '')"
   ]
  },
  {
   "cell_type": "code",
   "execution_count": null,
   "id": "22da7d2b",
   "metadata": {},
   "outputs": [],
   "source": [
    "#from yellowbrick.regressor import prediction_error\n",
    "#model = Lasso()\n",
    "#visualizer = prediciton_error(model, x_train, y_train, x_test, y_test)"
   ]
  },
  {
   "cell_type": "code",
   "execution_count": null,
   "id": "a1303211",
   "metadata": {},
   "outputs": [],
   "source": [
    "#Set plot size\n",
    "#plt.subplots(figsize=(10,5))\n",
    "#Set X-Axis range\n",
    "#plt.xlim(min(true_values), max(true_values))\n",
    "#plt.title('Model Error Distribution')\n",
    "#plt.ylabel('No. of Predictions')\n",
    "#plt.xlabel('Error')\n",
    "#plt.hist(predictions['error'], bins=np.linspace(min(test_values), max(test_values), num=41, dtype=int));\n",
    "#plt.show()"
   ]
  },
  {
   "cell_type": "code",
   "execution_count": null,
   "id": "f9d0a029",
   "metadata": {},
   "outputs": [],
   "source": [
    "residuals = true_values - predicted_values\n",
    "plt.scatter(true_values, residuals)\n"
   ]
  },
  {
   "cell_type": "markdown",
   "id": "c97c4536",
   "metadata": {},
   "source": [
    "There is an obvious positive linear relationship which indicates that the kNN model is not best supervised learning model for this data."
   ]
  },
  {
   "cell_type": "code",
   "execution_count": null,
   "id": "e2f1d4df",
   "metadata": {},
   "outputs": [],
   "source": [
    "w1 = x6.iloc[:, 0:1].values\n",
    "w2 = x6.iloc[:, 1:2].values\n",
    "from sklearn.preprocessing import StandardScaler\n",
    "sc_X = StandardScaler()\n",
    "sc_y = StandardScaler()\n",
    "w3 = sc_X.fit_transform(w1)\n",
    "w4 = sc_y.fit_transform(w2)\n",
    "w1_train, w1_test = tts(w3)\n",
    "w2_train, w2_test = tts(w4)"
   ]
  },
  {
   "cell_type": "code",
   "execution_count": null,
   "id": "26bace87",
   "metadata": {},
   "outputs": [],
   "source": [
    "print(len(w1_train))\n",
    "print(len(w1))\n",
    "print(len(w1_test))"
   ]
  },
  {
   "cell_type": "code",
   "execution_count": null,
   "id": "5dcd60cc",
   "metadata": {},
   "outputs": [],
   "source": [
    "from sklearn.svm import SVR\n",
    "regressor = SVR(kernel = 'rbf')\n",
    "regressor.fit(w1_train, w2_train)\n",
    "y_svr_train_pred = regressor.predict(w1_train)\n",
    "y_svr_test_pred = regressor.predict(w1_test)\n",
    "# Model performance\n",
    "svr_train_mse = mean_squared_error(w2_train, y_svr_train_pred)\n",
    "svr_train_r2 = r2_score(w2_train, y_svr_train_pred)\n",
    "# Test results\n",
    "svr_test_mse = mean_squared_error(w2_test, y_svr_test_pred)\n",
    "svr_test_r2 = r2_score(w2_test, y_svr_test_pred)\n",
    "# Consolidate the results.\n",
    "#svr_results = pd.DataFrame(['SVR', svr_train_mse, svr_train_r2, svr_test_mse, svr_test_r2]).T\n",
    "svr_results = pd.DataFrame(['SVR', svr_train_mse, svr_train_r2, svr_test_mse, svr_test_r2])\n",
    "#results2 = pd.concat([knn_results, svr_results.T], ignore_index = False)\n",
    "#print(results2)"
   ]
  },
  {
   "cell_type": "code",
   "execution_count": null,
   "id": "8db760f2",
   "metadata": {},
   "outputs": [],
   "source": [
    "results2 = pd.concat([knn_results,svr_results.T], ignore_index = True)\n",
    "results2.columns = ['Method', 'Training MSE', 'Training R2', 'Test MSE', 'Test R2']\n",
    "results2"
   ]
  },
  {
   "cell_type": "markdown",
   "id": "51bee14d",
   "metadata": {},
   "source": [
    "Now want to compute confidence intervals as a standard practice while computing metrics."
   ]
  },
  {
   "cell_type": "markdown",
   "id": "1b2ae3f3",
   "metadata": {},
   "source": [
    "Will compare the R-squared value for kNN and Random Forest models."
   ]
  },
  {
   "cell_type": "code",
   "execution_count": null,
   "id": "9ee6601b",
   "metadata": {},
   "outputs": [],
   "source": [
    "from sklearn.utils import resample\n",
    "def r2_ci(test_data): # The function will be set up for a 95% confidence interval.\n",
    "    bootstrap_iter = 1000\n",
    "    sample_size = 10000\n",
    "    #sample_size = bootstrap_iter\n",
    "    r2_metrics = []\n",
    "    confidence = 0.95\n",
    "    alpha_level = 0.95 * 100\n",
    "    lower = ((1.0 - confidence)/2.0) * 100 # Should be 2.5 as the lower bound.\n",
    "    upper = alpha_level + (((1.0 - confidence)/2.0) * 100) # Should be 97.5 as the upper bound\n",
    "    for i in range(bootstrap_iter):\n",
    "        sample = resample(predictions, n_samples = sample_size)\n",
    "        #r2 = r2_score(test_data, predictions)\n",
    "        r2 = r2_score(test_data, sample)\n",
    "        r2_metrics.append(r2)\n",
    "    confidence_interval = np.percentile(r2_metrics, [lower, upper])\n",
    "    return confidence_interval"
   ]
  },
  {
   "cell_type": "code",
   "execution_count": null,
   "id": "c19abefe",
   "metadata": {},
   "outputs": [],
   "source": [
    "95 + (((1.0 - 0.95)/2.0) * 100)"
   ]
  },
  {
   "cell_type": "code",
   "execution_count": null,
   "id": "abfbf3b5",
   "metadata": {},
   "outputs": [],
   "source": [
    "#r2_ci(y_test, y_knn_test_pred)"
   ]
  },
  {
   "cell_type": "code",
   "execution_count": null,
   "id": "d40a8b83",
   "metadata": {},
   "outputs": [],
   "source": [
    "(0.95*100)+((1.0-.95)/2.0)*100"
   ]
  },
  {
   "cell_type": "markdown",
   "id": "8be78a90",
   "metadata": {},
   "source": [
    "Will now study the relationship between planet mass and temperature."
   ]
  },
  {
   "cell_type": "code",
   "execution_count": null,
   "id": "3f5191b5",
   "metadata": {},
   "outputs": [],
   "source": [
    "path3 = 'D:\\\\PS_2022.04.14_19.39.14.csv'\n",
    "#path3 = 'E:\\\\PS_2022.04.14_19.39.14.csv'\n",
    "raw_data2 = pd.read_csv(path3, skiprows = 28) #  <- notice had to skip first 29 lines."
   ]
  },
  {
   "cell_type": "code",
   "execution_count": null,
   "id": "8500d62d",
   "metadata": {},
   "outputs": [],
   "source": [
    "print(raw_data2)\n",
    "raw_data2.columns"
   ]
  },
  {
   "cell_type": "code",
   "execution_count": null,
   "id": "53249552",
   "metadata": {},
   "outputs": [],
   "source": [
    "type(raw_data2) #<- already a pandas data frame."
   ]
  },
  {
   "cell_type": "code",
   "execution_count": null,
   "id": "d1affec5",
   "metadata": {},
   "outputs": [],
   "source": [
    "df4 = raw_data2.loc[:, ['pl_name','pl_bmassj','pl_eqt']]\n",
    "df4.reset_index(drop=True, inplace=True)"
   ]
  },
  {
   "cell_type": "code",
   "execution_count": null,
   "id": "614781e2",
   "metadata": {},
   "outputs": [],
   "source": [
    "df4"
   ]
  },
  {
   "cell_type": "code",
   "execution_count": null,
   "id": "ca58ddef",
   "metadata": {},
   "outputs": [],
   "source": [
    "df4 = df4.rename(columns={'pl_name':'planetname','pl_bmassj':'planetmass', 'pl_eqt':'temperature'})\n",
    "df4 = df4.dropna()"
   ]
  },
  {
   "cell_type": "code",
   "execution_count": null,
   "id": "6ec5eca3",
   "metadata": {},
   "outputs": [],
   "source": [
    "df4"
   ]
  },
  {
   "cell_type": "code",
   "execution_count": null,
   "id": "aa44eced",
   "metadata": {},
   "outputs": [],
   "source": [
    "print(type(df4.iloc[0][1]))\n",
    "print(type(df4.iloc[0][2]))"
   ]
  },
  {
   "cell_type": "markdown",
   "id": "7d59b695",
   "metadata": {},
   "source": [
    "Notice both of the above are float data type which will make computation easier."
   ]
  },
  {
   "cell_type": "code",
   "execution_count": null,
   "id": "6c38df7e",
   "metadata": {},
   "outputs": [],
   "source": [
    "df4.reset_index(drop=True, inplace=True)"
   ]
  },
  {
   "cell_type": "code",
   "execution_count": null,
   "id": "60a7486b",
   "metadata": {},
   "outputs": [],
   "source": [
    "df4"
   ]
  },
  {
   "cell_type": "code",
   "execution_count": null,
   "id": "ac68cb06",
   "metadata": {},
   "outputs": [],
   "source": [
    "x7 = df4.groupby('planetname')['planetmass'].mean()\n",
    "x8 = df4.groupby('planetname')['temperature'].mean()\n",
    "x8"
   ]
  },
  {
   "cell_type": "code",
   "execution_count": null,
   "id": "359243e2",
   "metadata": {},
   "outputs": [],
   "source": [
    "df5 = pd.concat([x7, x8], axis = 1)\n",
    "df5"
   ]
  },
  {
   "cell_type": "code",
   "execution_count": null,
   "id": "fc47ef1b",
   "metadata": {},
   "outputs": [],
   "source": [
    "mass = df5['planetmass']\n",
    "temp = df5['temperature']\n",
    "mass_med = statistics.median(list(mass))\n",
    "temp_med = statistics.median(list(temp))\n",
    "print('\\nThe median of the planet mass: %.2f' % mass_med)\n",
    "print('\\nThe median of the temperature: %.2f' % temp_med)\n",
    "iqr_mass = stats.iqr(mass, interpolation = 'midpoint')\n",
    "iqr_temp = stats.iqr(temp, interpolation = 'midpoint')\n",
    "print('\\nThe interquartile range of the planet mass: %.2f' % iqr_mass)\n",
    "print('\\nThe interquartile range of the temperature: %.2f' % iqr_temp)\n",
    "print(statistics.mean(list(mass)))"
   ]
  },
  {
   "cell_type": "code",
   "execution_count": null,
   "id": "852d6fb6",
   "metadata": {},
   "outputs": [],
   "source": [
    "plt.hist(df5.planetmass, density = True, color = \"darkorange\")"
   ]
  },
  {
   "cell_type": "code",
   "execution_count": null,
   "id": "8589b246",
   "metadata": {},
   "outputs": [],
   "source": [
    "plt.hist(df5.temperature, color = \"navy\")"
   ]
  },
  {
   "cell_type": "markdown",
   "id": "108dd4c8",
   "metadata": {},
   "source": [
    "Note that the trend in this distribution is not as skewed as the other metrics. That is, it more closely resembles a normal distribution."
   ]
  },
  {
   "cell_type": "code",
   "execution_count": null,
   "id": "4a89cb0a",
   "metadata": {},
   "outputs": [],
   "source": [
    "x9 = df5[['planetmass', 'temperature']]"
   ]
  },
  {
   "cell_type": "code",
   "execution_count": null,
   "id": "37e3f2f6",
   "metadata": {},
   "outputs": [],
   "source": [
    "x9"
   ]
  },
  {
   "cell_type": "code",
   "execution_count": null,
   "id": "ecee69ea",
   "metadata": {},
   "outputs": [],
   "source": [
    "rs2 = RobustScaler().fit(x9)\n",
    "transformer2 = rs2.transform(x9)\n",
    "print(type(transformer2))\n",
    "len(transformer2)"
   ]
  },
  {
   "cell_type": "code",
   "execution_count": null,
   "id": "99e544f9",
   "metadata": {},
   "outputs": [],
   "source": [
    "x10 = transformer2[:, 0]\n",
    "y2 = transformer2[:, 1]"
   ]
  },
  {
   "cell_type": "code",
   "execution_count": null,
   "id": "22fb0d92",
   "metadata": {},
   "outputs": [],
   "source": [
    "x_train2, x_test2 = tts(x10)\n",
    "y_train2, y_test2 = tts(y2)"
   ]
  },
  {
   "cell_type": "code",
   "execution_count": null,
   "id": "7a1ad9b3",
   "metadata": {},
   "outputs": [],
   "source": [
    "type(x_train2)"
   ]
  },
  {
   "cell_type": "code",
   "execution_count": null,
   "id": "fe9e9cca",
   "metadata": {},
   "outputs": [],
   "source": [
    "plt.scatter(x9.planetmass, x9.temperature, c = 'darkorange')"
   ]
  },
  {
   "cell_type": "markdown",
   "id": "327e9cf7",
   "metadata": {},
   "source": [
    "Need to convert the above from Pandas dataframes to numpy ndarrays for the Random Prediction Algorithm."
   ]
  },
  {
   "cell_type": "code",
   "execution_count": null,
   "id": "15e7d59f",
   "metadata": {},
   "outputs": [],
   "source": [
    "#x_train2.to_numpy\n",
    "#x_test2.to_numpy\n",
    "#y_train2.to_numpy\n",
    "#y_test2.to_numpy"
   ]
  },
  {
   "cell_type": "code",
   "execution_count": null,
   "id": "218c19df",
   "metadata": {},
   "outputs": [],
   "source": [
    "#predictions2 = random_algorithm([x_train2], [x_test2])\n",
    "predictions2 = the_real_random_algo(y_train2, y_test2)\n",
    "#predictions2 = random_algorithm([x_train2, y_train2], [x_test2, y_test2])\n",
    "print(predictions2)"
   ]
  },
  {
   "cell_type": "code",
   "execution_count": null,
   "id": "8578160f",
   "metadata": {},
   "outputs": [],
   "source": []
  },
  {
   "cell_type": "code",
   "execution_count": null,
   "id": "29174ef7",
   "metadata": {},
   "outputs": [],
   "source": [
    "x_train2, y_train2 = pd.DataFrame(x_train2), pd.DataFrame(y_train2)\n",
    "x_test2, y_test2 = pd.DataFrame(x_test2), pd.DataFrame(y_test2)\n",
    "print('\\nTraining x2 shape: ', x_train2.shape)\n",
    "print('Training y2 shape: ', y_train2.shape)\n",
    "print('Test x2 shape: ', x_test2.shape)\n",
    "print('Test y2 shape: ', y_test2.shape)"
   ]
  },
  {
   "cell_type": "code",
   "execution_count": null,
   "id": "d8da74fb",
   "metadata": {},
   "outputs": [],
   "source": [
    "knn_r_acc2 = []\n",
    "for n in range(1, 60, 1):\n",
    "    knn2 = KNeighborsRegressor(n_neighbors = n)\n",
    "    knn2.fit(x_train2, y_train2)\n",
    "    \n",
    "    test_score2 = knn2.score(x_test2, y_test2)\n",
    "    train_score2 = knn2.score(x_train2, y_train2)\n",
    "    \n",
    "    knn_r_acc2.append((n, test_score2, train_score2))\n",
    "   \n",
    "outcome = pd.DataFrame(knn_r_acc2, columns = ['k', 'Test Score', 'Train Score'])\n",
    "print(outcome)\n",
    "print(outcome.iloc[:,1].max())"
   ]
  },
  {
   "cell_type": "markdown",
   "id": "1ada15a4",
   "metadata": {},
   "source": [
    "The maximum test score for this kNN model occurs when k = 15.\n",
    "Will not create the second kNN model to help describe the relationship betweeen mass and temperature."
   ]
  },
  {
   "cell_type": "code",
   "execution_count": null,
   "id": "2bf590de",
   "metadata": {},
   "outputs": [],
   "source": [
    "model_knn2 = KNeighborsRegressor(n_neighbors = 15)\n",
    "model_knn2.fit(x_train2, y_train2)\n",
    "y_knn_train_pred2 = model_knn2.predict(x_train2)\n",
    "y_knn_test_pred2 = model_knn2.predict(x_test2)"
   ]
  },
  {
   "cell_type": "code",
   "execution_count": null,
   "id": "badf11df",
   "metadata": {},
   "outputs": [],
   "source": [
    "knn_train_mse_2 = mean_squared_error(y_train2, y_knn_train_pred2)\n",
    "knn_train_r2_2 = r2_score(y_train2, y_knn_train_pred2)\n",
    "# Now, test mean square and r2 score.\n",
    "knn_test_mse_2 = mean_squared_error(y_test2, y_knn_test_pred2)\n",
    "knn_test_r2_2 = r2_score(y_test2, y_knn_test_pred2)\n",
    "# Consolidate the results.\n",
    "knn_results2 = pd.DataFrame(['k Nearest Neighbor', knn_train_mse_2, knn_train_r2_2, knn_test_mse_2, knn_test_r2_2]).transpose()\n",
    "results3 = pd.DataFrame()\n",
    "results3 = pd.concat([results3, knn_results2])\n",
    "print(results2)"
   ]
  },
  {
   "cell_type": "code",
   "execution_count": null,
   "id": "831cf247",
   "metadata": {},
   "outputs": [],
   "source": [
    "true_values2 = y_test2\n",
    "predicted_values2 = y_knn_test_pred2\n",
    "plot2 = plt.figure(figsize=(8,8))\n",
    "plot2 =plt.scatter(true_values2, predicted_values2, c = 'lime')\n",
    "\n",
    "residuals2 = true_values2 - predicted_values2\n",
    "plot2 = plt.scatter(true_values2, residuals2)\n",
    "\n",
    "plt.axis('equal')\n",
    "plt.show(plot2)"
   ]
  },
  {
   "cell_type": "code",
   "execution_count": null,
   "id": "ed84178c",
   "metadata": {},
   "outputs": [],
   "source": [
    "residuals2.shape"
   ]
  },
  {
   "cell_type": "markdown",
   "id": "4039a232",
   "metadata": {},
   "source": [
    "Notice no pattern so model does describe the data."
   ]
  },
  {
   "cell_type": "code",
   "execution_count": null,
   "id": "6e0bbc0d",
   "metadata": {},
   "outputs": [],
   "source": [
    "w5 = x9.iloc[:, 0:1].values\n",
    "w6 = x9.iloc[:, 1:2].values\n",
    "sc2_X = StandardScaler()\n",
    "sc2_y = StandardScaler()\n",
    "w7 = sc2_X.fit_transform(w5)\n",
    "w8 = sc2_y.fit_transform(w6)\n",
    "w3_train, w3_test = tts(w7)\n",
    "w4_train, w4_test = tts(w7)"
   ]
  },
  {
   "cell_type": "code",
   "execution_count": null,
   "id": "79b53b9d",
   "metadata": {},
   "outputs": [],
   "source": [
    "type(w3_train)"
   ]
  },
  {
   "cell_type": "code",
   "execution_count": null,
   "id": "86a50aa5",
   "metadata": {},
   "outputs": [],
   "source": [
    "regressor2 = SVR(kernel = 'rbf')\n",
    "regressor2.fit(w3_train, w4_train)\n",
    "y_svr_train_pred2 = regressor2.predict(w3_train)\n",
    "y_svr_test_pred2 = regressor2.predict(w3_test)\n",
    "# Model performance\n",
    "svr_train_mse_2 = mean_squared_error(w4_train, y_svr_train_pred2)\n",
    "svr_train_r2_2 = r2_score(w4_train, y_svr_train_pred2)\n",
    "# Test results\n",
    "svr_test_mse_2 = mean_squared_error(w4_test, y_svr_test_pred2)\n",
    "svr_test_r2_2 = r2_score(w4_test, y_svr_test_pred2)\n",
    "# Consolidate the results.\n",
    "#svr_results = pd.DataFrame(['SVR', svr_train_mse, svr_train_r2, svr_test_mse, svr_test_r2]).T\n",
    "svr_results2 = pd.DataFrame(['SVR', svr_train_mse_2, svr_train_r2_2, svr_test_mse_2, svr_test_r2_2])\n",
    "#results2 = pd.concat([knn_results, svr_results.T], ignore_index = False)\n",
    "#print(results2)"
   ]
  },
  {
   "cell_type": "code",
   "execution_count": null,
   "id": "fecc6c72",
   "metadata": {},
   "outputs": [],
   "source": [
    "results3 = pd.concat([knn_results2,svr_results.T], ignore_index = True)\n",
    "results3.columns = ['Method', 'Training MSE', 'Training R2', 'Test MSE', 'Test R2']\n",
    "results3"
   ]
  },
  {
   "cell_type": "markdown",
   "id": "412160b0",
   "metadata": {},
   "source": [
    "Now to add the Random Forest Regressor."
   ]
  },
  {
   "cell_type": "code",
   "execution_count": null,
   "id": "b31590b2",
   "metadata": {},
   "outputs": [],
   "source": [
    "rf2 = RandomForestRegressor(max_depth=2)\n",
    "rf2.fit(w3_train, w4_train)\n",
    "y_rf_train_pred2 = rf2.predict(w3_train)\n",
    "y_rf_test_pred2 = rf2.predict(w3_test)"
   ]
  },
  {
   "cell_type": "code",
   "execution_count": null,
   "id": "b8a4aa21",
   "metadata": {},
   "outputs": [],
   "source": [
    "some_prediction = random_algorithm(w3_train, w3_test)\n",
    "print(some_prediction)"
   ]
  },
  {
   "cell_type": "code",
   "execution_count": null,
   "id": "622fa35d",
   "metadata": {},
   "outputs": [],
   "source": [
    "some_r2 = r2_score(w3_test, some_prediction)\n",
    "print(some_r2)"
   ]
  },
  {
   "cell_type": "code",
   "execution_count": null,
   "id": "3c59c8f1",
   "metadata": {},
   "outputs": [],
   "source": [
    "# Model performance metrics for random forest model.\n",
    "rf2_train_mse = mean_squared_error(w4_train, y_rf_train_pred2)\n",
    "rf2_train_r2 = r2_score(w4_train, y_rf_train_pred2)\n",
    "rf2_test_mse = mean_squared_error(w4_test, y_rf_test_pred2)\n",
    "rf2_test_r2 = r2_score(w4_test, y_rf_test_pred2)"
   ]
  },
  {
   "cell_type": "code",
   "execution_count": null,
   "id": "fab87a7b",
   "metadata": {},
   "outputs": [],
   "source": [
    "rf_results2 = pd.DataFrame(['Random Forest', rf2_train_mse, rf2_train_r2, rf2_test_mse, rf2_test_r2]).transpose()\n",
    "rf_results2.columns = ['Method', 'Training MSE', 'Training R2', 'Test MSE', 'Test R2']"
   ]
  },
  {
   "cell_type": "code",
   "execution_count": null,
   "id": "83c926aa",
   "metadata": {},
   "outputs": [],
   "source": [
    "results3 = pd.concat([results3, rf_results2], ignore_index = True)\n",
    "results3"
   ]
  },
  {
   "cell_type": "markdown",
   "id": "ab663ea8",
   "metadata": {},
   "source": [
    "Random Forest model seems to be the best performing of the trio in this scenario. Still need to do further exploraiton of the interpretation of the R2 value."
   ]
  },
  {
   "cell_type": "code",
   "execution_count": null,
   "id": "2280a9d9",
   "metadata": {},
   "outputs": [],
   "source": [
    "rf2_rmse = sqrt(rf2_test_mse)\n",
    "print('The Random Forest 2 model RMSE is: ', rf2_rmse)"
   ]
  }
 ],
 "metadata": {
  "kernelspec": {
   "display_name": "Python 3 (ipykernel)",
   "language": "python",
   "name": "python3"
  },
  "language_info": {
   "codemirror_mode": {
    "name": "ipython",
    "version": 3
   },
   "file_extension": ".py",
   "mimetype": "text/x-python",
   "name": "python",
   "nbconvert_exporter": "python",
   "pygments_lexer": "ipython3",
   "version": "3.9.5"
  }
 },
 "nbformat": 4,
 "nbformat_minor": 5
}
