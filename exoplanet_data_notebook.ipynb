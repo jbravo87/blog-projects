{
 "cells": [
  {
   "cell_type": "markdown",
   "id": "6d64e564",
   "metadata": {},
   "source": [
    "# Planetary Data Analysis Notebook"
   ]
  },
  {
   "cell_type": "markdown",
   "id": "5c8adbfc",
   "metadata": {},
   "source": [
    "For the first part of this script, I will solely focus on the kNN supervised learning technique applied to the data pertaining to exoplanets from NASA."
   ]
  },
  {
   "cell_type": "code",
   "execution_count": 1,
   "id": "a3520729",
   "metadata": {},
   "outputs": [],
   "source": [
    "# Import necessary libraries\n",
    "from random import seed\n",
    "from random import randrange\n",
    "from numpy.random import rand\n",
    "from numpy.random import randint\n",
    "import pandas as pd\n",
    "import matplotlib.pyplot as plt\n",
    "import numpy as np\n",
    "import statistics\n",
    "import seaborn as sns\n",
    "from sklearn.preprocessing import MinMaxScaler, RobustScaler\n",
    "from sklearn.neighbors import KNeighborsRegressor\n",
    "from sklearn.svm import SVR, LinearSVR\n",
    "from sklearn.ensemble import RandomForestRegressor\n",
    "from sklearn.metrics import mean_squared_error, r2_score\n",
    "from sklearn.metrics import mean_absolute_error, mean_squared_error\n",
    "from sklearn.model_selection import train_test_split\n",
    "from scipy import stats\n",
    "from math import sqrt\n",
    "#import plotly.express as px"
   ]
  },
  {
   "cell_type": "code",
   "execution_count": 2,
   "id": "faaf1b66",
   "metadata": {
    "scrolled": true
   },
   "outputs": [],
   "source": [
    "# Assign path of data to a variable.\n",
    "# Initiate first data frame with raw data.\n",
    "seed(11)\n",
    "path = 'https://raw.githubusercontent.com/jbravo87/blog-projects/main/data/PS_2022.05.10_21.48.38.csv'\n",
    "raw_data = pd.read_csv(path, skiprows = 12)"
   ]
  },
  {
   "cell_type": "markdown",
   "id": "5a5ba78c",
   "metadata": {},
   "source": [
    "Need to remove the first twelve rows. These rows contain copious notes/remarks. Want to see the head and tail of the data as well as the column names."
   ]
  },
  {
   "cell_type": "code",
   "execution_count": 3,
   "id": "f4490111",
   "metadata": {},
   "outputs": [
    {
     "data": {
      "text/html": [
       "<div>\n",
       "<style scoped>\n",
       "    .dataframe tbody tr th:only-of-type {\n",
       "        vertical-align: middle;\n",
       "    }\n",
       "\n",
       "    .dataframe tbody tr th {\n",
       "        vertical-align: top;\n",
       "    }\n",
       "\n",
       "    .dataframe thead th {\n",
       "        text-align: right;\n",
       "    }\n",
       "</style>\n",
       "<table border=\"1\" class=\"dataframe\">\n",
       "  <thead>\n",
       "    <tr style=\"text-align: right;\">\n",
       "      <th></th>\n",
       "      <th>pl_name</th>\n",
       "      <th>hostname</th>\n",
       "      <th>pl_orbper</th>\n",
       "      <th>pl_bmassj</th>\n",
       "      <th>pl_orbeccen</th>\n",
       "      <th>pl_eqt</th>\n",
       "    </tr>\n",
       "  </thead>\n",
       "  <tbody>\n",
       "    <tr>\n",
       "      <th>0</th>\n",
       "      <td>11 Com b</td>\n",
       "      <td>11 Com</td>\n",
       "      <td>326.03000</td>\n",
       "      <td>19.40</td>\n",
       "      <td>0.231</td>\n",
       "      <td>NaN</td>\n",
       "    </tr>\n",
       "    <tr>\n",
       "      <th>1</th>\n",
       "      <td>11 Com b</td>\n",
       "      <td>11 Com</td>\n",
       "      <td>NaN</td>\n",
       "      <td>17.10</td>\n",
       "      <td>NaN</td>\n",
       "      <td>NaN</td>\n",
       "    </tr>\n",
       "    <tr>\n",
       "      <th>2</th>\n",
       "      <td>11 UMi b</td>\n",
       "      <td>11 UMi</td>\n",
       "      <td>NaN</td>\n",
       "      <td>10.80</td>\n",
       "      <td>NaN</td>\n",
       "      <td>NaN</td>\n",
       "    </tr>\n",
       "    <tr>\n",
       "      <th>3</th>\n",
       "      <td>11 UMi b</td>\n",
       "      <td>11 UMi</td>\n",
       "      <td>516.21997</td>\n",
       "      <td>14.74</td>\n",
       "      <td>0.080</td>\n",
       "      <td>NaN</td>\n",
       "    </tr>\n",
       "    <tr>\n",
       "      <th>4</th>\n",
       "      <td>11 UMi b</td>\n",
       "      <td>11 UMi</td>\n",
       "      <td>516.22000</td>\n",
       "      <td>10.50</td>\n",
       "      <td>0.080</td>\n",
       "      <td>NaN</td>\n",
       "    </tr>\n",
       "    <tr>\n",
       "      <th>...</th>\n",
       "      <td>...</td>\n",
       "      <td>...</td>\n",
       "      <td>...</td>\n",
       "      <td>...</td>\n",
       "      <td>...</td>\n",
       "      <td>...</td>\n",
       "    </tr>\n",
       "    <tr>\n",
       "      <th>32511</th>\n",
       "      <td>ups And d</td>\n",
       "      <td>ups And</td>\n",
       "      <td>1282.41000</td>\n",
       "      <td>4.10</td>\n",
       "      <td>0.294</td>\n",
       "      <td>NaN</td>\n",
       "    </tr>\n",
       "    <tr>\n",
       "      <th>32512</th>\n",
       "      <td>ups And d</td>\n",
       "      <td>ups And</td>\n",
       "      <td>1281.50700</td>\n",
       "      <td>10.25</td>\n",
       "      <td>0.316</td>\n",
       "      <td>NaN</td>\n",
       "    </tr>\n",
       "    <tr>\n",
       "      <th>32513</th>\n",
       "      <td>ups Leo b</td>\n",
       "      <td>ups Leo</td>\n",
       "      <td>385.20000</td>\n",
       "      <td>0.51</td>\n",
       "      <td>0.320</td>\n",
       "      <td>NaN</td>\n",
       "    </tr>\n",
       "    <tr>\n",
       "      <th>32514</th>\n",
       "      <td>xi Aql b</td>\n",
       "      <td>xi Aql</td>\n",
       "      <td>NaN</td>\n",
       "      <td>2.02</td>\n",
       "      <td>NaN</td>\n",
       "      <td>NaN</td>\n",
       "    </tr>\n",
       "    <tr>\n",
       "      <th>32515</th>\n",
       "      <td>xi Aql b</td>\n",
       "      <td>xi Aql</td>\n",
       "      <td>136.75000</td>\n",
       "      <td>2.80</td>\n",
       "      <td>0.000</td>\n",
       "      <td>NaN</td>\n",
       "    </tr>\n",
       "  </tbody>\n",
       "</table>\n",
       "<p>32516 rows × 6 columns</p>\n",
       "</div>"
      ],
      "text/plain": [
       "         pl_name hostname   pl_orbper  pl_bmassj  pl_orbeccen  pl_eqt\n",
       "0       11 Com b   11 Com   326.03000      19.40        0.231     NaN\n",
       "1       11 Com b   11 Com         NaN      17.10          NaN     NaN\n",
       "2       11 UMi b   11 UMi         NaN      10.80          NaN     NaN\n",
       "3       11 UMi b   11 UMi   516.21997      14.74        0.080     NaN\n",
       "4       11 UMi b   11 UMi   516.22000      10.50        0.080     NaN\n",
       "...          ...      ...         ...        ...          ...     ...\n",
       "32511  ups And d  ups And  1282.41000       4.10        0.294     NaN\n",
       "32512  ups And d  ups And  1281.50700      10.25        0.316     NaN\n",
       "32513  ups Leo b  ups Leo   385.20000       0.51        0.320     NaN\n",
       "32514   xi Aql b   xi Aql         NaN       2.02          NaN     NaN\n",
       "32515   xi Aql b   xi Aql   136.75000       2.80        0.000     NaN\n",
       "\n",
       "[32516 rows x 6 columns]"
      ]
     },
     "execution_count": 3,
     "metadata": {},
     "output_type": "execute_result"
    }
   ],
   "source": [
    "raw_data"
   ]
  },
  {
   "cell_type": "code",
   "execution_count": 4,
   "id": "2d8005c6",
   "metadata": {},
   "outputs": [
    {
     "data": {
      "text/plain": [
       "Index(['pl_name', 'hostname', 'pl_orbper', 'pl_bmassj', 'pl_orbeccen',\n",
       "       'pl_eqt'],\n",
       "      dtype='object')"
      ]
     },
     "execution_count": 4,
     "metadata": {},
     "output_type": "execute_result"
    }
   ],
   "source": [
    "raw_data.columns"
   ]
  },
  {
   "cell_type": "markdown",
   "id": "da81a2b2",
   "metadata": {},
   "source": [
    "Now want to create first data frame with columns of interest. In this first case/scenario want to study planet eccentricity (dependent/response variable) as a function of orbital period of planet (independent/predictor variable)."
   ]
  },
  {
   "cell_type": "markdown",
   "id": "2817305f",
   "metadata": {},
   "source": [
    "### Scenario 1 - eccentricity as function of orbital period"
   ]
  },
  {
   "cell_type": "code",
   "execution_count": 5,
   "id": "3e548064",
   "metadata": {},
   "outputs": [
    {
     "data": {
      "text/html": [
       "<div>\n",
       "<style scoped>\n",
       "    .dataframe tbody tr th:only-of-type {\n",
       "        vertical-align: middle;\n",
       "    }\n",
       "\n",
       "    .dataframe tbody tr th {\n",
       "        vertical-align: top;\n",
       "    }\n",
       "\n",
       "    .dataframe thead th {\n",
       "        text-align: right;\n",
       "    }\n",
       "</style>\n",
       "<table border=\"1\" class=\"dataframe\">\n",
       "  <thead>\n",
       "    <tr style=\"text-align: right;\">\n",
       "      <th></th>\n",
       "      <th>pl_name</th>\n",
       "      <th>pl_orbper</th>\n",
       "      <th>pl_orbeccen</th>\n",
       "    </tr>\n",
       "  </thead>\n",
       "  <tbody>\n",
       "    <tr>\n",
       "      <th>0</th>\n",
       "      <td>11 Com b</td>\n",
       "      <td>326.03000</td>\n",
       "      <td>0.231</td>\n",
       "    </tr>\n",
       "    <tr>\n",
       "      <th>1</th>\n",
       "      <td>11 Com b</td>\n",
       "      <td>NaN</td>\n",
       "      <td>NaN</td>\n",
       "    </tr>\n",
       "    <tr>\n",
       "      <th>2</th>\n",
       "      <td>11 UMi b</td>\n",
       "      <td>NaN</td>\n",
       "      <td>NaN</td>\n",
       "    </tr>\n",
       "    <tr>\n",
       "      <th>3</th>\n",
       "      <td>11 UMi b</td>\n",
       "      <td>516.21997</td>\n",
       "      <td>0.080</td>\n",
       "    </tr>\n",
       "    <tr>\n",
       "      <th>4</th>\n",
       "      <td>11 UMi b</td>\n",
       "      <td>516.22000</td>\n",
       "      <td>0.080</td>\n",
       "    </tr>\n",
       "    <tr>\n",
       "      <th>...</th>\n",
       "      <td>...</td>\n",
       "      <td>...</td>\n",
       "      <td>...</td>\n",
       "    </tr>\n",
       "    <tr>\n",
       "      <th>32511</th>\n",
       "      <td>ups And d</td>\n",
       "      <td>1282.41000</td>\n",
       "      <td>0.294</td>\n",
       "    </tr>\n",
       "    <tr>\n",
       "      <th>32512</th>\n",
       "      <td>ups And d</td>\n",
       "      <td>1281.50700</td>\n",
       "      <td>0.316</td>\n",
       "    </tr>\n",
       "    <tr>\n",
       "      <th>32513</th>\n",
       "      <td>ups Leo b</td>\n",
       "      <td>385.20000</td>\n",
       "      <td>0.320</td>\n",
       "    </tr>\n",
       "    <tr>\n",
       "      <th>32514</th>\n",
       "      <td>xi Aql b</td>\n",
       "      <td>NaN</td>\n",
       "      <td>NaN</td>\n",
       "    </tr>\n",
       "    <tr>\n",
       "      <th>32515</th>\n",
       "      <td>xi Aql b</td>\n",
       "      <td>136.75000</td>\n",
       "      <td>0.000</td>\n",
       "    </tr>\n",
       "  </tbody>\n",
       "</table>\n",
       "<p>32516 rows × 3 columns</p>\n",
       "</div>"
      ],
      "text/plain": [
       "         pl_name   pl_orbper  pl_orbeccen\n",
       "0       11 Com b   326.03000        0.231\n",
       "1       11 Com b         NaN          NaN\n",
       "2       11 UMi b         NaN          NaN\n",
       "3       11 UMi b   516.21997        0.080\n",
       "4       11 UMi b   516.22000        0.080\n",
       "...          ...         ...          ...\n",
       "32511  ups And d  1282.41000        0.294\n",
       "32512  ups And d  1281.50700        0.316\n",
       "32513  ups Leo b   385.20000        0.320\n",
       "32514   xi Aql b         NaN          NaN\n",
       "32515   xi Aql b   136.75000        0.000\n",
       "\n",
       "[32516 rows x 3 columns]"
      ]
     },
     "execution_count": 5,
     "metadata": {},
     "output_type": "execute_result"
    }
   ],
   "source": [
    "df1 = raw_data.loc[:, ['pl_name','pl_orbper','pl_orbeccen']]\n",
    "#df1.reset_index(drop=True, inplace=True) # <- Perhaps use this logic in a couple of lines.\n",
    "df1"
   ]
  },
  {
   "cell_type": "markdown",
   "id": "9db533a9",
   "metadata": {},
   "source": [
    "Will rename the columns of interest for ease, i.e. make analysis clearer, and remove unnecessary rows by removing all the NA values from the original data frame."
   ]
  },
  {
   "cell_type": "code",
   "execution_count": 6,
   "id": "d84e1334",
   "metadata": {},
   "outputs": [
    {
     "data": {
      "text/html": [
       "<div>\n",
       "<style scoped>\n",
       "    .dataframe tbody tr th:only-of-type {\n",
       "        vertical-align: middle;\n",
       "    }\n",
       "\n",
       "    .dataframe tbody tr th {\n",
       "        vertical-align: top;\n",
       "    }\n",
       "\n",
       "    .dataframe thead th {\n",
       "        text-align: right;\n",
       "    }\n",
       "</style>\n",
       "<table border=\"1\" class=\"dataframe\">\n",
       "  <thead>\n",
       "    <tr style=\"text-align: right;\">\n",
       "      <th></th>\n",
       "      <th>planetname</th>\n",
       "      <th>orbitperiod</th>\n",
       "      <th>eccentricity</th>\n",
       "    </tr>\n",
       "  </thead>\n",
       "  <tbody>\n",
       "    <tr>\n",
       "      <th>0</th>\n",
       "      <td>11 Com b</td>\n",
       "      <td>326.03000</td>\n",
       "      <td>0.2310</td>\n",
       "    </tr>\n",
       "    <tr>\n",
       "      <th>3</th>\n",
       "      <td>11 UMi b</td>\n",
       "      <td>516.21997</td>\n",
       "      <td>0.0800</td>\n",
       "    </tr>\n",
       "    <tr>\n",
       "      <th>4</th>\n",
       "      <td>11 UMi b</td>\n",
       "      <td>516.22000</td>\n",
       "      <td>0.0800</td>\n",
       "    </tr>\n",
       "    <tr>\n",
       "      <th>6</th>\n",
       "      <td>14 And b</td>\n",
       "      <td>185.84000</td>\n",
       "      <td>0.0000</td>\n",
       "    </tr>\n",
       "    <tr>\n",
       "      <th>7</th>\n",
       "      <td>14 Her b</td>\n",
       "      <td>1766.41000</td>\n",
       "      <td>0.3674</td>\n",
       "    </tr>\n",
       "    <tr>\n",
       "      <th>...</th>\n",
       "      <td>...</td>\n",
       "      <td>...</td>\n",
       "      <td>...</td>\n",
       "    </tr>\n",
       "    <tr>\n",
       "      <th>32510</th>\n",
       "      <td>ups And d</td>\n",
       "      <td>1274.60000</td>\n",
       "      <td>0.2420</td>\n",
       "    </tr>\n",
       "    <tr>\n",
       "      <th>32511</th>\n",
       "      <td>ups And d</td>\n",
       "      <td>1282.41000</td>\n",
       "      <td>0.2940</td>\n",
       "    </tr>\n",
       "    <tr>\n",
       "      <th>32512</th>\n",
       "      <td>ups And d</td>\n",
       "      <td>1281.50700</td>\n",
       "      <td>0.3160</td>\n",
       "    </tr>\n",
       "    <tr>\n",
       "      <th>32513</th>\n",
       "      <td>ups Leo b</td>\n",
       "      <td>385.20000</td>\n",
       "      <td>0.3200</td>\n",
       "    </tr>\n",
       "    <tr>\n",
       "      <th>32515</th>\n",
       "      <td>xi Aql b</td>\n",
       "      <td>136.75000</td>\n",
       "      <td>0.0000</td>\n",
       "    </tr>\n",
       "  </tbody>\n",
       "</table>\n",
       "<p>16542 rows × 3 columns</p>\n",
       "</div>"
      ],
      "text/plain": [
       "      planetname  orbitperiod  eccentricity\n",
       "0       11 Com b    326.03000        0.2310\n",
       "3       11 UMi b    516.21997        0.0800\n",
       "4       11 UMi b    516.22000        0.0800\n",
       "6       14 And b    185.84000        0.0000\n",
       "7       14 Her b   1766.41000        0.3674\n",
       "...          ...          ...           ...\n",
       "32510  ups And d   1274.60000        0.2420\n",
       "32511  ups And d   1282.41000        0.2940\n",
       "32512  ups And d   1281.50700        0.3160\n",
       "32513  ups Leo b    385.20000        0.3200\n",
       "32515   xi Aql b    136.75000        0.0000\n",
       "\n",
       "[16542 rows x 3 columns]"
      ]
     },
     "execution_count": 6,
     "metadata": {},
     "output_type": "execute_result"
    }
   ],
   "source": [
    "df1 = df1.rename(columns={'pl_name':'planetname', 'pl_orbper':'orbitperiod', 'pl_orbeccen':'eccentricity'})\n",
    "df1 = df1.dropna()\n",
    "df1"
   ]
  },
  {
   "cell_type": "markdown",
   "id": "b47f86f4",
   "metadata": {},
   "source": [
    "The following logic is to determine the data types of the column entries in the latest data frame. Again, this is the data type (dtype) for individual entries within the data frame."
   ]
  },
  {
   "cell_type": "code",
   "execution_count": 7,
   "id": "79785911",
   "metadata": {},
   "outputs": [
    {
     "name": "stdout",
     "output_type": "stream",
     "text": [
      "<class 'numpy.float64'>\n",
      "<class 'numpy.float64'>\n"
     ]
    }
   ],
   "source": [
    "print(type(df1.iloc[0][1]))\n",
    "print(type(df1.iloc[0][2]))"
   ]
  },
  {
   "cell_type": "code",
   "execution_count": 8,
   "id": "7a7b29c5",
   "metadata": {},
   "outputs": [
    {
     "data": {
      "text/plain": [
       "pandas.core.frame.DataFrame"
      ]
     },
     "execution_count": 8,
     "metadata": {},
     "output_type": "execute_result"
    }
   ],
   "source": [
    "type(df1)"
   ]
  },
  {
   "cell_type": "code",
   "execution_count": 9,
   "id": "c1a12823",
   "metadata": {},
   "outputs": [
    {
     "name": "stdout",
     "output_type": "stream",
     "text": [
      "The data type of the eccentricity column is: float64\n"
     ]
    }
   ],
   "source": [
    "print(\"The data type of the eccentricity column is:\", df1.dtypes['eccentricity'])"
   ]
  },
  {
   "cell_type": "markdown",
   "id": "865c46da",
   "metadata": {},
   "source": [
    "Notice df1 is indeed a data frame, and the entries within are numpy float number type.\n",
    "\n",
    "Want to limit each scenario to two dataframes. Once cleaned, need another to take arithmetic mean of multiple entries. For example, Dataframe 2 will take the averages of multiple planet entries. Following lines will take arithmetic mean of the two columns of interest and concate the two columns into the third dataframe.\n",
    "\n",
    "First will create intermediate variables to store the resulting averages."
   ]
  },
  {
   "cell_type": "code",
   "execution_count": 10,
   "id": "46cb57ad",
   "metadata": {},
   "outputs": [],
   "source": [
    "#x4 = df2.groupby('planetname')['eccentricity'].mean()\n",
    "eccen = df1.groupby('planetname')['eccentricity'].mean()\n",
    "#x5 = df2.groupby('planetname')['orbitperiod'].mean()\n",
    "orbper = df1.groupby('planetname')['orbitperiod'].mean()"
   ]
  },
  {
   "cell_type": "code",
   "execution_count": 11,
   "id": "4f1f730d",
   "metadata": {},
   "outputs": [
    {
     "name": "stdout",
     "output_type": "stream",
     "text": [
      "planetname\n",
      "11 Com b      0.231000\n",
      "11 UMi b      0.080000\n",
      "14 And b      0.000000\n",
      "14 Her b      0.362233\n",
      "16 Cyg B b    0.676033\n",
      "                ...   \n",
      "ups And b     0.030200\n",
      "ups And c     0.238933\n",
      "ups And d     0.281117\n",
      "ups Leo b     0.320000\n",
      "xi Aql b      0.000000\n",
      "Name: eccentricity, Length: 4371, dtype: float64\n",
      "planetname\n",
      "11 Com b       326.030000\n",
      "11 UMi b       516.219985\n",
      "14 And b       185.840000\n",
      "14 Her b      1766.601670\n",
      "16 Cyg B b     799.375000\n",
      "                 ...     \n",
      "ups And b        4.616229\n",
      "ups And c      240.728533\n",
      "ups And d     1285.346167\n",
      "ups Leo b      385.200000\n",
      "xi Aql b       136.750000\n",
      "Name: orbitperiod, Length: 4371, dtype: float64\n"
     ]
    }
   ],
   "source": [
    "print(eccen)\n",
    "print(orbper)"
   ]
  },
  {
   "cell_type": "code",
   "execution_count": 12,
   "id": "d2f121f8",
   "metadata": {},
   "outputs": [
    {
     "data": {
      "text/plain": [
       "pandas.core.series.Series"
      ]
     },
     "execution_count": 12,
     "metadata": {},
     "output_type": "execute_result"
    }
   ],
   "source": [
    "type(eccen)"
   ]
  },
  {
   "cell_type": "code",
   "execution_count": 13,
   "id": "ce55eefb",
   "metadata": {},
   "outputs": [
    {
     "data": {
      "text/plain": [
       "pandas.core.series.Series"
      ]
     },
     "execution_count": 13,
     "metadata": {},
     "output_type": "execute_result"
    }
   ],
   "source": [
    "type(orbper)"
   ]
  },
  {
   "cell_type": "markdown",
   "id": "2a32b54d",
   "metadata": {},
   "source": [
    "In this part want to explicitly declare the median and IQR of the two columns which are the variables. But the summary statistics part of the analysis can be done with variables declared earlier."
   ]
  },
  {
   "cell_type": "code",
   "execution_count": 14,
   "id": "df76bf51",
   "metadata": {},
   "outputs": [
    {
     "name": "stdout",
     "output_type": "stream",
     "text": [
      "\n",
      "The median of the orbital period: 12.2538\n",
      "\n",
      "The median of the eccentricity: 0.00\n",
      "\n",
      "The interquartile range of the eccentricity: 0.07\n",
      "\n",
      "The interquartile range of the orbital period: 39.93\n",
      "\n",
      "The mode for the eccentricity: 0.00\n",
      "\n",
      "The mode for the orbital period: 691.90\n",
      "\n",
      "The mean for the eccentricity: 0.06\n",
      "\n",
      "The mean for the orbital period: 709.51\n"
     ]
    }
   ],
   "source": [
    "eccen_med = statistics.median(list(eccen))\n",
    "orbper_med = statistics.median(list(orbper))\n",
    "print('\\nThe median of the orbital period: %.4f' % orbper_med)\n",
    "print('\\nThe median of the eccentricity: %.2f' % eccen_med)\n",
    "iqr_eccen = stats.iqr(eccen, interpolation = 'midpoint')\n",
    "iqr_orbper = stats.iqr(orbper, interpolation = 'midpoint')\n",
    "print('\\nThe interquartile range of the eccentricity: %.2f' % iqr_eccen)\n",
    "print('\\nThe interquartile range of the orbital period: %.2f' % iqr_orbper)\n",
    "eccen_mode = statistics.mode(list(eccen))\n",
    "print('\\nThe mode for the eccentricity: %.2f' % eccen_mode)\n",
    "orbper_mode = statistics.mode(list(orbper))\n",
    "print('\\nThe mode for the orbital period: %.2f' % orbper_mode)\n",
    "eccen_avg = statistics.mean(list(eccen))\n",
    "print('\\nThe mean for the eccentricity: %.2f' % eccen_avg)\n",
    "orbper_avg = statistics.mean(list(orbper))\n",
    "print('\\nThe mean for the orbital period: %.2f' % orbper_avg)"
   ]
  },
  {
   "cell_type": "code",
   "execution_count": 15,
   "id": "73530cf2",
   "metadata": {},
   "outputs": [
    {
     "data": {
      "text/html": [
       "<div>\n",
       "<style scoped>\n",
       "    .dataframe tbody tr th:only-of-type {\n",
       "        vertical-align: middle;\n",
       "    }\n",
       "\n",
       "    .dataframe tbody tr th {\n",
       "        vertical-align: top;\n",
       "    }\n",
       "\n",
       "    .dataframe thead th {\n",
       "        text-align: right;\n",
       "    }\n",
       "</style>\n",
       "<table border=\"1\" class=\"dataframe\">\n",
       "  <thead>\n",
       "    <tr style=\"text-align: right;\">\n",
       "      <th></th>\n",
       "      <th>orbitperiod</th>\n",
       "      <th>eccentricity</th>\n",
       "    </tr>\n",
       "    <tr>\n",
       "      <th>planetname</th>\n",
       "      <th></th>\n",
       "      <th></th>\n",
       "    </tr>\n",
       "  </thead>\n",
       "  <tbody>\n",
       "    <tr>\n",
       "      <th>11 Com b</th>\n",
       "      <td>326.030000</td>\n",
       "      <td>0.231000</td>\n",
       "    </tr>\n",
       "    <tr>\n",
       "      <th>11 UMi b</th>\n",
       "      <td>516.219985</td>\n",
       "      <td>0.080000</td>\n",
       "    </tr>\n",
       "    <tr>\n",
       "      <th>14 And b</th>\n",
       "      <td>185.840000</td>\n",
       "      <td>0.000000</td>\n",
       "    </tr>\n",
       "    <tr>\n",
       "      <th>14 Her b</th>\n",
       "      <td>1766.601670</td>\n",
       "      <td>0.362233</td>\n",
       "    </tr>\n",
       "    <tr>\n",
       "      <th>16 Cyg B b</th>\n",
       "      <td>799.375000</td>\n",
       "      <td>0.676033</td>\n",
       "    </tr>\n",
       "    <tr>\n",
       "      <th>...</th>\n",
       "      <td>...</td>\n",
       "      <td>...</td>\n",
       "    </tr>\n",
       "    <tr>\n",
       "      <th>ups And b</th>\n",
       "      <td>4.616229</td>\n",
       "      <td>0.030200</td>\n",
       "    </tr>\n",
       "    <tr>\n",
       "      <th>ups And c</th>\n",
       "      <td>240.728533</td>\n",
       "      <td>0.238933</td>\n",
       "    </tr>\n",
       "    <tr>\n",
       "      <th>ups And d</th>\n",
       "      <td>1285.346167</td>\n",
       "      <td>0.281117</td>\n",
       "    </tr>\n",
       "    <tr>\n",
       "      <th>ups Leo b</th>\n",
       "      <td>385.200000</td>\n",
       "      <td>0.320000</td>\n",
       "    </tr>\n",
       "    <tr>\n",
       "      <th>xi Aql b</th>\n",
       "      <td>136.750000</td>\n",
       "      <td>0.000000</td>\n",
       "    </tr>\n",
       "  </tbody>\n",
       "</table>\n",
       "<p>4371 rows × 2 columns</p>\n",
       "</div>"
      ],
      "text/plain": [
       "            orbitperiod  eccentricity\n",
       "planetname                           \n",
       "11 Com b     326.030000      0.231000\n",
       "11 UMi b     516.219985      0.080000\n",
       "14 And b     185.840000      0.000000\n",
       "14 Her b    1766.601670      0.362233\n",
       "16 Cyg B b   799.375000      0.676033\n",
       "...                 ...           ...\n",
       "ups And b      4.616229      0.030200\n",
       "ups And c    240.728533      0.238933\n",
       "ups And d   1285.346167      0.281117\n",
       "ups Leo b    385.200000      0.320000\n",
       "xi Aql b     136.750000      0.000000\n",
       "\n",
       "[4371 rows x 2 columns]"
      ]
     },
     "execution_count": 15,
     "metadata": {},
     "output_type": "execute_result"
    }
   ],
   "source": [
    "df2 = pd.concat([orbper, eccen], axis = 1)\n",
    "df2"
   ]
  },
  {
   "cell_type": "markdown",
   "id": "e02c422b",
   "metadata": {},
   "source": [
    "All the filtering and cleaning was handled by df2."
   ]
  },
  {
   "cell_type": "code",
   "execution_count": 16,
   "id": "423aa033",
   "metadata": {},
   "outputs": [
    {
     "data": {
      "text/plain": [
       "Index(['orbitperiod', 'eccentricity'], dtype='object')"
      ]
     },
     "execution_count": 16,
     "metadata": {},
     "output_type": "execute_result"
    }
   ],
   "source": [
    "df2.columns"
   ]
  },
  {
   "cell_type": "code",
   "execution_count": 17,
   "id": "2204c7bc",
   "metadata": {},
   "outputs": [
    {
     "data": {
      "text/plain": [
       "(array([4.37e+03, 0.00e+00, 0.00e+00, 0.00e+00, 0.00e+00, 0.00e+00,\n",
       "        0.00e+00, 0.00e+00, 0.00e+00, 1.00e+00]),\n",
       " array([9.07062900e-02, 1.79000082e+05, 3.58000073e+05, 5.37000063e+05,\n",
       "        7.16000054e+05, 8.95000045e+05, 1.07400004e+06, 1.25300003e+06,\n",
       "        1.43200002e+06, 1.61100001e+06, 1.79000000e+06]),\n",
       " <BarContainer object of 10 artists>)"
      ]
     },
     "execution_count": 17,
     "metadata": {},
     "output_type": "execute_result"
    },
    {
     "data": {
      "image/png": "[encoded data removed]",
      "text/plain": [
       "<Figure size 432x288 with 1 Axes>"
      ]
     },
     "metadata": {
      "needs_background": "light"
     },
     "output_type": "display_data"
    }
   ],
   "source": [
    "#plt.hist(df2.orbitperiod, color = \"darkgreen\", edgecolor = 'white')\n",
    "plt.hist(orbper, color = \"darkgreen\", edgecolor = 'white')"
   ]
  },
  {
   "cell_type": "code",
   "execution_count": 18,
   "id": "c3ba247d",
   "metadata": {},
   "outputs": [
    {
     "data": {
      "text/plain": [
       "(array([1.100e+01, 4.260e+02, 1.905e+03, 1.158e+03, 4.170e+02, 3.240e+02,\n",
       "        1.140e+02, 1.400e+01, 1.000e+00, 1.000e+00]),\n",
       " array([-2.40012857, -0.7203431 ,  0.95944238,  2.63922785,  4.31901333,\n",
       "         5.9987988 ,  7.67858428,  9.35836975, 11.03815523, 12.7179407 ,\n",
       "        14.39772618]),\n",
       " <BarContainer object of 10 artists>)"
      ]
     },
     "execution_count": 18,
     "metadata": {},
     "output_type": "execute_result"
    },
    {
     "data": {
      "image/png": "[encoded data removed]",
      "text/plain": [
       "<Figure size 432x288 with 1 Axes>"
      ]
     },
     "metadata": {
      "needs_background": "light"
     },
     "output_type": "display_data"
    }
   ],
   "source": [
    "orbper_log = np.log(orbper)\n",
    "plt.hist(orbper_log, color = \"darkgreen\", edgecolor = 'red')"
   ]
  },
  {
   "cell_type": "markdown",
   "id": "a14bc0b1",
   "metadata": {},
   "source": [
    "The orbital period is skewed right, but after applying a log transform, the distribution more closely resembles a Gaussian distribution."
   ]
  },
  {
   "cell_type": "markdown",
   "id": "1d4f9cce",
   "metadata": {},
   "source": [
    "Going add 10 to every element in the array so as to be able to perform Log Transform on the eccentricity dataset as well."
   ]
  },
  {
   "cell_type": "code",
   "execution_count": 113,
   "id": "59c0685d",
   "metadata": {},
   "outputs": [
    {
     "data": {
      "text/plain": [
       "(array([3692.,  337.,  147.,   79.,   39.,   28.,   19.,   12.,   14.,\n",
       "           4.]),\n",
       " array([1.        , 1.15392828, 1.30785655, 1.46178483, 1.61571311,\n",
       "        1.76964138, 1.92356966, 2.07749794, 2.23142622, 2.38535449,\n",
       "        2.53928277]),\n",
       " <BarContainer object of 10 artists>)"
      ]
     },
     "execution_count": 113,
     "metadata": {},
     "output_type": "execute_result"
    },
    {
     "data": {
      "image/png": "[encoded data removed]",
      "text/plain": [
       "<Figure size 432x288 with 1 Axes>"
      ]
     },
     "metadata": {
      "needs_background": "light"
     },
     "output_type": "display_data"
    }
   ],
   "source": [
    "eccen_2 = eccen + 10\n",
    "#eccen_log = np.log(eccen + 10)\n",
    "#eccen_log = np.log(eccen_2)\n",
    "#plt.hist(eccen_log, color = \"maroon\", edgecolor = 'green')\n",
    "eccen_exp = np.exp(eccen)\n",
    "plt.hist(eccen_exp, color = \"maroon\", edgecolor = 'green')"
   ]
  },
  {
   "cell_type": "markdown",
   "id": "0feb6006",
   "metadata": {},
   "source": [
    "The distribution is still skewed right after applying the transform."
   ]
  },
  {
   "cell_type": "markdown",
   "id": "ef279f1a",
   "metadata": {},
   "source": [
    "#### Model Building"
   ]
  },
  {
   "cell_type": "markdown",
   "id": "0a24a43c",
   "metadata": {},
   "source": [
    "Will implement robust scaling to deal with outliers."
   ]
  },
  {
   "cell_type": "markdown",
   "id": "072cee69",
   "metadata": {},
   "source": [
    "As a resampling method, will use the train-test-split (tts) method. Will bundle the logic of tts into a function."
   ]
  },
  {
   "cell_type": "code",
   "execution_count": 20,
   "id": "4a42cec2",
   "metadata": {},
   "outputs": [],
   "source": [
    "#def tts(data, split = 0.80):\n",
    "#    train = list()\n",
    "#    train_size = split*len(data)\n",
    "#    data_copy = list(data)\n",
    "#    while len(train) < train_size :\n",
    "#        index = randrange(len(data_copy))\n",
    "#        train.append(data_copy.pop(index))\n",
    "#    return np.array(train), np.array(data_copy)\n",
    "\n",
    "#X1_train, X1_test = tts(orbper_log)\n",
    "#y1_train, y1_test = tts(eccen)\n",
    "#y1_train, y1_test = tts(eccen_log)\n",
    "#rs = RobustScaler()\n",
    "#scale_X1_train = rs.fit_transform(X1_train.reshape(-1, 1))\n",
    "#scale_y1_train = rs.fit_transform(y1_train.reshape(-1, 1))\n",
    "#scale_X1_test = rs.fit_transform(X1_test.reshape(-1, 1))\n",
    "#scale_X1_train"
   ]
  },
  {
   "cell_type": "code",
   "execution_count": 21,
   "id": "211783bd",
   "metadata": {},
   "outputs": [],
   "source": [
    "#X1_train, X1_test, y1_train, y1_test = train_test_split(np.array(orbper_log), np.array(eccen_log), train_size = 0.80, random_state = 25)\n",
    "X1_train, X1_test, y1_train, y1_test = train_test_split(np.array(orbper), np.array(eccen), train_size = 0.80, random_state = 25)"
   ]
  },
  {
   "cell_type": "markdown",
   "id": "33fbe135",
   "metadata": {},
   "source": [
    "Will change the central tendency metric from median to mean to get a better R-squared metric."
   ]
  },
  {
   "cell_type": "code",
   "execution_count": 22,
   "id": "ac5eb163",
   "metadata": {},
   "outputs": [
    {
     "data": {
      "text/plain": [
       "0.0637315305801972"
      ]
     },
     "execution_count": 22,
     "metadata": {},
     "output_type": "execute_result"
    }
   ],
   "source": [
    "y_baseline = y1_train.mean()\n",
    "#y_baseline = statistics.median(y1_train)\n",
    "y_baseline"
   ]
  },
  {
   "cell_type": "code",
   "execution_count": 23,
   "id": "4912b499",
   "metadata": {},
   "outputs": [],
   "source": [
    "y_pred_train = [y_baseline] * len(y1_train)"
   ]
  },
  {
   "cell_type": "code",
   "execution_count": 24,
   "id": "2641219b",
   "metadata": {},
   "outputs": [
    {
     "name": "stdout",
     "output_type": "stream",
     "text": [
      "Traing Set Mean Absolute Error: 0.08752901986553943\n",
      "Traing Set Mean Squared Error: 0.01788375152612843\n",
      "Traing Set Root Mean Square Error: 0.13373014441825906\n",
      "Traing Set R2: 0.0\n"
     ]
    }
   ],
   "source": [
    "# Following is for the Training Dataset.\n",
    "# Error for training data baseline guess.\n",
    "mae_train_1 = mean_absolute_error(y1_train, y_pred_train)\n",
    "print(f'Traing Set Mean Absolute Error: {mae_train_1}')\n",
    "# Mean squared error for training data baseline guess.\n",
    "mse_train_1 = mean_squared_error(y1_train, y_pred_train)\n",
    "print(f'Traing Set Mean Squared Error: {mse_train_1}')\n",
    "rmse_train_1 = sqrt(mse_train_1) # <- will compute the root mean square error\n",
    "print(f'Traing Set Root Mean Square Error: {rmse_train_1}')\n",
    "# R-squared for training data baseline guess.\n",
    "y1_train_r2 = r2_score(y1_train, y_pred_train)\n",
    "print(f'Traing Set R2: {y1_train_r2}')"
   ]
  },
  {
   "cell_type": "code",
   "execution_count": 25,
   "id": "88730864",
   "metadata": {},
   "outputs": [],
   "source": [
    "y_pred_test = [y_baseline] * len(y1_test)"
   ]
  },
  {
   "cell_type": "code",
   "execution_count": 26,
   "id": "2a95db0a",
   "metadata": {},
   "outputs": [
    {
     "name": "stdout",
     "output_type": "stream",
     "text": [
      "Test Set Mean Absolute Error: 0.09067568318514926\n",
      "Test Set Mean Squared Error: 0.019771780663498325\n",
      "Test Set Root Mean Square Error: 0.14061216399550333\n",
      "Test Set R2: -9.981601752739877e-05\n"
     ]
    }
   ],
   "source": [
    "# Error for test data baseline guess.\n",
    "mae_test_1 = mean_absolute_error(y1_test, y_pred_test)\n",
    "print(f'Test Set Mean Absolute Error: {mae_test_1}')\n",
    "# Mean squared error for test data baseline guess.\n",
    "mse_test_1 = mean_squared_error(y1_test, y_pred_test)\n",
    "print(f'Test Set Mean Squared Error: {mse_test_1}')\n",
    "rmse_test_1 = sqrt(mse_test_1) # <- will compute the root mean square error\n",
    "print(f'Test Set Root Mean Square Error: {rmse_test_1}')\n",
    "# R-squared for test data baseline guess.\n",
    "y1_test_r2 = r2_score(y1_test, y_pred_test)\n",
    "print(f'Test Set R2: {y1_test_r2}')"
   ]
  },
  {
   "cell_type": "code",
   "execution_count": 27,
   "id": "ac86c794",
   "metadata": {},
   "outputs": [
    {
     "data": {
      "text/html": [
       "<div>\n",
       "<style scoped>\n",
       "    .dataframe tbody tr th:only-of-type {\n",
       "        vertical-align: middle;\n",
       "    }\n",
       "\n",
       "    .dataframe tbody tr th {\n",
       "        vertical-align: top;\n",
       "    }\n",
       "\n",
       "    .dataframe thead th {\n",
       "        text-align: right;\n",
       "    }\n",
       "</style>\n",
       "<table border=\"1\" class=\"dataframe\">\n",
       "  <thead>\n",
       "    <tr style=\"text-align: right;\">\n",
       "      <th></th>\n",
       "      <th>Method</th>\n",
       "      <th>Train MAE</th>\n",
       "      <th>Train MSE</th>\n",
       "      <th>Train RMSE</th>\n",
       "      <th>Train R2</th>\n",
       "      <th>Test MAE</th>\n",
       "      <th>Test MSE</th>\n",
       "      <th>Test RMSE</th>\n",
       "      <th>Test R2</th>\n",
       "    </tr>\n",
       "  </thead>\n",
       "  <tbody>\n",
       "    <tr>\n",
       "      <th>0</th>\n",
       "      <td>Baseline</td>\n",
       "      <td>0.087529</td>\n",
       "      <td>0.017884</td>\n",
       "      <td>0.13373</td>\n",
       "      <td>0.0</td>\n",
       "      <td>0.090676</td>\n",
       "      <td>0.019772</td>\n",
       "      <td>0.140612</td>\n",
       "      <td>-0.0001</td>\n",
       "    </tr>\n",
       "  </tbody>\n",
       "</table>\n",
       "</div>"
      ],
      "text/plain": [
       "     Method Train MAE Train MSE Train RMSE Train R2  Test MAE  Test MSE  \\\n",
       "0  Baseline  0.087529  0.017884    0.13373      0.0  0.090676  0.019772   \n",
       "\n",
       "  Test RMSE Test R2  \n",
       "0  0.140612 -0.0001  "
      ]
     },
     "execution_count": 27,
     "metadata": {},
     "output_type": "execute_result"
    }
   ],
   "source": [
    "prediction_1 = pd.DataFrame(['Baseline', mae_train_1, mse_train_1, rmse_train_1, y1_train_r2, mae_test_1, mse_test_1, rmse_test_1, y1_test_r2]).T\n",
    "metric_col_names = ['Method', 'Train MAE', 'Train MSE', 'Train RMSE', 'Train R2', 'Test MAE', 'Test MSE','Test RMSE', 'Test R2'] # <- This list will be used over so easier to store in variable.\n",
    "prediction_1.columns = metric_col_names\n",
    "prediction_1"
   ]
  },
  {
   "cell_type": "markdown",
   "id": "ce0ddb50",
   "metadata": {},
   "source": [
    "Now to apply the logarithmic and exponential transformations to the variables I chose."
   ]
  },
  {
   "cell_type": "code",
   "execution_count": 121,
   "id": "33edf59b",
   "metadata": {},
   "outputs": [],
   "source": [
    "X1_train_log = np.log10(X1_train)\n",
    "X1_test_log = np.log10(X1_test)\n",
    "#y1_train_log = np.log(y1_train + 10) # <- Remember to add 10 units to be able apply log transform\n",
    "y1_train_exp = np.exp(y1_train)\n",
    "y1_test_exp = np.exp(y1_test)"
   ]
  },
  {
   "cell_type": "markdown",
   "id": "16fe574c",
   "metadata": {},
   "source": [
    "With the data scaled using aforementioned trasnformations, will now test various k's for best fit. Will run kNN for various values of n_neighbors and store results. This will help me determine optimal 'k'."
   ]
  },
  {
   "cell_type": "code",
   "execution_count": 150,
   "id": "754bf339",
   "metadata": {},
   "outputs": [
    {
     "name": "stdout",
     "output_type": "stream",
     "text": [
      "     k  Test Score  Train Score\n",
      "0    1   -0.376242     0.999928\n",
      "1    2   -0.008741     0.670980\n",
      "2    3    0.094896     0.545762\n",
      "3    4    0.148759     0.490142\n",
      "4    5    0.189452     0.456295\n",
      "..  ..         ...          ...\n",
      "69  70    0.352576     0.321298\n",
      "70  71    0.351332     0.320772\n",
      "71  72    0.350412     0.320366\n",
      "72  73    0.350777     0.319908\n",
      "73  74    0.350296     0.320097\n",
      "\n",
      "[74 rows x 3 columns]\n",
      "The highest Test R-squared value occurs at : 0.3530\n",
      "Within given range, optimal k is:  64\n"
     ]
    }
   ],
   "source": [
    "# kNN R-squared accuracy\n",
    "knn_r_acc_1 = []\n",
    "for i1 in range(1, 75, 1):\n",
    "    knn = KNeighborsRegressor(n_neighbors = i1)\n",
    "    knn.fit(X1_train_log.reshape(-1, 1), y1_train.reshape(-1, 1))\n",
    "    test_score_1 = knn.score(X1_test_log.reshape(-1, 1), y1_test.reshape(-1, 1))\n",
    "    train_score_1 = knn.score(X1_train_log.reshape(-1, 1), y1_train.reshape(-1, 1))\n",
    "    knn_r_acc_1.append((i1, test_score_1, train_score_1))\n",
    "outcomes_1 = pd.DataFrame(knn_r_acc_1, columns = ['k', 'Test Score', 'Train Score'])\n",
    "print(outcomes_1)\n",
    "print('The highest Test R-squared value occurs at : %.4f' % outcomes_1.iloc[:,1].max())\n",
    "print('Within given range, optimal k is: ', outcomes_1.loc[outcomes_1['Test Score'] == outcomes_1.iloc[:,1].max(), 'k'].iloc[0])"
   ]
  },
  {
   "cell_type": "code",
   "execution_count": 152,
   "id": "2b3a7979",
   "metadata": {},
   "outputs": [],
   "source": [
    "model_knn_1 = KNeighborsRegressor(n_neighbors = 64)\n",
    "model_knn_1.fit(X1_train_log.reshape(-1, 1), y1_train.reshape(-1, 1))\n",
    "y_knn_train_pred_log_1 = model_knn_1.predict(X1_train_log.reshape(-1, 1))\n",
    "y_knn_test_pred_log_1 = model_knn_1.predict(X1_test_log.reshape(-1, 1))"
   ]
  },
  {
   "cell_type": "code",
   "execution_count": 153,
   "id": "60fe53d2",
   "metadata": {},
   "outputs": [
    {
     "data": {
      "text/plain": [
       "-2.890471762896498"
      ]
     },
     "execution_count": 153,
     "metadata": {},
     "output_type": "execute_result"
    }
   ],
   "source": [
    "# Following line to remind myself that values between 0 - 1 will produce negative value in log.\n",
    "np.log(0.055550)"
   ]
  },
  {
   "cell_type": "code",
   "execution_count": 154,
   "id": "734a9715",
   "metadata": {},
   "outputs": [],
   "source": [
    "# Following logic \n",
    "#y_knn_train_pred_1 = np.exp(y_knn_train_pred_log_1)\n",
    "#y_knn_train_pred_1 = np.power(y_knn_train_pred_log_1, 10)\n",
    "y_knn_train_pred_1 = y_knn_train_pred_log_1\n",
    "#y_knn_test_pred_1 = np.log(y_knn_test_pred_log_1) \n",
    "#y_knn_test_pred_1 = np.power(y_knn_test_pred_log_1, 10)\n",
    "y_knn_test_pred_1 = y_knn_test_pred_log_1\n",
    "#y_knn_test_pred_1 = np.exp(y_knn_test_pred_log_1) "
   ]
  },
  {
   "cell_type": "code",
   "execution_count": 155,
   "id": "8fa7e023",
   "metadata": {
    "scrolled": false
   },
   "outputs": [
    {
     "data": {
      "text/plain": [
       "<matplotlib.collections.PathCollection at 0x239c630a400>"
      ]
     },
     "execution_count": 155,
     "metadata": {},
     "output_type": "execute_result"
    },
    {
     "data": {
      "image/png": "[encoded data removed]",
      "text/plain": [
       "<Figure size 432x288 with 1 Axes>"
      ]
     },
     "metadata": {
      "needs_background": "light"
     },
     "output_type": "display_data"
    }
   ],
   "source": [
    "plt.scatter(y1_test, y_knn_test_pred_1)"
   ]
  },
  {
   "cell_type": "markdown",
   "id": "b0d0cd33",
   "metadata": {},
   "source": [
    "Trying to avoid data leakage when going from transform to inverse."
   ]
  },
  {
   "cell_type": "code",
   "execution_count": 156,
   "id": "537cc1d2",
   "metadata": {},
   "outputs": [
    {
     "data": {
      "text/plain": [
       "<matplotlib.collections.PathCollection at 0x239c6369520>"
      ]
     },
     "execution_count": 156,
     "metadata": {},
     "output_type": "execute_result"
    },
    {
     "data": {
      "image/png": "[encoded data removed]",
      "text/plain": [
       "<Figure size 432x288 with 1 Axes>"
      ]
     },
     "metadata": {
      "needs_background": "light"
     },
     "output_type": "display_data"
    }
   ],
   "source": [
    "plt.scatter(X1_test, y1_test)"
   ]
  },
  {
   "cell_type": "code",
   "execution_count": 157,
   "id": "663f84eb",
   "metadata": {},
   "outputs": [
    {
     "data": {
      "text/plain": [
       "<matplotlib.collections.PathCollection at 0x239c7542190>"
      ]
     },
     "execution_count": 157,
     "metadata": {},
     "output_type": "execute_result"
    },
    {
     "data": {
      "image/png": "[encoded data removed]",
      "text/plain": [
       "<Figure size 432x288 with 1 Axes>"
      ]
     },
     "metadata": {
      "needs_background": "light"
     },
     "output_type": "display_data"
    }
   ],
   "source": [
    "plt.scatter(X1_train, y1_train, c = \"teal\")"
   ]
  },
  {
   "cell_type": "code",
   "execution_count": 158,
   "id": "63523306",
   "metadata": {},
   "outputs": [
    {
     "data": {
      "text/plain": [
       "<matplotlib.collections.PathCollection at 0x239c75a07c0>"
      ]
     },
     "execution_count": 158,
     "metadata": {},
     "output_type": "execute_result"
    },
    {
     "data": {
      "image/png": "[encoded data removed]",
      "text/plain": [
       "<Figure size 432x288 with 1 Axes>"
      ]
     },
     "metadata": {
      "needs_background": "light"
     },
     "output_type": "display_data"
    }
   ],
   "source": [
    "plt.scatter(orbper, eccen)"
   ]
  },
  {
   "cell_type": "code",
   "execution_count": 159,
   "id": "876c9b05",
   "metadata": {},
   "outputs": [
    {
     "data": {
      "text/plain": [
       "<matplotlib.collections.PathCollection at 0x239c7600fa0>"
      ]
     },
     "execution_count": 159,
     "metadata": {},
     "output_type": "execute_result"
    },
    {
     "data": {
      "image/png": "[encoded data removed]",
      "text/plain": [
       "<Figure size 648x648 with 1 Axes>"
      ]
     },
     "metadata": {
      "needs_background": "light"
     },
     "output_type": "display_data"
    }
   ],
   "source": [
    "# Following to 'unscale' the fitted data\n",
    "# The y-values are the actual test data.\n",
    "#inverse_X1test = np.exp(X1_test)\n",
    "#inverse_knn_model_1 = np.exp(y_knn_test_pred_1)\n",
    "plt.figure(figsize = (9, 9))\n",
    "#plt.scatter(inverse_X1test, y1_test)\n",
    "plt.scatter(X1_test, y_knn_test_pred_1)"
   ]
  },
  {
   "cell_type": "code",
   "execution_count": 160,
   "id": "3ba60e6b",
   "metadata": {},
   "outputs": [
    {
     "data": {
      "text/plain": [
       "<matplotlib.collections.PathCollection at 0x239c781f8b0>"
      ]
     },
     "execution_count": 160,
     "metadata": {},
     "output_type": "execute_result"
    },
    {
     "data": {
      "image/png": "[encoded data removed]",
      "text/plain": [
       "<Figure size 648x648 with 1 Axes>"
      ]
     },
     "metadata": {
      "needs_background": "light"
     },
     "output_type": "display_data"
    }
   ],
   "source": [
    "plt.figure(figsize = (9, 9))\n",
    "plt.scatter(X1_test, np.exp(y_knn_test_pred_1))\n",
    "#plt.scatter(inverse_X1test, inverse_knn_model_1)"
   ]
  },
  {
   "cell_type": "code",
   "execution_count": 161,
   "id": "8c6f81b5",
   "metadata": {},
   "outputs": [
    {
     "name": "stderr",
     "output_type": "stream",
     "text": [
      "C:\\Users\\joepb\\AppData\\Local\\Temp\\ipykernel_7592\\3129027379.py:2: RuntimeWarning: overflow encountered in exp\n",
      "  plt.scatter(np.exp(X1_test), np.exp(y_knn_test_pred_1))\n"
     ]
    },
    {
     "data": {
      "text/plain": [
       "<matplotlib.collections.PathCollection at 0x239c6237910>"
      ]
     },
     "execution_count": 161,
     "metadata": {},
     "output_type": "execute_result"
    },
    {
     "data": {
      "image/png": "[encoded data removed]",
      "text/plain": [
       "<Figure size 648x648 with 1 Axes>"
      ]
     },
     "metadata": {
      "needs_background": "light"
     },
     "output_type": "display_data"
    }
   ],
   "source": [
    "plt.figure(figsize = (9, 9))\n",
    "plt.scatter(np.exp(X1_test), np.exp(y_knn_test_pred_1))"
   ]
  },
  {
   "cell_type": "markdown",
   "id": "0a0432e4",
   "metadata": {},
   "source": [
    "Want to make a quick calculation of the residuals in this prediction and actual values evaluation."
   ]
  },
  {
   "cell_type": "code",
   "execution_count": 208,
   "id": "6208827c",
   "metadata": {
    "scrolled": true
   },
   "outputs": [
    {
     "data": {
      "image/png": "[encoded data removed]",
      "text/plain": [
       "<Figure size 720x720 with 1 Axes>"
      ]
     },
     "metadata": {
      "needs_background": "light"
     },
     "output_type": "display_data"
    }
   ],
   "source": [
    " rue_values_1 = y1_test\n",
    "predicted_values1_1 = y_knn_test_pred_1\n",
    "predicted_values1_2 = y_svr_test_pred_1\n",
    "predicted_values1_3 = y_rf_test_pred_1\n",
    "\n",
    "plt.figure(figsize = (10, 10))\n",
    "# kNN model\n",
    "knn_1 = plt.scatter(x = true_values_1, y = predicted_values1_1, c = '#d68431')\n",
    "# SVR model\n",
    "svr_1 = plt.scatter(x = true_values_1, y = predicted_values1_2, c = 'lime', marker = 'x')\n",
    "# Random Forest model\n",
    "rf_1 = plt.scatter(x = true_values_1, y = predicted_values1_3, c = '#b337cc', marker = 'd')\n",
    "p1 = max(max(predicted_values1_1), max(predicted_values1_2), max(predicted_values1_3), max(true_values_1))\n",
    "p2 = min(min(predicted_values1_1), min(predicted_values1_2), min(predicted_values1_3), min(true_values_1))\n",
    "plt.plot([p1, p2], [p1, p2], 'b-')\n",
    "plt.title('Prediction and Actual Values')\n",
    "plt.xlabel('Actual Eccentricity Values')\n",
    "plt.ylabel('Predicted Eccentricity Values')\n",
    "plt.legend([knn_1, svr_1, rf_1], ['kNN', 'SVR', 'RF'], loc = 'upper left')\n",
    "plt.savefig('output_1.png')\n",
    "plt.show()"
   ]
  },
  {
   "cell_type": "markdown",
   "id": "92c437a9",
   "metadata": {},
   "source": [
    "Want to plot the residuals and see if there are any obvious patterns. Another name is the Versus Fit."
   ]
  },
  {
   "cell_type": "code",
   "execution_count": 209,
   "id": "2b382e89",
   "metadata": {},
   "outputs": [
    {
     "data": {
      "image/png": "[encoded data removed]",
      "text/plain": [
       "<Figure size 648x648 with 1 Axes>"
      ]
     },
     "metadata": {
      "needs_background": "light"
     },
     "output_type": "display_data"
    }
   ],
   "source": [
    "# Will invoke for loop to calculate residulas for the three different models.\n",
    "residuals1_1 = list()\n",
    "for item1, item2 in zip(true_values_1, predicted_values1_1):\n",
    "    residuals1_1.append(item1 - item2)\n",
    "residuals1_2 = list()\n",
    "for item3, item4 in zip(true_values_1, predicted_values1_2):\n",
    "    residuals1_2.append(item3 - item4)\n",
    "residuals1_3 = list()\n",
    "for item5, item6 in zip(true_values_1, predicted_values1_3):\n",
    "    residuals1_3.append(item5 - item6)\n",
    "\n",
    "plt.figure(figsize = (9, 9))\n",
    "# kNN model\n",
    "knn_resid_1 = plt.scatter(x = predicted_values1_1, y = residuals1_1, c = '#d68431')\n",
    "# SVR model\n",
    "svr_resid_1 = plt.scatter(x = predicted_values1_2, y = residuals1_2, c = 'lime', marker = 'x')\n",
    "# Random Forest model\n",
    "rf_resid_1 = plt.scatter(x = predicted_values1_3, y = residuals1_3, c = '#b337cc', marker = 'd')\n",
    "\n",
    "plt.title('Residuals versus Fitted values')\n",
    "plt.xlabel('Fitted Values') # <- Predicted Values\n",
    "plt.ylabel('Residuals')\n",
    "plt.legend([knn_resid_1, svr_resid_1, rf_resid_1], ['kNN', 'SVR', 'RF'], loc = 'upper left')\n",
    "plt.axhline(y = 0.0, color = '#034b8a', linestyle = '--')\n",
    "plt.savefig('output_2.png')\n",
    "plt.show()"
   ]
  },
  {
   "cell_type": "markdown",
   "id": "7c15e6e9",
   "metadata": {},
   "source": [
    "There is an obvious pattern in the residuals plot."
   ]
  },
  {
   "cell_type": "code",
   "execution_count": 164,
   "id": "7d52abde",
   "metadata": {},
   "outputs": [
    {
     "data": {
      "text/html": [
       "<div>\n",
       "<style scoped>\n",
       "    .dataframe tbody tr th:only-of-type {\n",
       "        vertical-align: middle;\n",
       "    }\n",
       "\n",
       "    .dataframe tbody tr th {\n",
       "        vertical-align: top;\n",
       "    }\n",
       "\n",
       "    .dataframe thead th {\n",
       "        text-align: right;\n",
       "    }\n",
       "</style>\n",
       "<table border=\"1\" class=\"dataframe\">\n",
       "  <thead>\n",
       "    <tr style=\"text-align: right;\">\n",
       "      <th></th>\n",
       "      <th>Method</th>\n",
       "      <th>Train MAE</th>\n",
       "      <th>Train MSE</th>\n",
       "      <th>Train RMSE</th>\n",
       "      <th>Train R2</th>\n",
       "      <th>Test MAE</th>\n",
       "      <th>Test MSE</th>\n",
       "      <th>Test RMSE</th>\n",
       "      <th>Test R2</th>\n",
       "    </tr>\n",
       "  </thead>\n",
       "  <tbody>\n",
       "    <tr>\n",
       "      <th>0</th>\n",
       "      <td>k Nearest Neighbor</td>\n",
       "      <td>0.066004</td>\n",
       "      <td>0.01209</td>\n",
       "      <td>0.109954</td>\n",
       "      <td>0.32398</td>\n",
       "      <td>0.067364</td>\n",
       "      <td>0.012791</td>\n",
       "      <td>0.113099</td>\n",
       "      <td>0.352987</td>\n",
       "    </tr>\n",
       "  </tbody>\n",
       "</table>\n",
       "</div>"
      ],
      "text/plain": [
       "               Method Train MAE Train MSE Train RMSE Train R2  Test MAE  \\\n",
       "0  k Nearest Neighbor  0.066004   0.01209   0.109954  0.32398  0.067364   \n",
       "\n",
       "   Test MSE Test RMSE   Test R2  \n",
       "0  0.012791  0.113099  0.352987  "
      ]
     },
     "execution_count": 164,
     "metadata": {},
     "output_type": "execute_result"
    }
   ],
   "source": [
    "# First the training metrics.\n",
    "knn1_train_mae = mean_absolute_error(y1_train, y_knn_train_pred_1)\n",
    "knn1_train_mse = mean_squared_error(y1_train, y_knn_train_pred_1)\n",
    "knn1_train_rmse = sqrt(knn1_train_mse) # <- will compute the root mean square error\n",
    "knn1_train_r2 = r2_score(y1_train, y_knn_train_pred_1)\n",
    "# Now, test set metrics.\n",
    "knn1_test_mae = mean_absolute_error(y1_test, y_knn_test_pred_1)\n",
    "knn1_test_mse = mean_squared_error(y1_test, y_knn_test_pred_1)\n",
    "knn1_test_rmse = sqrt(knn1_test_mse)\n",
    "knn1_test_r2 = r2_score(y1_test, y_knn_test_pred_1)\n",
    "# Consolidate the results.\n",
    "knn_results_1 = pd.DataFrame(['k Nearest Neighbor', knn1_train_mae, knn1_train_mse, knn1_train_rmse, knn1_train_r2, knn1_test_mae, knn1_test_mse, knn1_test_rmse, knn1_test_r2]).transpose()\n",
    "knn_results_1.columns = metric_col_names\n",
    "knn_results_1"
   ]
  },
  {
   "cell_type": "markdown",
   "id": "aa26d1ae",
   "metadata": {},
   "source": [
    "#### SVR regressor model."
   ]
  },
  {
   "cell_type": "code",
   "execution_count": 166,
   "id": "d6efdc91",
   "metadata": {},
   "outputs": [
    {
     "name": "stderr",
     "output_type": "stream",
     "text": [
      "c:\\users\\joepb\\miniconda3\\lib\\site-packages\\sklearn\\utils\\validation.py:993: DataConversionWarning: A column-vector y was passed when a 1d array was expected. Please change the shape of y to (n_samples, ), for example using ravel().\n",
      "  y = column_or_1d(y, warn=True)\n"
     ]
    },
    {
     "data": {
      "text/html": [
       "<div>\n",
       "<style scoped>\n",
       "    .dataframe tbody tr th:only-of-type {\n",
       "        vertical-align: middle;\n",
       "    }\n",
       "\n",
       "    .dataframe tbody tr th {\n",
       "        vertical-align: top;\n",
       "    }\n",
       "\n",
       "    .dataframe thead th {\n",
       "        text-align: right;\n",
       "    }\n",
       "</style>\n",
       "<table border=\"1\" class=\"dataframe\">\n",
       "  <thead>\n",
       "    <tr style=\"text-align: right;\">\n",
       "      <th></th>\n",
       "      <th>Method</th>\n",
       "      <th>Train MAE</th>\n",
       "      <th>Train MSE</th>\n",
       "      <th>Train RMSE</th>\n",
       "      <th>Train R2</th>\n",
       "      <th>Test MAE</th>\n",
       "      <th>Test MSE</th>\n",
       "      <th>Test RMSE</th>\n",
       "      <th>Test R2</th>\n",
       "    </tr>\n",
       "  </thead>\n",
       "  <tbody>\n",
       "    <tr>\n",
       "      <th>0</th>\n",
       "      <td>SVR</td>\n",
       "      <td>0.104178</td>\n",
       "      <td>0.016254</td>\n",
       "      <td>0.127492</td>\n",
       "      <td>0.091116</td>\n",
       "      <td>0.10604</td>\n",
       "      <td>0.016782</td>\n",
       "      <td>0.129544</td>\n",
       "      <td>-0.025504</td>\n",
       "    </tr>\n",
       "  </tbody>\n",
       "</table>\n",
       "</div>"
      ],
      "text/plain": [
       "  Method Train MAE Train MSE Train RMSE  Train R2 Test MAE  Test MSE  \\\n",
       "0    SVR  0.104178  0.016254   0.127492  0.091116  0.10604  0.016782   \n",
       "\n",
       "  Test RMSE   Test R2  \n",
       "0  0.129544 -0.025504  "
      ]
     },
     "execution_count": 166,
     "metadata": {},
     "output_type": "execute_result"
    }
   ],
   "source": [
    "svr_regressor_1 = SVR(kernel = 'rbf')\n",
    "svr_regressor_1.fit(X1_train_log.reshape(-1, 1), y1_train.reshape(-1, 1))\n",
    "y_svr_train_pred_1 = svr_regressor_1.predict(X1_train_log.reshape(-1, 1))\n",
    "y_svr_test_pred_1 = svr_regressor_1.predict(X1_test_log.reshape(-1, 1))\n",
    "# Model performance - training set\n",
    "svr1_train_mae = mean_absolute_error(y1_train, y_svr_train_pred_1)\n",
    "svr1_train_mse = mean_squared_error(y1_train, y_svr_train_pred_1)\n",
    "svr1_train_rmse = sqrt(svr1_train_mse)\n",
    "svr1_train_r2 = r2_score(y1_train, y_svr_train_pred_1)\n",
    "# Test results\n",
    "svr1_test_mae = mean_absolute_error(y1_test, y_svr_test_pred_1)\n",
    "svr1_test_mse = mean_squared_error(y1_test, y_svr_test_pred_1)\n",
    "svr1_test_rmse = sqrt(svr1_test_mse)\n",
    "svr1_test_r2 = r2_score(X1_test, y_svr_test_pred_1)\n",
    "# Consolidate the results.\n",
    "#svr_results = pd.DataFrame(['SVR', svr_train_mse, svr_train_r2, svr_test_mse, svr_test_r2]).T\n",
    "svr_results_1 = pd.DataFrame(['SVR', svr1_train_mae, svr1_train_mse, svr1_train_rmse, svr1_train_r2, svr1_test_mae, svr1_test_mse, svr1_test_rmse, svr1_test_r2]).T\n",
    "svr_results_1.columns = metric_col_names\n",
    "#results2 = pd.concat([knn_results, svr_results.T], ignore_index = False)\n",
    "#print(results2)\n",
    "#print(svr_results_1)\n",
    "svr_results_1"
   ]
  },
  {
   "cell_type": "markdown",
   "id": "4394ef33",
   "metadata": {},
   "source": [
    "Now want to model using the Random Forest Regressor."
   ]
  },
  {
   "cell_type": "code",
   "execution_count": 167,
   "id": "ffc305d3",
   "metadata": {},
   "outputs": [
    {
     "name": "stderr",
     "output_type": "stream",
     "text": [
      "C:\\Users\\joepb\\AppData\\Local\\Temp\\ipykernel_7592\\4240487719.py:2: DataConversionWarning: A column-vector y was passed when a 1d array was expected. Please change the shape of y to (n_samples,), for example using ravel().\n",
      "  rf_1.fit(X1_train_log.reshape(-1, 1), y1_train.reshape(-1, 1))\n"
     ]
    },
    {
     "data": {
      "text/plain": [
       "RandomForestRegressor(max_depth=2)"
      ]
     },
     "execution_count": 167,
     "metadata": {},
     "output_type": "execute_result"
    }
   ],
   "source": [
    "rf_1 = RandomForestRegressor(max_depth=2)\n",
    "rf_1.fit(X1_train_log.reshape(-1, 1), y1_train.reshape(-1, 1))\n",
    "y_rf_train_pred_1 = rf_1.predict(X1_train_log.reshape(-1, 1))\n",
    "y_rf_test_pred_1 = rf_1.predict(X1_test_log.reshape(-1, 1))\n",
    "rf_1"
   ]
  },
  {
   "cell_type": "code",
   "execution_count": 168,
   "id": "71fe8faa",
   "metadata": {},
   "outputs": [],
   "source": [
    "# Model performance metrics for random forest model.\n",
    "rf1_train_mae = mean_absolute_error(y1_train, y_rf_train_pred_1)\n",
    "rf1_train_mse = mean_squared_error(y1_train, y_rf_train_pred_1)\n",
    "rf1_train_rmse = sqrt(rf1_train_mse)\n",
    "rf1_train_r2 = r2_score(y1_train, y_rf_train_pred_1)\n",
    "# The following are the test metrics.\n",
    "rf1_test_mae = mean_absolute_error(y1_test, y_rf_test_pred_1)\n",
    "rf1_test_mse = mean_squared_error(y1_test, y_rf_test_pred_1)\n",
    "rf1_test_rmse = sqrt(rf1_test_mse)\n",
    "rf1_test_r2 = r2_score(y1_test, y_rf_test_pred_1)"
   ]
  },
  {
   "cell_type": "code",
   "execution_count": 169,
   "id": "6d8f7d78",
   "metadata": {},
   "outputs": [
    {
     "data": {
      "text/html": [
       "<div>\n",
       "<style scoped>\n",
       "    .dataframe tbody tr th:only-of-type {\n",
       "        vertical-align: middle;\n",
       "    }\n",
       "\n",
       "    .dataframe tbody tr th {\n",
       "        vertical-align: top;\n",
       "    }\n",
       "\n",
       "    .dataframe thead th {\n",
       "        text-align: right;\n",
       "    }\n",
       "</style>\n",
       "<table border=\"1\" class=\"dataframe\">\n",
       "  <thead>\n",
       "    <tr style=\"text-align: right;\">\n",
       "      <th></th>\n",
       "      <th>Method</th>\n",
       "      <th>Train MAE</th>\n",
       "      <th>Train MSE</th>\n",
       "      <th>Train RMSE</th>\n",
       "      <th>Train R2</th>\n",
       "      <th>Test MAE</th>\n",
       "      <th>Test MSE</th>\n",
       "      <th>Test RMSE</th>\n",
       "      <th>Test R2</th>\n",
       "    </tr>\n",
       "  </thead>\n",
       "  <tbody>\n",
       "    <tr>\n",
       "      <th>0</th>\n",
       "      <td>Random Forest</td>\n",
       "      <td>0.06653</td>\n",
       "      <td>0.01216</td>\n",
       "      <td>0.110273</td>\n",
       "      <td>0.320042</td>\n",
       "      <td>0.066961</td>\n",
       "      <td>0.012535</td>\n",
       "      <td>0.111958</td>\n",
       "      <td>0.365977</td>\n",
       "    </tr>\n",
       "  </tbody>\n",
       "</table>\n",
       "</div>"
      ],
      "text/plain": [
       "          Method Train MAE Train MSE Train RMSE  Train R2  Test MAE  Test MSE  \\\n",
       "0  Random Forest   0.06653   0.01216   0.110273  0.320042  0.066961  0.012535   \n",
       "\n",
       "  Test RMSE   Test R2  \n",
       "0  0.111958  0.365977  "
      ]
     },
     "execution_count": 169,
     "metadata": {},
     "output_type": "execute_result"
    }
   ],
   "source": [
    "rf1_results = pd.DataFrame(['Random Forest', rf1_train_mae, rf1_train_mse, rf1_train_rmse, rf1_train_r2, rf1_test_mae, rf1_test_mse, rf1_test_rmse, rf1_test_r2]).transpose()\n",
    "rf1_results.columns = metric_col_names\n",
    "rf1_results"
   ]
  },
  {
   "cell_type": "markdown",
   "id": "4fd6cbfa",
   "metadata": {},
   "source": [
    "Want to add all the results to a single table."
   ]
  },
  {
   "cell_type": "code",
   "execution_count": 170,
   "id": "8380dbd1",
   "metadata": {},
   "outputs": [
    {
     "data": {
      "text/html": [
       "<div>\n",
       "<style scoped>\n",
       "    .dataframe tbody tr th:only-of-type {\n",
       "        vertical-align: middle;\n",
       "    }\n",
       "\n",
       "    .dataframe tbody tr th {\n",
       "        vertical-align: top;\n",
       "    }\n",
       "\n",
       "    .dataframe thead th {\n",
       "        text-align: right;\n",
       "    }\n",
       "</style>\n",
       "<table border=\"1\" class=\"dataframe\">\n",
       "  <thead>\n",
       "    <tr style=\"text-align: right;\">\n",
       "      <th></th>\n",
       "      <th>Method</th>\n",
       "      <th>Train MAE</th>\n",
       "      <th>Train MSE</th>\n",
       "      <th>Train RMSE</th>\n",
       "      <th>Train R2</th>\n",
       "      <th>Test MAE</th>\n",
       "      <th>Test MSE</th>\n",
       "      <th>Test RMSE</th>\n",
       "      <th>Test R2</th>\n",
       "    </tr>\n",
       "  </thead>\n",
       "  <tbody>\n",
       "    <tr>\n",
       "      <th>0</th>\n",
       "      <td>Baseline</td>\n",
       "      <td>0.087529</td>\n",
       "      <td>0.017884</td>\n",
       "      <td>0.13373</td>\n",
       "      <td>0.0</td>\n",
       "      <td>0.090676</td>\n",
       "      <td>0.019772</td>\n",
       "      <td>0.140612</td>\n",
       "      <td>-0.0001</td>\n",
       "    </tr>\n",
       "    <tr>\n",
       "      <th>1</th>\n",
       "      <td>k Nearest Neighbor</td>\n",
       "      <td>0.066004</td>\n",
       "      <td>0.01209</td>\n",
       "      <td>0.109954</td>\n",
       "      <td>0.32398</td>\n",
       "      <td>0.067364</td>\n",
       "      <td>0.012791</td>\n",
       "      <td>0.113099</td>\n",
       "      <td>0.352987</td>\n",
       "    </tr>\n",
       "    <tr>\n",
       "      <th>2</th>\n",
       "      <td>SVR</td>\n",
       "      <td>0.104178</td>\n",
       "      <td>0.016254</td>\n",
       "      <td>0.127492</td>\n",
       "      <td>0.091116</td>\n",
       "      <td>0.10604</td>\n",
       "      <td>0.016782</td>\n",
       "      <td>0.129544</td>\n",
       "      <td>-0.025504</td>\n",
       "    </tr>\n",
       "    <tr>\n",
       "      <th>3</th>\n",
       "      <td>Random Forest</td>\n",
       "      <td>0.06653</td>\n",
       "      <td>0.01216</td>\n",
       "      <td>0.110273</td>\n",
       "      <td>0.320042</td>\n",
       "      <td>0.066961</td>\n",
       "      <td>0.012535</td>\n",
       "      <td>0.111958</td>\n",
       "      <td>0.365977</td>\n",
       "    </tr>\n",
       "  </tbody>\n",
       "</table>\n",
       "</div>"
      ],
      "text/plain": [
       "               Method Train MAE Train MSE Train RMSE  Train R2  Test MAE  \\\n",
       "0            Baseline  0.087529  0.017884    0.13373       0.0  0.090676   \n",
       "1  k Nearest Neighbor  0.066004   0.01209   0.109954   0.32398  0.067364   \n",
       "2                 SVR  0.104178  0.016254   0.127492  0.091116   0.10604   \n",
       "3       Random Forest   0.06653   0.01216   0.110273  0.320042  0.066961   \n",
       "\n",
       "   Test MSE Test RMSE   Test R2  \n",
       "0  0.019772  0.140612   -0.0001  \n",
       "1  0.012791  0.113099  0.352987  \n",
       "2  0.016782  0.129544 -0.025504  \n",
       "3  0.012535  0.111958  0.365977  "
      ]
     },
     "execution_count": 170,
     "metadata": {},
     "output_type": "execute_result"
    }
   ],
   "source": [
    "results_1 = pd.concat([prediction_1, knn_results_1, svr_results_1, rf1_results], axis = 0, ignore_index = True)\n",
    "results_1 "
   ]
  },
  {
   "cell_type": "markdown",
   "id": "ba8dac22",
   "metadata": {},
   "source": [
    "#### Bootstrap Confidence Intervals"
   ]
  },
  {
   "cell_type": "markdown",
   "id": "6e49a6a3",
   "metadata": {},
   "source": [
    "For this section, want to develop logic to use bootstrap method to configure confidence interval."
   ]
  },
  {
   "cell_type": "code",
   "execution_count": 50,
   "id": "a94e2a29",
   "metadata": {},
   "outputs": [
    {
     "data": {
      "text/html": [
       "<div>\n",
       "<style scoped>\n",
       "    .dataframe tbody tr th:only-of-type {\n",
       "        vertical-align: middle;\n",
       "    }\n",
       "\n",
       "    .dataframe tbody tr th {\n",
       "        vertical-align: top;\n",
       "    }\n",
       "\n",
       "    .dataframe thead th {\n",
       "        text-align: right;\n",
       "    }\n",
       "</style>\n",
       "<table border=\"1\" class=\"dataframe\">\n",
       "  <thead>\n",
       "    <tr style=\"text-align: right;\">\n",
       "      <th></th>\n",
       "      <th>orbitperiod</th>\n",
       "      <th>eccentricity</th>\n",
       "    </tr>\n",
       "    <tr>\n",
       "      <th>planetname</th>\n",
       "      <th></th>\n",
       "      <th></th>\n",
       "    </tr>\n",
       "  </thead>\n",
       "  <tbody>\n",
       "    <tr>\n",
       "      <th>11 Com b</th>\n",
       "      <td>2.513258</td>\n",
       "      <td>0.231000</td>\n",
       "    </tr>\n",
       "    <tr>\n",
       "      <th>11 UMi b</th>\n",
       "      <td>2.712835</td>\n",
       "      <td>0.080000</td>\n",
       "    </tr>\n",
       "    <tr>\n",
       "      <th>14 And b</th>\n",
       "      <td>2.269139</td>\n",
       "      <td>0.000000</td>\n",
       "    </tr>\n",
       "    <tr>\n",
       "      <th>14 Her b</th>\n",
       "      <td>3.247139</td>\n",
       "      <td>0.362233</td>\n",
       "    </tr>\n",
       "    <tr>\n",
       "      <th>16 Cyg B b</th>\n",
       "      <td>2.902751</td>\n",
       "      <td>0.676033</td>\n",
       "    </tr>\n",
       "    <tr>\n",
       "      <th>...</th>\n",
       "      <td>...</td>\n",
       "      <td>...</td>\n",
       "    </tr>\n",
       "    <tr>\n",
       "      <th>ups And b</th>\n",
       "      <td>0.664287</td>\n",
       "      <td>0.030200</td>\n",
       "    </tr>\n",
       "    <tr>\n",
       "      <th>ups And c</th>\n",
       "      <td>2.381528</td>\n",
       "      <td>0.238933</td>\n",
       "    </tr>\n",
       "    <tr>\n",
       "      <th>ups And d</th>\n",
       "      <td>3.109020</td>\n",
       "      <td>0.281117</td>\n",
       "    </tr>\n",
       "    <tr>\n",
       "      <th>ups Leo b</th>\n",
       "      <td>2.585686</td>\n",
       "      <td>0.320000</td>\n",
       "    </tr>\n",
       "    <tr>\n",
       "      <th>xi Aql b</th>\n",
       "      <td>2.135927</td>\n",
       "      <td>0.000000</td>\n",
       "    </tr>\n",
       "  </tbody>\n",
       "</table>\n",
       "<p>4371 rows × 2 columns</p>\n",
       "</div>"
      ],
      "text/plain": [
       "            orbitperiod  eccentricity\n",
       "planetname                           \n",
       "11 Com b       2.513258      0.231000\n",
       "11 UMi b       2.712835      0.080000\n",
       "14 And b       2.269139      0.000000\n",
       "14 Her b       3.247139      0.362233\n",
       "16 Cyg B b     2.902751      0.676033\n",
       "...                 ...           ...\n",
       "ups And b      0.664287      0.030200\n",
       "ups And c      2.381528      0.238933\n",
       "ups And d      3.109020      0.281117\n",
       "ups Leo b      2.585686      0.320000\n",
       "xi Aql b       2.135927      0.000000\n",
       "\n",
       "[4371 rows x 2 columns]"
      ]
     },
     "execution_count": 50,
     "metadata": {},
     "output_type": "execute_result"
    }
   ],
   "source": [
    "df2_log = pd.concat([np.log10(orbper), eccen], axis = 1)\n",
    "df2_log"
   ]
  },
  {
   "cell_type": "code",
   "execution_count": 51,
   "id": "5ef51cb3",
   "metadata": {},
   "outputs": [
    {
     "data": {
      "text/plain": [
       "array([[2.51325756, 0.231     ],\n",
       "       [2.71283481, 0.08      ],\n",
       "       [2.2691392 , 0.        ],\n",
       "       ...,\n",
       "       [3.10902011, 0.28111667],\n",
       "       [2.58568628, 0.32      ],\n",
       "       [2.13592734, 0.        ]])"
      ]
     },
     "execution_count": 51,
     "metadata": {},
     "output_type": "execute_result"
    }
   ],
   "source": [
    "df2_log.values"
   ]
  },
  {
   "cell_type": "code",
   "execution_count": 52,
   "id": "9d456fd3",
   "metadata": {},
   "outputs": [
    {
     "data": {
      "text/plain": [
       "pandas.core.frame.DataFrame"
      ]
     },
     "execution_count": 52,
     "metadata": {},
     "output_type": "execute_result"
    }
   ],
   "source": [
    "type(df2_log)"
   ]
  },
  {
   "cell_type": "code",
   "execution_count": 53,
   "id": "8e546f93",
   "metadata": {},
   "outputs": [
    {
     "ename": "KeyboardInterrupt",
     "evalue": "",
     "output_type": "error",
     "traceback": [
      "\u001b[1;31m---------------------------------------------------------------------------\u001b[0m",
      "\u001b[1;31mKeyboardInterrupt\u001b[0m                         Traceback (most recent call last)",
      "Input \u001b[1;32mIn [53]\u001b[0m, in \u001b[0;36m<cell line: 9>\u001b[1;34m()\u001b[0m\n\u001b[0;32m      9\u001b[0m \u001b[38;5;28;01mfor\u001b[39;00m index \u001b[38;5;129;01min\u001b[39;00m \u001b[38;5;28mrange\u001b[39m(n_iters):\n\u001b[0;32m     10\u001b[0m     \u001b[38;5;66;03m# Prep train and test sets\u001b[39;00m\n\u001b[0;32m     11\u001b[0m     train \u001b[38;5;241m=\u001b[39m resample(values, n_samples \u001b[38;5;241m=\u001b[39m n_size)\n\u001b[1;32m---> 12\u001b[0m     test \u001b[38;5;241m=\u001b[39m np\u001b[38;5;241m.\u001b[39marray([x \u001b[38;5;28;01mfor\u001b[39;00m x \u001b[38;5;129;01min\u001b[39;00m values \u001b[38;5;28;01mif\u001b[39;00m x\u001b[38;5;241m.\u001b[39mtolist() \u001b[38;5;129;01mnot\u001b[39;00m \u001b[38;5;129;01min\u001b[39;00m train\u001b[38;5;241m.\u001b[39mtolist()])\n\u001b[0;32m     13\u001b[0m     \u001b[38;5;66;03m# Fit model\u001b[39;00m\n\u001b[0;32m     14\u001b[0m     bootstrap_knn \u001b[38;5;241m=\u001b[39m  KNeighborsRegressor(n_neighbors \u001b[38;5;241m=\u001b[39m \u001b[38;5;241m64\u001b[39m)\n",
      "Input \u001b[1;32mIn [53]\u001b[0m, in \u001b[0;36m<listcomp>\u001b[1;34m(.0)\u001b[0m\n\u001b[0;32m      9\u001b[0m \u001b[38;5;28;01mfor\u001b[39;00m index \u001b[38;5;129;01min\u001b[39;00m \u001b[38;5;28mrange\u001b[39m(n_iters):\n\u001b[0;32m     10\u001b[0m     \u001b[38;5;66;03m# Prep train and test sets\u001b[39;00m\n\u001b[0;32m     11\u001b[0m     train \u001b[38;5;241m=\u001b[39m resample(values, n_samples \u001b[38;5;241m=\u001b[39m n_size)\n\u001b[1;32m---> 12\u001b[0m     test \u001b[38;5;241m=\u001b[39m np\u001b[38;5;241m.\u001b[39marray([x \u001b[38;5;28;01mfor\u001b[39;00m x \u001b[38;5;129;01min\u001b[39;00m values \u001b[38;5;28;01mif\u001b[39;00m \u001b[43mx\u001b[49m\u001b[38;5;241;43m.\u001b[39;49m\u001b[43mtolist\u001b[49m() \u001b[38;5;129;01mnot\u001b[39;00m \u001b[38;5;129;01min\u001b[39;00m train\u001b[38;5;241m.\u001b[39mtolist()])\n\u001b[0;32m     13\u001b[0m     \u001b[38;5;66;03m# Fit model\u001b[39;00m\n\u001b[0;32m     14\u001b[0m     bootstrap_knn \u001b[38;5;241m=\u001b[39m  KNeighborsRegressor(n_neighbors \u001b[38;5;241m=\u001b[39m \u001b[38;5;241m64\u001b[39m)\n",
      "\u001b[1;31mKeyboardInterrupt\u001b[0m: "
     ]
    }
   ],
   "source": [
    "from sklearn.utils import resample\n",
    "# Load data\n",
    "values = df2_log.values\n",
    "# Set up bootstrap\n",
    "n_iters = 50\n",
    "n_size = int(len(df2_log) * 0.50)\n",
    "# Run bootstrap\n",
    "stats = list()\n",
    "for index in range(n_iters):\n",
    "    # Prep train and test sets\n",
    "    train = resample(values, n_samples = n_size)\n",
    "    test = np.array([x for x in values if x.tolist() not in train.tolist()])\n",
    "    # Fit model\n",
    "    bootstrap_knn =  KNeighborsRegressor(n_neighbors = 64)\n",
    "    bootstrap_knn.fit(train[:, :-1], train[:, -1])\n",
    "    # Evaluate model\n",
    "    predictions = bootstrap_knn.predict(test[:, :-1])\n",
    "    score = mean_absolute_error(test[:, -1], predictions)\n",
    "    #print(head(score))\n",
    "    #print(tail(score))\n",
    "    stats.append(score)\n",
    "# Plot Scores\n",
    "plt.hist(stats)\n",
    "plt.shot()\n",
    "# Confidence Interval\n",
    "alpha = 0.95\n",
    "p = ((1.0 - alpha)/2.0) * 100\n",
    "lower = max(0.0, np.percentiles(stats, p))\n",
    "p = (alpha + ((1.0 - alpha)/2.0)) * 100\n",
    "upper = min(1.0, np.percentile(stats, p))\n",
    "print('%.1f confidence interval %.1f% and %.1f%' % (alpha*100, lower*100, upper*100))"
   ]
  },
  {
   "cell_type": "code",
   "execution_count": 199,
   "id": "48cdd1b5",
   "metadata": {},
   "outputs": [],
   "source": [
    "def bootstrap_95ci_mae(data): # <- Mean Absolute Error\n",
    "    # Load and transform data\n",
    "    #values = data.values\n",
    "    #values = data.ravel()\n",
    "    values = data\n",
    "    # Set up bootstrap\n",
    "    bootstrap_iter = 5000\n",
    "    #sample_size = int(len(data) * 0.50)\n",
    "    sample_size = len(data)\n",
    "    #sample_size = bootstrap_iter\n",
    "    # Confidence Interval\n",
    "    confidence = 0.95\n",
    "    alpha_level = 0.95 * 100\n",
    "    lower = ((1.0 - confidence)/2.0) * 100 # Should be 2.5 as the lower bound.\n",
    "    upper = alpha_level + (((1.0 - confidence)/2.0) * 100) # Should be 97.5 as the upper bound\n",
    "    # Run bootstrap\n",
    "    mae_metrics = []\n",
    "    #stats = list()\n",
    "    for index in range(bootstrap_iter):\n",
    "        #sample = resample(values, n_samples = sample_size)\n",
    "        sample = resample(values, n_samples = sample_size)\n",
    "        #test = np.array([x for x in values if x.tolist() not in train.tolist()])\n",
    "        #r2 = r2_score(test_data, predictions)\n",
    "        #r2 = r2_score(test_data, sample)\n",
    "        #bootstrap_knn =  KNeighborsRegressor(n_neighbors = 64)\n",
    "        #bootstrap_knn.fit(train[:, :-1], train[:, -1])\n",
    "        #predictions = bootstrap_knn.predict(test[:, :-1])\n",
    "        #score = mean_absolute_error(test[:, -1], predictions)\n",
    "        score = mean_absolute_error(data, sample)\n",
    "        mae_metrics.append(score)\n",
    "        #r2_metrics.append(r2)\n",
    "        #stats.append(score)\n",
    "    confidence_interval = np.percentile(mae_metrics, [lower, upper])\n",
    "    #plt.hist(stats)\n",
    "    #plt.hist(mae_metrics)\n",
    "    #plt.show()\n",
    "    return plt.hist(mae_metrics, color = '#2eb3b0', edgecolor = 'black'), confidence_interval"
   ]
  },
  {
   "cell_type": "code",
   "execution_count": 200,
   "id": "ef0d9a6b",
   "metadata": {},
   "outputs": [
    {
     "data": {
      "text/plain": [
       "((array([   9.,   71.,  334.,  895., 1414., 1287.,  707.,  222.,   56.,\n",
       "            5.]),\n",
       "  array([0.05356872, 0.05525229, 0.05693586, 0.05861943, 0.060303  ,\n",
       "         0.06198657, 0.06367014, 0.0653537 , 0.06703727, 0.06872084,\n",
       "         0.07040441]),\n",
       "  <BarContainer object of 10 artists>),\n",
       " array([0.05728927, 0.06630552]))"
      ]
     },
     "execution_count": 200,
     "metadata": {},
     "output_type": "execute_result"
    },
    {
     "data": {
      "image/png": "[encoded data removed]",
      "text/plain": [
       "<Figure size 432x288 with 1 Axes>"
      ]
     },
     "metadata": {
      "needs_background": "light"
     },
     "output_type": "display_data"
    }
   ],
   "source": [
    "bootstrap_95ci_mae(y_knn_test_pred_1)"
   ]
  },
  {
   "cell_type": "code",
   "execution_count": 100,
   "id": "10e246b0",
   "metadata": {},
   "outputs": [],
   "source": [
    "def ci_95_mae(test_data): # The function will be set up for a 95% confidence interval.\n",
    "    bootstrap_iter = 5000\n",
    "    sample_size = len(test_data)\n",
    "    #sample_size = bootstrap_iter\n",
    "    mae_metrics = []\n",
    "    confidence = 0.95\n",
    "    alpha_level = 0.95 * 100\n",
    "    lower = ((1.0 - confidence)/2.0) * 100 # Should be 2.5 as the lower bound.\n",
    "    upper = alpha_level + (((1.0 - confidence)/2.0) * 100) # Should be 97.5 as the upper bound\n",
    "    for i in range(bootstrap_iter):\n",
    "        #sample = resample(predictions, n_samples = sample_size)\n",
    "        sample = resample(test_data, n_samples = sample_size)\n",
    "        #r2 = r2_score(test_data, predictions)\n",
    "        mae = mean_absolute_error(test_data, sample)\n",
    "        mae_metrics.append(mae)\n",
    "    confidence_interval = np.percentile(mae_metrics, [lower, upper])\n",
    "    return mae_metrics, confidence_interval"
   ]
  },
  {
   "cell_type": "code",
   "execution_count": 101,
   "id": "8a190532",
   "metadata": {},
   "outputs": [],
   "source": [
    "a1, b1 = ci_95_mae(y_knn_test_pred_1)"
   ]
  },
  {
   "cell_type": "code",
   "execution_count": 102,
   "id": "6849d3a5",
   "metadata": {},
   "outputs": [
    {
     "data": {
      "text/plain": [
       "array([0.05732371, 0.06628269])"
      ]
     },
     "execution_count": 102,
     "metadata": {},
     "output_type": "execute_result"
    }
   ],
   "source": [
    "b1"
   ]
  },
  {
   "cell_type": "code",
   "execution_count": 198,
   "id": "1695095f",
   "metadata": {},
   "outputs": [
    {
     "data": {
      "text/plain": [
       "(array([   3.,   27.,  165.,  632., 1425., 1467.,  888.,  313.,   75.,\n",
       "           5.]),\n",
       " array([0.05240346, 0.05419888, 0.05599431, 0.05778973, 0.05958515,\n",
       "        0.06138057, 0.063176  , 0.06497142, 0.06676684, 0.06856226,\n",
       "        0.07035769]),\n",
       " <BarContainer object of 10 artists>)"
      ]
     },
     "execution_count": 198,
     "metadata": {},
     "output_type": "execute_result"
    },
    {
     "data": {
      "image/png": "[encoded data removed]",
      "text/plain": [
       "<Figure size 432x288 with 1 Axes>"
      ]
     },
     "metadata": {
      "needs_background": "light"
     },
     "output_type": "display_data"
    }
   ],
   "source": [
    "plt.hist(a1, color = '#4db32e', edgecolor = 'red')"
   ]
  },
  {
   "cell_type": "code",
   "execution_count": 104,
   "id": "3a7fbd26",
   "metadata": {},
   "outputs": [],
   "source": [
    "a2, b2 = ci_95_mae(y_rf_test_pred_1)"
   ]
  },
  {
   "cell_type": "code",
   "execution_count": 105,
   "id": "33ce86ff",
   "metadata": {},
   "outputs": [
    {
     "data": {
      "text/plain": [
       "array([0.04952513, 0.05901313])"
      ]
     },
     "execution_count": 105,
     "metadata": {},
     "output_type": "execute_result"
    }
   ],
   "source": [
    "b2"
   ]
  },
  {
   "cell_type": "code",
   "execution_count": 201,
   "id": "abdd2742",
   "metadata": {},
   "outputs": [
    {
     "data": {
      "text/plain": [
       "(array([  10.,   89.,  419., 1036., 1482., 1178.,  565.,  175.,   39.,\n",
       "           7.]),\n",
       " array([0.04565786, 0.04747489, 0.04929192, 0.05110894, 0.05292597,\n",
       "        0.054743  , 0.05656002, 0.05837705, 0.06019408, 0.0620111 ,\n",
       "        0.06382813]),\n",
       " <BarContainer object of 10 artists>)"
      ]
     },
     "execution_count": 201,
     "metadata": {},
     "output_type": "execute_result"
    },
    {
     "data": {
      "image/png": "[encoded data removed]",
      "text/plain": [
       "<Figure size 432x288 with 1 Axes>"
      ]
     },
     "metadata": {
      "needs_background": "light"
     },
     "output_type": "display_data"
    }
   ],
   "source": [
    "plt.hist(a2, color = '#ad6dcf', edgecolor = 'white')"
   ]
  },
  {
   "cell_type": "code",
   "execution_count": 107,
   "id": "4caf5ba9",
   "metadata": {},
   "outputs": [],
   "source": [
    "a3, b3 = ci_95_mae(y1_test)"
   ]
  },
  {
   "cell_type": "code",
   "execution_count": 108,
   "id": "aaf1f71d",
   "metadata": {},
   "outputs": [
    {
     "data": {
      "text/plain": [
       "array([0.09917254, 0.11659113])"
      ]
     },
     "execution_count": 108,
     "metadata": {},
     "output_type": "execute_result"
    }
   ],
   "source": [
    "b3"
   ]
  },
  {
   "cell_type": "code",
   "execution_count": 109,
   "id": "04a7f056",
   "metadata": {},
   "outputs": [
    {
     "data": {
      "text/plain": [
       "(array([  12.,   95.,  446., 1098., 1451., 1156.,  523.,  174.,   39.,\n",
       "           6.]),\n",
       " array([0.09235489, 0.09562508, 0.09889526, 0.10216544, 0.10543562,\n",
       "        0.10870581, 0.11197599, 0.11524617, 0.11851635, 0.12178654,\n",
       "        0.12505672]),\n",
       " <BarContainer object of 10 artists>)"
      ]
     },
     "execution_count": 109,
     "metadata": {},
     "output_type": "execute_result"
    },
    {
     "data": {
      "image/png": "[encoded data removed]",
      "text/plain": [
       "<Figure size 432x288 with 1 Axes>"
      ]
     },
     "metadata": {
      "needs_background": "light"
     },
     "output_type": "display_data"
    }
   ],
   "source": [
    "plt.hist(a3)"
   ]
  },
  {
   "cell_type": "markdown",
   "id": "54fe070d",
   "metadata": {},
   "source": [
    "#### Hypothesis Testing"
   ]
  },
  {
   "cell_type": "markdown",
   "id": "46d04859",
   "metadata": {},
   "source": [
    "#### Correlation Tests"
   ]
  },
  {
   "cell_type": "code",
   "execution_count": 176,
   "id": "a704f003",
   "metadata": {},
   "outputs": [
    {
     "name": "stdout",
     "output_type": "stream",
     "text": [
      "stat=0.303, p = 0.000\n",
      "Probably Dependent\n"
     ]
    }
   ],
   "source": [
    "# Spearman's Rank Correlation Test\n",
    "from scipy.stats import spearmanr\n",
    "stat_1, p_1 = spearmanr(orbper_log, eccen)\n",
    "print('stat=%.3f, p = %.3f' % (stat_1, p_1))\n",
    "if p_1 > 0.05:\n",
    "    print('Probably Independent')\n",
    "else :\n",
    "    print('Probably Dependent')"
   ]
  },
  {
   "cell_type": "markdown",
   "id": "c2cccae6",
   "metadata": {},
   "source": [
    "#### Nonparametric Statistical Hypothesis Tests"
   ]
  },
  {
   "cell_type": "code",
   "execution_count": 177,
   "id": "52e767ca",
   "metadata": {},
   "outputs": [
    {
     "name": "stdout",
     "output_type": "stream",
     "text": [
      "stat=17028.000, p = 0.000\n",
      "Probably Dependent\n"
     ]
    }
   ],
   "source": [
    "# Wilcoxon Signed-Rank Test\n",
    "from scipy.stats import wilcoxon\n",
    "stat_2, p_2 = wilcoxon(orbper_log, eccen)\n",
    "print('stat=%.3f, p = %.3f' % (stat_2, p_2))\n",
    "if p_2 > 0.05:\n",
    "    print('Probably Independent')\n",
    "else :\n",
    "    print('Probably Dependent')"
   ]
  },
  {
   "cell_type": "markdown",
   "id": "d1b90d82",
   "metadata": {},
   "source": [
    "### Scenario 2 - temperature as function of planet size"
   ]
  },
  {
   "cell_type": "markdown",
   "id": "ee69b2ec",
   "metadata": {},
   "source": [
    "Now want to begin analysis of equilibrium temperature as a function of planet size."
   ]
  },
  {
   "cell_type": "code",
   "execution_count": null,
   "id": "a3d1e67b",
   "metadata": {},
   "outputs": [],
   "source": [
    "df3 = raw_data.loc[:, ['pl_name','pl_bmassj','pl_eqt']]\n",
    "df3"
   ]
  },
  {
   "cell_type": "code",
   "execution_count": null,
   "id": "b51d578f",
   "metadata": {},
   "outputs": [],
   "source": [
    "df3 = df3.rename(columns={'pl_name':'planetname', 'pl_bmassj':'mass', 'pl_eqt':'temperature'})\n",
    "df3 = df3.dropna()\n",
    "df3"
   ]
  },
  {
   "cell_type": "code",
   "execution_count": null,
   "id": "d9d147b8",
   "metadata": {},
   "outputs": [],
   "source": [
    "mass = df3.groupby('planetname')['mass'].mean()\n",
    "temp = df3.groupby('planetname')['temperature'].mean()"
   ]
  },
  {
   "cell_type": "code",
   "execution_count": null,
   "id": "d2159858",
   "metadata": {},
   "outputs": [],
   "source": [
    "print(mass)\n",
    "print(temp)"
   ]
  },
  {
   "cell_type": "code",
   "execution_count": null,
   "id": "c021cc80",
   "metadata": {},
   "outputs": [],
   "source": [
    "plt.scatter(mass, np.log(temp))"
   ]
  },
  {
   "cell_type": "markdown",
   "id": "0aa32116",
   "metadata": {},
   "source": [
    "Want some summary statistics for the new two variables."
   ]
  },
  {
   "cell_type": "code",
   "execution_count": null,
   "id": "1ffe6287",
   "metadata": {},
   "outputs": [],
   "source": [
    "mass_med = statistics.median(list(mass))\n",
    "temp_med = statistics.median(list(temp))\n",
    "print('\\nThe median mass: %.4f' % mass_med)\n",
    "print('\\nThe median temperature: %.2f' % temp_med)\n",
    "iqr_mass = stats.iqr(mass, interpolation = 'midpoint')\n",
    "iqr_temp = stats.iqr(temp, interpolation = 'midpoint')\n",
    "print('\\nThe interquartile range of the mass: %.2f' % iqr_mass)\n",
    "print('\\nThe interquartile range of the temperature: %.2f' % iqr_temp)\n",
    "mass_mode = statistics.mode(list(mass))\n",
    "print('\\nThe mode for the mass: %.2f' % mass_mode)\n",
    "temp_mode = statistics.mode(list(temp))\n",
    "print('\\nThe mode for the temperature: %.2f' % temp_mode)\n",
    "mass_avg = statistics.mean(list(mass))\n",
    "print('\\nThe mean for the mass: %.2f' % mass_avg)\n",
    "temp_avg = statistics.mean(list(temp))\n",
    "print('\\nThe mean for the planetary temperature: %.2f' % temp_avg)"
   ]
  },
  {
   "cell_type": "code",
   "execution_count": null,
   "id": "3e6a8af4",
   "metadata": {},
   "outputs": [],
   "source": [
    "plt.hist(mass, color = \"blueviolet\", edgecolor = 'white')"
   ]
  },
  {
   "cell_type": "code",
   "execution_count": null,
   "id": "6793bd07",
   "metadata": {},
   "outputs": [],
   "source": [
    "mass_log = np.log10(mass)\n",
    "plt.hist(mass_log, color = \"blueviolet\", edgecolor = 'red')"
   ]
  },
  {
   "cell_type": "markdown",
   "id": "fae0873a",
   "metadata": {},
   "source": [
    "The distribution became more normally distributed when applying the log base 10 transformation on the dataset."
   ]
  },
  {
   "cell_type": "code",
   "execution_count": null,
   "id": "a1c7f7fa",
   "metadata": {},
   "outputs": [],
   "source": [
    "plt.hist(temp, color = \"teal\", edgecolor = 'white')"
   ]
  },
  {
   "cell_type": "code",
   "execution_count": null,
   "id": "17d104ce",
   "metadata": {},
   "outputs": [],
   "source": [
    "temp_log = np.log10(temp)\n",
    "plt.hist(temp_log, color = \"teal\", edgecolor = 'red')"
   ]
  },
  {
   "cell_type": "markdown",
   "id": "190e16f1",
   "metadata": {},
   "source": [
    "In this case, the dataset became skew left when the logarithmic transformation was applied."
   ]
  },
  {
   "cell_type": "markdown",
   "id": "dc8496aa",
   "metadata": {},
   "source": [
    "Will now split the data into their respective sets."
   ]
  },
  {
   "cell_type": "code",
   "execution_count": null,
   "id": "cda51b75",
   "metadata": {},
   "outputs": [],
   "source": [
    "X2 = np.array(mass).reshape(-1,1)\n",
    "y2 = np.array(temp).reshape(-1, 1)\n",
    "X2_train, X2_test, y2_train, y2_test = train_test_split(X2, y2, train_size = 0.80, random_state = 25)\n",
    "y2_train = y2_train.reshape(len(y2_train), )\n",
    "y2_test = y2_test.reshape(len(y2_test), )"
   ]
  },
  {
   "cell_type": "code",
   "execution_count": null,
   "id": "5cfc4f47",
   "metadata": {},
   "outputs": [],
   "source": [
    "# Establishing baselines for predictions according to the y-variable or response variable.\n",
    "y_baseline_2= y2_train.mean()\n",
    "#y_baseline_2= statistics.median(y2_train)\n",
    "y_pred_train_2 = [y_baseline_2]*len(y2_train) #<- Training Baseline\n",
    "y_pred_test_2 = [y_baseline_2]*len(y2_test)"
   ]
  },
  {
   "cell_type": "code",
   "execution_count": null,
   "id": "0b741f53",
   "metadata": {},
   "outputs": [],
   "source": [
    "# Following is for the Training Dataset.\n",
    "# Error for training data baseline guess.\n",
    "mae_train_2 = mean_absolute_error(y2_train, y_pred_train_2)\n",
    "# Mean squared error for training data baseline guess.\n",
    "mse_train_2 = mean_squared_error(y2_train, y_pred_train_2)\n",
    "rmse_train_2 = sqrt(mse_train_2) # <- will compute the root mean square error\n",
    "# R-squared for training data baseline guess.\n",
    "y2_train_r2 = r2_score(y2_train, y_pred_train_2)"
   ]
  },
  {
   "cell_type": "code",
   "execution_count": null,
   "id": "2514668c",
   "metadata": {},
   "outputs": [],
   "source": [
    "# Error for test data baseline guess.\n",
    "mae_test_2 = mean_absolute_error(y2_test, y_pred_test_2)\n",
    "# Mean squared error for test data baseline guess.\n",
    "mse_test_2 = mean_squared_error(y2_test, y_pred_test_2)\n",
    "# Test Root Mean Square Error\n",
    "rmse_test_2 = sqrt(mse_test_2)\n",
    "# R-squared for test data baseline guess.\n",
    "y2_test_r2 = r2_score(y2_test, y_pred_test_2)"
   ]
  },
  {
   "cell_type": "code",
   "execution_count": null,
   "id": "2e29cf4f",
   "metadata": {},
   "outputs": [],
   "source": [
    "baseline_2 = pd.DataFrame(['Baseline', mae_train_2, mse_train_2, rmse_train_2, y2_train_r2, mae_test_2, mse_test_2, rmse_test_2, y2_test_r2]).T\n",
    "baseline_2.columns = metric_col_names\n",
    "baseline_2"
   ]
  },
  {
   "cell_type": "markdown",
   "id": "b219dc7e",
   "metadata": {},
   "source": [
    "Recall that the response variable (y) in this case is the mass of the planet (in Jupiter masses) which needs the log base 10 transform."
   ]
  },
  {
   "cell_type": "code",
   "execution_count": null,
   "id": "cabe1a16",
   "metadata": {},
   "outputs": [],
   "source": [
    "X2_train_log, X2_test_log = np.log10(X2_train), np.log10(X2_test)\n",
    "y2_train_log = np.log10(y2_train)"
   ]
  },
  {
   "cell_type": "code",
   "execution_count": null,
   "id": "d24006c2",
   "metadata": {
    "scrolled": true
   },
   "outputs": [],
   "source": [
    "# kNN R-squared accuracy\n",
    "knn_r_acc_2 = []\n",
    "for j in range(1, 75, 1):\n",
    "    knn_2 = KNeighborsRegressor(n_neighbors = j)\n",
    "    knn_2.fit(X2_train_log.reshape(-1, 1), y2_train_log.reshape(-1, 1))\n",
    "    test_score_2 = knn_2.score(X2_test_log.reshape(-1, 1), np.log10(y2_test))\n",
    "    train_score_2 = knn_2.score(X2_train_log.reshape(-1, 1), y2_train_log.reshape(-1, 1))\n",
    "    knn_r_acc_2.append((j, test_score_2, train_score_2))\n",
    "outcomes_2 = pd.DataFrame(knn_r_acc_2, columns = ['k', 'Test Score', 'Train Score'])\n",
    "print(outcomes_2)\n",
    "print('The highest Test R-squared value occurs at : %.4f' % outcomes_2.iloc[:,1].max())\n",
    "print('Within given range, optimal k is: ', outcomes_2.loc[outcomes_2['Test Score'] == outcomes_2.iloc[:,1].max(), 'k'].iloc[0])"
   ]
  },
  {
   "cell_type": "code",
   "execution_count": null,
   "id": "044f5593",
   "metadata": {},
   "outputs": [],
   "source": [
    "model_knn_2 = KNeighborsRegressor(n_neighbors = 40)\n",
    "model_knn_2.fit(X2_train_log.reshape(-1, 1), y2_train_log.reshape(-1, 1))\n",
    "y_knn_train_pred_2_log = model_knn_2.predict(X2_train_log.reshape(-1, 1))\n",
    "y_knn_test_pred_2_log = model_knn_2.predict(X2_test_log.reshape(-1, 1))"
   ]
  },
  {
   "cell_type": "code",
   "execution_count": null,
   "id": "441396e5",
   "metadata": {},
   "outputs": [],
   "source": [
    "y_knn_train_pred_2 = pow(10, y_knn_train_pred_2_log)\n",
    "#y_knn_train_pred_2 = y_knn_train_pred_2_log\n",
    "y_knn_test_pred_2 = pow(10, y_knn_test_pred_2_log)\n",
    "#y_knn_test_pred_2 = y_knn_test_pred_2_log\n",
    "#X2_inverse = pow(10, y_knn_test_pred_2_log) #<- Will cause runtime error that is overflow in power function."
   ]
  },
  {
   "cell_type": "code",
   "execution_count": null,
   "id": "4eafa626",
   "metadata": {},
   "outputs": [],
   "source": [
    "# First the training metrics.\n",
    "knn2_train_mae = mean_absolute_error(y2_train, y_knn_train_pred_2)\n",
    "knn2_train_mse = mean_squared_error(y2_train, y_knn_train_pred_2)\n",
    "knn2_train_rmse = sqrt(knn2_train_mse) # <- will compute the root mean square error\n",
    "knn2_train_r2 = r2_score(y2_train, y_knn_train_pred_2)\n",
    "# Now, test set metrics.\n",
    "knn2_test_mae = mean_absolute_error(y2_test, y_knn_test_pred_2)\n",
    "knn2_test_mse = mean_squared_error(y2_test, y_knn_test_pred_2)\n",
    "knn2_test_rmse = sqrt(knn2_test_mse)\n",
    "knn2_test_r2 = r2_score(y2_test, y_knn_test_pred_2)\n",
    "# Consolidate the results.\n",
    "knn_results_2 = pd.DataFrame(['k Nearest Neighbor', knn2_train_mae, knn2_train_mse, knn2_train_rmse, knn2_train_r2, knn2_test_mae, knn2_test_mse, knn2_test_rmse, knn2_test_r2]).transpose()\n",
    "knn_results_2.columns = metric_col_names\n",
    "knn_results_2"
   ]
  },
  {
   "cell_type": "code",
   "execution_count": null,
   "id": "b2b16b7a",
   "metadata": {},
   "outputs": [],
   "source": [
    "plt.hist(y_knn_test_pred_2, color = \"teal\", edgecolor = 'white')"
   ]
  },
  {
   "cell_type": "markdown",
   "id": "bccdcb67",
   "metadata": {},
   "source": [
    "Now, want the true versus the predicted values."
   ]
  },
  {
   "cell_type": "code",
   "execution_count": null,
   "id": "ebdd2079",
   "metadata": {},
   "outputs": [],
   "source": [
    "true_values_2 = y2_test\n",
    "predicted_values2_1 = y_knn_test_pred_2\n",
    "plt.figure(figsize = (6, 6))\n",
    "plt.scatter(true_values_2, predicted_values2_1, c = 'orange')\n",
    "p3 = max(max(predicted_values2_1), max(true_values_2))\n",
    "p4 = min(min(predicted_values2_1), min(true_values_2))\n",
    "plt.plot([p3, p4], [p3, p4], 'b-')\n",
    "plt.show()"
   ]
  },
  {
   "cell_type": "code",
   "execution_count": null,
   "id": "36f35a4f",
   "metadata": {
    "scrolled": true
   },
   "outputs": [],
   "source": [
    "residuals2_1 = list()\n",
    "for item5, item6 in zip(true_values_2, predicted_values2_1):\n",
    "    residuals2_1.append(item6 - item5)\n",
    "resid_plot1 = plt.scatter(predicted_values2_1, residuals2_1, c = 'green')\n",
    "plt.show(resid_plot1)"
   ]
  },
  {
   "cell_type": "code",
   "execution_count": null,
   "id": "a5b5be7b",
   "metadata": {},
   "outputs": [],
   "source": [
    "# basic scatterplot to visualize the data.\n",
    "# Remember to only use training data since will use to train model.\n",
    "#plt.scatter(np.log10(X2_train), np.log10(y2_train))\n",
    "plt.scatter(y2_train, X2_train)"
   ]
  },
  {
   "cell_type": "markdown",
   "id": "24f15371",
   "metadata": {},
   "source": [
    "Now to build Support Vector Regressor model."
   ]
  },
  {
   "cell_type": "code",
   "execution_count": null,
   "id": "6a8f36b0",
   "metadata": {},
   "outputs": [],
   "source": [
    "X2_train_log = X2_train_log.reshape(-1,1)\n",
    "X2_test_log = X2_test_log.reshape(-1,1)\n",
    "y2_train_log = y2_train_log.reshape(-1,1)\n",
    "\n",
    "eps = 8\n",
    "svr_2 = SVR(kernel = 'rbf', C = 1000, epsilon = eps)\n",
    "svr_2.fit(X2_train_log, y2_train_log)\n",
    "\n",
    "#y_svr_train_pred_2 = svr_regressor_2.predict(X2_train)\n",
    "y_svr_train_pred_2_log = svr_2.predict(X2_train_log)\n",
    "#y_svr_test_pred_2 = svr_regressor_2.predict(X2_test)\n",
    "y_svr_test_pred_2_log = svr_2.predict(X2_test_log)\n",
    "y_svr_train_pred_2 = pow(10, y_svr_train_pred_2_log)\n",
    "y_svr_test_pred_2 = pow(10, y_svr_test_pred_2_log)"
   ]
  },
  {
   "cell_type": "code",
   "execution_count": null,
   "id": "39278f03",
   "metadata": {},
   "outputs": [],
   "source": [
    "# Model performance - training set\n",
    "svr2_train_mae = mean_absolute_error(y2_train, y_svr_train_pred_2_log)\n",
    "svr2_train_mse = mean_squared_error(y2_train, y_svr_train_pred_2_log)\n",
    "svr2_train_rmse = sqrt(svr2_train_mse)\n",
    "svr2_train_r2 = r2_score(y2_train, y_svr_train_pred_2_log)\n",
    "# Test results\n",
    "svr2_test_mae = mean_absolute_error(y2_test, y_svr_test_pred_2_log)\n",
    "svr2_test_mse = mean_squared_error(y2_test, y_svr_test_pred_2_log)\n",
    "svr2_test_rmse = sqrt(svr2_test_mse)\n",
    "svr2_test_r2 = r2_score(X2_test, y_svr_test_pred_2_log)\n",
    "# Consolidate the results.\n",
    "#svr_results = pd.DataFrame(['SVR', svr_train_mse, svr_train_r2, svr_test_mse, svr_test_r2]).T\n",
    "svr_results_2 = pd.DataFrame(['SVR', svr2_train_mae, svr2_train_mse, svr2_train_rmse, svr2_train_r2, svr2_test_mae, svr2_test_mse, svr2_test_rmse, svr2_test_r2]).T\n",
    "svr_results_2.columns = metric_col_names\n",
    "#results2 = pd.concat([knn_results, svr_results.T], ignore_index = False)\n",
    "#print(results2)\n",
    "#print(svr_results_1)\n",
    "svr_results_2"
   ]
  },
  {
   "cell_type": "code",
   "execution_count": null,
   "id": "de2413c8",
   "metadata": {},
   "outputs": [],
   "source": [
    "true_values_2 = y2_test\n",
    "predicted_values2_2 = y_svr_test_pred_2\n",
    "plt.figure(figsize = (6, 6))\n",
    "plt.scatter(true_values_2, predicted_values2_2, c = 'orange')\n",
    "p5 = max(max(predicted_values2_2), max(true_values_2))\n",
    "p6 = min(min(predicted_values2_2), min(true_values_2))\n",
    "plt.plot([p5, p6], [p5, p6], 'b-')\n",
    "plt.show()"
   ]
  },
  {
   "cell_type": "code",
   "execution_count": null,
   "id": "04245886",
   "metadata": {},
   "outputs": [],
   "source": [
    "residuals2_2 = list()\n",
    "for item3, item4 in zip(true_values_2, predicted_values2_2):\n",
    "    residuals2_2.append(item3 - item4)\n",
    "plt.scatter(predicted_values2_2, residuals2_2, c = 'green')"
   ]
  },
  {
   "cell_type": "code",
   "execution_count": null,
   "id": "579b330e",
   "metadata": {},
   "outputs": [],
   "source": [
    "rf_2 = RandomForestRegressor(max_depth = 2)\n",
    "rf_2.fit(X2_train_log, y2_train_log)\n",
    "y_rf_train_pred_2_log = rf_2.predict(X2_train_log)\n",
    "y_rf_test_pred_2_log = rf_2.predict(X2_test_log)\n",
    "rf_2"
   ]
  },
  {
   "cell_type": "code",
   "execution_count": null,
   "id": "add146dc",
   "metadata": {},
   "outputs": [],
   "source": [
    "y_rf_train_pred_2 = pow(10, y_rf_train_pred_2_log)\n",
    "y_rf_test_pred_2 = pow(10, y_rf_test_pred_2_log)\n",
    "# Model performance metrics for random forest model.\n",
    "rf2_train_mae = mean_absolute_error(y2_train, y_rf_train_pred_2)\n",
    "rf2_train_mse = mean_squared_error(y2_train, y_rf_train_pred_2)\n",
    "rf2_train_rmse = sqrt(rf2_train_mse)\n",
    "rf2_train_r2 = r2_score(y2_train, y_rf_train_pred_2)\n",
    "# The following are the test metrics.\n",
    "rf2_test_mae = mean_absolute_error(y2_test, y_rf_test_pred_2)\n",
    "rf2_test_mse = mean_squared_error(y2_test, y_rf_test_pred_2)\n",
    "rf2_test_rmse = sqrt(rf2_test_mse)\n",
    "rf2_test_r2 = r2_score(y2_test, y_rf_test_pred_2)"
   ]
  },
  {
   "cell_type": "code",
   "execution_count": null,
   "id": "a4c37fba",
   "metadata": {},
   "outputs": [],
   "source": [
    "rf2_results = pd.DataFrame(['Random Forest', rf2_train_mae, rf2_train_mse, rf2_train_rmse, rf2_train_r2, rf2_test_mae, rf2_test_mse, rf2_test_rmse, rf2_test_r2]).transpose()\n",
    "rf2_results.columns = metric_col_names\n",
    "rf2_results"
   ]
  },
  {
   "cell_type": "code",
   "execution_count": null,
   "id": "1172e7df",
   "metadata": {},
   "outputs": [],
   "source": [
    "results_2 = pd.concat([baseline_2, knn_results_2, svr_results_2, rf2_results], axis = 0, ignore_index = True)\n",
    "results_2 "
   ]
  },
  {
   "cell_type": "code",
   "execution_count": null,
   "id": "7fa18ee6",
   "metadata": {},
   "outputs": [],
   "source": [
    "df4 = raw_data.loc[:, ['pl_name','pl_bmassj','pl_orbper']]\n",
    "df4"
   ]
  },
  {
   "cell_type": "code",
   "execution_count": null,
   "id": "af39e457",
   "metadata": {},
   "outputs": [],
   "source": [
    "df4 = df4.rename(columns={'pl_name':'planetname', 'pl_bmassj':'mass', 'pl_orbper':'orbit period'})\n",
    "df4 = df4.dropna()\n",
    "df4"
   ]
  },
  {
   "cell_type": "code",
   "execution_count": null,
   "id": "cdb1c472",
   "metadata": {},
   "outputs": [],
   "source": [
    "mass_2 = df4.groupby('planetname')['mass'].mean()\n",
    "orbper_2 = df4.groupby('planetname')['orbit period'].mean()"
   ]
  },
  {
   "cell_type": "markdown",
   "id": "1cc7f985",
   "metadata": {},
   "source": [
    "Now some summary statistics for this scenario."
   ]
  },
  {
   "cell_type": "code",
   "execution_count": null,
   "id": "df70cd7c",
   "metadata": {},
   "outputs": [],
   "source": [
    "mass2_med = statistics.median(list(mass_2))\n",
    "orbper2_med = statistics.median(list(orbper_2))\n",
    "print('\\nThe median of the orbital period: %.4f' % orbper_med)\n",
    "print('\\nThe median of the mass: %.2f' % mass2_med)\n",
    "iqr_mass2 = stats.iqr(mass_2, interpolation = 'midpoint')\n",
    "iqr_orbper2 = stats.iqr(orbper_2, interpolation = 'midpoint')\n",
    "print('\\nThe interquartile range of the mass: %.2f' % iqr_mass2)\n",
    "print('\\nThe interquartile range of the orbital period: %.2f' % iqr_orbper2)\n",
    "mass2_mode = statistics.mode(list(mass_2))\n",
    "print('\\nThe mode for the mass: %.2f' % mass2_mode)\n",
    "orbper2_mode = statistics.mode(list(orbper_2))\n",
    "print('\\nThe mode for the orbital period: %.2f' % orbper2_mode)\n",
    "mass2_avg = statistics.mean(list(mass_2))\n",
    "print('\\nThe mean for the mass: %.2f' % eccen_avg)\n",
    "orbper2_avg = statistics.mean(list(orbper_2))\n",
    "print('\\nThe mean for the orbital period: %.2f' % orbper2_avg)"
   ]
  },
  {
   "cell_type": "code",
   "execution_count": null,
   "id": "20c38cd0",
   "metadata": {},
   "outputs": [],
   "source": [
    "plt.hist(mass_2, color = \"darkslategray\", edgecolor = 'red')"
   ]
  },
  {
   "cell_type": "code",
   "execution_count": null,
   "id": "d389f1b8",
   "metadata": {},
   "outputs": [],
   "source": [
    "plt.hist(np.log10(mass_2), color = \"darkslategray\", edgecolor = 'red')"
   ]
  },
  {
   "cell_type": "code",
   "execution_count": null,
   "id": "3042085d",
   "metadata": {},
   "outputs": [],
   "source": [
    "plt.hist(np.log(mass_2), color = \"darkslategray\", edgecolor = 'red')"
   ]
  },
  {
   "cell_type": "code",
   "execution_count": null,
   "id": "8a501a8f",
   "metadata": {},
   "outputs": [],
   "source": [
    "plt.hist(orbper_2, color = \"salmon\", edgecolor = \"yellowgreen\")"
   ]
  },
  {
   "cell_type": "code",
   "execution_count": null,
   "id": "5a45f922",
   "metadata": {},
   "outputs": [],
   "source": [
    "plt.hist(np.log10(orbper_2), color = \"salmon\", edgecolor = \"yellowgreen\")"
   ]
  },
  {
   "cell_type": "code",
   "execution_count": null,
   "id": "d4058dbd",
   "metadata": {},
   "outputs": [],
   "source": [
    "y3 = np.array(mass_2).reshape(-1, 1)\n",
    "X3 = np.array(orbper_2).reshape(-1, 1)\n",
    "X3_train, X3_test, y3_train, y3_test = train_test_split(X3, y3, train_size = 0.80, random_state = 25)\n",
    "y3_train = y3_train.reshape(len(y3_train), )\n",
    "y3_test = y3_test.reshape(len(y3_test), )"
   ]
  },
  {
   "cell_type": "markdown",
   "id": "afbefeef",
   "metadata": {},
   "source": [
    "Establishing baselines for predictions according to the y-variable or response variable."
   ]
  },
  {
   "cell_type": "code",
   "execution_count": null,
   "id": "09c5416a",
   "metadata": {},
   "outputs": [],
   "source": [
    "y_baseline_3= y3_train.mean()\n",
    "#y_baseline_2= statistics.median(y2_train)\n",
    "y_pred_train_3 = [y_baseline_3]*len(y3_train) # <- Training Baseline\n",
    "y_pred_test_3 = [y_baseline_3]*len(y3_test)"
   ]
  },
  {
   "cell_type": "code",
   "execution_count": null,
   "id": "d64c5923",
   "metadata": {},
   "outputs": [],
   "source": [
    "# Following is for the Training Dataset.\n",
    "# Error for training data baseline guess.\n",
    "mae_train_3 = mean_absolute_error(y3_train, y_pred_train_3)\n",
    "# Mean squared error for training data baseline guess.\n",
    "mse_train_3 = mean_squared_error(y3_train, y_pred_train_3)\n",
    "rmse_train_3 = sqrt(mse_train_3) # <- will compute the root mean square error\n",
    "# R-squared for training data baseline guess.\n",
    "y3_train_r2 = r2_score(y3_train, y_pred_train_3)"
   ]
  },
  {
   "cell_type": "code",
   "execution_count": null,
   "id": "0621fdb6",
   "metadata": {},
   "outputs": [],
   "source": [
    "# Error for test data baseline guess.\n",
    "mae_test_3 = mean_absolute_error(y3_test, y_pred_test_3)\n",
    "# Mean squared error for test data baseline guess.\n",
    "mse_test_3 = mean_squared_error(y3_test, y_pred_test_3)\n",
    "# Test Root Mean Square Error\n",
    "rmse_test_3 = sqrt(mse_test_3)\n",
    "# R-squared for test data baseline guess.\n",
    "y3_test_r2 = r2_score(y3_test, y_pred_test_3)"
   ]
  },
  {
   "cell_type": "code",
   "execution_count": null,
   "id": "d3d30b42",
   "metadata": {},
   "outputs": [],
   "source": [
    "baseline_3 = pd.DataFrame(['Baseline', mae_train_3, mse_train_3, rmse_train_3, y3_train_r2, mae_test_3, mse_test_3, rmse_test_3, y3_test_r2]).T\n",
    "baseline_3.columns = metric_col_names\n",
    "baseline_3"
   ]
  },
  {
   "cell_type": "code",
   "execution_count": null,
   "id": "1fe99a07",
   "metadata": {},
   "outputs": [],
   "source": [
    "X3_train_log, X3_test_log = np.log10(X3_train), np.log10(X3_test)\n",
    "y3_train_log = np.log10(y3_train)"
   ]
  },
  {
   "cell_type": "code",
   "execution_count": null,
   "id": "98323dbf",
   "metadata": {},
   "outputs": [],
   "source": [
    "# kNN R-squared accuracy\n",
    "knn_r_acc_3 = []\n",
    "for k in range(1, 75, 1):\n",
    "    knn_3 = KNeighborsRegressor(n_neighbors = k)\n",
    "    knn_3.fit(X3_train_log.reshape(-1, 1), y3_train_log.reshape(-1, 1))\n",
    "    test_score_3 = knn_3.score(X3_test_log.reshape(-1, 1), np.log10(y3_test))\n",
    "    train_score_3 = knn_3.score(X3_train_log.reshape(-1, 1), y3_train_log.reshape(-1, 1))\n",
    "    knn_r_acc_3.append((k, test_score_3, train_score_3))\n",
    "outcomes_3 = pd.DataFrame(knn_r_acc_3, columns = ['k', 'Test Score', 'Train Score'])\n",
    "print(outcomes_3)\n",
    "print('The highest Test R-squared value occurs at : %.4f' % outcomes_3.iloc[:,1].max())\n",
    "print('Within given range, optimal k is: ', outcomes_3.loc[outcomes_3['Test Score'] == outcomes_3.iloc[:,1].max(), 'k'].iloc[0])"
   ]
  },
  {
   "cell_type": "code",
   "execution_count": null,
   "id": "5b91543d",
   "metadata": {},
   "outputs": [],
   "source": [
    "model_knn_3 = KNeighborsRegressor(n_neighbors = 32)\n",
    "model_knn_3.fit(X3_train_log.reshape(-1, 1), y3_train_log.reshape(-1, 1))\n",
    "y_knn_train_pred_3_log = model_knn_3.predict(X3_train_log.reshape(-1, 1))\n",
    "y_knn_test_pred_3_log = model_knn_3.predict(X3_test_log.reshape(-1, 1))"
   ]
  },
  {
   "cell_type": "code",
   "execution_count": null,
   "id": "d456ce39",
   "metadata": {},
   "outputs": [],
   "source": [
    "y_knn_train_pred_3 = pow(10, y_knn_train_pred_3_log)\n",
    "y_knn_test_pred_3 = pow(10, y_knn_test_pred_3_log)"
   ]
  },
  {
   "cell_type": "code",
   "execution_count": null,
   "id": "2ae188df",
   "metadata": {},
   "outputs": [],
   "source": [
    "# First the training metrics.\n",
    "knn3_train_mae = mean_absolute_error(y3_train, y_knn_train_pred_3)\n",
    "knn3_train_mse = mean_squared_error(y3_train, y_knn_train_pred_3)\n",
    "knn3_train_rmse = sqrt(knn3_train_mse) # <- will compute the root mean square error\n",
    "knn3_train_r2 = r2_score(y3_train, y_knn_train_pred_3)\n",
    "# Now, test set metrics.\n",
    "knn3_test_mae = mean_absolute_error(y3_test, y_knn_test_pred_3)\n",
    "knn3_test_mse = mean_squared_error(y3_test, y_knn_test_pred_3)\n",
    "knn3_test_rmse = sqrt(knn3_test_mse)\n",
    "knn3_test_r2 = r2_score(y3_test, y_knn_test_pred_3)\n",
    "# Consolidate the results.\n",
    "knn_results_3 = pd.DataFrame(['k Nearest Neighbor', knn3_train_mae, knn3_train_mse, knn3_train_rmse, knn3_train_r2, knn3_test_mae, knn3_test_mse, knn3_test_rmse, knn3_test_r2]).transpose()\n",
    "knn_results_3.columns = metric_col_names\n",
    "knn_results_3"
   ]
  },
  {
   "cell_type": "markdown",
   "id": "a6a4baf3",
   "metadata": {},
   "source": [
    "Now to create the SVR model 3."
   ]
  },
  {
   "cell_type": "code",
   "execution_count": null,
   "id": "247bde72",
   "metadata": {},
   "outputs": [],
   "source": [
    "eps_3 = 6\n",
    "svr_3 = SVR(kernel = 'rbf', C = 100, epsilon = eps_3)\n",
    "svr_3.fit(X3_train_log, y3_train_log)\n",
    "\n",
    "y_svr_train_pred_3_log = svr_3.predict(X3_train_log)\n",
    "y_svr_test_pred_3_log = svr_3.predict(X3_test_log)\n",
    "y_svr_train_pred_3 = pow(10, y_svr_train_pred_3_log)\n",
    "y_svr_test_pred_3 = pow(10, y_svr_test_pred_3_log)"
   ]
  },
  {
   "cell_type": "code",
   "execution_count": null,
   "id": "5ec85ade",
   "metadata": {},
   "outputs": [],
   "source": [
    "# Model performance - training set\n",
    "svr3_train_mae = mean_absolute_error(y3_train, y_svr_train_pred_3)\n",
    "svr3_train_mse = mean_squared_error(y3_train, y_svr_train_pred_3)\n",
    "svr3_train_rmse = sqrt(svr3_train_mse)\n",
    "svr3_train_r2 = r2_score(y3_train, y_svr_train_pred_3)\n",
    "# Test results\n",
    "svr3_test_mae = mean_absolute_error(y3_test, y_svr_test_pred_3)\n",
    "svr3_test_mse = mean_squared_error(y3_test, y_svr_test_pred_3)\n",
    "svr3_test_rmse = sqrt(svr3_test_mse)\n",
    "svr3_test_r2 = r2_score(X3_test, y_svr_test_pred_3)\n",
    "# Consolidate the results.\n",
    "svr_results_3 = pd.DataFrame(['SVR', svr3_train_mae, svr3_train_mse, svr3_train_rmse, svr3_train_r2, svr3_test_mae, svr3_test_mse, svr3_test_rmse, svr3_test_r2]).T\n",
    "svr_results_3.columns = metric_col_names\n",
    "svr_results_3"
   ]
  },
  {
   "cell_type": "code",
   "execution_count": null,
   "id": "1f5ef478",
   "metadata": {},
   "outputs": [],
   "source": [
    "rf_3 = RandomForestRegressor(max_depth = 2)\n",
    "rf_3.fit(X3_train_log, y3_train_log)\n",
    "y_rf_train_pred_3_log = rf_3.predict(X3_train_log)\n",
    "y_rf_test_pred_3_log = rf_3.predict(X3_test_log)\n",
    "rf_3"
   ]
  },
  {
   "cell_type": "code",
   "execution_count": null,
   "id": "f37cd0bd",
   "metadata": {},
   "outputs": [],
   "source": [
    "y_rf_train_pred_3 = pow(10, y_rf_train_pred_3_log)\n",
    "y_rf_test_pred_3 = pow(10, y_rf_test_pred_3_log)\n",
    "# Model performance metrics for random forest model.\n",
    "rf3_train_mae = mean_absolute_error(y3_train, y_rf_train_pred_3)\n",
    "rf3_train_mse = mean_squared_error(y3_train, y_rf_train_pred_3)\n",
    "rf3_train_rmse = sqrt(rf3_train_mse)\n",
    "rf3_train_r2 = r2_score(y3_train, y_rf_train_pred_3)\n",
    "# The following are the test metrics.\n",
    "rf3_test_mae = mean_absolute_error(y3_test, y_rf_test_pred_3)\n",
    "rf3_test_mse = mean_squared_error(y3_test, y_rf_test_pred_3)\n",
    "rf3_test_rmse = sqrt(rf3_test_mse)\n",
    "rf3_test_r2 = r2_score(y3_test, y_rf_test_pred_3)"
   ]
  },
  {
   "cell_type": "code",
   "execution_count": null,
   "id": "e014353d",
   "metadata": {},
   "outputs": [],
   "source": [
    "rf3_results = pd.DataFrame(['Random Forest', rf3_train_mae, rf3_train_mse, rf3_train_rmse, rf3_train_r2, rf3_test_mae, rf3_test_mse, rf3_test_rmse, rf3_test_r2]).transpose()\n",
    "rf3_results.columns = metric_col_names\n",
    "rf3_results"
   ]
  },
  {
   "cell_type": "code",
   "execution_count": null,
   "id": "fb66cea3",
   "metadata": {},
   "outputs": [],
   "source": [
    "results_3 = pd.concat([baseline_3, knn_results_3, svr_results_3, rf3_results], axis = 0, ignore_index = True)\n",
    "results_3 "
   ]
  },
  {
   "cell_type": "code",
   "execution_count": null,
   "id": "21fcb3bb",
   "metadata": {},
   "outputs": [],
   "source": [
    "plt.plot(y3_test, marker = 'd', linestyle = '')"
   ]
  },
  {
   "cell_type": "code",
   "execution_count": null,
   "id": "5e4a26f1",
   "metadata": {},
   "outputs": [],
   "source": [
    "from sklearn.utils import resample\n",
    "def r2_ci(test_data): # The function will be set up for a 95% confidence interval.\n",
    "    bootstrap_iter = 1000\n",
    "    sample_size = 10000\n",
    "    #sample_size = bootstrap_iter\n",
    "    r2_metrics = []\n",
    "    confidence = 0.95\n",
    "    alpha_level = 0.95 * 100\n",
    "    lower = ((1.0 - confidence)/2.0) * 100 # Should be 2.5 as the lower bound.\n",
    "    upper = alpha_level + (((1.0 - confidence)/2.0) * 100) # Should be 97.5 as the upper bound\n",
    "    for i in range(bootstrap_iter):\n",
    "        #sample = resample(predictions, n_samples = sample_size)\n",
    "        sample = resample(test_data.iloc[i+1], n_samples = sample_size)\n",
    "        #r2 = r2_score(test_data, predictions)\n",
    "        r2 = r2_score(test_data, sample)\n",
    "        r2_metrics.append(r2)\n",
    "    confidence_interval = np.percentile(r2_metrics, [lower, upper])\n",
    "    return confidence_interval"
   ]
  },
  {
   "cell_type": "code",
   "execution_count": null,
   "id": "6a32e158",
   "metadata": {},
   "outputs": [],
   "source": [
    "r2_ci(mass_2)"
   ]
  },
  {
   "cell_type": "code",
   "execution_count": null,
   "id": "62908e54",
   "metadata": {},
   "outputs": [],
   "source": [
    "mass_2.iloc[5]"
   ]
  },
  {
   "cell_type": "code",
   "execution_count": null,
   "id": "8b51a398",
   "metadata": {},
   "outputs": [],
   "source": []
  },
  {
   "cell_type": "code",
   "execution_count": null,
   "id": "a2515e11",
   "metadata": {},
   "outputs": [],
   "source": []
  },
  {
   "cell_type": "code",
   "execution_count": null,
   "id": "8c61881f",
   "metadata": {},
   "outputs": [],
   "source": [
    "X1 = transformer[:,0]\n",
    "y1 = transformer[:,1]\n",
    "X1_train, X1_test = tts(X1)\n",
    "y1_train, y1_test = tts(y1)\n",
    "X1_train, y1_train = pd.DataFrame(X1_train), pd.DataFrame(y1_train)\n",
    "X1_test, y1_test = pd.DataFrame(X1_test), pd.DataFrame(y1_test)\n",
    "print('\\nTraining X1 shape: ', X1_train.shape)\n",
    "print('Training y1 shape: ', y1_train.shape)\n",
    "print('Test X1 shape: ', X1_test.shape)\n",
    "print('Test y1 shape: ', y1_test.shape)"
   ]
  },
  {
   "cell_type": "code",
   "execution_count": null,
   "id": "0ae7aaef",
   "metadata": {},
   "outputs": [],
   "source": [
    "plt.scatter(X, y, c = 'crimson')"
   ]
  },
  {
   "cell_type": "code",
   "execution_count": null,
   "id": "abe74676",
   "metadata": {},
   "outputs": [],
   "source": [
    "# Test the function above against the previous data.\n",
    "#predictions = random_algorithm([x_train], [x_test])\n",
    "predictions = the_real_random_algo(list2, list3)\n",
    "predictions0 = the_real_random_algo([x_train, y_train], [x_test, y_test])\n",
    "predictions02 = the_real_random_algo(y_train, y_test)\n",
    "print(predictions0)\n",
    "print(len(predictions0))\n",
    "print((predictions02))"
   ]
  },
  {
   "cell_type": "code",
   "execution_count": null,
   "id": "a9475b89",
   "metadata": {},
   "outputs": [],
   "source": [
    "#predictions01 = the_real_random_algo(x_train, x_test)\n",
    "#some_mse = mean_squared_error(y_test, predictions0)\n",
    "#print(some_mse)"
   ]
  },
  {
   "cell_type": "code",
   "execution_count": null,
   "id": "8f8a6002",
   "metadata": {},
   "outputs": [],
   "source": [
    "x_train, y_train = pd.DataFrame(x_train), pd.DataFrame(y_train)\n",
    "x_test, y_test = pd.DataFrame(x_test), pd.DataFrame(y_test)\n",
    "print('\\nTraining x shape: ', x_train.shape)\n",
    "print('Training y shape: ', y_train.shape)\n",
    "print('Test x shape: ', x_test.shape)\n",
    "print('Test y shape: ', y_test.shape)"
   ]
  },
  {
   "cell_type": "markdown",
   "id": "29b6ee57",
   "metadata": {},
   "source": [
    "Want to establish a baseline to compare to the ML model against. Will create a funciton using the Random Prediction Algorithm."
   ]
  },
  {
   "cell_type": "markdown",
   "id": "a1025703",
   "metadata": {},
   "source": [
    "According to the results above, k = 29 seems to be the best k. What is concerning is that I feel if I extended the 'for' loop to a higher value, perhaps I would see a better performing k value."
   ]
  },
  {
   "cell_type": "code",
   "execution_count": null,
   "id": "f0513384",
   "metadata": {},
   "outputs": [],
   "source": [
    "knn_train_mse = mean_squared_error(y_train, y_knn_train_pred)\n",
    "knn_train_r2 = r2_score(y_train, y_knn_train_pred)\n",
    "# Now, test mean square and r2 score.\n",
    "knn_test_mse = mean_squared_error(y_test, y_knn_test_pred)\n",
    "knn_test_r2 = r2_score(y_test, y_knn_test_pred)\n",
    "# Consolidate the results.\n",
    "knn_results = pd.DataFrame(['k Nearest Neighbor', knn_train_mse, knn_train_r2, knn_test_mse, knn_test_r2]).transpose()\n",
    "#results1 = pd.DataFrame(columns = ['Method', 'Training MSE', 'Training R2', 'Test MSE', 'Test R2'])\n",
    "results1 = pd.DataFrame()\n",
    "results1 = pd.concat([results1, knn_results])\n",
    "print(results1)\n",
    "#knn_results.columns = ['Method', 'Training MSE', 'Training R2', 'Test MSE', 'Test R2']\n",
    "#print(knn_results)"
   ]
  },
  {
   "cell_type": "code",
   "execution_count": null,
   "id": "3e2b26e8",
   "metadata": {},
   "outputs": [],
   "source": [
    "g = plt.plot(true_values - predicted_values, marker = 'o', linestyle = '')"
   ]
  },
  {
   "cell_type": "code",
   "execution_count": null,
   "id": "22da7d2b",
   "metadata": {},
   "outputs": [],
   "source": [
    "#from yellowbrick.regressor import prediction_error\n",
    "#model = Lasso()\n",
    "#visualizer = prediciton_error(model, x_train, y_train, x_test, y_test)"
   ]
  },
  {
   "cell_type": "code",
   "execution_count": null,
   "id": "a1303211",
   "metadata": {},
   "outputs": [],
   "source": [
    "#Set plot size\n",
    "#plt.subplots(figsize=(10,5))\n",
    "#Set X-Axis range\n",
    "#plt.xlim(min(true_values), max(true_values))\n",
    "#plt.title('Model Error Distribution')\n",
    "#plt.ylabel('No. of Predictions')\n",
    "#plt.xlabel('Error')\n",
    "#plt.hist(predictions['error'], bins=np.linspace(min(test_values), max(test_values), num=41, dtype=int));\n",
    "#plt.show()"
   ]
  },
  {
   "cell_type": "code",
   "execution_count": null,
   "id": "f9d0a029",
   "metadata": {},
   "outputs": [],
   "source": [
    "residuals = true_values - predicted_values\n",
    "plt.scatter(true_values, residuals)\n"
   ]
  },
  {
   "cell_type": "markdown",
   "id": "c97c4536",
   "metadata": {},
   "source": [
    "There is an obvious positive linear relationship which indicates that the kNN model is not best supervised learning model for this data."
   ]
  },
  {
   "cell_type": "code",
   "execution_count": null,
   "id": "e2f1d4df",
   "metadata": {},
   "outputs": [],
   "source": [
    "w1 = x6.iloc[:, 0:1].values\n",
    "w2 = x6.iloc[:, 1:2].values\n",
    "from sklearn.preprocessing import StandardScaler\n",
    "sc_X = StandardScaler()\n",
    "sc_y = StandardScaler()\n",
    "w3 = sc_X.fit_transform(w1)\n",
    "w4 = sc_y.fit_transform(w2)\n",
    "w1_train, w1_test = tts(w3)\n",
    "w2_train, w2_test = tts(w4)"
   ]
  },
  {
   "cell_type": "code",
   "execution_count": null,
   "id": "26bace87",
   "metadata": {},
   "outputs": [],
   "source": [
    "print(len(w1_train))\n",
    "print(len(w1))\n",
    "print(len(w1_test))"
   ]
  },
  {
   "cell_type": "markdown",
   "id": "51bee14d",
   "metadata": {},
   "source": [
    "Now want to compute confidence intervals as a standard practice while computing metrics."
   ]
  },
  {
   "cell_type": "markdown",
   "id": "1b2ae3f3",
   "metadata": {},
   "source": [
    "Will compare the R-squared value for kNN and Random Forest models."
   ]
  },
  {
   "cell_type": "code",
   "execution_count": null,
   "id": "9ee6601b",
   "metadata": {},
   "outputs": [],
   "source": [
    "from sklearn.utils import resample\n",
    "def r2_ci(test_data): # The function will be set up for a 95% confidence interval.\n",
    "    bootstrap_iter = 1000\n",
    "    sample_size = 10000\n",
    "    #sample_size = bootstrap_iter\n",
    "    r2_metrics = []\n",
    "    confidence = 0.95\n",
    "    alpha_level = 0.95 * 100\n",
    "    lower = ((1.0 - confidence)/2.0) * 100 # Should be 2.5 as the lower bound.\n",
    "    upper = alpha_level + (((1.0 - confidence)/2.0) * 100) # Should be 97.5 as the upper bound\n",
    "    for i in range(bootstrap_iter):\n",
    "        sample = resample(predictions, n_samples = sample_size)\n",
    "        #r2 = r2_score(test_data, predictions)\n",
    "        r2 = r2_score(test_data, sample)\n",
    "        r2_metrics.append(r2)\n",
    "    confidence_interval = np.percentile(r2_metrics, [lower, upper])\n",
    "    return confidence_interval"
   ]
  },
  {
   "cell_type": "code",
   "execution_count": null,
   "id": "c19abefe",
   "metadata": {},
   "outputs": [],
   "source": [
    "95 + (((1.0 - 0.95)/2.0) * 100)"
   ]
  },
  {
   "cell_type": "code",
   "execution_count": null,
   "id": "abfbf3b5",
   "metadata": {},
   "outputs": [],
   "source": [
    "#r2_ci(y_test, y_knn_test_pred)"
   ]
  },
  {
   "cell_type": "code",
   "execution_count": null,
   "id": "d40a8b83",
   "metadata": {},
   "outputs": [],
   "source": [
    "(0.95*100)+((1.0-.95)/2.0)*100"
   ]
  },
  {
   "cell_type": "markdown",
   "id": "8be78a90",
   "metadata": {},
   "source": [
    "Will now study the relationship between planet mass and temperature."
   ]
  },
  {
   "cell_type": "code",
   "execution_count": null,
   "id": "8500d62d",
   "metadata": {},
   "outputs": [],
   "source": [
    "print(raw_data2)\n",
    "raw_data2.columns"
   ]
  },
  {
   "cell_type": "code",
   "execution_count": null,
   "id": "53249552",
   "metadata": {},
   "outputs": [],
   "source": [
    "type(raw_data2) #<- already a pandas data frame."
   ]
  },
  {
   "cell_type": "code",
   "execution_count": null,
   "id": "d1affec5",
   "metadata": {},
   "outputs": [],
   "source": [
    "df4 = raw_data2.loc[:, ['pl_name','pl_bmassj','pl_eqt']]\n",
    "df4.reset_index(drop=True, inplace=True)"
   ]
  },
  {
   "cell_type": "code",
   "execution_count": null,
   "id": "614781e2",
   "metadata": {},
   "outputs": [],
   "source": [
    "df4"
   ]
  },
  {
   "cell_type": "code",
   "execution_count": null,
   "id": "ca58ddef",
   "metadata": {},
   "outputs": [],
   "source": [
    "df4 = df4.rename(columns={'pl_name':'planetname','pl_bmassj':'planetmass', 'pl_eqt':'temperature'})\n",
    "df4 = df4.dropna()"
   ]
  },
  {
   "cell_type": "code",
   "execution_count": null,
   "id": "6ec5eca3",
   "metadata": {},
   "outputs": [],
   "source": [
    "df4"
   ]
  },
  {
   "cell_type": "code",
   "execution_count": null,
   "id": "aa44eced",
   "metadata": {},
   "outputs": [],
   "source": [
    "print(type(df4.iloc[0][1]))\n",
    "print(type(df4.iloc[0][2]))"
   ]
  },
  {
   "cell_type": "markdown",
   "id": "7d59b695",
   "metadata": {},
   "source": [
    "Notice both of the above are float data type which will make computation easier."
   ]
  },
  {
   "cell_type": "code",
   "execution_count": null,
   "id": "6c38df7e",
   "metadata": {},
   "outputs": [],
   "source": [
    "df4.reset_index(drop=True, inplace=True)"
   ]
  },
  {
   "cell_type": "code",
   "execution_count": null,
   "id": "60a7486b",
   "metadata": {},
   "outputs": [],
   "source": [
    "df4"
   ]
  },
  {
   "cell_type": "code",
   "execution_count": null,
   "id": "ac68cb06",
   "metadata": {},
   "outputs": [],
   "source": [
    "x7 = df4.groupby('planetname')['planetmass'].mean()\n",
    "x8 = df4.groupby('planetname')['temperature'].mean()\n",
    "x8"
   ]
  },
  {
   "cell_type": "code",
   "execution_count": null,
   "id": "359243e2",
   "metadata": {},
   "outputs": [],
   "source": [
    "df5 = pd.concat([x7, x8], axis = 1)\n",
    "df5"
   ]
  },
  {
   "cell_type": "code",
   "execution_count": null,
   "id": "852d6fb6",
   "metadata": {},
   "outputs": [],
   "source": [
    "plt.hist(df5.planetmass, density = True, color = \"darkorange\")"
   ]
  },
  {
   "cell_type": "code",
   "execution_count": null,
   "id": "8589b246",
   "metadata": {},
   "outputs": [],
   "source": [
    "plt.hist(df5.temperature, color = \"navy\")"
   ]
  },
  {
   "cell_type": "markdown",
   "id": "108dd4c8",
   "metadata": {},
   "source": [
    "Note that the trend in this distribution is not as skewed as the other metrics. That is, it more closely resembles a normal distribution."
   ]
  },
  {
   "cell_type": "code",
   "execution_count": null,
   "id": "4a89cb0a",
   "metadata": {},
   "outputs": [],
   "source": [
    "x9 = df5[['planetmass', 'temperature']]"
   ]
  },
  {
   "cell_type": "code",
   "execution_count": null,
   "id": "37e3f2f6",
   "metadata": {},
   "outputs": [],
   "source": [
    "x9"
   ]
  },
  {
   "cell_type": "code",
   "execution_count": null,
   "id": "ecee69ea",
   "metadata": {},
   "outputs": [],
   "source": [
    "rs2 = RobustScaler().fit(x9)\n",
    "transformer2 = rs2.transform(x9)\n",
    "print(type(transformer2))\n",
    "len(transformer2)"
   ]
  },
  {
   "cell_type": "code",
   "execution_count": null,
   "id": "99e544f9",
   "metadata": {},
   "outputs": [],
   "source": [
    "x10 = transformer2[:, 0]\n",
    "y2 = transformer2[:, 1]"
   ]
  },
  {
   "cell_type": "code",
   "execution_count": null,
   "id": "22fb0d92",
   "metadata": {},
   "outputs": [],
   "source": [
    "x_train2, x_test2 = tts(x10)\n",
    "y_train2, y_test2 = tts(y2)"
   ]
  },
  {
   "cell_type": "code",
   "execution_count": null,
   "id": "7a1ad9b3",
   "metadata": {},
   "outputs": [],
   "source": [
    "type(x_train2)"
   ]
  },
  {
   "cell_type": "code",
   "execution_count": null,
   "id": "fe9e9cca",
   "metadata": {},
   "outputs": [],
   "source": [
    "plt.scatter(x9.planetmass, x9.temperature, c = 'darkorange')"
   ]
  },
  {
   "cell_type": "markdown",
   "id": "327e9cf7",
   "metadata": {},
   "source": [
    "Need to convert the above from Pandas dataframes to numpy ndarrays for the Random Prediction Algorithm."
   ]
  },
  {
   "cell_type": "code",
   "execution_count": null,
   "id": "15e7d59f",
   "metadata": {},
   "outputs": [],
   "source": [
    "#x_train2.to_numpy\n",
    "#x_test2.to_numpy\n",
    "#y_train2.to_numpy\n",
    "#y_test2.to_numpy"
   ]
  },
  {
   "cell_type": "code",
   "execution_count": null,
   "id": "218c19df",
   "metadata": {},
   "outputs": [],
   "source": [
    "#predictions2 = random_algorithm([x_train2], [x_test2])\n",
    "predictions2 = the_real_random_algo(y_train2, y_test2)\n",
    "#predictions2 = random_algorithm([x_train2, y_train2], [x_test2, y_test2])\n",
    "print(predictions2)"
   ]
  },
  {
   "cell_type": "code",
   "execution_count": null,
   "id": "29174ef7",
   "metadata": {},
   "outputs": [],
   "source": [
    "x_train2, y_train2 = pd.DataFrame(x_train2), pd.DataFrame(y_train2)\n",
    "x_test2, y_test2 = pd.DataFrame(x_test2), pd.DataFrame(y_test2)\n",
    "print('\\nTraining x2 shape: ', x_train2.shape)\n",
    "print('Training y2 shape: ', y_train2.shape)\n",
    "print('Test x2 shape: ', x_test2.shape)\n",
    "print('Test y2 shape: ', y_test2.shape)"
   ]
  },
  {
   "cell_type": "code",
   "execution_count": null,
   "id": "d8da74fb",
   "metadata": {},
   "outputs": [],
   "source": [
    "knn_r_acc2 = []\n",
    "for n in range(1, 60, 1):\n",
    "    knn2 = KNeighborsRegressor(n_neighbors = n)\n",
    "    knn2.fit(x_train2, y_train2)\n",
    "    \n",
    "    test_score2 = knn2.score(x_test2, y_test2)\n",
    "    train_score2 = knn2.score(x_train2, y_train2)\n",
    "    \n",
    "    knn_r_acc2.append((n, test_score2, train_score2))\n",
    "   \n",
    "outcome = pd.DataFrame(knn_r_acc2, columns = ['k', 'Test Score', 'Train Score'])\n",
    "print(outcome)\n",
    "print(outcome.iloc[:,1].max())"
   ]
  },
  {
   "cell_type": "markdown",
   "id": "1ada15a4",
   "metadata": {},
   "source": [
    "The maximum test score for this kNN model occurs when k = 15.\n",
    "Will not create the second kNN model to help describe the relationship betweeen mass and temperature."
   ]
  },
  {
   "cell_type": "code",
   "execution_count": null,
   "id": "2bf590de",
   "metadata": {},
   "outputs": [],
   "source": [
    "model_knn2 = KNeighborsRegressor(n_neighbors = 15)\n",
    "model_knn2.fit(x_train2, y_train2)\n",
    "y_knn_train_pred2 = model_knn2.predict(x_train2)\n",
    "y_knn_test_pred2 = model_knn2.predict(x_test2)"
   ]
  },
  {
   "cell_type": "code",
   "execution_count": null,
   "id": "badf11df",
   "metadata": {},
   "outputs": [],
   "source": [
    "knn_train_mse_2 = mean_squared_error(y_train2, y_knn_train_pred2)\n",
    "knn_train_r2_2 = r2_score(y_train2, y_knn_train_pred2)\n",
    "# Now, test mean square and r2 score.\n",
    "knn_test_mse_2 = mean_squared_error(y_test2, y_knn_test_pred2)\n",
    "knn_test_r2_2 = r2_score(y_test2, y_knn_test_pred2)\n",
    "# Consolidate the results.\n",
    "knn_results2 = pd.DataFrame(['k Nearest Neighbor', knn_train_mse_2, knn_train_r2_2, knn_test_mse_2, knn_test_r2_2]).transpose()\n",
    "results3 = pd.DataFrame()\n",
    "results3 = pd.concat([results3, knn_results2])\n",
    "print(results2)"
   ]
  },
  {
   "cell_type": "code",
   "execution_count": null,
   "id": "831cf247",
   "metadata": {},
   "outputs": [],
   "source": [
    "true_values2 = y_test2\n",
    "predicted_values2 = y_knn_test_pred2\n",
    "plot2 = plt.figure(figsize=(8,8))\n",
    "plot2 =plt.scatter(true_values2, predicted_values2, c = 'lime')\n",
    "\n",
    "residuals2 = true_values2 - predicted_values2\n",
    "plot2 = plt.scatter(true_values2, residuals2)\n",
    "\n",
    "plt.axis('equal')\n",
    "plt.show(plot2)"
   ]
  },
  {
   "cell_type": "code",
   "execution_count": null,
   "id": "ed84178c",
   "metadata": {},
   "outputs": [],
   "source": [
    "residuals2.shape"
   ]
  },
  {
   "cell_type": "markdown",
   "id": "4039a232",
   "metadata": {},
   "source": [
    "Notice no pattern so model does describe the data."
   ]
  }
 ],
 "metadata": {
  "kernelspec": {
   "display_name": "Python 3 (ipykernel)",
   "language": "python",
   "name": "python3"
  },
  "language_info": {
   "codemirror_mode": {
    "name": "ipython",
    "version": 3
   },
   "file_extension": ".py",
   "mimetype": "text/x-python",
   "name": "python",
   "nbconvert_exporter": "python",
   "pygments_lexer": "ipython3",
   "version": "3.9.5"
  }
 },
 "nbformat": 4,
 "nbformat_minor": 5
}
