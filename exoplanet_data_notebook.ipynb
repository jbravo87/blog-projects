{
 "cells": [
  {
   "cell_type": "markdown",
   "id": "f2a2fd8b",
   "metadata": {},
   "source": [
    "# Planetary Data Analysis Notebook"
   ]
  },
  {
   "cell_type": "markdown",
   "id": "e1a9c29c",
   "metadata": {},
   "source": [
    "For the first part of this script, I will solely focus on the kNN supervised learning technique applied to the data pertaining to exoplanets from NASA."
   ]
  },
  {
   "cell_type": "code",
   "execution_count": 1,
   "id": "75b7535f",
   "metadata": {},
   "outputs": [],
   "source": [
    "# Import necessary libraries\n",
    "from random import seed\n",
    "from random import randrange\n",
    "import pandas as pd\n",
    "import matplotlib.pyplot as plt\n",
    "import numpy as np\n",
    "import statistics\n",
    "import seaborn as sns\n",
    "from sklearn.preprocessing import RobustScaler\n",
    "from sklearn.neighbors import KNeighborsRegressor\n",
    "from  sklearn.metrics import mean_squared_error, r2_score\n",
    "from scipy import stats\n",
    "from math import sqrt\n",
    "#import plotly.express as px"
   ]
  },
  {
   "cell_type": "markdown",
   "id": "bfd9c702",
   "metadata": {},
   "source": [
    "As a resampling method, will use the train-test-split (tts) method. Will bundle the logic of tts into a function."
   ]
  },
  {
   "cell_type": "code",
   "execution_count": 2,
   "id": "5834b822",
   "metadata": {},
   "outputs": [],
   "source": [
    "seed(11)\n",
    "def tts(data, split = 0.80):\n",
    "    train = list()\n",
    "    train_size = split*len(data)\n",
    "    data_copy = list(data)\n",
    "    while len(train) < train_size :\n",
    "        index = randrange(len(data_copy))\n",
    "        train.append(data_copy.pop(index))\n",
    "    return np.array(train), np.array(data_copy)"
   ]
  },
  {
   "cell_type": "code",
   "execution_count": 3,
   "id": "3da74ad0",
   "metadata": {
    "scrolled": true
   },
   "outputs": [],
   "source": [
    "# Assign path of data to a variable.\n",
    "# Initiate first data frame with raw data.\n",
    "path = 'https://raw.githubusercontent.com/jbravo87/blog-projects/main/data/PS_2022.05.10_21.48.38.csv'\n",
    "raw_data = pd.read_csv(path, skiprows = 12)"
   ]
  },
  {
   "cell_type": "markdown",
   "id": "e1714a89",
   "metadata": {},
   "source": [
    "Need to remove the first twelve rows. These rows contain copious notes/remarks. Want to see the head and tail of the data as well as the column names."
   ]
  },
  {
   "cell_type": "code",
   "execution_count": 4,
   "id": "e80295e6",
   "metadata": {},
   "outputs": [
    {
     "data": {
      "text/html": [
       "<div>\n",
       "<style scoped>\n",
       "    .dataframe tbody tr th:only-of-type {\n",
       "        vertical-align: middle;\n",
       "    }\n",
       "\n",
       "    .dataframe tbody tr th {\n",
       "        vertical-align: top;\n",
       "    }\n",
       "\n",
       "    .dataframe thead th {\n",
       "        text-align: right;\n",
       "    }\n",
       "</style>\n",
       "<table border=\"1\" class=\"dataframe\">\n",
       "  <thead>\n",
       "    <tr style=\"text-align: right;\">\n",
       "      <th></th>\n",
       "      <th>pl_name</th>\n",
       "      <th>hostname</th>\n",
       "      <th>pl_orbper</th>\n",
       "      <th>pl_bmassj</th>\n",
       "      <th>pl_orbeccen</th>\n",
       "      <th>pl_eqt</th>\n",
       "    </tr>\n",
       "  </thead>\n",
       "  <tbody>\n",
       "    <tr>\n",
       "      <th>0</th>\n",
       "      <td>11 Com b</td>\n",
       "      <td>11 Com</td>\n",
       "      <td>326.03000</td>\n",
       "      <td>19.40</td>\n",
       "      <td>0.231</td>\n",
       "      <td>NaN</td>\n",
       "    </tr>\n",
       "    <tr>\n",
       "      <th>1</th>\n",
       "      <td>11 Com b</td>\n",
       "      <td>11 Com</td>\n",
       "      <td>NaN</td>\n",
       "      <td>17.10</td>\n",
       "      <td>NaN</td>\n",
       "      <td>NaN</td>\n",
       "    </tr>\n",
       "    <tr>\n",
       "      <th>2</th>\n",
       "      <td>11 UMi b</td>\n",
       "      <td>11 UMi</td>\n",
       "      <td>NaN</td>\n",
       "      <td>10.80</td>\n",
       "      <td>NaN</td>\n",
       "      <td>NaN</td>\n",
       "    </tr>\n",
       "    <tr>\n",
       "      <th>3</th>\n",
       "      <td>11 UMi b</td>\n",
       "      <td>11 UMi</td>\n",
       "      <td>516.21997</td>\n",
       "      <td>14.74</td>\n",
       "      <td>0.080</td>\n",
       "      <td>NaN</td>\n",
       "    </tr>\n",
       "    <tr>\n",
       "      <th>4</th>\n",
       "      <td>11 UMi b</td>\n",
       "      <td>11 UMi</td>\n",
       "      <td>516.22000</td>\n",
       "      <td>10.50</td>\n",
       "      <td>0.080</td>\n",
       "      <td>NaN</td>\n",
       "    </tr>\n",
       "    <tr>\n",
       "      <th>...</th>\n",
       "      <td>...</td>\n",
       "      <td>...</td>\n",
       "      <td>...</td>\n",
       "      <td>...</td>\n",
       "      <td>...</td>\n",
       "      <td>...</td>\n",
       "    </tr>\n",
       "    <tr>\n",
       "      <th>32511</th>\n",
       "      <td>ups And d</td>\n",
       "      <td>ups And</td>\n",
       "      <td>1282.41000</td>\n",
       "      <td>4.10</td>\n",
       "      <td>0.294</td>\n",
       "      <td>NaN</td>\n",
       "    </tr>\n",
       "    <tr>\n",
       "      <th>32512</th>\n",
       "      <td>ups And d</td>\n",
       "      <td>ups And</td>\n",
       "      <td>1281.50700</td>\n",
       "      <td>10.25</td>\n",
       "      <td>0.316</td>\n",
       "      <td>NaN</td>\n",
       "    </tr>\n",
       "    <tr>\n",
       "      <th>32513</th>\n",
       "      <td>ups Leo b</td>\n",
       "      <td>ups Leo</td>\n",
       "      <td>385.20000</td>\n",
       "      <td>0.51</td>\n",
       "      <td>0.320</td>\n",
       "      <td>NaN</td>\n",
       "    </tr>\n",
       "    <tr>\n",
       "      <th>32514</th>\n",
       "      <td>xi Aql b</td>\n",
       "      <td>xi Aql</td>\n",
       "      <td>NaN</td>\n",
       "      <td>2.02</td>\n",
       "      <td>NaN</td>\n",
       "      <td>NaN</td>\n",
       "    </tr>\n",
       "    <tr>\n",
       "      <th>32515</th>\n",
       "      <td>xi Aql b</td>\n",
       "      <td>xi Aql</td>\n",
       "      <td>136.75000</td>\n",
       "      <td>2.80</td>\n",
       "      <td>0.000</td>\n",
       "      <td>NaN</td>\n",
       "    </tr>\n",
       "  </tbody>\n",
       "</table>\n",
       "<p>32516 rows × 6 columns</p>\n",
       "</div>"
      ],
      "text/plain": [
       "         pl_name hostname   pl_orbper  pl_bmassj  pl_orbeccen  pl_eqt\n",
       "0       11 Com b   11 Com   326.03000      19.40        0.231     NaN\n",
       "1       11 Com b   11 Com         NaN      17.10          NaN     NaN\n",
       "2       11 UMi b   11 UMi         NaN      10.80          NaN     NaN\n",
       "3       11 UMi b   11 UMi   516.21997      14.74        0.080     NaN\n",
       "4       11 UMi b   11 UMi   516.22000      10.50        0.080     NaN\n",
       "...          ...      ...         ...        ...          ...     ...\n",
       "32511  ups And d  ups And  1282.41000       4.10        0.294     NaN\n",
       "32512  ups And d  ups And  1281.50700      10.25        0.316     NaN\n",
       "32513  ups Leo b  ups Leo   385.20000       0.51        0.320     NaN\n",
       "32514   xi Aql b   xi Aql         NaN       2.02          NaN     NaN\n",
       "32515   xi Aql b   xi Aql   136.75000       2.80        0.000     NaN\n",
       "\n",
       "[32516 rows x 6 columns]"
      ]
     },
     "execution_count": 4,
     "metadata": {},
     "output_type": "execute_result"
    }
   ],
   "source": [
    "raw_data"
   ]
  },
  {
   "cell_type": "code",
   "execution_count": 5,
   "id": "f21e79b0",
   "metadata": {},
   "outputs": [
    {
     "data": {
      "text/plain": [
       "Index(['pl_name', 'hostname', 'pl_orbper', 'pl_bmassj', 'pl_orbeccen',\n",
       "       'pl_eqt'],\n",
       "      dtype='object')"
      ]
     },
     "execution_count": 5,
     "metadata": {},
     "output_type": "execute_result"
    }
   ],
   "source": [
    "raw_data.columns"
   ]
  },
  {
   "cell_type": "markdown",
   "id": "61818b24",
   "metadata": {},
   "source": [
    "Now want to create first data frame with columns of interest. In this first case/scenario want to study planet eccentricity (dependent/response variable) as a function of orbital period of planet (independent/predictor variable)."
   ]
  },
  {
   "cell_type": "code",
   "execution_count": 6,
   "id": "e53ccbdd",
   "metadata": {},
   "outputs": [
    {
     "data": {
      "text/html": [
       "<div>\n",
       "<style scoped>\n",
       "    .dataframe tbody tr th:only-of-type {\n",
       "        vertical-align: middle;\n",
       "    }\n",
       "\n",
       "    .dataframe tbody tr th {\n",
       "        vertical-align: top;\n",
       "    }\n",
       "\n",
       "    .dataframe thead th {\n",
       "        text-align: right;\n",
       "    }\n",
       "</style>\n",
       "<table border=\"1\" class=\"dataframe\">\n",
       "  <thead>\n",
       "    <tr style=\"text-align: right;\">\n",
       "      <th></th>\n",
       "      <th>pl_name</th>\n",
       "      <th>pl_orbper</th>\n",
       "      <th>pl_orbeccen</th>\n",
       "    </tr>\n",
       "  </thead>\n",
       "  <tbody>\n",
       "    <tr>\n",
       "      <th>0</th>\n",
       "      <td>11 Com b</td>\n",
       "      <td>326.03000</td>\n",
       "      <td>0.231</td>\n",
       "    </tr>\n",
       "    <tr>\n",
       "      <th>1</th>\n",
       "      <td>11 Com b</td>\n",
       "      <td>NaN</td>\n",
       "      <td>NaN</td>\n",
       "    </tr>\n",
       "    <tr>\n",
       "      <th>2</th>\n",
       "      <td>11 UMi b</td>\n",
       "      <td>NaN</td>\n",
       "      <td>NaN</td>\n",
       "    </tr>\n",
       "    <tr>\n",
       "      <th>3</th>\n",
       "      <td>11 UMi b</td>\n",
       "      <td>516.21997</td>\n",
       "      <td>0.080</td>\n",
       "    </tr>\n",
       "    <tr>\n",
       "      <th>4</th>\n",
       "      <td>11 UMi b</td>\n",
       "      <td>516.22000</td>\n",
       "      <td>0.080</td>\n",
       "    </tr>\n",
       "    <tr>\n",
       "      <th>...</th>\n",
       "      <td>...</td>\n",
       "      <td>...</td>\n",
       "      <td>...</td>\n",
       "    </tr>\n",
       "    <tr>\n",
       "      <th>32511</th>\n",
       "      <td>ups And d</td>\n",
       "      <td>1282.41000</td>\n",
       "      <td>0.294</td>\n",
       "    </tr>\n",
       "    <tr>\n",
       "      <th>32512</th>\n",
       "      <td>ups And d</td>\n",
       "      <td>1281.50700</td>\n",
       "      <td>0.316</td>\n",
       "    </tr>\n",
       "    <tr>\n",
       "      <th>32513</th>\n",
       "      <td>ups Leo b</td>\n",
       "      <td>385.20000</td>\n",
       "      <td>0.320</td>\n",
       "    </tr>\n",
       "    <tr>\n",
       "      <th>32514</th>\n",
       "      <td>xi Aql b</td>\n",
       "      <td>NaN</td>\n",
       "      <td>NaN</td>\n",
       "    </tr>\n",
       "    <tr>\n",
       "      <th>32515</th>\n",
       "      <td>xi Aql b</td>\n",
       "      <td>136.75000</td>\n",
       "      <td>0.000</td>\n",
       "    </tr>\n",
       "  </tbody>\n",
       "</table>\n",
       "<p>32516 rows × 3 columns</p>\n",
       "</div>"
      ],
      "text/plain": [
       "         pl_name   pl_orbper  pl_orbeccen\n",
       "0       11 Com b   326.03000        0.231\n",
       "1       11 Com b         NaN          NaN\n",
       "2       11 UMi b         NaN          NaN\n",
       "3       11 UMi b   516.21997        0.080\n",
       "4       11 UMi b   516.22000        0.080\n",
       "...          ...         ...          ...\n",
       "32511  ups And d  1282.41000        0.294\n",
       "32512  ups And d  1281.50700        0.316\n",
       "32513  ups Leo b   385.20000        0.320\n",
       "32514   xi Aql b         NaN          NaN\n",
       "32515   xi Aql b   136.75000        0.000\n",
       "\n",
       "[32516 rows x 3 columns]"
      ]
     },
     "execution_count": 6,
     "metadata": {},
     "output_type": "execute_result"
    }
   ],
   "source": [
    "df1 = raw_data.loc[:, ['pl_name','pl_orbper','pl_orbeccen']]\n",
    "#df1.reset_index(drop=True, inplace=True) # <- Perhaps use this logic in a couple of lines.\n",
    "df1"
   ]
  },
  {
   "cell_type": "markdown",
   "id": "959a684f",
   "metadata": {},
   "source": [
    "Will rename the columns of interest for ease, i.e. make analysis clearer, and remove unnecessary rows by removing all the NA values from the original data frame."
   ]
  },
  {
   "cell_type": "code",
   "execution_count": 7,
   "id": "c66b1491",
   "metadata": {},
   "outputs": [
    {
     "data": {
      "text/html": [
       "<div>\n",
       "<style scoped>\n",
       "    .dataframe tbody tr th:only-of-type {\n",
       "        vertical-align: middle;\n",
       "    }\n",
       "\n",
       "    .dataframe tbody tr th {\n",
       "        vertical-align: top;\n",
       "    }\n",
       "\n",
       "    .dataframe thead th {\n",
       "        text-align: right;\n",
       "    }\n",
       "</style>\n",
       "<table border=\"1\" class=\"dataframe\">\n",
       "  <thead>\n",
       "    <tr style=\"text-align: right;\">\n",
       "      <th></th>\n",
       "      <th>planetname</th>\n",
       "      <th>orbitperiod</th>\n",
       "      <th>eccentricity</th>\n",
       "    </tr>\n",
       "  </thead>\n",
       "  <tbody>\n",
       "    <tr>\n",
       "      <th>0</th>\n",
       "      <td>11 Com b</td>\n",
       "      <td>326.03000</td>\n",
       "      <td>0.2310</td>\n",
       "    </tr>\n",
       "    <tr>\n",
       "      <th>3</th>\n",
       "      <td>11 UMi b</td>\n",
       "      <td>516.21997</td>\n",
       "      <td>0.0800</td>\n",
       "    </tr>\n",
       "    <tr>\n",
       "      <th>4</th>\n",
       "      <td>11 UMi b</td>\n",
       "      <td>516.22000</td>\n",
       "      <td>0.0800</td>\n",
       "    </tr>\n",
       "    <tr>\n",
       "      <th>6</th>\n",
       "      <td>14 And b</td>\n",
       "      <td>185.84000</td>\n",
       "      <td>0.0000</td>\n",
       "    </tr>\n",
       "    <tr>\n",
       "      <th>7</th>\n",
       "      <td>14 Her b</td>\n",
       "      <td>1766.41000</td>\n",
       "      <td>0.3674</td>\n",
       "    </tr>\n",
       "    <tr>\n",
       "      <th>...</th>\n",
       "      <td>...</td>\n",
       "      <td>...</td>\n",
       "      <td>...</td>\n",
       "    </tr>\n",
       "    <tr>\n",
       "      <th>32510</th>\n",
       "      <td>ups And d</td>\n",
       "      <td>1274.60000</td>\n",
       "      <td>0.2420</td>\n",
       "    </tr>\n",
       "    <tr>\n",
       "      <th>32511</th>\n",
       "      <td>ups And d</td>\n",
       "      <td>1282.41000</td>\n",
       "      <td>0.2940</td>\n",
       "    </tr>\n",
       "    <tr>\n",
       "      <th>32512</th>\n",
       "      <td>ups And d</td>\n",
       "      <td>1281.50700</td>\n",
       "      <td>0.3160</td>\n",
       "    </tr>\n",
       "    <tr>\n",
       "      <th>32513</th>\n",
       "      <td>ups Leo b</td>\n",
       "      <td>385.20000</td>\n",
       "      <td>0.3200</td>\n",
       "    </tr>\n",
       "    <tr>\n",
       "      <th>32515</th>\n",
       "      <td>xi Aql b</td>\n",
       "      <td>136.75000</td>\n",
       "      <td>0.0000</td>\n",
       "    </tr>\n",
       "  </tbody>\n",
       "</table>\n",
       "<p>16542 rows × 3 columns</p>\n",
       "</div>"
      ],
      "text/plain": [
       "      planetname  orbitperiod  eccentricity\n",
       "0       11 Com b    326.03000        0.2310\n",
       "3       11 UMi b    516.21997        0.0800\n",
       "4       11 UMi b    516.22000        0.0800\n",
       "6       14 And b    185.84000        0.0000\n",
       "7       14 Her b   1766.41000        0.3674\n",
       "...          ...          ...           ...\n",
       "32510  ups And d   1274.60000        0.2420\n",
       "32511  ups And d   1282.41000        0.2940\n",
       "32512  ups And d   1281.50700        0.3160\n",
       "32513  ups Leo b    385.20000        0.3200\n",
       "32515   xi Aql b    136.75000        0.0000\n",
       "\n",
       "[16542 rows x 3 columns]"
      ]
     },
     "execution_count": 7,
     "metadata": {},
     "output_type": "execute_result"
    }
   ],
   "source": [
    "df1 = df1.rename(columns={'pl_name':'planetname', 'pl_orbper':'orbitperiod', 'pl_orbeccen':'eccentricity'})\n",
    "df1 = df1.dropna()\n",
    "df1"
   ]
  },
  {
   "cell_type": "markdown",
   "id": "ebf4eb5e",
   "metadata": {},
   "source": [
    "The following logic is to determine the data types of the column entries in the latest data frame. Again, this is the data type (dtype) for individual entries within the data frame."
   ]
  },
  {
   "cell_type": "code",
   "execution_count": 8,
   "id": "132abd21",
   "metadata": {},
   "outputs": [
    {
     "name": "stdout",
     "output_type": "stream",
     "text": [
      "<class 'numpy.float64'>\n",
      "<class 'numpy.float64'>\n"
     ]
    }
   ],
   "source": [
    "print(type(df1.iloc[0][1]))\n",
    "print(type(df1.iloc[0][2]))"
   ]
  },
  {
   "cell_type": "code",
   "execution_count": 9,
   "id": "d687b4cf",
   "metadata": {},
   "outputs": [
    {
     "data": {
      "text/plain": [
       "pandas.core.frame.DataFrame"
      ]
     },
     "execution_count": 9,
     "metadata": {},
     "output_type": "execute_result"
    }
   ],
   "source": [
    "type(df1)"
   ]
  },
  {
   "cell_type": "code",
   "execution_count": 10,
   "id": "0c15b720",
   "metadata": {},
   "outputs": [
    {
     "name": "stdout",
     "output_type": "stream",
     "text": [
      "The data type of the eccentricity column is: float64\n"
     ]
    }
   ],
   "source": [
    "print(\"The data type of the eccentricity column is:\", df1.dtypes['eccentricity'])"
   ]
  },
  {
   "cell_type": "markdown",
   "id": "7e07a42c",
   "metadata": {},
   "source": [
    "Notice df1 is indeed a data frame, and the entries within are numpy float number type.\n",
    "\n",
    "Want to limit each scenario to two dataframes. Once cleaned, need another to take arithmetic mean of multiple entries. For example, Dataframe 2 will take the averages of multiple planet entries. Following lines will take arithmetic mean of the two columns of interest and concate the two columns into the third dataframe.\n",
    "\n",
    "First will create intermediate variables to store the resulting averages."
   ]
  },
  {
   "cell_type": "code",
   "execution_count": 11,
   "id": "7af5b987",
   "metadata": {},
   "outputs": [],
   "source": [
    "#x4 = df2.groupby('planetname')['eccentricity'].mean()\n",
    "eccen = df1.groupby('planetname')['eccentricity'].mean()\n",
    "#x5 = df2.groupby('planetname')['orbitperiod'].mean()\n",
    "orbper = df1.groupby('planetname')['orbitperiod'].mean()"
   ]
  },
  {
   "cell_type": "code",
   "execution_count": 12,
   "id": "237d6609",
   "metadata": {},
   "outputs": [
    {
     "name": "stdout",
     "output_type": "stream",
     "text": [
      "planetname\n",
      "11 Com b      0.231000\n",
      "11 UMi b      0.080000\n",
      "14 And b      0.000000\n",
      "14 Her b      0.362233\n",
      "16 Cyg B b    0.676033\n",
      "                ...   \n",
      "ups And b     0.030200\n",
      "ups And c     0.238933\n",
      "ups And d     0.281117\n",
      "ups Leo b     0.320000\n",
      "xi Aql b      0.000000\n",
      "Name: eccentricity, Length: 4371, dtype: float64\n",
      "planetname\n",
      "11 Com b       326.030000\n",
      "11 UMi b       516.219985\n",
      "14 And b       185.840000\n",
      "14 Her b      1766.601670\n",
      "16 Cyg B b     799.375000\n",
      "                 ...     \n",
      "ups And b        4.616229\n",
      "ups And c      240.728533\n",
      "ups And d     1285.346167\n",
      "ups Leo b      385.200000\n",
      "xi Aql b       136.750000\n",
      "Name: orbitperiod, Length: 4371, dtype: float64\n"
     ]
    }
   ],
   "source": [
    "print(eccen)\n",
    "print(orbper)"
   ]
  },
  {
   "cell_type": "code",
   "execution_count": 13,
   "id": "6b037834",
   "metadata": {},
   "outputs": [
    {
     "data": {
      "text/plain": [
       "pandas.core.series.Series"
      ]
     },
     "execution_count": 13,
     "metadata": {},
     "output_type": "execute_result"
    }
   ],
   "source": [
    "type(eccen)"
   ]
  },
  {
   "cell_type": "code",
   "execution_count": 14,
   "id": "b94c484f",
   "metadata": {},
   "outputs": [
    {
     "data": {
      "text/plain": [
       "pandas.core.series.Series"
      ]
     },
     "execution_count": 14,
     "metadata": {},
     "output_type": "execute_result"
    }
   ],
   "source": [
    "type(orbper)"
   ]
  },
  {
   "cell_type": "code",
   "execution_count": 15,
   "id": "1d4e6432",
   "metadata": {},
   "outputs": [
    {
     "data": {
      "text/html": [
       "<div>\n",
       "<style scoped>\n",
       "    .dataframe tbody tr th:only-of-type {\n",
       "        vertical-align: middle;\n",
       "    }\n",
       "\n",
       "    .dataframe tbody tr th {\n",
       "        vertical-align: top;\n",
       "    }\n",
       "\n",
       "    .dataframe thead th {\n",
       "        text-align: right;\n",
       "    }\n",
       "</style>\n",
       "<table border=\"1\" class=\"dataframe\">\n",
       "  <thead>\n",
       "    <tr style=\"text-align: right;\">\n",
       "      <th></th>\n",
       "      <th>orbitperiod</th>\n",
       "      <th>eccentricity</th>\n",
       "    </tr>\n",
       "    <tr>\n",
       "      <th>planetname</th>\n",
       "      <th></th>\n",
       "      <th></th>\n",
       "    </tr>\n",
       "  </thead>\n",
       "  <tbody>\n",
       "    <tr>\n",
       "      <th>11 Com b</th>\n",
       "      <td>326.030000</td>\n",
       "      <td>0.231000</td>\n",
       "    </tr>\n",
       "    <tr>\n",
       "      <th>11 UMi b</th>\n",
       "      <td>516.219985</td>\n",
       "      <td>0.080000</td>\n",
       "    </tr>\n",
       "    <tr>\n",
       "      <th>14 And b</th>\n",
       "      <td>185.840000</td>\n",
       "      <td>0.000000</td>\n",
       "    </tr>\n",
       "    <tr>\n",
       "      <th>14 Her b</th>\n",
       "      <td>1766.601670</td>\n",
       "      <td>0.362233</td>\n",
       "    </tr>\n",
       "    <tr>\n",
       "      <th>16 Cyg B b</th>\n",
       "      <td>799.375000</td>\n",
       "      <td>0.676033</td>\n",
       "    </tr>\n",
       "    <tr>\n",
       "      <th>...</th>\n",
       "      <td>...</td>\n",
       "      <td>...</td>\n",
       "    </tr>\n",
       "    <tr>\n",
       "      <th>ups And b</th>\n",
       "      <td>4.616229</td>\n",
       "      <td>0.030200</td>\n",
       "    </tr>\n",
       "    <tr>\n",
       "      <th>ups And c</th>\n",
       "      <td>240.728533</td>\n",
       "      <td>0.238933</td>\n",
       "    </tr>\n",
       "    <tr>\n",
       "      <th>ups And d</th>\n",
       "      <td>1285.346167</td>\n",
       "      <td>0.281117</td>\n",
       "    </tr>\n",
       "    <tr>\n",
       "      <th>ups Leo b</th>\n",
       "      <td>385.200000</td>\n",
       "      <td>0.320000</td>\n",
       "    </tr>\n",
       "    <tr>\n",
       "      <th>xi Aql b</th>\n",
       "      <td>136.750000</td>\n",
       "      <td>0.000000</td>\n",
       "    </tr>\n",
       "  </tbody>\n",
       "</table>\n",
       "<p>4371 rows × 2 columns</p>\n",
       "</div>"
      ],
      "text/plain": [
       "            orbitperiod  eccentricity\n",
       "planetname                           \n",
       "11 Com b     326.030000      0.231000\n",
       "11 UMi b     516.219985      0.080000\n",
       "14 And b     185.840000      0.000000\n",
       "14 Her b    1766.601670      0.362233\n",
       "16 Cyg B b   799.375000      0.676033\n",
       "...                 ...           ...\n",
       "ups And b      4.616229      0.030200\n",
       "ups And c    240.728533      0.238933\n",
       "ups And d   1285.346167      0.281117\n",
       "ups Leo b    385.200000      0.320000\n",
       "xi Aql b     136.750000      0.000000\n",
       "\n",
       "[4371 rows x 2 columns]"
      ]
     },
     "execution_count": 15,
     "metadata": {},
     "output_type": "execute_result"
    }
   ],
   "source": [
    "df2 = pd.concat([orbper, eccen], axis = 1)\n",
    "df2"
   ]
  },
  {
   "cell_type": "markdown",
   "id": "ad59f707",
   "metadata": {},
   "source": [
    "All the filtering and cleaning was handled by df2."
   ]
  },
  {
   "cell_type": "code",
   "execution_count": 16,
   "id": "58bf9c78",
   "metadata": {},
   "outputs": [
    {
     "data": {
      "text/plain": [
       "Index(['orbitperiod', 'eccentricity'], dtype='object')"
      ]
     },
     "execution_count": 16,
     "metadata": {},
     "output_type": "execute_result"
    }
   ],
   "source": [
    "df2.columns"
   ]
  },
  {
   "cell_type": "markdown",
   "id": "b9ccdfd6",
   "metadata": {},
   "source": [
    "#### Model Building"
   ]
  },
  {
   "cell_type": "markdown",
   "id": "458f8246",
   "metadata": {},
   "source": [
    "Will implement robust scaling to deal with outliers."
   ]
  },
  {
   "cell_type": "code",
   "execution_count": 21,
   "id": "86643d71",
   "metadata": {},
   "outputs": [],
   "source": [
    "rs = RobustScaler().fit(df2)\n",
    "transformer = rs.transform(df2)"
   ]
  },
  {
   "cell_type": "code",
   "execution_count": null,
   "id": "38582b87",
   "metadata": {},
   "outputs": [],
   "source": []
  },
  {
   "cell_type": "code",
   "execution_count": null,
   "id": "09b83e71",
   "metadata": {},
   "outputs": [],
   "source": []
  },
  {
   "cell_type": "code",
   "execution_count": null,
   "id": "9aee9785",
   "metadata": {},
   "outputs": [],
   "source": []
  },
  {
   "cell_type": "code",
   "execution_count": null,
   "id": "9560cd72",
   "metadata": {},
   "outputs": [],
   "source": []
  },
  {
   "cell_type": "code",
   "execution_count": null,
   "id": "f072f44b",
   "metadata": {},
   "outputs": [],
   "source": []
  },
  {
   "cell_type": "markdown",
   "id": "59198fea",
   "metadata": {},
   "source": [
    "In this part want to explicitly declare the median and IQR of the two columns which are the variables. But the summary statistics part of the analysis can be done with variables declared earlier."
   ]
  },
  {
   "cell_type": "code",
   "execution_count": 20,
   "id": "c035158b",
   "metadata": {},
   "outputs": [
    {
     "name": "stdout",
     "output_type": "stream",
     "text": [
      "\n",
      "The median of the orbital period: 12.2538\n",
      "\n",
      "The median of the eccentricity: 0.00\n",
      "\n",
      "The interquartile range of the eccentricity: 0.07\n",
      "\n",
      "The interquartile range of the orbital period: 39.93\n"
     ]
    }
   ],
   "source": [
    "ecce = df2['eccentricity']\n",
    "orbper = df2['orbitperiod']\n",
    "eccen_med = statistics.median(list(ecce))\n",
    "orbper_med = statistics.median(list(orbper))\n",
    "print('\\nThe median of the orbital period: %.4f' % orbper_med)\n",
    "print('\\nThe median of the eccentricity: %.2f' % eccen_med)\n",
    "iqr_ecce = stats.iqr(ecce, interpolation = 'midpoint')\n",
    "iqr_op = stats.iqr(orbper, interpolation = 'midpoint')\n",
    "print('\\nThe interquartile range of the eccentricity: %.2f' % iqr_ecce)\n",
    "print('\\nThe interquartile range of the orbital period: %.2f' % iqr_op)"
   ]
  },
  {
   "cell_type": "code",
   "execution_count": 18,
   "id": "bc8c98fc",
   "metadata": {},
   "outputs": [
    {
     "name": "stdout",
     "output_type": "stream",
     "text": [
      "The mode of the eccentricity: \n",
      "0.00\n"
     ]
    }
   ],
   "source": [
    "ecce_mode = statistics.mode(list(ecce))\n",
    "print('The mode of the eccentricity: \\n%.2f' %ecce_mode)"
   ]
  },
  {
   "cell_type": "code",
   "execution_count": 19,
   "id": "20f4da6f",
   "metadata": {},
   "outputs": [
    {
     "data": {
      "text/plain": [
       "0.0640127391709691"
      ]
     },
     "execution_count": 19,
     "metadata": {},
     "output_type": "execute_result"
    }
   ],
   "source": [
    "ecce_avg = statistics.mean(list(ecce))\n",
    "ecce_avg"
   ]
  },
  {
   "cell_type": "code",
   "execution_count": 31,
   "id": "65c7c77b",
   "metadata": {},
   "outputs": [
    {
     "data": {
      "text/plain": [
       "(array([894., 335., 209., 114.,  72.,  55.,  29.,  22.,  19.,   9.]),\n",
       " array([0.   , 0.095, 0.19 , 0.285, 0.38 , 0.475, 0.57 , 0.665, 0.76 ,\n",
       "        0.855, 0.95 ]),\n",
       " <BarContainer object of 10 artists>)"
      ]
     },
     "execution_count": 31,
     "metadata": {},
     "output_type": "execute_result"
    },
    {
     "data": {
      "image/png": "[encoded data removed]",
      "text/plain": [
       "<Figure size 432x288 with 1 Axes>"
      ]
     },
     "metadata": {
      "needs_background": "light"
     },
     "output_type": "display_data"
    }
   ],
   "source": [
    "plt.hist(df3.eccentricity, color = \"darkgreen\")"
   ]
  },
  {
   "cell_type": "markdown",
   "id": "eb5daae0",
   "metadata": {},
   "source": [
    "The next section of code will use Robust Scaling to properly scale the dataframe. I want to use the kNN supervised learning model, but it is distance based and thus sensitive to scale of the data points."
   ]
  },
  {
   "cell_type": "code",
   "execution_count": 32,
   "id": "2e3af57c",
   "metadata": {},
   "outputs": [
    {
     "data": {
      "text/html": [
       "<div>\n",
       "<style scoped>\n",
       "    .dataframe tbody tr th:only-of-type {\n",
       "        vertical-align: middle;\n",
       "    }\n",
       "\n",
       "    .dataframe tbody tr th {\n",
       "        vertical-align: top;\n",
       "    }\n",
       "\n",
       "    .dataframe thead th {\n",
       "        text-align: right;\n",
       "    }\n",
       "</style>\n",
       "<table border=\"1\" class=\"dataframe\">\n",
       "  <thead>\n",
       "    <tr style=\"text-align: right;\">\n",
       "      <th></th>\n",
       "      <th>orbitperiod</th>\n",
       "      <th>eccentricity</th>\n",
       "    </tr>\n",
       "    <tr>\n",
       "      <th>planetname</th>\n",
       "      <th></th>\n",
       "      <th></th>\n",
       "    </tr>\n",
       "  </thead>\n",
       "  <tbody>\n",
       "    <tr>\n",
       "      <th>11 Com b</th>\n",
       "      <td>326.030000</td>\n",
       "      <td>0.2310</td>\n",
       "    </tr>\n",
       "    <tr>\n",
       "      <th>11 UMi b</th>\n",
       "      <td>516.219970</td>\n",
       "      <td>0.0800</td>\n",
       "    </tr>\n",
       "    <tr>\n",
       "      <th>14 And b</th>\n",
       "      <td>185.840000</td>\n",
       "      <td>0.0000</td>\n",
       "    </tr>\n",
       "    <tr>\n",
       "      <th>14 Her b</th>\n",
       "      <td>1773.400020</td>\n",
       "      <td>0.3700</td>\n",
       "    </tr>\n",
       "    <tr>\n",
       "      <th>16 Cyg B b</th>\n",
       "      <td>798.500000</td>\n",
       "      <td>0.6800</td>\n",
       "    </tr>\n",
       "    <tr>\n",
       "      <th>...</th>\n",
       "      <td>...</td>\n",
       "      <td>...</td>\n",
       "    </tr>\n",
       "    <tr>\n",
       "      <th>ups And b</th>\n",
       "      <td>4.617033</td>\n",
       "      <td>0.0215</td>\n",
       "    </tr>\n",
       "    <tr>\n",
       "      <th>ups And c</th>\n",
       "      <td>241.258000</td>\n",
       "      <td>0.2596</td>\n",
       "    </tr>\n",
       "    <tr>\n",
       "      <th>ups And d</th>\n",
       "      <td>1276.460000</td>\n",
       "      <td>0.2987</td>\n",
       "    </tr>\n",
       "    <tr>\n",
       "      <th>ups Leo b</th>\n",
       "      <td>385.200000</td>\n",
       "      <td>0.3200</td>\n",
       "    </tr>\n",
       "    <tr>\n",
       "      <th>xi Aql b</th>\n",
       "      <td>136.750000</td>\n",
       "      <td>0.0000</td>\n",
       "    </tr>\n",
       "  </tbody>\n",
       "</table>\n",
       "<p>1758 rows × 2 columns</p>\n",
       "</div>"
      ],
      "text/plain": [
       "            orbitperiod  eccentricity\n",
       "planetname                           \n",
       "11 Com b     326.030000        0.2310\n",
       "11 UMi b     516.219970        0.0800\n",
       "14 And b     185.840000        0.0000\n",
       "14 Her b    1773.400020        0.3700\n",
       "16 Cyg B b   798.500000        0.6800\n",
       "...                 ...           ...\n",
       "ups And b      4.617033        0.0215\n",
       "ups And c    241.258000        0.2596\n",
       "ups And d   1276.460000        0.2987\n",
       "ups Leo b    385.200000        0.3200\n",
       "xi Aql b     136.750000        0.0000\n",
       "\n",
       "[1758 rows x 2 columns]"
      ]
     },
     "execution_count": 32,
     "metadata": {},
     "output_type": "execute_result"
    }
   ],
   "source": [
    "x6 = df3[['orbitperiod', 'eccentricity']]\n",
    "x6"
   ]
  },
  {
   "cell_type": "code",
   "execution_count": 33,
   "id": "9d753c6c",
   "metadata": {},
   "outputs": [],
   "source": [
    "rs = RobustScaler().fit(x6)\n",
    "transformer = rs.transform(x6)"
   ]
  },
  {
   "cell_type": "code",
   "execution_count": 34,
   "id": "195a2065",
   "metadata": {},
   "outputs": [
    {
     "data": {
      "text/plain": [
       "numpy.ndarray"
      ]
     },
     "execution_count": 34,
     "metadata": {},
     "output_type": "execute_result"
    }
   ],
   "source": [
    "type(transformer)"
   ]
  },
  {
   "cell_type": "code",
   "execution_count": 35,
   "id": "e6aeba0d",
   "metadata": {},
   "outputs": [
    {
     "data": {
      "text/plain": [
       "1758"
      ]
     },
     "execution_count": 35,
     "metadata": {},
     "output_type": "execute_result"
    }
   ],
   "source": [
    "len(transformer)"
   ]
  },
  {
   "cell_type": "code",
   "execution_count": 36,
   "id": "9f60c133",
   "metadata": {},
   "outputs": [
    {
     "data": {
      "text/plain": [
       "array([[ 0.76860204,  0.68780488],\n",
       "       [ 1.24344198, -0.04878049],\n",
       "       [ 0.4185951 , -0.43902439],\n",
       "       ...,\n",
       "       [ 3.14150382,  1.01804878],\n",
       "       [ 0.91632949,  1.12195122],\n",
       "       [ 0.296034  , -0.43902439]])"
      ]
     },
     "execution_count": 36,
     "metadata": {},
     "output_type": "execute_result"
    }
   ],
   "source": [
    "transformer"
   ]
  },
  {
   "cell_type": "code",
   "execution_count": 37,
   "id": "2bbc195f",
   "metadata": {},
   "outputs": [
    {
     "data": {
      "text/plain": [
       "(1758, 2)"
      ]
     },
     "execution_count": 37,
     "metadata": {},
     "output_type": "execute_result"
    }
   ],
   "source": [
    "transformer.shape"
   ]
  },
  {
   "cell_type": "code",
   "execution_count": 38,
   "id": "9f1f3e4c",
   "metadata": {},
   "outputs": [],
   "source": [
    "X = transformer[:, 0]\n",
    "y = transformer[:, 1]"
   ]
  },
  {
   "cell_type": "markdown",
   "id": "7c507171",
   "metadata": {},
   "source": [
    "Now to split the data into training and testing using the test-train-split function defined earlier in the script."
   ]
  },
  {
   "cell_type": "code",
   "execution_count": 39,
   "id": "c66a106c",
   "metadata": {},
   "outputs": [],
   "source": [
    "x_train, x_test = tts(X)\n",
    "y_train, y_test = tts(y)"
   ]
  },
  {
   "cell_type": "code",
   "execution_count": 40,
   "id": "a425bed1",
   "metadata": {},
   "outputs": [
    {
     "data": {
      "text/plain": [
       "numpy.ndarray"
      ]
     },
     "execution_count": 40,
     "metadata": {},
     "output_type": "execute_result"
    }
   ],
   "source": [
    "type(x_train)"
   ]
  },
  {
   "cell_type": "code",
   "execution_count": 41,
   "id": "fbb9d726",
   "metadata": {},
   "outputs": [
    {
     "data": {
      "text/plain": [
       "numpy.ndarray"
      ]
     },
     "execution_count": 41,
     "metadata": {},
     "output_type": "execute_result"
    }
   ],
   "source": [
    "type(x_test)"
   ]
  },
  {
   "cell_type": "code",
   "execution_count": 42,
   "id": "eb23ea75",
   "metadata": {},
   "outputs": [
    {
     "name": "stdout",
     "output_type": "stream",
     "text": [
      "[ 2.14755861e+01 -4.52660169e-03  1.38715049e+01 ... -3.95095648e-02\n",
      "  8.14459594e-02  4.58442424e+00]\n"
     ]
    }
   ],
   "source": [
    "print(x_train)"
   ]
  },
  {
   "cell_type": "code",
   "execution_count": 43,
   "id": "12ad46bf",
   "metadata": {},
   "outputs": [],
   "source": [
    "# Generate random predictions.\n",
    "def random_algorithm(train, test):\n",
    "    #output_values = [row[-1] for row in train]\n",
    "    output_values = [row[-1] for row in train]\n",
    "    unique = list(set(output_values))\n",
    "    predicted = list()\n",
    "    for row in test:\n",
    "        index = randrange(len(unique))\n",
    "        predicted.append(unique[index])\n",
    "    return predicted"
   ]
  },
  {
   "cell_type": "code",
   "execution_count": 44,
   "id": "5514808a",
   "metadata": {},
   "outputs": [],
   "source": [
    "def the_real_random_algo(train_list, test_list):\n",
    "    predicted = []\n",
    "    for row in test_list:\n",
    "        index = randrange(len(train_list))\n",
    "        predicted.append(train_list[index])\n",
    "    return predicted"
   ]
  },
  {
   "cell_type": "markdown",
   "id": "4997015c",
   "metadata": {},
   "source": [
    "For regression problem, the mean of the target (dependent variable) values can serve as a good baseline."
   ]
  },
  {
   "cell_type": "code",
   "execution_count": 45,
   "id": "2a4e7848",
   "metadata": {},
   "outputs": [
    {
     "data": {
      "text/plain": [
       "0.3131393767862593"
      ]
     },
     "execution_count": 45,
     "metadata": {},
     "output_type": "execute_result"
    }
   ],
   "source": [
    "#y_pred = y_train.mean()\n",
    "y_pred = y.mean() # <- this method is probably best practice as opposed to line above.\n",
    "y_pred"
   ]
  },
  {
   "cell_type": "raw",
   "id": "e0156fa9",
   "metadata": {},
   "source": [
    "Want to see the arithmetic mean of the orbital period from the given data set."
   ]
  },
  {
   "cell_type": "code",
   "execution_count": 46,
   "id": "d00962da",
   "metadata": {},
   "outputs": [
    {
     "data": {
      "text/plain": [
       "1652.9983609162173"
      ]
     },
     "execution_count": 46,
     "metadata": {},
     "output_type": "execute_result"
    }
   ],
   "source": [
    "x6.orbitperiod.mean()"
   ]
  },
  {
   "cell_type": "code",
   "execution_count": 47,
   "id": "f80cb970",
   "metadata": {},
   "outputs": [
    {
     "data": {
      "text/plain": [
       "[0.3131393767862593,\n",
       " 0.3131393767862593,\n",
       " 0.3131393767862593,\n",
       " 0.3131393767862593,\n",
       " 0.3131393767862593,\n",
       " 0.3131393767862593,\n",
       " 0.3131393767862593,\n",
       " 0.3131393767862593,\n",
       " 0.3131393767862593,\n",
       " 0.3131393767862593,\n",
       " 0.3131393767862593,\n",
       " 0.3131393767862593,\n",
       " 0.3131393767862593,\n",
       " 0.3131393767862593,\n",
       " 0.3131393767862593,\n",
       " 0.3131393767862593,\n",
       " 0.3131393767862593,\n",
       " 0.3131393767862593,\n",
       " 0.3131393767862593,\n",
       " 0.3131393767862593,\n",
       " 0.3131393767862593,\n",
       " 0.3131393767862593,\n",
       " 0.3131393767862593,\n",
       " 0.3131393767862593,\n",
       " 0.3131393767862593,\n",
       " 0.3131393767862593,\n",
       " 0.3131393767862593,\n",
       " 0.3131393767862593,\n",
       " 0.3131393767862593,\n",
       " 0.3131393767862593,\n",
       " 0.3131393767862593,\n",
       " 0.3131393767862593,\n",
       " 0.3131393767862593,\n",
       " 0.3131393767862593,\n",
       " 0.3131393767862593,\n",
       " 0.3131393767862593,\n",
       " 0.3131393767862593,\n",
       " 0.3131393767862593,\n",
       " 0.3131393767862593,\n",
       " 0.3131393767862593,\n",
       " 0.3131393767862593,\n",
       " 0.3131393767862593,\n",
       " 0.3131393767862593,\n",
       " 0.3131393767862593,\n",
       " 0.3131393767862593,\n",
       " 0.3131393767862593,\n",
       " 0.3131393767862593,\n",
       " 0.3131393767862593,\n",
       " 0.3131393767862593,\n",
       " 0.3131393767862593,\n",
       " 0.3131393767862593,\n",
       " 0.3131393767862593,\n",
       " 0.3131393767862593,\n",
       " 0.3131393767862593,\n",
       " 0.3131393767862593,\n",
       " 0.3131393767862593,\n",
       " 0.3131393767862593,\n",
       " 0.3131393767862593,\n",
       " 0.3131393767862593,\n",
       " 0.3131393767862593,\n",
       " 0.3131393767862593,\n",
       " 0.3131393767862593,\n",
       " 0.3131393767862593,\n",
       " 0.3131393767862593,\n",
       " 0.3131393767862593,\n",
       " 0.3131393767862593,\n",
       " 0.3131393767862593,\n",
       " 0.3131393767862593,\n",
       " 0.3131393767862593,\n",
       " 0.3131393767862593,\n",
       " 0.3131393767862593,\n",
       " 0.3131393767862593,\n",
       " 0.3131393767862593,\n",
       " 0.3131393767862593,\n",
       " 0.3131393767862593,\n",
       " 0.3131393767862593,\n",
       " 0.3131393767862593,\n",
       " 0.3131393767862593,\n",
       " 0.3131393767862593,\n",
       " 0.3131393767862593,\n",
       " 0.3131393767862593,\n",
       " 0.3131393767862593,\n",
       " 0.3131393767862593,\n",
       " 0.3131393767862593,\n",
       " 0.3131393767862593,\n",
       " 0.3131393767862593,\n",
       " 0.3131393767862593,\n",
       " 0.3131393767862593,\n",
       " 0.3131393767862593,\n",
       " 0.3131393767862593,\n",
       " 0.3131393767862593,\n",
       " 0.3131393767862593,\n",
       " 0.3131393767862593,\n",
       " 0.3131393767862593,\n",
       " 0.3131393767862593,\n",
       " 0.3131393767862593,\n",
       " 0.3131393767862593,\n",
       " 0.3131393767862593,\n",
       " 0.3131393767862593,\n",
       " 0.3131393767862593,\n",
       " 0.3131393767862593,\n",
       " 0.3131393767862593,\n",
       " 0.3131393767862593,\n",
       " 0.3131393767862593,\n",
       " 0.3131393767862593,\n",
       " 0.3131393767862593,\n",
       " 0.3131393767862593,\n",
       " 0.3131393767862593,\n",
       " 0.3131393767862593,\n",
       " 0.3131393767862593,\n",
       " 0.3131393767862593,\n",
       " 0.3131393767862593,\n",
       " 0.3131393767862593,\n",
       " 0.3131393767862593,\n",
       " 0.3131393767862593,\n",
       " 0.3131393767862593,\n",
       " 0.3131393767862593,\n",
       " 0.3131393767862593,\n",
       " 0.3131393767862593,\n",
       " 0.3131393767862593,\n",
       " 0.3131393767862593,\n",
       " 0.3131393767862593,\n",
       " 0.3131393767862593,\n",
       " 0.3131393767862593,\n",
       " 0.3131393767862593,\n",
       " 0.3131393767862593,\n",
       " 0.3131393767862593,\n",
       " 0.3131393767862593,\n",
       " 0.3131393767862593,\n",
       " 0.3131393767862593,\n",
       " 0.3131393767862593,\n",
       " 0.3131393767862593,\n",
       " 0.3131393767862593,\n",
       " 0.3131393767862593,\n",
       " 0.3131393767862593,\n",
       " 0.3131393767862593,\n",
       " 0.3131393767862593,\n",
       " 0.3131393767862593,\n",
       " 0.3131393767862593,\n",
       " 0.3131393767862593,\n",
       " 0.3131393767862593,\n",
       " 0.3131393767862593,\n",
       " 0.3131393767862593,\n",
       " 0.3131393767862593,\n",
       " 0.3131393767862593,\n",
       " 0.3131393767862593,\n",
       " 0.3131393767862593,\n",
       " 0.3131393767862593,\n",
       " 0.3131393767862593,\n",
       " 0.3131393767862593,\n",
       " 0.3131393767862593,\n",
       " 0.3131393767862593,\n",
       " 0.3131393767862593,\n",
       " 0.3131393767862593,\n",
       " 0.3131393767862593,\n",
       " 0.3131393767862593,\n",
       " 0.3131393767862593,\n",
       " 0.3131393767862593,\n",
       " 0.3131393767862593,\n",
       " 0.3131393767862593,\n",
       " 0.3131393767862593,\n",
       " 0.3131393767862593,\n",
       " 0.3131393767862593,\n",
       " 0.3131393767862593,\n",
       " 0.3131393767862593,\n",
       " 0.3131393767862593,\n",
       " 0.3131393767862593,\n",
       " 0.3131393767862593,\n",
       " 0.3131393767862593,\n",
       " 0.3131393767862593,\n",
       " 0.3131393767862593,\n",
       " 0.3131393767862593,\n",
       " 0.3131393767862593,\n",
       " 0.3131393767862593,\n",
       " 0.3131393767862593,\n",
       " 0.3131393767862593,\n",
       " 0.3131393767862593,\n",
       " 0.3131393767862593,\n",
       " 0.3131393767862593,\n",
       " 0.3131393767862593,\n",
       " 0.3131393767862593,\n",
       " 0.3131393767862593,\n",
       " 0.3131393767862593,\n",
       " 0.3131393767862593,\n",
       " 0.3131393767862593,\n",
       " 0.3131393767862593,\n",
       " 0.3131393767862593,\n",
       " 0.3131393767862593,\n",
       " 0.3131393767862593,\n",
       " 0.3131393767862593,\n",
       " 0.3131393767862593,\n",
       " 0.3131393767862593,\n",
       " 0.3131393767862593,\n",
       " 0.3131393767862593,\n",
       " 0.3131393767862593,\n",
       " 0.3131393767862593,\n",
       " 0.3131393767862593,\n",
       " 0.3131393767862593,\n",
       " 0.3131393767862593,\n",
       " 0.3131393767862593,\n",
       " 0.3131393767862593,\n",
       " 0.3131393767862593,\n",
       " 0.3131393767862593,\n",
       " 0.3131393767862593,\n",
       " 0.3131393767862593,\n",
       " 0.3131393767862593,\n",
       " 0.3131393767862593,\n",
       " 0.3131393767862593,\n",
       " 0.3131393767862593,\n",
       " 0.3131393767862593,\n",
       " 0.3131393767862593,\n",
       " 0.3131393767862593,\n",
       " 0.3131393767862593,\n",
       " 0.3131393767862593,\n",
       " 0.3131393767862593,\n",
       " 0.3131393767862593,\n",
       " 0.3131393767862593,\n",
       " 0.3131393767862593,\n",
       " 0.3131393767862593,\n",
       " 0.3131393767862593,\n",
       " 0.3131393767862593,\n",
       " 0.3131393767862593,\n",
       " 0.3131393767862593,\n",
       " 0.3131393767862593,\n",
       " 0.3131393767862593,\n",
       " 0.3131393767862593,\n",
       " 0.3131393767862593,\n",
       " 0.3131393767862593,\n",
       " 0.3131393767862593,\n",
       " 0.3131393767862593,\n",
       " 0.3131393767862593,\n",
       " 0.3131393767862593,\n",
       " 0.3131393767862593,\n",
       " 0.3131393767862593,\n",
       " 0.3131393767862593,\n",
       " 0.3131393767862593,\n",
       " 0.3131393767862593,\n",
       " 0.3131393767862593,\n",
       " 0.3131393767862593,\n",
       " 0.3131393767862593,\n",
       " 0.3131393767862593,\n",
       " 0.3131393767862593,\n",
       " 0.3131393767862593,\n",
       " 0.3131393767862593,\n",
       " 0.3131393767862593,\n",
       " 0.3131393767862593,\n",
       " 0.3131393767862593,\n",
       " 0.3131393767862593,\n",
       " 0.3131393767862593,\n",
       " 0.3131393767862593,\n",
       " 0.3131393767862593,\n",
       " 0.3131393767862593,\n",
       " 0.3131393767862593,\n",
       " 0.3131393767862593,\n",
       " 0.3131393767862593,\n",
       " 0.3131393767862593,\n",
       " 0.3131393767862593,\n",
       " 0.3131393767862593,\n",
       " 0.3131393767862593,\n",
       " 0.3131393767862593,\n",
       " 0.3131393767862593,\n",
       " 0.3131393767862593,\n",
       " 0.3131393767862593,\n",
       " 0.3131393767862593,\n",
       " 0.3131393767862593,\n",
       " 0.3131393767862593,\n",
       " 0.3131393767862593,\n",
       " 0.3131393767862593,\n",
       " 0.3131393767862593,\n",
       " 0.3131393767862593,\n",
       " 0.3131393767862593,\n",
       " 0.3131393767862593,\n",
       " 0.3131393767862593,\n",
       " 0.3131393767862593,\n",
       " 0.3131393767862593,\n",
       " 0.3131393767862593,\n",
       " 0.3131393767862593,\n",
       " 0.3131393767862593,\n",
       " 0.3131393767862593,\n",
       " 0.3131393767862593,\n",
       " 0.3131393767862593,\n",
       " 0.3131393767862593,\n",
       " 0.3131393767862593,\n",
       " 0.3131393767862593,\n",
       " 0.3131393767862593,\n",
       " 0.3131393767862593,\n",
       " 0.3131393767862593,\n",
       " 0.3131393767862593,\n",
       " 0.3131393767862593,\n",
       " 0.3131393767862593,\n",
       " 0.3131393767862593,\n",
       " 0.3131393767862593,\n",
       " 0.3131393767862593,\n",
       " 0.3131393767862593,\n",
       " 0.3131393767862593,\n",
       " 0.3131393767862593,\n",
       " 0.3131393767862593,\n",
       " 0.3131393767862593,\n",
       " 0.3131393767862593,\n",
       " 0.3131393767862593,\n",
       " 0.3131393767862593,\n",
       " 0.3131393767862593,\n",
       " 0.3131393767862593,\n",
       " 0.3131393767862593,\n",
       " 0.3131393767862593,\n",
       " 0.3131393767862593,\n",
       " 0.3131393767862593,\n",
       " 0.3131393767862593,\n",
       " 0.3131393767862593,\n",
       " 0.3131393767862593,\n",
       " 0.3131393767862593,\n",
       " 0.3131393767862593,\n",
       " 0.3131393767862593,\n",
       " 0.3131393767862593,\n",
       " 0.3131393767862593,\n",
       " 0.3131393767862593,\n",
       " 0.3131393767862593,\n",
       " 0.3131393767862593,\n",
       " 0.3131393767862593,\n",
       " 0.3131393767862593,\n",
       " 0.3131393767862593,\n",
       " 0.3131393767862593,\n",
       " 0.3131393767862593,\n",
       " 0.3131393767862593,\n",
       " 0.3131393767862593,\n",
       " 0.3131393767862593,\n",
       " 0.3131393767862593,\n",
       " 0.3131393767862593,\n",
       " 0.3131393767862593,\n",
       " 0.3131393767862593,\n",
       " 0.3131393767862593,\n",
       " 0.3131393767862593,\n",
       " 0.3131393767862593,\n",
       " 0.3131393767862593,\n",
       " 0.3131393767862593,\n",
       " 0.3131393767862593,\n",
       " 0.3131393767862593,\n",
       " 0.3131393767862593,\n",
       " 0.3131393767862593,\n",
       " 0.3131393767862593,\n",
       " 0.3131393767862593,\n",
       " 0.3131393767862593,\n",
       " 0.3131393767862593,\n",
       " 0.3131393767862593,\n",
       " 0.3131393767862593,\n",
       " 0.3131393767862593,\n",
       " 0.3131393767862593,\n",
       " 0.3131393767862593,\n",
       " 0.3131393767862593,\n",
       " 0.3131393767862593,\n",
       " 0.3131393767862593,\n",
       " 0.3131393767862593,\n",
       " 0.3131393767862593,\n",
       " 0.3131393767862593,\n",
       " 0.3131393767862593,\n",
       " 0.3131393767862593,\n",
       " 0.3131393767862593,\n",
       " 0.3131393767862593,\n",
       " 0.3131393767862593,\n",
       " 0.3131393767862593,\n",
       " 0.3131393767862593,\n",
       " 0.3131393767862593,\n",
       " 0.3131393767862593,\n",
       " 0.3131393767862593,\n",
       " 0.3131393767862593,\n",
       " 0.3131393767862593,\n",
       " 0.3131393767862593,\n",
       " 0.3131393767862593,\n",
       " 0.3131393767862593,\n",
       " 0.3131393767862593,\n",
       " 0.3131393767862593,\n",
       " 0.3131393767862593,\n",
       " 0.3131393767862593,\n",
       " 0.3131393767862593,\n",
       " 0.3131393767862593,\n",
       " 0.3131393767862593,\n",
       " 0.3131393767862593,\n",
       " 0.3131393767862593,\n",
       " 0.3131393767862593,\n",
       " 0.3131393767862593,\n",
       " 0.3131393767862593,\n",
       " 0.3131393767862593,\n",
       " 0.3131393767862593,\n",
       " 0.3131393767862593,\n",
       " 0.3131393767862593,\n",
       " 0.3131393767862593,\n",
       " 0.3131393767862593,\n",
       " 0.3131393767862593,\n",
       " 0.3131393767862593,\n",
       " 0.3131393767862593,\n",
       " 0.3131393767862593,\n",
       " 0.3131393767862593,\n",
       " 0.3131393767862593,\n",
       " 0.3131393767862593,\n",
       " 0.3131393767862593,\n",
       " 0.3131393767862593,\n",
       " 0.3131393767862593,\n",
       " 0.3131393767862593,\n",
       " 0.3131393767862593,\n",
       " 0.3131393767862593,\n",
       " 0.3131393767862593,\n",
       " 0.3131393767862593,\n",
       " 0.3131393767862593,\n",
       " 0.3131393767862593,\n",
       " 0.3131393767862593,\n",
       " 0.3131393767862593,\n",
       " 0.3131393767862593,\n",
       " 0.3131393767862593,\n",
       " 0.3131393767862593,\n",
       " 0.3131393767862593,\n",
       " 0.3131393767862593,\n",
       " 0.3131393767862593,\n",
       " 0.3131393767862593,\n",
       " 0.3131393767862593,\n",
       " 0.3131393767862593,\n",
       " 0.3131393767862593,\n",
       " 0.3131393767862593,\n",
       " 0.3131393767862593,\n",
       " 0.3131393767862593,\n",
       " 0.3131393767862593,\n",
       " 0.3131393767862593,\n",
       " 0.3131393767862593,\n",
       " 0.3131393767862593,\n",
       " 0.3131393767862593,\n",
       " 0.3131393767862593,\n",
       " 0.3131393767862593,\n",
       " 0.3131393767862593,\n",
       " 0.3131393767862593,\n",
       " 0.3131393767862593,\n",
       " 0.3131393767862593,\n",
       " 0.3131393767862593,\n",
       " 0.3131393767862593,\n",
       " 0.3131393767862593,\n",
       " 0.3131393767862593,\n",
       " 0.3131393767862593,\n",
       " 0.3131393767862593,\n",
       " 0.3131393767862593,\n",
       " 0.3131393767862593,\n",
       " 0.3131393767862593,\n",
       " 0.3131393767862593,\n",
       " 0.3131393767862593,\n",
       " 0.3131393767862593,\n",
       " 0.3131393767862593,\n",
       " 0.3131393767862593,\n",
       " 0.3131393767862593,\n",
       " 0.3131393767862593,\n",
       " 0.3131393767862593,\n",
       " 0.3131393767862593,\n",
       " 0.3131393767862593,\n",
       " 0.3131393767862593,\n",
       " 0.3131393767862593,\n",
       " 0.3131393767862593,\n",
       " 0.3131393767862593,\n",
       " 0.3131393767862593,\n",
       " 0.3131393767862593,\n",
       " 0.3131393767862593,\n",
       " 0.3131393767862593,\n",
       " 0.3131393767862593,\n",
       " 0.3131393767862593,\n",
       " 0.3131393767862593,\n",
       " 0.3131393767862593,\n",
       " 0.3131393767862593,\n",
       " 0.3131393767862593,\n",
       " 0.3131393767862593,\n",
       " 0.3131393767862593,\n",
       " 0.3131393767862593,\n",
       " 0.3131393767862593,\n",
       " 0.3131393767862593,\n",
       " 0.3131393767862593,\n",
       " 0.3131393767862593,\n",
       " 0.3131393767862593,\n",
       " 0.3131393767862593,\n",
       " 0.3131393767862593,\n",
       " 0.3131393767862593,\n",
       " 0.3131393767862593,\n",
       " 0.3131393767862593,\n",
       " 0.3131393767862593,\n",
       " 0.3131393767862593,\n",
       " 0.3131393767862593,\n",
       " 0.3131393767862593,\n",
       " 0.3131393767862593,\n",
       " 0.3131393767862593,\n",
       " 0.3131393767862593,\n",
       " 0.3131393767862593,\n",
       " 0.3131393767862593,\n",
       " 0.3131393767862593,\n",
       " 0.3131393767862593,\n",
       " 0.3131393767862593,\n",
       " 0.3131393767862593,\n",
       " 0.3131393767862593,\n",
       " 0.3131393767862593,\n",
       " 0.3131393767862593,\n",
       " 0.3131393767862593,\n",
       " 0.3131393767862593,\n",
       " 0.3131393767862593,\n",
       " 0.3131393767862593,\n",
       " 0.3131393767862593,\n",
       " 0.3131393767862593,\n",
       " 0.3131393767862593,\n",
       " 0.3131393767862593,\n",
       " 0.3131393767862593,\n",
       " 0.3131393767862593,\n",
       " 0.3131393767862593,\n",
       " 0.3131393767862593,\n",
       " 0.3131393767862593,\n",
       " 0.3131393767862593,\n",
       " 0.3131393767862593,\n",
       " 0.3131393767862593,\n",
       " 0.3131393767862593,\n",
       " 0.3131393767862593,\n",
       " 0.3131393767862593,\n",
       " 0.3131393767862593,\n",
       " 0.3131393767862593,\n",
       " 0.3131393767862593,\n",
       " 0.3131393767862593,\n",
       " 0.3131393767862593,\n",
       " 0.3131393767862593,\n",
       " 0.3131393767862593,\n",
       " 0.3131393767862593,\n",
       " 0.3131393767862593,\n",
       " 0.3131393767862593,\n",
       " 0.3131393767862593,\n",
       " 0.3131393767862593,\n",
       " 0.3131393767862593,\n",
       " 0.3131393767862593,\n",
       " 0.3131393767862593,\n",
       " 0.3131393767862593,\n",
       " 0.3131393767862593,\n",
       " 0.3131393767862593,\n",
       " 0.3131393767862593,\n",
       " 0.3131393767862593,\n",
       " 0.3131393767862593,\n",
       " 0.3131393767862593,\n",
       " 0.3131393767862593,\n",
       " 0.3131393767862593,\n",
       " 0.3131393767862593,\n",
       " 0.3131393767862593,\n",
       " 0.3131393767862593,\n",
       " 0.3131393767862593,\n",
       " 0.3131393767862593,\n",
       " 0.3131393767862593,\n",
       " 0.3131393767862593,\n",
       " 0.3131393767862593,\n",
       " 0.3131393767862593,\n",
       " 0.3131393767862593,\n",
       " 0.3131393767862593,\n",
       " 0.3131393767862593,\n",
       " 0.3131393767862593,\n",
       " 0.3131393767862593,\n",
       " 0.3131393767862593,\n",
       " 0.3131393767862593,\n",
       " 0.3131393767862593,\n",
       " 0.3131393767862593,\n",
       " 0.3131393767862593,\n",
       " 0.3131393767862593,\n",
       " 0.3131393767862593,\n",
       " 0.3131393767862593,\n",
       " 0.3131393767862593,\n",
       " 0.3131393767862593,\n",
       " 0.3131393767862593,\n",
       " 0.3131393767862593,\n",
       " 0.3131393767862593,\n",
       " 0.3131393767862593,\n",
       " 0.3131393767862593,\n",
       " 0.3131393767862593,\n",
       " 0.3131393767862593,\n",
       " 0.3131393767862593,\n",
       " 0.3131393767862593,\n",
       " 0.3131393767862593,\n",
       " 0.3131393767862593,\n",
       " 0.3131393767862593,\n",
       " 0.3131393767862593,\n",
       " 0.3131393767862593,\n",
       " 0.3131393767862593,\n",
       " 0.3131393767862593,\n",
       " 0.3131393767862593,\n",
       " 0.3131393767862593,\n",
       " 0.3131393767862593,\n",
       " 0.3131393767862593,\n",
       " 0.3131393767862593,\n",
       " 0.3131393767862593,\n",
       " 0.3131393767862593,\n",
       " 0.3131393767862593,\n",
       " 0.3131393767862593,\n",
       " 0.3131393767862593,\n",
       " 0.3131393767862593,\n",
       " 0.3131393767862593,\n",
       " 0.3131393767862593,\n",
       " 0.3131393767862593,\n",
       " 0.3131393767862593,\n",
       " 0.3131393767862593,\n",
       " 0.3131393767862593,\n",
       " 0.3131393767862593,\n",
       " 0.3131393767862593,\n",
       " 0.3131393767862593,\n",
       " 0.3131393767862593,\n",
       " 0.3131393767862593,\n",
       " 0.3131393767862593,\n",
       " 0.3131393767862593,\n",
       " 0.3131393767862593,\n",
       " 0.3131393767862593,\n",
       " 0.3131393767862593,\n",
       " 0.3131393767862593,\n",
       " 0.3131393767862593,\n",
       " 0.3131393767862593,\n",
       " 0.3131393767862593,\n",
       " 0.3131393767862593,\n",
       " 0.3131393767862593,\n",
       " 0.3131393767862593,\n",
       " 0.3131393767862593,\n",
       " 0.3131393767862593,\n",
       " 0.3131393767862593,\n",
       " 0.3131393767862593,\n",
       " 0.3131393767862593,\n",
       " 0.3131393767862593,\n",
       " 0.3131393767862593,\n",
       " 0.3131393767862593,\n",
       " 0.3131393767862593,\n",
       " 0.3131393767862593,\n",
       " 0.3131393767862593,\n",
       " 0.3131393767862593,\n",
       " 0.3131393767862593,\n",
       " 0.3131393767862593,\n",
       " 0.3131393767862593,\n",
       " 0.3131393767862593,\n",
       " 0.3131393767862593,\n",
       " 0.3131393767862593,\n",
       " 0.3131393767862593,\n",
       " 0.3131393767862593,\n",
       " 0.3131393767862593,\n",
       " 0.3131393767862593,\n",
       " 0.3131393767862593,\n",
       " 0.3131393767862593,\n",
       " 0.3131393767862593,\n",
       " 0.3131393767862593,\n",
       " 0.3131393767862593,\n",
       " 0.3131393767862593,\n",
       " 0.3131393767862593,\n",
       " 0.3131393767862593,\n",
       " 0.3131393767862593,\n",
       " 0.3131393767862593,\n",
       " 0.3131393767862593,\n",
       " 0.3131393767862593,\n",
       " 0.3131393767862593,\n",
       " 0.3131393767862593,\n",
       " 0.3131393767862593,\n",
       " 0.3131393767862593,\n",
       " 0.3131393767862593,\n",
       " 0.3131393767862593,\n",
       " 0.3131393767862593,\n",
       " 0.3131393767862593,\n",
       " 0.3131393767862593,\n",
       " 0.3131393767862593,\n",
       " 0.3131393767862593,\n",
       " 0.3131393767862593,\n",
       " 0.3131393767862593,\n",
       " 0.3131393767862593,\n",
       " 0.3131393767862593,\n",
       " 0.3131393767862593,\n",
       " 0.3131393767862593,\n",
       " 0.3131393767862593,\n",
       " 0.3131393767862593,\n",
       " 0.3131393767862593,\n",
       " 0.3131393767862593,\n",
       " 0.3131393767862593,\n",
       " 0.3131393767862593,\n",
       " 0.3131393767862593,\n",
       " 0.3131393767862593,\n",
       " 0.3131393767862593,\n",
       " 0.3131393767862593,\n",
       " 0.3131393767862593,\n",
       " 0.3131393767862593,\n",
       " 0.3131393767862593,\n",
       " 0.3131393767862593,\n",
       " 0.3131393767862593,\n",
       " 0.3131393767862593,\n",
       " 0.3131393767862593,\n",
       " 0.3131393767862593,\n",
       " 0.3131393767862593,\n",
       " 0.3131393767862593,\n",
       " 0.3131393767862593,\n",
       " 0.3131393767862593,\n",
       " 0.3131393767862593,\n",
       " 0.3131393767862593,\n",
       " 0.3131393767862593,\n",
       " 0.3131393767862593,\n",
       " 0.3131393767862593,\n",
       " 0.3131393767862593,\n",
       " 0.3131393767862593,\n",
       " 0.3131393767862593,\n",
       " 0.3131393767862593,\n",
       " 0.3131393767862593,\n",
       " 0.3131393767862593,\n",
       " 0.3131393767862593,\n",
       " 0.3131393767862593,\n",
       " 0.3131393767862593,\n",
       " 0.3131393767862593,\n",
       " 0.3131393767862593,\n",
       " 0.3131393767862593,\n",
       " 0.3131393767862593,\n",
       " 0.3131393767862593,\n",
       " 0.3131393767862593,\n",
       " 0.3131393767862593,\n",
       " 0.3131393767862593,\n",
       " 0.3131393767862593,\n",
       " 0.3131393767862593,\n",
       " 0.3131393767862593,\n",
       " 0.3131393767862593,\n",
       " 0.3131393767862593,\n",
       " 0.3131393767862593,\n",
       " 0.3131393767862593,\n",
       " 0.3131393767862593,\n",
       " 0.3131393767862593,\n",
       " 0.3131393767862593,\n",
       " 0.3131393767862593,\n",
       " 0.3131393767862593,\n",
       " 0.3131393767862593,\n",
       " 0.3131393767862593,\n",
       " 0.3131393767862593,\n",
       " 0.3131393767862593,\n",
       " 0.3131393767862593,\n",
       " 0.3131393767862593,\n",
       " 0.3131393767862593,\n",
       " 0.3131393767862593,\n",
       " 0.3131393767862593,\n",
       " 0.3131393767862593,\n",
       " 0.3131393767862593,\n",
       " 0.3131393767862593,\n",
       " 0.3131393767862593,\n",
       " 0.3131393767862593,\n",
       " 0.3131393767862593,\n",
       " 0.3131393767862593,\n",
       " 0.3131393767862593,\n",
       " 0.3131393767862593,\n",
       " 0.3131393767862593,\n",
       " 0.3131393767862593,\n",
       " 0.3131393767862593,\n",
       " 0.3131393767862593,\n",
       " 0.3131393767862593,\n",
       " 0.3131393767862593,\n",
       " 0.3131393767862593,\n",
       " 0.3131393767862593,\n",
       " 0.3131393767862593,\n",
       " 0.3131393767862593,\n",
       " 0.3131393767862593,\n",
       " 0.3131393767862593,\n",
       " 0.3131393767862593,\n",
       " 0.3131393767862593,\n",
       " 0.3131393767862593,\n",
       " 0.3131393767862593,\n",
       " 0.3131393767862593,\n",
       " 0.3131393767862593,\n",
       " 0.3131393767862593,\n",
       " 0.3131393767862593,\n",
       " 0.3131393767862593,\n",
       " 0.3131393767862593,\n",
       " 0.3131393767862593,\n",
       " 0.3131393767862593,\n",
       " 0.3131393767862593,\n",
       " 0.3131393767862593,\n",
       " 0.3131393767862593,\n",
       " 0.3131393767862593,\n",
       " 0.3131393767862593,\n",
       " 0.3131393767862593,\n",
       " 0.3131393767862593,\n",
       " 0.3131393767862593,\n",
       " 0.3131393767862593,\n",
       " 0.3131393767862593,\n",
       " 0.3131393767862593,\n",
       " 0.3131393767862593,\n",
       " 0.3131393767862593,\n",
       " 0.3131393767862593,\n",
       " 0.3131393767862593,\n",
       " 0.3131393767862593,\n",
       " 0.3131393767862593,\n",
       " 0.3131393767862593,\n",
       " 0.3131393767862593,\n",
       " 0.3131393767862593,\n",
       " 0.3131393767862593,\n",
       " 0.3131393767862593,\n",
       " 0.3131393767862593,\n",
       " 0.3131393767862593,\n",
       " 0.3131393767862593,\n",
       " 0.3131393767862593,\n",
       " 0.3131393767862593,\n",
       " 0.3131393767862593,\n",
       " 0.3131393767862593,\n",
       " 0.3131393767862593,\n",
       " 0.3131393767862593,\n",
       " 0.3131393767862593,\n",
       " 0.3131393767862593,\n",
       " 0.3131393767862593,\n",
       " 0.3131393767862593,\n",
       " 0.3131393767862593,\n",
       " 0.3131393767862593,\n",
       " 0.3131393767862593,\n",
       " 0.3131393767862593,\n",
       " 0.3131393767862593,\n",
       " 0.3131393767862593,\n",
       " 0.3131393767862593,\n",
       " 0.3131393767862593,\n",
       " 0.3131393767862593,\n",
       " 0.3131393767862593,\n",
       " 0.3131393767862593,\n",
       " 0.3131393767862593,\n",
       " 0.3131393767862593,\n",
       " 0.3131393767862593,\n",
       " 0.3131393767862593,\n",
       " 0.3131393767862593,\n",
       " 0.3131393767862593,\n",
       " 0.3131393767862593,\n",
       " 0.3131393767862593,\n",
       " 0.3131393767862593,\n",
       " 0.3131393767862593,\n",
       " 0.3131393767862593,\n",
       " 0.3131393767862593,\n",
       " 0.3131393767862593,\n",
       " 0.3131393767862593,\n",
       " 0.3131393767862593,\n",
       " 0.3131393767862593,\n",
       " 0.3131393767862593,\n",
       " 0.3131393767862593,\n",
       " 0.3131393767862593,\n",
       " 0.3131393767862593,\n",
       " 0.3131393767862593,\n",
       " 0.3131393767862593,\n",
       " 0.3131393767862593,\n",
       " 0.3131393767862593,\n",
       " 0.3131393767862593,\n",
       " 0.3131393767862593,\n",
       " 0.3131393767862593,\n",
       " 0.3131393767862593,\n",
       " 0.3131393767862593,\n",
       " 0.3131393767862593,\n",
       " 0.3131393767862593,\n",
       " 0.3131393767862593,\n",
       " 0.3131393767862593,\n",
       " 0.3131393767862593,\n",
       " 0.3131393767862593,\n",
       " 0.3131393767862593,\n",
       " 0.3131393767862593,\n",
       " 0.3131393767862593,\n",
       " 0.3131393767862593,\n",
       " 0.3131393767862593,\n",
       " 0.3131393767862593,\n",
       " 0.3131393767862593,\n",
       " 0.3131393767862593,\n",
       " 0.3131393767862593,\n",
       " 0.3131393767862593,\n",
       " 0.3131393767862593,\n",
       " 0.3131393767862593,\n",
       " 0.3131393767862593,\n",
       " 0.3131393767862593,\n",
       " 0.3131393767862593,\n",
       " 0.3131393767862593,\n",
       " 0.3131393767862593,\n",
       " 0.3131393767862593,\n",
       " 0.3131393767862593,\n",
       " 0.3131393767862593,\n",
       " 0.3131393767862593,\n",
       " 0.3131393767862593,\n",
       " 0.3131393767862593,\n",
       " 0.3131393767862593,\n",
       " 0.3131393767862593,\n",
       " 0.3131393767862593,\n",
       " 0.3131393767862593,\n",
       " 0.3131393767862593,\n",
       " 0.3131393767862593,\n",
       " 0.3131393767862593,\n",
       " 0.3131393767862593,\n",
       " 0.3131393767862593,\n",
       " 0.3131393767862593,\n",
       " 0.3131393767862593,\n",
       " 0.3131393767862593,\n",
       " 0.3131393767862593,\n",
       " 0.3131393767862593,\n",
       " 0.3131393767862593,\n",
       " 0.3131393767862593,\n",
       " 0.3131393767862593,\n",
       " 0.3131393767862593,\n",
       " 0.3131393767862593,\n",
       " 0.3131393767862593,\n",
       " 0.3131393767862593,\n",
       " 0.3131393767862593,\n",
       " 0.3131393767862593,\n",
       " 0.3131393767862593,\n",
       " 0.3131393767862593,\n",
       " 0.3131393767862593,\n",
       " 0.3131393767862593,\n",
       " 0.3131393767862593,\n",
       " 0.3131393767862593,\n",
       " 0.3131393767862593,\n",
       " 0.3131393767862593,\n",
       " 0.3131393767862593,\n",
       " 0.3131393767862593,\n",
       " 0.3131393767862593,\n",
       " 0.3131393767862593,\n",
       " 0.3131393767862593,\n",
       " 0.3131393767862593,\n",
       " 0.3131393767862593,\n",
       " 0.3131393767862593,\n",
       " 0.3131393767862593,\n",
       " 0.3131393767862593,\n",
       " 0.3131393767862593,\n",
       " 0.3131393767862593,\n",
       " 0.3131393767862593,\n",
       " 0.3131393767862593,\n",
       " 0.3131393767862593,\n",
       " 0.3131393767862593,\n",
       " 0.3131393767862593,\n",
       " 0.3131393767862593,\n",
       " 0.3131393767862593,\n",
       " 0.3131393767862593,\n",
       " 0.3131393767862593,\n",
       " 0.3131393767862593,\n",
       " 0.3131393767862593,\n",
       " 0.3131393767862593,\n",
       " 0.3131393767862593,\n",
       " 0.3131393767862593,\n",
       " 0.3131393767862593,\n",
       " 0.3131393767862593,\n",
       " 0.3131393767862593,\n",
       " 0.3131393767862593,\n",
       " 0.3131393767862593,\n",
       " 0.3131393767862593,\n",
       " 0.3131393767862593,\n",
       " 0.3131393767862593,\n",
       " 0.3131393767862593,\n",
       " 0.3131393767862593,\n",
       " 0.3131393767862593,\n",
       " 0.3131393767862593,\n",
       " 0.3131393767862593,\n",
       " 0.3131393767862593,\n",
       " 0.3131393767862593,\n",
       " 0.3131393767862593,\n",
       " 0.3131393767862593,\n",
       " 0.3131393767862593,\n",
       " 0.3131393767862593,\n",
       " 0.3131393767862593,\n",
       " 0.3131393767862593,\n",
       " 0.3131393767862593,\n",
       " 0.3131393767862593,\n",
       " 0.3131393767862593,\n",
       " 0.3131393767862593,\n",
       " 0.3131393767862593,\n",
       " 0.3131393767862593,\n",
       " 0.3131393767862593,\n",
       " 0.3131393767862593,\n",
       " 0.3131393767862593,\n",
       " 0.3131393767862593,\n",
       " 0.3131393767862593,\n",
       " 0.3131393767862593,\n",
       " 0.3131393767862593,\n",
       " 0.3131393767862593,\n",
       " 0.3131393767862593,\n",
       " 0.3131393767862593,\n",
       " 0.3131393767862593,\n",
       " 0.3131393767862593,\n",
       " 0.3131393767862593,\n",
       " 0.3131393767862593,\n",
       " 0.3131393767862593,\n",
       " 0.3131393767862593,\n",
       " 0.3131393767862593,\n",
       " 0.3131393767862593,\n",
       " 0.3131393767862593,\n",
       " 0.3131393767862593,\n",
       " 0.3131393767862593,\n",
       " 0.3131393767862593,\n",
       " 0.3131393767862593,\n",
       " 0.3131393767862593,\n",
       " 0.3131393767862593,\n",
       " 0.3131393767862593,\n",
       " 0.3131393767862593,\n",
       " 0.3131393767862593,\n",
       " 0.3131393767862593,\n",
       " 0.3131393767862593,\n",
       " 0.3131393767862593,\n",
       " 0.3131393767862593,\n",
       " 0.3131393767862593,\n",
       " 0.3131393767862593,\n",
       " 0.3131393767862593,\n",
       " 0.3131393767862593,\n",
       " 0.3131393767862593,\n",
       " 0.3131393767862593,\n",
       " 0.3131393767862593,\n",
       " 0.3131393767862593,\n",
       " 0.3131393767862593,\n",
       " 0.3131393767862593,\n",
       " 0.3131393767862593,\n",
       " 0.3131393767862593,\n",
       " 0.3131393767862593,\n",
       " 0.3131393767862593,\n",
       " 0.3131393767862593,\n",
       " 0.3131393767862593,\n",
       " 0.3131393767862593,\n",
       " 0.3131393767862593,\n",
       " 0.3131393767862593,\n",
       " 0.3131393767862593,\n",
       " 0.3131393767862593,\n",
       " 0.3131393767862593,\n",
       " ...]"
      ]
     },
     "execution_count": 47,
     "metadata": {},
     "output_type": "execute_result"
    }
   ],
   "source": [
    "y_pred2 = [y_pred] * len(y_train)\n",
    "y_pred2"
   ]
  },
  {
   "cell_type": "code",
   "execution_count": 48,
   "id": "510642ee",
   "metadata": {},
   "outputs": [],
   "source": [
    "from sklearn.metrics import mean_absolute_error, mean_squared_error"
   ]
  },
  {
   "cell_type": "code",
   "execution_count": 49,
   "id": "1a5db45f",
   "metadata": {},
   "outputs": [
    {
     "data": {
      "text/plain": [
       "0.6776630275347485"
      ]
     },
     "execution_count": 49,
     "metadata": {},
     "output_type": "execute_result"
    }
   ],
   "source": [
    "# Error for training data baseline guess.\n",
    "mean_abs_err = mean_absolute_error(y_train, y_pred2)\n",
    "mean_abs_err"
   ]
  },
  {
   "cell_type": "markdown",
   "id": "af5cb9cd",
   "metadata": {},
   "source": [
    "So MAE is 0.6799 so the models we work with want to have a lower MAE"
   ]
  },
  {
   "cell_type": "code",
   "execution_count": 50,
   "id": "509b00a9",
   "metadata": {},
   "outputs": [
    {
     "data": {
      "text/plain": [
       "0.8305670576052493"
      ]
     },
     "execution_count": 50,
     "metadata": {},
     "output_type": "execute_result"
    }
   ],
   "source": [
    "# Mean squared error for training data baseline guess.\n",
    "mean_sqrd = mean_squared_error(y_train, y_pred2)\n",
    "mean_sqrd"
   ]
  },
  {
   "cell_type": "markdown",
   "id": "86ba4d79",
   "metadata": {},
   "source": [
    "So our mean squared error is 0.8305."
   ]
  },
  {
   "cell_type": "markdown",
   "id": "53861eaf",
   "metadata": {},
   "source": [
    "Now want to obtian metric for test data set.\n"
   ]
  },
  {
   "cell_type": "code",
   "execution_count": 51,
   "id": "fc91060f",
   "metadata": {},
   "outputs": [
    {
     "name": "stdout",
     "output_type": "stream",
     "text": [
      "mae: 0.6262174485080225 \n",
      "MSE: 0.636238215035512\n"
     ]
    }
   ],
   "source": [
    "# Prediction for y_test\n",
    "y_pred3 = [y_pred] * len(y_test)\n",
    "y_pred3\n",
    "# Mean absolute error for test data\n",
    "mae = mean_absolute_error(y_test, y_pred3)\n",
    "# Mean squared error for test data\n",
    "mse = mean_squared_error(y_test, y_pred3)\n",
    "print(f'mae: {mae} \\nMSE: {mse}')"
   ]
  },
  {
   "cell_type": "markdown",
   "id": "168b8d6f",
   "metadata": {},
   "source": [
    "Notice MAE for test data is slightly lower than MAE for training data.\n",
    "i.e. 0.626 < 0.678"
   ]
  },
  {
   "cell_type": "code",
   "execution_count": 52,
   "id": "44c92edd",
   "metadata": {},
   "outputs": [
    {
     "name": "stdout",
     "output_type": "stream",
     "text": [
      "Test Set R2: -0.0013748157235968783\n"
     ]
    }
   ],
   "source": [
    "y_test_r2 = r2_score(y_test, y_pred3)\n",
    "print(f'Test Set R2: {y_test_r2}')"
   ]
  },
  {
   "cell_type": "code",
   "execution_count": 53,
   "id": "a0c98e16",
   "metadata": {},
   "outputs": [
    {
     "data": {
      "text/plain": [
       "<matplotlib.collections.PathCollection at 0x1c3afb30490>"
      ]
     },
     "execution_count": 53,
     "metadata": {},
     "output_type": "execute_result"
    },
    {
     "data": {
      "image/png": "[encoded data removed]",
      "text/plain": [
       "<Figure size 432x288 with 1 Axes>"
      ]
     },
     "metadata": {
      "needs_background": "light"
     },
     "output_type": "display_data"
    }
   ],
   "source": [
    "plt.scatter(X, y, c = 'crimson')"
   ]
  },
  {
   "cell_type": "code",
   "execution_count": 54,
   "id": "4f04c5f8",
   "metadata": {},
   "outputs": [],
   "source": [
    "list2 = list(x_train)\n",
    "list3 = list(x_test)"
   ]
  },
  {
   "cell_type": "code",
   "execution_count": 55,
   "id": "b3c41eb4",
   "metadata": {},
   "outputs": [
    {
     "data": {
      "text/plain": [
       "list"
      ]
     },
     "execution_count": 55,
     "metadata": {},
     "output_type": "execute_result"
    }
   ],
   "source": [
    "type(list2)"
   ]
  },
  {
   "cell_type": "code",
   "execution_count": 56,
   "id": "074c6443",
   "metadata": {},
   "outputs": [
    {
     "name": "stdout",
     "output_type": "stream",
     "text": [
      "[21.47558611058397, -0.004526601688726705, 13.871504858340563, -0.03860231259242797, -0.035522147120709155, -0.04003251551781092, 1.106075747554689, -0.000394597314875748, 4.00919348078798, 3.1303687111817546, -0.03563467164447663, 2.096750942383524, -0.03485329256318757, 28.9483429796419, -0.0337952364751427, 0.4464578380945622, 1.2553760919366554, 0.2903236324643962, -0.03780412299142664, 0.2610657582880853, 0.12876917520123277, -0.039753835689378486, 0.07459512080981905, 5.092744475132018, -0.03618430438435441, -0.031388899409542106, 0.052050269475886646, -0.008200930600531174, -0.03458839580300254, -0.009584417997422497, 0.026347141626181857, -0.0215095058755303, -0.039828718800066644, -0.039019058039160684, -0.030071161587388227, -0.022433819813608754, 0.4629108359119059, -0.025774906861426885, 0.7173455866805718, 11.643983666742058, 3.8444138364868126, 2.9468141740753637, 0.09214914625044796, -0.030314411295634634, 0.1398678332432996, -0.03733170399553937, 0.1922328068731887, -0.03636831406281165, 0.8484203037383184, 0.030390734230881403, 2.646016423387415, 13.636319366019805, -0.03743178091517666, -0.0365645032039779, 0.6783035466246876, 3.7770039819999712, -0.001764570284273092, 0.13921870131120406, -0.035100618320635275, 0.009537121246185514, -0.033830709038570446, 0.0015565684399394836, -0.026947863296110694, -0.03590719969952182, -0.03914330463729117, 0.3400451411338902, 62.37114749872865, -0.022934455326253583, -0.035904565322408474, 0.14743271691348953, 0.5181120167527969, 1.4655949714845082, -0.022410031624958734, 6.770500853471175, -0.03464574660920318, -0.03538535504932641, -0.016478164163018897, -0.03059355799972592, -0.033759329492652715, -0.03253192586883375, 6.5607813061787805, -0.024536360638327377, -0.03230220057472643, -0.0023419931111622718, 0.03328468422390448, 1.950746190887581, -0.03515185979669038, -0.03887949442409402, -0.03615178012822902, -0.0364366666565968, 1.6353679383402564, 0.6034478992105833, -0.03349186966000042, 0.06505787473056968, 2.7408895519244503, -0.01936011520194332, 1.2413947887838293, -0.037753007097433774, -0.037835595903488166, -0.028495568588515794, 1.682055504225587, -0.006376597735263572, 0.22001066024432178, -0.02478802659173953, 1.2378994629956226, -0.026982791587379987, 0.954528408023161, 4.024173448451722, 0.12506263186896743, 4468.978301916305, 1.7899112714045327, -0.0387541058530953, -0.025728518894894827, -0.03131125324381837, 10.485532834079306, -0.03790863073583274, -0.03388623478537738, -0.035726998178510834, -0.03643328692622574, 0.018467840918036334, -0.03200541071438692, -0.009836970265588085, -0.024255189141940213, -0.03518057889136305, -0.037383483002767476, 25.145927854328605, -0.04284106771117654, 0.43205659651489553, -0.03793015195604298, -0.026305971681719328, 4.548472316682709, 5.180302386126593, -0.04186928300457007, -0.039753344596105245, 14.535117425844353, -0.04048692260057931, -0.019569605056398202, -0.03186231382428063, -0.031980857798387656, -0.03341277043741331, -0.02916936753403093, 79.84777643976153, -0.0024957874458433576, 8.86270300384054, 2.7583661808654836, 1.8972676563947948, 0.04176152835217286, -0.03649424965229622, -0.03441619308539173, 0.1072030150879982, 0.3072481771938431, -0.03109985044749283, 2.434549213200917, -0.03488796993999849, 1.0851037928254494, 0.040890193566398496, 0.006198910352158821, 6.5002372702044875, -0.0434658791664377, -0.0066112838953288735, 1.5188137783046178, -0.037071949608587174, -0.035606901281089336, 4.466082494532125, 0.2607551736251904, -0.03993005253899092, 1.7871649439995132, 0.5957082492509829, 0.5123946624278019, 0.05888363139183049, 4.810621750798202, -0.041609132147807044, 3.182798598004853, 1.5886803724549254, 0.7635338203104445, 0.0017518822516619159, 9.941260675629998, 2.755345220719962, -0.026622922830871348, -0.014417844377160531, 0.0015426190940510047, 0.7625351557995284, 25.807137385353002, -0.025515029389073726, -0.04025911748866035, 1.1580063021223295, -0.03678543276040533, -0.03537973256812996, -0.009914366765184085, 0.6057198609729176, -0.024758366255765323, -0.035543768207370485, -0.037221349819420234, -0.03757617532014875, -0.007512915665703144, 0.4224050033491463, 2.7651071663141678, 1.439879360328417, -0.03446148801361659, 0.0038638829259601917, 0.651933061215563, 2.0692876683333297, 0.07811116888662714, 0.16505415220860525, -0.03847676073978171, -0.010760110772866214, 0.2501720761368841, -0.03481431743365391, 2.670983036160319, 1.268146514369996, -0.03984540156562134, 0.10621783254797941, -0.028410382505734643, -0.01024991804085192, 2.4235167915825366, 0.21826050068894123, 0.08329348869989885, -0.038400183394750785, -0.034167184078910874, -0.03877924148983668, 0.07405584197392434, -0.022767650889656533, -0.03699313001206312, -0.029896644964105625, -0.03475664580647914, -0.010704560059446503, 0.5569550729048811, -0.04120526348127807, -0.037033529736521596, -0.02763833993895813, 2.8981792123937464, 0.02125245462374304, -0.03649621951804401, 0.015148582179765556, 0.805827262347744, 10.190926803359039, -0.02973561031172039, -0.01140786954125921, -0.038142353184645005, -0.04034617107407691, 9.037469293250869, -0.025472830820164966, -0.02230816784484528, 0.43971685264587806, 2.095502611744879, -0.037565722798045244, 1.9481995963847447, -0.041922430232111355, -0.03699526765344874, 9.084905857519386, -0.036318307435424295, -0.039229414484744915, -0.03916278783290076, 3.1792148904074304, -0.01247843789696134, -0.03744499624264961, 1.0856505616451761, 0.0547666369455786, 0.8539129585483574, 1.0244349237872925, 2.923395491294379, 7.736708767782564, 0.7325752454386562, 3.125375388627174, -0.027407473670647085, -0.03305649437648269, 2.978496805684179, 1.4900622520019542, -0.032383818928542335, 5.276998077396051, -0.04133694613535684, 1.0474042075383643, 0.04369644084207292, -0.038422105079429905, 1.0234362592763764, 0.8531639351985575, 1.3991837815085832, -0.01734692738767764, 1.2738513853886044, 0.33715400737478785, -0.03401039375069704, -0.03964609349532104, 0.1200493360241683, -0.034886621992574876, 0.8512914642072024, -0.02169183804727533, 1.6443559189385015, -0.04027177056801366, 2.3414237475579847, -0.03670985882354175, -0.03577385356996722, 0.09394424570881975, -0.04031110296977609, 0.36391821626734117, 0.6531813918542083, 0.017686223655261415, 0.1586871166860337, 3.063857654754738, -0.019961655776771118, 0.6424457483618595, -0.028946415681968894, -0.03537587272979526, -0.03700753574763308, 0.7116706755972907, 10.418122979592464, -0.03561237645927043, -0.02582450303770026, -0.03559070543938355, -0.03277504575069374, 0.038506730911420435, 1.3981851169976671, -0.01397039274304454, -0.02989652262770304, 0.0016781059109179832, -0.02320181878778057, 16.68224612431411, 0.08688413701567238, 2.2190873449707547, 3.1403553562909163, -0.016945136941995894, -0.0029808887320208807, -0.03832377057969803, -0.036858624882410373, -0.03436928880930753, 4.136523205929791, 3.6536689149018247, 0.9010998566891462, -0.03856222644862591, -0.043406947973648545, -0.033857098748271405, -0.039575574573512205, 1.7846682827222229, -0.02137054670215887, -0.041544119063179785, 0.06585795480349017, -0.03626887354213394, 0.08384275418090274, 0.09196419358302627, 0.03987654908781859, 2.1833850887055015, -0.03354433474974753, 1.051398840615416, -0.03670110053578101, -0.023404302012026864, 0.031010155893777158, -0.01996780006017453, -0.03559050390888524, 0.05705113194752489, -0.040126063668208097, -0.03379897148041353, -0.02757444788021099, 12.437921952920409, -0.029874449645350513, -0.005889748786191941, 6.745534240698271, 0.5179122838506137, 0.016375326685007314, -0.03425621502005905, -0.019134084966526386, -0.02106573931345959, -0.022197540783648544, -0.00666371378215197, -0.03671666222552236, -0.029181601174289654, 0.13308690121417882, 0.3967992452892559, 1.3453557643702019, 6.383268689363432, -0.03604818366518913, -0.01745678048387842, 1.4683412988895275, -0.018259746697235454, 0.827698015136808, 1.556153869334386, -0.009243588779814474, -0.0422906979568897, -0.022538509814288097, -0.03611427952684574, 5.202597571332796, 5.152664345786988, 0.29603399613781484, -0.020720817643585673, 0.9024230871661101, -0.04100972397137618, 0.8350631659048147, 0.04984322090676192, -0.03366560482830323, -0.015648948052992433, -0.03576285822376881, -0.03865830321756473, 0.18980105878910783, -0.03808844028102319, -0.01580349138605671, 0.027043710122545882, -0.04027751288895143, 0.03872309157771043, 0.1041095518989843, 0.32348978020417757, 0.02329542261372423, 0.9163294904806176, -0.03995469458579778, -0.014273462455494828, 0.017533927317346702, 6.670634402379559, 2.6291197189278708, 0.07784277779931842, -0.033593170692661975, -0.037288934440196486, -0.03826752579444324, 1.2309337780319825, -0.025017396361280968, 0.09801130692952584, -0.03211842383476636, -0.02697283065788198, 0.6007515050311096, 1.068800594684743, -0.02491232037676816, -0.03736151238352732, -0.0365266513223529, 39.90119600311494, -0.033437834419976026, 0.39168108967081056, 0.8439512800519685, -0.038634984401234834, 0.02069719715567365, -0.04136685913345232, -0.01658462179988256, 2.356403715221727, -0.032690658599521326, -0.0062405296956512465, 0.5000611557179873, -0.04100176012123388, 0.9979703142480141, 0.9190757929190243, -5.2554719886960426e-05, 34.912866771088694, 0.12074815151568187, 0.9038461840941655, -0.03202162827704581, 1.2626164096407977, -0.031063334778983435, 19.091524256899355, -0.014281027339165015, 0.25621224876503274, 2.360398373265392, -0.03645807053372701, -0.025875522310901688, 0.024834164892143865, 5.377363860743126, 2.8757092608981325, 0.325619457240319, 2.3179551315514546, 2.132203532521048, -0.029395814711881168, 3.247711791214404, -0.039092983430582866, -0.03482159644960785, 1.760201002204777, 1.7297417346218338, -0.03795027204994441, -0.03695324634749066, 4.668312057992648, 4.228150674806349, -0.028312862916243683, 5.459753682893709, -0.03700458294634043, 1.3405122414922586, 1.191461563238021, -0.03819596673857967, 1.6654527067316056, -0.023197620901508936, 18.584845575632844, -0.022827048958104553, -0.02238606367669674, -0.03459266010046415, -0.03146002429600955, 0.10522192684777465, -0.03179375800226752, -0.03711885937732619, 14.185584847023696, -0.03433321205385068, 2.9780723732670396, -0.040448177163883166, 0.5585154862031877, 0.05194865536190093, -0.043017586157471276, 2.386363650549212, 0.4984678863572717, -0.03359170365449544, -0.0398799445471557, -0.037541324175712924, 6.265750843041372, 0.08355563813401436, 0.2580597781102277, -0.03452560477187869, -0.03616115009800269, -0.03850963877281009, -0.02028143813981158, -0.04053681038688987, 0.004175019350997395, 2.1404425147361064, 2.2872461978407825, 0.06734980978312229, 3.809460578604747, 0.9348047839325667, 2.2675225737501883, 0.08881860010654254, 5.2554719886969296e-05, 1.0374175873958154, -0.03184038315162092, 3.5872577249259, 19.6782396570626, 4.0341600935608835, 3.1628253077865303, 0.4140511747153326, -0.012010788273112073, -0.041438699238475867, -0.003340657622078433, 9.253929825991946, 0.4235634541818091, -0.011718204538026408, -0.02276455752633397, 2.6622447216898024, -0.0315242369260647, -0.030760272556516987, 2.5920885397979423, -0.03946941354000829, -0.03616266557139801, 13.36168662551786, -0.03137463897965848, 0.028369811759978675, 0.056353914319228766, -0.021403752297146833, 0.001700148933335177, -0.032606521114476636, -0.017500586902649756, -0.031003689541068965, 0.0779737526499251, 7.153738359535253, -0.036584330214811986, -0.04426947953175917, -0.0075749951483629705, -0.0406342782954924, 1.5100355422202776, 42.397857280405354, -0.030799845636426546, 28.944092413817316, -0.03778447202017921, 4.825601718461944, 0.6541051565268058, -0.036255808513669885, -0.04233843187351634, 0.2731396122250617, 2.051811039392297, 0.4527119745941746, -0.03724823361838797, -0.0017477877271671462, 9.46689503294482, 0.19440739884570862, 0.41859509824000113, -0.037113379205822535, 6.337330121861289, 0.4905738428642836, 0.044670138740216185, -0.03315172103225659, 6.775494176025756, 41.174493254533054, 6.830420724126145, -0.031213836017439777, 1.1140650636420182, -0.03304398111016091, -0.04064060408617067, 0.2594579084255103, 0.08466715173466405, 3.4574313385067987, 10.877508654613901, 1.0933427750405078, 1.5065901496576168, -0.03744235901934241, 0.9330571210384634, 2.933881468658999, 0.11000776436690626, 0.20812655256441945, 2.040518640435112, 2.352434023790835, -0.04341497094472989, -0.01612356336180534, 1.1337886877326124, 1.4452828843308567, 0.24889703122257187, 0.0161497333653139, 10.190926803359039, -0.031095566676073258, 2.2553838066200025, 2.1332021970319643, -0.015551827929305836, 0.6105100052327525, -0.03790860576921997, 0.057927410122628274, 0.22237000515136124, 0.07118168551150761, 0.5599593054198447, 0.27966588480389887, -0.03382636484794796, 0.14317091611315477, 0.17127583211161296, -0.021354867669337488, -0.03858344582248773, 0.7785137879741869, 4.7388427390761025, -0.04197236051159686, -0.03272728462045917, -0.037364608243511156, 0.7822587798901225, -0.021027056043629255, 13.895972138858008, -0.0074625605044014755, 0.1127291251591528, -0.04168656984231412, -0.03668465732487588, -0.018258233720501414, 0.07887439823909483, 2.5404076513580307, -0.03598450207498767, 0.059395372053836715, -0.025924703242471425, -0.01826195374580458, -0.02603905362456421, 1.9801568607340618, 0.6141086178980005, -0.020475194034896983, 0.054482017559967504, 0.10149414941134595, 0.282821664658394, -0.04325330436240876, -0.01485881967192323, -0.039898270040931015, -0.035186820544556276, 6.478391484028196, -0.01635725085735972, -0.030690583250283975, 1.732562961865172, 0.06908748603211641, 2.1591674743157845, -0.03985000957844099, -0.008286843211744015, 0.0969527225479547, 1.0586142166733983, -0.03123353217825632, -0.03582296609301796, 0.9125845235312948, 0.07797560017927027, 4.323348369309432, -0.024795441675733082, -0.03645270520864211, -0.023213357357539693, -0.03814486482588996, -0.0045465450190097035, -0.03767567675936163, -0.04001965771223288, -0.03350993799766418, 0.015658934698101597, 0.0005246234341970329, 2.016608115382502, -0.03358336480582928, 0.0059102214086657326, 5.377363860743126, 1.1320410498051219, 1.0244349237872925, -0.0403390056562111, 3.3558172245210787, 7.619365687749915, -0.038533843654227296, -0.02075287270215722, -0.03820431033090224, 5.362383893079382, 0.04698878806843579, 2.8082994064112916, -0.02898339622880812, 0.15700965990704782, 0.42473688498213563, 0.308217703170992, -0.03658212329107593, 2.451276843758763, 0.008918608367994697, 0.06546458085264029, 8.637424263468072, -0.022790397970553926, -0.01885351266884577, -0.03663065224451971, -0.02822767683346253, -0.027089031016048017, -0.03585062185965263, -0.03170913866159631, 12.87234101516894, -0.037836527158144596, -0.026893875492650567, 1.8670581048728063, -0.03823364010892334, 0.00034191776192492773, -0.03018451000937721, -0.03757240036829748, 9.938764014352707, 0.050368768105631546, 11.28945776536682, 12.15080590603201, -0.00880435116130077, -0.0376318983031966, 14.357854475156735, 0.5478222859525528, -0.00602479319468058, 2.4555211928967693, 0.049263995490430534, -0.03202280170784614, -0.03571536373695866, -0.03575755731254487, 4.603398864783098, 0.08142196893649047, -0.03491431246280131, -0.02872371349603459, 0.2690450877303055, -0.02667632641559259, -0.0359083052211354, 0.0032555214725228333, -0.022191174297391456, -0.037252270969339474, -0.034241512181797086, -0.03586134352184183, 1.2853360272641405, -0.03389297577082607, -0.04435580908540532, 1.4239007281537583, 2.0573036942023357, -0.027057164630169193, 9.087402518796678, 1.29182729665187, -0.03289169600722194, -0.03627984387178636, 1.3312746446995096, -0.013625154421620824, -0.00020617428827864243, 0.35425613712422727, -0.03868257451017191, -0.02561191232993898, 1.6104013255673522, -0.03580993726614242, 10.747682268194799, 0.24594597759281459, 0.19415673405346864, 0.03931205397302324, 0.00022956800444685495, 0.49691536250860135, -0.037351378859835214, 0.8339396683300341, -0.038033200152266376, -0.03181233815549311, -0.037731440937320546, -0.027202672546070953, -0.03627637426160931, -0.03533570394650494, 7.24217010197688, 0.288444145854852, 2.373381011907302, 0.2564069883446614, -0.03667665322855379, 2.5930873291419223, 0.9008501905614171, -0.03663432233659732, 7.232475241671194, 0.7106045762652748, 0.5040757870518702, -0.041675116908036804, -0.03458687533628467, 0.023503968730216308, -0.03700317507904617, 0.01548416840869127, -0.034618081105589525, -0.03140313037882266, -0.03341348872686278, -0.03736251154737049, -0.03910101369191515, 0.4339745317081101, 1.5749487354298282, -0.03463630673291374, -0.03944847154521438, 0.07881947169099443, -0.0383337122849042, 2.573613246345993, 0.00898276257617595, 2.441290198649601, 0.1305303200662334, -0.03138227826383473, 1.4267469220098694, 1.2694073283150278, 14.991937781403374, 4.281329560012635, -0.027757880080914794, 2.8432526642933573, 0.3281410601637696, 1.3956884557203768, 1.258621751597133, 0.8614029673468414, -0.0286842662478534, -0.031004438539452155, 0.0856931022566797, -0.03877502712560062, -0.0372047969551518, -0.037416239198725526, -0.008863272367444823, 2.883199244730004, 97.3244053807944, 0.04954112489220978, -0.0026640624159327293, 0.04247144399972527, -0.036408686573662204, 0.23283526022737946, -0.036396190034970986, -0.03355782820528677, -0.03209714479070002, -0.03727845021049476, 0.029735360645592672, -0.026334907985923126, -0.018681982052450807, 0.23349263114169003, 0.05317127038939004, 0.008049860123303613, -0.042201377552833035, -0.03866454487075796, 0.21062321384170987, 0.0009785663876339802, -0.012049012157267388, -0.03502816595936669, -0.039696252194346804, -0.037459152811424104, 2.0812716424643236, -0.042344713473290004, 0.03341019637963642, -0.012327140223557539, 0.02741321599158486, -0.041988902939821146, 1.0381665608123898, 0.8386833247568859, -0.035259825416965526, 10.615359220498407, 0.05665411287121015, -0.03282217522562515, -0.008526497727751119, 22.468907766366733, -0.021320114144357603, 0.4720441221964898, 0.9054690388910172, 5.604859636329827, -0.011080307581678708, 2.531919003015243, -0.0352828333989664, 0.9747513893358261, -0.04293527522981705, 0.8177613032531923, -0.0027189889640331236, 1.350998218856878, -0.03667687493207521, -0.027563145494608695, -0.01314254979672059, 13.688749252842905, 1.0051357321138374, -0.026009897614168012, 0.5133683603259452, -0.03687372731130977, -0.03129276047373748, 0.2656995616187363, 1.383654548363837, -0.03728511454844223, -0.03198297247048953, 2.750876197033612, -0.040877070116060545, 0.05409703239100931, -0.04224400814400922, 9.112369131569581, 0.45507631282376865, 2.640249135836874, 5.1808766182203705, 0.05583021464970432, -0.042366015236973975, 2.0543077006695873, 0.10049548490042978, 0.09242877231350446, -0.036881030919377285, 1.1980527490100676, -0.01474116201256964, -0.03615250316133493, 0.041848911496878013, -0.02123248133352471, 0.01566143135937889, 14.947066536597273, -0.033765421346169305, -0.03597577749215418, 8.573090295674852, -0.0370154826204787, 6.053959066888827, 0.35404641757693484, 1.3725693722926675, 0.3130861926617084, -0.03774492465588081, 6.186282114585219, -0.04296518098759481, 0.003215574892086191, -0.04145645681671044, 1.5914266998599451, -0.004721311308420032, 0.08245785617038975, 0.10441524310577574, -0.04421033013077437, 0.8596552794861253, -0.021946900958021362, 4.0341600935608835, -0.0310223645674231, -0.041537750105228026, 0.8521902872336398, -0.03624658335025029, 0.5696930387416169, -0.03713948903979431, 2.0342595106129453, 0.0425809076167668, -0.00933289435370315, 0.7686020427033439, 0.019029427422443658, -0.03385726602457698, -0.03597676417269097, 2.083019305358427, 0.02706867673531878, -0.02971261606135655, -0.01428821148199042, -0.044578101818890145, 1.2531290967870943, -0.01864841194491636, -0.041262086243618566, 1.207315362348815, 0.07160661726090244, 0.6328927733165631, 7.918965041024764, 2.4263102309858584, 0.3612467887006404, 0.630361907779774, -0.03189050362676252, 1.3986345160275793, -0.03378619356799636, 0.0009535997748610722, 0.025657691111119388, 2.0023771461019466, 117.29769559911769, -0.04204332284044854, 2.773346148529226, -0.025014873235394135, 9.067429228578353, -0.0397825497907286, -0.025605383560698865, -0.03380732031572479, -0.03999035789414711, -0.006681390143995186, 0.5257917468417423, -0.029436767446812565, -0.04206811835702411, 13.869882028510323, 0.2818030268572595, 4.454323219916087, -0.033248937027736236, 8.460740538196784, 1.464271741007544, -0.04201769129187766, -0.03877995678329262, -0.0328342191196268, -0.035764847563474554, 2.0368310717285545, 0.043135515952904074, 67.36447005330947, 0.24107336861099077, 0.16050773202265942, 0.018580028392531384, 0.009052406942505961, 0.06465091894237135, 0.24571628475530388, 0.3515622396060309, 0.09772419088263744, -0.03983185885095509, 2.625543800913633, 0.03685464770099565, 1.6438565866830437, -0.03589750266712083, 2.4243129019640266, -0.01847292162373562, 4.004449824361128, 0.26827718962124925, -0.03547026649936706, -0.03653659053089779, -0.036779792802579925, -0.04347317905447992, 1.577240670482381, 3.5048679027753162, 1.8982913374517094, 0.1437126916103268, 0.11274477922536141, -0.03758510462920697, -0.04112440286415983, -0.03238054830226908, 0.16809833130400545, 3.2277385009960806, -0.017222094323813122, 0.5211829101238642, 1.243441976131369, 1.032873638904534, -0.040751733225950264, -0.03706403768899944, -0.04346975797939811, -0.038581680682964685, 3.2327318235506617, -0.03770298174508684, -0.034929025787040636, -0.02197998171994546, -0.04161708226631231, -0.04239342458314058, 0.99122932879933, -0.005273073450701214, 7.0326502875866685, -0.007565258169381538, -0.04004696344695647, 1.8163759059104239, -0.03636458380119725, -0.030330165228294334, 25.47049382037636, -0.037385130799210485, -0.04086576123913893, 6.19626875969438, -0.021498875091811597, 25.270760918193123, 12.063422761326846, -0.031632765793124004, 3.334096271408652, 3.7795006432772618, -0.03240998393872834, -0.028478753574813238, 2.132203532521048, 0.1660493213937332, 0.058690140142840484, -0.005267605762503942, -0.04063500260189555, -0.04515797064979929, 0.5747862277472893, -0.039950642504544734, 0.6364537612963626, -0.04067014333407293, -0.02586565300887256, -0.019279792615330336, -0.008997914813467818, 1.6685735333282188, -0.029809518975512022, 2.708432955319675, 0.2881695380809628, 0.03380219716678379, 2.405837608512077, -0.039515729103363297, 1.0376672285569317, 1.3629821929878723, -0.02843179636950996, -0.038556639170353464, 0.03868489266016788, -0.03727078371271059, 0.8351879989686792, -0.018129705597946504, -0.041028810697174935, 0.32167470745558735, -0.03205004527570393, 2.471250133977086, -0.03270631266572994, -0.036511424185222706, -0.03862899241416934, -0.014795589228414573, 0.1878037297672755, -0.03564982138510723, 3.6371909504717084, 1.0956147368028422, -0.039254533393855734, 0.6260676503828344, 1.452861998970327, -0.03314716812075132, -0.027591178007430113, 0.47297238085938637, -0.038532784770246374, 0.08877540786644542, 0.029645231173482486, 0.4882020146508578, 0.022698396002485778, -0.03486100624786988, 0.4075099221688317, 0.08174785563635391, -0.030683842264835292, 2.19162407092056, 1.99888182031374, 5.881689438755789, -0.03511369333574444, 0.2999462643593289, -0.034812271419737174, -0.013240643867971458, -0.03749103917059314, -0.038453801692341874, -0.019696510349122877, -0.03994037525967462, -0.03465217750932122, -0.04188566384887649, -0.04096774460932756, 0.279041969150704, -0.04054645324174115, -0.03388512402077512, -0.03696406887479546, 2.5490211327646826, -0.044090576524278495, 1.5854845711201555, 1.7147617669580912, -0.03876885537892315, 0.9784963812517616, 1.2730274871670988, -0.04011722249129295, -0.03318349953565845, 11.064758250410682, -0.04037016398895168, -0.0345700538312628, -0.008560819330330031, 3.060462195417623, -0.03882653899007205, -0.03788783354739291, 1.5452384662300724, 1.7710914386963177, -0.038189055730498, -0.028721985806430705, 0.004249192660884416, 0.0026486080826263105, -0.03770385457786938, -0.035436686405187504, 18.271371027309456, 2.5005609373724753, 6.064195378125717, -0.037920431954358236, -0.012850440427277609, 0.0056273496859487225, 0.004287291711975872, 0.2617298701878446, 0.020627290639909524, 0.20705650850758556, 1.3577392043055625, -0.03405667186413289, 0.6177038351039115, -0.016900025019042655, -0.041060575568806226, -0.02990146401970305, 0.040790327115306876, -0.03772504538992619, -0.03343304307731878, -0.012213467235602508, 4.323772801726571, -0.0372346480360476, 0.09023498101576216, 0.1436927183201085, -0.03337523688010116, -0.037114350906391654, -0.02210297224778734, -0.0260515544075796, -0.02226035678138517, 5.921636019192435, -0.041318800650859626, 1.1507659844181874, -0.03605833009662004, -0.013533077553714353, 0.19247911748816104, 5.809730792254819e-05, -0.02993161819527791, -0.037120873433978574, -0.038677148016885717, 0.17656875401946864, -0.033015973563952264, 1.9017616966271431, -0.03878176311772674, 3.145348678845497, 0.2978565588702368, 0.43697052524085855, 5.642009956135909, -0.013062656635847296, -0.0008598551372213692, -0.027052448437016385, 0.21903945900745583, -0.03695139082882938, -0.041021549082950096, 0.7685271428650253, -0.03445385072676936, 3.089173800106463, -0.03403490072812879, -0.022941695643957725, -0.03206703295850042, -0.032447483791113244, 0.11440700637055581, 3.88935373947804, -0.036264591418510815, 0.04464267546616598, -0.03702343898063717, 1.4855682617028316, -0.004802175670530188, 0.0013331921554603052, 0.8309436747972856, 0.7912467854549808, 0.25239235701077845, 0.01752319167385435, 3.1004087758542695, -0.036156485710571395, -0.008691002739311787, -0.03288759524107399, 2.3589003764990175, 0.04386371714765138, 0.16761073335655063, -0.01248937327335587, -0.0353632398733983, -0.0415176687095764, 0.043122208748296136, 4.019180125897141, -0.03580681893620708, 2.1292075389883, -0.018183700891390465, 1.1527633134400195, 5.564613456539906, -0.03207285726979454, 0.16406322734764867, 0.07537120796786478, -0.03759834567229108, 1.396687120231293, -0.03620361081634557, -0.03322262471453487, -0.03190765568973751, -0.03412158505734244, -0.04018003449437154, -0.037082354444460286, -0.03530993091213947, 2.570706133954716, 1.627378622252927, 2.568869589919141, -0.028008911882362514, -0.02507359470863601, 12.592714952112415, -0.024600037484872415, -0.040002131150066296, 0.7295792269392948, -0.03518295071957648, -0.044580603473489994, 8.69617569664527, 0.39477694965465066, 0.21414350624268932, -0.03912300578244229, -0.03508101203962471, -0.03565461996808218, -0.0028335857166607525, 43.24048046149087, 0.02955035804494545, 1.2301598130360223, 4.268846253626182, 2.968085728157878, -0.03836218720610396, 3.3950148065745385, 1.5428167047911006, -0.038214642014599925, -0.035590521185781286, -0.006665461445046073, -0.04083801509336602, -0.03601671075312761, -0.034516442024991024, 0.2503450947634003, -0.04127662430223623, -0.03584219412984501, 0.34017496752030935, -0.009992549713082437, 2.5186866982456038, 5.287733720888399, 0.005651067968082988, -0.03842251852653743, 0.004548792014159268, 0.011236348911509363, -0.027947977118898328, 1.4624770410149768, -0.029410689819771265, 2.20984969824478, 0.09947272760818777, 0.11178039387378245, 5.61304868531934, 1.0057099642076144, -0.03914352933680612, 16.780422335721, -0.0391574607067334, -0.03526786965960096, -0.03530317444739087, 1.087850120230469, -0.026782498184740003, -0.03431106666832112, -0.036832719025664956, 0.034583627179962925, 0.004870861318929735, -0.03312858047754189, -0.03918224506323307, 0.2080266861133278, 0.0339704471702604, 1.4780782778709605, -0.013437155827440858, -0.040047195886121385, -0.03666731571537672, -0.03125189986560722, -0.020409289667160345, 3.965002576179939, 0.45891617786824135, 1.2673600660676494, -0.037763624648847714, -0.03779563933640641, 0.5480464112354153, -0.015888128203356857, -0.03720316488767484, -0.03609068682677373, 12.67287026241982, -0.004055951078022137, -0.01229293596405866, -0.04103276915363008, -0.02854694987760243, -0.032972901163596455, -0.0208032053935074, -0.037589829810340376, 0.01860644306884511, 0.02487161481130322, -0.03404417669860537, -0.02036376804209151, -0.041115001436454066, 4.339252101645772, 1.118059721685683, -0.03673223140524755, -0.01733044942324753, -0.006903056215499415, 1.7786762457235001, 7.906057302221173, -0.02364450579351498, 6.420968274650518, -0.04172153433517193, -0.006273485624511479, -0.039777656334625114, 0.06894018301675627, -0.034426962433811326, 3.8499064912968515, 0.011332220704557314, -0.020471324209917183, -0.0008989228928884066, 0.2314953021198577, -0.039740843064091466, 0.9395015780272437, -0.033955629984911924, 0.0429724090716587, -0.005310248737120062, 1.5707043862918217, 0.9687593773037163, 0.6364537612963626, 0.03927735038126889, 1.201647941249366, -0.040773524584910716, 0.5213576764132746, 0.12930945270163843, 4.382194725548393, -0.04303394620458926, -0.037653315162965446, -0.03523176294420878, 0.9050945147328108, -0.009712137201723562, 1.1577566359946003, 4.768178509084264, 11.53912389309586, 0.06032195795367751, -0.020628501520629, 1.1872172390666274, -0.023833702785108046, 5.6669765689088125, 0.4499531638827687, 0.07738888477910702, 1.5389968130368463, 0.006770246318853954, 0.6757062698979224, 0.046642750815403346, 10.455073566496363, -0.0033928378427738053, -0.037934019284361506, -0.042867711580995525, -0.03327712433355685, 0.12264087042999573, -0.026577568482108085, -0.03643210525644319, -0.03423526803194258, 3.8519038203186837, -0.03508700402669021, -0.03980194011053868, -0.03922392182993487, -0.033863789800494544, -0.03878355292426321, 5.258872316522922, -0.029296277820078154, -0.03966183122464906, 0.555070093640527, 4.218913028080374, -0.03950956484666967, 0.08144595935470395, 4.584424239075691]\n"
     ]
    }
   ],
   "source": [
    "print(list2)"
   ]
  },
  {
   "cell_type": "code",
   "execution_count": 57,
   "id": "7b4edb98",
   "metadata": {},
   "outputs": [
    {
     "data": {
      "text/plain": [
       "4.584424239075691"
      ]
     },
     "execution_count": 57,
     "metadata": {},
     "output_type": "execute_result"
    }
   ],
   "source": [
    "list2[-1]"
   ]
  },
  {
   "cell_type": "code",
   "execution_count": 58,
   "id": "f720f2cb",
   "metadata": {},
   "outputs": [
    {
     "name": "stdout",
     "output_type": "stream",
     "text": [
      "[array([ 2.14755861e+01, -4.52660169e-03,  1.38715049e+01, ...,\n",
      "       -3.95095648e-02,  8.14459594e-02,  4.58442424e+00]), array([ 2.14755861e+01, -4.52660169e-03,  1.38715049e+01, ...,\n",
      "       -3.95095648e-02,  8.14459594e-02,  4.58442424e+00])]\n",
      "2\n",
      "[0.8292682926829268, 1.121951219512195, -0.39512195121951216, 0.0, -0.08292682926829269, -0.4390243902439024, -0.034146341463414595, 0.10731707317073173, 0.0, 0.07317073170731707, -0.2341463414634146, -0.14634146341463414, 2.0926829268292684, -0.4390243902439024, -0.14634146341463414, -0.4390243902439024, 1.7819512195121947, -0.4390243902439024, -0.14634146341463414, -0.19512195121951215, -0.2439024390243902, 0.32195121951219513, 0.6829268292682927, 2.707317073170732, 0.7804878048780487, 2.878048780487805, -0.0926829268292683, -0.4390243902439024, -0.3756097560975609, 0.14634146341463414, -0.4390243902439024, 1.2229268292682927, 4.053658536585366, 0.8780487804878049, 0.7560975609756097, 0.0, 0.6341463414634146, -0.4390243902439024, 0.2926829268292683, 2.9756097560975605, -0.20975609756097557, 0.926829268292683, 4.1951219512195115, -0.4390243902439024, -0.4390243902439024, 1.170731707317073, 0.34146341463414637, 0.2439024390243903, 0.7756097560975609, -0.04878048780487802, 1.2097560975609756, 0.5365853658536586, -0.11707317073170728, 0.5365853658536586, -0.2390243902439024, 0.5853658536585366, -0.4390243902439024, 0.06341463414634145, 0.4390243902439024, 0.824390243902439, 0.12195121951219515, -0.17073170731707313, 0.5853658536585366, 0.12195121951219515, -0.4390243902439024, -0.4390243902439024, -0.28292682926829266, -0.019512195121951237, -0.38048780487804873, 0.14634146341463414, -0.19512195121951215, -0.20975609756097557, -0.19512195121951215, -0.15560975609756095, -0.4390243902439024, -0.0878048780487805, 0.5853658536585366, 3.6097560975609753, -0.4390243902439024, 0.2439024390243903, 0.14634146341463414, -0.4390243902439024, 0.14634146341463414, 3.6097560975609753, 0.09756097560975611, -0.4390243902439024, -0.09756097560975605, 3.170731707317073, 0.37560975609756103, 1.5609756097560972, 0.048780487804878085, 1.170731707317073, -0.4390243902439024, 3.765853658536585, 0.2439024390243903, 0.7268292682926828, 4.053658536585366, -0.19512195121951215, 0.9902439024390243, 0.39024390243902446, -0.4390243902439024, -0.2975609756097561, 0.624390243902439, 1.2195121951219512, 3.121951219512195, -0.4390243902439024, 1.0243902439024388, 0.6341463414634146, 1.2439024390243902, -0.4390243902439024, -0.4390243902439024, -0.4390243902439024, 0.6341463414634146, -0.2341463414634146, -0.4390243902439024, 0.09756097560975611, 0.5853658536585366, 0.12195121951219515, 2.0, 0.0, 0.1370731707317073, 0.7317073170731706, -0.1268292682926829, -0.34146341463414626, 0.17073170731707318, -0.3999999999999999, -0.14634146341463414, 0.6829268292682927, 1.3170731707317074, 0.39024390243902446, -0.19512195121951215, -0.1560975609756097, -0.43073170731707316, 1.9804878048780488, -0.4390243902439024, -0.019512195121951237, 0.039024390243902474, 0.8195121951219512, 0.7804878048780487, -0.4390243902439024, -0.20975609756097557, -0.42292682926829267, 0.6341463414634146, -0.4390243902439024, -0.4390243902439024, -0.4390243902439024, -0.009756097560975618, 0.048780487804878085, -0.14634146341463414, -0.019512195121951237, -0.28780487804878047, 0.2439024390243903, -0.09756097560975605, 0.926829268292683, 0.07317073170731707, 0.14634146341463414, -0.0878048780487805, 0.6829268292682927, -0.004878048780487809, -0.4390243902439024, -0.34634146341463407, 1.507317073170732, 0.5360975609756097, -0.4390243902439024, 1.073170731707317, 0.42439024390243896, 2.15609756097561, 0.6780487804878049, 0.28292682926829266, -0.4390243902439024, 0.048780487804878085, -0.4359024390243902, 1.2229268292682927, 0.8780487804878049, -0.05853658536585364, -0.08292682926829269, 0.6829268292682927, -0.19999999999999996, -0.4390243902439024, -0.28292682926829266, 0.175609756097561, -0.13658536585365852, 0.47804878048780486, 0.09756097560975611, 0.4878048780487805, -0.4390243902439024, -0.2926829268292683, -0.20975609756097557, 0.7560975609756097, 0.5853658536585366, 1.8048780487804876, 0.9902439024390243, -0.2975609756097561, 1.0243902439024388, -0.17560975609756094, -0.1317073170731707, -0.19512195121951215, 0.8292682926829268, -0.2439024390243902, -0.4390243902439024, -0.0878048780487805, 0.09756097560975611, 0.39024390243902446, 0.6829268292682927, -0.20975609756097557, 0.09756097560975611, 3.9658536585365853, -0.4390243902439024, 2.1463414634146343, 1.4585365853658538, 0.4585365853658536, -0.4390243902439024, -0.4390243902439024, -0.029268292682926786, -0.4390243902439024, 0.19512195121951223, 0.6341463414634146, 1.7560975609756095, 0.34146341463414637, -0.019512195121951237, 0.7804878048780487, 0.2633658536585366, 2.341463414634146, 0.5219512195121951, 2.788292682926829, -0.4390243902439024, -0.14634146341463414, 0.2926829268292683, -0.043902439024390214, 0.33170731707317075, 0.2975609756097561, -0.14634146341463414, 0.16097560975609757, 1.2682926829268293, 0.20975609756097566, 0.14634146341463414, 1.2195121951219512, 1.6243902439024387, -0.14634146341463414, -0.4390243902439024, -0.4390243902439024, -0.4390243902439024, 0.39024390243902446, -0.4390243902439024, 3.5565853658536586, -0.4390243902439024, 0.4585365853658536, -0.4390243902439024, 0.9756097560975608, 0.13658536585365852, -0.014634146341463426, 1.0243902439024388, 1.9365853658536585, -0.2536585365853658, 1.8926829268292682, 0.4878048780487805, 0.048780487804878085, 0.9951219512195121, -0.4390243902439024, -0.4390243902439024, 0.0, 0.048780487804878085, -0.4390243902439024, -0.4341463414634146, -0.4390243902439024, 1.3658536585365855, -0.1126341463414634, 1.0390243902439023, 0.6829268292682927, -0.4390243902439024, 3.6097560975609753, 0.2439024390243903, -0.14634146341463414, -0.4390243902439024, -0.4390243902439024, -0.33414634146341465, -0.4390243902439024, 0.4878048780487805, -0.4390243902439024, 2.1463414634146343, 0.19512195121951223, -0.4390243902439024, -0.2536585365853658, -0.4390243902439024, 0.07317073170731707, -0.3024390243902439, -0.029268292682926786, 0.17073170731707318, -0.2195121951219512, -0.4390243902439024, 0.8292682926829268, -0.4053658536585365, 0.4390243902439024, -0.4390243902439024, 1.5121951219512197, 0.024390243902439043, 0.7804878048780487, 0.0, 0.7804878048780487, 0.6829268292682927, -0.4390243902439024, 0.7609756097560975, 0.10243902439024392, 1.7560975609756095, -0.4390243902439024, 0.5853658536585366, -0.4390243902439024, 0.5804878048780487, 0.2926829268292683, 1.121951219512195, 0.048780487804878085, -0.4390243902439024, -0.13658536585365852, -0.4390243902439024, 0.14634146341463414, -0.4390243902439024, -0.4390243902439024, 0.0, 0.19512195121951223, -0.09756097560975605, -0.4390243902439024, 0.9951219512195121, 0.5365853658536586, -0.4390243902439024, 1.717073170731707, -0.3678048780487804, -0.1609756097560975, -0.04878048780487802, 1.6780487804878046, -0.4390243902439024, -0.4390243902439024, 0.14146341463414633, -0.4390243902439024, 0.2926829268292683, -0.1677560975609756, -0.1560975609756097, 3.6585365853658534, -0.4390243902439024, 0.5853658536585366, 0.926829268292683, 1.4634146341463417, 0.19024390243902442, 0.7804878048780487, -0.14634146341463414, 1.7560975609756095, -0.4390243902439024, -0.28780487804878047, 1.018048780487805, -0.4390243902439024, 0.4390243902439024, 0.47804878048780486]\n"
     ]
    }
   ],
   "source": [
    "# Test the function above against the previous data.\n",
    "#predictions = random_algorithm([x_train], [x_test])\n",
    "predictions = the_real_random_algo(list2, list3)\n",
    "predictions0 = the_real_random_algo([x_train, y_train], [x_test, y_test])\n",
    "predictions02 = the_real_random_algo(y_train, y_test)\n",
    "print(predictions0)\n",
    "print(len(predictions0))\n",
    "print((predictions02))"
   ]
  },
  {
   "cell_type": "code",
   "execution_count": 59,
   "id": "a5aa4c65",
   "metadata": {},
   "outputs": [
    {
     "name": "stdout",
     "output_type": "stream",
     "text": [
      "[0.058690140142840484, 3.1303687111817546, 0.01548416840869127, 2.7651071663141678, -0.005267605762503942, -0.03288759524107399, -0.0286842662478534, 0.1127291251591528, 4.281329560012635, -0.033955629984911924, 2.0692876683333297, 0.043122208748296136, -0.03736251154737049, -0.031980857798387656, 0.308217703170992, -0.032972901163596455, 1.4452828843308567, -0.021027056043629255, 0.9050945147328108, -0.03605833009662004, 3.063857654754738, -0.01428821148199042, -0.0415176687095764, 0.2610657582880853, 4.810621750798202, 39.90119600311494, 79.84777643976153, -0.0398799445471557, -0.011718204538026408, 0.01860644306884511, 8.637424263468072, 1.0381665608123898, 8.69617569664527, -0.03847676073978171, 0.6757062698979224, -0.03452560477187869, -0.03713948903979431, 0.13921870131120406, 0.9024230871661101, -0.03687372731130977, -0.023404302012026864, -0.02036376804209151, 0.07811116888662714, -0.037082354444460286, 7.0326502875866685, 39.90119600311494, 3.2327318235506617, 10.747682268194799, -0.040877070116060545, -0.020720817643585673, -0.03482159644960785, -0.03887949442409402, -0.03980194011053868, 0.2656995616187363, -0.03700458294634043, -0.03425621502005905, 0.14743271691348953, -0.0024957874458433576, -0.037416239198725526, 0.09214914625044796, -0.03918224506323307, -0.03836218720610396, 12.67287026241982, -0.027202672546070953, 1.0933427750405078, 5.921636019192435, 41.174493254533054, -0.030330165228294334, 0.9330571210384634, -0.03131125324381837, 0.5599593054198447, 0.043122208748296136, 2.1332021970319643, 0.33715400737478785, -0.03778447202017921, -0.038142353184645005, -0.03985000957844099, 5.258872316522922, 0.6105100052327525, -0.013240643867971458, -0.04127662430223623, -0.03530317444739087, -0.03836218720610396, -0.03876885537892315, 1.068800594684743, 9.253929825991946, 1.1872172390666274, 0.5179122838506137, 0.06894018301675627, -0.03727845021049476, -0.035436686405187504, 0.2999462643593289, -0.008286843211744015, -0.0008598551372213692, -0.04053681038688987, 3.182798598004853, 0.99122932879933, 0.1586871166860337, 0.2501720761368841, 1.087850120230469, -0.043406947973648545, -0.03207285726979454, 1.2626164096407977, 1.1320410498051219, 1.3991837815085832, 2.5930873291419223, -0.03865830321756473, -0.01024991804085192, -0.025515029389073726, -0.04067014333407293, -0.039753835689378486, -0.03211842383476636, -0.0372346480360476, 0.023503968730216308, -0.02854694987760243, 0.022698396002485778, -0.03624658335025029, 0.21903945900745583, -0.04303394620458926, 0.06894018301675627, -0.012049012157267388, 0.02955035804494545, -0.03772504538992619, 0.017533927317346702, 0.43205659651489553, -0.008560819330330031, 28.9483429796419, 1.3577392043055625, 0.6757062698979224, 2.360398373265392, -0.025515029389073726, -0.01745678048387842, -0.03385726602457698, -0.03597577749215418, -0.01734692738767764, -0.031004438539452155, 2.2553838066200025, -0.038533843654227296, 0.0009535997748610722, -0.02075287270215722, -0.037934019284361506, 28.944092413817316, -0.009914366765184085, 1.1527633134400195, -0.01847292162373562, 1.0933427750405078, 0.08384275418090274, 4.0341600935608835, 1.6438565866830437, -0.039254533393855734, 0.43697052524085855, -0.031004438539452155, -0.03615178012822902, 0.07797560017927027, 2.883199244730004, -0.03780412299142664, -0.03179375800226752, 1.0051357321138374, -0.011080307581678708, 2.8432526642933573, -0.02990146401970305, 0.06585795480349017, -0.024536360638327377, -0.033437834419976026, -0.037836527158144596, 0.15700965990704782, 2.6622447216898024, 0.12264087042999573, -0.034167184078910874, -0.03876885537892315, 0.10149414941134595, 43.24048046149087, 0.9395015780272437, -0.03491431246280131, -0.035436686405187504, -0.03575755731254487, 0.003215574892086191, -0.04004696344695647, 0.9348047839325667, -0.03626887354213394, 4.768178509084264, 2.3179551315514546, -0.0029808887320208807, -0.03018451000937721, 0.43205659651489553, -0.0403390056562111, -0.03627984387178636, 0.004548792014159268, 0.6364537612963626, 0.5123946624278019, -0.0364366666565968, -0.03618430438435441, -0.032383818928542335, -0.03382636484794796, 2.20984969824478, -0.024600037484872415, 0.03931205397302324, 0.044670138740216185, -0.039696252194346804, -0.029874449645350513, 1.5428167047911006, -0.03580681893620708, -0.020475194034896983, 4.339252101645772, 6.420968274650518, 0.12506263186896743, -0.041537750105228026, -0.03445385072676936, -0.02993161819527791, -0.032606521114476636, -0.033830709038570446, -0.03341277043741331, 1.0586142166733983, -0.03736151238352732, 4.019180125897141, -0.03380732031572479, 0.7685271428650253, 0.07405584197392434, -0.02137054670215887, 0.029645231173482486, 4.218913028080374, 3.8519038203186837, 4.323348369309432, 0.07881947169099443, 0.5480464112354153, 0.02125245462374304, -0.030071161587388227, -0.03780412299142664, 3.5872577249259, -0.038532784770246374, 1.068800594684743, -0.03580993726614242, 2.451276843758763, -0.021403752297146833, 3.3950148065745385, -0.03643328692622574, -0.021498875091811597, -0.04127662430223623, -0.04103276915363008, -0.01397039274304454, 0.35404641757693484, -0.04204332284044854, -0.04100972397137618, -0.005889748786191941, -0.008691002739311787, 2.5490211327646826, -0.02872371349603459, -0.03138227826383473, -0.03382636484794796, -0.039696252194346804, -0.016478164163018897, 0.03927735038126889, -0.04426947953175917, 0.2690450877303055, -0.02036376804209151, 10.418122979592464, -0.0352828333989664, -0.02586565300887256, -0.03626887354213394, 25.270760918193123, 0.06465091894237135, -0.04186928300457007, -0.04284106771117654, 4.466082494532125, -0.04100972397137618, 5.1808766182203705, -0.0066112838953288735, 0.00034191776192492773, -0.03481431743365391, -0.025017396361280968, 4468.978301916305, 0.07811116888662714, 0.5478222859525528, -0.03190765568973751, -0.03636831406281165, -0.041318800650859626, -0.03359170365449544, -0.034516442024991024, -0.03790863073583274, 0.2978565588702368, -0.035436686405187504, 1.7297417346218338, 3.334096271408652, -0.018258233720501414, 1.0851037928254494, 6.19626875969438, -0.04037016398895168, -0.03571536373695866, -0.03736251154737049, -0.02973561031172039, 0.044670138740216185, -0.013240643867971458, -0.03198297247048953, 0.6541051565268058, -0.03667687493207521, 1.732562961865172, -0.023197620901508936, 0.1436927183201085, 1.0474042075383643, -0.03389297577082607, -0.042201377552833035, -0.03724823361838797, -0.0345700538312628, 0.11178039387378245, -0.036584330214811986, -0.004526601688726705, 2.773346148529226, 2.9780723732670396, -0.026305971681719328, -0.03379897148041353, -0.033437834419976026, 0.2978565588702368, 67.36447005330947, -0.02478802659173953, -0.043406947973648545, 0.9050945147328108, 0.0856931022566797, 0.8539129585483574, 0.034583627179962925, 1.8163759059104239, -0.02989652262770304, -0.032383818928542335, -0.02757444788021099, -0.038214642014599925, -0.026947863296110694, 0.052050269475886646, 0.09772419088263744, -0.02854694987760243, -0.00880435116130077, 0.034583627179962925, -0.02507359470863601, -0.04347317905447992, 5.362383893079382, 1.556153869334386, -0.03337523688010116, -0.03146002429600955, -0.0328342191196268, -0.03922392182993487, -0.004526601688726705, 7.153738359535253, -0.02478802659173953, -0.0383337122849042, -0.01936011520194332, -0.024795441675733082, -0.02210297224778734, -0.0359083052211354, 3.1792148904074304, -0.027947977118898328, 2.6622447216898024, -0.03327712433355685, -0.03523176294420878]\n"
     ]
    }
   ],
   "source": [
    "print(predictions)"
   ]
  },
  {
   "cell_type": "code",
   "execution_count": 61,
   "id": "dd346910",
   "metadata": {},
   "outputs": [],
   "source": [
    "#predictions01 = the_real_random_algo(x_train, x_test)\n",
    "#some_mse = mean_squared_error(y_test, predictions0)\n",
    "#print(some_mse)"
   ]
  },
  {
   "cell_type": "code",
   "execution_count": 62,
   "id": "fbbc5b36",
   "metadata": {},
   "outputs": [],
   "source": [
    "# Will name the performance metrics for the prediction set as \"some\" so as to imply generality.\n",
    "#some_mse = mean_squared_error(y_train,predictions02)\n",
    "#some_r2 = r2_score(w2_train, y_svr_train_pred)"
   ]
  },
  {
   "cell_type": "markdown",
   "id": "c53ce080",
   "metadata": {},
   "source": [
    "Did calculations on the training and testing lists before converting them to a dataframe."
   ]
  },
  {
   "cell_type": "code",
   "execution_count": 63,
   "id": "55081257",
   "metadata": {},
   "outputs": [
    {
     "name": "stdout",
     "output_type": "stream",
     "text": [
      "\n",
      "Training x shape:  (1407, 1)\n",
      "Training y shape:  (1407, 1)\n",
      "Test x shape:  (351, 1)\n",
      "Test y shape:  (351, 1)\n"
     ]
    }
   ],
   "source": [
    "x_train, y_train = pd.DataFrame(x_train), pd.DataFrame(y_train)\n",
    "x_test, y_test = pd.DataFrame(x_test), pd.DataFrame(y_test)\n",
    "print('\\nTraining x shape: ', x_train.shape)\n",
    "print('Training y shape: ', y_train.shape)\n",
    "print('Test x shape: ', x_test.shape)\n",
    "print('Test y shape: ', y_test.shape)"
   ]
  },
  {
   "cell_type": "markdown",
   "id": "f171f994",
   "metadata": {},
   "source": [
    "Want to establish a baseline to compare to the ML model against. Will create a funciton using the Random Prediction Algorithm."
   ]
  },
  {
   "cell_type": "markdown",
   "id": "edbac35f",
   "metadata": {},
   "source": [
    "Will run kNN for various values of n_neighbors and store results."
   ]
  },
  {
   "cell_type": "code",
   "execution_count": 64,
   "id": "85bd4227",
   "metadata": {},
   "outputs": [
    {
     "name": "stdout",
     "output_type": "stream",
     "text": [
      "     k  Test Score  Train Score\n",
      "0    1   -1.321125     0.997974\n",
      "1    2   -0.854003     0.505723\n",
      "2    3   -0.558884     0.340164\n",
      "3    4   -0.406577     0.264626\n",
      "4    5   -0.286272     0.209860\n",
      "5    6   -0.255649     0.165291\n",
      "6    7   -0.234907     0.139499\n",
      "7    8   -0.180140     0.118663\n",
      "8    9   -0.152311     0.096859\n",
      "9   10   -0.126617     0.080969\n",
      "10  11   -0.122987     0.068131\n",
      "11  12   -0.114283     0.059092\n",
      "12  13   -0.109216     0.059418\n",
      "13  14   -0.085066     0.052166\n",
      "14  15   -0.085836     0.051812\n",
      "15  16   -0.075588     0.050833\n",
      "16  17   -0.077465     0.045485\n",
      "17  18   -0.072091     0.044751\n",
      "18  19   -0.072654     0.047942\n",
      "19  20   -0.067102     0.044648\n",
      "20  21   -0.071646     0.038170\n",
      "21  22   -0.071269     0.035540\n",
      "22  23   -0.066423     0.033759\n",
      "23  24   -0.070683     0.030841\n",
      "24  25   -0.069411     0.029069\n",
      "25  26   -0.068517     0.032184\n",
      "26  27   -0.068484     0.027742\n",
      "27  28   -0.064797     0.030404\n",
      "28  29   -0.058983     0.027051\n",
      "29  30   -0.056093     0.028968\n",
      "30  31   -0.049773     0.027951\n",
      "31  32   -0.048815     0.024658\n",
      "32  33   -0.049677     0.025243\n",
      "33  34   -0.050200     0.024540\n",
      "34  35   -0.052709     0.021895\n",
      "35  36   -0.053956     0.023554\n",
      "36  37   -0.055771     0.023175\n",
      "37  38   -0.055069     0.023320\n",
      "38  39   -0.055152     0.023228\n",
      "39  40   -0.053437     0.022385\n",
      "40  41   -0.053042     0.024284\n",
      "41  42   -0.052501     0.023463\n",
      "42  43   -0.050367     0.023494\n",
      "43  44   -0.047912     0.024370\n",
      "44  45   -0.048795     0.025295\n",
      "45  46   -0.049750     0.023394\n",
      "46  47   -0.051163     0.022310\n",
      "47  48   -0.053406     0.019579\n",
      "48  49   -0.055036     0.017579\n",
      "49  50   -0.054164     0.015557\n",
      "50  51   -0.051607     0.014471\n",
      "51  52   -0.051559     0.015379\n",
      "52  53   -0.053016     0.015413\n",
      "53  54   -0.048984     0.014291\n",
      "54  55   -0.050469     0.014188\n",
      "55  56   -0.049239     0.014463\n",
      "56  57   -0.048383     0.013596\n",
      "57  58   -0.050299     0.014034\n",
      "58  59   -0.049078     0.014474\n",
      "-0.04791228272300052\n"
     ]
    }
   ],
   "source": [
    "knn_r_acc = []\n",
    "for j in range(1, 60, 1):\n",
    "    knn = KNeighborsRegressor(n_neighbors = j)\n",
    "    knn.fit(x_train, y_train)\n",
    "    \n",
    "    test_score = knn.score(x_test, y_test)\n",
    "    train_score = knn.score(x_train, y_train)\n",
    "    \n",
    "    knn_r_acc.append((j, test_score, train_score))\n",
    "   \n",
    "results = pd.DataFrame(knn_r_acc, columns = ['k', 'Test Score', 'Train Score'])\n",
    "print(results)\n",
    "print(results.iloc[:,1].max())"
   ]
  },
  {
   "cell_type": "markdown",
   "id": "0ee6cfab",
   "metadata": {},
   "source": [
    "According to the results above, k = 29 seems to be the best k. What is concerning is that I feel if I extended the 'for' loop to a higher value, perhaps I would see a better performing k value."
   ]
  },
  {
   "cell_type": "markdown",
   "id": "f795e92d",
   "metadata": {},
   "source": [
    "Now, by adjusting the range of for loop to 45, found the optimal k to be k = 40."
   ]
  },
  {
   "cell_type": "markdown",
   "id": "72c94f32",
   "metadata": {},
   "source": [
    "Will now create the kNN model."
   ]
  },
  {
   "cell_type": "code",
   "execution_count": 65,
   "id": "bc627412",
   "metadata": {},
   "outputs": [],
   "source": [
    "model_knn = KNeighborsRegressor(n_neighbors = 40)\n",
    "model_knn.fit(x_train, y_train)\n",
    "y_knn_train_pred = model_knn.predict(x_train)\n",
    "y_knn_test_pred = model_knn.predict(x_test)"
   ]
  },
  {
   "cell_type": "markdown",
   "id": "fcf9b6dd",
   "metadata": {},
   "source": [
    "For model performace, first the training mean square error and R2 score."
   ]
  },
  {
   "cell_type": "code",
   "execution_count": 66,
   "id": "f608f744",
   "metadata": {},
   "outputs": [
    {
     "name": "stdout",
     "output_type": "stream",
     "text": [
      "                    0         1         2         3         4\n",
      "0  k Nearest Neighbor  0.811922  0.022385  0.669317 -0.053437\n"
     ]
    }
   ],
   "source": [
    "knn_train_mse = mean_squared_error(y_train, y_knn_train_pred)\n",
    "knn_train_r2 = r2_score(y_train, y_knn_train_pred)\n",
    "# Now, test mean square and r2 score.\n",
    "knn_test_mse = mean_squared_error(y_test, y_knn_test_pred)\n",
    "knn_test_r2 = r2_score(y_test, y_knn_test_pred)\n",
    "# Consolidate the results.\n",
    "knn_results = pd.DataFrame(['k Nearest Neighbor', knn_train_mse, knn_train_r2, knn_test_mse, knn_test_r2]).transpose()\n",
    "#results1 = pd.DataFrame(columns = ['Method', 'Training MSE', 'Training R2', 'Test MSE', 'Test R2'])\n",
    "results1 = pd.DataFrame()\n",
    "results1 = pd.concat([results1, knn_results])\n",
    "print(results1)\n",
    "#knn_results.columns = ['Method', 'Training MSE', 'Training R2', 'Test MSE', 'Test R2']\n",
    "#print(knn_results)"
   ]
  },
  {
   "cell_type": "code",
   "execution_count": 67,
   "id": "50a2cf60",
   "metadata": {},
   "outputs": [
    {
     "data": {
      "text/plain": [
       "351"
      ]
     },
     "execution_count": 67,
     "metadata": {},
     "output_type": "execute_result"
    }
   ],
   "source": [
    "len(y_knn_test_pred)"
   ]
  },
  {
   "cell_type": "code",
   "execution_count": 68,
   "id": "7cfc9b3c",
   "metadata": {},
   "outputs": [
    {
     "data": {
      "text/plain": [
       "351"
      ]
     },
     "execution_count": 68,
     "metadata": {},
     "output_type": "execute_result"
    }
   ],
   "source": [
    "len(y_test)"
   ]
  },
  {
   "cell_type": "code",
   "execution_count": 69,
   "id": "4b35ae1d",
   "metadata": {},
   "outputs": [
    {
     "name": "stderr",
     "output_type": "stream",
     "text": [
      "c:\\users\\joepb\\miniconda3\\lib\\site-packages\\numpy\\core\\shape_base.py:65: VisibleDeprecationWarning: Creating an ndarray from ragged nested sequences (which is a list-or-tuple of lists-or-tuples-or ndarrays with different lengths or shapes) is deprecated. If you meant to do this, you must specify 'dtype=object' when creating the ndarray.\n",
      "  ary = asanyarray(ary)\n"
     ]
    },
    {
     "data": {
      "image/png": "[encoded data removed]",
      "text/plain": [
       "<Figure size 648x648 with 1 Axes>"
      ]
     },
     "metadata": {
      "needs_background": "light"
     },
     "output_type": "display_data"
    }
   ],
   "source": [
    "true_values = y_test\n",
    "predicted_values = y_knn_test_pred\n",
    "plt.figure(figsize = (9,9))\n",
    "plt.scatter(true_values, predicted_values, c = 'crimson')\n",
    "#plt.yscale('log')\n",
    "#plt.xscale('log')\n",
    "\n",
    "p1 = max(max(predicted_values), max(true_values))\n",
    "p2 = min(min(predicted_values), min(true_values))\n",
    "plt.plot([p1, p2], [p1, p2], 'b-')\n",
    "\n",
    "plt.xlabel('True Values', fontsize = 10)\n",
    "plt.ylabel('Predictions', fontsize = 10)\n",
    "#plt.axis('equal')\n",
    "plt.show()\n",
    "plt.close()"
   ]
  },
  {
   "cell_type": "code",
   "execution_count": 70,
   "id": "3ecf9893",
   "metadata": {},
   "outputs": [
    {
     "data": {
      "image/png": "[encoded data removed]",
      "text/plain": [
       "<Figure size 432x288 with 1 Axes>"
      ]
     },
     "metadata": {
      "needs_background": "light"
     },
     "output_type": "display_data"
    }
   ],
   "source": [
    "g = plt.plot(true_values - predicted_values, marker = 'o', linestyle = '')"
   ]
  },
  {
   "cell_type": "code",
   "execution_count": 71,
   "id": "b8474406",
   "metadata": {},
   "outputs": [],
   "source": [
    "#from yellowbrick.regressor import prediction_error\n",
    "#model = Lasso()\n",
    "#visualizer = prediciton_error(model, x_train, y_train, x_test, y_test)"
   ]
  },
  {
   "cell_type": "code",
   "execution_count": 72,
   "id": "f7c6c694",
   "metadata": {},
   "outputs": [],
   "source": [
    "#Set plot size\n",
    "#plt.subplots(figsize=(10,5))\n",
    "#Set X-Axis range\n",
    "#plt.xlim(min(true_values), max(true_values))\n",
    "#plt.title('Model Error Distribution')\n",
    "#plt.ylabel('No. of Predictions')\n",
    "#plt.xlabel('Error')\n",
    "#plt.hist(predictions['error'], bins=np.linspace(min(test_values), max(test_values), num=41, dtype=int));\n",
    "#plt.show()"
   ]
  },
  {
   "cell_type": "code",
   "execution_count": 73,
   "id": "e9528f5b",
   "metadata": {},
   "outputs": [
    {
     "data": {
      "text/plain": [
       "<matplotlib.collections.PathCollection at 0x1c3b0c9b310>"
      ]
     },
     "execution_count": 73,
     "metadata": {},
     "output_type": "execute_result"
    },
    {
     "data": {
      "image/png": "[encoded data removed]",
      "text/plain": [
       "<Figure size 432x288 with 1 Axes>"
      ]
     },
     "metadata": {
      "needs_background": "light"
     },
     "output_type": "display_data"
    }
   ],
   "source": [
    "residuals = true_values - predicted_values\n",
    "plt.scatter(true_values, residuals)\n"
   ]
  },
  {
   "cell_type": "markdown",
   "id": "d0121ce0",
   "metadata": {},
   "source": [
    "There is an obvious positive linear relationship which indicates that the kNN model is not best supervised learning model for this data."
   ]
  },
  {
   "cell_type": "code",
   "execution_count": 74,
   "id": "7abf61b5",
   "metadata": {},
   "outputs": [],
   "source": [
    "w1 = x6.iloc[:, 0:1].values\n",
    "w2 = x6.iloc[:, 1:2].values\n",
    "from sklearn.preprocessing import StandardScaler\n",
    "sc_X = StandardScaler()\n",
    "sc_y = StandardScaler()\n",
    "w3 = sc_X.fit_transform(w1)\n",
    "w4 = sc_y.fit_transform(w2)\n",
    "w1_train, w1_test = tts(w3)\n",
    "w2_train, w2_test = tts(w4)"
   ]
  },
  {
   "cell_type": "code",
   "execution_count": 75,
   "id": "d18bbd38",
   "metadata": {},
   "outputs": [
    {
     "name": "stdout",
     "output_type": "stream",
     "text": [
      "1407\n",
      "1758\n",
      "351\n"
     ]
    }
   ],
   "source": [
    "print(len(w1_train))\n",
    "print(len(w1))\n",
    "print(len(w1_test))"
   ]
  },
  {
   "cell_type": "code",
   "execution_count": 76,
   "id": "c4c1fa4c",
   "metadata": {},
   "outputs": [
    {
     "name": "stderr",
     "output_type": "stream",
     "text": [
      "c:\\users\\joepb\\miniconda3\\lib\\site-packages\\sklearn\\utils\\validation.py:993: DataConversionWarning: A column-vector y was passed when a 1d array was expected. Please change the shape of y to (n_samples, ), for example using ravel().\n",
      "  y = column_or_1d(y, warn=True)\n"
     ]
    }
   ],
   "source": [
    "from sklearn.svm import SVR\n",
    "regressor = SVR(kernel = 'rbf')\n",
    "regressor.fit(w1_train, w2_train)\n",
    "y_svr_train_pred = regressor.predict(w1_train)\n",
    "y_svr_test_pred = regressor.predict(w1_test)\n",
    "# Model performance\n",
    "svr_train_mse = mean_squared_error(w2_train, y_svr_train_pred)\n",
    "svr_train_r2 = r2_score(w2_train, y_svr_train_pred)\n",
    "# Test results\n",
    "svr_test_mse = mean_squared_error(w2_test, y_svr_test_pred)\n",
    "svr_test_r2 = r2_score(w2_test, y_svr_test_pred)\n",
    "# Consolidate the results.\n",
    "#svr_results = pd.DataFrame(['SVR', svr_train_mse, svr_train_r2, svr_test_mse, svr_test_r2]).T\n",
    "svr_results = pd.DataFrame(['SVR', svr_train_mse, svr_train_r2, svr_test_mse, svr_test_r2])\n",
    "#results2 = pd.concat([knn_results, svr_results.T], ignore_index = False)\n",
    "#print(results2)"
   ]
  },
  {
   "cell_type": "code",
   "execution_count": 77,
   "id": "54aac7a0",
   "metadata": {},
   "outputs": [
    {
     "data": {
      "text/html": [
       "<div>\n",
       "<style scoped>\n",
       "    .dataframe tbody tr th:only-of-type {\n",
       "        vertical-align: middle;\n",
       "    }\n",
       "\n",
       "    .dataframe tbody tr th {\n",
       "        vertical-align: top;\n",
       "    }\n",
       "\n",
       "    .dataframe thead th {\n",
       "        text-align: right;\n",
       "    }\n",
       "</style>\n",
       "<table border=\"1\" class=\"dataframe\">\n",
       "  <thead>\n",
       "    <tr style=\"text-align: right;\">\n",
       "      <th></th>\n",
       "      <th>Method</th>\n",
       "      <th>Training MSE</th>\n",
       "      <th>Training R2</th>\n",
       "      <th>Test MSE</th>\n",
       "      <th>Test R2</th>\n",
       "    </tr>\n",
       "  </thead>\n",
       "  <tbody>\n",
       "    <tr>\n",
       "      <th>0</th>\n",
       "      <td>k Nearest Neighbor</td>\n",
       "      <td>0.811922</td>\n",
       "      <td>0.022385</td>\n",
       "      <td>0.669317</td>\n",
       "      <td>-0.053437</td>\n",
       "    </tr>\n",
       "    <tr>\n",
       "      <th>1</th>\n",
       "      <td>SVR</td>\n",
       "      <td>1.091002</td>\n",
       "      <td>-0.111827</td>\n",
       "      <td>1.176758</td>\n",
       "      <td>-0.094596</td>\n",
       "    </tr>\n",
       "  </tbody>\n",
       "</table>\n",
       "</div>"
      ],
      "text/plain": [
       "               Method Training MSE Training R2  Test MSE   Test R2\n",
       "0  k Nearest Neighbor     0.811922    0.022385  0.669317 -0.053437\n",
       "1                 SVR     1.091002   -0.111827  1.176758 -0.094596"
      ]
     },
     "execution_count": 77,
     "metadata": {},
     "output_type": "execute_result"
    }
   ],
   "source": [
    "results2 = pd.concat([knn_results,svr_results.T], ignore_index = True)\n",
    "results2.columns = ['Method', 'Training MSE', 'Training R2', 'Test MSE', 'Test R2']\n",
    "results2"
   ]
  },
  {
   "cell_type": "markdown",
   "id": "6ded8854",
   "metadata": {},
   "source": [
    "Now want to model using Random Forest."
   ]
  },
  {
   "cell_type": "code",
   "execution_count": 78,
   "id": "8b7ce310",
   "metadata": {},
   "outputs": [],
   "source": [
    "from sklearn.ensemble import RandomForestRegressor"
   ]
  },
  {
   "cell_type": "markdown",
   "id": "dda2ceff",
   "metadata": {},
   "source": [
    "The line above should be moved to the top of the script."
   ]
  },
  {
   "cell_type": "code",
   "execution_count": 79,
   "id": "c4691066",
   "metadata": {},
   "outputs": [
    {
     "name": "stdout",
     "output_type": "stream",
     "text": [
      "RandomForestRegressor(max_depth=2)\n"
     ]
    },
    {
     "name": "stderr",
     "output_type": "stream",
     "text": [
      "C:\\Users\\joepb\\AppData\\Local\\Temp\\ipykernel_3728\\307795354.py:2: DataConversionWarning: A column-vector y was passed when a 1d array was expected. Please change the shape of y to (n_samples,), for example using ravel().\n",
      "  rf.fit(w1_train, w2_train)\n"
     ]
    }
   ],
   "source": [
    "rf = RandomForestRegressor(max_depth=2)\n",
    "rf.fit(w1_train, w2_train)\n",
    "print(rf)"
   ]
  },
  {
   "cell_type": "markdown",
   "id": "08be37cd",
   "metadata": {},
   "source": [
    "Now going to apply the constructed model to make predictions on the training and testing sets."
   ]
  },
  {
   "cell_type": "code",
   "execution_count": 80,
   "id": "90d540d1",
   "metadata": {},
   "outputs": [],
   "source": [
    "y_rf_train_pred = rf.predict(w1_train)\n",
    "y_rf_test_pred = rf.predict(w1_test)"
   ]
  },
  {
   "cell_type": "code",
   "execution_count": 81,
   "id": "f3904bfd",
   "metadata": {},
   "outputs": [
    {
     "data": {
      "text/plain": [
       "array([-0.04541311,  0.05533729, -0.10664199, -0.01035017,  0.05441368,\n",
       "        0.15284272, -0.03286896, -0.00773347,  0.15284272, -0.01129409,\n",
       "       -0.05198764,  0.14948012, -0.04347065, -0.08994697,  0.05611852,\n",
       "       -0.01890731, -0.01824517, -0.00809255, -0.03500712,  0.04447919,\n",
       "       -0.08227061, -0.08994697, -0.01035017, -0.0094446 , -0.0095295 ,\n",
       "        0.01875568, -0.01035017, -0.05198764, -0.00189365, -0.04143537,\n",
       "       -0.01035017, -0.09774613,  0.14675358, -0.00809255, -0.00809255,\n",
       "       -0.01035017, -0.02227787, -0.0095295 , -0.00189365, -0.00773347,\n",
       "        0.08648906, -0.00189365,  0.14675358, -0.04143537, -0.01035017,\n",
       "       -0.02227787, -0.00809255, -0.00035967, -0.01824517,  0.005211  ,\n",
       "        0.00381204, -0.00035967,  0.16664328, -0.0241453 , -0.00035967,\n",
       "       -0.00035967, -0.01129409, -0.00751235, -0.08994697, -0.01824517,\n",
       "       -0.01824517, -0.07789619,  0.03224642, -0.01730609, -0.00506674,\n",
       "       -0.02227787, -0.0241453 , -0.00506674, -0.02039013, -0.01730609,\n",
       "       -0.00506674,  0.00765459, -0.00506674, -0.02454135, -0.00751235,\n",
       "       -0.02576654, -0.02227787, -0.08994697, -0.00751235,  0.005211  ,\n",
       "       -0.04541311,  0.08708397,  0.14675358,  0.09830114, -0.0094446 ,\n",
       "       -0.0241453 , -0.0094446 ,  0.05250171,  0.05611852, -0.00809255,\n",
       "        0.16664328, -0.00773347, -0.01035017,  0.09830114, -0.01890731,\n",
       "       -0.05865606,  0.02538885,  0.14675358,  0.05611852, -0.05198764,\n",
       "        0.16664328,  0.12547101,  0.06163183,  0.16664328, -0.05865606,\n",
       "        0.05611852,  0.04875872, -0.05198764,  0.00582532,  0.00582532,\n",
       "       -0.01035017,  0.01715908,  0.26241219,  0.01715908,  0.0401967 ,\n",
       "       -0.00809255, -0.00773347, -0.00773347,  0.04507936, -0.01035017,\n",
       "        0.08968742, -0.05865606, -0.0094446 , -0.05865606, -0.01035017,\n",
       "       -0.0094446 ,  0.09830114,  0.06163183, -0.05865606, -0.04229541,\n",
       "        0.05173789,  0.01875568,  0.16664328,  0.12250322,  0.14675358,\n",
       "        0.00582532, -0.01035017, -0.00695989, -0.00921789, -0.04229541,\n",
       "        0.08648906,  0.06163183,  0.00582532, -0.01035017,  0.16664328,\n",
       "        0.05611852, -0.05865606, -0.03766214,  0.05533729, -0.00773347,\n",
       "       -0.04541311,  0.16664328, -0.06942129,  0.05250171, -0.00773347,\n",
       "       -0.02576654, -0.0095295 , -0.00809255,  0.02889261, -0.0095295 ,\n",
       "       -0.0094446 , -0.03500712,  0.01715908,  0.27847512,  0.05173789,\n",
       "        0.08968742,  0.05611852,  0.04496898,  0.01875568,  0.05611852,\n",
       "       -0.01824517,  0.05173789, -0.06292068,  0.00582532,  0.06610024,\n",
       "       -0.04810889, -0.0094446 ,  0.16664328, -0.0094446 , -0.00189365,\n",
       "       -0.04541311, -0.05628257, -0.08596238,  0.15159866, -0.06942129,\n",
       "       -0.00189365,  0.005211  , -0.01035017, -0.05198764, -0.06942129,\n",
       "       -0.01824517,  0.0401967 ,  0.12547101,  0.06163183, -0.00189365,\n",
       "        0.05611852,  0.00582532, -0.06942129, -0.03169268, -0.06942129,\n",
       "       -0.0095295 , -0.00773347, -0.00773347, -0.05198764, -0.04816396,\n",
       "        0.08968742,  0.05250171,  0.03477733, -0.00676383, -0.04229541,\n",
       "        0.12547101, -0.0094446 , -0.05198764, -0.0094446 , -0.07095989,\n",
       "       -0.0094446 ,  0.00582532, -0.00921789, -0.01890731, -0.01035017,\n",
       "        0.01127756,  0.005211  , -0.0095295 , -0.00809255, -0.00773347,\n",
       "        0.03224642, -0.00809255, -0.00773347, -0.01730609, -0.00506674,\n",
       "       -0.0094446 , -0.00809255, -0.01035017,  0.04213212, -0.01890731,\n",
       "       -0.00809255, -0.02576654,  0.00381204,  0.03224642,  0.00527956,\n",
       "       -0.02227787, -0.04541311, -0.01730609, -0.05198764, -0.04775916,\n",
       "       -0.01129409, -0.0094446 , -0.04541311,  0.005211  , -0.04541311,\n",
       "       -0.05865606, -0.04541311, -0.01035017, -0.02227787, -0.08448547,\n",
       "       -0.02227787, -0.00809255, -0.01035017, -0.00189365, -0.00751235,\n",
       "       -0.02454135, -0.00676383, -0.01035017, -0.00189365,  0.02538885,\n",
       "       -0.01035017, -0.0094446 ,  0.14413927, -0.00809255, -0.0094446 ,\n",
       "       -0.0094446 ,  0.06163183, -0.00189365, -0.01730609, -0.01824517,\n",
       "       -0.01035017, -0.01890731, -0.00189365, -0.02227787, -0.02454135,\n",
       "       -0.06006303,  0.02889261, -0.04541311, -0.09774613, -0.0241453 ,\n",
       "        0.02538885, -0.08994697, -0.00809255, -0.01492494, -0.02771512,\n",
       "       -0.00809255, -0.01035017, -0.01824517, -0.00809255, -0.05910845,\n",
       "       -0.01890731, -0.06505924, -0.00773347, -0.05198764, -0.00773347,\n",
       "       -0.00773347, -0.00809255, -0.0095295 , -0.04143537, -0.00809255,\n",
       "       -0.00773347, -0.00921789, -0.07529536, -0.00809255,  0.00381204,\n",
       "       -0.02454135, -0.01035017,  0.005211  , -0.0241453 , -0.00809255,\n",
       "       -0.02039013, -0.01890731, -0.02576654, -0.08994697, -0.00619521,\n",
       "       -0.0241453 , -0.01129409, -0.00751235,  0.01727707, -0.01890731,\n",
       "       -0.00809255,  0.02588831,  0.02588831, -0.00751235,  0.05533729,\n",
       "       -0.07789619,  0.01557918, -0.07529536, -0.02369085, -0.0241453 ,\n",
       "       -0.07789619, -0.06006303,  0.02588831, -0.07529536, -0.01824517,\n",
       "       -0.08994697, -0.01492494, -0.07137134, -0.04229541, -0.02178194,\n",
       "       -0.05865606, -0.00189365, -0.05865606, -0.0241453 , -0.05198764,\n",
       "        0.06163183])"
      ]
     },
     "execution_count": 81,
     "metadata": {},
     "output_type": "execute_result"
    }
   ],
   "source": [
    "y_rf_test_pred"
   ]
  },
  {
   "cell_type": "code",
   "execution_count": 82,
   "id": "cfc1dd8b",
   "metadata": {},
   "outputs": [],
   "source": [
    "# Model performance metrics for random forest model.\n",
    "rf_train_mse = mean_squared_error(w2_train, y_rf_train_pred)\n",
    "rf_train_r2 = r2_score(w2_train, y_rf_train_pred)\n",
    "rf_test_mse = mean_squared_error(w2_test, y_rf_test_pred)\n",
    "rf_test_r2 = r2_score(w2_test, y_rf_test_pred)"
   ]
  },
  {
   "cell_type": "code",
   "execution_count": 83,
   "id": "51601867",
   "metadata": {},
   "outputs": [],
   "source": [
    "rf_results = pd.DataFrame(['Random Forest', rf_train_mse, rf_train_r2, rf_test_mse, rf_test_r2]).transpose()\n",
    "rf_results.columns = ['Method', 'Training MSE', 'Training R2', 'Test MSE', 'Test R2']"
   ]
  },
  {
   "cell_type": "code",
   "execution_count": 84,
   "id": "801c6cbd",
   "metadata": {},
   "outputs": [
    {
     "data": {
      "text/html": [
       "<div>\n",
       "<style scoped>\n",
       "    .dataframe tbody tr th:only-of-type {\n",
       "        vertical-align: middle;\n",
       "    }\n",
       "\n",
       "    .dataframe tbody tr th {\n",
       "        vertical-align: top;\n",
       "    }\n",
       "\n",
       "    .dataframe thead th {\n",
       "        text-align: right;\n",
       "    }\n",
       "</style>\n",
       "<table border=\"1\" class=\"dataframe\">\n",
       "  <thead>\n",
       "    <tr style=\"text-align: right;\">\n",
       "      <th></th>\n",
       "      <th>Method</th>\n",
       "      <th>Training MSE</th>\n",
       "      <th>Training R2</th>\n",
       "      <th>Test MSE</th>\n",
       "      <th>Test R2</th>\n",
       "    </tr>\n",
       "  </thead>\n",
       "  <tbody>\n",
       "    <tr>\n",
       "      <th>0</th>\n",
       "      <td>k Nearest Neighbor</td>\n",
       "      <td>0.811922</td>\n",
       "      <td>0.022385</td>\n",
       "      <td>0.669317</td>\n",
       "      <td>-0.053437</td>\n",
       "    </tr>\n",
       "    <tr>\n",
       "      <th>1</th>\n",
       "      <td>SVR</td>\n",
       "      <td>1.091002</td>\n",
       "      <td>-0.111827</td>\n",
       "      <td>1.176758</td>\n",
       "      <td>-0.094596</td>\n",
       "    </tr>\n",
       "    <tr>\n",
       "      <th>2</th>\n",
       "      <td>Random Forest</td>\n",
       "      <td>0.963474</td>\n",
       "      <td>0.018135</td>\n",
       "      <td>1.062314</td>\n",
       "      <td>0.011857</td>\n",
       "    </tr>\n",
       "  </tbody>\n",
       "</table>\n",
       "</div>"
      ],
      "text/plain": [
       "               Method Training MSE Training R2  Test MSE   Test R2\n",
       "0  k Nearest Neighbor     0.811922    0.022385  0.669317 -0.053437\n",
       "1                 SVR     1.091002   -0.111827  1.176758 -0.094596\n",
       "2       Random Forest     0.963474    0.018135  1.062314  0.011857"
      ]
     },
     "execution_count": 84,
     "metadata": {},
     "output_type": "execute_result"
    }
   ],
   "source": [
    "results2 = pd.concat([results2, rf_results], ignore_index = True)\n",
    "results2"
   ]
  },
  {
   "cell_type": "markdown",
   "id": "ae84b1c5",
   "metadata": {},
   "source": [
    "Now want to compute confidence intervals as a standard practice while computing metrics."
   ]
  },
  {
   "cell_type": "markdown",
   "id": "3075f1db",
   "metadata": {},
   "source": [
    "Will compare the R-squared value for kNN and Random Forest models."
   ]
  },
  {
   "cell_type": "code",
   "execution_count": 85,
   "id": "19aa4131",
   "metadata": {},
   "outputs": [],
   "source": [
    "from sklearn.utils import resample\n",
    "def r2_ci(test_data): # The function will be set up for a 95% confidence interval.\n",
    "    bootstrap_iter = 1000\n",
    "    sample_size = 10000\n",
    "    #sample_size = bootstrap_iter\n",
    "    r2_metrics = []\n",
    "    confidence = 0.95\n",
    "    alpha_level = 0.95 * 100\n",
    "    lower = ((1.0 - confidence)/2.0) * 100 # Should be 2.5 as the lower bound.\n",
    "    upper = alpha_level + (((1.0 - confidence)/2.0) * 100) # Should be 97.5 as the upper bound\n",
    "    for i in range(bootstrap_iter):\n",
    "        sample = resample(predictions, n_samples = sample_size)\n",
    "        #r2 = r2_score(test_data, predictions)\n",
    "        r2 = r2_score(test_data, sample)\n",
    "        r2_metrics.append(r2)\n",
    "    confidence_interval = np.percentile(r2_metrics, [lower, upper])\n",
    "    return confidence_interval"
   ]
  },
  {
   "cell_type": "code",
   "execution_count": 86,
   "id": "812095b7",
   "metadata": {},
   "outputs": [
    {
     "data": {
      "text/plain": [
       "97.5"
      ]
     },
     "execution_count": 86,
     "metadata": {},
     "output_type": "execute_result"
    }
   ],
   "source": [
    "95 + (((1.0 - 0.95)/2.0) * 100)"
   ]
  },
  {
   "cell_type": "code",
   "execution_count": 87,
   "id": "e3fe6397",
   "metadata": {},
   "outputs": [],
   "source": [
    "#r2_ci(y_test, y_knn_test_pred)"
   ]
  },
  {
   "cell_type": "code",
   "execution_count": 88,
   "id": "5a407c59",
   "metadata": {},
   "outputs": [
    {
     "data": {
      "text/plain": [
       "97.5"
      ]
     },
     "execution_count": 88,
     "metadata": {},
     "output_type": "execute_result"
    }
   ],
   "source": [
    "(0.95*100)+((1.0-.95)/2.0)*100"
   ]
  },
  {
   "cell_type": "code",
   "execution_count": 89,
   "id": "a7ed4e67",
   "metadata": {},
   "outputs": [
    {
     "data": {
      "text/plain": [
       "numpy.ndarray"
      ]
     },
     "execution_count": 89,
     "metadata": {},
     "output_type": "execute_result"
    }
   ],
   "source": [
    "type(w2_test)"
   ]
  },
  {
   "cell_type": "code",
   "execution_count": 90,
   "id": "dc53b17a",
   "metadata": {},
   "outputs": [],
   "source": [
    "#print(true_values02.shape)\n",
    "#print(residuals1_svr.shape)"
   ]
  },
  {
   "cell_type": "code",
   "execution_count": 91,
   "id": "dedebfb7",
   "metadata": {},
   "outputs": [
    {
     "data": {
      "text/plain": [
       "(351, 1)"
      ]
     },
     "execution_count": 91,
     "metadata": {},
     "output_type": "execute_result"
    }
   ],
   "source": [
    "w2_test.shape"
   ]
  },
  {
   "cell_type": "code",
   "execution_count": 92,
   "id": "f85562d7",
   "metadata": {},
   "outputs": [],
   "source": [
    "#print(residuals1_rf.shape)"
   ]
  },
  {
   "cell_type": "code",
   "execution_count": 93,
   "id": "2481e18c",
   "metadata": {},
   "outputs": [],
   "source": [
    "#residuals1_rf"
   ]
  },
  {
   "cell_type": "code",
   "execution_count": 94,
   "id": "9cc2f32f",
   "metadata": {},
   "outputs": [],
   "source": [
    "#import seaborn as sns\n",
    "#sns.set_theme(style=\"whitegrid\")\n",
    "#sns.residplot(x=w2_test, y=y_svr_test_pred, lowess=True, color=\"g\")"
   ]
  },
  {
   "cell_type": "code",
   "execution_count": null,
   "id": "5d248e3c",
   "metadata": {},
   "outputs": [],
   "source": []
  },
  {
   "cell_type": "code",
   "execution_count": 95,
   "id": "5f31cbc3",
   "metadata": {},
   "outputs": [],
   "source": [
    "#plt.scatter(true_values02, residuals1_svr)\n",
    "#plt.scatter(w2_test, (y_svr_test_pred-w2_test), color = 'violet')\n",
    "#plt.axis(\"equal\")"
   ]
  },
  {
   "cell_type": "markdown",
   "id": "de1eed36",
   "metadata": {},
   "source": [
    "Will now study the relationship between planet mass and temperature."
   ]
  },
  {
   "cell_type": "code",
   "execution_count": 96,
   "id": "b636a5cb",
   "metadata": {},
   "outputs": [],
   "source": [
    "path3 = 'D:\\\\PS_2022.04.14_19.39.14.csv'\n",
    "#path3 = 'E:\\\\PS_2022.04.14_19.39.14.csv'\n",
    "raw_data2 = pd.read_csv(path3, skiprows = 28) #  <- notice had to skip first 29 lines."
   ]
  },
  {
   "cell_type": "code",
   "execution_count": 97,
   "id": "16bde290",
   "metadata": {},
   "outputs": [
    {
     "name": "stdout",
     "output_type": "stream",
     "text": [
      "         pl_name hostname   pl_orbper  pl_orbpererr1  pl_orbpererr2  \\\n",
      "0       11 Com b   11 Com   326.03000          0.320         -0.320   \n",
      "1       11 Com b   11 Com         NaN            NaN            NaN   \n",
      "2       11 UMi b   11 UMi         NaN            NaN            NaN   \n",
      "3       11 UMi b   11 UMi   516.21997          3.200         -3.200   \n",
      "4       11 UMi b   11 UMi   516.22000          3.250         -3.250   \n",
      "...          ...      ...         ...            ...            ...   \n",
      "32320  ups And d  ups And  1282.41000          0.930         -0.940   \n",
      "32321  ups And d  ups And  1281.50700          1.055         -1.055   \n",
      "32322  ups Leo b  ups Leo   385.20000          2.800         -1.300   \n",
      "32323   xi Aql b   xi Aql         NaN            NaN            NaN   \n",
      "32324   xi Aql b   xi Aql   136.75000          0.250         -0.250   \n",
      "\n",
      "       pl_orbperlim  pl_bmassj  pl_bmassjerr1  pl_bmassjerr2  pl_bmassjlim  \\\n",
      "0               0.0      19.40           1.50          -1.50           0.0   \n",
      "1               NaN      17.10           1.70          -1.30           0.0   \n",
      "2               NaN      10.80           1.20          -1.30           0.0   \n",
      "3               0.0      14.74           2.50          -2.50           0.0   \n",
      "4               0.0      10.50           2.47          -2.47           0.0   \n",
      "...             ...        ...            ...            ...           ...   \n",
      "32320           0.0       4.10           0.10          -0.10           0.0   \n",
      "32321           0.0      10.25           0.70          -3.30           0.0   \n",
      "32322           0.0       0.51           0.06          -0.26           0.0   \n",
      "32323           NaN       2.02           0.20          -0.20           0.0   \n",
      "32324           0.0       2.80            NaN            NaN           0.0   \n",
      "\n",
      "       ...  pl_orbeccenerr2  pl_orbeccenlim  pl_insol  pl_insolerr1  \\\n",
      "0      ...           -0.005             0.0       NaN           NaN   \n",
      "1      ...              NaN             NaN       NaN           NaN   \n",
      "2      ...              NaN             NaN       NaN           NaN   \n",
      "3      ...           -0.030             0.0       NaN           NaN   \n",
      "4      ...           -0.030             0.0       NaN           NaN   \n",
      "...    ...              ...             ...       ...           ...   \n",
      "32320  ...           -0.012             0.0       NaN           NaN   \n",
      "32321  ...           -0.006             0.0       NaN           NaN   \n",
      "32322  ...           -0.218             0.0       NaN           NaN   \n",
      "32323  ...              NaN             NaN       NaN           NaN   \n",
      "32324  ...              NaN             0.0       NaN           NaN   \n",
      "\n",
      "       pl_insolerr2  pl_insollim  pl_eqt  pl_eqterr1  pl_eqterr2  pl_eqtlim  \n",
      "0               NaN          NaN     NaN         NaN         NaN        NaN  \n",
      "1               NaN          NaN     NaN         NaN         NaN        NaN  \n",
      "2               NaN          NaN     NaN         NaN         NaN        NaN  \n",
      "3               NaN          NaN     NaN         NaN         NaN        NaN  \n",
      "4               NaN          NaN     NaN         NaN         NaN        NaN  \n",
      "...             ...          ...     ...         ...         ...        ...  \n",
      "32320           NaN          NaN     NaN         NaN         NaN        NaN  \n",
      "32321           NaN          NaN     NaN         NaN         NaN        NaN  \n",
      "32322           NaN          NaN     NaN         NaN         NaN        NaN  \n",
      "32323           NaN          NaN     NaN         NaN         NaN        NaN  \n",
      "32324           NaN          NaN     NaN         NaN         NaN        NaN  \n",
      "\n",
      "[32325 rows x 22 columns]\n"
     ]
    },
    {
     "data": {
      "text/plain": [
       "Index(['pl_name', 'hostname', 'pl_orbper', 'pl_orbpererr1', 'pl_orbpererr2',\n",
       "       'pl_orbperlim', 'pl_bmassj', 'pl_bmassjerr1', 'pl_bmassjerr2',\n",
       "       'pl_bmassjlim', 'pl_orbeccen', 'pl_orbeccenerr1', 'pl_orbeccenerr2',\n",
       "       'pl_orbeccenlim', 'pl_insol', 'pl_insolerr1', 'pl_insolerr2',\n",
       "       'pl_insollim', 'pl_eqt', 'pl_eqterr1', 'pl_eqterr2', 'pl_eqtlim'],\n",
       "      dtype='object')"
      ]
     },
     "execution_count": 97,
     "metadata": {},
     "output_type": "execute_result"
    }
   ],
   "source": [
    "print(raw_data2)\n",
    "raw_data2.columns"
   ]
  },
  {
   "cell_type": "code",
   "execution_count": 98,
   "id": "0a2a277f",
   "metadata": {},
   "outputs": [
    {
     "data": {
      "text/plain": [
       "pandas.core.frame.DataFrame"
      ]
     },
     "execution_count": 98,
     "metadata": {},
     "output_type": "execute_result"
    }
   ],
   "source": [
    "type(raw_data2) #<- already a pandas data frame."
   ]
  },
  {
   "cell_type": "code",
   "execution_count": 99,
   "id": "b8e47cb6",
   "metadata": {},
   "outputs": [],
   "source": [
    "df4 = raw_data2.loc[:, ['pl_name','pl_bmassj','pl_eqt']]\n",
    "df4.reset_index(drop=True, inplace=True)"
   ]
  },
  {
   "cell_type": "code",
   "execution_count": 100,
   "id": "87e3db28",
   "metadata": {},
   "outputs": [
    {
     "data": {
      "text/html": [
       "<div>\n",
       "<style scoped>\n",
       "    .dataframe tbody tr th:only-of-type {\n",
       "        vertical-align: middle;\n",
       "    }\n",
       "\n",
       "    .dataframe tbody tr th {\n",
       "        vertical-align: top;\n",
       "    }\n",
       "\n",
       "    .dataframe thead th {\n",
       "        text-align: right;\n",
       "    }\n",
       "</style>\n",
       "<table border=\"1\" class=\"dataframe\">\n",
       "  <thead>\n",
       "    <tr style=\"text-align: right;\">\n",
       "      <th></th>\n",
       "      <th>pl_name</th>\n",
       "      <th>pl_bmassj</th>\n",
       "      <th>pl_eqt</th>\n",
       "    </tr>\n",
       "  </thead>\n",
       "  <tbody>\n",
       "    <tr>\n",
       "      <th>0</th>\n",
       "      <td>11 Com b</td>\n",
       "      <td>19.40</td>\n",
       "      <td>NaN</td>\n",
       "    </tr>\n",
       "    <tr>\n",
       "      <th>1</th>\n",
       "      <td>11 Com b</td>\n",
       "      <td>17.10</td>\n",
       "      <td>NaN</td>\n",
       "    </tr>\n",
       "    <tr>\n",
       "      <th>2</th>\n",
       "      <td>11 UMi b</td>\n",
       "      <td>10.80</td>\n",
       "      <td>NaN</td>\n",
       "    </tr>\n",
       "    <tr>\n",
       "      <th>3</th>\n",
       "      <td>11 UMi b</td>\n",
       "      <td>14.74</td>\n",
       "      <td>NaN</td>\n",
       "    </tr>\n",
       "    <tr>\n",
       "      <th>4</th>\n",
       "      <td>11 UMi b</td>\n",
       "      <td>10.50</td>\n",
       "      <td>NaN</td>\n",
       "    </tr>\n",
       "    <tr>\n",
       "      <th>...</th>\n",
       "      <td>...</td>\n",
       "      <td>...</td>\n",
       "      <td>...</td>\n",
       "    </tr>\n",
       "    <tr>\n",
       "      <th>32320</th>\n",
       "      <td>ups And d</td>\n",
       "      <td>4.10</td>\n",
       "      <td>NaN</td>\n",
       "    </tr>\n",
       "    <tr>\n",
       "      <th>32321</th>\n",
       "      <td>ups And d</td>\n",
       "      <td>10.25</td>\n",
       "      <td>NaN</td>\n",
       "    </tr>\n",
       "    <tr>\n",
       "      <th>32322</th>\n",
       "      <td>ups Leo b</td>\n",
       "      <td>0.51</td>\n",
       "      <td>NaN</td>\n",
       "    </tr>\n",
       "    <tr>\n",
       "      <th>32323</th>\n",
       "      <td>xi Aql b</td>\n",
       "      <td>2.02</td>\n",
       "      <td>NaN</td>\n",
       "    </tr>\n",
       "    <tr>\n",
       "      <th>32324</th>\n",
       "      <td>xi Aql b</td>\n",
       "      <td>2.80</td>\n",
       "      <td>NaN</td>\n",
       "    </tr>\n",
       "  </tbody>\n",
       "</table>\n",
       "<p>32325 rows × 3 columns</p>\n",
       "</div>"
      ],
      "text/plain": [
       "         pl_name  pl_bmassj  pl_eqt\n",
       "0       11 Com b      19.40     NaN\n",
       "1       11 Com b      17.10     NaN\n",
       "2       11 UMi b      10.80     NaN\n",
       "3       11 UMi b      14.74     NaN\n",
       "4       11 UMi b      10.50     NaN\n",
       "...          ...        ...     ...\n",
       "32320  ups And d       4.10     NaN\n",
       "32321  ups And d      10.25     NaN\n",
       "32322  ups Leo b       0.51     NaN\n",
       "32323   xi Aql b       2.02     NaN\n",
       "32324   xi Aql b       2.80     NaN\n",
       "\n",
       "[32325 rows x 3 columns]"
      ]
     },
     "execution_count": 100,
     "metadata": {},
     "output_type": "execute_result"
    }
   ],
   "source": [
    "df4"
   ]
  },
  {
   "cell_type": "code",
   "execution_count": 101,
   "id": "223f4dc5",
   "metadata": {},
   "outputs": [],
   "source": [
    "df4 = df4.rename(columns={'pl_name':'planetname','pl_bmassj':'planetmass', 'pl_eqt':'temperature'})\n",
    "df4 = df4.dropna()"
   ]
  },
  {
   "cell_type": "code",
   "execution_count": 102,
   "id": "9d246dcf",
   "metadata": {},
   "outputs": [
    {
     "data": {
      "text/html": [
       "<div>\n",
       "<style scoped>\n",
       "    .dataframe tbody tr th:only-of-type {\n",
       "        vertical-align: middle;\n",
       "    }\n",
       "\n",
       "    .dataframe tbody tr th {\n",
       "        vertical-align: top;\n",
       "    }\n",
       "\n",
       "    .dataframe thead th {\n",
       "        text-align: right;\n",
       "    }\n",
       "</style>\n",
       "<table border=\"1\" class=\"dataframe\">\n",
       "  <thead>\n",
       "    <tr style=\"text-align: right;\">\n",
       "      <th></th>\n",
       "      <th>planetname</th>\n",
       "      <th>planetmass</th>\n",
       "      <th>temperature</th>\n",
       "    </tr>\n",
       "  </thead>\n",
       "  <tbody>\n",
       "    <tr>\n",
       "      <th>23</th>\n",
       "      <td>1RXS J160929.1-210524 b</td>\n",
       "      <td>12.00000</td>\n",
       "      <td>1700.0</td>\n",
       "    </tr>\n",
       "    <tr>\n",
       "      <th>24</th>\n",
       "      <td>1RXS J160929.1-210524 b</td>\n",
       "      <td>8.00000</td>\n",
       "      <td>1700.0</td>\n",
       "    </tr>\n",
       "    <tr>\n",
       "      <th>25</th>\n",
       "      <td>1RXS J160929.1-210524 b</td>\n",
       "      <td>8.00000</td>\n",
       "      <td>1800.0</td>\n",
       "    </tr>\n",
       "    <tr>\n",
       "      <th>26</th>\n",
       "      <td>1RXS J160929.1-210524 b</td>\n",
       "      <td>8.00000</td>\n",
       "      <td>1800.0</td>\n",
       "    </tr>\n",
       "    <tr>\n",
       "      <th>30</th>\n",
       "      <td>2M0437 b</td>\n",
       "      <td>4.00000</td>\n",
       "      <td>1450.0</td>\n",
       "    </tr>\n",
       "    <tr>\n",
       "      <th>...</th>\n",
       "      <td>...</td>\n",
       "      <td>...</td>\n",
       "      <td>...</td>\n",
       "    </tr>\n",
       "    <tr>\n",
       "      <th>32265</th>\n",
       "      <td>kap And b</td>\n",
       "      <td>13.61600</td>\n",
       "      <td>1900.0</td>\n",
       "    </tr>\n",
       "    <tr>\n",
       "      <th>32284</th>\n",
       "      <td>pi Men c</td>\n",
       "      <td>0.01422</td>\n",
       "      <td>1147.0</td>\n",
       "    </tr>\n",
       "    <tr>\n",
       "      <th>32285</th>\n",
       "      <td>pi Men c</td>\n",
       "      <td>0.01517</td>\n",
       "      <td>1170.0</td>\n",
       "    </tr>\n",
       "    <tr>\n",
       "      <th>32289</th>\n",
       "      <td>rho CrB b</td>\n",
       "      <td>1.04490</td>\n",
       "      <td>614.0</td>\n",
       "    </tr>\n",
       "    <tr>\n",
       "      <th>32291</th>\n",
       "      <td>rho CrB c</td>\n",
       "      <td>0.07866</td>\n",
       "      <td>448.0</td>\n",
       "    </tr>\n",
       "  </tbody>\n",
       "</table>\n",
       "<p>1150 rows × 3 columns</p>\n",
       "</div>"
      ],
      "text/plain": [
       "                    planetname  planetmass  temperature\n",
       "23     1RXS J160929.1-210524 b    12.00000       1700.0\n",
       "24     1RXS J160929.1-210524 b     8.00000       1700.0\n",
       "25     1RXS J160929.1-210524 b     8.00000       1800.0\n",
       "26     1RXS J160929.1-210524 b     8.00000       1800.0\n",
       "30                    2M0437 b     4.00000       1450.0\n",
       "...                        ...         ...          ...\n",
       "32265                kap And b    13.61600       1900.0\n",
       "32284                 pi Men c     0.01422       1147.0\n",
       "32285                 pi Men c     0.01517       1170.0\n",
       "32289                rho CrB b     1.04490        614.0\n",
       "32291                rho CrB c     0.07866        448.0\n",
       "\n",
       "[1150 rows x 3 columns]"
      ]
     },
     "execution_count": 102,
     "metadata": {},
     "output_type": "execute_result"
    }
   ],
   "source": [
    "df4"
   ]
  },
  {
   "cell_type": "code",
   "execution_count": 103,
   "id": "038372c6",
   "metadata": {},
   "outputs": [
    {
     "name": "stdout",
     "output_type": "stream",
     "text": [
      "<class 'numpy.float64'>\n",
      "<class 'numpy.float64'>\n"
     ]
    }
   ],
   "source": [
    "print(type(df4.iloc[0][1]))\n",
    "print(type(df4.iloc[0][2]))"
   ]
  },
  {
   "cell_type": "markdown",
   "id": "2b7b3243",
   "metadata": {},
   "source": [
    "Notice both of the above are float data type which will make computation easier."
   ]
  },
  {
   "cell_type": "code",
   "execution_count": 104,
   "id": "45d36aa6",
   "metadata": {},
   "outputs": [],
   "source": [
    "df4.reset_index(drop=True, inplace=True)"
   ]
  },
  {
   "cell_type": "code",
   "execution_count": 105,
   "id": "41465a6e",
   "metadata": {},
   "outputs": [
    {
     "data": {
      "text/html": [
       "<div>\n",
       "<style scoped>\n",
       "    .dataframe tbody tr th:only-of-type {\n",
       "        vertical-align: middle;\n",
       "    }\n",
       "\n",
       "    .dataframe tbody tr th {\n",
       "        vertical-align: top;\n",
       "    }\n",
       "\n",
       "    .dataframe thead th {\n",
       "        text-align: right;\n",
       "    }\n",
       "</style>\n",
       "<table border=\"1\" class=\"dataframe\">\n",
       "  <thead>\n",
       "    <tr style=\"text-align: right;\">\n",
       "      <th></th>\n",
       "      <th>planetname</th>\n",
       "      <th>planetmass</th>\n",
       "      <th>temperature</th>\n",
       "    </tr>\n",
       "  </thead>\n",
       "  <tbody>\n",
       "    <tr>\n",
       "      <th>0</th>\n",
       "      <td>1RXS J160929.1-210524 b</td>\n",
       "      <td>12.00000</td>\n",
       "      <td>1700.0</td>\n",
       "    </tr>\n",
       "    <tr>\n",
       "      <th>1</th>\n",
       "      <td>1RXS J160929.1-210524 b</td>\n",
       "      <td>8.00000</td>\n",
       "      <td>1700.0</td>\n",
       "    </tr>\n",
       "    <tr>\n",
       "      <th>2</th>\n",
       "      <td>1RXS J160929.1-210524 b</td>\n",
       "      <td>8.00000</td>\n",
       "      <td>1800.0</td>\n",
       "    </tr>\n",
       "    <tr>\n",
       "      <th>3</th>\n",
       "      <td>1RXS J160929.1-210524 b</td>\n",
       "      <td>8.00000</td>\n",
       "      <td>1800.0</td>\n",
       "    </tr>\n",
       "    <tr>\n",
       "      <th>4</th>\n",
       "      <td>2M0437 b</td>\n",
       "      <td>4.00000</td>\n",
       "      <td>1450.0</td>\n",
       "    </tr>\n",
       "    <tr>\n",
       "      <th>...</th>\n",
       "      <td>...</td>\n",
       "      <td>...</td>\n",
       "      <td>...</td>\n",
       "    </tr>\n",
       "    <tr>\n",
       "      <th>1145</th>\n",
       "      <td>kap And b</td>\n",
       "      <td>13.61600</td>\n",
       "      <td>1900.0</td>\n",
       "    </tr>\n",
       "    <tr>\n",
       "      <th>1146</th>\n",
       "      <td>pi Men c</td>\n",
       "      <td>0.01422</td>\n",
       "      <td>1147.0</td>\n",
       "    </tr>\n",
       "    <tr>\n",
       "      <th>1147</th>\n",
       "      <td>pi Men c</td>\n",
       "      <td>0.01517</td>\n",
       "      <td>1170.0</td>\n",
       "    </tr>\n",
       "    <tr>\n",
       "      <th>1148</th>\n",
       "      <td>rho CrB b</td>\n",
       "      <td>1.04490</td>\n",
       "      <td>614.0</td>\n",
       "    </tr>\n",
       "    <tr>\n",
       "      <th>1149</th>\n",
       "      <td>rho CrB c</td>\n",
       "      <td>0.07866</td>\n",
       "      <td>448.0</td>\n",
       "    </tr>\n",
       "  </tbody>\n",
       "</table>\n",
       "<p>1150 rows × 3 columns</p>\n",
       "</div>"
      ],
      "text/plain": [
       "                   planetname  planetmass  temperature\n",
       "0     1RXS J160929.1-210524 b    12.00000       1700.0\n",
       "1     1RXS J160929.1-210524 b     8.00000       1700.0\n",
       "2     1RXS J160929.1-210524 b     8.00000       1800.0\n",
       "3     1RXS J160929.1-210524 b     8.00000       1800.0\n",
       "4                    2M0437 b     4.00000       1450.0\n",
       "...                       ...         ...          ...\n",
       "1145                kap And b    13.61600       1900.0\n",
       "1146                 pi Men c     0.01422       1147.0\n",
       "1147                 pi Men c     0.01517       1170.0\n",
       "1148                rho CrB b     1.04490        614.0\n",
       "1149                rho CrB c     0.07866        448.0\n",
       "\n",
       "[1150 rows x 3 columns]"
      ]
     },
     "execution_count": 105,
     "metadata": {},
     "output_type": "execute_result"
    }
   ],
   "source": [
    "df4"
   ]
  },
  {
   "cell_type": "code",
   "execution_count": 106,
   "id": "98c28e5a",
   "metadata": {},
   "outputs": [
    {
     "data": {
      "text/plain": [
       "planetname\n",
       "1RXS J160929.1-210524 b        1750.0\n",
       "2M0437 b                       1450.0\n",
       "2MASS J12073346-3932539 b      1200.0\n",
       "2MASS J21402931+1625183 A b    2075.0\n",
       "51 Eri b                        700.0\n",
       "                                ...  \n",
       "bet Pic b                      1631.0\n",
       "kap And b                      1790.0\n",
       "pi Men c                       1158.5\n",
       "rho CrB b                       614.0\n",
       "rho CrB c                       448.0\n",
       "Name: temperature, Length: 855, dtype: float64"
      ]
     },
     "execution_count": 106,
     "metadata": {},
     "output_type": "execute_result"
    }
   ],
   "source": [
    "x7 = df4.groupby('planetname')['planetmass'].mean()\n",
    "x8 = df4.groupby('planetname')['temperature'].mean()\n",
    "x8"
   ]
  },
  {
   "cell_type": "code",
   "execution_count": 107,
   "id": "6f201fb3",
   "metadata": {},
   "outputs": [
    {
     "data": {
      "text/html": [
       "<div>\n",
       "<style scoped>\n",
       "    .dataframe tbody tr th:only-of-type {\n",
       "        vertical-align: middle;\n",
       "    }\n",
       "\n",
       "    .dataframe tbody tr th {\n",
       "        vertical-align: top;\n",
       "    }\n",
       "\n",
       "    .dataframe thead th {\n",
       "        text-align: right;\n",
       "    }\n",
       "</style>\n",
       "<table border=\"1\" class=\"dataframe\">\n",
       "  <thead>\n",
       "    <tr style=\"text-align: right;\">\n",
       "      <th></th>\n",
       "      <th>planetmass</th>\n",
       "      <th>temperature</th>\n",
       "    </tr>\n",
       "    <tr>\n",
       "      <th>planetname</th>\n",
       "      <th></th>\n",
       "      <th></th>\n",
       "    </tr>\n",
       "  </thead>\n",
       "  <tbody>\n",
       "    <tr>\n",
       "      <th>1RXS J160929.1-210524 b</th>\n",
       "      <td>9.000000</td>\n",
       "      <td>1750.0</td>\n",
       "    </tr>\n",
       "    <tr>\n",
       "      <th>2M0437 b</th>\n",
       "      <td>4.000000</td>\n",
       "      <td>1450.0</td>\n",
       "    </tr>\n",
       "    <tr>\n",
       "      <th>2MASS J12073346-3932539 b</th>\n",
       "      <td>4.500000</td>\n",
       "      <td>1200.0</td>\n",
       "    </tr>\n",
       "    <tr>\n",
       "      <th>2MASS J21402931+1625183 A b</th>\n",
       "      <td>20.950000</td>\n",
       "      <td>2075.0</td>\n",
       "    </tr>\n",
       "    <tr>\n",
       "      <th>51 Eri b</th>\n",
       "      <td>2.000000</td>\n",
       "      <td>700.0</td>\n",
       "    </tr>\n",
       "    <tr>\n",
       "      <th>...</th>\n",
       "      <td>...</td>\n",
       "      <td>...</td>\n",
       "    </tr>\n",
       "    <tr>\n",
       "      <th>bet Pic b</th>\n",
       "      <td>13.500000</td>\n",
       "      <td>1631.0</td>\n",
       "    </tr>\n",
       "    <tr>\n",
       "      <th>kap And b</th>\n",
       "      <td>13.208000</td>\n",
       "      <td>1790.0</td>\n",
       "    </tr>\n",
       "    <tr>\n",
       "      <th>pi Men c</th>\n",
       "      <td>0.014695</td>\n",
       "      <td>1158.5</td>\n",
       "    </tr>\n",
       "    <tr>\n",
       "      <th>rho CrB b</th>\n",
       "      <td>1.044900</td>\n",
       "      <td>614.0</td>\n",
       "    </tr>\n",
       "    <tr>\n",
       "      <th>rho CrB c</th>\n",
       "      <td>0.078660</td>\n",
       "      <td>448.0</td>\n",
       "    </tr>\n",
       "  </tbody>\n",
       "</table>\n",
       "<p>855 rows × 2 columns</p>\n",
       "</div>"
      ],
      "text/plain": [
       "                             planetmass  temperature\n",
       "planetname                                          \n",
       "1RXS J160929.1-210524 b        9.000000       1750.0\n",
       "2M0437 b                       4.000000       1450.0\n",
       "2MASS J12073346-3932539 b      4.500000       1200.0\n",
       "2MASS J21402931+1625183 A b   20.950000       2075.0\n",
       "51 Eri b                       2.000000        700.0\n",
       "...                                 ...          ...\n",
       "bet Pic b                     13.500000       1631.0\n",
       "kap And b                     13.208000       1790.0\n",
       "pi Men c                       0.014695       1158.5\n",
       "rho CrB b                      1.044900        614.0\n",
       "rho CrB c                      0.078660        448.0\n",
       "\n",
       "[855 rows x 2 columns]"
      ]
     },
     "execution_count": 107,
     "metadata": {},
     "output_type": "execute_result"
    }
   ],
   "source": [
    "df5 = pd.concat([x7, x8], axis = 1)\n",
    "df5"
   ]
  },
  {
   "cell_type": "code",
   "execution_count": 108,
   "id": "a887eed9",
   "metadata": {},
   "outputs": [
    {
     "name": "stdout",
     "output_type": "stream",
     "text": [
      "\n",
      "The median of the planet mass: 0.58\n",
      "\n",
      "The median of the temperature: 1192.00\n",
      "\n",
      "The interquartile range of the planet mass: 1.35\n",
      "\n",
      "The interquartile range of the temperature: 914.50\n",
      "1.6814424873294347\n"
     ]
    }
   ],
   "source": [
    "mass = df5['planetmass']\n",
    "temp = df5['temperature']\n",
    "mass_med = statistics.median(list(mass))\n",
    "temp_med = statistics.median(list(temp))\n",
    "print('\\nThe median of the planet mass: %.2f' % mass_med)\n",
    "print('\\nThe median of the temperature: %.2f' % temp_med)\n",
    "iqr_mass = stats.iqr(mass, interpolation = 'midpoint')\n",
    "iqr_temp = stats.iqr(temp, interpolation = 'midpoint')\n",
    "print('\\nThe interquartile range of the planet mass: %.2f' % iqr_mass)\n",
    "print('\\nThe interquartile range of the temperature: %.2f' % iqr_temp)\n",
    "print(statistics.mean(list(mass)))"
   ]
  },
  {
   "cell_type": "code",
   "execution_count": 109,
   "id": "c4ff030c",
   "metadata": {},
   "outputs": [
    {
     "data": {
      "text/plain": [
       "(array([0.2896774 , 0.02105327, 0.00740763, 0.00506838, 0.00389875,\n",
       "        0.00233925, 0.0015595 , 0.00116963, 0.00077975, 0.00038988]),\n",
       " array([9.1000000e-04, 3.0008190e+00, 6.0007280e+00, 9.0006370e+00,\n",
       "        1.2000546e+01, 1.5000455e+01, 1.8000364e+01, 2.1000273e+01,\n",
       "        2.4000182e+01, 2.7000091e+01, 3.0000000e+01]),\n",
       " <BarContainer object of 10 artists>)"
      ]
     },
     "execution_count": 109,
     "metadata": {},
     "output_type": "execute_result"
    },
    {
     "data": {
      "image/png": "[encoded data removed]",
      "text/plain": [
       "<Figure size 432x288 with 1 Axes>"
      ]
     },
     "metadata": {
      "needs_background": "light"
     },
     "output_type": "display_data"
    }
   ],
   "source": [
    "plt.hist(df5.planetmass, density = True, color = \"darkorange\")"
   ]
  },
  {
   "cell_type": "code",
   "execution_count": 110,
   "id": "3d98cff0",
   "metadata": {},
   "outputs": [
    {
     "data": {
      "text/plain": [
       "(array([ 99., 170., 180., 214., 128.,  45.,  16.,   0.,   2.,   1.]),\n",
       " array([  50.,  450.,  850., 1250., 1650., 2050., 2450., 2850., 3250.,\n",
       "        3650., 4050.]),\n",
       " <BarContainer object of 10 artists>)"
      ]
     },
     "execution_count": 110,
     "metadata": {},
     "output_type": "execute_result"
    },
    {
     "data": {
      "image/png": "[encoded data removed]",
      "text/plain": [
       "<Figure size 432x288 with 1 Axes>"
      ]
     },
     "metadata": {
      "needs_background": "light"
     },
     "output_type": "display_data"
    }
   ],
   "source": [
    "plt.hist(df5.temperature, color = \"navy\")"
   ]
  },
  {
   "cell_type": "markdown",
   "id": "cc630188",
   "metadata": {},
   "source": [
    "Note that the trend in this distribution is not as skewed as the other metrics. That is, it more closely resembles a normal distribution."
   ]
  },
  {
   "cell_type": "code",
   "execution_count": 111,
   "id": "dc7b97ab",
   "metadata": {},
   "outputs": [],
   "source": [
    "x9 = df5[['planetmass', 'temperature']]"
   ]
  },
  {
   "cell_type": "code",
   "execution_count": 112,
   "id": "cde23811",
   "metadata": {},
   "outputs": [
    {
     "data": {
      "text/html": [
       "<div>\n",
       "<style scoped>\n",
       "    .dataframe tbody tr th:only-of-type {\n",
       "        vertical-align: middle;\n",
       "    }\n",
       "\n",
       "    .dataframe tbody tr th {\n",
       "        vertical-align: top;\n",
       "    }\n",
       "\n",
       "    .dataframe thead th {\n",
       "        text-align: right;\n",
       "    }\n",
       "</style>\n",
       "<table border=\"1\" class=\"dataframe\">\n",
       "  <thead>\n",
       "    <tr style=\"text-align: right;\">\n",
       "      <th></th>\n",
       "      <th>planetmass</th>\n",
       "      <th>temperature</th>\n",
       "    </tr>\n",
       "    <tr>\n",
       "      <th>planetname</th>\n",
       "      <th></th>\n",
       "      <th></th>\n",
       "    </tr>\n",
       "  </thead>\n",
       "  <tbody>\n",
       "    <tr>\n",
       "      <th>1RXS J160929.1-210524 b</th>\n",
       "      <td>9.000000</td>\n",
       "      <td>1750.0</td>\n",
       "    </tr>\n",
       "    <tr>\n",
       "      <th>2M0437 b</th>\n",
       "      <td>4.000000</td>\n",
       "      <td>1450.0</td>\n",
       "    </tr>\n",
       "    <tr>\n",
       "      <th>2MASS J12073346-3932539 b</th>\n",
       "      <td>4.500000</td>\n",
       "      <td>1200.0</td>\n",
       "    </tr>\n",
       "    <tr>\n",
       "      <th>2MASS J21402931+1625183 A b</th>\n",
       "      <td>20.950000</td>\n",
       "      <td>2075.0</td>\n",
       "    </tr>\n",
       "    <tr>\n",
       "      <th>51 Eri b</th>\n",
       "      <td>2.000000</td>\n",
       "      <td>700.0</td>\n",
       "    </tr>\n",
       "    <tr>\n",
       "      <th>...</th>\n",
       "      <td>...</td>\n",
       "      <td>...</td>\n",
       "    </tr>\n",
       "    <tr>\n",
       "      <th>bet Pic b</th>\n",
       "      <td>13.500000</td>\n",
       "      <td>1631.0</td>\n",
       "    </tr>\n",
       "    <tr>\n",
       "      <th>kap And b</th>\n",
       "      <td>13.208000</td>\n",
       "      <td>1790.0</td>\n",
       "    </tr>\n",
       "    <tr>\n",
       "      <th>pi Men c</th>\n",
       "      <td>0.014695</td>\n",
       "      <td>1158.5</td>\n",
       "    </tr>\n",
       "    <tr>\n",
       "      <th>rho CrB b</th>\n",
       "      <td>1.044900</td>\n",
       "      <td>614.0</td>\n",
       "    </tr>\n",
       "    <tr>\n",
       "      <th>rho CrB c</th>\n",
       "      <td>0.078660</td>\n",
       "      <td>448.0</td>\n",
       "    </tr>\n",
       "  </tbody>\n",
       "</table>\n",
       "<p>855 rows × 2 columns</p>\n",
       "</div>"
      ],
      "text/plain": [
       "                             planetmass  temperature\n",
       "planetname                                          \n",
       "1RXS J160929.1-210524 b        9.000000       1750.0\n",
       "2M0437 b                       4.000000       1450.0\n",
       "2MASS J12073346-3932539 b      4.500000       1200.0\n",
       "2MASS J21402931+1625183 A b   20.950000       2075.0\n",
       "51 Eri b                       2.000000        700.0\n",
       "...                                 ...          ...\n",
       "bet Pic b                     13.500000       1631.0\n",
       "kap And b                     13.208000       1790.0\n",
       "pi Men c                       0.014695       1158.5\n",
       "rho CrB b                      1.044900        614.0\n",
       "rho CrB c                      0.078660        448.0\n",
       "\n",
       "[855 rows x 2 columns]"
      ]
     },
     "execution_count": 112,
     "metadata": {},
     "output_type": "execute_result"
    }
   ],
   "source": [
    "x9"
   ]
  },
  {
   "cell_type": "code",
   "execution_count": 113,
   "id": "ca4c3fba",
   "metadata": {},
   "outputs": [
    {
     "name": "stdout",
     "output_type": "stream",
     "text": [
      "<class 'numpy.ndarray'>\n"
     ]
    },
    {
     "data": {
      "text/plain": [
       "855"
      ]
     },
     "execution_count": 113,
     "metadata": {},
     "output_type": "execute_result"
    }
   ],
   "source": [
    "rs2 = RobustScaler().fit(x9)\n",
    "transformer2 = rs2.transform(x9)\n",
    "print(type(transformer2))\n",
    "len(transformer2)"
   ]
  },
  {
   "cell_type": "code",
   "execution_count": 114,
   "id": "0e2c65d8",
   "metadata": {},
   "outputs": [],
   "source": [
    "x10 = transformer2[:, 0]\n",
    "y2 = transformer2[:, 1]"
   ]
  },
  {
   "cell_type": "code",
   "execution_count": 115,
   "id": "9033cbdf",
   "metadata": {},
   "outputs": [],
   "source": [
    "x_train2, x_test2 = tts(x10)\n",
    "y_train2, y_test2 = tts(y2)"
   ]
  },
  {
   "cell_type": "code",
   "execution_count": 116,
   "id": "b8635f51",
   "metadata": {},
   "outputs": [
    {
     "data": {
      "text/plain": [
       "numpy.ndarray"
      ]
     },
     "execution_count": 116,
     "metadata": {},
     "output_type": "execute_result"
    }
   ],
   "source": [
    "type(x_train2)"
   ]
  },
  {
   "cell_type": "code",
   "execution_count": 117,
   "id": "20917550",
   "metadata": {},
   "outputs": [
    {
     "data": {
      "text/plain": [
       "<matplotlib.collections.PathCollection at 0x1c3b114a430>"
      ]
     },
     "execution_count": 117,
     "metadata": {},
     "output_type": "execute_result"
    },
    {
     "data": {
      "image/png": "[encoded data removed]",
      "text/plain": [
       "<Figure size 432x288 with 1 Axes>"
      ]
     },
     "metadata": {
      "needs_background": "light"
     },
     "output_type": "display_data"
    }
   ],
   "source": [
    "plt.scatter(x9.planetmass, x9.temperature, c = 'darkorange')"
   ]
  },
  {
   "cell_type": "markdown",
   "id": "f2521c14",
   "metadata": {},
   "source": [
    "Need to convert the above from Pandas dataframes to numpy ndarrays for the Random Prediction Algorithm."
   ]
  },
  {
   "cell_type": "code",
   "execution_count": 118,
   "id": "9487a7d9",
   "metadata": {},
   "outputs": [],
   "source": [
    "#x_train2.to_numpy\n",
    "#x_test2.to_numpy\n",
    "#y_train2.to_numpy\n",
    "#y_test2.to_numpy"
   ]
  },
  {
   "cell_type": "code",
   "execution_count": 119,
   "id": "93847624",
   "metadata": {},
   "outputs": [
    {
     "name": "stdout",
     "output_type": "stream",
     "text": [
      "[0.4953526517222526, -0.7337342810278841, 0.28430836522689995, -0.8693275013668671, -0.9261891744122471, 0.6003280481137233, 0.22525970475669765, 0.4920721705850191, 0.9414980863860033, 0.8594860579551667, -0.6681246582832149, 0.4723892837616184, 0.9786768726079825, 0.3805358119190815, -0.7337342810278841, 0.42536905412793874, -0.5817386550027337, -0.7091306724986332, -0.3236741388737015, 1.3756150902132314, -0.31492618917441223, -0.6582832148715145, 1.2881355932203389, -0.48004373974849646, 0.42099507927829416, -0.9294696555494806, 0.055768179332968834, 0.7096774193548387, -0.20120284308365227, 0.6160014579916164, 0.1530891197375615, -0.8419901585565883, -1.0814652815746308, 0.3074539821396028, 0.27665390924002187, 0.15144887916894478, -0.3980317113176599, -0.6856205576817933, 1.4849644614543467, -0.34554401312192456, -0.7960634226353198, 1.039912520503007, 0.29305631492618917, -0.013121924548933843, -0.39475123018042646, 0.2897758337889557, -0.01530891197375615, -0.7916894477856752, 0.4151631128121014, -0.8988518316019682, -0.7884089666484417, 0.008747949699289229, 0.2992527792965191, 0.008747949699289229, -0.3652268999453253, 1.1689447785675233, -0.9152542372881356, 0.4308365226899945, 0.22525970475669765, -0.868234007654456, 0.4953526517222526, 0.8864589028613087, 1.0109349371241116, -0.4855112083105522, -0.03280481137233461, -1.1011481683980318, -0.4931656642974303, -0.3652268999453253, 0.4384909786768726, -1.0333515582285402, -1.2487698195735375, 0.008966648441771509, -1.1252050300710772, -0.33570256971022416, 0.533260433752506, -0.33460907599781303, 1.3302351011481683, 0.5292509568069984, -0.4002186987424822, -0.7020229633679607, 0.5992345544013122, 0.20448332422088572, 0.3138326954620011, 0.5347184253690541, -1.0082012028430836, 0.6652086750501184, 1.0278840896664845, -0.7556041552761071, 0.16730453799890652, -0.4002186987424822, 0.9502460360852925, -0.6856205576817933, -0.7895024603608529, -0.8890103881902679, 0.6200109349371241, -0.6331328594860579, 0.5434663750683434, 0.18261344997266266, -0.9928922908693275, 0.4505194095133953, 0.4308365226899945, -0.15527610716238383, 0.839803171131766, 1.0109349371241116, -0.2427556041552761, 0.4308365226899945, 0.4488791689447786, -0.7184253690541279, 0.4723892837616184, -0.4395844723892838, 0.48441771459814104, 0.1607435757244396, -0.655002733734281, -0.034991798797156914, 0.3043557499544377, -1.110989611809732, -0.056861673045379986, 0.3805358119190815, 0.5500273373428103, 1.0585019136139968, 0.4034991798797157, 1.0913067249863313, -0.4953526517222526, 0.2427556041552761, -1.1448879168944779, 0.6200109349371241, 0.5664297430289775, -0.3652268999453253, 0.19464188080918535, 0.29196282121377803, -0.8523783488244943, -0.3706943685073811, 0.13121924548933844, 0.555494805904866, -0.5161290322580645, -0.4002186987424822, 0.5172225259704757, -0.661563696008748, 1.1875341716785128, -0.0634226353198469, 0.42099507927829416, -0.7446692181519956, -0.918534718425369, 0.4669218151995626, 0.47020229633679606, 0.2099507927829415, 0.3652268999453253, -0.07873154729360306, 0.23182066703116458, 0.5866593767085839, -0.3444505194095134, 0.008966648441771509, -0.8791689447785676, 0.16183706943685075, 0.15144887916894478, -0.13012575177692728, -0.4395844723892838, -0.034991798797156914, -0.8649535265172226, -1.0639693821760525, -0.25915800984144344, -0.03389830508474576, 0.34226353198469106, -0.24822307271733188, 1.2433023510114818, 0.2427556041552761, 0.6735921268452706, -0.6528157463094587, -0.6582832148715145, -0.5642427556041553, 0.8594860579551667]\n"
     ]
    }
   ],
   "source": [
    "#predictions2 = random_algorithm([x_train2], [x_test2])\n",
    "predictions2 = the_real_random_algo(y_train2, y_test2)\n",
    "#predictions2 = random_algorithm([x_train2, y_train2], [x_test2, y_test2])\n",
    "print(predictions2)"
   ]
  },
  {
   "cell_type": "code",
   "execution_count": null,
   "id": "2cb55062",
   "metadata": {},
   "outputs": [],
   "source": []
  },
  {
   "cell_type": "code",
   "execution_count": 120,
   "id": "cf9ef0ef",
   "metadata": {},
   "outputs": [
    {
     "name": "stdout",
     "output_type": "stream",
     "text": [
      "\n",
      "Training x2 shape:  (684, 1)\n",
      "Training y2 shape:  (684, 1)\n",
      "Test x2 shape:  (171, 1)\n",
      "Test y2 shape:  (171, 1)\n"
     ]
    }
   ],
   "source": [
    "x_train2, y_train2 = pd.DataFrame(x_train2), pd.DataFrame(y_train2)\n",
    "x_test2, y_test2 = pd.DataFrame(x_test2), pd.DataFrame(y_test2)\n",
    "print('\\nTraining x2 shape: ', x_train2.shape)\n",
    "print('Training y2 shape: ', y_train2.shape)\n",
    "print('Test x2 shape: ', x_test2.shape)\n",
    "print('Test y2 shape: ', y_test2.shape)"
   ]
  },
  {
   "cell_type": "code",
   "execution_count": 121,
   "id": "b9edb1a8",
   "metadata": {},
   "outputs": [
    {
     "name": "stdout",
     "output_type": "stream",
     "text": [
      "     k  Test Score  Train Score\n",
      "0    1   -1.205766     0.780466\n",
      "1    2   -0.595845     0.478536\n",
      "2    3   -0.368213     0.295185\n",
      "3    4   -0.265730     0.208154\n",
      "4    5   -0.282119     0.164389\n",
      "5    6   -0.273346     0.127632\n",
      "6    7   -0.262001     0.120087\n",
      "7    8   -0.210585     0.095028\n",
      "8    9   -0.156664     0.097436\n",
      "9   10   -0.077781     0.086426\n",
      "10  11   -0.075158     0.083196\n",
      "11  12   -0.061698     0.070604\n",
      "12  13   -0.076483     0.058627\n",
      "13  14   -0.066278     0.059908\n",
      "14  15   -0.077387     0.052267\n",
      "15  16   -0.069560     0.055340\n",
      "16  17   -0.062415     0.053478\n",
      "17  18   -0.062628     0.046156\n",
      "18  19   -0.058909     0.044356\n",
      "19  20   -0.047323     0.038323\n",
      "20  21   -0.051108     0.037126\n",
      "21  22   -0.053170     0.035275\n",
      "22  23   -0.053001     0.034705\n",
      "23  24   -0.050601     0.035552\n",
      "24  25   -0.034774     0.038154\n",
      "25  26   -0.040550     0.031677\n",
      "26  27   -0.039291     0.030265\n",
      "27  28   -0.038263     0.022024\n",
      "28  29   -0.045544     0.022983\n",
      "29  30   -0.036217     0.023374\n",
      "30  31   -0.032196     0.022616\n",
      "31  32   -0.031751     0.015993\n",
      "32  33   -0.028865     0.019716\n",
      "33  34   -0.029665     0.016305\n",
      "34  35   -0.023923     0.014725\n",
      "35  36   -0.028538     0.014675\n",
      "36  37   -0.029000     0.013951\n",
      "37  38   -0.031105     0.015250\n",
      "38  39   -0.034950     0.012273\n",
      "39  40   -0.031921     0.013083\n",
      "40  41   -0.029351     0.013851\n",
      "41  42   -0.022001     0.010434\n",
      "42  43   -0.026392     0.009709\n",
      "43  44   -0.020369     0.011195\n",
      "44  45   -0.019004     0.008884\n",
      "45  46   -0.015846     0.007013\n",
      "46  47   -0.019176     0.004558\n",
      "47  48   -0.021298     0.002968\n",
      "48  49   -0.016581     0.002256\n",
      "49  50   -0.014480     0.001954\n",
      "50  51   -0.008967     0.004819\n",
      "51  52   -0.007701     0.003518\n",
      "52  53   -0.011584     0.004063\n",
      "53  54   -0.005998     0.001926\n",
      "54  55   -0.005551     0.002175\n",
      "55  56    0.001228     0.003739\n",
      "56  57    0.000169     0.002071\n",
      "57  58    0.001493     0.002302\n",
      "58  59    0.000989     0.002806\n",
      "0.001493310840475326\n"
     ]
    }
   ],
   "source": [
    "knn_r_acc2 = []\n",
    "for n in range(1, 60, 1):\n",
    "    knn2 = KNeighborsRegressor(n_neighbors = n)\n",
    "    knn2.fit(x_train2, y_train2)\n",
    "    \n",
    "    test_score2 = knn2.score(x_test2, y_test2)\n",
    "    train_score2 = knn2.score(x_train2, y_train2)\n",
    "    \n",
    "    knn_r_acc2.append((n, test_score2, train_score2))\n",
    "   \n",
    "outcome = pd.DataFrame(knn_r_acc2, columns = ['k', 'Test Score', 'Train Score'])\n",
    "print(outcome)\n",
    "print(outcome.iloc[:,1].max())"
   ]
  },
  {
   "cell_type": "markdown",
   "id": "82553c4e",
   "metadata": {},
   "source": [
    "The maximum test score for this kNN model occurs when k = 15.\n",
    "Will not create the second kNN model to help describe the relationship betweeen mass and temperature."
   ]
  },
  {
   "cell_type": "code",
   "execution_count": 122,
   "id": "a0f3794e",
   "metadata": {},
   "outputs": [],
   "source": [
    "model_knn2 = KNeighborsRegressor(n_neighbors = 15)\n",
    "model_knn2.fit(x_train2, y_train2)\n",
    "y_knn_train_pred2 = model_knn2.predict(x_train2)\n",
    "y_knn_test_pred2 = model_knn2.predict(x_test2)"
   ]
  },
  {
   "cell_type": "code",
   "execution_count": 123,
   "id": "7bf723ce",
   "metadata": {},
   "outputs": [
    {
     "name": "stdout",
     "output_type": "stream",
     "text": [
      "               Method Training MSE Training R2  Test MSE   Test R2\n",
      "0  k Nearest Neighbor     0.811922    0.022385  0.669317 -0.053437\n",
      "1                 SVR     1.091002   -0.111827  1.176758 -0.094596\n",
      "2       Random Forest     0.963474    0.018135  1.062314  0.011857\n"
     ]
    }
   ],
   "source": [
    "knn_train_mse_2 = mean_squared_error(y_train2, y_knn_train_pred2)\n",
    "knn_train_r2_2 = r2_score(y_train2, y_knn_train_pred2)\n",
    "# Now, test mean square and r2 score.\n",
    "knn_test_mse_2 = mean_squared_error(y_test2, y_knn_test_pred2)\n",
    "knn_test_r2_2 = r2_score(y_test2, y_knn_test_pred2)\n",
    "# Consolidate the results.\n",
    "knn_results2 = pd.DataFrame(['k Nearest Neighbor', knn_train_mse_2, knn_train_r2_2, knn_test_mse_2, knn_test_r2_2]).transpose()\n",
    "results3 = pd.DataFrame()\n",
    "results3 = pd.concat([results3, knn_results2])\n",
    "print(results2)"
   ]
  },
  {
   "cell_type": "code",
   "execution_count": 124,
   "id": "94e3bf8a",
   "metadata": {},
   "outputs": [
    {
     "data": {
      "image/png": "[encoded data removed]",
      "text/plain": [
       "<Figure size 576x576 with 1 Axes>"
      ]
     },
     "metadata": {
      "needs_background": "light"
     },
     "output_type": "display_data"
    }
   ],
   "source": [
    "true_values2 = y_test2\n",
    "predicted_values2 = y_knn_test_pred2\n",
    "plot2 = plt.figure(figsize=(8,8))\n",
    "plot2 =plt.scatter(true_values2, predicted_values2, c = 'lime')\n",
    "\n",
    "residuals2 = true_values2 - predicted_values2\n",
    "plot2 = plt.scatter(true_values2, residuals2)\n",
    "\n",
    "plt.axis('equal')\n",
    "plt.show(plot2)"
   ]
  },
  {
   "cell_type": "code",
   "execution_count": 125,
   "id": "21348067",
   "metadata": {},
   "outputs": [
    {
     "data": {
      "text/plain": [
       "(171, 1)"
      ]
     },
     "execution_count": 125,
     "metadata": {},
     "output_type": "execute_result"
    }
   ],
   "source": [
    "residuals2.shape"
   ]
  },
  {
   "cell_type": "markdown",
   "id": "a95e395c",
   "metadata": {},
   "source": [
    "Notice no pattern so model does describe the data."
   ]
  },
  {
   "cell_type": "code",
   "execution_count": 126,
   "id": "9527c14f",
   "metadata": {},
   "outputs": [],
   "source": [
    "w5 = x9.iloc[:, 0:1].values\n",
    "w6 = x9.iloc[:, 1:2].values\n",
    "sc2_X = StandardScaler()\n",
    "sc2_y = StandardScaler()\n",
    "w7 = sc2_X.fit_transform(w5)\n",
    "w8 = sc2_y.fit_transform(w6)\n",
    "w3_train, w3_test = tts(w7)\n",
    "w4_train, w4_test = tts(w7)"
   ]
  },
  {
   "cell_type": "code",
   "execution_count": 127,
   "id": "e7d72ea7",
   "metadata": {},
   "outputs": [
    {
     "data": {
      "text/plain": [
       "numpy.ndarray"
      ]
     },
     "execution_count": 127,
     "metadata": {},
     "output_type": "execute_result"
    }
   ],
   "source": [
    "type(w3_train)"
   ]
  },
  {
   "cell_type": "code",
   "execution_count": 128,
   "id": "a3fc0021",
   "metadata": {},
   "outputs": [
    {
     "name": "stderr",
     "output_type": "stream",
     "text": [
      "c:\\users\\joepb\\miniconda3\\lib\\site-packages\\sklearn\\utils\\validation.py:993: DataConversionWarning: A column-vector y was passed when a 1d array was expected. Please change the shape of y to (n_samples, ), for example using ravel().\n",
      "  y = column_or_1d(y, warn=True)\n"
     ]
    }
   ],
   "source": [
    "regressor2 = SVR(kernel = 'rbf')\n",
    "regressor2.fit(w3_train, w4_train)\n",
    "y_svr_train_pred2 = regressor2.predict(w3_train)\n",
    "y_svr_test_pred2 = regressor2.predict(w3_test)\n",
    "# Model performance\n",
    "svr_train_mse_2 = mean_squared_error(w4_train, y_svr_train_pred2)\n",
    "svr_train_r2_2 = r2_score(w4_train, y_svr_train_pred2)\n",
    "# Test results\n",
    "svr_test_mse_2 = mean_squared_error(w4_test, y_svr_test_pred2)\n",
    "svr_test_r2_2 = r2_score(w4_test, y_svr_test_pred2)\n",
    "# Consolidate the results.\n",
    "#svr_results = pd.DataFrame(['SVR', svr_train_mse, svr_train_r2, svr_test_mse, svr_test_r2]).T\n",
    "svr_results2 = pd.DataFrame(['SVR', svr_train_mse_2, svr_train_r2_2, svr_test_mse_2, svr_test_r2_2])\n",
    "#results2 = pd.concat([knn_results, svr_results.T], ignore_index = False)\n",
    "#print(results2)"
   ]
  },
  {
   "cell_type": "code",
   "execution_count": 129,
   "id": "922a37d7",
   "metadata": {},
   "outputs": [
    {
     "data": {
      "text/html": [
       "<div>\n",
       "<style scoped>\n",
       "    .dataframe tbody tr th:only-of-type {\n",
       "        vertical-align: middle;\n",
       "    }\n",
       "\n",
       "    .dataframe tbody tr th {\n",
       "        vertical-align: top;\n",
       "    }\n",
       "\n",
       "    .dataframe thead th {\n",
       "        text-align: right;\n",
       "    }\n",
       "</style>\n",
       "<table border=\"1\" class=\"dataframe\">\n",
       "  <thead>\n",
       "    <tr style=\"text-align: right;\">\n",
       "      <th></th>\n",
       "      <th>Method</th>\n",
       "      <th>Training MSE</th>\n",
       "      <th>Training R2</th>\n",
       "      <th>Test MSE</th>\n",
       "      <th>Test R2</th>\n",
       "    </tr>\n",
       "  </thead>\n",
       "  <tbody>\n",
       "    <tr>\n",
       "      <th>0</th>\n",
       "      <td>k Nearest Neighbor</td>\n",
       "      <td>0.4091</td>\n",
       "      <td>0.052267</td>\n",
       "      <td>0.402588</td>\n",
       "      <td>-0.077387</td>\n",
       "    </tr>\n",
       "    <tr>\n",
       "      <th>1</th>\n",
       "      <td>SVR</td>\n",
       "      <td>1.091002</td>\n",
       "      <td>-0.111827</td>\n",
       "      <td>1.176758</td>\n",
       "      <td>-0.094596</td>\n",
       "    </tr>\n",
       "  </tbody>\n",
       "</table>\n",
       "</div>"
      ],
      "text/plain": [
       "               Method Training MSE Training R2  Test MSE   Test R2\n",
       "0  k Nearest Neighbor       0.4091    0.052267  0.402588 -0.077387\n",
       "1                 SVR     1.091002   -0.111827  1.176758 -0.094596"
      ]
     },
     "execution_count": 129,
     "metadata": {},
     "output_type": "execute_result"
    }
   ],
   "source": [
    "results3 = pd.concat([knn_results2,svr_results.T], ignore_index = True)\n",
    "results3.columns = ['Method', 'Training MSE', 'Training R2', 'Test MSE', 'Test R2']\n",
    "results3"
   ]
  },
  {
   "cell_type": "markdown",
   "id": "fbf806fb",
   "metadata": {},
   "source": [
    "Now to add the Random Forest Regressor."
   ]
  },
  {
   "cell_type": "code",
   "execution_count": 130,
   "id": "2b85a31d",
   "metadata": {},
   "outputs": [
    {
     "name": "stderr",
     "output_type": "stream",
     "text": [
      "C:\\Users\\joepb\\AppData\\Local\\Temp\\ipykernel_3728\\3546261006.py:2: DataConversionWarning: A column-vector y was passed when a 1d array was expected. Please change the shape of y to (n_samples,), for example using ravel().\n",
      "  rf2.fit(w3_train, w4_train)\n"
     ]
    }
   ],
   "source": [
    "rf2 = RandomForestRegressor(max_depth=2)\n",
    "rf2.fit(w3_train, w4_train)\n",
    "y_rf_train_pred2 = rf2.predict(w3_train)\n",
    "y_rf_test_pred2 = rf2.predict(w3_test)"
   ]
  },
  {
   "cell_type": "code",
   "execution_count": 131,
   "id": "382da92e",
   "metadata": {},
   "outputs": [
    {
     "name": "stdout",
     "output_type": "stream",
     "text": [
      "[-0.457556457045124, -0.4725142274694349, -0.4639876720029691, -0.4774422633667478, -0.462154249057926, -0.2184855070296112, -0.371650343121717, -0.31898213740231257, -0.19969576877295883, -0.3101566542817638, -0.22294569742386705, -0.47669636769655943, -0.46651289894746156, 0.6800056132430394, -0.47709636136702305, -0.476531245754304, -0.19969576877295883, 0.09069109519348717, -0.1446551213544822, -0.181219192820584, -0.3961339414561429, -0.40467473157280304, -0.4755106213353631, -0.46474495539331295, 0.34122093861551894, 2.47926539781945, 1.7276758675533543, -0.4782052406171694, -0.4751561785455217, -0.3332167875967463, 3.193844837580018, -0.4634666838058528, -0.3938563974250335, -0.4756942483228713, -0.47698675456052586, -0.4511053135770066, -0.4727562165227402, -0.4738551315177505, -0.47599886983703216, -0.18916212762907797, -0.4752017294261439, 0.1649959692084306, -0.32780762052286144, -0.460243959001833, -0.26916086172179493, -0.3258147694956407, -0.2318660782123788, -0.2922209950367774, -0.3806181727442102, -0.18916212762907797, -0.29279038104455474, -0.2566343695506933, 2.282827225136266, -0.4774422633667478, -0.17663563545797636, -0.1883080486174119, -0.26802208970624025, 4.83557449333803, -0.2705843267412383, 1.087116608803841, -0.18916212762907797, -0.30417810120010164, -0.24923235144958783, -0.3730738081411604, -0.4751106276648995, -0.3102515519497267, -0.46382539699075254, -0.47318610295861213, -0.4751917651710078, -0.12050366485792642, -0.1285225178007907, 0.20456829674895616, -0.4686025455960045, -0.47045305012128086, -0.47123310895193576, -0.47233487087698495, 0.13937359885845013, -0.4095145126389105, 1.098504328959388, -0.39471047643669954, 3.7917001457462303, -0.34773613079506854, -0.23955278931737298, -0.47224661604577944, -0.026033036400868553, -0.4583621382461289, -0.29022814400955665, 0.8878315060817703, 3.1369062368022833, -0.20126158029434654, 0.13690625949141497, -0.15376529747891965, -0.23300485022793352, 0.4740776737635661, -0.11428786760635705, -0.29763016211066223, -0.15699181818965796, -0.42317977682556673, -0.47761023223904203, 4.83557449333803, -0.322113760445088, -0.4498526643598965, 1.087116608803841, 0.07417890096794415, -0.22816506916182608, -0.4473786821561039, -0.4719676169019686, -0.2888046789901133, -0.12425212274246057, -0.4718879028608797, -0.21079879592461706, -0.2888046789901133, -0.27627818681901173, 0.9447701068595048, -0.40040433651447294, -0.37848297521504515, -0.22958853418126945, 1.7077473572811472, -0.47698675456052586, 0.46876340435764424, -0.47009718386642, -0.46993490885420347, -0.47843584195031924, -0.47403733504023926, -0.20951767740711802, 1.098504328959388, -0.3289463925384162, -0.05621049481306787, 0.34122093861551894, -0.47749350810744773, -0.22531813912293935, 0.8565152756540162, -0.4552077397630424, -0.3004770921495489, -0.26916086172179493, -0.4762750220508042, 0.5405060413375898, 0.7511788642152076, -0.21649265600239048, -0.47808566955553616, -0.048808476711962374, -0.22588752513071672, -0.05621049481306787, -0.12346921698176677, 3.2815302827777293, -0.4686053925260434, -0.23385892923959953, -0.4661541857625619, -0.3505830608339553, -0.13080006183190007, -0.2875235604726143, -0.11685010464135515, -0.2587695670798584, -0.4607791818491438, -0.27940980986178715, -0.45576289112062535, 1.2009938103593103, -0.16297037127132008, -0.4657954725776622, -0.4779347822634752, -0.31698928637509194, -0.4700060821051756, -0.16837953834520483, 0.14762969597122172, -0.4550483116808648, -0.17777440747353104, -0.35399937688061933, -0.041975844618634295, 0.017335197858172592, -0.4710784257531563, -0.4727562165227402]\n"
     ]
    }
   ],
   "source": [
    "some_prediction = random_algorithm(w3_train, w3_test)\n",
    "print(some_prediction)"
   ]
  },
  {
   "cell_type": "code",
   "execution_count": 132,
   "id": "a2b19fae",
   "metadata": {},
   "outputs": [
    {
     "name": "stdout",
     "output_type": "stream",
     "text": [
      "-0.7903680467805392\n"
     ]
    }
   ],
   "source": [
    "some_r2 = r2_score(w3_test, some_prediction)\n",
    "print(some_r2)"
   ]
  },
  {
   "cell_type": "code",
   "execution_count": 133,
   "id": "1eaaddaa",
   "metadata": {},
   "outputs": [],
   "source": [
    "# Model performance metrics for random forest model.\n",
    "rf2_train_mse = mean_squared_error(w4_train, y_rf_train_pred2)\n",
    "rf2_train_r2 = r2_score(w4_train, y_rf_train_pred2)\n",
    "rf2_test_mse = mean_squared_error(w4_test, y_rf_test_pred2)\n",
    "rf2_test_r2 = r2_score(w4_test, y_rf_test_pred2)"
   ]
  },
  {
   "cell_type": "code",
   "execution_count": 134,
   "id": "d37aaa75",
   "metadata": {},
   "outputs": [],
   "source": [
    "rf_results2 = pd.DataFrame(['Random Forest', rf2_train_mse, rf2_train_r2, rf2_test_mse, rf2_test_r2]).transpose()\n",
    "rf_results2.columns = ['Method', 'Training MSE', 'Training R2', 'Test MSE', 'Test R2']"
   ]
  },
  {
   "cell_type": "code",
   "execution_count": 135,
   "id": "afd7e2f7",
   "metadata": {},
   "outputs": [
    {
     "data": {
      "text/html": [
       "<div>\n",
       "<style scoped>\n",
       "    .dataframe tbody tr th:only-of-type {\n",
       "        vertical-align: middle;\n",
       "    }\n",
       "\n",
       "    .dataframe tbody tr th {\n",
       "        vertical-align: top;\n",
       "    }\n",
       "\n",
       "    .dataframe thead th {\n",
       "        text-align: right;\n",
       "    }\n",
       "</style>\n",
       "<table border=\"1\" class=\"dataframe\">\n",
       "  <thead>\n",
       "    <tr style=\"text-align: right;\">\n",
       "      <th></th>\n",
       "      <th>Method</th>\n",
       "      <th>Training MSE</th>\n",
       "      <th>Training R2</th>\n",
       "      <th>Test MSE</th>\n",
       "      <th>Test R2</th>\n",
       "    </tr>\n",
       "  </thead>\n",
       "  <tbody>\n",
       "    <tr>\n",
       "      <th>0</th>\n",
       "      <td>k Nearest Neighbor</td>\n",
       "      <td>0.4091</td>\n",
       "      <td>0.052267</td>\n",
       "      <td>0.402588</td>\n",
       "      <td>-0.077387</td>\n",
       "    </tr>\n",
       "    <tr>\n",
       "      <th>1</th>\n",
       "      <td>SVR</td>\n",
       "      <td>1.091002</td>\n",
       "      <td>-0.111827</td>\n",
       "      <td>1.176758</td>\n",
       "      <td>-0.094596</td>\n",
       "    </tr>\n",
       "    <tr>\n",
       "      <th>2</th>\n",
       "      <td>Random Forest</td>\n",
       "      <td>0.914041</td>\n",
       "      <td>0.053122</td>\n",
       "      <td>1.129268</td>\n",
       "      <td>0.00829</td>\n",
       "    </tr>\n",
       "  </tbody>\n",
       "</table>\n",
       "</div>"
      ],
      "text/plain": [
       "               Method Training MSE Training R2  Test MSE   Test R2\n",
       "0  k Nearest Neighbor       0.4091    0.052267  0.402588 -0.077387\n",
       "1                 SVR     1.091002   -0.111827  1.176758 -0.094596\n",
       "2       Random Forest     0.914041    0.053122  1.129268   0.00829"
      ]
     },
     "execution_count": 135,
     "metadata": {},
     "output_type": "execute_result"
    }
   ],
   "source": [
    "results3 = pd.concat([results3, rf_results2], ignore_index = True)\n",
    "results3"
   ]
  },
  {
   "cell_type": "markdown",
   "id": "b161404b",
   "metadata": {},
   "source": [
    "Random Forest model seems to be the best performing of the trio in this scenario. Still need to do further exploraiton of the interpretation of the R2 value."
   ]
  },
  {
   "cell_type": "code",
   "execution_count": 136,
   "id": "ed81bac2",
   "metadata": {},
   "outputs": [
    {
     "name": "stdout",
     "output_type": "stream",
     "text": [
      "The Random Forest 2 model RMSE is:  1.0626701689560059\n"
     ]
    }
   ],
   "source": [
    "rf2_rmse = sqrt(rf2_test_mse)\n",
    "print('The Random Forest 2 model RMSE is: ', rf2_rmse)"
   ]
  }
 ],
 "metadata": {
  "kernelspec": {
   "display_name": "Python 3 (ipykernel)",
   "language": "python",
   "name": "python3"
  },
  "language_info": {
   "codemirror_mode": {
    "name": "ipython",
    "version": 3
   },
   "file_extension": ".py",
   "mimetype": "text/x-python",
   "name": "python",
   "nbconvert_exporter": "python",
   "pygments_lexer": "ipython3",
   "version": "3.9.5"
  }
 },
 "nbformat": 4,
 "nbformat_minor": 5
}
