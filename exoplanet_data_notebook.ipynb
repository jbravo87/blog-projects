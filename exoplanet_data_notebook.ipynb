{
 "cells": [
  {
   "cell_type": "markdown",
   "id": "cd723823",
   "metadata": {},
   "source": [
    "# Planetary Data Analysis Notebook"
   ]
  },
  {
   "cell_type": "markdown",
   "id": "cb65665e",
   "metadata": {},
   "source": [
    "For the first part of this script, I will solely focus on the kNN supervised learning technique applied to the data pertaining to exoplanets from NASA."
   ]
  },
  {
   "cell_type": "code",
   "execution_count": 2,
   "id": "98ae3dc7",
   "metadata": {},
   "outputs": [],
   "source": [
    "# Import necessary libraries\n",
    "from random import seed\n",
    "from random import randrange\n",
    "import pandas as pd\n",
    "import matplotlib.pyplot as plt\n",
    "import numpy as np\n",
    "import seaborn as sns\n",
    "from scipy import stats"
   ]
  },
  {
   "cell_type": "markdown",
   "id": "833cca76",
   "metadata": {},
   "source": [
    "As a resampling method, will use the train-test-split (tts) method. Will bundle the logic of tts into a function."
   ]
  },
  {
   "cell_type": "code",
   "execution_count": 3,
   "id": "df304929",
   "metadata": {},
   "outputs": [],
   "source": [
    "seed(1235)\n",
    "def tts(data, split = 0.80):\n",
    "    train = list()\n",
    "    train_size = split*len(data)\n",
    "    data_copy = list(data)\n",
    "    while len(train) < train_size :\n",
    "        index = randrange(len(data_copy))\n",
    "        train.append(data_copy.pop(index))\n",
    "    return np.array(train), np.array(data_copy)"
   ]
  },
  {
   "cell_type": "code",
   "execution_count": 4,
   "id": "980eb959",
   "metadata": {},
   "outputs": [],
   "source": [
    "# Assign path of data to a variable.\n",
    "# Initiatiate first data frame with raw data.\n",
    "path = 'J:\\\\datasets\\\\PS_2022.02.27_18.46.12.csv'\n",
    "raw_data = pd.read_csv(path)"
   ]
  },
  {
   "cell_type": "markdown",
   "id": "afef847d",
   "metadata": {},
   "source": [
    "Need to remove the first thirteen rows. These rows contain copious notes/remarks."
   ]
  },
  {
   "cell_type": "code",
   "execution_count": 15,
   "id": "c0d3a1f7",
   "metadata": {},
   "outputs": [],
   "source": [
    "raw_data = raw_data.drop(raw_data.index[range(14)])"
   ]
  },
  {
   "cell_type": "code",
   "execution_count": 16,
   "id": "b616cf02",
   "metadata": {},
   "outputs": [
    {
     "data": {
      "text/plain": [
       "Index(['# This file was produced by the NASA Exoplanet Archive  http://exoplanetarchive.ipac.caltech.edu',\n",
       "       'Unnamed: 1', 'Unnamed: 2', 'Unnamed: 3', 'Unnamed: 4', 'Unnamed: 5',\n",
       "       'Unnamed: 6', 'Unnamed: 7', 'Unnamed: 8'],\n",
       "      dtype='object')"
      ]
     },
     "execution_count": 16,
     "metadata": {},
     "output_type": "execute_result"
    }
   ],
   "source": [
    "raw_data.columns"
   ]
  },
  {
   "cell_type": "markdown",
   "id": "f1bf8439",
   "metadata": {},
   "source": [
    "Notice that the columns are not properly named. Now want to create first data frame with columns of interest."
   ]
  },
  {
   "cell_type": "code",
   "execution_count": 20,
   "id": "3e2c2a40",
   "metadata": {},
   "outputs": [],
   "source": [
    "df1 = raw_data.iloc[:, [0, 1, 5]]\n",
    "df1.reset_index(drop=True, inplace=True)"
   ]
  },
  {
   "cell_type": "code",
   "execution_count": 21,
   "id": "870d4e52",
   "metadata": {},
   "outputs": [
    {
     "data": {
      "text/html": [
       "<div>\n",
       "<style scoped>\n",
       "    .dataframe tbody tr th:only-of-type {\n",
       "        vertical-align: middle;\n",
       "    }\n",
       "\n",
       "    .dataframe tbody tr th {\n",
       "        vertical-align: top;\n",
       "    }\n",
       "\n",
       "    .dataframe thead th {\n",
       "        text-align: right;\n",
       "    }\n",
       "</style>\n",
       "<table border=\"1\" class=\"dataframe\">\n",
       "  <thead>\n",
       "    <tr style=\"text-align: right;\">\n",
       "      <th></th>\n",
       "      <th># This file was produced by the NASA Exoplanet Archive  http://exoplanetarchive.ipac.caltech.edu</th>\n",
       "      <th>Unnamed: 1</th>\n",
       "      <th>Unnamed: 2</th>\n",
       "      <th>Unnamed: 3</th>\n",
       "      <th>Unnamed: 4</th>\n",
       "      <th>Unnamed: 5</th>\n",
       "      <th>Unnamed: 6</th>\n",
       "      <th>Unnamed: 7</th>\n",
       "      <th>Unnamed: 8</th>\n",
       "    </tr>\n",
       "  </thead>\n",
       "  <tbody>\n",
       "    <tr>\n",
       "      <th>98</th>\n",
       "      <td>55 Cnc c</td>\n",
       "      <td>44.373</td>\n",
       "      <td>0.02</td>\n",
       "      <td>-0.018</td>\n",
       "      <td>0</td>\n",
       "      <td>0.072</td>\n",
       "      <td>0.013</td>\n",
       "      <td>-0.014</td>\n",
       "      <td>0</td>\n",
       "    </tr>\n",
       "    <tr>\n",
       "      <th>99</th>\n",
       "      <td>55 Cnc d</td>\n",
       "      <td>4820</td>\n",
       "      <td>77</td>\n",
       "      <td>-72</td>\n",
       "      <td>0</td>\n",
       "      <td>0.139</td>\n",
       "      <td>0.015</td>\n",
       "      <td>-0.016</td>\n",
       "      <td>0</td>\n",
       "    </tr>\n",
       "    <tr>\n",
       "      <th>100</th>\n",
       "      <td>55 Cnc d</td>\n",
       "      <td>5218</td>\n",
       "      <td>230</td>\n",
       "      <td>-230</td>\n",
       "      <td>0</td>\n",
       "      <td>0.025</td>\n",
       "      <td>0.03</td>\n",
       "      <td>-0.03</td>\n",
       "      <td>0</td>\n",
       "    </tr>\n",
       "    <tr>\n",
       "      <th>101</th>\n",
       "      <td>55 Cnc d</td>\n",
       "      <td>4867</td>\n",
       "      <td>25</td>\n",
       "      <td>-26</td>\n",
       "      <td>0</td>\n",
       "      <td>0.0269</td>\n",
       "      <td>0.0061</td>\n",
       "      <td>-0.0065</td>\n",
       "      <td>0</td>\n",
       "    </tr>\n",
       "    <tr>\n",
       "      <th>102</th>\n",
       "      <td>55 Cnc d</td>\n",
       "      <td>4909</td>\n",
       "      <td>30</td>\n",
       "      <td>-30</td>\n",
       "      <td>0</td>\n",
       "      <td>0.02</td>\n",
       "      <td>0.008</td>\n",
       "      <td>-0.008</td>\n",
       "      <td>0</td>\n",
       "    </tr>\n",
       "    <tr>\n",
       "      <th>...</th>\n",
       "      <td>...</td>\n",
       "      <td>...</td>\n",
       "      <td>...</td>\n",
       "      <td>...</td>\n",
       "      <td>...</td>\n",
       "      <td>...</td>\n",
       "      <td>...</td>\n",
       "      <td>...</td>\n",
       "      <td>...</td>\n",
       "    </tr>\n",
       "    <tr>\n",
       "      <th>32126</th>\n",
       "      <td>ups And d</td>\n",
       "      <td>1282.41</td>\n",
       "      <td>0.93</td>\n",
       "      <td>-0.94</td>\n",
       "      <td>0</td>\n",
       "      <td>0.294</td>\n",
       "      <td>0.011</td>\n",
       "      <td>-0.012</td>\n",
       "      <td>0</td>\n",
       "    </tr>\n",
       "    <tr>\n",
       "      <th>32127</th>\n",
       "      <td>ups And d</td>\n",
       "      <td>1281.507</td>\n",
       "      <td>1.055</td>\n",
       "      <td>-1.055</td>\n",
       "      <td>0</td>\n",
       "      <td>0.316</td>\n",
       "      <td>0.006</td>\n",
       "      <td>-0.006</td>\n",
       "      <td>0</td>\n",
       "    </tr>\n",
       "    <tr>\n",
       "      <th>32128</th>\n",
       "      <td>ups Leo b</td>\n",
       "      <td>385.2</td>\n",
       "      <td>2.8</td>\n",
       "      <td>-1.3</td>\n",
       "      <td>0</td>\n",
       "      <td>0.32</td>\n",
       "      <td>0.134</td>\n",
       "      <td>-0.218</td>\n",
       "      <td>0</td>\n",
       "    </tr>\n",
       "    <tr>\n",
       "      <th>32129</th>\n",
       "      <td>xi Aql b</td>\n",
       "      <td>NaN</td>\n",
       "      <td>NaN</td>\n",
       "      <td>NaN</td>\n",
       "      <td>NaN</td>\n",
       "      <td>NaN</td>\n",
       "      <td>NaN</td>\n",
       "      <td>NaN</td>\n",
       "      <td>NaN</td>\n",
       "    </tr>\n",
       "    <tr>\n",
       "      <th>32130</th>\n",
       "      <td>xi Aql b</td>\n",
       "      <td>136.75</td>\n",
       "      <td>0.25</td>\n",
       "      <td>-0.25</td>\n",
       "      <td>0</td>\n",
       "      <td>0</td>\n",
       "      <td>NaN</td>\n",
       "      <td>NaN</td>\n",
       "      <td>0</td>\n",
       "    </tr>\n",
       "  </tbody>\n",
       "</table>\n",
       "<p>32033 rows × 9 columns</p>\n",
       "</div>"
      ],
      "text/plain": [
       "      # This file was produced by the NASA Exoplanet Archive  http://exoplanetarchive.ipac.caltech.edu  \\\n",
       "98                                              55 Cnc c                                                 \n",
       "99                                              55 Cnc d                                                 \n",
       "100                                             55 Cnc d                                                 \n",
       "101                                             55 Cnc d                                                 \n",
       "102                                             55 Cnc d                                                 \n",
       "...                                                  ...                                                 \n",
       "32126                                          ups And d                                                 \n",
       "32127                                          ups And d                                                 \n",
       "32128                                          ups Leo b                                                 \n",
       "32129                                           xi Aql b                                                 \n",
       "32130                                           xi Aql b                                                 \n",
       "\n",
       "      Unnamed: 1 Unnamed: 2 Unnamed: 3 Unnamed: 4 Unnamed: 5 Unnamed: 6  \\\n",
       "98        44.373       0.02     -0.018          0      0.072      0.013   \n",
       "99          4820         77        -72          0      0.139      0.015   \n",
       "100         5218        230       -230          0      0.025       0.03   \n",
       "101         4867         25        -26          0     0.0269     0.0061   \n",
       "102         4909         30        -30          0       0.02      0.008   \n",
       "...          ...        ...        ...        ...        ...        ...   \n",
       "32126    1282.41       0.93      -0.94          0      0.294      0.011   \n",
       "32127   1281.507      1.055     -1.055          0      0.316      0.006   \n",
       "32128      385.2        2.8       -1.3          0       0.32      0.134   \n",
       "32129        NaN        NaN        NaN        NaN        NaN        NaN   \n",
       "32130     136.75       0.25      -0.25          0          0        NaN   \n",
       "\n",
       "      Unnamed: 7 Unnamed: 8  \n",
       "98        -0.014          0  \n",
       "99        -0.016          0  \n",
       "100        -0.03          0  \n",
       "101      -0.0065          0  \n",
       "102       -0.008          0  \n",
       "...          ...        ...  \n",
       "32126     -0.012          0  \n",
       "32127     -0.006          0  \n",
       "32128     -0.218          0  \n",
       "32129        NaN        NaN  \n",
       "32130        NaN          0  \n",
       "\n",
       "[32033 rows x 9 columns]"
      ]
     },
     "execution_count": 21,
     "metadata": {},
     "output_type": "execute_result"
    }
   ],
   "source": [
    "raw_data"
   ]
  }
 ],
 "metadata": {
  "kernelspec": {
   "display_name": "Python 3 (ipykernel)",
   "language": "python",
   "name": "python3"
  },
  "language_info": {
   "codemirror_mode": {
    "name": "ipython",
    "version": 3
   },
   "file_extension": ".py",
   "mimetype": "text/x-python",
   "name": "python",
   "nbconvert_exporter": "python",
   "pygments_lexer": "ipython3",
   "version": "3.9.5"
  }
 },
 "nbformat": 4,
 "nbformat_minor": 5
}
